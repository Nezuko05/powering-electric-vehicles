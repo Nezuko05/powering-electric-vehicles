{
 "cells": [
  {
   "cell_type": "code",
   "execution_count": 1,
   "id": "f58b61d2",
   "metadata": {},
   "outputs": [
    {
     "name": "stdout",
     "output_type": "stream",
     "text": [
      "<class 'pandas.core.frame.DataFrame'>\n",
      "RangeIndex: 1320 entries, 0 to 1319\n",
      "Data columns (total 20 columns):\n",
      " #   Column                                    Non-Null Count  Dtype  \n",
      "---  ------                                    --------------  -----  \n",
      " 0   User ID                                   1320 non-null   object \n",
      " 1   Vehicle Model                             1320 non-null   object \n",
      " 2   Battery Capacity (kWh)                    1320 non-null   float64\n",
      " 3   Charging Station ID                       1320 non-null   object \n",
      " 4   Charging Station Location                 1320 non-null   object \n",
      " 5   Charging Start Time                       1320 non-null   object \n",
      " 6   Charging End Time                         1320 non-null   object \n",
      " 7   Energy Consumed (kWh)                     1320 non-null   float64\n",
      " 8   Charging Duration (hours)                 1320 non-null   float64\n",
      " 9   Charging Rate (kW)                        1320 non-null   float64\n",
      " 10  Charging Cost (USD)                       1320 non-null   float64\n",
      " 11  Time of Day                               1320 non-null   object \n",
      " 12  Day of Week                               1320 non-null   object \n",
      " 13  State of Charge (Start %)                 1320 non-null   float64\n",
      " 14  State of Charge (End %)                   1320 non-null   float64\n",
      " 15  Distance Driven (since last charge) (km)  1320 non-null   float64\n",
      " 16  Temperature (°C)                          1320 non-null   float64\n",
      " 17  Vehicle Age (years)                       1320 non-null   float64\n",
      " 18  Charger Type                              1320 non-null   object \n",
      " 19  User Type                                 1320 non-null   object \n",
      "dtypes: float64(10), object(10)\n",
      "memory usage: 206.4+ KB\n"
     ]
    },
    {
     "name": "stderr",
     "output_type": "stream",
     "text": [
      "C:\\Users\\DELL\\AppData\\Local\\Temp\\ipykernel_2936\\3693531763.py:11: FutureWarning: A value is trying to be set on a copy of a DataFrame or Series through chained assignment using an inplace method.\n",
      "The behavior will change in pandas 3.0. This inplace method will never work because the intermediate object on which we are setting values always behaves as a copy.\n",
      "\n",
      "For example, when doing 'df[col].method(value, inplace=True)', try using 'df.method({col: value}, inplace=True)' or df[col] = df[col].method(value) instead, to perform the operation inplace on the original object.\n",
      "\n",
      "\n",
      "  df['Energy Consumed (kWh)'].fillna(avg_Energyconsumed, inplace=True)\n",
      "C:\\Users\\DELL\\AppData\\Local\\Temp\\ipykernel_2936\\3693531763.py:15: FutureWarning: A value is trying to be set on a copy of a DataFrame or Series through chained assignment using an inplace method.\n",
      "The behavior will change in pandas 3.0. This inplace method will never work because the intermediate object on which we are setting values always behaves as a copy.\n",
      "\n",
      "For example, when doing 'df[col].method(value, inplace=True)', try using 'df.method({col: value}, inplace=True)' or df[col] = df[col].method(value) instead, to perform the operation inplace on the original object.\n",
      "\n",
      "\n",
      "  df['Charging Rate (kW)'].fillna(avg_Chargingrate, inplace=True)\n",
      "C:\\Users\\DELL\\AppData\\Local\\Temp\\ipykernel_2936\\3693531763.py:18: FutureWarning: A value is trying to be set on a copy of a DataFrame or Series through chained assignment using an inplace method.\n",
      "The behavior will change in pandas 3.0. This inplace method will never work because the intermediate object on which we are setting values always behaves as a copy.\n",
      "\n",
      "For example, when doing 'df[col].method(value, inplace=True)', try using 'df.method({col: value}, inplace=True)' or df[col] = df[col].method(value) instead, to perform the operation inplace on the original object.\n",
      "\n",
      "\n",
      "  df['Distance Driven (since last charge) (km)'].fillna(avg_Distancedriven, inplace=True)\n"
     ]
    }
   ],
   "source": [
    "import pandas as pd\n",
    "import numpy as np\n",
    "import seaborn as sns\n",
    "import matplotlib.pyplot as plt\n",
    "import plotly.express as px\n",
    "\n",
    "\n",
    "df = pd.read_csv(r\"C:\\Users\\DELL\\Desktop\\PROJECT\\ev_charging_patterns dataset.csv\")\n",
    "\n",
    "avg_Energyconsumed=round(df['Energy Consumed (kWh)'].mean())\n",
    "df['Energy Consumed (kWh)'].fillna(avg_Energyconsumed, inplace=True)\n",
    "\n",
    "\n",
    "avg_Chargingrate=round(df['Charging Rate (kW)'].mean())\n",
    "df['Charging Rate (kW)'].fillna(avg_Chargingrate, inplace=True)\n",
    "\n",
    "avg_Distancedriven=round(df['Distance Driven (since last charge) (km)'].mean())\n",
    "df['Distance Driven (since last charge) (km)'].fillna(avg_Distancedriven, inplace=True)\n",
    "\n",
    "df.info()"
   ]
  },
  {
   "cell_type": "code",
   "execution_count": 2,
   "id": "6e0f527e",
   "metadata": {},
   "outputs": [
    {
     "data": {
      "application/vnd.plotly.v1+json": {
       "config": {
        "plotlyServerURL": "https://plot.ly"
       },
       "data": [
        {
         "hovertemplate": "Hour of Day=%{x}<br>Average Energy Consumed (kWh)=%{y}<extra></extra>",
         "legendgroup": "",
         "line": {
          "color": "#636efa",
          "dash": "solid"
         },
         "marker": {
          "symbol": "circle"
         },
         "mode": "lines",
         "name": "",
         "orientation": "v",
         "showlegend": false,
         "type": "scatter",
         "x": {
          "bdata": "AAAAAAEAAAACAAAAAwAAAAQAAAAFAAAABgAAAAcAAAAIAAAACQAAAAoAAAALAAAADAAAAA0AAAAOAAAADwAAABAAAAARAAAAEgAAABMAAAAUAAAAFQAAABYAAAAXAAAA",
          "dtype": "i4"
         },
         "xaxis": "x",
         "y": {
          "bdata": "FoH5TixqREB75V6LWItDQE1J/O9LB0dAQStI04udRUAVhEbkGU9HQICf9zHucENAYcjP1sL6REAvC0WlRD9CQCa+K9IwUUVA/jRGnHW/RkCCf31+L/JFQF3dAnj9S0VAk4RJJmtXREBGhaQmPptGQImFOk9hbEVA0XHRXDpXRUD7EglR/JdFQEJunGl9PUVA0y7W2vfFRUDpE3Ca6wxFQGy2Z/6MTUZA81/yV5SIREDrKXfm0MVFQCYFyZr+D0ZA",
          "dtype": "f8"
         },
         "yaxis": "y"
        }
       ],
       "layout": {
        "legend": {
         "tracegroupgap": 0
        },
        "template": {
         "data": {
          "bar": [
           {
            "error_x": {
             "color": "#f2f5fa"
            },
            "error_y": {
             "color": "#f2f5fa"
            },
            "marker": {
             "line": {
              "color": "rgb(17,17,17)",
              "width": 0.5
             },
             "pattern": {
              "fillmode": "overlay",
              "size": 10,
              "solidity": 0.2
             }
            },
            "type": "bar"
           }
          ],
          "barpolar": [
           {
            "marker": {
             "line": {
              "color": "rgb(17,17,17)",
              "width": 0.5
             },
             "pattern": {
              "fillmode": "overlay",
              "size": 10,
              "solidity": 0.2
             }
            },
            "type": "barpolar"
           }
          ],
          "carpet": [
           {
            "aaxis": {
             "endlinecolor": "#A2B1C6",
             "gridcolor": "#506784",
             "linecolor": "#506784",
             "minorgridcolor": "#506784",
             "startlinecolor": "#A2B1C6"
            },
            "baxis": {
             "endlinecolor": "#A2B1C6",
             "gridcolor": "#506784",
             "linecolor": "#506784",
             "minorgridcolor": "#506784",
             "startlinecolor": "#A2B1C6"
            },
            "type": "carpet"
           }
          ],
          "choropleth": [
           {
            "colorbar": {
             "outlinewidth": 0,
             "ticks": ""
            },
            "type": "choropleth"
           }
          ],
          "contour": [
           {
            "colorbar": {
             "outlinewidth": 0,
             "ticks": ""
            },
            "colorscale": [
             [
              0,
              "#0d0887"
             ],
             [
              0.1111111111111111,
              "#46039f"
             ],
             [
              0.2222222222222222,
              "#7201a8"
             ],
             [
              0.3333333333333333,
              "#9c179e"
             ],
             [
              0.4444444444444444,
              "#bd3786"
             ],
             [
              0.5555555555555556,
              "#d8576b"
             ],
             [
              0.6666666666666666,
              "#ed7953"
             ],
             [
              0.7777777777777778,
              "#fb9f3a"
             ],
             [
              0.8888888888888888,
              "#fdca26"
             ],
             [
              1,
              "#f0f921"
             ]
            ],
            "type": "contour"
           }
          ],
          "contourcarpet": [
           {
            "colorbar": {
             "outlinewidth": 0,
             "ticks": ""
            },
            "type": "contourcarpet"
           }
          ],
          "heatmap": [
           {
            "colorbar": {
             "outlinewidth": 0,
             "ticks": ""
            },
            "colorscale": [
             [
              0,
              "#0d0887"
             ],
             [
              0.1111111111111111,
              "#46039f"
             ],
             [
              0.2222222222222222,
              "#7201a8"
             ],
             [
              0.3333333333333333,
              "#9c179e"
             ],
             [
              0.4444444444444444,
              "#bd3786"
             ],
             [
              0.5555555555555556,
              "#d8576b"
             ],
             [
              0.6666666666666666,
              "#ed7953"
             ],
             [
              0.7777777777777778,
              "#fb9f3a"
             ],
             [
              0.8888888888888888,
              "#fdca26"
             ],
             [
              1,
              "#f0f921"
             ]
            ],
            "type": "heatmap"
           }
          ],
          "histogram": [
           {
            "marker": {
             "pattern": {
              "fillmode": "overlay",
              "size": 10,
              "solidity": 0.2
             }
            },
            "type": "histogram"
           }
          ],
          "histogram2d": [
           {
            "colorbar": {
             "outlinewidth": 0,
             "ticks": ""
            },
            "colorscale": [
             [
              0,
              "#0d0887"
             ],
             [
              0.1111111111111111,
              "#46039f"
             ],
             [
              0.2222222222222222,
              "#7201a8"
             ],
             [
              0.3333333333333333,
              "#9c179e"
             ],
             [
              0.4444444444444444,
              "#bd3786"
             ],
             [
              0.5555555555555556,
              "#d8576b"
             ],
             [
              0.6666666666666666,
              "#ed7953"
             ],
             [
              0.7777777777777778,
              "#fb9f3a"
             ],
             [
              0.8888888888888888,
              "#fdca26"
             ],
             [
              1,
              "#f0f921"
             ]
            ],
            "type": "histogram2d"
           }
          ],
          "histogram2dcontour": [
           {
            "colorbar": {
             "outlinewidth": 0,
             "ticks": ""
            },
            "colorscale": [
             [
              0,
              "#0d0887"
             ],
             [
              0.1111111111111111,
              "#46039f"
             ],
             [
              0.2222222222222222,
              "#7201a8"
             ],
             [
              0.3333333333333333,
              "#9c179e"
             ],
             [
              0.4444444444444444,
              "#bd3786"
             ],
             [
              0.5555555555555556,
              "#d8576b"
             ],
             [
              0.6666666666666666,
              "#ed7953"
             ],
             [
              0.7777777777777778,
              "#fb9f3a"
             ],
             [
              0.8888888888888888,
              "#fdca26"
             ],
             [
              1,
              "#f0f921"
             ]
            ],
            "type": "histogram2dcontour"
           }
          ],
          "mesh3d": [
           {
            "colorbar": {
             "outlinewidth": 0,
             "ticks": ""
            },
            "type": "mesh3d"
           }
          ],
          "parcoords": [
           {
            "line": {
             "colorbar": {
              "outlinewidth": 0,
              "ticks": ""
             }
            },
            "type": "parcoords"
           }
          ],
          "pie": [
           {
            "automargin": true,
            "type": "pie"
           }
          ],
          "scatter": [
           {
            "marker": {
             "line": {
              "color": "#283442"
             }
            },
            "type": "scatter"
           }
          ],
          "scatter3d": [
           {
            "line": {
             "colorbar": {
              "outlinewidth": 0,
              "ticks": ""
             }
            },
            "marker": {
             "colorbar": {
              "outlinewidth": 0,
              "ticks": ""
             }
            },
            "type": "scatter3d"
           }
          ],
          "scattercarpet": [
           {
            "marker": {
             "colorbar": {
              "outlinewidth": 0,
              "ticks": ""
             }
            },
            "type": "scattercarpet"
           }
          ],
          "scattergeo": [
           {
            "marker": {
             "colorbar": {
              "outlinewidth": 0,
              "ticks": ""
             }
            },
            "type": "scattergeo"
           }
          ],
          "scattergl": [
           {
            "marker": {
             "line": {
              "color": "#283442"
             }
            },
            "type": "scattergl"
           }
          ],
          "scattermap": [
           {
            "marker": {
             "colorbar": {
              "outlinewidth": 0,
              "ticks": ""
             }
            },
            "type": "scattermap"
           }
          ],
          "scattermapbox": [
           {
            "marker": {
             "colorbar": {
              "outlinewidth": 0,
              "ticks": ""
             }
            },
            "type": "scattermapbox"
           }
          ],
          "scatterpolar": [
           {
            "marker": {
             "colorbar": {
              "outlinewidth": 0,
              "ticks": ""
             }
            },
            "type": "scatterpolar"
           }
          ],
          "scatterpolargl": [
           {
            "marker": {
             "colorbar": {
              "outlinewidth": 0,
              "ticks": ""
             }
            },
            "type": "scatterpolargl"
           }
          ],
          "scatterternary": [
           {
            "marker": {
             "colorbar": {
              "outlinewidth": 0,
              "ticks": ""
             }
            },
            "type": "scatterternary"
           }
          ],
          "surface": [
           {
            "colorbar": {
             "outlinewidth": 0,
             "ticks": ""
            },
            "colorscale": [
             [
              0,
              "#0d0887"
             ],
             [
              0.1111111111111111,
              "#46039f"
             ],
             [
              0.2222222222222222,
              "#7201a8"
             ],
             [
              0.3333333333333333,
              "#9c179e"
             ],
             [
              0.4444444444444444,
              "#bd3786"
             ],
             [
              0.5555555555555556,
              "#d8576b"
             ],
             [
              0.6666666666666666,
              "#ed7953"
             ],
             [
              0.7777777777777778,
              "#fb9f3a"
             ],
             [
              0.8888888888888888,
              "#fdca26"
             ],
             [
              1,
              "#f0f921"
             ]
            ],
            "type": "surface"
           }
          ],
          "table": [
           {
            "cells": {
             "fill": {
              "color": "#506784"
             },
             "line": {
              "color": "rgb(17,17,17)"
             }
            },
            "header": {
             "fill": {
              "color": "#2a3f5f"
             },
             "line": {
              "color": "rgb(17,17,17)"
             }
            },
            "type": "table"
           }
          ]
         },
         "layout": {
          "annotationdefaults": {
           "arrowcolor": "#f2f5fa",
           "arrowhead": 0,
           "arrowwidth": 1
          },
          "autotypenumbers": "strict",
          "coloraxis": {
           "colorbar": {
            "outlinewidth": 0,
            "ticks": ""
           }
          },
          "colorscale": {
           "diverging": [
            [
             0,
             "#8e0152"
            ],
            [
             0.1,
             "#c51b7d"
            ],
            [
             0.2,
             "#de77ae"
            ],
            [
             0.3,
             "#f1b6da"
            ],
            [
             0.4,
             "#fde0ef"
            ],
            [
             0.5,
             "#f7f7f7"
            ],
            [
             0.6,
             "#e6f5d0"
            ],
            [
             0.7,
             "#b8e186"
            ],
            [
             0.8,
             "#7fbc41"
            ],
            [
             0.9,
             "#4d9221"
            ],
            [
             1,
             "#276419"
            ]
           ],
           "sequential": [
            [
             0,
             "#0d0887"
            ],
            [
             0.1111111111111111,
             "#46039f"
            ],
            [
             0.2222222222222222,
             "#7201a8"
            ],
            [
             0.3333333333333333,
             "#9c179e"
            ],
            [
             0.4444444444444444,
             "#bd3786"
            ],
            [
             0.5555555555555556,
             "#d8576b"
            ],
            [
             0.6666666666666666,
             "#ed7953"
            ],
            [
             0.7777777777777778,
             "#fb9f3a"
            ],
            [
             0.8888888888888888,
             "#fdca26"
            ],
            [
             1,
             "#f0f921"
            ]
           ],
           "sequentialminus": [
            [
             0,
             "#0d0887"
            ],
            [
             0.1111111111111111,
             "#46039f"
            ],
            [
             0.2222222222222222,
             "#7201a8"
            ],
            [
             0.3333333333333333,
             "#9c179e"
            ],
            [
             0.4444444444444444,
             "#bd3786"
            ],
            [
             0.5555555555555556,
             "#d8576b"
            ],
            [
             0.6666666666666666,
             "#ed7953"
            ],
            [
             0.7777777777777778,
             "#fb9f3a"
            ],
            [
             0.8888888888888888,
             "#fdca26"
            ],
            [
             1,
             "#f0f921"
            ]
           ]
          },
          "colorway": [
           "#636efa",
           "#EF553B",
           "#00cc96",
           "#ab63fa",
           "#FFA15A",
           "#19d3f3",
           "#FF6692",
           "#B6E880",
           "#FF97FF",
           "#FECB52"
          ],
          "font": {
           "color": "#f2f5fa"
          },
          "geo": {
           "bgcolor": "rgb(17,17,17)",
           "lakecolor": "rgb(17,17,17)",
           "landcolor": "rgb(17,17,17)",
           "showlakes": true,
           "showland": true,
           "subunitcolor": "#506784"
          },
          "hoverlabel": {
           "align": "left"
          },
          "hovermode": "closest",
          "mapbox": {
           "style": "dark"
          },
          "paper_bgcolor": "rgb(17,17,17)",
          "plot_bgcolor": "rgb(17,17,17)",
          "polar": {
           "angularaxis": {
            "gridcolor": "#506784",
            "linecolor": "#506784",
            "ticks": ""
           },
           "bgcolor": "rgb(17,17,17)",
           "radialaxis": {
            "gridcolor": "#506784",
            "linecolor": "#506784",
            "ticks": ""
           }
          },
          "scene": {
           "xaxis": {
            "backgroundcolor": "rgb(17,17,17)",
            "gridcolor": "#506784",
            "gridwidth": 2,
            "linecolor": "#506784",
            "showbackground": true,
            "ticks": "",
            "zerolinecolor": "#C8D4E3"
           },
           "yaxis": {
            "backgroundcolor": "rgb(17,17,17)",
            "gridcolor": "#506784",
            "gridwidth": 2,
            "linecolor": "#506784",
            "showbackground": true,
            "ticks": "",
            "zerolinecolor": "#C8D4E3"
           },
           "zaxis": {
            "backgroundcolor": "rgb(17,17,17)",
            "gridcolor": "#506784",
            "gridwidth": 2,
            "linecolor": "#506784",
            "showbackground": true,
            "ticks": "",
            "zerolinecolor": "#C8D4E3"
           }
          },
          "shapedefaults": {
           "line": {
            "color": "#f2f5fa"
           }
          },
          "sliderdefaults": {
           "bgcolor": "#C8D4E3",
           "bordercolor": "rgb(17,17,17)",
           "borderwidth": 1,
           "tickwidth": 0
          },
          "ternary": {
           "aaxis": {
            "gridcolor": "#506784",
            "linecolor": "#506784",
            "ticks": ""
           },
           "baxis": {
            "gridcolor": "#506784",
            "linecolor": "#506784",
            "ticks": ""
           },
           "bgcolor": "rgb(17,17,17)",
           "caxis": {
            "gridcolor": "#506784",
            "linecolor": "#506784",
            "ticks": ""
           }
          },
          "title": {
           "x": 0.05
          },
          "updatemenudefaults": {
           "bgcolor": "#506784",
           "borderwidth": 0
          },
          "xaxis": {
           "automargin": true,
           "gridcolor": "#283442",
           "linecolor": "#506784",
           "ticks": "",
           "title": {
            "standoff": 15
           },
           "zerolinecolor": "#283442",
           "zerolinewidth": 2
          },
          "yaxis": {
           "automargin": true,
           "gridcolor": "#283442",
           "linecolor": "#506784",
           "ticks": "",
           "title": {
            "standoff": 15
           },
           "zerolinecolor": "#283442",
           "zerolinewidth": 2
          }
         }
        },
        "title": {
         "text": "Average Energy Consumption by Hour of Day"
        },
        "xaxis": {
         "anchor": "y",
         "domain": [
          0,
          1
         ],
         "title": {
          "text": "Hour of Day"
         }
        },
        "yaxis": {
         "anchor": "x",
         "domain": [
          0,
          1
         ],
         "title": {
          "text": "Average Energy Consumed (kWh)"
         }
        }
       }
      }
     },
     "metadata": {},
     "output_type": "display_data"
    }
   ],
   "source": [
    "# Ensure the 'Hour of Day' column exists and is extracted from a datetime column if necessary\n",
    "if 'Hour of Day' not in df.columns:\n",
    "    df['Hour of Day'] = pd.to_datetime(df['Charging Start Time']).dt.hour  # Using 'Charging Start Time' as the datetime column\n",
    "\n",
    "# Group by 'Hour of Day' and calculate the average energy consumption\n",
    "avg_energy_by_hour = df.groupby('Hour of Day')['Energy Consumed (kWh)'].mean().reset_index()\n",
    "\n",
    "# Create a Plotly line chart\n",
    "fig = px.line(avg_energy_by_hour, x='Hour of Day', y='Energy Consumed (kWh)', \n",
    "              title='Average Energy Consumption by Hour of Day',\n",
    "              labels={'Energy Consumed (kWh)': 'Average Energy Consumed (kWh)', 'Hour of Day': 'Hour of Day'},template='plotly_dark')\n",
    "\n",
    "fig.show()"
   ]
  },
  {
   "cell_type": "code",
   "execution_count": 3,
   "id": "0842cc7f",
   "metadata": {},
   "outputs": [
    {
     "data": {
      "application/vnd.plotly.v1+json": {
       "config": {
        "plotlyServerURL": "https://plot.ly"
       },
       "data": [
        {
         "hovertemplate": "Day of Week=%{x}<br>Number of Charging Sessions=%{text}<extra></extra>",
         "legendgroup": "",
         "marker": {
          "color": "#636efa",
          "pattern": {
           "shape": ""
          }
         },
         "name": "",
         "orientation": "v",
         "showlegend": false,
         "text": {
          "bdata": "AAAAAACgaUAAAAAAAABpQAAAAAAAoGhAAAAAAADgZ0AAAAAAAIBnQAAAAAAAIGdAAAAAAABAY0A=",
          "dtype": "f8"
         },
         "textposition": "outside",
         "type": "bar",
         "x": [
          "Saturday",
          "Tuesday",
          "Wednesday",
          "Sunday",
          "Friday",
          "Monday",
          "Thursday"
         ],
         "xaxis": "x",
         "y": {
          "bdata": "zQDIAMUAvwC8ALkAmgA=",
          "dtype": "i2"
         },
         "yaxis": "y"
        }
       ],
       "layout": {
        "barmode": "relative",
        "legend": {
         "tracegroupgap": 0
        },
        "template": {
         "data": {
          "bar": [
           {
            "error_x": {
             "color": "#f2f5fa"
            },
            "error_y": {
             "color": "#f2f5fa"
            },
            "marker": {
             "line": {
              "color": "rgb(17,17,17)",
              "width": 0.5
             },
             "pattern": {
              "fillmode": "overlay",
              "size": 10,
              "solidity": 0.2
             }
            },
            "type": "bar"
           }
          ],
          "barpolar": [
           {
            "marker": {
             "line": {
              "color": "rgb(17,17,17)",
              "width": 0.5
             },
             "pattern": {
              "fillmode": "overlay",
              "size": 10,
              "solidity": 0.2
             }
            },
            "type": "barpolar"
           }
          ],
          "carpet": [
           {
            "aaxis": {
             "endlinecolor": "#A2B1C6",
             "gridcolor": "#506784",
             "linecolor": "#506784",
             "minorgridcolor": "#506784",
             "startlinecolor": "#A2B1C6"
            },
            "baxis": {
             "endlinecolor": "#A2B1C6",
             "gridcolor": "#506784",
             "linecolor": "#506784",
             "minorgridcolor": "#506784",
             "startlinecolor": "#A2B1C6"
            },
            "type": "carpet"
           }
          ],
          "choropleth": [
           {
            "colorbar": {
             "outlinewidth": 0,
             "ticks": ""
            },
            "type": "choropleth"
           }
          ],
          "contour": [
           {
            "colorbar": {
             "outlinewidth": 0,
             "ticks": ""
            },
            "colorscale": [
             [
              0,
              "#0d0887"
             ],
             [
              0.1111111111111111,
              "#46039f"
             ],
             [
              0.2222222222222222,
              "#7201a8"
             ],
             [
              0.3333333333333333,
              "#9c179e"
             ],
             [
              0.4444444444444444,
              "#bd3786"
             ],
             [
              0.5555555555555556,
              "#d8576b"
             ],
             [
              0.6666666666666666,
              "#ed7953"
             ],
             [
              0.7777777777777778,
              "#fb9f3a"
             ],
             [
              0.8888888888888888,
              "#fdca26"
             ],
             [
              1,
              "#f0f921"
             ]
            ],
            "type": "contour"
           }
          ],
          "contourcarpet": [
           {
            "colorbar": {
             "outlinewidth": 0,
             "ticks": ""
            },
            "type": "contourcarpet"
           }
          ],
          "heatmap": [
           {
            "colorbar": {
             "outlinewidth": 0,
             "ticks": ""
            },
            "colorscale": [
             [
              0,
              "#0d0887"
             ],
             [
              0.1111111111111111,
              "#46039f"
             ],
             [
              0.2222222222222222,
              "#7201a8"
             ],
             [
              0.3333333333333333,
              "#9c179e"
             ],
             [
              0.4444444444444444,
              "#bd3786"
             ],
             [
              0.5555555555555556,
              "#d8576b"
             ],
             [
              0.6666666666666666,
              "#ed7953"
             ],
             [
              0.7777777777777778,
              "#fb9f3a"
             ],
             [
              0.8888888888888888,
              "#fdca26"
             ],
             [
              1,
              "#f0f921"
             ]
            ],
            "type": "heatmap"
           }
          ],
          "histogram": [
           {
            "marker": {
             "pattern": {
              "fillmode": "overlay",
              "size": 10,
              "solidity": 0.2
             }
            },
            "type": "histogram"
           }
          ],
          "histogram2d": [
           {
            "colorbar": {
             "outlinewidth": 0,
             "ticks": ""
            },
            "colorscale": [
             [
              0,
              "#0d0887"
             ],
             [
              0.1111111111111111,
              "#46039f"
             ],
             [
              0.2222222222222222,
              "#7201a8"
             ],
             [
              0.3333333333333333,
              "#9c179e"
             ],
             [
              0.4444444444444444,
              "#bd3786"
             ],
             [
              0.5555555555555556,
              "#d8576b"
             ],
             [
              0.6666666666666666,
              "#ed7953"
             ],
             [
              0.7777777777777778,
              "#fb9f3a"
             ],
             [
              0.8888888888888888,
              "#fdca26"
             ],
             [
              1,
              "#f0f921"
             ]
            ],
            "type": "histogram2d"
           }
          ],
          "histogram2dcontour": [
           {
            "colorbar": {
             "outlinewidth": 0,
             "ticks": ""
            },
            "colorscale": [
             [
              0,
              "#0d0887"
             ],
             [
              0.1111111111111111,
              "#46039f"
             ],
             [
              0.2222222222222222,
              "#7201a8"
             ],
             [
              0.3333333333333333,
              "#9c179e"
             ],
             [
              0.4444444444444444,
              "#bd3786"
             ],
             [
              0.5555555555555556,
              "#d8576b"
             ],
             [
              0.6666666666666666,
              "#ed7953"
             ],
             [
              0.7777777777777778,
              "#fb9f3a"
             ],
             [
              0.8888888888888888,
              "#fdca26"
             ],
             [
              1,
              "#f0f921"
             ]
            ],
            "type": "histogram2dcontour"
           }
          ],
          "mesh3d": [
           {
            "colorbar": {
             "outlinewidth": 0,
             "ticks": ""
            },
            "type": "mesh3d"
           }
          ],
          "parcoords": [
           {
            "line": {
             "colorbar": {
              "outlinewidth": 0,
              "ticks": ""
             }
            },
            "type": "parcoords"
           }
          ],
          "pie": [
           {
            "automargin": true,
            "type": "pie"
           }
          ],
          "scatter": [
           {
            "marker": {
             "line": {
              "color": "#283442"
             }
            },
            "type": "scatter"
           }
          ],
          "scatter3d": [
           {
            "line": {
             "colorbar": {
              "outlinewidth": 0,
              "ticks": ""
             }
            },
            "marker": {
             "colorbar": {
              "outlinewidth": 0,
              "ticks": ""
             }
            },
            "type": "scatter3d"
           }
          ],
          "scattercarpet": [
           {
            "marker": {
             "colorbar": {
              "outlinewidth": 0,
              "ticks": ""
             }
            },
            "type": "scattercarpet"
           }
          ],
          "scattergeo": [
           {
            "marker": {
             "colorbar": {
              "outlinewidth": 0,
              "ticks": ""
             }
            },
            "type": "scattergeo"
           }
          ],
          "scattergl": [
           {
            "marker": {
             "line": {
              "color": "#283442"
             }
            },
            "type": "scattergl"
           }
          ],
          "scattermap": [
           {
            "marker": {
             "colorbar": {
              "outlinewidth": 0,
              "ticks": ""
             }
            },
            "type": "scattermap"
           }
          ],
          "scattermapbox": [
           {
            "marker": {
             "colorbar": {
              "outlinewidth": 0,
              "ticks": ""
             }
            },
            "type": "scattermapbox"
           }
          ],
          "scatterpolar": [
           {
            "marker": {
             "colorbar": {
              "outlinewidth": 0,
              "ticks": ""
             }
            },
            "type": "scatterpolar"
           }
          ],
          "scatterpolargl": [
           {
            "marker": {
             "colorbar": {
              "outlinewidth": 0,
              "ticks": ""
             }
            },
            "type": "scatterpolargl"
           }
          ],
          "scatterternary": [
           {
            "marker": {
             "colorbar": {
              "outlinewidth": 0,
              "ticks": ""
             }
            },
            "type": "scatterternary"
           }
          ],
          "surface": [
           {
            "colorbar": {
             "outlinewidth": 0,
             "ticks": ""
            },
            "colorscale": [
             [
              0,
              "#0d0887"
             ],
             [
              0.1111111111111111,
              "#46039f"
             ],
             [
              0.2222222222222222,
              "#7201a8"
             ],
             [
              0.3333333333333333,
              "#9c179e"
             ],
             [
              0.4444444444444444,
              "#bd3786"
             ],
             [
              0.5555555555555556,
              "#d8576b"
             ],
             [
              0.6666666666666666,
              "#ed7953"
             ],
             [
              0.7777777777777778,
              "#fb9f3a"
             ],
             [
              0.8888888888888888,
              "#fdca26"
             ],
             [
              1,
              "#f0f921"
             ]
            ],
            "type": "surface"
           }
          ],
          "table": [
           {
            "cells": {
             "fill": {
              "color": "#506784"
             },
             "line": {
              "color": "rgb(17,17,17)"
             }
            },
            "header": {
             "fill": {
              "color": "#2a3f5f"
             },
             "line": {
              "color": "rgb(17,17,17)"
             }
            },
            "type": "table"
           }
          ]
         },
         "layout": {
          "annotationdefaults": {
           "arrowcolor": "#f2f5fa",
           "arrowhead": 0,
           "arrowwidth": 1
          },
          "autotypenumbers": "strict",
          "coloraxis": {
           "colorbar": {
            "outlinewidth": 0,
            "ticks": ""
           }
          },
          "colorscale": {
           "diverging": [
            [
             0,
             "#8e0152"
            ],
            [
             0.1,
             "#c51b7d"
            ],
            [
             0.2,
             "#de77ae"
            ],
            [
             0.3,
             "#f1b6da"
            ],
            [
             0.4,
             "#fde0ef"
            ],
            [
             0.5,
             "#f7f7f7"
            ],
            [
             0.6,
             "#e6f5d0"
            ],
            [
             0.7,
             "#b8e186"
            ],
            [
             0.8,
             "#7fbc41"
            ],
            [
             0.9,
             "#4d9221"
            ],
            [
             1,
             "#276419"
            ]
           ],
           "sequential": [
            [
             0,
             "#0d0887"
            ],
            [
             0.1111111111111111,
             "#46039f"
            ],
            [
             0.2222222222222222,
             "#7201a8"
            ],
            [
             0.3333333333333333,
             "#9c179e"
            ],
            [
             0.4444444444444444,
             "#bd3786"
            ],
            [
             0.5555555555555556,
             "#d8576b"
            ],
            [
             0.6666666666666666,
             "#ed7953"
            ],
            [
             0.7777777777777778,
             "#fb9f3a"
            ],
            [
             0.8888888888888888,
             "#fdca26"
            ],
            [
             1,
             "#f0f921"
            ]
           ],
           "sequentialminus": [
            [
             0,
             "#0d0887"
            ],
            [
             0.1111111111111111,
             "#46039f"
            ],
            [
             0.2222222222222222,
             "#7201a8"
            ],
            [
             0.3333333333333333,
             "#9c179e"
            ],
            [
             0.4444444444444444,
             "#bd3786"
            ],
            [
             0.5555555555555556,
             "#d8576b"
            ],
            [
             0.6666666666666666,
             "#ed7953"
            ],
            [
             0.7777777777777778,
             "#fb9f3a"
            ],
            [
             0.8888888888888888,
             "#fdca26"
            ],
            [
             1,
             "#f0f921"
            ]
           ]
          },
          "colorway": [
           "#636efa",
           "#EF553B",
           "#00cc96",
           "#ab63fa",
           "#FFA15A",
           "#19d3f3",
           "#FF6692",
           "#B6E880",
           "#FF97FF",
           "#FECB52"
          ],
          "font": {
           "color": "#f2f5fa"
          },
          "geo": {
           "bgcolor": "rgb(17,17,17)",
           "lakecolor": "rgb(17,17,17)",
           "landcolor": "rgb(17,17,17)",
           "showlakes": true,
           "showland": true,
           "subunitcolor": "#506784"
          },
          "hoverlabel": {
           "align": "left"
          },
          "hovermode": "closest",
          "mapbox": {
           "style": "dark"
          },
          "paper_bgcolor": "rgb(17,17,17)",
          "plot_bgcolor": "rgb(17,17,17)",
          "polar": {
           "angularaxis": {
            "gridcolor": "#506784",
            "linecolor": "#506784",
            "ticks": ""
           },
           "bgcolor": "rgb(17,17,17)",
           "radialaxis": {
            "gridcolor": "#506784",
            "linecolor": "#506784",
            "ticks": ""
           }
          },
          "scene": {
           "xaxis": {
            "backgroundcolor": "rgb(17,17,17)",
            "gridcolor": "#506784",
            "gridwidth": 2,
            "linecolor": "#506784",
            "showbackground": true,
            "ticks": "",
            "zerolinecolor": "#C8D4E3"
           },
           "yaxis": {
            "backgroundcolor": "rgb(17,17,17)",
            "gridcolor": "#506784",
            "gridwidth": 2,
            "linecolor": "#506784",
            "showbackground": true,
            "ticks": "",
            "zerolinecolor": "#C8D4E3"
           },
           "zaxis": {
            "backgroundcolor": "rgb(17,17,17)",
            "gridcolor": "#506784",
            "gridwidth": 2,
            "linecolor": "#506784",
            "showbackground": true,
            "ticks": "",
            "zerolinecolor": "#C8D4E3"
           }
          },
          "shapedefaults": {
           "line": {
            "color": "#f2f5fa"
           }
          },
          "sliderdefaults": {
           "bgcolor": "#C8D4E3",
           "bordercolor": "rgb(17,17,17)",
           "borderwidth": 1,
           "tickwidth": 0
          },
          "ternary": {
           "aaxis": {
            "gridcolor": "#506784",
            "linecolor": "#506784",
            "ticks": ""
           },
           "baxis": {
            "gridcolor": "#506784",
            "linecolor": "#506784",
            "ticks": ""
           },
           "bgcolor": "rgb(17,17,17)",
           "caxis": {
            "gridcolor": "#506784",
            "linecolor": "#506784",
            "ticks": ""
           }
          },
          "title": {
           "x": 0.05
          },
          "updatemenudefaults": {
           "bgcolor": "#506784",
           "borderwidth": 0
          },
          "xaxis": {
           "automargin": true,
           "gridcolor": "#283442",
           "linecolor": "#506784",
           "ticks": "",
           "title": {
            "standoff": 15
           },
           "zerolinecolor": "#283442",
           "zerolinewidth": 2
          },
          "yaxis": {
           "automargin": true,
           "gridcolor": "#283442",
           "linecolor": "#506784",
           "ticks": "",
           "title": {
            "standoff": 15
           },
           "zerolinecolor": "#283442",
           "zerolinewidth": 2
          }
         }
        },
        "title": {
         "text": "Charging Sessions per Day of Week"
        },
        "xaxis": {
         "anchor": "y",
         "domain": [
          0,
          1
         ],
         "title": {
          "text": "Day of Week"
         }
        },
        "yaxis": {
         "anchor": "x",
         "domain": [
          0,
          1
         ],
         "title": {
          "text": "Number of Charging Sessions"
         }
        }
       }
      }
     },
     "metadata": {},
     "output_type": "display_data"
    }
   ],
   "source": [
    "# Count the number of charging sessions per day of the week\n",
    "charging_sessions_per_day = df['Day of Week'].value_counts().reset_index()\n",
    "charging_sessions_per_day.columns = ['Day of Week', 'Charging Sessions']\n",
    "\n",
    "# Create a Plotly bar chart\n",
    "fig_bar = px.bar(charging_sessions_per_day, x='Day of Week', y='Charging Sessions',\n",
    "                 title='Charging Sessions per Day of Week',\n",
    "                 labels={'Day of Week': 'Day of Week', 'Charging Sessions': 'Number of Charging Sessions'},\n",
    "                 text='Charging Sessions',template='plotly_dark')\n",
    "\n",
    "fig_bar.update_traces(textposition='outside')\n",
    "fig_bar.show()"
   ]
  },
  {
   "cell_type": "code",
   "execution_count": 4,
   "id": "dc8b42ff",
   "metadata": {},
   "outputs": [
    {
     "data": {
      "application/vnd.plotly.v1+json": {
       "config": {
        "plotlyServerURL": "https://plot.ly"
       },
       "data": [
        {
         "alignmentgroup": "True",
         "box": {
          "visible": true
         },
         "hovertemplate": "Time of Day=%{x}<br>Temperature (°C)=%{y}<extra></extra>",
         "legendgroup": "",
         "marker": {
          "color": "#636efa"
         },
         "name": "",
         "offsetgroup": "",
         "orientation": "v",
         "points": "all",
         "scalegroup": "True",
         "showlegend": false,
         "type": "violin",
         "x": [
          "Evening",
          "Morning",
          "Morning",
          "Evening",
          "Morning",
          "Evening",
          "Evening",
          "Afternoon",
          "Evening",
          "Morning",
          "Night",
          "Evening",
          "Afternoon",
          "Morning",
          "Afternoon",
          "Evening",
          "Evening",
          "Evening",
          "Evening",
          "Morning",
          "Night",
          "Evening",
          "Afternoon",
          "Morning",
          "Morning",
          "Morning",
          "Afternoon",
          "Night",
          "Afternoon",
          "Afternoon",
          "Afternoon",
          "Evening",
          "Evening",
          "Afternoon",
          "Afternoon",
          "Evening",
          "Evening",
          "Night",
          "Afternoon",
          "Morning",
          "Night",
          "Morning",
          "Night",
          "Afternoon",
          "Morning",
          "Evening",
          "Night",
          "Morning",
          "Night",
          "Afternoon",
          "Morning",
          "Morning",
          "Morning",
          "Night",
          "Evening",
          "Evening",
          "Evening",
          "Afternoon",
          "Morning",
          "Evening",
          "Evening",
          "Morning",
          "Afternoon",
          "Night",
          "Night",
          "Night",
          "Morning",
          "Afternoon",
          "Morning",
          "Night",
          "Evening",
          "Evening",
          "Evening",
          "Night",
          "Afternoon",
          "Night",
          "Morning",
          "Afternoon",
          "Evening",
          "Afternoon",
          "Afternoon",
          "Night",
          "Afternoon",
          "Night",
          "Morning",
          "Afternoon",
          "Afternoon",
          "Afternoon",
          "Evening",
          "Night",
          "Night",
          "Evening",
          "Night",
          "Morning",
          "Evening",
          "Night",
          "Morning",
          "Night",
          "Evening",
          "Night",
          "Morning",
          "Morning",
          "Morning",
          "Night",
          "Evening",
          "Night",
          "Afternoon",
          "Evening",
          "Afternoon",
          "Night",
          "Evening",
          "Afternoon",
          "Night",
          "Evening",
          "Morning",
          "Morning",
          "Morning",
          "Afternoon",
          "Afternoon",
          "Night",
          "Morning",
          "Afternoon",
          "Morning",
          "Night",
          "Evening",
          "Afternoon",
          "Afternoon",
          "Evening",
          "Afternoon",
          "Night",
          "Afternoon",
          "Afternoon",
          "Evening",
          "Night",
          "Morning",
          "Morning",
          "Evening",
          "Night",
          "Evening",
          "Evening",
          "Morning",
          "Night",
          "Night",
          "Evening",
          "Morning",
          "Night",
          "Evening",
          "Afternoon",
          "Morning",
          "Night",
          "Night",
          "Night",
          "Morning",
          "Evening",
          "Afternoon",
          "Night",
          "Morning",
          "Night",
          "Evening",
          "Afternoon",
          "Night",
          "Morning",
          "Evening",
          "Afternoon",
          "Morning",
          "Night",
          "Morning",
          "Afternoon",
          "Evening",
          "Evening",
          "Night",
          "Night",
          "Night",
          "Night",
          "Afternoon",
          "Night",
          "Morning",
          "Afternoon",
          "Afternoon",
          "Night",
          "Afternoon",
          "Morning",
          "Afternoon",
          "Afternoon",
          "Morning",
          "Morning",
          "Afternoon",
          "Evening",
          "Afternoon",
          "Morning",
          "Morning",
          "Morning",
          "Evening",
          "Morning",
          "Night",
          "Night",
          "Evening",
          "Morning",
          "Morning",
          "Night",
          "Night",
          "Afternoon",
          "Evening",
          "Afternoon",
          "Evening",
          "Morning",
          "Morning",
          "Evening",
          "Afternoon",
          "Night",
          "Evening",
          "Evening",
          "Evening",
          "Morning",
          "Evening",
          "Morning",
          "Night",
          "Night",
          "Afternoon",
          "Morning",
          "Night",
          "Night",
          "Afternoon",
          "Afternoon",
          "Afternoon",
          "Morning",
          "Evening",
          "Morning",
          "Afternoon",
          "Evening",
          "Night",
          "Morning",
          "Afternoon",
          "Afternoon",
          "Evening",
          "Morning",
          "Night",
          "Night",
          "Evening",
          "Evening",
          "Night",
          "Evening",
          "Evening",
          "Morning",
          "Evening",
          "Afternoon",
          "Afternoon",
          "Afternoon",
          "Evening",
          "Night",
          "Afternoon",
          "Morning",
          "Evening",
          "Night",
          "Night",
          "Evening",
          "Evening",
          "Morning",
          "Evening",
          "Evening",
          "Night",
          "Afternoon",
          "Afternoon",
          "Night",
          "Evening",
          "Morning",
          "Afternoon",
          "Evening",
          "Afternoon",
          "Night",
          "Afternoon",
          "Night",
          "Night",
          "Night",
          "Morning",
          "Evening",
          "Night",
          "Night",
          "Afternoon",
          "Evening",
          "Morning",
          "Morning",
          "Afternoon",
          "Morning",
          "Afternoon",
          "Evening",
          "Afternoon",
          "Afternoon",
          "Night",
          "Morning",
          "Evening",
          "Evening",
          "Night",
          "Afternoon",
          "Evening",
          "Evening",
          "Afternoon",
          "Afternoon",
          "Evening",
          "Afternoon",
          "Morning",
          "Evening",
          "Afternoon",
          "Evening",
          "Evening",
          "Night",
          "Morning",
          "Morning",
          "Night",
          "Night",
          "Evening",
          "Morning",
          "Night",
          "Afternoon",
          "Evening",
          "Morning",
          "Evening",
          "Evening",
          "Afternoon",
          "Afternoon",
          "Night",
          "Afternoon",
          "Morning",
          "Night",
          "Morning",
          "Morning",
          "Night",
          "Afternoon",
          "Evening",
          "Afternoon",
          "Morning",
          "Morning",
          "Night",
          "Morning",
          "Night",
          "Night",
          "Afternoon",
          "Morning",
          "Afternoon",
          "Evening",
          "Afternoon",
          "Morning",
          "Evening",
          "Morning",
          "Evening",
          "Morning",
          "Afternoon",
          "Morning",
          "Night",
          "Night",
          "Afternoon",
          "Afternoon",
          "Evening",
          "Afternoon",
          "Night",
          "Afternoon",
          "Night",
          "Afternoon",
          "Night",
          "Evening",
          "Morning",
          "Morning",
          "Night",
          "Afternoon",
          "Afternoon",
          "Morning",
          "Night",
          "Afternoon",
          "Morning",
          "Night",
          "Evening",
          "Afternoon",
          "Afternoon",
          "Night",
          "Morning",
          "Night",
          "Morning",
          "Night",
          "Evening",
          "Afternoon",
          "Morning",
          "Evening",
          "Night",
          "Morning",
          "Morning",
          "Evening",
          "Night",
          "Evening",
          "Night",
          "Evening",
          "Evening",
          "Evening",
          "Evening",
          "Night",
          "Afternoon",
          "Evening",
          "Night",
          "Afternoon",
          "Morning",
          "Morning",
          "Evening",
          "Morning",
          "Evening",
          "Evening",
          "Afternoon",
          "Morning",
          "Evening",
          "Morning",
          "Afternoon",
          "Morning",
          "Afternoon",
          "Afternoon",
          "Afternoon",
          "Evening",
          "Night",
          "Evening",
          "Morning",
          "Evening",
          "Evening",
          "Night",
          "Morning",
          "Afternoon",
          "Afternoon",
          "Morning",
          "Evening",
          "Night",
          "Night",
          "Morning",
          "Morning",
          "Evening",
          "Night",
          "Morning",
          "Evening",
          "Evening",
          "Morning",
          "Night",
          "Afternoon",
          "Evening",
          "Afternoon",
          "Evening",
          "Night",
          "Afternoon",
          "Morning",
          "Evening",
          "Morning",
          "Morning",
          "Night",
          "Morning",
          "Evening",
          "Morning",
          "Morning",
          "Evening",
          "Morning",
          "Night",
          "Evening",
          "Night",
          "Morning",
          "Afternoon",
          "Night",
          "Night",
          "Morning",
          "Afternoon",
          "Evening",
          "Afternoon",
          "Evening",
          "Morning",
          "Afternoon",
          "Morning",
          "Night",
          "Afternoon",
          "Evening",
          "Night",
          "Evening",
          "Night",
          "Evening",
          "Evening",
          "Morning",
          "Night",
          "Morning",
          "Morning",
          "Morning",
          "Morning",
          "Evening",
          "Morning",
          "Morning",
          "Morning",
          "Evening",
          "Night",
          "Evening",
          "Evening",
          "Evening",
          "Night",
          "Morning",
          "Morning",
          "Night",
          "Night",
          "Afternoon",
          "Morning",
          "Evening",
          "Evening",
          "Morning",
          "Night",
          "Afternoon",
          "Evening",
          "Afternoon",
          "Evening",
          "Evening",
          "Morning",
          "Evening",
          "Afternoon",
          "Afternoon",
          "Morning",
          "Evening",
          "Afternoon",
          "Night",
          "Morning",
          "Night",
          "Afternoon",
          "Night",
          "Morning",
          "Night",
          "Afternoon",
          "Night",
          "Night",
          "Night",
          "Evening",
          "Afternoon",
          "Night",
          "Afternoon",
          "Night",
          "Morning",
          "Morning",
          "Morning",
          "Night",
          "Afternoon",
          "Morning",
          "Evening",
          "Morning",
          "Morning",
          "Evening",
          "Morning",
          "Night",
          "Night",
          "Morning",
          "Afternoon",
          "Afternoon",
          "Morning",
          "Evening",
          "Night",
          "Night",
          "Night",
          "Morning",
          "Night",
          "Morning",
          "Morning",
          "Afternoon",
          "Evening",
          "Evening",
          "Evening",
          "Night",
          "Afternoon",
          "Afternoon",
          "Morning",
          "Afternoon",
          "Morning",
          "Afternoon",
          "Morning",
          "Night",
          "Afternoon",
          "Evening",
          "Morning",
          "Afternoon",
          "Afternoon",
          "Morning",
          "Afternoon",
          "Evening",
          "Morning",
          "Morning",
          "Morning",
          "Morning",
          "Morning",
          "Evening",
          "Morning",
          "Evening",
          "Evening",
          "Evening",
          "Morning",
          "Evening",
          "Morning",
          "Evening",
          "Morning",
          "Afternoon",
          "Afternoon",
          "Evening",
          "Night",
          "Night",
          "Afternoon",
          "Evening",
          "Evening",
          "Evening",
          "Night",
          "Afternoon",
          "Evening",
          "Afternoon",
          "Afternoon",
          "Morning",
          "Night",
          "Afternoon",
          "Morning",
          "Night",
          "Evening",
          "Evening",
          "Morning",
          "Evening",
          "Morning",
          "Morning",
          "Evening",
          "Night",
          "Morning",
          "Night",
          "Night",
          "Morning",
          "Night",
          "Morning",
          "Evening",
          "Evening",
          "Evening",
          "Evening",
          "Evening",
          "Night",
          "Night",
          "Night",
          "Afternoon",
          "Afternoon",
          "Morning",
          "Afternoon",
          "Evening",
          "Evening",
          "Evening",
          "Morning",
          "Morning",
          "Morning",
          "Morning",
          "Night",
          "Morning",
          "Morning",
          "Afternoon",
          "Night",
          "Evening",
          "Afternoon",
          "Morning",
          "Evening",
          "Evening",
          "Evening",
          "Afternoon",
          "Night",
          "Night",
          "Evening",
          "Morning",
          "Night",
          "Night",
          "Morning",
          "Afternoon",
          "Afternoon",
          "Morning",
          "Afternoon",
          "Evening",
          "Night",
          "Afternoon",
          "Evening",
          "Evening",
          "Evening",
          "Evening",
          "Evening",
          "Morning",
          "Night",
          "Night",
          "Morning",
          "Morning",
          "Evening",
          "Afternoon",
          "Night",
          "Afternoon",
          "Night",
          "Evening",
          "Afternoon",
          "Night",
          "Night",
          "Evening",
          "Afternoon",
          "Evening",
          "Afternoon",
          "Afternoon",
          "Night",
          "Morning",
          "Afternoon",
          "Afternoon",
          "Evening",
          "Afternoon",
          "Afternoon",
          "Afternoon",
          "Afternoon",
          "Afternoon",
          "Morning",
          "Night",
          "Afternoon",
          "Evening",
          "Evening",
          "Afternoon",
          "Afternoon",
          "Afternoon",
          "Morning",
          "Night",
          "Evening",
          "Morning",
          "Morning",
          "Afternoon",
          "Night",
          "Afternoon",
          "Evening",
          "Night",
          "Afternoon",
          "Evening",
          "Morning",
          "Evening",
          "Evening",
          "Evening",
          "Night",
          "Morning",
          "Night",
          "Morning",
          "Afternoon",
          "Afternoon",
          "Evening",
          "Evening",
          "Night",
          "Morning",
          "Morning",
          "Morning",
          "Evening",
          "Evening",
          "Morning",
          "Evening",
          "Morning",
          "Night",
          "Afternoon",
          "Morning",
          "Evening",
          "Night",
          "Evening",
          "Evening",
          "Evening",
          "Morning",
          "Night",
          "Morning",
          "Afternoon",
          "Morning",
          "Afternoon",
          "Night",
          "Night",
          "Morning",
          "Morning",
          "Evening",
          "Afternoon",
          "Evening",
          "Evening",
          "Night",
          "Morning",
          "Night",
          "Morning",
          "Night",
          "Night",
          "Night",
          "Afternoon",
          "Night",
          "Afternoon",
          "Night",
          "Morning",
          "Afternoon",
          "Morning",
          "Morning",
          "Morning",
          "Afternoon",
          "Evening",
          "Afternoon",
          "Evening",
          "Afternoon",
          "Night",
          "Evening",
          "Night",
          "Evening",
          "Afternoon",
          "Afternoon",
          "Evening",
          "Night",
          "Morning",
          "Evening",
          "Evening",
          "Night",
          "Morning",
          "Evening",
          "Morning",
          "Morning",
          "Afternoon",
          "Night",
          "Evening",
          "Evening",
          "Morning",
          "Evening",
          "Morning",
          "Evening",
          "Night",
          "Evening",
          "Morning",
          "Morning",
          "Evening",
          "Evening",
          "Morning",
          "Afternoon",
          "Afternoon",
          "Evening",
          "Night",
          "Evening",
          "Night",
          "Evening",
          "Morning",
          "Evening",
          "Night",
          "Night",
          "Evening",
          "Evening",
          "Afternoon",
          "Evening",
          "Evening",
          "Morning",
          "Night",
          "Afternoon",
          "Morning",
          "Evening",
          "Night",
          "Evening",
          "Evening",
          "Evening",
          "Evening",
          "Night",
          "Morning",
          "Evening",
          "Evening",
          "Afternoon",
          "Afternoon",
          "Night",
          "Evening",
          "Evening",
          "Evening",
          "Night",
          "Night",
          "Evening",
          "Evening",
          "Night",
          "Evening",
          "Morning",
          "Morning",
          "Night",
          "Morning",
          "Afternoon",
          "Evening",
          "Afternoon",
          "Afternoon",
          "Afternoon",
          "Morning",
          "Evening",
          "Evening",
          "Night",
          "Afternoon",
          "Morning",
          "Afternoon",
          "Afternoon",
          "Evening",
          "Night",
          "Morning",
          "Evening",
          "Afternoon",
          "Evening",
          "Afternoon",
          "Morning",
          "Evening",
          "Evening",
          "Evening",
          "Evening",
          "Evening",
          "Morning",
          "Night",
          "Morning",
          "Evening",
          "Afternoon",
          "Afternoon",
          "Evening",
          "Night",
          "Evening",
          "Morning",
          "Night",
          "Night",
          "Morning",
          "Night",
          "Evening",
          "Evening",
          "Afternoon",
          "Morning",
          "Night",
          "Night",
          "Night",
          "Evening",
          "Morning",
          "Evening",
          "Night",
          "Evening",
          "Night",
          "Night",
          "Evening",
          "Night",
          "Evening",
          "Afternoon",
          "Evening",
          "Afternoon",
          "Afternoon",
          "Evening",
          "Morning",
          "Morning",
          "Evening",
          "Evening",
          "Night",
          "Night",
          "Evening",
          "Morning",
          "Night",
          "Night",
          "Morning",
          "Evening",
          "Morning",
          "Afternoon",
          "Night",
          "Night",
          "Night",
          "Morning",
          "Morning",
          "Evening",
          "Night",
          "Afternoon",
          "Evening",
          "Morning",
          "Afternoon",
          "Evening",
          "Morning",
          "Afternoon",
          "Evening",
          "Afternoon",
          "Morning",
          "Evening",
          "Morning",
          "Night",
          "Night",
          "Afternoon",
          "Night",
          "Morning",
          "Afternoon",
          "Evening",
          "Morning",
          "Evening",
          "Evening",
          "Evening",
          "Evening",
          "Morning",
          "Night",
          "Morning",
          "Night",
          "Evening",
          "Night",
          "Evening",
          "Afternoon",
          "Evening",
          "Night",
          "Afternoon",
          "Afternoon",
          "Evening",
          "Morning",
          "Night",
          "Afternoon",
          "Morning",
          "Evening",
          "Evening",
          "Evening",
          "Evening",
          "Night",
          "Afternoon",
          "Night",
          "Afternoon",
          "Morning",
          "Morning",
          "Afternoon",
          "Evening",
          "Morning",
          "Night",
          "Afternoon",
          "Morning",
          "Afternoon",
          "Evening",
          "Afternoon",
          "Morning",
          "Afternoon",
          "Morning",
          "Morning",
          "Morning",
          "Night",
          "Evening",
          "Evening",
          "Afternoon",
          "Afternoon",
          "Morning",
          "Evening",
          "Afternoon",
          "Afternoon",
          "Evening",
          "Morning",
          "Afternoon",
          "Morning",
          "Evening",
          "Evening",
          "Afternoon",
          "Afternoon",
          "Evening",
          "Morning",
          "Morning",
          "Night",
          "Evening",
          "Afternoon",
          "Evening",
          "Afternoon",
          "Morning",
          "Afternoon",
          "Night",
          "Morning",
          "Night",
          "Evening",
          "Afternoon",
          "Morning",
          "Afternoon",
          "Night",
          "Morning",
          "Night",
          "Morning",
          "Evening",
          "Evening",
          "Afternoon",
          "Night",
          "Night",
          "Morning",
          "Evening",
          "Afternoon",
          "Evening",
          "Night",
          "Afternoon",
          "Evening",
          "Evening",
          "Morning",
          "Morning",
          "Night",
          "Evening",
          "Morning",
          "Evening",
          "Afternoon",
          "Evening",
          "Evening",
          "Night",
          "Afternoon",
          "Afternoon",
          "Morning",
          "Afternoon",
          "Night",
          "Morning",
          "Evening",
          "Afternoon",
          "Evening",
          "Morning",
          "Afternoon",
          "Morning",
          "Morning",
          "Afternoon",
          "Afternoon",
          "Morning",
          "Night",
          "Afternoon",
          "Morning",
          "Evening",
          "Evening",
          "Afternoon",
          "Afternoon",
          "Evening",
          "Morning",
          "Morning",
          "Morning",
          "Night",
          "Afternoon",
          "Night",
          "Night",
          "Night",
          "Night",
          "Morning",
          "Afternoon",
          "Afternoon",
          "Night",
          "Afternoon",
          "Evening",
          "Morning",
          "Afternoon",
          "Morning",
          "Evening",
          "Morning",
          "Evening",
          "Night",
          "Afternoon",
          "Night",
          "Afternoon",
          "Night",
          "Evening",
          "Afternoon",
          "Night",
          "Morning",
          "Morning",
          "Night",
          "Evening",
          "Night",
          "Morning",
          "Afternoon",
          "Afternoon",
          "Night",
          "Afternoon",
          "Morning",
          "Afternoon",
          "Night",
          "Night",
          "Night",
          "Morning",
          "Evening",
          "Afternoon",
          "Night",
          "Evening",
          "Night",
          "Night",
          "Morning",
          "Morning",
          "Evening",
          "Night",
          "Afternoon",
          "Afternoon",
          "Afternoon",
          "Evening",
          "Morning",
          "Evening",
          "Morning",
          "Afternoon",
          "Afternoon",
          "Morning",
          "Afternoon",
          "Evening",
          "Morning",
          "Afternoon",
          "Night",
          "Afternoon",
          "Night",
          "Afternoon",
          "Night",
          "Afternoon",
          "Night",
          "Morning",
          "Morning",
          "Night",
          "Afternoon",
          "Evening",
          "Evening",
          "Evening",
          "Evening",
          "Night",
          "Morning",
          "Morning",
          "Evening",
          "Morning",
          "Night",
          "Evening",
          "Night",
          "Night",
          "Afternoon",
          "Night",
          "Afternoon",
          "Evening",
          "Night",
          "Morning",
          "Evening",
          "Night",
          "Night",
          "Morning",
          "Afternoon",
          "Night",
          "Night",
          "Morning",
          "Evening",
          "Night",
          "Afternoon",
          "Afternoon",
          "Morning",
          "Afternoon",
          "Night",
          "Afternoon",
          "Night",
          "Morning",
          "Afternoon",
          "Night",
          "Evening",
          "Night",
          "Night",
          "Morning",
          "Night",
          "Morning",
          "Night",
          "Night",
          "Night",
          "Morning",
          "Night",
          "Morning",
          "Evening",
          "Morning",
          "Evening",
          "Morning",
          "Morning",
          "Night",
          "Afternoon",
          "Afternoon",
          "Night",
          "Evening",
          "Night",
          "Afternoon",
          "Morning",
          "Night",
          "Evening",
          "Night",
          "Afternoon",
          "Morning",
          "Afternoon",
          "Afternoon",
          "Afternoon",
          "Afternoon",
          "Morning",
          "Afternoon",
          "Evening",
          "Evening",
          "Afternoon",
          "Evening",
          "Afternoon",
          "Morning",
          "Morning",
          "Evening",
          "Evening",
          "Afternoon",
          "Night",
          "Afternoon",
          "Afternoon",
          "Morning",
          "Night",
          "Night",
          "Afternoon",
          "Morning",
          "Evening",
          "Morning",
          "Evening",
          "Morning",
          "Night",
          "Morning",
          "Afternoon",
          "Evening",
          "Morning",
          "Morning",
          "Evening",
          "Morning",
          "Evening",
          "Night",
          "Evening",
          "Evening",
          "Night",
          "Morning",
          "Morning",
          "Night",
          "Afternoon",
          "Evening",
          "Morning",
          "Morning",
          "Evening",
          "Evening",
          "Evening",
          "Afternoon",
          "Night",
          "Afternoon",
          "Afternoon",
          "Evening",
          "Night",
          "Morning",
          "Evening",
          "Night",
          "Morning",
          "Afternoon",
          "Night",
          "Afternoon",
          "Afternoon",
          "Night",
          "Morning",
          "Night",
          "Morning",
          "Evening",
          "Evening",
          "Evening",
          "Afternoon",
          "Evening"
         ],
         "x0": " ",
         "xaxis": "x",
         "y": {
          "bdata": "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",
          "dtype": "f8"
         },
         "y0": " ",
         "yaxis": "y"
        }
       ],
       "layout": {
        "legend": {
         "tracegroupgap": 0
        },
        "template": {
         "data": {
          "bar": [
           {
            "error_x": {
             "color": "#f2f5fa"
            },
            "error_y": {
             "color": "#f2f5fa"
            },
            "marker": {
             "line": {
              "color": "rgb(17,17,17)",
              "width": 0.5
             },
             "pattern": {
              "fillmode": "overlay",
              "size": 10,
              "solidity": 0.2
             }
            },
            "type": "bar"
           }
          ],
          "barpolar": [
           {
            "marker": {
             "line": {
              "color": "rgb(17,17,17)",
              "width": 0.5
             },
             "pattern": {
              "fillmode": "overlay",
              "size": 10,
              "solidity": 0.2
             }
            },
            "type": "barpolar"
           }
          ],
          "carpet": [
           {
            "aaxis": {
             "endlinecolor": "#A2B1C6",
             "gridcolor": "#506784",
             "linecolor": "#506784",
             "minorgridcolor": "#506784",
             "startlinecolor": "#A2B1C6"
            },
            "baxis": {
             "endlinecolor": "#A2B1C6",
             "gridcolor": "#506784",
             "linecolor": "#506784",
             "minorgridcolor": "#506784",
             "startlinecolor": "#A2B1C6"
            },
            "type": "carpet"
           }
          ],
          "choropleth": [
           {
            "colorbar": {
             "outlinewidth": 0,
             "ticks": ""
            },
            "type": "choropleth"
           }
          ],
          "contour": [
           {
            "colorbar": {
             "outlinewidth": 0,
             "ticks": ""
            },
            "colorscale": [
             [
              0,
              "#0d0887"
             ],
             [
              0.1111111111111111,
              "#46039f"
             ],
             [
              0.2222222222222222,
              "#7201a8"
             ],
             [
              0.3333333333333333,
              "#9c179e"
             ],
             [
              0.4444444444444444,
              "#bd3786"
             ],
             [
              0.5555555555555556,
              "#d8576b"
             ],
             [
              0.6666666666666666,
              "#ed7953"
             ],
             [
              0.7777777777777778,
              "#fb9f3a"
             ],
             [
              0.8888888888888888,
              "#fdca26"
             ],
             [
              1,
              "#f0f921"
             ]
            ],
            "type": "contour"
           }
          ],
          "contourcarpet": [
           {
            "colorbar": {
             "outlinewidth": 0,
             "ticks": ""
            },
            "type": "contourcarpet"
           }
          ],
          "heatmap": [
           {
            "colorbar": {
             "outlinewidth": 0,
             "ticks": ""
            },
            "colorscale": [
             [
              0,
              "#0d0887"
             ],
             [
              0.1111111111111111,
              "#46039f"
             ],
             [
              0.2222222222222222,
              "#7201a8"
             ],
             [
              0.3333333333333333,
              "#9c179e"
             ],
             [
              0.4444444444444444,
              "#bd3786"
             ],
             [
              0.5555555555555556,
              "#d8576b"
             ],
             [
              0.6666666666666666,
              "#ed7953"
             ],
             [
              0.7777777777777778,
              "#fb9f3a"
             ],
             [
              0.8888888888888888,
              "#fdca26"
             ],
             [
              1,
              "#f0f921"
             ]
            ],
            "type": "heatmap"
           }
          ],
          "histogram": [
           {
            "marker": {
             "pattern": {
              "fillmode": "overlay",
              "size": 10,
              "solidity": 0.2
             }
            },
            "type": "histogram"
           }
          ],
          "histogram2d": [
           {
            "colorbar": {
             "outlinewidth": 0,
             "ticks": ""
            },
            "colorscale": [
             [
              0,
              "#0d0887"
             ],
             [
              0.1111111111111111,
              "#46039f"
             ],
             [
              0.2222222222222222,
              "#7201a8"
             ],
             [
              0.3333333333333333,
              "#9c179e"
             ],
             [
              0.4444444444444444,
              "#bd3786"
             ],
             [
              0.5555555555555556,
              "#d8576b"
             ],
             [
              0.6666666666666666,
              "#ed7953"
             ],
             [
              0.7777777777777778,
              "#fb9f3a"
             ],
             [
              0.8888888888888888,
              "#fdca26"
             ],
             [
              1,
              "#f0f921"
             ]
            ],
            "type": "histogram2d"
           }
          ],
          "histogram2dcontour": [
           {
            "colorbar": {
             "outlinewidth": 0,
             "ticks": ""
            },
            "colorscale": [
             [
              0,
              "#0d0887"
             ],
             [
              0.1111111111111111,
              "#46039f"
             ],
             [
              0.2222222222222222,
              "#7201a8"
             ],
             [
              0.3333333333333333,
              "#9c179e"
             ],
             [
              0.4444444444444444,
              "#bd3786"
             ],
             [
              0.5555555555555556,
              "#d8576b"
             ],
             [
              0.6666666666666666,
              "#ed7953"
             ],
             [
              0.7777777777777778,
              "#fb9f3a"
             ],
             [
              0.8888888888888888,
              "#fdca26"
             ],
             [
              1,
              "#f0f921"
             ]
            ],
            "type": "histogram2dcontour"
           }
          ],
          "mesh3d": [
           {
            "colorbar": {
             "outlinewidth": 0,
             "ticks": ""
            },
            "type": "mesh3d"
           }
          ],
          "parcoords": [
           {
            "line": {
             "colorbar": {
              "outlinewidth": 0,
              "ticks": ""
             }
            },
            "type": "parcoords"
           }
          ],
          "pie": [
           {
            "automargin": true,
            "type": "pie"
           }
          ],
          "scatter": [
           {
            "marker": {
             "line": {
              "color": "#283442"
             }
            },
            "type": "scatter"
           }
          ],
          "scatter3d": [
           {
            "line": {
             "colorbar": {
              "outlinewidth": 0,
              "ticks": ""
             }
            },
            "marker": {
             "colorbar": {
              "outlinewidth": 0,
              "ticks": ""
             }
            },
            "type": "scatter3d"
           }
          ],
          "scattercarpet": [
           {
            "marker": {
             "colorbar": {
              "outlinewidth": 0,
              "ticks": ""
             }
            },
            "type": "scattercarpet"
           }
          ],
          "scattergeo": [
           {
            "marker": {
             "colorbar": {
              "outlinewidth": 0,
              "ticks": ""
             }
            },
            "type": "scattergeo"
           }
          ],
          "scattergl": [
           {
            "marker": {
             "line": {
              "color": "#283442"
             }
            },
            "type": "scattergl"
           }
          ],
          "scattermap": [
           {
            "marker": {
             "colorbar": {
              "outlinewidth": 0,
              "ticks": ""
             }
            },
            "type": "scattermap"
           }
          ],
          "scattermapbox": [
           {
            "marker": {
             "colorbar": {
              "outlinewidth": 0,
              "ticks": ""
             }
            },
            "type": "scattermapbox"
           }
          ],
          "scatterpolar": [
           {
            "marker": {
             "colorbar": {
              "outlinewidth": 0,
              "ticks": ""
             }
            },
            "type": "scatterpolar"
           }
          ],
          "scatterpolargl": [
           {
            "marker": {
             "colorbar": {
              "outlinewidth": 0,
              "ticks": ""
             }
            },
            "type": "scatterpolargl"
           }
          ],
          "scatterternary": [
           {
            "marker": {
             "colorbar": {
              "outlinewidth": 0,
              "ticks": ""
             }
            },
            "type": "scatterternary"
           }
          ],
          "surface": [
           {
            "colorbar": {
             "outlinewidth": 0,
             "ticks": ""
            },
            "colorscale": [
             [
              0,
              "#0d0887"
             ],
             [
              0.1111111111111111,
              "#46039f"
             ],
             [
              0.2222222222222222,
              "#7201a8"
             ],
             [
              0.3333333333333333,
              "#9c179e"
             ],
             [
              0.4444444444444444,
              "#bd3786"
             ],
             [
              0.5555555555555556,
              "#d8576b"
             ],
             [
              0.6666666666666666,
              "#ed7953"
             ],
             [
              0.7777777777777778,
              "#fb9f3a"
             ],
             [
              0.8888888888888888,
              "#fdca26"
             ],
             [
              1,
              "#f0f921"
             ]
            ],
            "type": "surface"
           }
          ],
          "table": [
           {
            "cells": {
             "fill": {
              "color": "#506784"
             },
             "line": {
              "color": "rgb(17,17,17)"
             }
            },
            "header": {
             "fill": {
              "color": "#2a3f5f"
             },
             "line": {
              "color": "rgb(17,17,17)"
             }
            },
            "type": "table"
           }
          ]
         },
         "layout": {
          "annotationdefaults": {
           "arrowcolor": "#f2f5fa",
           "arrowhead": 0,
           "arrowwidth": 1
          },
          "autotypenumbers": "strict",
          "coloraxis": {
           "colorbar": {
            "outlinewidth": 0,
            "ticks": ""
           }
          },
          "colorscale": {
           "diverging": [
            [
             0,
             "#8e0152"
            ],
            [
             0.1,
             "#c51b7d"
            ],
            [
             0.2,
             "#de77ae"
            ],
            [
             0.3,
             "#f1b6da"
            ],
            [
             0.4,
             "#fde0ef"
            ],
            [
             0.5,
             "#f7f7f7"
            ],
            [
             0.6,
             "#e6f5d0"
            ],
            [
             0.7,
             "#b8e186"
            ],
            [
             0.8,
             "#7fbc41"
            ],
            [
             0.9,
             "#4d9221"
            ],
            [
             1,
             "#276419"
            ]
           ],
           "sequential": [
            [
             0,
             "#0d0887"
            ],
            [
             0.1111111111111111,
             "#46039f"
            ],
            [
             0.2222222222222222,
             "#7201a8"
            ],
            [
             0.3333333333333333,
             "#9c179e"
            ],
            [
             0.4444444444444444,
             "#bd3786"
            ],
            [
             0.5555555555555556,
             "#d8576b"
            ],
            [
             0.6666666666666666,
             "#ed7953"
            ],
            [
             0.7777777777777778,
             "#fb9f3a"
            ],
            [
             0.8888888888888888,
             "#fdca26"
            ],
            [
             1,
             "#f0f921"
            ]
           ],
           "sequentialminus": [
            [
             0,
             "#0d0887"
            ],
            [
             0.1111111111111111,
             "#46039f"
            ],
            [
             0.2222222222222222,
             "#7201a8"
            ],
            [
             0.3333333333333333,
             "#9c179e"
            ],
            [
             0.4444444444444444,
             "#bd3786"
            ],
            [
             0.5555555555555556,
             "#d8576b"
            ],
            [
             0.6666666666666666,
             "#ed7953"
            ],
            [
             0.7777777777777778,
             "#fb9f3a"
            ],
            [
             0.8888888888888888,
             "#fdca26"
            ],
            [
             1,
             "#f0f921"
            ]
           ]
          },
          "colorway": [
           "#636efa",
           "#EF553B",
           "#00cc96",
           "#ab63fa",
           "#FFA15A",
           "#19d3f3",
           "#FF6692",
           "#B6E880",
           "#FF97FF",
           "#FECB52"
          ],
          "font": {
           "color": "#f2f5fa"
          },
          "geo": {
           "bgcolor": "rgb(17,17,17)",
           "lakecolor": "rgb(17,17,17)",
           "landcolor": "rgb(17,17,17)",
           "showlakes": true,
           "showland": true,
           "subunitcolor": "#506784"
          },
          "hoverlabel": {
           "align": "left"
          },
          "hovermode": "closest",
          "mapbox": {
           "style": "dark"
          },
          "paper_bgcolor": "rgb(17,17,17)",
          "plot_bgcolor": "rgb(17,17,17)",
          "polar": {
           "angularaxis": {
            "gridcolor": "#506784",
            "linecolor": "#506784",
            "ticks": ""
           },
           "bgcolor": "rgb(17,17,17)",
           "radialaxis": {
            "gridcolor": "#506784",
            "linecolor": "#506784",
            "ticks": ""
           }
          },
          "scene": {
           "xaxis": {
            "backgroundcolor": "rgb(17,17,17)",
            "gridcolor": "#506784",
            "gridwidth": 2,
            "linecolor": "#506784",
            "showbackground": true,
            "ticks": "",
            "zerolinecolor": "#C8D4E3"
           },
           "yaxis": {
            "backgroundcolor": "rgb(17,17,17)",
            "gridcolor": "#506784",
            "gridwidth": 2,
            "linecolor": "#506784",
            "showbackground": true,
            "ticks": "",
            "zerolinecolor": "#C8D4E3"
           },
           "zaxis": {
            "backgroundcolor": "rgb(17,17,17)",
            "gridcolor": "#506784",
            "gridwidth": 2,
            "linecolor": "#506784",
            "showbackground": true,
            "ticks": "",
            "zerolinecolor": "#C8D4E3"
           }
          },
          "shapedefaults": {
           "line": {
            "color": "#f2f5fa"
           }
          },
          "sliderdefaults": {
           "bgcolor": "#C8D4E3",
           "bordercolor": "rgb(17,17,17)",
           "borderwidth": 1,
           "tickwidth": 0
          },
          "ternary": {
           "aaxis": {
            "gridcolor": "#506784",
            "linecolor": "#506784",
            "ticks": ""
           },
           "baxis": {
            "gridcolor": "#506784",
            "linecolor": "#506784",
            "ticks": ""
           },
           "bgcolor": "rgb(17,17,17)",
           "caxis": {
            "gridcolor": "#506784",
            "linecolor": "#506784",
            "ticks": ""
           }
          },
          "title": {
           "x": 0.05
          },
          "updatemenudefaults": {
           "bgcolor": "#506784",
           "borderwidth": 0
          },
          "xaxis": {
           "automargin": true,
           "gridcolor": "#283442",
           "linecolor": "#506784",
           "ticks": "",
           "title": {
            "standoff": 15
           },
           "zerolinecolor": "#283442",
           "zerolinewidth": 2
          },
          "yaxis": {
           "automargin": true,
           "gridcolor": "#283442",
           "linecolor": "#506784",
           "ticks": "",
           "title": {
            "standoff": 15
           },
           "zerolinecolor": "#283442",
           "zerolinewidth": 2
          }
         }
        },
        "title": {
         "text": "Temperature Distribution by Time of Day"
        },
        "violinmode": "group",
        "xaxis": {
         "anchor": "y",
         "domain": [
          0,
          1
         ],
         "title": {
          "text": "Time of Day"
         }
        },
        "yaxis": {
         "anchor": "x",
         "domain": [
          0,
          1
         ],
         "title": {
          "text": "Temperature (°C)"
         }
        }
       }
      }
     },
     "metadata": {},
     "output_type": "display_data"
    }
   ],
   "source": [
    "# Create a Violin plot for Temperature vs. Time of Day\n",
    "fig_violin = px.violin(df, x='Time of Day', y='Temperature (°C)', \n",
    "                       title='Temperature Distribution by Time of Day',\n",
    "                       labels={'Temperature (°C)': 'Temperature (°C)', 'Time of Day': 'Time of Day'},\n",
    "                       box=True, points='all',template='plotly_dark')\n",
    "\n",
    "fig_violin.show()"
   ]
  },
  {
   "cell_type": "code",
   "execution_count": 5,
   "id": "e8625a12",
   "metadata": {},
   "outputs": [
    {
     "data": {
      "application/vnd.plotly.v1+json": {
       "config": {
        "plotlyServerURL": "https://plot.ly"
       },
       "data": [
        {
         "hovertemplate": "Time of Day=%{x}<br>Number of Charging Sessions=%{text}<extra></extra>",
         "legendgroup": "",
         "marker": {
          "color": "#636efa",
          "pattern": {
           "shape": ""
          }
         },
         "name": "",
         "orientation": "v",
         "showlegend": false,
         "text": {
          "bdata": "AAAAAACgdkAAAAAAAAB1QAAAAAAAgHNAAAAAAABgc0A=",
          "dtype": "f8"
         },
         "textposition": "outside",
         "type": "bar",
         "x": [
          "Evening",
          "Morning",
          "Night",
          "Afternoon"
         ],
         "xaxis": "x",
         "y": {
          "bdata": "agFQATgBNgE=",
          "dtype": "i2"
         },
         "yaxis": "y"
        }
       ],
       "layout": {
        "barmode": "relative",
        "legend": {
         "tracegroupgap": 0
        },
        "template": {
         "data": {
          "bar": [
           {
            "error_x": {
             "color": "#f2f5fa"
            },
            "error_y": {
             "color": "#f2f5fa"
            },
            "marker": {
             "line": {
              "color": "rgb(17,17,17)",
              "width": 0.5
             },
             "pattern": {
              "fillmode": "overlay",
              "size": 10,
              "solidity": 0.2
             }
            },
            "type": "bar"
           }
          ],
          "barpolar": [
           {
            "marker": {
             "line": {
              "color": "rgb(17,17,17)",
              "width": 0.5
             },
             "pattern": {
              "fillmode": "overlay",
              "size": 10,
              "solidity": 0.2
             }
            },
            "type": "barpolar"
           }
          ],
          "carpet": [
           {
            "aaxis": {
             "endlinecolor": "#A2B1C6",
             "gridcolor": "#506784",
             "linecolor": "#506784",
             "minorgridcolor": "#506784",
             "startlinecolor": "#A2B1C6"
            },
            "baxis": {
             "endlinecolor": "#A2B1C6",
             "gridcolor": "#506784",
             "linecolor": "#506784",
             "minorgridcolor": "#506784",
             "startlinecolor": "#A2B1C6"
            },
            "type": "carpet"
           }
          ],
          "choropleth": [
           {
            "colorbar": {
             "outlinewidth": 0,
             "ticks": ""
            },
            "type": "choropleth"
           }
          ],
          "contour": [
           {
            "colorbar": {
             "outlinewidth": 0,
             "ticks": ""
            },
            "colorscale": [
             [
              0,
              "#0d0887"
             ],
             [
              0.1111111111111111,
              "#46039f"
             ],
             [
              0.2222222222222222,
              "#7201a8"
             ],
             [
              0.3333333333333333,
              "#9c179e"
             ],
             [
              0.4444444444444444,
              "#bd3786"
             ],
             [
              0.5555555555555556,
              "#d8576b"
             ],
             [
              0.6666666666666666,
              "#ed7953"
             ],
             [
              0.7777777777777778,
              "#fb9f3a"
             ],
             [
              0.8888888888888888,
              "#fdca26"
             ],
             [
              1,
              "#f0f921"
             ]
            ],
            "type": "contour"
           }
          ],
          "contourcarpet": [
           {
            "colorbar": {
             "outlinewidth": 0,
             "ticks": ""
            },
            "type": "contourcarpet"
           }
          ],
          "heatmap": [
           {
            "colorbar": {
             "outlinewidth": 0,
             "ticks": ""
            },
            "colorscale": [
             [
              0,
              "#0d0887"
             ],
             [
              0.1111111111111111,
              "#46039f"
             ],
             [
              0.2222222222222222,
              "#7201a8"
             ],
             [
              0.3333333333333333,
              "#9c179e"
             ],
             [
              0.4444444444444444,
              "#bd3786"
             ],
             [
              0.5555555555555556,
              "#d8576b"
             ],
             [
              0.6666666666666666,
              "#ed7953"
             ],
             [
              0.7777777777777778,
              "#fb9f3a"
             ],
             [
              0.8888888888888888,
              "#fdca26"
             ],
             [
              1,
              "#f0f921"
             ]
            ],
            "type": "heatmap"
           }
          ],
          "histogram": [
           {
            "marker": {
             "pattern": {
              "fillmode": "overlay",
              "size": 10,
              "solidity": 0.2
             }
            },
            "type": "histogram"
           }
          ],
          "histogram2d": [
           {
            "colorbar": {
             "outlinewidth": 0,
             "ticks": ""
            },
            "colorscale": [
             [
              0,
              "#0d0887"
             ],
             [
              0.1111111111111111,
              "#46039f"
             ],
             [
              0.2222222222222222,
              "#7201a8"
             ],
             [
              0.3333333333333333,
              "#9c179e"
             ],
             [
              0.4444444444444444,
              "#bd3786"
             ],
             [
              0.5555555555555556,
              "#d8576b"
             ],
             [
              0.6666666666666666,
              "#ed7953"
             ],
             [
              0.7777777777777778,
              "#fb9f3a"
             ],
             [
              0.8888888888888888,
              "#fdca26"
             ],
             [
              1,
              "#f0f921"
             ]
            ],
            "type": "histogram2d"
           }
          ],
          "histogram2dcontour": [
           {
            "colorbar": {
             "outlinewidth": 0,
             "ticks": ""
            },
            "colorscale": [
             [
              0,
              "#0d0887"
             ],
             [
              0.1111111111111111,
              "#46039f"
             ],
             [
              0.2222222222222222,
              "#7201a8"
             ],
             [
              0.3333333333333333,
              "#9c179e"
             ],
             [
              0.4444444444444444,
              "#bd3786"
             ],
             [
              0.5555555555555556,
              "#d8576b"
             ],
             [
              0.6666666666666666,
              "#ed7953"
             ],
             [
              0.7777777777777778,
              "#fb9f3a"
             ],
             [
              0.8888888888888888,
              "#fdca26"
             ],
             [
              1,
              "#f0f921"
             ]
            ],
            "type": "histogram2dcontour"
           }
          ],
          "mesh3d": [
           {
            "colorbar": {
             "outlinewidth": 0,
             "ticks": ""
            },
            "type": "mesh3d"
           }
          ],
          "parcoords": [
           {
            "line": {
             "colorbar": {
              "outlinewidth": 0,
              "ticks": ""
             }
            },
            "type": "parcoords"
           }
          ],
          "pie": [
           {
            "automargin": true,
            "type": "pie"
           }
          ],
          "scatter": [
           {
            "marker": {
             "line": {
              "color": "#283442"
             }
            },
            "type": "scatter"
           }
          ],
          "scatter3d": [
           {
            "line": {
             "colorbar": {
              "outlinewidth": 0,
              "ticks": ""
             }
            },
            "marker": {
             "colorbar": {
              "outlinewidth": 0,
              "ticks": ""
             }
            },
            "type": "scatter3d"
           }
          ],
          "scattercarpet": [
           {
            "marker": {
             "colorbar": {
              "outlinewidth": 0,
              "ticks": ""
             }
            },
            "type": "scattercarpet"
           }
          ],
          "scattergeo": [
           {
            "marker": {
             "colorbar": {
              "outlinewidth": 0,
              "ticks": ""
             }
            },
            "type": "scattergeo"
           }
          ],
          "scattergl": [
           {
            "marker": {
             "line": {
              "color": "#283442"
             }
            },
            "type": "scattergl"
           }
          ],
          "scattermap": [
           {
            "marker": {
             "colorbar": {
              "outlinewidth": 0,
              "ticks": ""
             }
            },
            "type": "scattermap"
           }
          ],
          "scattermapbox": [
           {
            "marker": {
             "colorbar": {
              "outlinewidth": 0,
              "ticks": ""
             }
            },
            "type": "scattermapbox"
           }
          ],
          "scatterpolar": [
           {
            "marker": {
             "colorbar": {
              "outlinewidth": 0,
              "ticks": ""
             }
            },
            "type": "scatterpolar"
           }
          ],
          "scatterpolargl": [
           {
            "marker": {
             "colorbar": {
              "outlinewidth": 0,
              "ticks": ""
             }
            },
            "type": "scatterpolargl"
           }
          ],
          "scatterternary": [
           {
            "marker": {
             "colorbar": {
              "outlinewidth": 0,
              "ticks": ""
             }
            },
            "type": "scatterternary"
           }
          ],
          "surface": [
           {
            "colorbar": {
             "outlinewidth": 0,
             "ticks": ""
            },
            "colorscale": [
             [
              0,
              "#0d0887"
             ],
             [
              0.1111111111111111,
              "#46039f"
             ],
             [
              0.2222222222222222,
              "#7201a8"
             ],
             [
              0.3333333333333333,
              "#9c179e"
             ],
             [
              0.4444444444444444,
              "#bd3786"
             ],
             [
              0.5555555555555556,
              "#d8576b"
             ],
             [
              0.6666666666666666,
              "#ed7953"
             ],
             [
              0.7777777777777778,
              "#fb9f3a"
             ],
             [
              0.8888888888888888,
              "#fdca26"
             ],
             [
              1,
              "#f0f921"
             ]
            ],
            "type": "surface"
           }
          ],
          "table": [
           {
            "cells": {
             "fill": {
              "color": "#506784"
             },
             "line": {
              "color": "rgb(17,17,17)"
             }
            },
            "header": {
             "fill": {
              "color": "#2a3f5f"
             },
             "line": {
              "color": "rgb(17,17,17)"
             }
            },
            "type": "table"
           }
          ]
         },
         "layout": {
          "annotationdefaults": {
           "arrowcolor": "#f2f5fa",
           "arrowhead": 0,
           "arrowwidth": 1
          },
          "autotypenumbers": "strict",
          "coloraxis": {
           "colorbar": {
            "outlinewidth": 0,
            "ticks": ""
           }
          },
          "colorscale": {
           "diverging": [
            [
             0,
             "#8e0152"
            ],
            [
             0.1,
             "#c51b7d"
            ],
            [
             0.2,
             "#de77ae"
            ],
            [
             0.3,
             "#f1b6da"
            ],
            [
             0.4,
             "#fde0ef"
            ],
            [
             0.5,
             "#f7f7f7"
            ],
            [
             0.6,
             "#e6f5d0"
            ],
            [
             0.7,
             "#b8e186"
            ],
            [
             0.8,
             "#7fbc41"
            ],
            [
             0.9,
             "#4d9221"
            ],
            [
             1,
             "#276419"
            ]
           ],
           "sequential": [
            [
             0,
             "#0d0887"
            ],
            [
             0.1111111111111111,
             "#46039f"
            ],
            [
             0.2222222222222222,
             "#7201a8"
            ],
            [
             0.3333333333333333,
             "#9c179e"
            ],
            [
             0.4444444444444444,
             "#bd3786"
            ],
            [
             0.5555555555555556,
             "#d8576b"
            ],
            [
             0.6666666666666666,
             "#ed7953"
            ],
            [
             0.7777777777777778,
             "#fb9f3a"
            ],
            [
             0.8888888888888888,
             "#fdca26"
            ],
            [
             1,
             "#f0f921"
            ]
           ],
           "sequentialminus": [
            [
             0,
             "#0d0887"
            ],
            [
             0.1111111111111111,
             "#46039f"
            ],
            [
             0.2222222222222222,
             "#7201a8"
            ],
            [
             0.3333333333333333,
             "#9c179e"
            ],
            [
             0.4444444444444444,
             "#bd3786"
            ],
            [
             0.5555555555555556,
             "#d8576b"
            ],
            [
             0.6666666666666666,
             "#ed7953"
            ],
            [
             0.7777777777777778,
             "#fb9f3a"
            ],
            [
             0.8888888888888888,
             "#fdca26"
            ],
            [
             1,
             "#f0f921"
            ]
           ]
          },
          "colorway": [
           "#636efa",
           "#EF553B",
           "#00cc96",
           "#ab63fa",
           "#FFA15A",
           "#19d3f3",
           "#FF6692",
           "#B6E880",
           "#FF97FF",
           "#FECB52"
          ],
          "font": {
           "color": "#f2f5fa"
          },
          "geo": {
           "bgcolor": "rgb(17,17,17)",
           "lakecolor": "rgb(17,17,17)",
           "landcolor": "rgb(17,17,17)",
           "showlakes": true,
           "showland": true,
           "subunitcolor": "#506784"
          },
          "hoverlabel": {
           "align": "left"
          },
          "hovermode": "closest",
          "mapbox": {
           "style": "dark"
          },
          "paper_bgcolor": "rgb(17,17,17)",
          "plot_bgcolor": "rgb(17,17,17)",
          "polar": {
           "angularaxis": {
            "gridcolor": "#506784",
            "linecolor": "#506784",
            "ticks": ""
           },
           "bgcolor": "rgb(17,17,17)",
           "radialaxis": {
            "gridcolor": "#506784",
            "linecolor": "#506784",
            "ticks": ""
           }
          },
          "scene": {
           "xaxis": {
            "backgroundcolor": "rgb(17,17,17)",
            "gridcolor": "#506784",
            "gridwidth": 2,
            "linecolor": "#506784",
            "showbackground": true,
            "ticks": "",
            "zerolinecolor": "#C8D4E3"
           },
           "yaxis": {
            "backgroundcolor": "rgb(17,17,17)",
            "gridcolor": "#506784",
            "gridwidth": 2,
            "linecolor": "#506784",
            "showbackground": true,
            "ticks": "",
            "zerolinecolor": "#C8D4E3"
           },
           "zaxis": {
            "backgroundcolor": "rgb(17,17,17)",
            "gridcolor": "#506784",
            "gridwidth": 2,
            "linecolor": "#506784",
            "showbackground": true,
            "ticks": "",
            "zerolinecolor": "#C8D4E3"
           }
          },
          "shapedefaults": {
           "line": {
            "color": "#f2f5fa"
           }
          },
          "sliderdefaults": {
           "bgcolor": "#C8D4E3",
           "bordercolor": "rgb(17,17,17)",
           "borderwidth": 1,
           "tickwidth": 0
          },
          "ternary": {
           "aaxis": {
            "gridcolor": "#506784",
            "linecolor": "#506784",
            "ticks": ""
           },
           "baxis": {
            "gridcolor": "#506784",
            "linecolor": "#506784",
            "ticks": ""
           },
           "bgcolor": "rgb(17,17,17)",
           "caxis": {
            "gridcolor": "#506784",
            "linecolor": "#506784",
            "ticks": ""
           }
          },
          "title": {
           "x": 0.05
          },
          "updatemenudefaults": {
           "bgcolor": "#506784",
           "borderwidth": 0
          },
          "xaxis": {
           "automargin": true,
           "gridcolor": "#283442",
           "linecolor": "#506784",
           "ticks": "",
           "title": {
            "standoff": 15
           },
           "zerolinecolor": "#283442",
           "zerolinewidth": 2
          },
          "yaxis": {
           "automargin": true,
           "gridcolor": "#283442",
           "linecolor": "#506784",
           "ticks": "",
           "title": {
            "standoff": 15
           },
           "zerolinecolor": "#283442",
           "zerolinewidth": 2
          }
         }
        },
        "title": {
         "text": "Charging Sessions by Time of Day"
        },
        "xaxis": {
         "anchor": "y",
         "domain": [
          0,
          1
         ],
         "title": {
          "text": "Time of Day"
         }
        },
        "yaxis": {
         "anchor": "x",
         "domain": [
          0,
          1
         ],
         "title": {
          "text": "Number of Charging Sessions"
         }
        }
       }
      }
     },
     "metadata": {},
     "output_type": "display_data"
    }
   ],
   "source": [
    "# Count the number of charging sessions per time of day\n",
    "charging_sessions_by_time = df['Time of Day'].value_counts().reset_index()\n",
    "charging_sessions_by_time.columns = ['Time of Day', 'Charging Sessions']\n",
    "\n",
    "# Create a Plotly bar chart\n",
    "fig_time_of_day = px.bar(charging_sessions_by_time, x='Time of Day', y='Charging Sessions',\n",
    "                         title='Charging Sessions by Time of Day',\n",
    "                         labels={'Time of Day': 'Time of Day', 'Charging Sessions': 'Number of Charging Sessions'},\n",
    "                         text='Charging Sessions',template='plotly_dark')\n",
    "\n",
    "fig_time_of_day.update_traces(textposition='outside')\n",
    "fig_time_of_day.show()"
   ]
  }
 ],
 "metadata": {
  "kernelspec": {
   "display_name": "base",
   "language": "python",
   "name": "python3"
  },
  "language_info": {
   "codemirror_mode": {
    "name": "ipython",
    "version": 3
   },
   "file_extension": ".py",
   "mimetype": "text/x-python",
   "name": "python",
   "nbconvert_exporter": "python",
   "pygments_lexer": "ipython3",
   "version": "3.12.9"
  }
 },
 "nbformat": 4,
 "nbformat_minor": 5
}
