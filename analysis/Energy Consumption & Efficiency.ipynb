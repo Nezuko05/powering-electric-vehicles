{
 "cells": [
  {
   "cell_type": "code",
   "execution_count": 1,
   "id": "92c0fa0f",
   "metadata": {},
   "outputs": [
    {
     "name": "stdout",
     "output_type": "stream",
     "text": [
      "<class 'pandas.core.frame.DataFrame'>\n",
      "RangeIndex: 1320 entries, 0 to 1319\n",
      "Data columns (total 20 columns):\n",
      " #   Column                                    Non-Null Count  Dtype  \n",
      "---  ------                                    --------------  -----  \n",
      " 0   User ID                                   1320 non-null   object \n",
      " 1   Vehicle Model                             1320 non-null   object \n",
      " 2   Battery Capacity (kWh)                    1320 non-null   float64\n",
      " 3   Charging Station ID                       1320 non-null   object \n",
      " 4   Charging Station Location                 1320 non-null   object \n",
      " 5   Charging Start Time                       1320 non-null   object \n",
      " 6   Charging End Time                         1320 non-null   object \n",
      " 7   Energy Consumed (kWh)                     1320 non-null   float64\n",
      " 8   Charging Duration (hours)                 1320 non-null   float64\n",
      " 9   Charging Rate (kW)                        1320 non-null   float64\n",
      " 10  Charging Cost (USD)                       1320 non-null   float64\n",
      " 11  Time of Day                               1320 non-null   object \n",
      " 12  Day of Week                               1320 non-null   object \n",
      " 13  State of Charge (Start %)                 1320 non-null   float64\n",
      " 14  State of Charge (End %)                   1320 non-null   float64\n",
      " 15  Distance Driven (since last charge) (km)  1320 non-null   float64\n",
      " 16  Temperature (°C)                          1320 non-null   float64\n",
      " 17  Vehicle Age (years)                       1320 non-null   float64\n",
      " 18  Charger Type                              1320 non-null   object \n",
      " 19  User Type                                 1320 non-null   object \n",
      "dtypes: float64(10), object(10)\n",
      "memory usage: 206.4+ KB\n"
     ]
    },
    {
     "name": "stderr",
     "output_type": "stream",
     "text": [
      "C:\\Users\\DELL\\AppData\\Local\\Temp\\ipykernel_4212\\3693531763.py:11: FutureWarning: A value is trying to be set on a copy of a DataFrame or Series through chained assignment using an inplace method.\n",
      "The behavior will change in pandas 3.0. This inplace method will never work because the intermediate object on which we are setting values always behaves as a copy.\n",
      "\n",
      "For example, when doing 'df[col].method(value, inplace=True)', try using 'df.method({col: value}, inplace=True)' or df[col] = df[col].method(value) instead, to perform the operation inplace on the original object.\n",
      "\n",
      "\n",
      "  df['Energy Consumed (kWh)'].fillna(avg_Energyconsumed, inplace=True)\n",
      "C:\\Users\\DELL\\AppData\\Local\\Temp\\ipykernel_4212\\3693531763.py:15: FutureWarning: A value is trying to be set on a copy of a DataFrame or Series through chained assignment using an inplace method.\n",
      "The behavior will change in pandas 3.0. This inplace method will never work because the intermediate object on which we are setting values always behaves as a copy.\n",
      "\n",
      "For example, when doing 'df[col].method(value, inplace=True)', try using 'df.method({col: value}, inplace=True)' or df[col] = df[col].method(value) instead, to perform the operation inplace on the original object.\n",
      "\n",
      "\n",
      "  df['Charging Rate (kW)'].fillna(avg_Chargingrate, inplace=True)\n",
      "C:\\Users\\DELL\\AppData\\Local\\Temp\\ipykernel_4212\\3693531763.py:18: FutureWarning: A value is trying to be set on a copy of a DataFrame or Series through chained assignment using an inplace method.\n",
      "The behavior will change in pandas 3.0. This inplace method will never work because the intermediate object on which we are setting values always behaves as a copy.\n",
      "\n",
      "For example, when doing 'df[col].method(value, inplace=True)', try using 'df.method({col: value}, inplace=True)' or df[col] = df[col].method(value) instead, to perform the operation inplace on the original object.\n",
      "\n",
      "\n",
      "  df['Distance Driven (since last charge) (km)'].fillna(avg_Distancedriven, inplace=True)\n"
     ]
    }
   ],
   "source": [
    "import pandas as pd\n",
    "import numpy as np\n",
    "import seaborn as sns\n",
    "import matplotlib.pyplot as plt\n",
    "import plotly.express as px\n",
    "\n",
    "\n",
    "df = pd.read_csv(r\"C:\\Users\\DELL\\Desktop\\PROJECT\\ev_charging_patterns dataset.csv\")\n",
    "\n",
    "avg_Energyconsumed=round(df['Energy Consumed (kWh)'].mean())\n",
    "df['Energy Consumed (kWh)'].fillna(avg_Energyconsumed, inplace=True)\n",
    "\n",
    "\n",
    "avg_Chargingrate=round(df['Charging Rate (kW)'].mean())\n",
    "df['Charging Rate (kW)'].fillna(avg_Chargingrate, inplace=True)\n",
    "\n",
    "avg_Distancedriven=round(df['Distance Driven (since last charge) (km)'].mean())\n",
    "df['Distance Driven (since last charge) (km)'].fillna(avg_Distancedriven, inplace=True)\n",
    "\n",
    "df.info()"
   ]
  },
  {
   "cell_type": "code",
   "execution_count": 2,
   "id": "415bb469",
   "metadata": {
    "vscode": {
     "languageId": "javascript"
    }
   },
   "outputs": [
    {
     "data": {
      "application/vnd.plotly.v1+json": {
       "config": {
        "plotlyServerURL": "https://plot.ly"
       },
       "data": [
        {
         "hovertemplate": "Charging Duration (minutes)=%{x}<br>Energy Consumed (kWh)=%{y}<extra></extra>",
         "legendgroup": "",
         "marker": {
          "color": "#636efa",
          "symbol": "circle"
         },
         "mode": "markers",
         "name": "",
         "showlegend": false,
         "type": "scattergl",
         "x": {
          "bdata": "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",
          "dtype": "f8"
         },
         "xaxis": "x",
         "y": {
          "bdata": "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",
          "dtype": "f8"
         },
         "yaxis": "y"
        }
       ],
       "layout": {
        "legend": {
         "tracegroupgap": 0
        },
        "template": {
         "data": {
          "bar": [
           {
            "error_x": {
             "color": "#f2f5fa"
            },
            "error_y": {
             "color": "#f2f5fa"
            },
            "marker": {
             "line": {
              "color": "rgb(17,17,17)",
              "width": 0.5
             },
             "pattern": {
              "fillmode": "overlay",
              "size": 10,
              "solidity": 0.2
             }
            },
            "type": "bar"
           }
          ],
          "barpolar": [
           {
            "marker": {
             "line": {
              "color": "rgb(17,17,17)",
              "width": 0.5
             },
             "pattern": {
              "fillmode": "overlay",
              "size": 10,
              "solidity": 0.2
             }
            },
            "type": "barpolar"
           }
          ],
          "carpet": [
           {
            "aaxis": {
             "endlinecolor": "#A2B1C6",
             "gridcolor": "#506784",
             "linecolor": "#506784",
             "minorgridcolor": "#506784",
             "startlinecolor": "#A2B1C6"
            },
            "baxis": {
             "endlinecolor": "#A2B1C6",
             "gridcolor": "#506784",
             "linecolor": "#506784",
             "minorgridcolor": "#506784",
             "startlinecolor": "#A2B1C6"
            },
            "type": "carpet"
           }
          ],
          "choropleth": [
           {
            "colorbar": {
             "outlinewidth": 0,
             "ticks": ""
            },
            "type": "choropleth"
           }
          ],
          "contour": [
           {
            "colorbar": {
             "outlinewidth": 0,
             "ticks": ""
            },
            "colorscale": [
             [
              0,
              "#0d0887"
             ],
             [
              0.1111111111111111,
              "#46039f"
             ],
             [
              0.2222222222222222,
              "#7201a8"
             ],
             [
              0.3333333333333333,
              "#9c179e"
             ],
             [
              0.4444444444444444,
              "#bd3786"
             ],
             [
              0.5555555555555556,
              "#d8576b"
             ],
             [
              0.6666666666666666,
              "#ed7953"
             ],
             [
              0.7777777777777778,
              "#fb9f3a"
             ],
             [
              0.8888888888888888,
              "#fdca26"
             ],
             [
              1,
              "#f0f921"
             ]
            ],
            "type": "contour"
           }
          ],
          "contourcarpet": [
           {
            "colorbar": {
             "outlinewidth": 0,
             "ticks": ""
            },
            "type": "contourcarpet"
           }
          ],
          "heatmap": [
           {
            "colorbar": {
             "outlinewidth": 0,
             "ticks": ""
            },
            "colorscale": [
             [
              0,
              "#0d0887"
             ],
             [
              0.1111111111111111,
              "#46039f"
             ],
             [
              0.2222222222222222,
              "#7201a8"
             ],
             [
              0.3333333333333333,
              "#9c179e"
             ],
             [
              0.4444444444444444,
              "#bd3786"
             ],
             [
              0.5555555555555556,
              "#d8576b"
             ],
             [
              0.6666666666666666,
              "#ed7953"
             ],
             [
              0.7777777777777778,
              "#fb9f3a"
             ],
             [
              0.8888888888888888,
              "#fdca26"
             ],
             [
              1,
              "#f0f921"
             ]
            ],
            "type": "heatmap"
           }
          ],
          "histogram": [
           {
            "marker": {
             "pattern": {
              "fillmode": "overlay",
              "size": 10,
              "solidity": 0.2
             }
            },
            "type": "histogram"
           }
          ],
          "histogram2d": [
           {
            "colorbar": {
             "outlinewidth": 0,
             "ticks": ""
            },
            "colorscale": [
             [
              0,
              "#0d0887"
             ],
             [
              0.1111111111111111,
              "#46039f"
             ],
             [
              0.2222222222222222,
              "#7201a8"
             ],
             [
              0.3333333333333333,
              "#9c179e"
             ],
             [
              0.4444444444444444,
              "#bd3786"
             ],
             [
              0.5555555555555556,
              "#d8576b"
             ],
             [
              0.6666666666666666,
              "#ed7953"
             ],
             [
              0.7777777777777778,
              "#fb9f3a"
             ],
             [
              0.8888888888888888,
              "#fdca26"
             ],
             [
              1,
              "#f0f921"
             ]
            ],
            "type": "histogram2d"
           }
          ],
          "histogram2dcontour": [
           {
            "colorbar": {
             "outlinewidth": 0,
             "ticks": ""
            },
            "colorscale": [
             [
              0,
              "#0d0887"
             ],
             [
              0.1111111111111111,
              "#46039f"
             ],
             [
              0.2222222222222222,
              "#7201a8"
             ],
             [
              0.3333333333333333,
              "#9c179e"
             ],
             [
              0.4444444444444444,
              "#bd3786"
             ],
             [
              0.5555555555555556,
              "#d8576b"
             ],
             [
              0.6666666666666666,
              "#ed7953"
             ],
             [
              0.7777777777777778,
              "#fb9f3a"
             ],
             [
              0.8888888888888888,
              "#fdca26"
             ],
             [
              1,
              "#f0f921"
             ]
            ],
            "type": "histogram2dcontour"
           }
          ],
          "mesh3d": [
           {
            "colorbar": {
             "outlinewidth": 0,
             "ticks": ""
            },
            "type": "mesh3d"
           }
          ],
          "parcoords": [
           {
            "line": {
             "colorbar": {
              "outlinewidth": 0,
              "ticks": ""
             }
            },
            "type": "parcoords"
           }
          ],
          "pie": [
           {
            "automargin": true,
            "type": "pie"
           }
          ],
          "scatter": [
           {
            "marker": {
             "line": {
              "color": "#283442"
             }
            },
            "type": "scatter"
           }
          ],
          "scatter3d": [
           {
            "line": {
             "colorbar": {
              "outlinewidth": 0,
              "ticks": ""
             }
            },
            "marker": {
             "colorbar": {
              "outlinewidth": 0,
              "ticks": ""
             }
            },
            "type": "scatter3d"
           }
          ],
          "scattercarpet": [
           {
            "marker": {
             "colorbar": {
              "outlinewidth": 0,
              "ticks": ""
             }
            },
            "type": "scattercarpet"
           }
          ],
          "scattergeo": [
           {
            "marker": {
             "colorbar": {
              "outlinewidth": 0,
              "ticks": ""
             }
            },
            "type": "scattergeo"
           }
          ],
          "scattergl": [
           {
            "marker": {
             "line": {
              "color": "#283442"
             }
            },
            "type": "scattergl"
           }
          ],
          "scattermap": [
           {
            "marker": {
             "colorbar": {
              "outlinewidth": 0,
              "ticks": ""
             }
            },
            "type": "scattermap"
           }
          ],
          "scattermapbox": [
           {
            "marker": {
             "colorbar": {
              "outlinewidth": 0,
              "ticks": ""
             }
            },
            "type": "scattermapbox"
           }
          ],
          "scatterpolar": [
           {
            "marker": {
             "colorbar": {
              "outlinewidth": 0,
              "ticks": ""
             }
            },
            "type": "scatterpolar"
           }
          ],
          "scatterpolargl": [
           {
            "marker": {
             "colorbar": {
              "outlinewidth": 0,
              "ticks": ""
             }
            },
            "type": "scatterpolargl"
           }
          ],
          "scatterternary": [
           {
            "marker": {
             "colorbar": {
              "outlinewidth": 0,
              "ticks": ""
             }
            },
            "type": "scatterternary"
           }
          ],
          "surface": [
           {
            "colorbar": {
             "outlinewidth": 0,
             "ticks": ""
            },
            "colorscale": [
             [
              0,
              "#0d0887"
             ],
             [
              0.1111111111111111,
              "#46039f"
             ],
             [
              0.2222222222222222,
              "#7201a8"
             ],
             [
              0.3333333333333333,
              "#9c179e"
             ],
             [
              0.4444444444444444,
              "#bd3786"
             ],
             [
              0.5555555555555556,
              "#d8576b"
             ],
             [
              0.6666666666666666,
              "#ed7953"
             ],
             [
              0.7777777777777778,
              "#fb9f3a"
             ],
             [
              0.8888888888888888,
              "#fdca26"
             ],
             [
              1,
              "#f0f921"
             ]
            ],
            "type": "surface"
           }
          ],
          "table": [
           {
            "cells": {
             "fill": {
              "color": "#506784"
             },
             "line": {
              "color": "rgb(17,17,17)"
             }
            },
            "header": {
             "fill": {
              "color": "#2a3f5f"
             },
             "line": {
              "color": "rgb(17,17,17)"
             }
            },
            "type": "table"
           }
          ]
         },
         "layout": {
          "annotationdefaults": {
           "arrowcolor": "#f2f5fa",
           "arrowhead": 0,
           "arrowwidth": 1
          },
          "autotypenumbers": "strict",
          "coloraxis": {
           "colorbar": {
            "outlinewidth": 0,
            "ticks": ""
           }
          },
          "colorscale": {
           "diverging": [
            [
             0,
             "#8e0152"
            ],
            [
             0.1,
             "#c51b7d"
            ],
            [
             0.2,
             "#de77ae"
            ],
            [
             0.3,
             "#f1b6da"
            ],
            [
             0.4,
             "#fde0ef"
            ],
            [
             0.5,
             "#f7f7f7"
            ],
            [
             0.6,
             "#e6f5d0"
            ],
            [
             0.7,
             "#b8e186"
            ],
            [
             0.8,
             "#7fbc41"
            ],
            [
             0.9,
             "#4d9221"
            ],
            [
             1,
             "#276419"
            ]
           ],
           "sequential": [
            [
             0,
             "#0d0887"
            ],
            [
             0.1111111111111111,
             "#46039f"
            ],
            [
             0.2222222222222222,
             "#7201a8"
            ],
            [
             0.3333333333333333,
             "#9c179e"
            ],
            [
             0.4444444444444444,
             "#bd3786"
            ],
            [
             0.5555555555555556,
             "#d8576b"
            ],
            [
             0.6666666666666666,
             "#ed7953"
            ],
            [
             0.7777777777777778,
             "#fb9f3a"
            ],
            [
             0.8888888888888888,
             "#fdca26"
            ],
            [
             1,
             "#f0f921"
            ]
           ],
           "sequentialminus": [
            [
             0,
             "#0d0887"
            ],
            [
             0.1111111111111111,
             "#46039f"
            ],
            [
             0.2222222222222222,
             "#7201a8"
            ],
            [
             0.3333333333333333,
             "#9c179e"
            ],
            [
             0.4444444444444444,
             "#bd3786"
            ],
            [
             0.5555555555555556,
             "#d8576b"
            ],
            [
             0.6666666666666666,
             "#ed7953"
            ],
            [
             0.7777777777777778,
             "#fb9f3a"
            ],
            [
             0.8888888888888888,
             "#fdca26"
            ],
            [
             1,
             "#f0f921"
            ]
           ]
          },
          "colorway": [
           "#636efa",
           "#EF553B",
           "#00cc96",
           "#ab63fa",
           "#FFA15A",
           "#19d3f3",
           "#FF6692",
           "#B6E880",
           "#FF97FF",
           "#FECB52"
          ],
          "font": {
           "color": "#f2f5fa"
          },
          "geo": {
           "bgcolor": "rgb(17,17,17)",
           "lakecolor": "rgb(17,17,17)",
           "landcolor": "rgb(17,17,17)",
           "showlakes": true,
           "showland": true,
           "subunitcolor": "#506784"
          },
          "hoverlabel": {
           "align": "left"
          },
          "hovermode": "closest",
          "mapbox": {
           "style": "dark"
          },
          "paper_bgcolor": "rgb(17,17,17)",
          "plot_bgcolor": "rgb(17,17,17)",
          "polar": {
           "angularaxis": {
            "gridcolor": "#506784",
            "linecolor": "#506784",
            "ticks": ""
           },
           "bgcolor": "rgb(17,17,17)",
           "radialaxis": {
            "gridcolor": "#506784",
            "linecolor": "#506784",
            "ticks": ""
           }
          },
          "scene": {
           "xaxis": {
            "backgroundcolor": "rgb(17,17,17)",
            "gridcolor": "#506784",
            "gridwidth": 2,
            "linecolor": "#506784",
            "showbackground": true,
            "ticks": "",
            "zerolinecolor": "#C8D4E3"
           },
           "yaxis": {
            "backgroundcolor": "rgb(17,17,17)",
            "gridcolor": "#506784",
            "gridwidth": 2,
            "linecolor": "#506784",
            "showbackground": true,
            "ticks": "",
            "zerolinecolor": "#C8D4E3"
           },
           "zaxis": {
            "backgroundcolor": "rgb(17,17,17)",
            "gridcolor": "#506784",
            "gridwidth": 2,
            "linecolor": "#506784",
            "showbackground": true,
            "ticks": "",
            "zerolinecolor": "#C8D4E3"
           }
          },
          "shapedefaults": {
           "line": {
            "color": "#f2f5fa"
           }
          },
          "sliderdefaults": {
           "bgcolor": "#C8D4E3",
           "bordercolor": "rgb(17,17,17)",
           "borderwidth": 1,
           "tickwidth": 0
          },
          "ternary": {
           "aaxis": {
            "gridcolor": "#506784",
            "linecolor": "#506784",
            "ticks": ""
           },
           "baxis": {
            "gridcolor": "#506784",
            "linecolor": "#506784",
            "ticks": ""
           },
           "bgcolor": "rgb(17,17,17)",
           "caxis": {
            "gridcolor": "#506784",
            "linecolor": "#506784",
            "ticks": ""
           }
          },
          "title": {
           "x": 0.05
          },
          "updatemenudefaults": {
           "bgcolor": "#506784",
           "borderwidth": 0
          },
          "xaxis": {
           "automargin": true,
           "gridcolor": "#283442",
           "linecolor": "#506784",
           "ticks": "",
           "title": {
            "standoff": 15
           },
           "zerolinecolor": "#283442",
           "zerolinewidth": 2
          },
          "yaxis": {
           "automargin": true,
           "gridcolor": "#283442",
           "linecolor": "#506784",
           "ticks": "",
           "title": {
            "standoff": 15
           },
           "zerolinecolor": "#283442",
           "zerolinewidth": 2
          }
         }
        },
        "title": {
         "text": "Energy Consumed vs. Charging Duration"
        },
        "xaxis": {
         "anchor": "y",
         "domain": [
          0,
          1
         ],
         "title": {
          "text": "Charging Duration (minutes)"
         }
        },
        "yaxis": {
         "anchor": "x",
         "domain": [
          0,
          1
         ],
         "title": {
          "text": "Energy Consumed (kWh)"
         }
        }
       }
      }
     },
     "metadata": {},
     "output_type": "display_data"
    }
   ],
   "source": [
    "# Create a new column for Charging Duration in minutes\n",
    "df['Charging Duration (minutes)'] = df['Charging Duration (hours)'] * 60\n",
    "\n",
    "# Plot the scatter plot\n",
    "fig = px.scatter(df, x='Charging Duration (minutes)', y='Energy Consumed (kWh)', \n",
    "                 title='Energy Consumed vs. Charging Duration',\n",
    "                 labels={'Charging Duration (minutes)': 'Charging Duration (minutes)', \n",
    "                         'Energy Consumed (kWh)': 'Energy Consumed (kWh)'},template='plotly_dark')\n",
    "fig.show()"
   ]
  },
  {
   "cell_type": "code",
   "execution_count": 3,
   "id": "6836ad8a",
   "metadata": {
    "vscode": {
     "languageId": "javascript"
    }
   },
   "outputs": [
    {
     "data": {
      "application/vnd.plotly.v1+json": {
       "config": {
        "plotlyServerURL": "https://plot.ly"
       },
       "data": [
        {
         "hovertemplate": "Vehicle Model=%{x}<br>Average Energy Consumed (kWh)=%{y}<extra></extra>",
         "legendgroup": "",
         "line": {
          "color": "#636efa",
          "dash": "solid"
         },
         "marker": {
          "symbol": "circle"
         },
         "mode": "lines",
         "name": "",
         "orientation": "v",
         "showlegend": false,
         "type": "scatter",
         "x": [
          "BMW i3",
          "Chevy Bolt",
          "Hyundai Kona",
          "Nissan Leaf",
          "Tesla Model 3"
         ],
         "xaxis": "x",
         "y": {
          "bdata": "dkf1wMk7RUCy2junZm1EQCPxnXYpbEVAGMT8WNBDRUAWzBkn7zdGQA==",
          "dtype": "f8"
         },
         "yaxis": "y"
        }
       ],
       "layout": {
        "legend": {
         "tracegroupgap": 0
        },
        "template": {
         "data": {
          "bar": [
           {
            "error_x": {
             "color": "#f2f5fa"
            },
            "error_y": {
             "color": "#f2f5fa"
            },
            "marker": {
             "line": {
              "color": "rgb(17,17,17)",
              "width": 0.5
             },
             "pattern": {
              "fillmode": "overlay",
              "size": 10,
              "solidity": 0.2
             }
            },
            "type": "bar"
           }
          ],
          "barpolar": [
           {
            "marker": {
             "line": {
              "color": "rgb(17,17,17)",
              "width": 0.5
             },
             "pattern": {
              "fillmode": "overlay",
              "size": 10,
              "solidity": 0.2
             }
            },
            "type": "barpolar"
           }
          ],
          "carpet": [
           {
            "aaxis": {
             "endlinecolor": "#A2B1C6",
             "gridcolor": "#506784",
             "linecolor": "#506784",
             "minorgridcolor": "#506784",
             "startlinecolor": "#A2B1C6"
            },
            "baxis": {
             "endlinecolor": "#A2B1C6",
             "gridcolor": "#506784",
             "linecolor": "#506784",
             "minorgridcolor": "#506784",
             "startlinecolor": "#A2B1C6"
            },
            "type": "carpet"
           }
          ],
          "choropleth": [
           {
            "colorbar": {
             "outlinewidth": 0,
             "ticks": ""
            },
            "type": "choropleth"
           }
          ],
          "contour": [
           {
            "colorbar": {
             "outlinewidth": 0,
             "ticks": ""
            },
            "colorscale": [
             [
              0,
              "#0d0887"
             ],
             [
              0.1111111111111111,
              "#46039f"
             ],
             [
              0.2222222222222222,
              "#7201a8"
             ],
             [
              0.3333333333333333,
              "#9c179e"
             ],
             [
              0.4444444444444444,
              "#bd3786"
             ],
             [
              0.5555555555555556,
              "#d8576b"
             ],
             [
              0.6666666666666666,
              "#ed7953"
             ],
             [
              0.7777777777777778,
              "#fb9f3a"
             ],
             [
              0.8888888888888888,
              "#fdca26"
             ],
             [
              1,
              "#f0f921"
             ]
            ],
            "type": "contour"
           }
          ],
          "contourcarpet": [
           {
            "colorbar": {
             "outlinewidth": 0,
             "ticks": ""
            },
            "type": "contourcarpet"
           }
          ],
          "heatmap": [
           {
            "colorbar": {
             "outlinewidth": 0,
             "ticks": ""
            },
            "colorscale": [
             [
              0,
              "#0d0887"
             ],
             [
              0.1111111111111111,
              "#46039f"
             ],
             [
              0.2222222222222222,
              "#7201a8"
             ],
             [
              0.3333333333333333,
              "#9c179e"
             ],
             [
              0.4444444444444444,
              "#bd3786"
             ],
             [
              0.5555555555555556,
              "#d8576b"
             ],
             [
              0.6666666666666666,
              "#ed7953"
             ],
             [
              0.7777777777777778,
              "#fb9f3a"
             ],
             [
              0.8888888888888888,
              "#fdca26"
             ],
             [
              1,
              "#f0f921"
             ]
            ],
            "type": "heatmap"
           }
          ],
          "histogram": [
           {
            "marker": {
             "pattern": {
              "fillmode": "overlay",
              "size": 10,
              "solidity": 0.2
             }
            },
            "type": "histogram"
           }
          ],
          "histogram2d": [
           {
            "colorbar": {
             "outlinewidth": 0,
             "ticks": ""
            },
            "colorscale": [
             [
              0,
              "#0d0887"
             ],
             [
              0.1111111111111111,
              "#46039f"
             ],
             [
              0.2222222222222222,
              "#7201a8"
             ],
             [
              0.3333333333333333,
              "#9c179e"
             ],
             [
              0.4444444444444444,
              "#bd3786"
             ],
             [
              0.5555555555555556,
              "#d8576b"
             ],
             [
              0.6666666666666666,
              "#ed7953"
             ],
             [
              0.7777777777777778,
              "#fb9f3a"
             ],
             [
              0.8888888888888888,
              "#fdca26"
             ],
             [
              1,
              "#f0f921"
             ]
            ],
            "type": "histogram2d"
           }
          ],
          "histogram2dcontour": [
           {
            "colorbar": {
             "outlinewidth": 0,
             "ticks": ""
            },
            "colorscale": [
             [
              0,
              "#0d0887"
             ],
             [
              0.1111111111111111,
              "#46039f"
             ],
             [
              0.2222222222222222,
              "#7201a8"
             ],
             [
              0.3333333333333333,
              "#9c179e"
             ],
             [
              0.4444444444444444,
              "#bd3786"
             ],
             [
              0.5555555555555556,
              "#d8576b"
             ],
             [
              0.6666666666666666,
              "#ed7953"
             ],
             [
              0.7777777777777778,
              "#fb9f3a"
             ],
             [
              0.8888888888888888,
              "#fdca26"
             ],
             [
              1,
              "#f0f921"
             ]
            ],
            "type": "histogram2dcontour"
           }
          ],
          "mesh3d": [
           {
            "colorbar": {
             "outlinewidth": 0,
             "ticks": ""
            },
            "type": "mesh3d"
           }
          ],
          "parcoords": [
           {
            "line": {
             "colorbar": {
              "outlinewidth": 0,
              "ticks": ""
             }
            },
            "type": "parcoords"
           }
          ],
          "pie": [
           {
            "automargin": true,
            "type": "pie"
           }
          ],
          "scatter": [
           {
            "marker": {
             "line": {
              "color": "#283442"
             }
            },
            "type": "scatter"
           }
          ],
          "scatter3d": [
           {
            "line": {
             "colorbar": {
              "outlinewidth": 0,
              "ticks": ""
             }
            },
            "marker": {
             "colorbar": {
              "outlinewidth": 0,
              "ticks": ""
             }
            },
            "type": "scatter3d"
           }
          ],
          "scattercarpet": [
           {
            "marker": {
             "colorbar": {
              "outlinewidth": 0,
              "ticks": ""
             }
            },
            "type": "scattercarpet"
           }
          ],
          "scattergeo": [
           {
            "marker": {
             "colorbar": {
              "outlinewidth": 0,
              "ticks": ""
             }
            },
            "type": "scattergeo"
           }
          ],
          "scattergl": [
           {
            "marker": {
             "line": {
              "color": "#283442"
             }
            },
            "type": "scattergl"
           }
          ],
          "scattermap": [
           {
            "marker": {
             "colorbar": {
              "outlinewidth": 0,
              "ticks": ""
             }
            },
            "type": "scattermap"
           }
          ],
          "scattermapbox": [
           {
            "marker": {
             "colorbar": {
              "outlinewidth": 0,
              "ticks": ""
             }
            },
            "type": "scattermapbox"
           }
          ],
          "scatterpolar": [
           {
            "marker": {
             "colorbar": {
              "outlinewidth": 0,
              "ticks": ""
             }
            },
            "type": "scatterpolar"
           }
          ],
          "scatterpolargl": [
           {
            "marker": {
             "colorbar": {
              "outlinewidth": 0,
              "ticks": ""
             }
            },
            "type": "scatterpolargl"
           }
          ],
          "scatterternary": [
           {
            "marker": {
             "colorbar": {
              "outlinewidth": 0,
              "ticks": ""
             }
            },
            "type": "scatterternary"
           }
          ],
          "surface": [
           {
            "colorbar": {
             "outlinewidth": 0,
             "ticks": ""
            },
            "colorscale": [
             [
              0,
              "#0d0887"
             ],
             [
              0.1111111111111111,
              "#46039f"
             ],
             [
              0.2222222222222222,
              "#7201a8"
             ],
             [
              0.3333333333333333,
              "#9c179e"
             ],
             [
              0.4444444444444444,
              "#bd3786"
             ],
             [
              0.5555555555555556,
              "#d8576b"
             ],
             [
              0.6666666666666666,
              "#ed7953"
             ],
             [
              0.7777777777777778,
              "#fb9f3a"
             ],
             [
              0.8888888888888888,
              "#fdca26"
             ],
             [
              1,
              "#f0f921"
             ]
            ],
            "type": "surface"
           }
          ],
          "table": [
           {
            "cells": {
             "fill": {
              "color": "#506784"
             },
             "line": {
              "color": "rgb(17,17,17)"
             }
            },
            "header": {
             "fill": {
              "color": "#2a3f5f"
             },
             "line": {
              "color": "rgb(17,17,17)"
             }
            },
            "type": "table"
           }
          ]
         },
         "layout": {
          "annotationdefaults": {
           "arrowcolor": "#f2f5fa",
           "arrowhead": 0,
           "arrowwidth": 1
          },
          "autotypenumbers": "strict",
          "coloraxis": {
           "colorbar": {
            "outlinewidth": 0,
            "ticks": ""
           }
          },
          "colorscale": {
           "diverging": [
            [
             0,
             "#8e0152"
            ],
            [
             0.1,
             "#c51b7d"
            ],
            [
             0.2,
             "#de77ae"
            ],
            [
             0.3,
             "#f1b6da"
            ],
            [
             0.4,
             "#fde0ef"
            ],
            [
             0.5,
             "#f7f7f7"
            ],
            [
             0.6,
             "#e6f5d0"
            ],
            [
             0.7,
             "#b8e186"
            ],
            [
             0.8,
             "#7fbc41"
            ],
            [
             0.9,
             "#4d9221"
            ],
            [
             1,
             "#276419"
            ]
           ],
           "sequential": [
            [
             0,
             "#0d0887"
            ],
            [
             0.1111111111111111,
             "#46039f"
            ],
            [
             0.2222222222222222,
             "#7201a8"
            ],
            [
             0.3333333333333333,
             "#9c179e"
            ],
            [
             0.4444444444444444,
             "#bd3786"
            ],
            [
             0.5555555555555556,
             "#d8576b"
            ],
            [
             0.6666666666666666,
             "#ed7953"
            ],
            [
             0.7777777777777778,
             "#fb9f3a"
            ],
            [
             0.8888888888888888,
             "#fdca26"
            ],
            [
             1,
             "#f0f921"
            ]
           ],
           "sequentialminus": [
            [
             0,
             "#0d0887"
            ],
            [
             0.1111111111111111,
             "#46039f"
            ],
            [
             0.2222222222222222,
             "#7201a8"
            ],
            [
             0.3333333333333333,
             "#9c179e"
            ],
            [
             0.4444444444444444,
             "#bd3786"
            ],
            [
             0.5555555555555556,
             "#d8576b"
            ],
            [
             0.6666666666666666,
             "#ed7953"
            ],
            [
             0.7777777777777778,
             "#fb9f3a"
            ],
            [
             0.8888888888888888,
             "#fdca26"
            ],
            [
             1,
             "#f0f921"
            ]
           ]
          },
          "colorway": [
           "#636efa",
           "#EF553B",
           "#00cc96",
           "#ab63fa",
           "#FFA15A",
           "#19d3f3",
           "#FF6692",
           "#B6E880",
           "#FF97FF",
           "#FECB52"
          ],
          "font": {
           "color": "#f2f5fa"
          },
          "geo": {
           "bgcolor": "rgb(17,17,17)",
           "lakecolor": "rgb(17,17,17)",
           "landcolor": "rgb(17,17,17)",
           "showlakes": true,
           "showland": true,
           "subunitcolor": "#506784"
          },
          "hoverlabel": {
           "align": "left"
          },
          "hovermode": "closest",
          "mapbox": {
           "style": "dark"
          },
          "paper_bgcolor": "rgb(17,17,17)",
          "plot_bgcolor": "rgb(17,17,17)",
          "polar": {
           "angularaxis": {
            "gridcolor": "#506784",
            "linecolor": "#506784",
            "ticks": ""
           },
           "bgcolor": "rgb(17,17,17)",
           "radialaxis": {
            "gridcolor": "#506784",
            "linecolor": "#506784",
            "ticks": ""
           }
          },
          "scene": {
           "xaxis": {
            "backgroundcolor": "rgb(17,17,17)",
            "gridcolor": "#506784",
            "gridwidth": 2,
            "linecolor": "#506784",
            "showbackground": true,
            "ticks": "",
            "zerolinecolor": "#C8D4E3"
           },
           "yaxis": {
            "backgroundcolor": "rgb(17,17,17)",
            "gridcolor": "#506784",
            "gridwidth": 2,
            "linecolor": "#506784",
            "showbackground": true,
            "ticks": "",
            "zerolinecolor": "#C8D4E3"
           },
           "zaxis": {
            "backgroundcolor": "rgb(17,17,17)",
            "gridcolor": "#506784",
            "gridwidth": 2,
            "linecolor": "#506784",
            "showbackground": true,
            "ticks": "",
            "zerolinecolor": "#C8D4E3"
           }
          },
          "shapedefaults": {
           "line": {
            "color": "#f2f5fa"
           }
          },
          "sliderdefaults": {
           "bgcolor": "#C8D4E3",
           "bordercolor": "rgb(17,17,17)",
           "borderwidth": 1,
           "tickwidth": 0
          },
          "ternary": {
           "aaxis": {
            "gridcolor": "#506784",
            "linecolor": "#506784",
            "ticks": ""
           },
           "baxis": {
            "gridcolor": "#506784",
            "linecolor": "#506784",
            "ticks": ""
           },
           "bgcolor": "rgb(17,17,17)",
           "caxis": {
            "gridcolor": "#506784",
            "linecolor": "#506784",
            "ticks": ""
           }
          },
          "title": {
           "x": 0.05
          },
          "updatemenudefaults": {
           "bgcolor": "#506784",
           "borderwidth": 0
          },
          "xaxis": {
           "automargin": true,
           "gridcolor": "#283442",
           "linecolor": "#506784",
           "ticks": "",
           "title": {
            "standoff": 15
           },
           "zerolinecolor": "#283442",
           "zerolinewidth": 2
          },
          "yaxis": {
           "automargin": true,
           "gridcolor": "#283442",
           "linecolor": "#506784",
           "ticks": "",
           "title": {
            "standoff": 15
           },
           "zerolinecolor": "#283442",
           "zerolinewidth": 2
          }
         }
        },
        "title": {
         "text": "Average Energy Consumption per Vehicle Model"
        },
        "xaxis": {
         "anchor": "y",
         "domain": [
          0,
          1
         ],
         "title": {
          "text": "Vehicle Model"
         }
        },
        "yaxis": {
         "anchor": "x",
         "domain": [
          0,
          1
         ],
         "title": {
          "text": "Average Energy Consumed (kWh)"
         }
        }
       }
      }
     },
     "metadata": {},
     "output_type": "display_data"
    }
   ],
   "source": [
    "# Calculate the average energy consumption per vehicle model\n",
    "avg_energy_per_model = df.groupby('Vehicle Model')['Energy Consumed (kWh)'].mean().reset_index()\n",
    "\n",
    "# Plot the line chart\n",
    "fig = px.line(avg_energy_per_model, x='Vehicle Model', y='Energy Consumed (kWh)', \n",
    "              title='Average Energy Consumption per Vehicle Model',\n",
    "              labels={'Vehicle Model': 'Vehicle Model', 'Energy Consumed (kWh)': 'Average Energy Consumed (kWh)'},template='plotly_dark')\n",
    "fig.show()"
   ]
  },
  {
   "cell_type": "code",
   "execution_count": 4,
   "id": "c697080d",
   "metadata": {
    "vscode": {
     "languageId": "javascript"
    }
   },
   "outputs": [
    {
     "data": {
      "application/vnd.plotly.v1+json": {
       "config": {
        "plotlyServerURL": "https://plot.ly"
       },
       "data": [
        {
         "bingroup": "x",
         "hovertemplate": "Charging Cost (USD)=%{x}<br>count=%{y}<extra></extra>",
         "legendgroup": "",
         "marker": {
          "color": "#636efa",
          "pattern": {
           "shape": ""
          }
         },
         "name": "",
         "nbinsx": 30,
         "orientation": "v",
         "showlegend": false,
         "type": "histogram",
         "x": {
          "bdata": "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",
          "dtype": "f8"
         },
         "xaxis": "x",
         "yaxis": "y"
        }
       ],
       "layout": {
        "barmode": "relative",
        "legend": {
         "tracegroupgap": 0
        },
        "template": {
         "data": {
          "bar": [
           {
            "error_x": {
             "color": "#f2f5fa"
            },
            "error_y": {
             "color": "#f2f5fa"
            },
            "marker": {
             "line": {
              "color": "rgb(17,17,17)",
              "width": 0.5
             },
             "pattern": {
              "fillmode": "overlay",
              "size": 10,
              "solidity": 0.2
             }
            },
            "type": "bar"
           }
          ],
          "barpolar": [
           {
            "marker": {
             "line": {
              "color": "rgb(17,17,17)",
              "width": 0.5
             },
             "pattern": {
              "fillmode": "overlay",
              "size": 10,
              "solidity": 0.2
             }
            },
            "type": "barpolar"
           }
          ],
          "carpet": [
           {
            "aaxis": {
             "endlinecolor": "#A2B1C6",
             "gridcolor": "#506784",
             "linecolor": "#506784",
             "minorgridcolor": "#506784",
             "startlinecolor": "#A2B1C6"
            },
            "baxis": {
             "endlinecolor": "#A2B1C6",
             "gridcolor": "#506784",
             "linecolor": "#506784",
             "minorgridcolor": "#506784",
             "startlinecolor": "#A2B1C6"
            },
            "type": "carpet"
           }
          ],
          "choropleth": [
           {
            "colorbar": {
             "outlinewidth": 0,
             "ticks": ""
            },
            "type": "choropleth"
           }
          ],
          "contour": [
           {
            "colorbar": {
             "outlinewidth": 0,
             "ticks": ""
            },
            "colorscale": [
             [
              0,
              "#0d0887"
             ],
             [
              0.1111111111111111,
              "#46039f"
             ],
             [
              0.2222222222222222,
              "#7201a8"
             ],
             [
              0.3333333333333333,
              "#9c179e"
             ],
             [
              0.4444444444444444,
              "#bd3786"
             ],
             [
              0.5555555555555556,
              "#d8576b"
             ],
             [
              0.6666666666666666,
              "#ed7953"
             ],
             [
              0.7777777777777778,
              "#fb9f3a"
             ],
             [
              0.8888888888888888,
              "#fdca26"
             ],
             [
              1,
              "#f0f921"
             ]
            ],
            "type": "contour"
           }
          ],
          "contourcarpet": [
           {
            "colorbar": {
             "outlinewidth": 0,
             "ticks": ""
            },
            "type": "contourcarpet"
           }
          ],
          "heatmap": [
           {
            "colorbar": {
             "outlinewidth": 0,
             "ticks": ""
            },
            "colorscale": [
             [
              0,
              "#0d0887"
             ],
             [
              0.1111111111111111,
              "#46039f"
             ],
             [
              0.2222222222222222,
              "#7201a8"
             ],
             [
              0.3333333333333333,
              "#9c179e"
             ],
             [
              0.4444444444444444,
              "#bd3786"
             ],
             [
              0.5555555555555556,
              "#d8576b"
             ],
             [
              0.6666666666666666,
              "#ed7953"
             ],
             [
              0.7777777777777778,
              "#fb9f3a"
             ],
             [
              0.8888888888888888,
              "#fdca26"
             ],
             [
              1,
              "#f0f921"
             ]
            ],
            "type": "heatmap"
           }
          ],
          "histogram": [
           {
            "marker": {
             "pattern": {
              "fillmode": "overlay",
              "size": 10,
              "solidity": 0.2
             }
            },
            "type": "histogram"
           }
          ],
          "histogram2d": [
           {
            "colorbar": {
             "outlinewidth": 0,
             "ticks": ""
            },
            "colorscale": [
             [
              0,
              "#0d0887"
             ],
             [
              0.1111111111111111,
              "#46039f"
             ],
             [
              0.2222222222222222,
              "#7201a8"
             ],
             [
              0.3333333333333333,
              "#9c179e"
             ],
             [
              0.4444444444444444,
              "#bd3786"
             ],
             [
              0.5555555555555556,
              "#d8576b"
             ],
             [
              0.6666666666666666,
              "#ed7953"
             ],
             [
              0.7777777777777778,
              "#fb9f3a"
             ],
             [
              0.8888888888888888,
              "#fdca26"
             ],
             [
              1,
              "#f0f921"
             ]
            ],
            "type": "histogram2d"
           }
          ],
          "histogram2dcontour": [
           {
            "colorbar": {
             "outlinewidth": 0,
             "ticks": ""
            },
            "colorscale": [
             [
              0,
              "#0d0887"
             ],
             [
              0.1111111111111111,
              "#46039f"
             ],
             [
              0.2222222222222222,
              "#7201a8"
             ],
             [
              0.3333333333333333,
              "#9c179e"
             ],
             [
              0.4444444444444444,
              "#bd3786"
             ],
             [
              0.5555555555555556,
              "#d8576b"
             ],
             [
              0.6666666666666666,
              "#ed7953"
             ],
             [
              0.7777777777777778,
              "#fb9f3a"
             ],
             [
              0.8888888888888888,
              "#fdca26"
             ],
             [
              1,
              "#f0f921"
             ]
            ],
            "type": "histogram2dcontour"
           }
          ],
          "mesh3d": [
           {
            "colorbar": {
             "outlinewidth": 0,
             "ticks": ""
            },
            "type": "mesh3d"
           }
          ],
          "parcoords": [
           {
            "line": {
             "colorbar": {
              "outlinewidth": 0,
              "ticks": ""
             }
            },
            "type": "parcoords"
           }
          ],
          "pie": [
           {
            "automargin": true,
            "type": "pie"
           }
          ],
          "scatter": [
           {
            "marker": {
             "line": {
              "color": "#283442"
             }
            },
            "type": "scatter"
           }
          ],
          "scatter3d": [
           {
            "line": {
             "colorbar": {
              "outlinewidth": 0,
              "ticks": ""
             }
            },
            "marker": {
             "colorbar": {
              "outlinewidth": 0,
              "ticks": ""
             }
            },
            "type": "scatter3d"
           }
          ],
          "scattercarpet": [
           {
            "marker": {
             "colorbar": {
              "outlinewidth": 0,
              "ticks": ""
             }
            },
            "type": "scattercarpet"
           }
          ],
          "scattergeo": [
           {
            "marker": {
             "colorbar": {
              "outlinewidth": 0,
              "ticks": ""
             }
            },
            "type": "scattergeo"
           }
          ],
          "scattergl": [
           {
            "marker": {
             "line": {
              "color": "#283442"
             }
            },
            "type": "scattergl"
           }
          ],
          "scattermap": [
           {
            "marker": {
             "colorbar": {
              "outlinewidth": 0,
              "ticks": ""
             }
            },
            "type": "scattermap"
           }
          ],
          "scattermapbox": [
           {
            "marker": {
             "colorbar": {
              "outlinewidth": 0,
              "ticks": ""
             }
            },
            "type": "scattermapbox"
           }
          ],
          "scatterpolar": [
           {
            "marker": {
             "colorbar": {
              "outlinewidth": 0,
              "ticks": ""
             }
            },
            "type": "scatterpolar"
           }
          ],
          "scatterpolargl": [
           {
            "marker": {
             "colorbar": {
              "outlinewidth": 0,
              "ticks": ""
             }
            },
            "type": "scatterpolargl"
           }
          ],
          "scatterternary": [
           {
            "marker": {
             "colorbar": {
              "outlinewidth": 0,
              "ticks": ""
             }
            },
            "type": "scatterternary"
           }
          ],
          "surface": [
           {
            "colorbar": {
             "outlinewidth": 0,
             "ticks": ""
            },
            "colorscale": [
             [
              0,
              "#0d0887"
             ],
             [
              0.1111111111111111,
              "#46039f"
             ],
             [
              0.2222222222222222,
              "#7201a8"
             ],
             [
              0.3333333333333333,
              "#9c179e"
             ],
             [
              0.4444444444444444,
              "#bd3786"
             ],
             [
              0.5555555555555556,
              "#d8576b"
             ],
             [
              0.6666666666666666,
              "#ed7953"
             ],
             [
              0.7777777777777778,
              "#fb9f3a"
             ],
             [
              0.8888888888888888,
              "#fdca26"
             ],
             [
              1,
              "#f0f921"
             ]
            ],
            "type": "surface"
           }
          ],
          "table": [
           {
            "cells": {
             "fill": {
              "color": "#506784"
             },
             "line": {
              "color": "rgb(17,17,17)"
             }
            },
            "header": {
             "fill": {
              "color": "#2a3f5f"
             },
             "line": {
              "color": "rgb(17,17,17)"
             }
            },
            "type": "table"
           }
          ]
         },
         "layout": {
          "annotationdefaults": {
           "arrowcolor": "#f2f5fa",
           "arrowhead": 0,
           "arrowwidth": 1
          },
          "autotypenumbers": "strict",
          "coloraxis": {
           "colorbar": {
            "outlinewidth": 0,
            "ticks": ""
           }
          },
          "colorscale": {
           "diverging": [
            [
             0,
             "#8e0152"
            ],
            [
             0.1,
             "#c51b7d"
            ],
            [
             0.2,
             "#de77ae"
            ],
            [
             0.3,
             "#f1b6da"
            ],
            [
             0.4,
             "#fde0ef"
            ],
            [
             0.5,
             "#f7f7f7"
            ],
            [
             0.6,
             "#e6f5d0"
            ],
            [
             0.7,
             "#b8e186"
            ],
            [
             0.8,
             "#7fbc41"
            ],
            [
             0.9,
             "#4d9221"
            ],
            [
             1,
             "#276419"
            ]
           ],
           "sequential": [
            [
             0,
             "#0d0887"
            ],
            [
             0.1111111111111111,
             "#46039f"
            ],
            [
             0.2222222222222222,
             "#7201a8"
            ],
            [
             0.3333333333333333,
             "#9c179e"
            ],
            [
             0.4444444444444444,
             "#bd3786"
            ],
            [
             0.5555555555555556,
             "#d8576b"
            ],
            [
             0.6666666666666666,
             "#ed7953"
            ],
            [
             0.7777777777777778,
             "#fb9f3a"
            ],
            [
             0.8888888888888888,
             "#fdca26"
            ],
            [
             1,
             "#f0f921"
            ]
           ],
           "sequentialminus": [
            [
             0,
             "#0d0887"
            ],
            [
             0.1111111111111111,
             "#46039f"
            ],
            [
             0.2222222222222222,
             "#7201a8"
            ],
            [
             0.3333333333333333,
             "#9c179e"
            ],
            [
             0.4444444444444444,
             "#bd3786"
            ],
            [
             0.5555555555555556,
             "#d8576b"
            ],
            [
             0.6666666666666666,
             "#ed7953"
            ],
            [
             0.7777777777777778,
             "#fb9f3a"
            ],
            [
             0.8888888888888888,
             "#fdca26"
            ],
            [
             1,
             "#f0f921"
            ]
           ]
          },
          "colorway": [
           "#636efa",
           "#EF553B",
           "#00cc96",
           "#ab63fa",
           "#FFA15A",
           "#19d3f3",
           "#FF6692",
           "#B6E880",
           "#FF97FF",
           "#FECB52"
          ],
          "font": {
           "color": "#f2f5fa"
          },
          "geo": {
           "bgcolor": "rgb(17,17,17)",
           "lakecolor": "rgb(17,17,17)",
           "landcolor": "rgb(17,17,17)",
           "showlakes": true,
           "showland": true,
           "subunitcolor": "#506784"
          },
          "hoverlabel": {
           "align": "left"
          },
          "hovermode": "closest",
          "mapbox": {
           "style": "dark"
          },
          "paper_bgcolor": "rgb(17,17,17)",
          "plot_bgcolor": "rgb(17,17,17)",
          "polar": {
           "angularaxis": {
            "gridcolor": "#506784",
            "linecolor": "#506784",
            "ticks": ""
           },
           "bgcolor": "rgb(17,17,17)",
           "radialaxis": {
            "gridcolor": "#506784",
            "linecolor": "#506784",
            "ticks": ""
           }
          },
          "scene": {
           "xaxis": {
            "backgroundcolor": "rgb(17,17,17)",
            "gridcolor": "#506784",
            "gridwidth": 2,
            "linecolor": "#506784",
            "showbackground": true,
            "ticks": "",
            "zerolinecolor": "#C8D4E3"
           },
           "yaxis": {
            "backgroundcolor": "rgb(17,17,17)",
            "gridcolor": "#506784",
            "gridwidth": 2,
            "linecolor": "#506784",
            "showbackground": true,
            "ticks": "",
            "zerolinecolor": "#C8D4E3"
           },
           "zaxis": {
            "backgroundcolor": "rgb(17,17,17)",
            "gridcolor": "#506784",
            "gridwidth": 2,
            "linecolor": "#506784",
            "showbackground": true,
            "ticks": "",
            "zerolinecolor": "#C8D4E3"
           }
          },
          "shapedefaults": {
           "line": {
            "color": "#f2f5fa"
           }
          },
          "sliderdefaults": {
           "bgcolor": "#C8D4E3",
           "bordercolor": "rgb(17,17,17)",
           "borderwidth": 1,
           "tickwidth": 0
          },
          "ternary": {
           "aaxis": {
            "gridcolor": "#506784",
            "linecolor": "#506784",
            "ticks": ""
           },
           "baxis": {
            "gridcolor": "#506784",
            "linecolor": "#506784",
            "ticks": ""
           },
           "bgcolor": "rgb(17,17,17)",
           "caxis": {
            "gridcolor": "#506784",
            "linecolor": "#506784",
            "ticks": ""
           }
          },
          "title": {
           "x": 0.05
          },
          "updatemenudefaults": {
           "bgcolor": "#506784",
           "borderwidth": 0
          },
          "xaxis": {
           "automargin": true,
           "gridcolor": "#283442",
           "linecolor": "#506784",
           "ticks": "",
           "title": {
            "standoff": 15
           },
           "zerolinecolor": "#283442",
           "zerolinewidth": 2
          },
          "yaxis": {
           "automargin": true,
           "gridcolor": "#283442",
           "linecolor": "#506784",
           "ticks": "",
           "title": {
            "standoff": 15
           },
           "zerolinecolor": "#283442",
           "zerolinewidth": 2
          }
         }
        },
        "title": {
         "text": "Charging Cost Distribution"
        },
        "xaxis": {
         "anchor": "y",
         "domain": [
          0,
          1
         ],
         "title": {
          "text": "Charging Cost (USD)"
         }
        },
        "yaxis": {
         "anchor": "x",
         "domain": [
          0,
          1
         ],
         "title": {
          "text": "count"
         }
        }
       }
      }
     },
     "metadata": {},
     "output_type": "display_data"
    }
   ],
   "source": [
    "# Plot the histogram for Charging Cost Distribution\n",
    "fig = px.histogram(df, x='Charging Cost (USD)', \n",
    "                   title='Charging Cost Distribution',\n",
    "                   labels={'Charging Cost (USD)': 'Charging Cost (USD)'},template='plotly_dark',\n",
    "                   nbins=30)  # Adjust the number of bins as needed\n",
    "fig.show()"
   ]
  },
  {
   "cell_type": "code",
   "execution_count": 5,
   "id": "3611ca14",
   "metadata": {
    "vscode": {
     "languageId": "javascript"
    }
   },
   "outputs": [
    {
     "data": {
      "application/vnd.plotly.v1+json": {
       "config": {
        "plotlyServerURL": "https://plot.ly"
       },
       "data": [
        {
         "alignmentgroup": "True",
         "hovertemplate": "User Type=%{x}<br>Energy Consumed (kWh)=%{y}<extra></extra>",
         "legendgroup": "",
         "marker": {
          "color": "#636efa"
         },
         "name": "",
         "notched": false,
         "offsetgroup": "",
         "orientation": "v",
         "showlegend": false,
         "type": "box",
         "x": [
          "Commuter",
          "Casual Driver",
          "Commuter",
          "Long-Distance Traveler",
          "Long-Distance Traveler",
          "Long-Distance Traveler",
          "Commuter",
          "Long-Distance Traveler",
          "Commuter",
          "Commuter",
          "Casual Driver",
          "Long-Distance Traveler",
          "Casual Driver",
          "Commuter",
          "Casual Driver",
          "Long-Distance Traveler",
          "Commuter",
          "Casual Driver",
          "Long-Distance Traveler",
          "Long-Distance Traveler",
          "Casual Driver",
          "Commuter",
          "Long-Distance Traveler",
          "Commuter",
          "Long-Distance Traveler",
          "Commuter",
          "Commuter",
          "Long-Distance Traveler",
          "Casual Driver",
          "Casual Driver",
          "Casual Driver",
          "Commuter",
          "Casual Driver",
          "Casual Driver",
          "Long-Distance Traveler",
          "Commuter",
          "Casual Driver",
          "Long-Distance Traveler",
          "Commuter",
          "Long-Distance Traveler",
          "Casual Driver",
          "Commuter",
          "Commuter",
          "Casual Driver",
          "Long-Distance Traveler",
          "Commuter",
          "Commuter",
          "Commuter",
          "Casual Driver",
          "Long-Distance Traveler",
          "Casual Driver",
          "Commuter",
          "Long-Distance Traveler",
          "Long-Distance Traveler",
          "Casual Driver",
          "Casual Driver",
          "Commuter",
          "Casual Driver",
          "Casual Driver",
          "Casual Driver",
          "Casual Driver",
          "Casual Driver",
          "Commuter",
          "Long-Distance Traveler",
          "Casual Driver",
          "Long-Distance Traveler",
          "Long-Distance Traveler",
          "Casual Driver",
          "Casual Driver",
          "Long-Distance Traveler",
          "Commuter",
          "Long-Distance Traveler",
          "Commuter",
          "Long-Distance Traveler",
          "Casual Driver",
          "Commuter",
          "Long-Distance Traveler",
          "Commuter",
          "Casual Driver",
          "Commuter",
          "Casual Driver",
          "Casual Driver",
          "Commuter",
          "Casual Driver",
          "Casual Driver",
          "Casual Driver",
          "Commuter",
          "Casual Driver",
          "Long-Distance Traveler",
          "Casual Driver",
          "Long-Distance Traveler",
          "Commuter",
          "Long-Distance Traveler",
          "Casual Driver",
          "Casual Driver",
          "Casual Driver",
          "Casual Driver",
          "Casual Driver",
          "Casual Driver",
          "Commuter",
          "Casual Driver",
          "Long-Distance Traveler",
          "Long-Distance Traveler",
          "Long-Distance Traveler",
          "Commuter",
          "Long-Distance Traveler",
          "Long-Distance Traveler",
          "Long-Distance Traveler",
          "Commuter",
          "Long-Distance Traveler",
          "Long-Distance Traveler",
          "Commuter",
          "Casual Driver",
          "Long-Distance Traveler",
          "Casual Driver",
          "Long-Distance Traveler",
          "Commuter",
          "Casual Driver",
          "Commuter",
          "Casual Driver",
          "Commuter",
          "Casual Driver",
          "Casual Driver",
          "Casual Driver",
          "Long-Distance Traveler",
          "Casual Driver",
          "Casual Driver",
          "Long-Distance Traveler",
          "Long-Distance Traveler",
          "Commuter",
          "Commuter",
          "Long-Distance Traveler",
          "Long-Distance Traveler",
          "Long-Distance Traveler",
          "Long-Distance Traveler",
          "Long-Distance Traveler",
          "Commuter",
          "Long-Distance Traveler",
          "Long-Distance Traveler",
          "Commuter",
          "Casual Driver",
          "Commuter",
          "Commuter",
          "Long-Distance Traveler",
          "Casual Driver",
          "Commuter",
          "Casual Driver",
          "Commuter",
          "Long-Distance Traveler",
          "Commuter",
          "Commuter",
          "Commuter",
          "Casual Driver",
          "Casual Driver",
          "Long-Distance Traveler",
          "Casual Driver",
          "Casual Driver",
          "Casual Driver",
          "Long-Distance Traveler",
          "Long-Distance Traveler",
          "Long-Distance Traveler",
          "Long-Distance Traveler",
          "Commuter",
          "Long-Distance Traveler",
          "Long-Distance Traveler",
          "Commuter",
          "Commuter",
          "Casual Driver",
          "Casual Driver",
          "Long-Distance Traveler",
          "Casual Driver",
          "Commuter",
          "Casual Driver",
          "Casual Driver",
          "Long-Distance Traveler",
          "Commuter",
          "Commuter",
          "Casual Driver",
          "Casual Driver",
          "Casual Driver",
          "Long-Distance Traveler",
          "Casual Driver",
          "Casual Driver",
          "Long-Distance Traveler",
          "Commuter",
          "Long-Distance Traveler",
          "Casual Driver",
          "Casual Driver",
          "Commuter",
          "Long-Distance Traveler",
          "Casual Driver",
          "Commuter",
          "Casual Driver",
          "Commuter",
          "Casual Driver",
          "Casual Driver",
          "Commuter",
          "Commuter",
          "Casual Driver",
          "Commuter",
          "Casual Driver",
          "Casual Driver",
          "Long-Distance Traveler",
          "Casual Driver",
          "Casual Driver",
          "Commuter",
          "Long-Distance Traveler",
          "Commuter",
          "Commuter",
          "Casual Driver",
          "Casual Driver",
          "Casual Driver",
          "Commuter",
          "Commuter",
          "Casual Driver",
          "Commuter",
          "Long-Distance Traveler",
          "Long-Distance Traveler",
          "Long-Distance Traveler",
          "Commuter",
          "Long-Distance Traveler",
          "Casual Driver",
          "Casual Driver",
          "Casual Driver",
          "Long-Distance Traveler",
          "Long-Distance Traveler",
          "Commuter",
          "Casual Driver",
          "Commuter",
          "Long-Distance Traveler",
          "Commuter",
          "Casual Driver",
          "Commuter",
          "Commuter",
          "Long-Distance Traveler",
          "Long-Distance Traveler",
          "Long-Distance Traveler",
          "Long-Distance Traveler",
          "Casual Driver",
          "Casual Driver",
          "Commuter",
          "Casual Driver",
          "Commuter",
          "Long-Distance Traveler",
          "Commuter",
          "Commuter",
          "Casual Driver",
          "Commuter",
          "Casual Driver",
          "Commuter",
          "Casual Driver",
          "Long-Distance Traveler",
          "Casual Driver",
          "Long-Distance Traveler",
          "Casual Driver",
          "Long-Distance Traveler",
          "Long-Distance Traveler",
          "Casual Driver",
          "Long-Distance Traveler",
          "Commuter",
          "Commuter",
          "Long-Distance Traveler",
          "Long-Distance Traveler",
          "Long-Distance Traveler",
          "Casual Driver",
          "Commuter",
          "Long-Distance Traveler",
          "Long-Distance Traveler",
          "Casual Driver",
          "Commuter",
          "Long-Distance Traveler",
          "Commuter",
          "Casual Driver",
          "Commuter",
          "Long-Distance Traveler",
          "Long-Distance Traveler",
          "Commuter",
          "Casual Driver",
          "Casual Driver",
          "Casual Driver",
          "Casual Driver",
          "Long-Distance Traveler",
          "Commuter",
          "Long-Distance Traveler",
          "Commuter",
          "Commuter",
          "Casual Driver",
          "Casual Driver",
          "Commuter",
          "Commuter",
          "Commuter",
          "Long-Distance Traveler",
          "Commuter",
          "Long-Distance Traveler",
          "Commuter",
          "Casual Driver",
          "Commuter",
          "Commuter",
          "Long-Distance Traveler",
          "Commuter",
          "Long-Distance Traveler",
          "Long-Distance Traveler",
          "Casual Driver",
          "Casual Driver",
          "Casual Driver",
          "Casual Driver",
          "Long-Distance Traveler",
          "Commuter",
          "Long-Distance Traveler",
          "Casual Driver",
          "Commuter",
          "Long-Distance Traveler",
          "Commuter",
          "Long-Distance Traveler",
          "Commuter",
          "Commuter",
          "Casual Driver",
          "Casual Driver",
          "Commuter",
          "Commuter",
          "Casual Driver",
          "Long-Distance Traveler",
          "Commuter",
          "Long-Distance Traveler",
          "Casual Driver",
          "Commuter",
          "Long-Distance Traveler",
          "Casual Driver",
          "Commuter",
          "Long-Distance Traveler",
          "Commuter",
          "Long-Distance Traveler",
          "Long-Distance Traveler",
          "Commuter",
          "Casual Driver",
          "Commuter",
          "Casual Driver",
          "Long-Distance Traveler",
          "Long-Distance Traveler",
          "Long-Distance Traveler",
          "Casual Driver",
          "Long-Distance Traveler",
          "Commuter",
          "Long-Distance Traveler",
          "Casual Driver",
          "Casual Driver",
          "Commuter",
          "Commuter",
          "Casual Driver",
          "Casual Driver",
          "Commuter",
          "Commuter",
          "Commuter",
          "Commuter",
          "Casual Driver",
          "Long-Distance Traveler",
          "Casual Driver",
          "Commuter",
          "Casual Driver",
          "Commuter",
          "Casual Driver",
          "Commuter",
          "Commuter",
          "Casual Driver",
          "Commuter",
          "Long-Distance Traveler",
          "Commuter",
          "Commuter",
          "Commuter",
          "Long-Distance Traveler",
          "Casual Driver",
          "Long-Distance Traveler",
          "Long-Distance Traveler",
          "Long-Distance Traveler",
          "Casual Driver",
          "Commuter",
          "Long-Distance Traveler",
          "Commuter",
          "Long-Distance Traveler",
          "Long-Distance Traveler",
          "Long-Distance Traveler",
          "Long-Distance Traveler",
          "Long-Distance Traveler",
          "Long-Distance Traveler",
          "Casual Driver",
          "Commuter",
          "Commuter",
          "Casual Driver",
          "Long-Distance Traveler",
          "Casual Driver",
          "Casual Driver",
          "Casual Driver",
          "Commuter",
          "Casual Driver",
          "Long-Distance Traveler",
          "Casual Driver",
          "Commuter",
          "Commuter",
          "Long-Distance Traveler",
          "Casual Driver",
          "Long-Distance Traveler",
          "Casual Driver",
          "Long-Distance Traveler",
          "Long-Distance Traveler",
          "Long-Distance Traveler",
          "Commuter",
          "Commuter",
          "Casual Driver",
          "Commuter",
          "Long-Distance Traveler",
          "Commuter",
          "Commuter",
          "Casual Driver",
          "Long-Distance Traveler",
          "Commuter",
          "Commuter",
          "Casual Driver",
          "Casual Driver",
          "Long-Distance Traveler",
          "Casual Driver",
          "Long-Distance Traveler",
          "Long-Distance Traveler",
          "Commuter",
          "Commuter",
          "Commuter",
          "Commuter",
          "Commuter",
          "Long-Distance Traveler",
          "Commuter",
          "Commuter",
          "Commuter",
          "Long-Distance Traveler",
          "Casual Driver",
          "Casual Driver",
          "Commuter",
          "Casual Driver",
          "Long-Distance Traveler",
          "Commuter",
          "Long-Distance Traveler",
          "Long-Distance Traveler",
          "Commuter",
          "Long-Distance Traveler",
          "Commuter",
          "Long-Distance Traveler",
          "Casual Driver",
          "Casual Driver",
          "Casual Driver",
          "Long-Distance Traveler",
          "Commuter",
          "Casual Driver",
          "Commuter",
          "Casual Driver",
          "Casual Driver",
          "Long-Distance Traveler",
          "Casual Driver",
          "Commuter",
          "Commuter",
          "Casual Driver",
          "Commuter",
          "Commuter",
          "Commuter",
          "Commuter",
          "Commuter",
          "Casual Driver",
          "Commuter",
          "Commuter",
          "Casual Driver",
          "Long-Distance Traveler",
          "Commuter",
          "Long-Distance Traveler",
          "Long-Distance Traveler",
          "Casual Driver",
          "Long-Distance Traveler",
          "Long-Distance Traveler",
          "Long-Distance Traveler",
          "Casual Driver",
          "Commuter",
          "Casual Driver",
          "Casual Driver",
          "Casual Driver",
          "Commuter",
          "Long-Distance Traveler",
          "Commuter",
          "Long-Distance Traveler",
          "Commuter",
          "Casual Driver",
          "Casual Driver",
          "Long-Distance Traveler",
          "Casual Driver",
          "Casual Driver",
          "Commuter",
          "Long-Distance Traveler",
          "Commuter",
          "Commuter",
          "Casual Driver",
          "Commuter",
          "Long-Distance Traveler",
          "Casual Driver",
          "Long-Distance Traveler",
          "Long-Distance Traveler",
          "Long-Distance Traveler",
          "Long-Distance Traveler",
          "Commuter",
          "Casual Driver",
          "Commuter",
          "Casual Driver",
          "Commuter",
          "Casual Driver",
          "Long-Distance Traveler",
          "Long-Distance Traveler",
          "Commuter",
          "Commuter",
          "Long-Distance Traveler",
          "Commuter",
          "Commuter",
          "Casual Driver",
          "Casual Driver",
          "Casual Driver",
          "Commuter",
          "Long-Distance Traveler",
          "Long-Distance Traveler",
          "Long-Distance Traveler",
          "Long-Distance Traveler",
          "Casual Driver",
          "Casual Driver",
          "Commuter",
          "Long-Distance Traveler",
          "Commuter",
          "Long-Distance Traveler",
          "Long-Distance Traveler",
          "Commuter",
          "Casual Driver",
          "Commuter",
          "Commuter",
          "Long-Distance Traveler",
          "Casual Driver",
          "Commuter",
          "Casual Driver",
          "Casual Driver",
          "Casual Driver",
          "Casual Driver",
          "Long-Distance Traveler",
          "Long-Distance Traveler",
          "Long-Distance Traveler",
          "Long-Distance Traveler",
          "Long-Distance Traveler",
          "Commuter",
          "Casual Driver",
          "Long-Distance Traveler",
          "Casual Driver",
          "Long-Distance Traveler",
          "Long-Distance Traveler",
          "Commuter",
          "Casual Driver",
          "Long-Distance Traveler",
          "Long-Distance Traveler",
          "Commuter",
          "Casual Driver",
          "Casual Driver",
          "Long-Distance Traveler",
          "Commuter",
          "Commuter",
          "Long-Distance Traveler",
          "Casual Driver",
          "Long-Distance Traveler",
          "Casual Driver",
          "Commuter",
          "Long-Distance Traveler",
          "Long-Distance Traveler",
          "Long-Distance Traveler",
          "Casual Driver",
          "Casual Driver",
          "Commuter",
          "Casual Driver",
          "Casual Driver",
          "Long-Distance Traveler",
          "Commuter",
          "Commuter",
          "Long-Distance Traveler",
          "Casual Driver",
          "Casual Driver",
          "Long-Distance Traveler",
          "Long-Distance Traveler",
          "Casual Driver",
          "Commuter",
          "Long-Distance Traveler",
          "Casual Driver",
          "Long-Distance Traveler",
          "Commuter",
          "Commuter",
          "Casual Driver",
          "Commuter",
          "Long-Distance Traveler",
          "Commuter",
          "Casual Driver",
          "Long-Distance Traveler",
          "Commuter",
          "Commuter",
          "Commuter",
          "Casual Driver",
          "Casual Driver",
          "Commuter",
          "Long-Distance Traveler",
          "Commuter",
          "Long-Distance Traveler",
          "Long-Distance Traveler",
          "Casual Driver",
          "Commuter",
          "Casual Driver",
          "Commuter",
          "Long-Distance Traveler",
          "Casual Driver",
          "Casual Driver",
          "Casual Driver",
          "Long-Distance Traveler",
          "Casual Driver",
          "Commuter",
          "Commuter",
          "Long-Distance Traveler",
          "Casual Driver",
          "Commuter",
          "Casual Driver",
          "Commuter",
          "Long-Distance Traveler",
          "Commuter",
          "Commuter",
          "Commuter",
          "Long-Distance Traveler",
          "Commuter",
          "Long-Distance Traveler",
          "Long-Distance Traveler",
          "Commuter",
          "Casual Driver",
          "Commuter",
          "Long-Distance Traveler",
          "Casual Driver",
          "Commuter",
          "Commuter",
          "Commuter",
          "Commuter",
          "Commuter",
          "Casual Driver",
          "Commuter",
          "Long-Distance Traveler",
          "Long-Distance Traveler",
          "Casual Driver",
          "Long-Distance Traveler",
          "Casual Driver",
          "Long-Distance Traveler",
          "Casual Driver",
          "Commuter",
          "Long-Distance Traveler",
          "Long-Distance Traveler",
          "Casual Driver",
          "Casual Driver",
          "Casual Driver",
          "Long-Distance Traveler",
          "Casual Driver",
          "Commuter",
          "Casual Driver",
          "Commuter",
          "Commuter",
          "Casual Driver",
          "Commuter",
          "Commuter",
          "Commuter",
          "Casual Driver",
          "Casual Driver",
          "Commuter",
          "Long-Distance Traveler",
          "Commuter",
          "Casual Driver",
          "Commuter",
          "Commuter",
          "Casual Driver",
          "Casual Driver",
          "Long-Distance Traveler",
          "Commuter",
          "Commuter",
          "Commuter",
          "Long-Distance Traveler",
          "Long-Distance Traveler",
          "Commuter",
          "Casual Driver",
          "Commuter",
          "Commuter",
          "Commuter",
          "Casual Driver",
          "Long-Distance Traveler",
          "Long-Distance Traveler",
          "Commuter",
          "Commuter",
          "Commuter",
          "Casual Driver",
          "Commuter",
          "Casual Driver",
          "Commuter",
          "Commuter",
          "Commuter",
          "Long-Distance Traveler",
          "Commuter",
          "Commuter",
          "Commuter",
          "Commuter",
          "Casual Driver",
          "Casual Driver",
          "Commuter",
          "Casual Driver",
          "Commuter",
          "Commuter",
          "Casual Driver",
          "Casual Driver",
          "Commuter",
          "Long-Distance Traveler",
          "Commuter",
          "Commuter",
          "Long-Distance Traveler",
          "Casual Driver",
          "Long-Distance Traveler",
          "Commuter",
          "Casual Driver",
          "Long-Distance Traveler",
          "Long-Distance Traveler",
          "Commuter",
          "Long-Distance Traveler",
          "Commuter",
          "Casual Driver",
          "Long-Distance Traveler",
          "Casual Driver",
          "Casual Driver",
          "Commuter",
          "Long-Distance Traveler",
          "Casual Driver",
          "Long-Distance Traveler",
          "Long-Distance Traveler",
          "Long-Distance Traveler",
          "Long-Distance Traveler",
          "Casual Driver",
          "Long-Distance Traveler",
          "Commuter",
          "Commuter",
          "Long-Distance Traveler",
          "Long-Distance Traveler",
          "Commuter",
          "Long-Distance Traveler",
          "Casual Driver",
          "Long-Distance Traveler",
          "Long-Distance Traveler",
          "Casual Driver",
          "Long-Distance Traveler",
          "Casual Driver",
          "Casual Driver",
          "Commuter",
          "Commuter",
          "Long-Distance Traveler",
          "Commuter",
          "Long-Distance Traveler",
          "Long-Distance Traveler",
          "Commuter",
          "Commuter",
          "Long-Distance Traveler",
          "Long-Distance Traveler",
          "Long-Distance Traveler",
          "Casual Driver",
          "Long-Distance Traveler",
          "Long-Distance Traveler",
          "Long-Distance Traveler",
          "Commuter",
          "Commuter",
          "Casual Driver",
          "Long-Distance Traveler",
          "Long-Distance Traveler",
          "Long-Distance Traveler",
          "Long-Distance Traveler",
          "Long-Distance Traveler",
          "Long-Distance Traveler",
          "Commuter",
          "Casual Driver",
          "Commuter",
          "Commuter",
          "Commuter",
          "Casual Driver",
          "Long-Distance Traveler",
          "Casual Driver",
          "Commuter",
          "Commuter",
          "Commuter",
          "Commuter",
          "Long-Distance Traveler",
          "Commuter",
          "Commuter",
          "Long-Distance Traveler",
          "Commuter",
          "Long-Distance Traveler",
          "Casual Driver",
          "Long-Distance Traveler",
          "Commuter",
          "Long-Distance Traveler",
          "Commuter",
          "Commuter",
          "Casual Driver",
          "Commuter",
          "Commuter",
          "Commuter",
          "Long-Distance Traveler",
          "Commuter",
          "Commuter",
          "Commuter",
          "Casual Driver",
          "Casual Driver",
          "Long-Distance Traveler",
          "Casual Driver",
          "Casual Driver",
          "Long-Distance Traveler",
          "Casual Driver",
          "Commuter",
          "Commuter",
          "Commuter",
          "Casual Driver",
          "Long-Distance Traveler",
          "Casual Driver",
          "Long-Distance Traveler",
          "Commuter",
          "Long-Distance Traveler",
          "Commuter",
          "Casual Driver",
          "Casual Driver",
          "Long-Distance Traveler",
          "Casual Driver",
          "Long-Distance Traveler",
          "Casual Driver",
          "Casual Driver",
          "Casual Driver",
          "Long-Distance Traveler",
          "Long-Distance Traveler",
          "Long-Distance Traveler",
          "Casual Driver",
          "Commuter",
          "Long-Distance Traveler",
          "Commuter",
          "Long-Distance Traveler",
          "Long-Distance Traveler",
          "Commuter",
          "Commuter",
          "Casual Driver",
          "Commuter",
          "Long-Distance Traveler",
          "Commuter",
          "Commuter",
          "Commuter",
          "Commuter",
          "Casual Driver",
          "Long-Distance Traveler",
          "Long-Distance Traveler",
          "Long-Distance Traveler",
          "Casual Driver",
          "Commuter",
          "Long-Distance Traveler",
          "Long-Distance Traveler",
          "Commuter",
          "Long-Distance Traveler",
          "Commuter",
          "Casual Driver",
          "Long-Distance Traveler",
          "Long-Distance Traveler",
          "Commuter",
          "Casual Driver",
          "Long-Distance Traveler",
          "Commuter",
          "Casual Driver",
          "Commuter",
          "Long-Distance Traveler",
          "Long-Distance Traveler",
          "Long-Distance Traveler",
          "Commuter",
          "Casual Driver",
          "Long-Distance Traveler",
          "Long-Distance Traveler",
          "Commuter",
          "Long-Distance Traveler",
          "Commuter",
          "Long-Distance Traveler",
          "Casual Driver",
          "Long-Distance Traveler",
          "Commuter",
          "Long-Distance Traveler",
          "Commuter",
          "Commuter",
          "Commuter",
          "Casual Driver",
          "Casual Driver",
          "Long-Distance Traveler",
          "Commuter",
          "Casual Driver",
          "Commuter",
          "Long-Distance Traveler",
          "Commuter",
          "Casual Driver",
          "Casual Driver",
          "Commuter",
          "Commuter",
          "Commuter",
          "Commuter",
          "Commuter",
          "Commuter",
          "Long-Distance Traveler",
          "Long-Distance Traveler",
          "Casual Driver",
          "Commuter",
          "Long-Distance Traveler",
          "Commuter",
          "Casual Driver",
          "Long-Distance Traveler",
          "Commuter",
          "Commuter",
          "Commuter",
          "Commuter",
          "Commuter",
          "Commuter",
          "Casual Driver",
          "Commuter",
          "Commuter",
          "Long-Distance Traveler",
          "Commuter",
          "Commuter",
          "Long-Distance Traveler",
          "Long-Distance Traveler",
          "Commuter",
          "Casual Driver",
          "Long-Distance Traveler",
          "Long-Distance Traveler",
          "Commuter",
          "Long-Distance Traveler",
          "Commuter",
          "Casual Driver",
          "Casual Driver",
          "Commuter",
          "Casual Driver",
          "Commuter",
          "Long-Distance Traveler",
          "Long-Distance Traveler",
          "Commuter",
          "Commuter",
          "Long-Distance Traveler",
          "Commuter",
          "Long-Distance Traveler",
          "Commuter",
          "Long-Distance Traveler",
          "Casual Driver",
          "Casual Driver",
          "Long-Distance Traveler",
          "Long-Distance Traveler",
          "Long-Distance Traveler",
          "Long-Distance Traveler",
          "Long-Distance Traveler",
          "Casual Driver",
          "Long-Distance Traveler",
          "Commuter",
          "Casual Driver",
          "Long-Distance Traveler",
          "Commuter",
          "Casual Driver",
          "Commuter",
          "Long-Distance Traveler",
          "Commuter",
          "Commuter",
          "Casual Driver",
          "Commuter",
          "Commuter",
          "Casual Driver",
          "Long-Distance Traveler",
          "Commuter",
          "Long-Distance Traveler",
          "Casual Driver",
          "Long-Distance Traveler",
          "Commuter",
          "Commuter",
          "Long-Distance Traveler",
          "Long-Distance Traveler",
          "Commuter",
          "Casual Driver",
          "Commuter",
          "Commuter",
          "Long-Distance Traveler",
          "Commuter",
          "Long-Distance Traveler",
          "Casual Driver",
          "Commuter",
          "Casual Driver",
          "Casual Driver",
          "Commuter",
          "Long-Distance Traveler",
          "Long-Distance Traveler",
          "Commuter",
          "Long-Distance Traveler",
          "Long-Distance Traveler",
          "Casual Driver",
          "Long-Distance Traveler",
          "Long-Distance Traveler",
          "Commuter",
          "Casual Driver",
          "Long-Distance Traveler",
          "Commuter",
          "Long-Distance Traveler",
          "Casual Driver",
          "Casual Driver",
          "Casual Driver",
          "Casual Driver",
          "Casual Driver",
          "Casual Driver",
          "Commuter",
          "Casual Driver",
          "Long-Distance Traveler",
          "Long-Distance Traveler",
          "Long-Distance Traveler",
          "Long-Distance Traveler",
          "Casual Driver",
          "Casual Driver",
          "Commuter",
          "Casual Driver",
          "Long-Distance Traveler",
          "Commuter",
          "Commuter",
          "Commuter",
          "Commuter",
          "Casual Driver",
          "Commuter",
          "Casual Driver",
          "Commuter",
          "Casual Driver",
          "Casual Driver",
          "Long-Distance Traveler",
          "Casual Driver",
          "Commuter",
          "Commuter",
          "Casual Driver",
          "Casual Driver",
          "Casual Driver",
          "Casual Driver",
          "Long-Distance Traveler",
          "Long-Distance Traveler",
          "Long-Distance Traveler",
          "Long-Distance Traveler",
          "Long-Distance Traveler",
          "Casual Driver",
          "Long-Distance Traveler",
          "Long-Distance Traveler",
          "Casual Driver",
          "Casual Driver",
          "Commuter",
          "Commuter",
          "Commuter",
          "Long-Distance Traveler",
          "Casual Driver",
          "Commuter",
          "Commuter",
          "Long-Distance Traveler",
          "Commuter",
          "Casual Driver",
          "Casual Driver",
          "Commuter",
          "Casual Driver",
          "Commuter",
          "Commuter",
          "Casual Driver",
          "Casual Driver",
          "Long-Distance Traveler",
          "Long-Distance Traveler",
          "Commuter",
          "Casual Driver",
          "Commuter",
          "Long-Distance Traveler",
          "Commuter",
          "Casual Driver",
          "Casual Driver",
          "Long-Distance Traveler",
          "Commuter",
          "Commuter",
          "Casual Driver",
          "Long-Distance Traveler",
          "Casual Driver",
          "Casual Driver",
          "Long-Distance Traveler",
          "Casual Driver",
          "Commuter",
          "Commuter",
          "Commuter",
          "Casual Driver",
          "Long-Distance Traveler",
          "Long-Distance Traveler",
          "Long-Distance Traveler",
          "Long-Distance Traveler",
          "Long-Distance Traveler",
          "Casual Driver",
          "Long-Distance Traveler",
          "Commuter",
          "Casual Driver",
          "Commuter",
          "Long-Distance Traveler",
          "Long-Distance Traveler",
          "Commuter",
          "Commuter",
          "Casual Driver",
          "Long-Distance Traveler",
          "Long-Distance Traveler",
          "Long-Distance Traveler",
          "Commuter",
          "Long-Distance Traveler",
          "Casual Driver",
          "Casual Driver",
          "Commuter",
          "Commuter",
          "Casual Driver",
          "Commuter",
          "Commuter",
          "Long-Distance Traveler",
          "Casual Driver",
          "Long-Distance Traveler",
          "Casual Driver",
          "Long-Distance Traveler",
          "Casual Driver",
          "Casual Driver",
          "Casual Driver",
          "Commuter",
          "Long-Distance Traveler",
          "Commuter",
          "Commuter",
          "Casual Driver",
          "Casual Driver",
          "Commuter",
          "Commuter",
          "Commuter",
          "Casual Driver",
          "Casual Driver",
          "Casual Driver",
          "Long-Distance Traveler",
          "Commuter",
          "Commuter",
          "Long-Distance Traveler",
          "Commuter",
          "Commuter",
          "Commuter",
          "Long-Distance Traveler",
          "Long-Distance Traveler",
          "Commuter",
          "Casual Driver",
          "Commuter",
          "Commuter",
          "Casual Driver",
          "Commuter",
          "Commuter",
          "Long-Distance Traveler",
          "Commuter",
          "Casual Driver",
          "Long-Distance Traveler",
          "Long-Distance Traveler",
          "Casual Driver",
          "Casual Driver",
          "Long-Distance Traveler",
          "Commuter",
          "Commuter",
          "Long-Distance Traveler",
          "Commuter",
          "Long-Distance Traveler",
          "Casual Driver",
          "Commuter",
          "Commuter",
          "Long-Distance Traveler",
          "Long-Distance Traveler",
          "Commuter",
          "Commuter",
          "Commuter",
          "Casual Driver",
          "Commuter",
          "Commuter",
          "Long-Distance Traveler",
          "Casual Driver",
          "Long-Distance Traveler",
          "Commuter",
          "Casual Driver",
          "Commuter",
          "Casual Driver",
          "Casual Driver",
          "Casual Driver",
          "Casual Driver",
          "Casual Driver",
          "Casual Driver",
          "Long-Distance Traveler",
          "Long-Distance Traveler",
          "Commuter",
          "Casual Driver",
          "Casual Driver",
          "Long-Distance Traveler",
          "Commuter",
          "Commuter",
          "Long-Distance Traveler",
          "Long-Distance Traveler",
          "Casual Driver",
          "Long-Distance Traveler",
          "Casual Driver",
          "Commuter",
          "Casual Driver",
          "Long-Distance Traveler",
          "Casual Driver",
          "Casual Driver",
          "Long-Distance Traveler",
          "Casual Driver",
          "Commuter",
          "Casual Driver",
          "Long-Distance Traveler",
          "Long-Distance Traveler",
          "Long-Distance Traveler",
          "Casual Driver",
          "Commuter",
          "Long-Distance Traveler",
          "Long-Distance Traveler",
          "Commuter",
          "Long-Distance Traveler",
          "Casual Driver",
          "Long-Distance Traveler",
          "Long-Distance Traveler",
          "Casual Driver",
          "Commuter",
          "Commuter",
          "Long-Distance Traveler",
          "Casual Driver",
          "Casual Driver",
          "Commuter",
          "Commuter",
          "Commuter",
          "Casual Driver",
          "Casual Driver",
          "Casual Driver",
          "Long-Distance Traveler",
          "Long-Distance Traveler",
          "Commuter",
          "Commuter",
          "Long-Distance Traveler",
          "Long-Distance Traveler",
          "Long-Distance Traveler",
          "Long-Distance Traveler",
          "Commuter",
          "Long-Distance Traveler",
          "Long-Distance Traveler",
          "Casual Driver",
          "Commuter",
          "Commuter",
          "Casual Driver",
          "Commuter",
          "Commuter",
          "Long-Distance Traveler",
          "Long-Distance Traveler",
          "Commuter",
          "Casual Driver",
          "Casual Driver",
          "Commuter",
          "Commuter",
          "Commuter",
          "Commuter",
          "Long-Distance Traveler",
          "Long-Distance Traveler",
          "Commuter",
          "Casual Driver",
          "Long-Distance Traveler",
          "Commuter",
          "Casual Driver",
          "Long-Distance Traveler",
          "Long-Distance Traveler",
          "Commuter",
          "Casual Driver",
          "Commuter",
          "Long-Distance Traveler",
          "Casual Driver",
          "Long-Distance Traveler",
          "Commuter",
          "Commuter",
          "Long-Distance Traveler",
          "Commuter",
          "Commuter",
          "Long-Distance Traveler",
          "Casual Driver",
          "Long-Distance Traveler",
          "Long-Distance Traveler",
          "Casual Driver",
          "Commuter",
          "Casual Driver",
          "Long-Distance Traveler",
          "Casual Driver",
          "Commuter",
          "Casual Driver",
          "Casual Driver",
          "Long-Distance Traveler",
          "Casual Driver",
          "Long-Distance Traveler",
          "Commuter",
          "Casual Driver",
          "Casual Driver",
          "Long-Distance Traveler",
          "Long-Distance Traveler",
          "Commuter",
          "Long-Distance Traveler",
          "Long-Distance Traveler",
          "Commuter",
          "Long-Distance Traveler",
          "Long-Distance Traveler",
          "Long-Distance Traveler",
          "Long-Distance Traveler",
          "Commuter",
          "Commuter",
          "Long-Distance Traveler",
          "Casual Driver",
          "Commuter",
          "Casual Driver",
          "Long-Distance Traveler",
          "Long-Distance Traveler",
          "Commuter",
          "Casual Driver",
          "Commuter",
          "Commuter",
          "Commuter"
         ],
         "x0": " ",
         "xaxis": "x",
         "y": {
          "bdata": "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",
          "dtype": "f8"
         },
         "y0": " ",
         "yaxis": "y"
        }
       ],
       "layout": {
        "boxmode": "group",
        "legend": {
         "tracegroupgap": 0
        },
        "template": {
         "data": {
          "bar": [
           {
            "error_x": {
             "color": "#f2f5fa"
            },
            "error_y": {
             "color": "#f2f5fa"
            },
            "marker": {
             "line": {
              "color": "rgb(17,17,17)",
              "width": 0.5
             },
             "pattern": {
              "fillmode": "overlay",
              "size": 10,
              "solidity": 0.2
             }
            },
            "type": "bar"
           }
          ],
          "barpolar": [
           {
            "marker": {
             "line": {
              "color": "rgb(17,17,17)",
              "width": 0.5
             },
             "pattern": {
              "fillmode": "overlay",
              "size": 10,
              "solidity": 0.2
             }
            },
            "type": "barpolar"
           }
          ],
          "carpet": [
           {
            "aaxis": {
             "endlinecolor": "#A2B1C6",
             "gridcolor": "#506784",
             "linecolor": "#506784",
             "minorgridcolor": "#506784",
             "startlinecolor": "#A2B1C6"
            },
            "baxis": {
             "endlinecolor": "#A2B1C6",
             "gridcolor": "#506784",
             "linecolor": "#506784",
             "minorgridcolor": "#506784",
             "startlinecolor": "#A2B1C6"
            },
            "type": "carpet"
           }
          ],
          "choropleth": [
           {
            "colorbar": {
             "outlinewidth": 0,
             "ticks": ""
            },
            "type": "choropleth"
           }
          ],
          "contour": [
           {
            "colorbar": {
             "outlinewidth": 0,
             "ticks": ""
            },
            "colorscale": [
             [
              0,
              "#0d0887"
             ],
             [
              0.1111111111111111,
              "#46039f"
             ],
             [
              0.2222222222222222,
              "#7201a8"
             ],
             [
              0.3333333333333333,
              "#9c179e"
             ],
             [
              0.4444444444444444,
              "#bd3786"
             ],
             [
              0.5555555555555556,
              "#d8576b"
             ],
             [
              0.6666666666666666,
              "#ed7953"
             ],
             [
              0.7777777777777778,
              "#fb9f3a"
             ],
             [
              0.8888888888888888,
              "#fdca26"
             ],
             [
              1,
              "#f0f921"
             ]
            ],
            "type": "contour"
           }
          ],
          "contourcarpet": [
           {
            "colorbar": {
             "outlinewidth": 0,
             "ticks": ""
            },
            "type": "contourcarpet"
           }
          ],
          "heatmap": [
           {
            "colorbar": {
             "outlinewidth": 0,
             "ticks": ""
            },
            "colorscale": [
             [
              0,
              "#0d0887"
             ],
             [
              0.1111111111111111,
              "#46039f"
             ],
             [
              0.2222222222222222,
              "#7201a8"
             ],
             [
              0.3333333333333333,
              "#9c179e"
             ],
             [
              0.4444444444444444,
              "#bd3786"
             ],
             [
              0.5555555555555556,
              "#d8576b"
             ],
             [
              0.6666666666666666,
              "#ed7953"
             ],
             [
              0.7777777777777778,
              "#fb9f3a"
             ],
             [
              0.8888888888888888,
              "#fdca26"
             ],
             [
              1,
              "#f0f921"
             ]
            ],
            "type": "heatmap"
           }
          ],
          "histogram": [
           {
            "marker": {
             "pattern": {
              "fillmode": "overlay",
              "size": 10,
              "solidity": 0.2
             }
            },
            "type": "histogram"
           }
          ],
          "histogram2d": [
           {
            "colorbar": {
             "outlinewidth": 0,
             "ticks": ""
            },
            "colorscale": [
             [
              0,
              "#0d0887"
             ],
             [
              0.1111111111111111,
              "#46039f"
             ],
             [
              0.2222222222222222,
              "#7201a8"
             ],
             [
              0.3333333333333333,
              "#9c179e"
             ],
             [
              0.4444444444444444,
              "#bd3786"
             ],
             [
              0.5555555555555556,
              "#d8576b"
             ],
             [
              0.6666666666666666,
              "#ed7953"
             ],
             [
              0.7777777777777778,
              "#fb9f3a"
             ],
             [
              0.8888888888888888,
              "#fdca26"
             ],
             [
              1,
              "#f0f921"
             ]
            ],
            "type": "histogram2d"
           }
          ],
          "histogram2dcontour": [
           {
            "colorbar": {
             "outlinewidth": 0,
             "ticks": ""
            },
            "colorscale": [
             [
              0,
              "#0d0887"
             ],
             [
              0.1111111111111111,
              "#46039f"
             ],
             [
              0.2222222222222222,
              "#7201a8"
             ],
             [
              0.3333333333333333,
              "#9c179e"
             ],
             [
              0.4444444444444444,
              "#bd3786"
             ],
             [
              0.5555555555555556,
              "#d8576b"
             ],
             [
              0.6666666666666666,
              "#ed7953"
             ],
             [
              0.7777777777777778,
              "#fb9f3a"
             ],
             [
              0.8888888888888888,
              "#fdca26"
             ],
             [
              1,
              "#f0f921"
             ]
            ],
            "type": "histogram2dcontour"
           }
          ],
          "mesh3d": [
           {
            "colorbar": {
             "outlinewidth": 0,
             "ticks": ""
            },
            "type": "mesh3d"
           }
          ],
          "parcoords": [
           {
            "line": {
             "colorbar": {
              "outlinewidth": 0,
              "ticks": ""
             }
            },
            "type": "parcoords"
           }
          ],
          "pie": [
           {
            "automargin": true,
            "type": "pie"
           }
          ],
          "scatter": [
           {
            "marker": {
             "line": {
              "color": "#283442"
             }
            },
            "type": "scatter"
           }
          ],
          "scatter3d": [
           {
            "line": {
             "colorbar": {
              "outlinewidth": 0,
              "ticks": ""
             }
            },
            "marker": {
             "colorbar": {
              "outlinewidth": 0,
              "ticks": ""
             }
            },
            "type": "scatter3d"
           }
          ],
          "scattercarpet": [
           {
            "marker": {
             "colorbar": {
              "outlinewidth": 0,
              "ticks": ""
             }
            },
            "type": "scattercarpet"
           }
          ],
          "scattergeo": [
           {
            "marker": {
             "colorbar": {
              "outlinewidth": 0,
              "ticks": ""
             }
            },
            "type": "scattergeo"
           }
          ],
          "scattergl": [
           {
            "marker": {
             "line": {
              "color": "#283442"
             }
            },
            "type": "scattergl"
           }
          ],
          "scattermap": [
           {
            "marker": {
             "colorbar": {
              "outlinewidth": 0,
              "ticks": ""
             }
            },
            "type": "scattermap"
           }
          ],
          "scattermapbox": [
           {
            "marker": {
             "colorbar": {
              "outlinewidth": 0,
              "ticks": ""
             }
            },
            "type": "scattermapbox"
           }
          ],
          "scatterpolar": [
           {
            "marker": {
             "colorbar": {
              "outlinewidth": 0,
              "ticks": ""
             }
            },
            "type": "scatterpolar"
           }
          ],
          "scatterpolargl": [
           {
            "marker": {
             "colorbar": {
              "outlinewidth": 0,
              "ticks": ""
             }
            },
            "type": "scatterpolargl"
           }
          ],
          "scatterternary": [
           {
            "marker": {
             "colorbar": {
              "outlinewidth": 0,
              "ticks": ""
             }
            },
            "type": "scatterternary"
           }
          ],
          "surface": [
           {
            "colorbar": {
             "outlinewidth": 0,
             "ticks": ""
            },
            "colorscale": [
             [
              0,
              "#0d0887"
             ],
             [
              0.1111111111111111,
              "#46039f"
             ],
             [
              0.2222222222222222,
              "#7201a8"
             ],
             [
              0.3333333333333333,
              "#9c179e"
             ],
             [
              0.4444444444444444,
              "#bd3786"
             ],
             [
              0.5555555555555556,
              "#d8576b"
             ],
             [
              0.6666666666666666,
              "#ed7953"
             ],
             [
              0.7777777777777778,
              "#fb9f3a"
             ],
             [
              0.8888888888888888,
              "#fdca26"
             ],
             [
              1,
              "#f0f921"
             ]
            ],
            "type": "surface"
           }
          ],
          "table": [
           {
            "cells": {
             "fill": {
              "color": "#506784"
             },
             "line": {
              "color": "rgb(17,17,17)"
             }
            },
            "header": {
             "fill": {
              "color": "#2a3f5f"
             },
             "line": {
              "color": "rgb(17,17,17)"
             }
            },
            "type": "table"
           }
          ]
         },
         "layout": {
          "annotationdefaults": {
           "arrowcolor": "#f2f5fa",
           "arrowhead": 0,
           "arrowwidth": 1
          },
          "autotypenumbers": "strict",
          "coloraxis": {
           "colorbar": {
            "outlinewidth": 0,
            "ticks": ""
           }
          },
          "colorscale": {
           "diverging": [
            [
             0,
             "#8e0152"
            ],
            [
             0.1,
             "#c51b7d"
            ],
            [
             0.2,
             "#de77ae"
            ],
            [
             0.3,
             "#f1b6da"
            ],
            [
             0.4,
             "#fde0ef"
            ],
            [
             0.5,
             "#f7f7f7"
            ],
            [
             0.6,
             "#e6f5d0"
            ],
            [
             0.7,
             "#b8e186"
            ],
            [
             0.8,
             "#7fbc41"
            ],
            [
             0.9,
             "#4d9221"
            ],
            [
             1,
             "#276419"
            ]
           ],
           "sequential": [
            [
             0,
             "#0d0887"
            ],
            [
             0.1111111111111111,
             "#46039f"
            ],
            [
             0.2222222222222222,
             "#7201a8"
            ],
            [
             0.3333333333333333,
             "#9c179e"
            ],
            [
             0.4444444444444444,
             "#bd3786"
            ],
            [
             0.5555555555555556,
             "#d8576b"
            ],
            [
             0.6666666666666666,
             "#ed7953"
            ],
            [
             0.7777777777777778,
             "#fb9f3a"
            ],
            [
             0.8888888888888888,
             "#fdca26"
            ],
            [
             1,
             "#f0f921"
            ]
           ],
           "sequentialminus": [
            [
             0,
             "#0d0887"
            ],
            [
             0.1111111111111111,
             "#46039f"
            ],
            [
             0.2222222222222222,
             "#7201a8"
            ],
            [
             0.3333333333333333,
             "#9c179e"
            ],
            [
             0.4444444444444444,
             "#bd3786"
            ],
            [
             0.5555555555555556,
             "#d8576b"
            ],
            [
             0.6666666666666666,
             "#ed7953"
            ],
            [
             0.7777777777777778,
             "#fb9f3a"
            ],
            [
             0.8888888888888888,
             "#fdca26"
            ],
            [
             1,
             "#f0f921"
            ]
           ]
          },
          "colorway": [
           "#636efa",
           "#EF553B",
           "#00cc96",
           "#ab63fa",
           "#FFA15A",
           "#19d3f3",
           "#FF6692",
           "#B6E880",
           "#FF97FF",
           "#FECB52"
          ],
          "font": {
           "color": "#f2f5fa"
          },
          "geo": {
           "bgcolor": "rgb(17,17,17)",
           "lakecolor": "rgb(17,17,17)",
           "landcolor": "rgb(17,17,17)",
           "showlakes": true,
           "showland": true,
           "subunitcolor": "#506784"
          },
          "hoverlabel": {
           "align": "left"
          },
          "hovermode": "closest",
          "mapbox": {
           "style": "dark"
          },
          "paper_bgcolor": "rgb(17,17,17)",
          "plot_bgcolor": "rgb(17,17,17)",
          "polar": {
           "angularaxis": {
            "gridcolor": "#506784",
            "linecolor": "#506784",
            "ticks": ""
           },
           "bgcolor": "rgb(17,17,17)",
           "radialaxis": {
            "gridcolor": "#506784",
            "linecolor": "#506784",
            "ticks": ""
           }
          },
          "scene": {
           "xaxis": {
            "backgroundcolor": "rgb(17,17,17)",
            "gridcolor": "#506784",
            "gridwidth": 2,
            "linecolor": "#506784",
            "showbackground": true,
            "ticks": "",
            "zerolinecolor": "#C8D4E3"
           },
           "yaxis": {
            "backgroundcolor": "rgb(17,17,17)",
            "gridcolor": "#506784",
            "gridwidth": 2,
            "linecolor": "#506784",
            "showbackground": true,
            "ticks": "",
            "zerolinecolor": "#C8D4E3"
           },
           "zaxis": {
            "backgroundcolor": "rgb(17,17,17)",
            "gridcolor": "#506784",
            "gridwidth": 2,
            "linecolor": "#506784",
            "showbackground": true,
            "ticks": "",
            "zerolinecolor": "#C8D4E3"
           }
          },
          "shapedefaults": {
           "line": {
            "color": "#f2f5fa"
           }
          },
          "sliderdefaults": {
           "bgcolor": "#C8D4E3",
           "bordercolor": "rgb(17,17,17)",
           "borderwidth": 1,
           "tickwidth": 0
          },
          "ternary": {
           "aaxis": {
            "gridcolor": "#506784",
            "linecolor": "#506784",
            "ticks": ""
           },
           "baxis": {
            "gridcolor": "#506784",
            "linecolor": "#506784",
            "ticks": ""
           },
           "bgcolor": "rgb(17,17,17)",
           "caxis": {
            "gridcolor": "#506784",
            "linecolor": "#506784",
            "ticks": ""
           }
          },
          "title": {
           "x": 0.05
          },
          "updatemenudefaults": {
           "bgcolor": "#506784",
           "borderwidth": 0
          },
          "xaxis": {
           "automargin": true,
           "gridcolor": "#283442",
           "linecolor": "#506784",
           "ticks": "",
           "title": {
            "standoff": 15
           },
           "zerolinecolor": "#283442",
           "zerolinewidth": 2
          },
          "yaxis": {
           "automargin": true,
           "gridcolor": "#283442",
           "linecolor": "#506784",
           "ticks": "",
           "title": {
            "standoff": 15
           },
           "zerolinecolor": "#283442",
           "zerolinewidth": 2
          }
         }
        },
        "title": {
         "text": "Energy Consumed by User Type"
        },
        "xaxis": {
         "anchor": "y",
         "domain": [
          0,
          1
         ],
         "title": {
          "text": "User Type"
         }
        },
        "yaxis": {
         "anchor": "x",
         "domain": [
          0,
          1
         ],
         "title": {
          "text": "Energy Consumed (kWh)"
         }
        }
       }
      }
     },
     "metadata": {},
     "output_type": "display_data"
    }
   ],
   "source": [
    "# Plot the box plot for Energy Consumed by User Type\n",
    "fig = px.box(df, x='User Type', y='Energy Consumed (kWh)', \n",
    "             title='Energy Consumed by User Type',\n",
    "             labels={'User Type': 'User Type', 'Energy Consumed (kWh)': 'Energy Consumed (kWh)'},template='plotly_dark')\n",
    "fig.show()"
   ]
  },
  {
   "cell_type": "code",
   "execution_count": null,
   "id": "94b54ead",
   "metadata": {
    "vscode": {
     "languageId": "javascript"
    }
   },
   "outputs": [],
   "source": []
  },
  {
   "cell_type": "code",
   "execution_count": null,
   "id": "0d9c2f45",
   "metadata": {},
   "outputs": [],
   "source": []
  },
  {
   "cell_type": "code",
   "execution_count": null,
   "id": "b1f76a02",
   "metadata": {},
   "outputs": [],
   "source": []
  },
  {
   "cell_type": "code",
   "execution_count": null,
   "id": "501b130f",
   "metadata": {},
   "outputs": [],
   "source": []
  },
  {
   "cell_type": "code",
   "execution_count": null,
   "id": "614a19e2",
   "metadata": {},
   "outputs": [],
   "source": []
  },
  {
   "cell_type": "code",
   "execution_count": null,
   "id": "ff19369b",
   "metadata": {},
   "outputs": [],
   "source": []
  },
  {
   "cell_type": "code",
   "execution_count": null,
   "id": "6e3010de",
   "metadata": {},
   "outputs": [],
   "source": []
  },
  {
   "cell_type": "code",
   "execution_count": null,
   "id": "7469ba42",
   "metadata": {},
   "outputs": [],
   "source": []
  }
 ],
 "metadata": {
  "kernelspec": {
   "display_name": "base",
   "language": "python",
   "name": "python3"
  },
  "language_info": {
   "codemirror_mode": {
    "name": "ipython",
    "version": 3
   },
   "file_extension": ".py",
   "mimetype": "text/x-python",
   "name": "python",
   "nbconvert_exporter": "python",
   "pygments_lexer": "ipython3",
   "version": "3.12.9"
  }
 },
 "nbformat": 4,
 "nbformat_minor": 5
}
