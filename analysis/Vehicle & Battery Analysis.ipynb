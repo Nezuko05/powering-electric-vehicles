{
 "cells": [
  {
   "cell_type": "code",
   "execution_count": 1,
   "id": "bb54ddeb",
   "metadata": {},
   "outputs": [
    {
     "name": "stdout",
     "output_type": "stream",
     "text": [
      "<class 'pandas.core.frame.DataFrame'>\n",
      "RangeIndex: 1320 entries, 0 to 1319\n",
      "Data columns (total 20 columns):\n",
      " #   Column                                    Non-Null Count  Dtype  \n",
      "---  ------                                    --------------  -----  \n",
      " 0   User ID                                   1320 non-null   object \n",
      " 1   Vehicle Model                             1320 non-null   object \n",
      " 2   Battery Capacity (kWh)                    1320 non-null   float64\n",
      " 3   Charging Station ID                       1320 non-null   object \n",
      " 4   Charging Station Location                 1320 non-null   object \n",
      " 5   Charging Start Time                       1320 non-null   object \n",
      " 6   Charging End Time                         1320 non-null   object \n",
      " 7   Energy Consumed (kWh)                     1320 non-null   float64\n",
      " 8   Charging Duration (hours)                 1320 non-null   float64\n",
      " 9   Charging Rate (kW)                        1320 non-null   float64\n",
      " 10  Charging Cost (USD)                       1320 non-null   float64\n",
      " 11  Time of Day                               1320 non-null   object \n",
      " 12  Day of Week                               1320 non-null   object \n",
      " 13  State of Charge (Start %)                 1320 non-null   float64\n",
      " 14  State of Charge (End %)                   1320 non-null   float64\n",
      " 15  Distance Driven (since last charge) (km)  1320 non-null   float64\n",
      " 16  Temperature (°C)                          1320 non-null   float64\n",
      " 17  Vehicle Age (years)                       1320 non-null   float64\n",
      " 18  Charger Type                              1320 non-null   object \n",
      " 19  User Type                                 1320 non-null   object \n",
      "dtypes: float64(10), object(10)\n",
      "memory usage: 206.4+ KB\n"
     ]
    },
    {
     "name": "stderr",
     "output_type": "stream",
     "text": [
      "C:\\Users\\DELL\\AppData\\Local\\Temp\\ipykernel_420\\3693531763.py:11: FutureWarning: A value is trying to be set on a copy of a DataFrame or Series through chained assignment using an inplace method.\n",
      "The behavior will change in pandas 3.0. This inplace method will never work because the intermediate object on which we are setting values always behaves as a copy.\n",
      "\n",
      "For example, when doing 'df[col].method(value, inplace=True)', try using 'df.method({col: value}, inplace=True)' or df[col] = df[col].method(value) instead, to perform the operation inplace on the original object.\n",
      "\n",
      "\n",
      "  df['Energy Consumed (kWh)'].fillna(avg_Energyconsumed, inplace=True)\n",
      "C:\\Users\\DELL\\AppData\\Local\\Temp\\ipykernel_420\\3693531763.py:15: FutureWarning: A value is trying to be set on a copy of a DataFrame or Series through chained assignment using an inplace method.\n",
      "The behavior will change in pandas 3.0. This inplace method will never work because the intermediate object on which we are setting values always behaves as a copy.\n",
      "\n",
      "For example, when doing 'df[col].method(value, inplace=True)', try using 'df.method({col: value}, inplace=True)' or df[col] = df[col].method(value) instead, to perform the operation inplace on the original object.\n",
      "\n",
      "\n",
      "  df['Charging Rate (kW)'].fillna(avg_Chargingrate, inplace=True)\n",
      "C:\\Users\\DELL\\AppData\\Local\\Temp\\ipykernel_420\\3693531763.py:18: FutureWarning: A value is trying to be set on a copy of a DataFrame or Series through chained assignment using an inplace method.\n",
      "The behavior will change in pandas 3.0. This inplace method will never work because the intermediate object on which we are setting values always behaves as a copy.\n",
      "\n",
      "For example, when doing 'df[col].method(value, inplace=True)', try using 'df.method({col: value}, inplace=True)' or df[col] = df[col].method(value) instead, to perform the operation inplace on the original object.\n",
      "\n",
      "\n",
      "  df['Distance Driven (since last charge) (km)'].fillna(avg_Distancedriven, inplace=True)\n"
     ]
    }
   ],
   "source": [
    "import pandas as pd\n",
    "import numpy as np\n",
    "import seaborn as sns\n",
    "import matplotlib.pyplot as plt\n",
    "import plotly.express as px\n",
    "\n",
    "\n",
    "df = pd.read_csv(r\"C:\\Users\\DELL\\Desktop\\PROJECT\\ev_charging_patterns dataset.csv\")\n",
    "\n",
    "avg_Energyconsumed=round(df['Energy Consumed (kWh)'].mean())\n",
    "df['Energy Consumed (kWh)'].fillna(avg_Energyconsumed, inplace=True)\n",
    "\n",
    "\n",
    "avg_Chargingrate=round(df['Charging Rate (kW)'].mean())\n",
    "df['Charging Rate (kW)'].fillna(avg_Chargingrate, inplace=True)\n",
    "\n",
    "avg_Distancedriven=round(df['Distance Driven (since last charge) (km)'].mean())\n",
    "df['Distance Driven (since last charge) (km)'].fillna(avg_Distancedriven, inplace=True)\n",
    "\n",
    "df.info()"
   ]
  },
  {
   "cell_type": "code",
   "execution_count": 2,
   "id": "40581b96",
   "metadata": {},
   "outputs": [
    {
     "data": {
      "application/vnd.plotly.v1+json": {
       "config": {
        "plotlyServerURL": "https://plot.ly"
       },
       "data": [
        {
         "hovertemplate": "Vehicle Model=%{x}<br>Battery Capacity (kWh)=%{y}<extra></extra>",
         "legendgroup": "BMW i3",
         "marker": {
          "color": "#636efa",
          "pattern": {
           "shape": ""
          }
         },
         "name": "BMW i3",
         "orientation": "v",
         "showlegend": true,
         "textposition": "auto",
         "type": "bar",
         "x": [
          "BMW i3",
          "BMW i3",
          "BMW i3",
          "BMW i3",
          "BMW i3",
          "BMW i3",
          "BMW i3",
          "BMW i3",
          "BMW i3",
          "BMW i3",
          "BMW i3",
          "BMW i3",
          "BMW i3",
          "BMW i3",
          "BMW i3",
          "BMW i3",
          "BMW i3",
          "BMW i3",
          "BMW i3",
          "BMW i3",
          "BMW i3",
          "BMW i3",
          "BMW i3",
          "BMW i3",
          "BMW i3",
          "BMW i3",
          "BMW i3",
          "BMW i3",
          "BMW i3",
          "BMW i3",
          "BMW i3",
          "BMW i3",
          "BMW i3",
          "BMW i3",
          "BMW i3",
          "BMW i3",
          "BMW i3",
          "BMW i3",
          "BMW i3",
          "BMW i3",
          "BMW i3",
          "BMW i3",
          "BMW i3",
          "BMW i3",
          "BMW i3",
          "BMW i3",
          "BMW i3",
          "BMW i3",
          "BMW i3",
          "BMW i3",
          "BMW i3",
          "BMW i3",
          "BMW i3",
          "BMW i3",
          "BMW i3",
          "BMW i3",
          "BMW i3",
          "BMW i3",
          "BMW i3",
          "BMW i3",
          "BMW i3",
          "BMW i3",
          "BMW i3",
          "BMW i3",
          "BMW i3",
          "BMW i3",
          "BMW i3",
          "BMW i3",
          "BMW i3",
          "BMW i3",
          "BMW i3",
          "BMW i3",
          "BMW i3",
          "BMW i3",
          "BMW i3",
          "BMW i3",
          "BMW i3",
          "BMW i3",
          "BMW i3",
          "BMW i3",
          "BMW i3",
          "BMW i3",
          "BMW i3",
          "BMW i3",
          "BMW i3",
          "BMW i3",
          "BMW i3",
          "BMW i3",
          "BMW i3",
          "BMW i3",
          "BMW i3",
          "BMW i3",
          "BMW i3",
          "BMW i3",
          "BMW i3",
          "BMW i3",
          "BMW i3",
          "BMW i3",
          "BMW i3",
          "BMW i3",
          "BMW i3",
          "BMW i3",
          "BMW i3",
          "BMW i3",
          "BMW i3",
          "BMW i3",
          "BMW i3",
          "BMW i3",
          "BMW i3",
          "BMW i3",
          "BMW i3",
          "BMW i3",
          "BMW i3",
          "BMW i3",
          "BMW i3",
          "BMW i3",
          "BMW i3",
          "BMW i3",
          "BMW i3",
          "BMW i3",
          "BMW i3",
          "BMW i3",
          "BMW i3",
          "BMW i3",
          "BMW i3",
          "BMW i3",
          "BMW i3",
          "BMW i3",
          "BMW i3",
          "BMW i3",
          "BMW i3",
          "BMW i3",
          "BMW i3",
          "BMW i3",
          "BMW i3",
          "BMW i3",
          "BMW i3",
          "BMW i3",
          "BMW i3",
          "BMW i3",
          "BMW i3",
          "BMW i3",
          "BMW i3",
          "BMW i3",
          "BMW i3",
          "BMW i3",
          "BMW i3",
          "BMW i3",
          "BMW i3",
          "BMW i3",
          "BMW i3",
          "BMW i3",
          "BMW i3",
          "BMW i3",
          "BMW i3",
          "BMW i3",
          "BMW i3",
          "BMW i3",
          "BMW i3",
          "BMW i3",
          "BMW i3",
          "BMW i3",
          "BMW i3",
          "BMW i3",
          "BMW i3",
          "BMW i3",
          "BMW i3",
          "BMW i3",
          "BMW i3",
          "BMW i3",
          "BMW i3",
          "BMW i3",
          "BMW i3",
          "BMW i3",
          "BMW i3",
          "BMW i3",
          "BMW i3",
          "BMW i3",
          "BMW i3",
          "BMW i3",
          "BMW i3",
          "BMW i3",
          "BMW i3",
          "BMW i3",
          "BMW i3",
          "BMW i3",
          "BMW i3",
          "BMW i3",
          "BMW i3",
          "BMW i3",
          "BMW i3",
          "BMW i3",
          "BMW i3",
          "BMW i3",
          "BMW i3",
          "BMW i3",
          "BMW i3",
          "BMW i3",
          "BMW i3",
          "BMW i3",
          "BMW i3",
          "BMW i3",
          "BMW i3",
          "BMW i3",
          "BMW i3",
          "BMW i3",
          "BMW i3",
          "BMW i3",
          "BMW i3",
          "BMW i3",
          "BMW i3",
          "BMW i3",
          "BMW i3",
          "BMW i3",
          "BMW i3",
          "BMW i3",
          "BMW i3",
          "BMW i3",
          "BMW i3",
          "BMW i3",
          "BMW i3",
          "BMW i3",
          "BMW i3",
          "BMW i3",
          "BMW i3",
          "BMW i3",
          "BMW i3",
          "BMW i3",
          "BMW i3",
          "BMW i3",
          "BMW i3",
          "BMW i3",
          "BMW i3",
          "BMW i3",
          "BMW i3",
          "BMW i3",
          "BMW i3",
          "BMW i3",
          "BMW i3",
          "BMW i3",
          "BMW i3",
          "BMW i3",
          "BMW i3",
          "BMW i3",
          "BMW i3",
          "BMW i3",
          "BMW i3",
          "BMW i3",
          "BMW i3",
          "BMW i3",
          "BMW i3",
          "BMW i3",
          "BMW i3",
          "BMW i3",
          "BMW i3",
          "BMW i3",
          "BMW i3",
          "BMW i3"
         ],
         "xaxis": "x",
         "y": {
          "bdata": "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",
          "dtype": "f8"
         },
         "yaxis": "y"
        },
        {
         "hovertemplate": "Vehicle Model=%{x}<br>Battery Capacity (kWh)=%{y}<extra></extra>",
         "legendgroup": "Hyundai Kona",
         "marker": {
          "color": "#EF553B",
          "pattern": {
           "shape": ""
          }
         },
         "name": "Hyundai Kona",
         "orientation": "v",
         "showlegend": true,
         "textposition": "auto",
         "type": "bar",
         "x": [
          "Hyundai Kona",
          "Hyundai Kona",
          "Hyundai Kona",
          "Hyundai Kona",
          "Hyundai Kona",
          "Hyundai Kona",
          "Hyundai Kona",
          "Hyundai Kona",
          "Hyundai Kona",
          "Hyundai Kona",
          "Hyundai Kona",
          "Hyundai Kona",
          "Hyundai Kona",
          "Hyundai Kona",
          "Hyundai Kona",
          "Hyundai Kona",
          "Hyundai Kona",
          "Hyundai Kona",
          "Hyundai Kona",
          "Hyundai Kona",
          "Hyundai Kona",
          "Hyundai Kona",
          "Hyundai Kona",
          "Hyundai Kona",
          "Hyundai Kona",
          "Hyundai Kona",
          "Hyundai Kona",
          "Hyundai Kona",
          "Hyundai Kona",
          "Hyundai Kona",
          "Hyundai Kona",
          "Hyundai Kona",
          "Hyundai Kona",
          "Hyundai Kona",
          "Hyundai Kona",
          "Hyundai Kona",
          "Hyundai Kona",
          "Hyundai Kona",
          "Hyundai Kona",
          "Hyundai Kona",
          "Hyundai Kona",
          "Hyundai Kona",
          "Hyundai Kona",
          "Hyundai Kona",
          "Hyundai Kona",
          "Hyundai Kona",
          "Hyundai Kona",
          "Hyundai Kona",
          "Hyundai Kona",
          "Hyundai Kona",
          "Hyundai Kona",
          "Hyundai Kona",
          "Hyundai Kona",
          "Hyundai Kona",
          "Hyundai Kona",
          "Hyundai Kona",
          "Hyundai Kona",
          "Hyundai Kona",
          "Hyundai Kona",
          "Hyundai Kona",
          "Hyundai Kona",
          "Hyundai Kona",
          "Hyundai Kona",
          "Hyundai Kona",
          "Hyundai Kona",
          "Hyundai Kona",
          "Hyundai Kona",
          "Hyundai Kona",
          "Hyundai Kona",
          "Hyundai Kona",
          "Hyundai Kona",
          "Hyundai Kona",
          "Hyundai Kona",
          "Hyundai Kona",
          "Hyundai Kona",
          "Hyundai Kona",
          "Hyundai Kona",
          "Hyundai Kona",
          "Hyundai Kona",
          "Hyundai Kona",
          "Hyundai Kona",
          "Hyundai Kona",
          "Hyundai Kona",
          "Hyundai Kona",
          "Hyundai Kona",
          "Hyundai Kona",
          "Hyundai Kona",
          "Hyundai Kona",
          "Hyundai Kona",
          "Hyundai Kona",
          "Hyundai Kona",
          "Hyundai Kona",
          "Hyundai Kona",
          "Hyundai Kona",
          "Hyundai Kona",
          "Hyundai Kona",
          "Hyundai Kona",
          "Hyundai Kona",
          "Hyundai Kona",
          "Hyundai Kona",
          "Hyundai Kona",
          "Hyundai Kona",
          "Hyundai Kona",
          "Hyundai Kona",
          "Hyundai Kona",
          "Hyundai Kona",
          "Hyundai Kona",
          "Hyundai Kona",
          "Hyundai Kona",
          "Hyundai Kona",
          "Hyundai Kona",
          "Hyundai Kona",
          "Hyundai Kona",
          "Hyundai Kona",
          "Hyundai Kona",
          "Hyundai Kona",
          "Hyundai Kona",
          "Hyundai Kona",
          "Hyundai Kona",
          "Hyundai Kona",
          "Hyundai Kona",
          "Hyundai Kona",
          "Hyundai Kona",
          "Hyundai Kona",
          "Hyundai Kona",
          "Hyundai Kona",
          "Hyundai Kona",
          "Hyundai Kona",
          "Hyundai Kona",
          "Hyundai Kona",
          "Hyundai Kona",
          "Hyundai Kona",
          "Hyundai Kona",
          "Hyundai Kona",
          "Hyundai Kona",
          "Hyundai Kona",
          "Hyundai Kona",
          "Hyundai Kona",
          "Hyundai Kona",
          "Hyundai Kona",
          "Hyundai Kona",
          "Hyundai Kona",
          "Hyundai Kona",
          "Hyundai Kona",
          "Hyundai Kona",
          "Hyundai Kona",
          "Hyundai Kona",
          "Hyundai Kona",
          "Hyundai Kona",
          "Hyundai Kona",
          "Hyundai Kona",
          "Hyundai Kona",
          "Hyundai Kona",
          "Hyundai Kona",
          "Hyundai Kona",
          "Hyundai Kona",
          "Hyundai Kona",
          "Hyundai Kona",
          "Hyundai Kona",
          "Hyundai Kona",
          "Hyundai Kona",
          "Hyundai Kona",
          "Hyundai Kona",
          "Hyundai Kona",
          "Hyundai Kona",
          "Hyundai Kona",
          "Hyundai Kona",
          "Hyundai Kona",
          "Hyundai Kona",
          "Hyundai Kona",
          "Hyundai Kona",
          "Hyundai Kona",
          "Hyundai Kona",
          "Hyundai Kona",
          "Hyundai Kona",
          "Hyundai Kona",
          "Hyundai Kona",
          "Hyundai Kona",
          "Hyundai Kona",
          "Hyundai Kona",
          "Hyundai Kona",
          "Hyundai Kona",
          "Hyundai Kona",
          "Hyundai Kona",
          "Hyundai Kona",
          "Hyundai Kona",
          "Hyundai Kona",
          "Hyundai Kona",
          "Hyundai Kona",
          "Hyundai Kona",
          "Hyundai Kona",
          "Hyundai Kona",
          "Hyundai Kona",
          "Hyundai Kona",
          "Hyundai Kona",
          "Hyundai Kona",
          "Hyundai Kona",
          "Hyundai Kona",
          "Hyundai Kona",
          "Hyundai Kona",
          "Hyundai Kona",
          "Hyundai Kona",
          "Hyundai Kona",
          "Hyundai Kona",
          "Hyundai Kona",
          "Hyundai Kona",
          "Hyundai Kona",
          "Hyundai Kona",
          "Hyundai Kona",
          "Hyundai Kona",
          "Hyundai Kona",
          "Hyundai Kona",
          "Hyundai Kona",
          "Hyundai Kona",
          "Hyundai Kona",
          "Hyundai Kona",
          "Hyundai Kona",
          "Hyundai Kona",
          "Hyundai Kona",
          "Hyundai Kona",
          "Hyundai Kona",
          "Hyundai Kona",
          "Hyundai Kona",
          "Hyundai Kona",
          "Hyundai Kona",
          "Hyundai Kona",
          "Hyundai Kona",
          "Hyundai Kona",
          "Hyundai Kona",
          "Hyundai Kona",
          "Hyundai Kona",
          "Hyundai Kona",
          "Hyundai Kona",
          "Hyundai Kona",
          "Hyundai Kona",
          "Hyundai Kona",
          "Hyundai Kona",
          "Hyundai Kona",
          "Hyundai Kona",
          "Hyundai Kona",
          "Hyundai Kona",
          "Hyundai Kona",
          "Hyundai Kona",
          "Hyundai Kona",
          "Hyundai Kona",
          "Hyundai Kona",
          "Hyundai Kona",
          "Hyundai Kona",
          "Hyundai Kona",
          "Hyundai Kona",
          "Hyundai Kona",
          "Hyundai Kona",
          "Hyundai Kona",
          "Hyundai Kona",
          "Hyundai Kona",
          "Hyundai Kona",
          "Hyundai Kona",
          "Hyundai Kona",
          "Hyundai Kona",
          "Hyundai Kona",
          "Hyundai Kona",
          "Hyundai Kona",
          "Hyundai Kona",
          "Hyundai Kona",
          "Hyundai Kona",
          "Hyundai Kona"
         ],
         "xaxis": "x",
         "y": {
          "bdata": "AAAAAAAAWUAAAAAAAABJQAAAAAAAAElAAAAAAAAASUAAAAAAAABZQAAAAAAAAElAAAAAAAAAT0AAAAAAAMBSQAAAAAAAwFJAAAAAAAAAT0AAAAAAAABPQFJRY+Q3FF9AAAAAAADAUkAAAAAAAEBVQAAAAAAAQFVAm6guKn0GSEAAAAAAAEBVQAAAAAAAAE9AAAAAAADAUkAAAAAAAABPQAAAAAAAAFlAAAAAAAAAWUAAAAAAAABPQAAAAAAAAFlAicNXn4VRV0AAAAAAAABJQAAAAAAAAFlAAAAAAABAVUAAAAAAAABPQAAAAAAAAE9AQI1gYXBvSUAAAAAAAEBVQAAAAAAAAFlA49akOLm1WUAAAAAAAABZQAAAAAAAwFJAAAAAAABAVUAAAAAAAMBSQAAAAAAAAElAAAAAAAAAWUAVkc3/qrBGQAAAAAAAAFlAAAAAAAAAWUAAAAAAAABZQAAAAAAAQFVAAAAAAAAAWUAAAAAAAEBVQAAAAAAAwFJAJhghqwNDUEAAAAAAAABJQAAAAAAAwFJAAAAAAABAVUAAAAAAAABZQAAAAAAAAFlAAAAAAADAUkAAAAAAAABPQAAAAAAAAElAAAAAAABAVUAAAAAAAMBSQAAAAAAAAElAAAAAAAAAT0AAAAAAAEBVQAAAAAAAAFlAAAAAAADAUkAAAAAAAEBVQAAAAAAAAE9AAAAAAABAVUAAAAAAAMBSQIyUmiIHZU5AAAAAAABAVUAAAAAAAMBSQAAAAAAAAE9AAAAAAAAAT0AAAAAAAMBSQAAAAAAAAElAAAAAAAAASUAAAAAAAABPQAAAAAAAQFVAAAAAAAAAWUCYztF3sOJQQAAAAAAAQFVAAAAAAABAVUAAAAAAAABPQAAAAAAAQFVAAAAAAABAVUAAAAAAAEBVQAAAAAAAwFJAAAAAAABAVUBbbsf2SLUOQL2lyQ73tVNAAAAAAABAVUAAAAAAAEBVQAAAAAAAwFJAAAAAAAAASUAAAAAAAEBVQAAAAAAAAE9AAAAAAADAUkAAAAAAAMBSQAAAAAAAAFlAAAAAAAAAT0AAAAAAAABPQAAAAAAAAFlAAAAAAAAAT0AAAAAAAABJQAAAAAAAAFlAAAAAAAAAWUAAAAAAAEBVQAAAAAAAAElAAAAAAAAASUAAAAAAAABPQAAAAAAAQFVAAAAAAAAASUAAAAAAAABZQAAAAAAAAFlAAAAAAAAASUAAAAAAAEBVQAAAAAAAwFJAAAAAAABAVUAAAAAAAMBSQAAAAAAAQFVAAAAAAAAAT0AAAAAAAABZQAAAAAAAwFJABQHypI9NXkAAAAAAAABPQAAAAAAAwFJAAAAAAABAVUAAAAAAAABJQAAAAAAAQFVAAAAAAADAUkAAAAAAAABJQAAAAAAAQFVAAAAAAAAASUAAAAAAAMBSQAAAAAAAwFJAAAAAAAAASUAjGBOUhGNaQAAAAAAAAE9AAAAAAAAASUAAAAAAAABJQAAAAAAAAFlAAAAAAADAUkDHYGNal0ZZQAAAAAAAAFlAAAAAAAAAT0AAAAAAAEBVQAAAAAAAAE9AAAAAAAAAT0AAAAAAAABPQAAAAAAAwFJAAAAAAAAAT0AAAAAAAABPQOnc0GrWjFdAAAAAAADAUkAAAAAAAABJQAAAAAAAAElAAAAAAAAAWUAAAAAAAABPQAAAAAAAwFJAAAAAAAAASUAAAAAAAABJQAAAAAAAwFJAAAAAAABAVUAAAAAAAABPQAAAAAAAAE9AAAAAAAAAT0AAAAAAAABZQAAAAAAAAE9AAAAAAAAAT0AAAAAAAMBSQAAAAAAAAFlAAAAAAADAUkAAAAAAAMBSQDjEuEf1JlhAAAAAAAAAWUAAAAAAAMBSQAAAAAAAAElAAAAAAAAAT0AAAAAAAABJQAAAAAAAQFVAAAAAAAAAWUAAAAAAAABZQBncl64M3EVAAAAAAABAVUAAAAAAAABZQAAAAAAAwFJAAAAAAAAAT0AAAAAAAABPQAAAAAAAAFlAAAAAAADAUkAAAAAAAABPQAAAAAAAAElAAAAAAABAVUB8rYQWcJBhQAAAAAAAAFlAAAAAAADAUkAAAAAAAEBVQAAAAAAAAE9AAAAAAAAASUAAAAAAAABJQAAAAAAAAFlA0n+A1U94WUAAAAAAAABPQAAAAAAAwFJAAAAAAABAVUAAAAAAAMBSQAAAAAAAAElAAAAAAAAAWUAAAAAAAABJQAAAAAAAAE9AAAAAAAAASUAAAAAAAABZQAAAAAAAAE9AAAAAAAAAT0AAAAAAAEBVQAAAAAAAAE9AAAAAAAAAT0AAAAAAAEBVQAAAAAAAAElAAAAAAADAUkAAAAAAAEBVQAAAAAAAQFVAAAAAAADAUkAAAAAAAABPQAAAAAAAAElAAAAAAABAVUAAAAAAAEBVQAAAAAAAAElAAAAAAAAAT0AAAAAAAABZQAAAAAAAQFVAAAAAAAAAWUC5BSH4amBmQAAAAAAAAE9AAAAAAAAAWUAAAAAAAABZQAAAAAAAAFlAAAAAAAAASUAAAAAAAABJQAAAAAAAAFlAAAAAAAAAT0AAAAAAAABJQAAAAAAAQFVAAAAAAABAVUAAAAAAAMBSQAAAAAAAAFlAAAAAAADAUkAAAAAAAABZQAAAAAAAAE9Anhl2USAES0AAAAAAAMBSQKFbfn+1oFNAAAAAAAAAWUAAAAAAAABZQAAAAAAAAFlAAAAAAAAAWUAAAAAAAABPQAAAAAAAwFJAAAAAAAAAT0B43zQiyv5PQAAAAAAAAElAAAAAAAAAT0CHTeNN+ENUQAAAAAAAAElAAAAAAAAASUAAAAAAAABJQA==",
          "dtype": "f8"
         },
         "yaxis": "y"
        },
        {
         "hovertemplate": "Vehicle Model=%{x}<br>Battery Capacity (kWh)=%{y}<extra></extra>",
         "legendgroup": "Chevy Bolt",
         "marker": {
          "color": "#00cc96",
          "pattern": {
           "shape": ""
          }
         },
         "name": "Chevy Bolt",
         "orientation": "v",
         "showlegend": true,
         "textposition": "auto",
         "type": "bar",
         "x": [
          "Chevy Bolt",
          "Chevy Bolt",
          "Chevy Bolt",
          "Chevy Bolt",
          "Chevy Bolt",
          "Chevy Bolt",
          "Chevy Bolt",
          "Chevy Bolt",
          "Chevy Bolt",
          "Chevy Bolt",
          "Chevy Bolt",
          "Chevy Bolt",
          "Chevy Bolt",
          "Chevy Bolt",
          "Chevy Bolt",
          "Chevy Bolt",
          "Chevy Bolt",
          "Chevy Bolt",
          "Chevy Bolt",
          "Chevy Bolt",
          "Chevy Bolt",
          "Chevy Bolt",
          "Chevy Bolt",
          "Chevy Bolt",
          "Chevy Bolt",
          "Chevy Bolt",
          "Chevy Bolt",
          "Chevy Bolt",
          "Chevy Bolt",
          "Chevy Bolt",
          "Chevy Bolt",
          "Chevy Bolt",
          "Chevy Bolt",
          "Chevy Bolt",
          "Chevy Bolt",
          "Chevy Bolt",
          "Chevy Bolt",
          "Chevy Bolt",
          "Chevy Bolt",
          "Chevy Bolt",
          "Chevy Bolt",
          "Chevy Bolt",
          "Chevy Bolt",
          "Chevy Bolt",
          "Chevy Bolt",
          "Chevy Bolt",
          "Chevy Bolt",
          "Chevy Bolt",
          "Chevy Bolt",
          "Chevy Bolt",
          "Chevy Bolt",
          "Chevy Bolt",
          "Chevy Bolt",
          "Chevy Bolt",
          "Chevy Bolt",
          "Chevy Bolt",
          "Chevy Bolt",
          "Chevy Bolt",
          "Chevy Bolt",
          "Chevy Bolt",
          "Chevy Bolt",
          "Chevy Bolt",
          "Chevy Bolt",
          "Chevy Bolt",
          "Chevy Bolt",
          "Chevy Bolt",
          "Chevy Bolt",
          "Chevy Bolt",
          "Chevy Bolt",
          "Chevy Bolt",
          "Chevy Bolt",
          "Chevy Bolt",
          "Chevy Bolt",
          "Chevy Bolt",
          "Chevy Bolt",
          "Chevy Bolt",
          "Chevy Bolt",
          "Chevy Bolt",
          "Chevy Bolt",
          "Chevy Bolt",
          "Chevy Bolt",
          "Chevy Bolt",
          "Chevy Bolt",
          "Chevy Bolt",
          "Chevy Bolt",
          "Chevy Bolt",
          "Chevy Bolt",
          "Chevy Bolt",
          "Chevy Bolt",
          "Chevy Bolt",
          "Chevy Bolt",
          "Chevy Bolt",
          "Chevy Bolt",
          "Chevy Bolt",
          "Chevy Bolt",
          "Chevy Bolt",
          "Chevy Bolt",
          "Chevy Bolt",
          "Chevy Bolt",
          "Chevy Bolt",
          "Chevy Bolt",
          "Chevy Bolt",
          "Chevy Bolt",
          "Chevy Bolt",
          "Chevy Bolt",
          "Chevy Bolt",
          "Chevy Bolt",
          "Chevy Bolt",
          "Chevy Bolt",
          "Chevy Bolt",
          "Chevy Bolt",
          "Chevy Bolt",
          "Chevy Bolt",
          "Chevy Bolt",
          "Chevy Bolt",
          "Chevy Bolt",
          "Chevy Bolt",
          "Chevy Bolt",
          "Chevy Bolt",
          "Chevy Bolt",
          "Chevy Bolt",
          "Chevy Bolt",
          "Chevy Bolt",
          "Chevy Bolt",
          "Chevy Bolt",
          "Chevy Bolt",
          "Chevy Bolt",
          "Chevy Bolt",
          "Chevy Bolt",
          "Chevy Bolt",
          "Chevy Bolt",
          "Chevy Bolt",
          "Chevy Bolt",
          "Chevy Bolt",
          "Chevy Bolt",
          "Chevy Bolt",
          "Chevy Bolt",
          "Chevy Bolt",
          "Chevy Bolt",
          "Chevy Bolt",
          "Chevy Bolt",
          "Chevy Bolt",
          "Chevy Bolt",
          "Chevy Bolt",
          "Chevy Bolt",
          "Chevy Bolt",
          "Chevy Bolt",
          "Chevy Bolt",
          "Chevy Bolt",
          "Chevy Bolt",
          "Chevy Bolt",
          "Chevy Bolt",
          "Chevy Bolt",
          "Chevy Bolt",
          "Chevy Bolt",
          "Chevy Bolt",
          "Chevy Bolt",
          "Chevy Bolt",
          "Chevy Bolt",
          "Chevy Bolt",
          "Chevy Bolt",
          "Chevy Bolt",
          "Chevy Bolt",
          "Chevy Bolt",
          "Chevy Bolt",
          "Chevy Bolt",
          "Chevy Bolt",
          "Chevy Bolt",
          "Chevy Bolt",
          "Chevy Bolt",
          "Chevy Bolt",
          "Chevy Bolt",
          "Chevy Bolt",
          "Chevy Bolt",
          "Chevy Bolt",
          "Chevy Bolt",
          "Chevy Bolt",
          "Chevy Bolt",
          "Chevy Bolt",
          "Chevy Bolt",
          "Chevy Bolt",
          "Chevy Bolt",
          "Chevy Bolt",
          "Chevy Bolt",
          "Chevy Bolt",
          "Chevy Bolt",
          "Chevy Bolt",
          "Chevy Bolt",
          "Chevy Bolt",
          "Chevy Bolt",
          "Chevy Bolt",
          "Chevy Bolt",
          "Chevy Bolt",
          "Chevy Bolt",
          "Chevy Bolt",
          "Chevy Bolt",
          "Chevy Bolt",
          "Chevy Bolt",
          "Chevy Bolt",
          "Chevy Bolt",
          "Chevy Bolt",
          "Chevy Bolt",
          "Chevy Bolt",
          "Chevy Bolt",
          "Chevy Bolt",
          "Chevy Bolt",
          "Chevy Bolt",
          "Chevy Bolt",
          "Chevy Bolt",
          "Chevy Bolt",
          "Chevy Bolt",
          "Chevy Bolt",
          "Chevy Bolt",
          "Chevy Bolt",
          "Chevy Bolt",
          "Chevy Bolt",
          "Chevy Bolt",
          "Chevy Bolt",
          "Chevy Bolt",
          "Chevy Bolt",
          "Chevy Bolt",
          "Chevy Bolt",
          "Chevy Bolt",
          "Chevy Bolt",
          "Chevy Bolt",
          "Chevy Bolt",
          "Chevy Bolt",
          "Chevy Bolt",
          "Chevy Bolt",
          "Chevy Bolt",
          "Chevy Bolt",
          "Chevy Bolt",
          "Chevy Bolt",
          "Chevy Bolt",
          "Chevy Bolt",
          "Chevy Bolt",
          "Chevy Bolt",
          "Chevy Bolt",
          "Chevy Bolt",
          "Chevy Bolt",
          "Chevy Bolt",
          "Chevy Bolt",
          "Chevy Bolt",
          "Chevy Bolt",
          "Chevy Bolt",
          "Chevy Bolt",
          "Chevy Bolt",
          "Chevy Bolt",
          "Chevy Bolt",
          "Chevy Bolt",
          "Chevy Bolt",
          "Chevy Bolt",
          "Chevy Bolt",
          "Chevy Bolt",
          "Chevy Bolt",
          "Chevy Bolt"
         ],
         "xaxis": "x",
         "y": {
          "bdata": "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",
          "dtype": "f8"
         },
         "yaxis": "y"
        },
        {
         "hovertemplate": "Vehicle Model=%{x}<br>Battery Capacity (kWh)=%{y}<extra></extra>",
         "legendgroup": "Nissan Leaf",
         "marker": {
          "color": "#ab63fa",
          "pattern": {
           "shape": ""
          }
         },
         "name": "Nissan Leaf",
         "orientation": "v",
         "showlegend": true,
         "textposition": "auto",
         "type": "bar",
         "x": [
          "Nissan Leaf",
          "Nissan Leaf",
          "Nissan Leaf",
          "Nissan Leaf",
          "Nissan Leaf",
          "Nissan Leaf",
          "Nissan Leaf",
          "Nissan Leaf",
          "Nissan Leaf",
          "Nissan Leaf",
          "Nissan Leaf",
          "Nissan Leaf",
          "Nissan Leaf",
          "Nissan Leaf",
          "Nissan Leaf",
          "Nissan Leaf",
          "Nissan Leaf",
          "Nissan Leaf",
          "Nissan Leaf",
          "Nissan Leaf",
          "Nissan Leaf",
          "Nissan Leaf",
          "Nissan Leaf",
          "Nissan Leaf",
          "Nissan Leaf",
          "Nissan Leaf",
          "Nissan Leaf",
          "Nissan Leaf",
          "Nissan Leaf",
          "Nissan Leaf",
          "Nissan Leaf",
          "Nissan Leaf",
          "Nissan Leaf",
          "Nissan Leaf",
          "Nissan Leaf",
          "Nissan Leaf",
          "Nissan Leaf",
          "Nissan Leaf",
          "Nissan Leaf",
          "Nissan Leaf",
          "Nissan Leaf",
          "Nissan Leaf",
          "Nissan Leaf",
          "Nissan Leaf",
          "Nissan Leaf",
          "Nissan Leaf",
          "Nissan Leaf",
          "Nissan Leaf",
          "Nissan Leaf",
          "Nissan Leaf",
          "Nissan Leaf",
          "Nissan Leaf",
          "Nissan Leaf",
          "Nissan Leaf",
          "Nissan Leaf",
          "Nissan Leaf",
          "Nissan Leaf",
          "Nissan Leaf",
          "Nissan Leaf",
          "Nissan Leaf",
          "Nissan Leaf",
          "Nissan Leaf",
          "Nissan Leaf",
          "Nissan Leaf",
          "Nissan Leaf",
          "Nissan Leaf",
          "Nissan Leaf",
          "Nissan Leaf",
          "Nissan Leaf",
          "Nissan Leaf",
          "Nissan Leaf",
          "Nissan Leaf",
          "Nissan Leaf",
          "Nissan Leaf",
          "Nissan Leaf",
          "Nissan Leaf",
          "Nissan Leaf",
          "Nissan Leaf",
          "Nissan Leaf",
          "Nissan Leaf",
          "Nissan Leaf",
          "Nissan Leaf",
          "Nissan Leaf",
          "Nissan Leaf",
          "Nissan Leaf",
          "Nissan Leaf",
          "Nissan Leaf",
          "Nissan Leaf",
          "Nissan Leaf",
          "Nissan Leaf",
          "Nissan Leaf",
          "Nissan Leaf",
          "Nissan Leaf",
          "Nissan Leaf",
          "Nissan Leaf",
          "Nissan Leaf",
          "Nissan Leaf",
          "Nissan Leaf",
          "Nissan Leaf",
          "Nissan Leaf",
          "Nissan Leaf",
          "Nissan Leaf",
          "Nissan Leaf",
          "Nissan Leaf",
          "Nissan Leaf",
          "Nissan Leaf",
          "Nissan Leaf",
          "Nissan Leaf",
          "Nissan Leaf",
          "Nissan Leaf",
          "Nissan Leaf",
          "Nissan Leaf",
          "Nissan Leaf",
          "Nissan Leaf",
          "Nissan Leaf",
          "Nissan Leaf",
          "Nissan Leaf",
          "Nissan Leaf",
          "Nissan Leaf",
          "Nissan Leaf",
          "Nissan Leaf",
          "Nissan Leaf",
          "Nissan Leaf",
          "Nissan Leaf",
          "Nissan Leaf",
          "Nissan Leaf",
          "Nissan Leaf",
          "Nissan Leaf",
          "Nissan Leaf",
          "Nissan Leaf",
          "Nissan Leaf",
          "Nissan Leaf",
          "Nissan Leaf",
          "Nissan Leaf",
          "Nissan Leaf",
          "Nissan Leaf",
          "Nissan Leaf",
          "Nissan Leaf",
          "Nissan Leaf",
          "Nissan Leaf",
          "Nissan Leaf",
          "Nissan Leaf",
          "Nissan Leaf",
          "Nissan Leaf",
          "Nissan Leaf",
          "Nissan Leaf",
          "Nissan Leaf",
          "Nissan Leaf",
          "Nissan Leaf",
          "Nissan Leaf",
          "Nissan Leaf",
          "Nissan Leaf",
          "Nissan Leaf",
          "Nissan Leaf",
          "Nissan Leaf",
          "Nissan Leaf",
          "Nissan Leaf",
          "Nissan Leaf",
          "Nissan Leaf",
          "Nissan Leaf",
          "Nissan Leaf",
          "Nissan Leaf",
          "Nissan Leaf",
          "Nissan Leaf",
          "Nissan Leaf",
          "Nissan Leaf",
          "Nissan Leaf",
          "Nissan Leaf",
          "Nissan Leaf",
          "Nissan Leaf",
          "Nissan Leaf",
          "Nissan Leaf",
          "Nissan Leaf",
          "Nissan Leaf",
          "Nissan Leaf",
          "Nissan Leaf",
          "Nissan Leaf",
          "Nissan Leaf",
          "Nissan Leaf",
          "Nissan Leaf",
          "Nissan Leaf",
          "Nissan Leaf",
          "Nissan Leaf",
          "Nissan Leaf",
          "Nissan Leaf",
          "Nissan Leaf",
          "Nissan Leaf",
          "Nissan Leaf",
          "Nissan Leaf",
          "Nissan Leaf",
          "Nissan Leaf",
          "Nissan Leaf",
          "Nissan Leaf",
          "Nissan Leaf",
          "Nissan Leaf",
          "Nissan Leaf",
          "Nissan Leaf",
          "Nissan Leaf",
          "Nissan Leaf",
          "Nissan Leaf",
          "Nissan Leaf",
          "Nissan Leaf",
          "Nissan Leaf",
          "Nissan Leaf",
          "Nissan Leaf",
          "Nissan Leaf",
          "Nissan Leaf",
          "Nissan Leaf",
          "Nissan Leaf",
          "Nissan Leaf",
          "Nissan Leaf",
          "Nissan Leaf",
          "Nissan Leaf",
          "Nissan Leaf",
          "Nissan Leaf",
          "Nissan Leaf",
          "Nissan Leaf",
          "Nissan Leaf",
          "Nissan Leaf",
          "Nissan Leaf",
          "Nissan Leaf",
          "Nissan Leaf",
          "Nissan Leaf",
          "Nissan Leaf",
          "Nissan Leaf",
          "Nissan Leaf",
          "Nissan Leaf",
          "Nissan Leaf",
          "Nissan Leaf",
          "Nissan Leaf",
          "Nissan Leaf",
          "Nissan Leaf",
          "Nissan Leaf",
          "Nissan Leaf",
          "Nissan Leaf",
          "Nissan Leaf",
          "Nissan Leaf",
          "Nissan Leaf",
          "Nissan Leaf",
          "Nissan Leaf",
          "Nissan Leaf",
          "Nissan Leaf",
          "Nissan Leaf",
          "Nissan Leaf",
          "Nissan Leaf",
          "Nissan Leaf",
          "Nissan Leaf",
          "Nissan Leaf",
          "Nissan Leaf",
          "Nissan Leaf",
          "Nissan Leaf",
          "Nissan Leaf",
          "Nissan Leaf",
          "Nissan Leaf",
          "Nissan Leaf",
          "Nissan Leaf",
          "Nissan Leaf",
          "Nissan Leaf",
          "Nissan Leaf",
          "Nissan Leaf"
         ],
         "xaxis": "x",
         "y": {
          "bdata": "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",
          "dtype": "f8"
         },
         "yaxis": "y"
        },
        {
         "hovertemplate": "Vehicle Model=%{x}<br>Battery Capacity (kWh)=%{y}<extra></extra>",
         "legendgroup": "Tesla Model 3",
         "marker": {
          "color": "#FFA15A",
          "pattern": {
           "shape": ""
          }
         },
         "name": "Tesla Model 3",
         "orientation": "v",
         "showlegend": true,
         "textposition": "auto",
         "type": "bar",
         "x": [
          "Tesla Model 3",
          "Tesla Model 3",
          "Tesla Model 3",
          "Tesla Model 3",
          "Tesla Model 3",
          "Tesla Model 3",
          "Tesla Model 3",
          "Tesla Model 3",
          "Tesla Model 3",
          "Tesla Model 3",
          "Tesla Model 3",
          "Tesla Model 3",
          "Tesla Model 3",
          "Tesla Model 3",
          "Tesla Model 3",
          "Tesla Model 3",
          "Tesla Model 3",
          "Tesla Model 3",
          "Tesla Model 3",
          "Tesla Model 3",
          "Tesla Model 3",
          "Tesla Model 3",
          "Tesla Model 3",
          "Tesla Model 3",
          "Tesla Model 3",
          "Tesla Model 3",
          "Tesla Model 3",
          "Tesla Model 3",
          "Tesla Model 3",
          "Tesla Model 3",
          "Tesla Model 3",
          "Tesla Model 3",
          "Tesla Model 3",
          "Tesla Model 3",
          "Tesla Model 3",
          "Tesla Model 3",
          "Tesla Model 3",
          "Tesla Model 3",
          "Tesla Model 3",
          "Tesla Model 3",
          "Tesla Model 3",
          "Tesla Model 3",
          "Tesla Model 3",
          "Tesla Model 3",
          "Tesla Model 3",
          "Tesla Model 3",
          "Tesla Model 3",
          "Tesla Model 3",
          "Tesla Model 3",
          "Tesla Model 3",
          "Tesla Model 3",
          "Tesla Model 3",
          "Tesla Model 3",
          "Tesla Model 3",
          "Tesla Model 3",
          "Tesla Model 3",
          "Tesla Model 3",
          "Tesla Model 3",
          "Tesla Model 3",
          "Tesla Model 3",
          "Tesla Model 3",
          "Tesla Model 3",
          "Tesla Model 3",
          "Tesla Model 3",
          "Tesla Model 3",
          "Tesla Model 3",
          "Tesla Model 3",
          "Tesla Model 3",
          "Tesla Model 3",
          "Tesla Model 3",
          "Tesla Model 3",
          "Tesla Model 3",
          "Tesla Model 3",
          "Tesla Model 3",
          "Tesla Model 3",
          "Tesla Model 3",
          "Tesla Model 3",
          "Tesla Model 3",
          "Tesla Model 3",
          "Tesla Model 3",
          "Tesla Model 3",
          "Tesla Model 3",
          "Tesla Model 3",
          "Tesla Model 3",
          "Tesla Model 3",
          "Tesla Model 3",
          "Tesla Model 3",
          "Tesla Model 3",
          "Tesla Model 3",
          "Tesla Model 3",
          "Tesla Model 3",
          "Tesla Model 3",
          "Tesla Model 3",
          "Tesla Model 3",
          "Tesla Model 3",
          "Tesla Model 3",
          "Tesla Model 3",
          "Tesla Model 3",
          "Tesla Model 3",
          "Tesla Model 3",
          "Tesla Model 3",
          "Tesla Model 3",
          "Tesla Model 3",
          "Tesla Model 3",
          "Tesla Model 3",
          "Tesla Model 3",
          "Tesla Model 3",
          "Tesla Model 3",
          "Tesla Model 3",
          "Tesla Model 3",
          "Tesla Model 3",
          "Tesla Model 3",
          "Tesla Model 3",
          "Tesla Model 3",
          "Tesla Model 3",
          "Tesla Model 3",
          "Tesla Model 3",
          "Tesla Model 3",
          "Tesla Model 3",
          "Tesla Model 3",
          "Tesla Model 3",
          "Tesla Model 3",
          "Tesla Model 3",
          "Tesla Model 3",
          "Tesla Model 3",
          "Tesla Model 3",
          "Tesla Model 3",
          "Tesla Model 3",
          "Tesla Model 3",
          "Tesla Model 3",
          "Tesla Model 3",
          "Tesla Model 3",
          "Tesla Model 3",
          "Tesla Model 3",
          "Tesla Model 3",
          "Tesla Model 3",
          "Tesla Model 3",
          "Tesla Model 3",
          "Tesla Model 3",
          "Tesla Model 3",
          "Tesla Model 3",
          "Tesla Model 3",
          "Tesla Model 3",
          "Tesla Model 3",
          "Tesla Model 3",
          "Tesla Model 3",
          "Tesla Model 3",
          "Tesla Model 3",
          "Tesla Model 3",
          "Tesla Model 3",
          "Tesla Model 3",
          "Tesla Model 3",
          "Tesla Model 3",
          "Tesla Model 3",
          "Tesla Model 3",
          "Tesla Model 3",
          "Tesla Model 3",
          "Tesla Model 3",
          "Tesla Model 3",
          "Tesla Model 3",
          "Tesla Model 3",
          "Tesla Model 3",
          "Tesla Model 3",
          "Tesla Model 3",
          "Tesla Model 3",
          "Tesla Model 3",
          "Tesla Model 3",
          "Tesla Model 3",
          "Tesla Model 3",
          "Tesla Model 3",
          "Tesla Model 3",
          "Tesla Model 3",
          "Tesla Model 3",
          "Tesla Model 3",
          "Tesla Model 3",
          "Tesla Model 3",
          "Tesla Model 3",
          "Tesla Model 3",
          "Tesla Model 3",
          "Tesla Model 3",
          "Tesla Model 3",
          "Tesla Model 3",
          "Tesla Model 3",
          "Tesla Model 3",
          "Tesla Model 3",
          "Tesla Model 3",
          "Tesla Model 3",
          "Tesla Model 3",
          "Tesla Model 3",
          "Tesla Model 3",
          "Tesla Model 3",
          "Tesla Model 3",
          "Tesla Model 3",
          "Tesla Model 3",
          "Tesla Model 3",
          "Tesla Model 3",
          "Tesla Model 3",
          "Tesla Model 3",
          "Tesla Model 3",
          "Tesla Model 3",
          "Tesla Model 3",
          "Tesla Model 3",
          "Tesla Model 3",
          "Tesla Model 3",
          "Tesla Model 3",
          "Tesla Model 3",
          "Tesla Model 3",
          "Tesla Model 3",
          "Tesla Model 3",
          "Tesla Model 3",
          "Tesla Model 3",
          "Tesla Model 3",
          "Tesla Model 3",
          "Tesla Model 3",
          "Tesla Model 3",
          "Tesla Model 3",
          "Tesla Model 3",
          "Tesla Model 3",
          "Tesla Model 3",
          "Tesla Model 3",
          "Tesla Model 3",
          "Tesla Model 3",
          "Tesla Model 3",
          "Tesla Model 3",
          "Tesla Model 3",
          "Tesla Model 3",
          "Tesla Model 3",
          "Tesla Model 3",
          "Tesla Model 3",
          "Tesla Model 3",
          "Tesla Model 3",
          "Tesla Model 3",
          "Tesla Model 3",
          "Tesla Model 3",
          "Tesla Model 3",
          "Tesla Model 3",
          "Tesla Model 3",
          "Tesla Model 3",
          "Tesla Model 3",
          "Tesla Model 3",
          "Tesla Model 3",
          "Tesla Model 3",
          "Tesla Model 3",
          "Tesla Model 3",
          "Tesla Model 3",
          "Tesla Model 3",
          "Tesla Model 3",
          "Tesla Model 3",
          "Tesla Model 3",
          "Tesla Model 3",
          "Tesla Model 3",
          "Tesla Model 3",
          "Tesla Model 3",
          "Tesla Model 3",
          "Tesla Model 3",
          "Tesla Model 3",
          "Tesla Model 3",
          "Tesla Model 3",
          "Tesla Model 3",
          "Tesla Model 3",
          "Tesla Model 3",
          "Tesla Model 3",
          "Tesla Model 3",
          "Tesla Model 3",
          "Tesla Model 3",
          "Tesla Model 3",
          "Tesla Model 3",
          "Tesla Model 3",
          "Tesla Model 3",
          "Tesla Model 3",
          "Tesla Model 3",
          "Tesla Model 3",
          "Tesla Model 3",
          "Tesla Model 3",
          "Tesla Model 3",
          "Tesla Model 3",
          "Tesla Model 3",
          "Tesla Model 3",
          "Tesla Model 3",
          "Tesla Model 3"
         ],
         "xaxis": "x",
         "y": {
          "bdata": "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",
          "dtype": "f8"
         },
         "yaxis": "y"
        }
       ],
       "layout": {
        "barmode": "relative",
        "legend": {
         "title": {
          "text": "Vehicle Model"
         },
         "tracegroupgap": 0
        },
        "template": {
         "data": {
          "bar": [
           {
            "error_x": {
             "color": "#f2f5fa"
            },
            "error_y": {
             "color": "#f2f5fa"
            },
            "marker": {
             "line": {
              "color": "rgb(17,17,17)",
              "width": 0.5
             },
             "pattern": {
              "fillmode": "overlay",
              "size": 10,
              "solidity": 0.2
             }
            },
            "type": "bar"
           }
          ],
          "barpolar": [
           {
            "marker": {
             "line": {
              "color": "rgb(17,17,17)",
              "width": 0.5
             },
             "pattern": {
              "fillmode": "overlay",
              "size": 10,
              "solidity": 0.2
             }
            },
            "type": "barpolar"
           }
          ],
          "carpet": [
           {
            "aaxis": {
             "endlinecolor": "#A2B1C6",
             "gridcolor": "#506784",
             "linecolor": "#506784",
             "minorgridcolor": "#506784",
             "startlinecolor": "#A2B1C6"
            },
            "baxis": {
             "endlinecolor": "#A2B1C6",
             "gridcolor": "#506784",
             "linecolor": "#506784",
             "minorgridcolor": "#506784",
             "startlinecolor": "#A2B1C6"
            },
            "type": "carpet"
           }
          ],
          "choropleth": [
           {
            "colorbar": {
             "outlinewidth": 0,
             "ticks": ""
            },
            "type": "choropleth"
           }
          ],
          "contour": [
           {
            "colorbar": {
             "outlinewidth": 0,
             "ticks": ""
            },
            "colorscale": [
             [
              0,
              "#0d0887"
             ],
             [
              0.1111111111111111,
              "#46039f"
             ],
             [
              0.2222222222222222,
              "#7201a8"
             ],
             [
              0.3333333333333333,
              "#9c179e"
             ],
             [
              0.4444444444444444,
              "#bd3786"
             ],
             [
              0.5555555555555556,
              "#d8576b"
             ],
             [
              0.6666666666666666,
              "#ed7953"
             ],
             [
              0.7777777777777778,
              "#fb9f3a"
             ],
             [
              0.8888888888888888,
              "#fdca26"
             ],
             [
              1,
              "#f0f921"
             ]
            ],
            "type": "contour"
           }
          ],
          "contourcarpet": [
           {
            "colorbar": {
             "outlinewidth": 0,
             "ticks": ""
            },
            "type": "contourcarpet"
           }
          ],
          "heatmap": [
           {
            "colorbar": {
             "outlinewidth": 0,
             "ticks": ""
            },
            "colorscale": [
             [
              0,
              "#0d0887"
             ],
             [
              0.1111111111111111,
              "#46039f"
             ],
             [
              0.2222222222222222,
              "#7201a8"
             ],
             [
              0.3333333333333333,
              "#9c179e"
             ],
             [
              0.4444444444444444,
              "#bd3786"
             ],
             [
              0.5555555555555556,
              "#d8576b"
             ],
             [
              0.6666666666666666,
              "#ed7953"
             ],
             [
              0.7777777777777778,
              "#fb9f3a"
             ],
             [
              0.8888888888888888,
              "#fdca26"
             ],
             [
              1,
              "#f0f921"
             ]
            ],
            "type": "heatmap"
           }
          ],
          "histogram": [
           {
            "marker": {
             "pattern": {
              "fillmode": "overlay",
              "size": 10,
              "solidity": 0.2
             }
            },
            "type": "histogram"
           }
          ],
          "histogram2d": [
           {
            "colorbar": {
             "outlinewidth": 0,
             "ticks": ""
            },
            "colorscale": [
             [
              0,
              "#0d0887"
             ],
             [
              0.1111111111111111,
              "#46039f"
             ],
             [
              0.2222222222222222,
              "#7201a8"
             ],
             [
              0.3333333333333333,
              "#9c179e"
             ],
             [
              0.4444444444444444,
              "#bd3786"
             ],
             [
              0.5555555555555556,
              "#d8576b"
             ],
             [
              0.6666666666666666,
              "#ed7953"
             ],
             [
              0.7777777777777778,
              "#fb9f3a"
             ],
             [
              0.8888888888888888,
              "#fdca26"
             ],
             [
              1,
              "#f0f921"
             ]
            ],
            "type": "histogram2d"
           }
          ],
          "histogram2dcontour": [
           {
            "colorbar": {
             "outlinewidth": 0,
             "ticks": ""
            },
            "colorscale": [
             [
              0,
              "#0d0887"
             ],
             [
              0.1111111111111111,
              "#46039f"
             ],
             [
              0.2222222222222222,
              "#7201a8"
             ],
             [
              0.3333333333333333,
              "#9c179e"
             ],
             [
              0.4444444444444444,
              "#bd3786"
             ],
             [
              0.5555555555555556,
              "#d8576b"
             ],
             [
              0.6666666666666666,
              "#ed7953"
             ],
             [
              0.7777777777777778,
              "#fb9f3a"
             ],
             [
              0.8888888888888888,
              "#fdca26"
             ],
             [
              1,
              "#f0f921"
             ]
            ],
            "type": "histogram2dcontour"
           }
          ],
          "mesh3d": [
           {
            "colorbar": {
             "outlinewidth": 0,
             "ticks": ""
            },
            "type": "mesh3d"
           }
          ],
          "parcoords": [
           {
            "line": {
             "colorbar": {
              "outlinewidth": 0,
              "ticks": ""
             }
            },
            "type": "parcoords"
           }
          ],
          "pie": [
           {
            "automargin": true,
            "type": "pie"
           }
          ],
          "scatter": [
           {
            "marker": {
             "line": {
              "color": "#283442"
             }
            },
            "type": "scatter"
           }
          ],
          "scatter3d": [
           {
            "line": {
             "colorbar": {
              "outlinewidth": 0,
              "ticks": ""
             }
            },
            "marker": {
             "colorbar": {
              "outlinewidth": 0,
              "ticks": ""
             }
            },
            "type": "scatter3d"
           }
          ],
          "scattercarpet": [
           {
            "marker": {
             "colorbar": {
              "outlinewidth": 0,
              "ticks": ""
             }
            },
            "type": "scattercarpet"
           }
          ],
          "scattergeo": [
           {
            "marker": {
             "colorbar": {
              "outlinewidth": 0,
              "ticks": ""
             }
            },
            "type": "scattergeo"
           }
          ],
          "scattergl": [
           {
            "marker": {
             "line": {
              "color": "#283442"
             }
            },
            "type": "scattergl"
           }
          ],
          "scattermap": [
           {
            "marker": {
             "colorbar": {
              "outlinewidth": 0,
              "ticks": ""
             }
            },
            "type": "scattermap"
           }
          ],
          "scattermapbox": [
           {
            "marker": {
             "colorbar": {
              "outlinewidth": 0,
              "ticks": ""
             }
            },
            "type": "scattermapbox"
           }
          ],
          "scatterpolar": [
           {
            "marker": {
             "colorbar": {
              "outlinewidth": 0,
              "ticks": ""
             }
            },
            "type": "scatterpolar"
           }
          ],
          "scatterpolargl": [
           {
            "marker": {
             "colorbar": {
              "outlinewidth": 0,
              "ticks": ""
             }
            },
            "type": "scatterpolargl"
           }
          ],
          "scatterternary": [
           {
            "marker": {
             "colorbar": {
              "outlinewidth": 0,
              "ticks": ""
             }
            },
            "type": "scatterternary"
           }
          ],
          "surface": [
           {
            "colorbar": {
             "outlinewidth": 0,
             "ticks": ""
            },
            "colorscale": [
             [
              0,
              "#0d0887"
             ],
             [
              0.1111111111111111,
              "#46039f"
             ],
             [
              0.2222222222222222,
              "#7201a8"
             ],
             [
              0.3333333333333333,
              "#9c179e"
             ],
             [
              0.4444444444444444,
              "#bd3786"
             ],
             [
              0.5555555555555556,
              "#d8576b"
             ],
             [
              0.6666666666666666,
              "#ed7953"
             ],
             [
              0.7777777777777778,
              "#fb9f3a"
             ],
             [
              0.8888888888888888,
              "#fdca26"
             ],
             [
              1,
              "#f0f921"
             ]
            ],
            "type": "surface"
           }
          ],
          "table": [
           {
            "cells": {
             "fill": {
              "color": "#506784"
             },
             "line": {
              "color": "rgb(17,17,17)"
             }
            },
            "header": {
             "fill": {
              "color": "#2a3f5f"
             },
             "line": {
              "color": "rgb(17,17,17)"
             }
            },
            "type": "table"
           }
          ]
         },
         "layout": {
          "annotationdefaults": {
           "arrowcolor": "#f2f5fa",
           "arrowhead": 0,
           "arrowwidth": 1
          },
          "autotypenumbers": "strict",
          "coloraxis": {
           "colorbar": {
            "outlinewidth": 0,
            "ticks": ""
           }
          },
          "colorscale": {
           "diverging": [
            [
             0,
             "#8e0152"
            ],
            [
             0.1,
             "#c51b7d"
            ],
            [
             0.2,
             "#de77ae"
            ],
            [
             0.3,
             "#f1b6da"
            ],
            [
             0.4,
             "#fde0ef"
            ],
            [
             0.5,
             "#f7f7f7"
            ],
            [
             0.6,
             "#e6f5d0"
            ],
            [
             0.7,
             "#b8e186"
            ],
            [
             0.8,
             "#7fbc41"
            ],
            [
             0.9,
             "#4d9221"
            ],
            [
             1,
             "#276419"
            ]
           ],
           "sequential": [
            [
             0,
             "#0d0887"
            ],
            [
             0.1111111111111111,
             "#46039f"
            ],
            [
             0.2222222222222222,
             "#7201a8"
            ],
            [
             0.3333333333333333,
             "#9c179e"
            ],
            [
             0.4444444444444444,
             "#bd3786"
            ],
            [
             0.5555555555555556,
             "#d8576b"
            ],
            [
             0.6666666666666666,
             "#ed7953"
            ],
            [
             0.7777777777777778,
             "#fb9f3a"
            ],
            [
             0.8888888888888888,
             "#fdca26"
            ],
            [
             1,
             "#f0f921"
            ]
           ],
           "sequentialminus": [
            [
             0,
             "#0d0887"
            ],
            [
             0.1111111111111111,
             "#46039f"
            ],
            [
             0.2222222222222222,
             "#7201a8"
            ],
            [
             0.3333333333333333,
             "#9c179e"
            ],
            [
             0.4444444444444444,
             "#bd3786"
            ],
            [
             0.5555555555555556,
             "#d8576b"
            ],
            [
             0.6666666666666666,
             "#ed7953"
            ],
            [
             0.7777777777777778,
             "#fb9f3a"
            ],
            [
             0.8888888888888888,
             "#fdca26"
            ],
            [
             1,
             "#f0f921"
            ]
           ]
          },
          "colorway": [
           "#636efa",
           "#EF553B",
           "#00cc96",
           "#ab63fa",
           "#FFA15A",
           "#19d3f3",
           "#FF6692",
           "#B6E880",
           "#FF97FF",
           "#FECB52"
          ],
          "font": {
           "color": "#f2f5fa"
          },
          "geo": {
           "bgcolor": "rgb(17,17,17)",
           "lakecolor": "rgb(17,17,17)",
           "landcolor": "rgb(17,17,17)",
           "showlakes": true,
           "showland": true,
           "subunitcolor": "#506784"
          },
          "hoverlabel": {
           "align": "left"
          },
          "hovermode": "closest",
          "mapbox": {
           "style": "dark"
          },
          "paper_bgcolor": "rgb(17,17,17)",
          "plot_bgcolor": "rgb(17,17,17)",
          "polar": {
           "angularaxis": {
            "gridcolor": "#506784",
            "linecolor": "#506784",
            "ticks": ""
           },
           "bgcolor": "rgb(17,17,17)",
           "radialaxis": {
            "gridcolor": "#506784",
            "linecolor": "#506784",
            "ticks": ""
           }
          },
          "scene": {
           "xaxis": {
            "backgroundcolor": "rgb(17,17,17)",
            "gridcolor": "#506784",
            "gridwidth": 2,
            "linecolor": "#506784",
            "showbackground": true,
            "ticks": "",
            "zerolinecolor": "#C8D4E3"
           },
           "yaxis": {
            "backgroundcolor": "rgb(17,17,17)",
            "gridcolor": "#506784",
            "gridwidth": 2,
            "linecolor": "#506784",
            "showbackground": true,
            "ticks": "",
            "zerolinecolor": "#C8D4E3"
           },
           "zaxis": {
            "backgroundcolor": "rgb(17,17,17)",
            "gridcolor": "#506784",
            "gridwidth": 2,
            "linecolor": "#506784",
            "showbackground": true,
            "ticks": "",
            "zerolinecolor": "#C8D4E3"
           }
          },
          "shapedefaults": {
           "line": {
            "color": "#f2f5fa"
           }
          },
          "sliderdefaults": {
           "bgcolor": "#C8D4E3",
           "bordercolor": "rgb(17,17,17)",
           "borderwidth": 1,
           "tickwidth": 0
          },
          "ternary": {
           "aaxis": {
            "gridcolor": "#506784",
            "linecolor": "#506784",
            "ticks": ""
           },
           "baxis": {
            "gridcolor": "#506784",
            "linecolor": "#506784",
            "ticks": ""
           },
           "bgcolor": "rgb(17,17,17)",
           "caxis": {
            "gridcolor": "#506784",
            "linecolor": "#506784",
            "ticks": ""
           }
          },
          "title": {
           "x": 0.05
          },
          "updatemenudefaults": {
           "bgcolor": "#506784",
           "borderwidth": 0
          },
          "xaxis": {
           "automargin": true,
           "gridcolor": "#283442",
           "linecolor": "#506784",
           "ticks": "",
           "title": {
            "standoff": 15
           },
           "zerolinecolor": "#283442",
           "zerolinewidth": 2
          },
          "yaxis": {
           "automargin": true,
           "gridcolor": "#283442",
           "linecolor": "#506784",
           "ticks": "",
           "title": {
            "standoff": 15
           },
           "zerolinecolor": "#283442",
           "zerolinewidth": 2
          }
         }
        },
        "title": {
         "text": "Battery Capacity by Vehicle Model"
        },
        "xaxis": {
         "anchor": "y",
         "categoryarray": [
          "BMW i3",
          "Hyundai Kona",
          "Chevy Bolt",
          "Nissan Leaf",
          "Tesla Model 3"
         ],
         "categoryorder": "array",
         "domain": [
          0,
          1
         ],
         "title": {
          "text": "Vehicle Model"
         }
        },
        "yaxis": {
         "anchor": "x",
         "domain": [
          0,
          1
         ],
         "title": {
          "text": "Battery Capacity (kWh)"
         }
        }
       }
      }
     },
     "metadata": {},
     "output_type": "display_data"
    }
   ],
   "source": [
    "fig = px.bar(df, x='Vehicle Model', y='Battery Capacity (kWh)', \n",
    "             title='Battery Capacity by Vehicle Model', \n",
    "             labels={'Battery Capacity (kWh)': 'Battery Capacity (kWh)', 'Vehicle Model': 'Vehicle Model'},\n",
    "             color='Vehicle Model',template='plotly_dark')\n",
    "fig.show()"
   ]
  },
  {
   "cell_type": "code",
   "execution_count": 3,
   "id": "3cd6a7bf",
   "metadata": {},
   "outputs": [
    {
     "data": {
      "application/vnd.plotly.v1+json": {
       "config": {
        "plotlyServerURL": "https://plot.ly"
       },
       "data": [
        {
         "hovertemplate": "index=%{x}<br>SoC Change (%)=%{y}<extra></extra>",
         "legendgroup": "",
         "line": {
          "color": "#636efa",
          "dash": "solid"
         },
         "marker": {
          "symbol": "circle"
         },
         "mode": "lines",
         "name": "",
         "showlegend": false,
         "type": "scattergl",
         "x": {
          "bdata": "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",
          "dtype": "i2"
         },
         "xaxis": "x",
         "y": {
          "bdata": "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",
          "dtype": "f8"
         },
         "yaxis": "y"
        }
       ],
       "layout": {
        "legend": {
         "tracegroupgap": 0
        },
        "template": {
         "data": {
          "bar": [
           {
            "error_x": {
             "color": "#f2f5fa"
            },
            "error_y": {
             "color": "#f2f5fa"
            },
            "marker": {
             "line": {
              "color": "rgb(17,17,17)",
              "width": 0.5
             },
             "pattern": {
              "fillmode": "overlay",
              "size": 10,
              "solidity": 0.2
             }
            },
            "type": "bar"
           }
          ],
          "barpolar": [
           {
            "marker": {
             "line": {
              "color": "rgb(17,17,17)",
              "width": 0.5
             },
             "pattern": {
              "fillmode": "overlay",
              "size": 10,
              "solidity": 0.2
             }
            },
            "type": "barpolar"
           }
          ],
          "carpet": [
           {
            "aaxis": {
             "endlinecolor": "#A2B1C6",
             "gridcolor": "#506784",
             "linecolor": "#506784",
             "minorgridcolor": "#506784",
             "startlinecolor": "#A2B1C6"
            },
            "baxis": {
             "endlinecolor": "#A2B1C6",
             "gridcolor": "#506784",
             "linecolor": "#506784",
             "minorgridcolor": "#506784",
             "startlinecolor": "#A2B1C6"
            },
            "type": "carpet"
           }
          ],
          "choropleth": [
           {
            "colorbar": {
             "outlinewidth": 0,
             "ticks": ""
            },
            "type": "choropleth"
           }
          ],
          "contour": [
           {
            "colorbar": {
             "outlinewidth": 0,
             "ticks": ""
            },
            "colorscale": [
             [
              0,
              "#0d0887"
             ],
             [
              0.1111111111111111,
              "#46039f"
             ],
             [
              0.2222222222222222,
              "#7201a8"
             ],
             [
              0.3333333333333333,
              "#9c179e"
             ],
             [
              0.4444444444444444,
              "#bd3786"
             ],
             [
              0.5555555555555556,
              "#d8576b"
             ],
             [
              0.6666666666666666,
              "#ed7953"
             ],
             [
              0.7777777777777778,
              "#fb9f3a"
             ],
             [
              0.8888888888888888,
              "#fdca26"
             ],
             [
              1,
              "#f0f921"
             ]
            ],
            "type": "contour"
           }
          ],
          "contourcarpet": [
           {
            "colorbar": {
             "outlinewidth": 0,
             "ticks": ""
            },
            "type": "contourcarpet"
           }
          ],
          "heatmap": [
           {
            "colorbar": {
             "outlinewidth": 0,
             "ticks": ""
            },
            "colorscale": [
             [
              0,
              "#0d0887"
             ],
             [
              0.1111111111111111,
              "#46039f"
             ],
             [
              0.2222222222222222,
              "#7201a8"
             ],
             [
              0.3333333333333333,
              "#9c179e"
             ],
             [
              0.4444444444444444,
              "#bd3786"
             ],
             [
              0.5555555555555556,
              "#d8576b"
             ],
             [
              0.6666666666666666,
              "#ed7953"
             ],
             [
              0.7777777777777778,
              "#fb9f3a"
             ],
             [
              0.8888888888888888,
              "#fdca26"
             ],
             [
              1,
              "#f0f921"
             ]
            ],
            "type": "heatmap"
           }
          ],
          "histogram": [
           {
            "marker": {
             "pattern": {
              "fillmode": "overlay",
              "size": 10,
              "solidity": 0.2
             }
            },
            "type": "histogram"
           }
          ],
          "histogram2d": [
           {
            "colorbar": {
             "outlinewidth": 0,
             "ticks": ""
            },
            "colorscale": [
             [
              0,
              "#0d0887"
             ],
             [
              0.1111111111111111,
              "#46039f"
             ],
             [
              0.2222222222222222,
              "#7201a8"
             ],
             [
              0.3333333333333333,
              "#9c179e"
             ],
             [
              0.4444444444444444,
              "#bd3786"
             ],
             [
              0.5555555555555556,
              "#d8576b"
             ],
             [
              0.6666666666666666,
              "#ed7953"
             ],
             [
              0.7777777777777778,
              "#fb9f3a"
             ],
             [
              0.8888888888888888,
              "#fdca26"
             ],
             [
              1,
              "#f0f921"
             ]
            ],
            "type": "histogram2d"
           }
          ],
          "histogram2dcontour": [
           {
            "colorbar": {
             "outlinewidth": 0,
             "ticks": ""
            },
            "colorscale": [
             [
              0,
              "#0d0887"
             ],
             [
              0.1111111111111111,
              "#46039f"
             ],
             [
              0.2222222222222222,
              "#7201a8"
             ],
             [
              0.3333333333333333,
              "#9c179e"
             ],
             [
              0.4444444444444444,
              "#bd3786"
             ],
             [
              0.5555555555555556,
              "#d8576b"
             ],
             [
              0.6666666666666666,
              "#ed7953"
             ],
             [
              0.7777777777777778,
              "#fb9f3a"
             ],
             [
              0.8888888888888888,
              "#fdca26"
             ],
             [
              1,
              "#f0f921"
             ]
            ],
            "type": "histogram2dcontour"
           }
          ],
          "mesh3d": [
           {
            "colorbar": {
             "outlinewidth": 0,
             "ticks": ""
            },
            "type": "mesh3d"
           }
          ],
          "parcoords": [
           {
            "line": {
             "colorbar": {
              "outlinewidth": 0,
              "ticks": ""
             }
            },
            "type": "parcoords"
           }
          ],
          "pie": [
           {
            "automargin": true,
            "type": "pie"
           }
          ],
          "scatter": [
           {
            "marker": {
             "line": {
              "color": "#283442"
             }
            },
            "type": "scatter"
           }
          ],
          "scatter3d": [
           {
            "line": {
             "colorbar": {
              "outlinewidth": 0,
              "ticks": ""
             }
            },
            "marker": {
             "colorbar": {
              "outlinewidth": 0,
              "ticks": ""
             }
            },
            "type": "scatter3d"
           }
          ],
          "scattercarpet": [
           {
            "marker": {
             "colorbar": {
              "outlinewidth": 0,
              "ticks": ""
             }
            },
            "type": "scattercarpet"
           }
          ],
          "scattergeo": [
           {
            "marker": {
             "colorbar": {
              "outlinewidth": 0,
              "ticks": ""
             }
            },
            "type": "scattergeo"
           }
          ],
          "scattergl": [
           {
            "marker": {
             "line": {
              "color": "#283442"
             }
            },
            "type": "scattergl"
           }
          ],
          "scattermap": [
           {
            "marker": {
             "colorbar": {
              "outlinewidth": 0,
              "ticks": ""
             }
            },
            "type": "scattermap"
           }
          ],
          "scattermapbox": [
           {
            "marker": {
             "colorbar": {
              "outlinewidth": 0,
              "ticks": ""
             }
            },
            "type": "scattermapbox"
           }
          ],
          "scatterpolar": [
           {
            "marker": {
             "colorbar": {
              "outlinewidth": 0,
              "ticks": ""
             }
            },
            "type": "scatterpolar"
           }
          ],
          "scatterpolargl": [
           {
            "marker": {
             "colorbar": {
              "outlinewidth": 0,
              "ticks": ""
             }
            },
            "type": "scatterpolargl"
           }
          ],
          "scatterternary": [
           {
            "marker": {
             "colorbar": {
              "outlinewidth": 0,
              "ticks": ""
             }
            },
            "type": "scatterternary"
           }
          ],
          "surface": [
           {
            "colorbar": {
             "outlinewidth": 0,
             "ticks": ""
            },
            "colorscale": [
             [
              0,
              "#0d0887"
             ],
             [
              0.1111111111111111,
              "#46039f"
             ],
             [
              0.2222222222222222,
              "#7201a8"
             ],
             [
              0.3333333333333333,
              "#9c179e"
             ],
             [
              0.4444444444444444,
              "#bd3786"
             ],
             [
              0.5555555555555556,
              "#d8576b"
             ],
             [
              0.6666666666666666,
              "#ed7953"
             ],
             [
              0.7777777777777778,
              "#fb9f3a"
             ],
             [
              0.8888888888888888,
              "#fdca26"
             ],
             [
              1,
              "#f0f921"
             ]
            ],
            "type": "surface"
           }
          ],
          "table": [
           {
            "cells": {
             "fill": {
              "color": "#506784"
             },
             "line": {
              "color": "rgb(17,17,17)"
             }
            },
            "header": {
             "fill": {
              "color": "#2a3f5f"
             },
             "line": {
              "color": "rgb(17,17,17)"
             }
            },
            "type": "table"
           }
          ]
         },
         "layout": {
          "annotationdefaults": {
           "arrowcolor": "#f2f5fa",
           "arrowhead": 0,
           "arrowwidth": 1
          },
          "autotypenumbers": "strict",
          "coloraxis": {
           "colorbar": {
            "outlinewidth": 0,
            "ticks": ""
           }
          },
          "colorscale": {
           "diverging": [
            [
             0,
             "#8e0152"
            ],
            [
             0.1,
             "#c51b7d"
            ],
            [
             0.2,
             "#de77ae"
            ],
            [
             0.3,
             "#f1b6da"
            ],
            [
             0.4,
             "#fde0ef"
            ],
            [
             0.5,
             "#f7f7f7"
            ],
            [
             0.6,
             "#e6f5d0"
            ],
            [
             0.7,
             "#b8e186"
            ],
            [
             0.8,
             "#7fbc41"
            ],
            [
             0.9,
             "#4d9221"
            ],
            [
             1,
             "#276419"
            ]
           ],
           "sequential": [
            [
             0,
             "#0d0887"
            ],
            [
             0.1111111111111111,
             "#46039f"
            ],
            [
             0.2222222222222222,
             "#7201a8"
            ],
            [
             0.3333333333333333,
             "#9c179e"
            ],
            [
             0.4444444444444444,
             "#bd3786"
            ],
            [
             0.5555555555555556,
             "#d8576b"
            ],
            [
             0.6666666666666666,
             "#ed7953"
            ],
            [
             0.7777777777777778,
             "#fb9f3a"
            ],
            [
             0.8888888888888888,
             "#fdca26"
            ],
            [
             1,
             "#f0f921"
            ]
           ],
           "sequentialminus": [
            [
             0,
             "#0d0887"
            ],
            [
             0.1111111111111111,
             "#46039f"
            ],
            [
             0.2222222222222222,
             "#7201a8"
            ],
            [
             0.3333333333333333,
             "#9c179e"
            ],
            [
             0.4444444444444444,
             "#bd3786"
            ],
            [
             0.5555555555555556,
             "#d8576b"
            ],
            [
             0.6666666666666666,
             "#ed7953"
            ],
            [
             0.7777777777777778,
             "#fb9f3a"
            ],
            [
             0.8888888888888888,
             "#fdca26"
            ],
            [
             1,
             "#f0f921"
            ]
           ]
          },
          "colorway": [
           "#636efa",
           "#EF553B",
           "#00cc96",
           "#ab63fa",
           "#FFA15A",
           "#19d3f3",
           "#FF6692",
           "#B6E880",
           "#FF97FF",
           "#FECB52"
          ],
          "font": {
           "color": "#f2f5fa"
          },
          "geo": {
           "bgcolor": "rgb(17,17,17)",
           "lakecolor": "rgb(17,17,17)",
           "landcolor": "rgb(17,17,17)",
           "showlakes": true,
           "showland": true,
           "subunitcolor": "#506784"
          },
          "hoverlabel": {
           "align": "left"
          },
          "hovermode": "closest",
          "mapbox": {
           "style": "dark"
          },
          "paper_bgcolor": "rgb(17,17,17)",
          "plot_bgcolor": "rgb(17,17,17)",
          "polar": {
           "angularaxis": {
            "gridcolor": "#506784",
            "linecolor": "#506784",
            "ticks": ""
           },
           "bgcolor": "rgb(17,17,17)",
           "radialaxis": {
            "gridcolor": "#506784",
            "linecolor": "#506784",
            "ticks": ""
           }
          },
          "scene": {
           "xaxis": {
            "backgroundcolor": "rgb(17,17,17)",
            "gridcolor": "#506784",
            "gridwidth": 2,
            "linecolor": "#506784",
            "showbackground": true,
            "ticks": "",
            "zerolinecolor": "#C8D4E3"
           },
           "yaxis": {
            "backgroundcolor": "rgb(17,17,17)",
            "gridcolor": "#506784",
            "gridwidth": 2,
            "linecolor": "#506784",
            "showbackground": true,
            "ticks": "",
            "zerolinecolor": "#C8D4E3"
           },
           "zaxis": {
            "backgroundcolor": "rgb(17,17,17)",
            "gridcolor": "#506784",
            "gridwidth": 2,
            "linecolor": "#506784",
            "showbackground": true,
            "ticks": "",
            "zerolinecolor": "#C8D4E3"
           }
          },
          "shapedefaults": {
           "line": {
            "color": "#f2f5fa"
           }
          },
          "sliderdefaults": {
           "bgcolor": "#C8D4E3",
           "bordercolor": "rgb(17,17,17)",
           "borderwidth": 1,
           "tickwidth": 0
          },
          "ternary": {
           "aaxis": {
            "gridcolor": "#506784",
            "linecolor": "#506784",
            "ticks": ""
           },
           "baxis": {
            "gridcolor": "#506784",
            "linecolor": "#506784",
            "ticks": ""
           },
           "bgcolor": "rgb(17,17,17)",
           "caxis": {
            "gridcolor": "#506784",
            "linecolor": "#506784",
            "ticks": ""
           }
          },
          "title": {
           "x": 0.05
          },
          "updatemenudefaults": {
           "bgcolor": "#506784",
           "borderwidth": 0
          },
          "xaxis": {
           "automargin": true,
           "gridcolor": "#283442",
           "linecolor": "#506784",
           "ticks": "",
           "title": {
            "standoff": 15
           },
           "zerolinecolor": "#283442",
           "zerolinewidth": 2
          },
          "yaxis": {
           "automargin": true,
           "gridcolor": "#283442",
           "linecolor": "#506784",
           "ticks": "",
           "title": {
            "standoff": 15
           },
           "zerolinecolor": "#283442",
           "zerolinewidth": 2
          }
         }
        },
        "title": {
         "text": "SoC Change per Session (End - Start %)"
        },
        "xaxis": {
         "anchor": "y",
         "domain": [
          0,
          1
         ],
         "title": {
          "text": "index"
         }
        },
        "yaxis": {
         "anchor": "x",
         "domain": [
          0,
          1
         ],
         "title": {
          "text": "SoC Change (%)"
         }
        }
       }
      }
     },
     "metadata": {},
     "output_type": "display_data"
    }
   ],
   "source": [
    "df['SoC Change (%)'] = df['State of Charge (End %)'] - df['State of Charge (Start %)']\n",
    "\n",
    "fig_soc_change = px.line(df, x=df.index, y='SoC Change (%)', \n",
    "                         title='SoC Change per Session (End - Start %)', \n",
    "                         labels={'x': 'Session Index', 'SoC Change (%)': 'SoC Change (%)'},template='plotly_dark')\n",
    "fig_soc_change.show()"
   ]
  },
  {
   "cell_type": "code",
   "execution_count": 6,
   "id": "3b767416",
   "metadata": {
    "vscode": {
     "languageId": "javascript"
    }
   },
   "outputs": [
    {
     "data": {
      "application/vnd.plotly.v1+json": {
       "config": {
        "plotlyServerURL": "https://plot.ly"
       },
       "data": [
        {
         "bingroup": "x",
         "hovertemplate": "Battery Size (kWh)=108.46300741284072<br>Distance Driven (km)=%{x}<br>count=%{y}<extra></extra>",
         "legendgroup": "108.46300741284072",
         "marker": {
          "color": "#636efa",
          "pattern": {
           "shape": ""
          }
         },
         "name": "108.46300741284072",
         "nbinsx": 50,
         "orientation": "v",
         "showlegend": true,
         "type": "histogram",
         "x": {
          "bdata": "EsPDPqJZckA=",
          "dtype": "f8"
         },
         "xaxis": "x",
         "yaxis": "y"
        },
        {
         "bingroup": "x",
         "hovertemplate": "Battery Size (kWh)=100.0<br>Distance Driven (km)=%{x}<br>count=%{y}<extra></extra>",
         "legendgroup": "100.0",
         "marker": {
          "color": "#EF553B",
          "pattern": {
           "shape": ""
          }
         },
         "name": "100.0",
         "nbinsx": 50,
         "orientation": "v",
         "showlegend": true,
         "type": "histogram",
         "x": {
          "bdata": "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",
          "dtype": "f8"
         },
         "xaxis": "x",
         "yaxis": "y"
        },
        {
         "bingroup": "x",
         "hovertemplate": "Battery Size (kWh)=75.0<br>Distance Driven (km)=%{x}<br>count=%{y}<extra></extra>",
         "legendgroup": "75.0",
         "marker": {
          "color": "#00cc96",
          "pattern": {
           "shape": ""
          }
         },
         "name": "75.0",
         "nbinsx": 50,
         "orientation": "v",
         "showlegend": true,
         "type": "histogram",
         "x": {
          "bdata": "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",
          "dtype": "f8"
         },
         "xaxis": "x",
         "yaxis": "y"
        },
        {
         "bingroup": "x",
         "hovertemplate": "Battery Size (kWh)=50.0<br>Distance Driven (km)=%{x}<br>count=%{y}<extra></extra>",
         "legendgroup": "50.0",
         "marker": {
          "color": "#ab63fa",
          "pattern": {
           "shape": ""
          }
         },
         "name": "50.0",
         "nbinsx": 50,
         "orientation": "v",
         "showlegend": true,
         "type": "histogram",
         "x": {
          "bdata": "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",
          "dtype": "f8"
         },
         "xaxis": "x",
         "yaxis": "y"
        },
        {
         "bingroup": "x",
         "hovertemplate": "Battery Size (kWh)=85.0<br>Distance Driven (km)=%{x}<br>count=%{y}<extra></extra>",
         "legendgroup": "85.0",
         "marker": {
          "color": "#FFA15A",
          "pattern": {
           "shape": ""
          }
         },
         "name": "85.0",
         "nbinsx": 50,
         "orientation": "v",
         "showlegend": true,
         "type": "histogram",
         "x": {
          "bdata": "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",
          "dtype": "f8"
         },
         "xaxis": "x",
         "yaxis": "y"
        },
        {
         "bingroup": "x",
         "hovertemplate": "Battery Size (kWh)=62.0<br>Distance Driven (km)=%{x}<br>count=%{y}<extra></extra>",
         "legendgroup": "62.0",
         "marker": {
          "color": "#19d3f3",
          "pattern": {
           "shape": ""
          }
         },
         "name": "62.0",
         "nbinsx": 50,
         "orientation": "v",
         "showlegend": true,
         "type": "histogram",
         "x": {
          "bdata": "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",
          "dtype": "f8"
         },
         "xaxis": "x",
         "yaxis": "y"
        },
        {
         "bingroup": "x",
         "hovertemplate": "Battery Size (kWh)=97.681812229825<br>Distance Driven (km)=%{x}<br>count=%{y}<extra></extra>",
         "legendgroup": "97.681812229825",
         "marker": {
          "color": "#FF6692",
          "pattern": {
           "shape": ""
          }
         },
         "name": "97.681812229825",
         "nbinsx": 50,
         "orientation": "v",
         "showlegend": true,
         "type": "histogram",
         "x": {
          "bdata": "EABLM86pbUA=",
          "dtype": "f8"
         },
         "xaxis": "x",
         "yaxis": "y"
        },
        {
         "bingroup": "x",
         "hovertemplate": "Battery Size (kWh)=79.7992037611215<br>Distance Driven (km)=%{x}<br>count=%{y}<extra></extra>",
         "legendgroup": "79.7992037611215",
         "marker": {
          "color": "#B6E880",
          "pattern": {
           "shape": ""
          }
         },
         "name": "79.7992037611215",
         "nbinsx": 50,
         "orientation": "v",
         "showlegend": true,
         "type": "histogram",
         "x": {
          "bdata": "7pasLWLoXUA=",
          "dtype": "f8"
         },
         "xaxis": "x",
         "yaxis": "y"
        },
        {
         "bingroup": "x",
         "hovertemplate": "Battery Size (kWh)=48.79648263973517<br>Distance Driven (km)=%{x}<br>count=%{y}<extra></extra>",
         "legendgroup": "48.79648263973517",
         "marker": {
          "color": "#FF97FF",
          "pattern": {
           "shape": ""
          }
         },
         "name": "48.79648263973517",
         "nbinsx": 50,
         "orientation": "v",
         "showlegend": true,
         "type": "histogram",
         "x": {
          "bdata": "NaKviHIAYkA=",
          "dtype": "f8"
         },
         "xaxis": "x",
         "yaxis": "y"
        },
        {
         "bingroup": "x",
         "hovertemplate": "Battery Size (kWh)=76.87610037599295<br>Distance Driven (km)=%{x}<br>count=%{y}<extra></extra>",
         "legendgroup": "76.87610037599295",
         "marker": {
          "color": "#FECB52",
          "pattern": {
           "shape": ""
          }
         },
         "name": "76.87610037599295",
         "nbinsx": 50,
         "orientation": "v",
         "showlegend": true,
         "type": "histogram",
         "x": {
          "bdata": "fAMrO7+/YEA=",
          "dtype": "f8"
         },
         "xaxis": "x",
         "yaxis": "y"
        },
        {
         "bingroup": "x",
         "hovertemplate": "Battery Size (kWh)=69.88407424915135<br>Distance Driven (km)=%{x}<br>count=%{y}<extra></extra>",
         "legendgroup": "69.88407424915135",
         "marker": {
          "color": "#636efa",
          "pattern": {
           "shape": ""
          }
         },
         "name": "69.88407424915135",
         "nbinsx": 50,
         "orientation": "v",
         "showlegend": true,
         "type": "histogram",
         "x": {
          "bdata": "EWJOZgP+Z0A=",
          "dtype": "f8"
         },
         "xaxis": "x",
         "yaxis": "y"
        },
        {
         "bingroup": "x",
         "hovertemplate": "Battery Size (kWh)=124.31591138552656<br>Distance Driven (km)=%{x}<br>count=%{y}<extra></extra>",
         "legendgroup": "124.31591138552656",
         "marker": {
          "color": "#EF553B",
          "pattern": {
           "shape": ""
          }
         },
         "name": "124.31591138552656",
         "nbinsx": 50,
         "orientation": "v",
         "showlegend": true,
         "type": "histogram",
         "x": {
          "bdata": "B8ndVPoGOUA=",
          "dtype": "f8"
         },
         "xaxis": "x",
         "yaxis": "y"
        },
        {
         "bingroup": "x",
         "hovertemplate": "Battery Size (kWh)=59.83272651224269<br>Distance Driven (km)=%{x}<br>count=%{y}<extra></extra>",
         "legendgroup": "59.83272651224269",
         "marker": {
          "color": "#00cc96",
          "pattern": {
           "shape": ""
          }
         },
         "name": "59.83272651224269",
         "nbinsx": 50,
         "orientation": "v",
         "showlegend": true,
         "type": "histogram",
         "x": {
          "bdata": "OduaInvlZkA=",
          "dtype": "f8"
         },
         "xaxis": "x",
         "yaxis": "y"
        },
        {
         "bingroup": "x",
         "hovertemplate": "Battery Size (kWh)=48.0506947257829<br>Distance Driven (km)=%{x}<br>count=%{y}<extra></extra>",
         "legendgroup": "48.0506947257829",
         "marker": {
          "color": "#ab63fa",
          "pattern": {
           "shape": ""
          }
         },
         "name": "48.0506947257829",
         "nbinsx": 50,
         "orientation": "v",
         "showlegend": true,
         "type": "histogram",
         "x": {
          "bdata": "WQHMEcrIa0A=",
          "dtype": "f8"
         },
         "xaxis": "x",
         "yaxis": "y"
        },
        {
         "bingroup": "x",
         "hovertemplate": "Battery Size (kWh)=24.599922148424582<br>Distance Driven (km)=%{x}<br>count=%{y}<extra></extra>",
         "legendgroup": "24.599922148424582",
         "marker": {
          "color": "#FFA15A",
          "pattern": {
           "shape": ""
          }
         },
         "name": "24.599922148424582",
         "nbinsx": 50,
         "orientation": "v",
         "showlegend": true,
         "type": "histogram",
         "x": {
          "bdata": "AAAAAABAY0A=",
          "dtype": "f8"
         },
         "xaxis": "x",
         "yaxis": "y"
        },
        {
         "bingroup": "x",
         "hovertemplate": "Battery Size (kWh)=77.29894528855995<br>Distance Driven (km)=%{x}<br>count=%{y}<extra></extra>",
         "legendgroup": "77.29894528855995",
         "marker": {
          "color": "#19d3f3",
          "pattern": {
           "shape": ""
          }
         },
         "name": "77.29894528855995",
         "nbinsx": 50,
         "orientation": "v",
         "showlegend": true,
         "type": "histogram",
         "x": {
          "bdata": "oX6NYKm0aEA=",
          "dtype": "f8"
         },
         "xaxis": "x",
         "yaxis": "y"
        },
        {
         "bingroup": "x",
         "hovertemplate": "Battery Size (kWh)=95.15365777022429<br>Distance Driven (km)=%{x}<br>count=%{y}<extra></extra>",
         "legendgroup": "95.15365777022429",
         "marker": {
          "color": "#FF6692",
          "pattern": {
           "shape": ""
          }
         },
         "name": "95.15365777022429",
         "nbinsx": 50,
         "orientation": "v",
         "showlegend": true,
         "type": "histogram",
         "x": {
          "bdata": "ZaUk09aYckA=",
          "dtype": "f8"
         },
         "xaxis": "x",
         "yaxis": "y"
        },
        {
         "bingroup": "x",
         "hovertemplate": "Battery Size (kWh)=147.39535434081623<br>Distance Driven (km)=%{x}<br>count=%{y}<extra></extra>",
         "legendgroup": "147.39535434081623",
         "marker": {
          "color": "#B6E880",
          "pattern": {
           "shape": ""
          }
         },
         "name": "147.39535434081623",
         "nbinsx": 50,
         "orientation": "v",
         "showlegend": true,
         "type": "histogram",
         "x": {
          "bdata": "fOVJhxe7UkA=",
          "dtype": "f8"
         },
         "xaxis": "x",
         "yaxis": "y"
        },
        {
         "bingroup": "x",
         "hovertemplate": "Battery Size (kWh)=63.09631665342351<br>Distance Driven (km)=%{x}<br>count=%{y}<extra></extra>",
         "legendgroup": "63.09631665342351",
         "marker": {
          "color": "#FF97FF",
          "pattern": {
           "shape": ""
          }
         },
         "name": "63.09631665342351",
         "nbinsx": 50,
         "orientation": "v",
         "showlegend": true,
         "type": "histogram",
         "x": {
          "bdata": "Jk1Ll/XOakA=",
          "dtype": "f8"
         },
         "xaxis": "x",
         "yaxis": "y"
        },
        {
         "bingroup": "x",
         "hovertemplate": "Battery Size (kWh)=93.27378066607174<br>Distance Driven (km)=%{x}<br>count=%{y}<extra></extra>",
         "legendgroup": "93.27378066607174",
         "marker": {
          "color": "#FECB52",
          "pattern": {
           "shape": ""
          }
         },
         "name": "93.27378066607174",
         "nbinsx": 50,
         "orientation": "v",
         "showlegend": true,
         "type": "histogram",
         "x": {
          "bdata": "3jWSl4dEaUA=",
          "dtype": "f8"
         },
         "xaxis": "x",
         "yaxis": "y"
        },
        {
         "bingroup": "x",
         "hovertemplate": "Battery Size (kWh)=48.46959856054178<br>Distance Driven (km)=%{x}<br>count=%{y}<extra></extra>",
         "legendgroup": "48.46959856054178",
         "marker": {
          "color": "#636efa",
          "pattern": {
           "shape": ""
          }
         },
         "name": "48.46959856054178",
         "nbinsx": 50,
         "orientation": "v",
         "showlegend": true,
         "type": "histogram",
         "x": {
          "bdata": "qiCBDOVXcUA=",
          "dtype": "f8"
         },
         "xaxis": "x",
         "yaxis": "y"
        },
        {
         "bingroup": "x",
         "hovertemplate": "Battery Size (kWh)=93.09486955069778<br>Distance Driven (km)=%{x}<br>count=%{y}<extra></extra>",
         "legendgroup": "93.09486955069778",
         "marker": {
          "color": "#EF553B",
          "pattern": {
           "shape": ""
          }
         },
         "name": "93.09486955069778",
         "nbinsx": 50,
         "orientation": "v",
         "showlegend": true,
         "type": "histogram",
         "x": {
          "bdata": "bu26DcSCYkA=",
          "dtype": "f8"
         },
         "xaxis": "x",
         "yaxis": "y"
        },
        {
         "bingroup": "x",
         "hovertemplate": "Battery Size (kWh)=50.8706170770115<br>Distance Driven (km)=%{x}<br>count=%{y}<extra></extra>",
         "legendgroup": "50.8706170770115",
         "marker": {
          "color": "#00cc96",
          "pattern": {
           "shape": ""
          }
         },
         "name": "50.8706170770115",
         "nbinsx": 50,
         "orientation": "v",
         "showlegend": true,
         "type": "histogram",
         "x": {
          "bdata": "/4KR6461cEA=",
          "dtype": "f8"
         },
         "xaxis": "x",
         "yaxis": "y"
        },
        {
         "bingroup": "x",
         "hovertemplate": "Battery Size (kWh)=58.01213069644658<br>Distance Driven (km)=%{x}<br>count=%{y}<extra></extra>",
         "legendgroup": "58.01213069644658",
         "marker": {
          "color": "#ab63fa",
          "pattern": {
           "shape": ""
          }
         },
         "name": "58.01213069644658",
         "nbinsx": 50,
         "orientation": "v",
         "showlegend": true,
         "type": "histogram",
         "x": {
          "bdata": "6DOgnjlGVUA=",
          "dtype": "f8"
         },
         "xaxis": "x",
         "yaxis": "y"
        },
        {
         "bingroup": "x",
         "hovertemplate": "Battery Size (kWh)=102.94949428309206<br>Distance Driven (km)=%{x}<br>count=%{y}<extra></extra>",
         "legendgroup": "102.94949428309206",
         "marker": {
          "color": "#FFA15A",
          "pattern": {
           "shape": ""
          }
         },
         "name": "102.94949428309206",
         "nbinsx": 50,
         "orientation": "v",
         "showlegend": true,
         "type": "histogram",
         "x": {
          "bdata": "sczqNFiNY0A=",
          "dtype": "f8"
         },
         "xaxis": "x",
         "yaxis": "y"
        },
        {
         "bingroup": "x",
         "hovertemplate": "Battery Size (kWh)=95.69778086899464<br>Distance Driven (km)=%{x}<br>count=%{y}<extra></extra>",
         "legendgroup": "95.69778086899464",
         "marker": {
          "color": "#19d3f3",
          "pattern": {
           "shape": ""
          }
         },
         "name": "95.69778086899464",
         "nbinsx": 50,
         "orientation": "v",
         "showlegend": true,
         "type": "histogram",
         "x": {
          "bdata": "wDTfPXysXUA=",
          "dtype": "f8"
         },
         "xaxis": "x",
         "yaxis": "y"
        },
        {
         "bingroup": "x",
         "hovertemplate": "Battery Size (kWh)=102.83943000886534<br>Distance Driven (km)=%{x}<br>count=%{y}<extra></extra>",
         "legendgroup": "102.83943000886534",
         "marker": {
          "color": "#FF6692",
          "pattern": {
           "shape": ""
          }
         },
         "name": "102.83943000886534",
         "nbinsx": 50,
         "orientation": "v",
         "showlegend": true,
         "type": "histogram",
         "x": {
          "bdata": "n3qNQyhpYEA=",
          "dtype": "f8"
         },
         "xaxis": "x",
         "yaxis": "y"
        },
        {
         "bingroup": "x",
         "hovertemplate": "Battery Size (kWh)=89.03206382512313<br>Distance Driven (km)=%{x}<br>count=%{y}<extra></extra>",
         "legendgroup": "89.03206382512313",
         "marker": {
          "color": "#B6E880",
          "pattern": {
           "shape": ""
          }
         },
         "name": "89.03206382512313",
         "nbinsx": 50,
         "orientation": "v",
         "showlegend": true,
         "type": "histogram",
         "x": {
          "bdata": "AAAAAABAY0A=",
          "dtype": "f8"
         },
         "xaxis": "x",
         "yaxis": "y"
        },
        {
         "bingroup": "x",
         "hovertemplate": "Battery Size (kWh)=81.65318205107059<br>Distance Driven (km)=%{x}<br>count=%{y}<extra></extra>",
         "legendgroup": "81.65318205107059",
         "marker": {
          "color": "#FF97FF",
          "pattern": {
           "shape": ""
          }
         },
         "name": "81.65318205107059",
         "nbinsx": 50,
         "orientation": "v",
         "showlegend": true,
         "type": "histogram",
         "x": {
          "bdata": "e/X7QgRCZEA=",
          "dtype": "f8"
         },
         "xaxis": "x",
         "yaxis": "y"
        },
        {
         "bingroup": "x",
         "hovertemplate": "Battery Size (kWh)=46.53791149668031<br>Distance Driven (km)=%{x}<br>count=%{y}<extra></extra>",
         "legendgroup": "46.53791149668031",
         "marker": {
          "color": "#FECB52",
          "pattern": {
           "shape": ""
          }
         },
         "name": "46.53791149668031",
         "nbinsx": 50,
         "orientation": "v",
         "showlegend": true,
         "type": "histogram",
         "x": {
          "bdata": "u2KEMedka0A=",
          "dtype": "f8"
         },
         "xaxis": "x",
         "yaxis": "y"
        },
        {
         "bingroup": "x",
         "hovertemplate": "Battery Size (kWh)=27.03325783096455<br>Distance Driven (km)=%{x}<br>count=%{y}<extra></extra>",
         "legendgroup": "27.03325783096455",
         "marker": {
          "color": "#636efa",
          "pattern": {
           "shape": ""
          }
         },
         "name": "27.03325783096455",
         "nbinsx": 50,
         "orientation": "v",
         "showlegend": true,
         "type": "histogram",
         "x": {
          "bdata": "n8n3JLcZXkA=",
          "dtype": "f8"
         },
         "xaxis": "x",
         "yaxis": "y"
        },
        {
         "bingroup": "x",
         "hovertemplate": "Battery Size (kWh)=120.510632768573<br>Distance Driven (km)=%{x}<br>count=%{y}<extra></extra>",
         "legendgroup": "120.510632768573",
         "marker": {
          "color": "#EF553B",
          "pattern": {
           "shape": ""
          }
         },
         "name": "120.510632768573",
         "nbinsx": 50,
         "orientation": "v",
         "showlegend": true,
         "type": "histogram",
         "x": {
          "bdata": "sQirHh1hYUA=",
          "dtype": "f8"
         },
         "xaxis": "x",
         "yaxis": "y"
        },
        {
         "bingroup": "x",
         "hovertemplate": "Battery Size (kWh)=94.82402915199084<br>Distance Driven (km)=%{x}<br>count=%{y}<extra></extra>",
         "legendgroup": "94.82402915199084",
         "marker": {
          "color": "#00cc96",
          "pattern": {
           "shape": ""
          }
         },
         "name": "94.82402915199084",
         "nbinsx": 50,
         "orientation": "v",
         "showlegend": true,
         "type": "histogram",
         "x": {
          "bdata": "ehhdD7OvakA=",
          "dtype": "f8"
         },
         "xaxis": "x",
         "yaxis": "y"
        },
        {
         "bingroup": "x",
         "hovertemplate": "Battery Size (kWh)=45.38021848237455<br>Distance Driven (km)=%{x}<br>count=%{y}<extra></extra>",
         "legendgroup": "45.38021848237455",
         "marker": {
          "color": "#ab63fa",
          "pattern": {
           "shape": ""
          }
         },
         "name": "45.38021848237455",
         "nbinsx": 50,
         "orientation": "v",
         "showlegend": true,
         "type": "histogram",
         "x": {
          "bdata": "f5qCs0sybUA=",
          "dtype": "f8"
         },
         "xaxis": "x",
         "yaxis": "y"
        },
        {
         "bingroup": "x",
         "hovertemplate": "Battery Size (kWh)=143.475209744922<br>Distance Driven (km)=%{x}<br>count=%{y}<extra></extra>",
         "legendgroup": "143.475209744922",
         "marker": {
          "color": "#FFA15A",
          "pattern": {
           "shape": ""
          }
         },
         "name": "143.475209744922",
         "nbinsx": 50,
         "orientation": "v",
         "showlegend": true,
         "type": "histogram",
         "x": {
          "bdata": "tirPXrSKQUA=",
          "dtype": "f8"
         },
         "xaxis": "x",
         "yaxis": "y"
        },
        {
         "bingroup": "x",
         "hovertemplate": "Battery Size (kWh)=10.189286767076991<br>Distance Driven (km)=%{x}<br>count=%{y}<extra></extra>",
         "legendgroup": "10.189286767076991",
         "marker": {
          "color": "#19d3f3",
          "pattern": {
           "shape": ""
          }
         },
         "name": "10.189286767076991",
         "nbinsx": 50,
         "orientation": "v",
         "showlegend": true,
         "type": "histogram",
         "x": {
          "bdata": "ftp/VJ++YkA=",
          "dtype": "f8"
         },
         "xaxis": "x",
         "yaxis": "y"
        },
        {
         "bingroup": "x",
         "hovertemplate": "Battery Size (kWh)=78.38373535705672<br>Distance Driven (km)=%{x}<br>count=%{y}<extra></extra>",
         "legendgroup": "78.38373535705672",
         "marker": {
          "color": "#FF6692",
          "pattern": {
           "shape": ""
          }
         },
         "name": "78.38373535705672",
         "nbinsx": 50,
         "orientation": "v",
         "showlegend": true,
         "type": "histogram",
         "x": {
          "bdata": "GuxJjpu0aUA=",
          "dtype": "f8"
         },
         "xaxis": "x",
         "yaxis": "y"
        },
        {
         "bingroup": "x",
         "hovertemplate": "Battery Size (kWh)=65.04709890586727<br>Distance Driven (km)=%{x}<br>count=%{y}<extra></extra>",
         "legendgroup": "65.04709890586727",
         "marker": {
          "color": "#B6E880",
          "pattern": {
           "shape": ""
          }
         },
         "name": "65.04709890586727",
         "nbinsx": 50,
         "orientation": "v",
         "showlegend": true,
         "type": "histogram",
         "x": {
          "bdata": "7Oy3c9ZLb0A=",
          "dtype": "f8"
         },
         "xaxis": "x",
         "yaxis": "y"
        },
        {
         "bingroup": "x",
         "hovertemplate": "Battery Size (kWh)=33.37702357097419<br>Distance Driven (km)=%{x}<br>count=%{y}<extra></extra>",
         "legendgroup": "33.37702357097419",
         "marker": {
          "color": "#FF97FF",
          "pattern": {
           "shape": ""
          }
         },
         "name": "33.37702357097419",
         "nbinsx": 50,
         "orientation": "v",
         "showlegend": true,
         "type": "histogram",
         "x": {
          "bdata": "fxnuDfFmY0A=",
          "dtype": "f8"
         },
         "xaxis": "x",
         "yaxis": "y"
        },
        {
         "bingroup": "x",
         "hovertemplate": "Battery Size (kWh)=59.79413925244189<br>Distance Driven (km)=%{x}<br>count=%{y}<extra></extra>",
         "legendgroup": "59.79413925244189",
         "marker": {
          "color": "#FECB52",
          "pattern": {
           "shape": ""
          }
         },
         "name": "59.79413925244189",
         "nbinsx": 50,
         "orientation": "v",
         "showlegend": true,
         "type": "histogram",
         "x": {
          "bdata": "iU0M4vxrREA=",
          "dtype": "f8"
         },
         "xaxis": "x",
         "yaxis": "y"
        },
        {
         "bingroup": "x",
         "hovertemplate": "Battery Size (kWh)=6.168895844295367<br>Distance Driven (km)=%{x}<br>count=%{y}<extra></extra>",
         "legendgroup": "6.168895844295367",
         "marker": {
          "color": "#636efa",
          "pattern": {
           "shape": ""
          }
         },
         "name": "6.168895844295367",
         "nbinsx": 50,
         "orientation": "v",
         "showlegend": true,
         "type": "histogram",
         "x": {
          "bdata": "zcs+VU90akA=",
          "dtype": "f8"
         },
         "xaxis": "x",
         "yaxis": "y"
        },
        {
         "bingroup": "x",
         "hovertemplate": "Battery Size (kWh)=45.62653203455355<br>Distance Driven (km)=%{x}<br>count=%{y}<extra></extra>",
         "legendgroup": "45.62653203455355",
         "marker": {
          "color": "#EF553B",
          "pattern": {
           "shape": ""
          }
         },
         "name": "45.62653203455355",
         "nbinsx": 50,
         "orientation": "v",
         "showlegend": true,
         "type": "histogram",
         "x": {
          "bdata": "AAAAAABAY0A=",
          "dtype": "f8"
         },
         "xaxis": "x",
         "yaxis": "y"
        },
        {
         "bingroup": "x",
         "hovertemplate": "Battery Size (kWh)=77.60847805142836<br>Distance Driven (km)=%{x}<br>count=%{y}<extra></extra>",
         "legendgroup": "77.60847805142836",
         "marker": {
          "color": "#00cc96",
          "pattern": {
           "shape": ""
          }
         },
         "name": "77.60847805142836",
         "nbinsx": 50,
         "orientation": "v",
         "showlegend": true,
         "type": "histogram",
         "x": {
          "bdata": "6Q3iOjt3bEA=",
          "dtype": "f8"
         },
         "xaxis": "x",
         "yaxis": "y"
        },
        {
         "bingroup": "x",
         "hovertemplate": "Battery Size (kWh)=48.63693124756141<br>Distance Driven (km)=%{x}<br>count=%{y}<extra></extra>",
         "legendgroup": "48.63693124756141",
         "marker": {
          "color": "#ab63fa",
          "pattern": {
           "shape": ""
          }
         },
         "name": "48.63693124756141",
         "nbinsx": 50,
         "orientation": "v",
         "showlegend": true,
         "type": "histogram",
         "x": {
          "bdata": "uITx/900SUA=",
          "dtype": "f8"
         },
         "xaxis": "x",
         "yaxis": "y"
        },
        {
         "bingroup": "x",
         "hovertemplate": "Battery Size (kWh)=60.78928024814476<br>Distance Driven (km)=%{x}<br>count=%{y}<extra></extra>",
         "legendgroup": "60.78928024814476",
         "marker": {
          "color": "#FFA15A",
          "pattern": {
           "shape": ""
          }
         },
         "name": "60.78928024814476",
         "nbinsx": 50,
         "orientation": "v",
         "showlegend": true,
         "type": "histogram",
         "x": {
          "bdata": "rqyGkp8DcEA=",
          "dtype": "f8"
         },
         "xaxis": "x",
         "yaxis": "y"
        },
        {
         "bingroup": "x",
         "hovertemplate": "Battery Size (kWh)=71.64548706847206<br>Distance Driven (km)=%{x}<br>count=%{y}<extra></extra>",
         "legendgroup": "71.64548706847206",
         "marker": {
          "color": "#19d3f3",
          "pattern": {
           "shape": ""
          }
         },
         "name": "71.64548706847206",
         "nbinsx": 50,
         "orientation": "v",
         "showlegend": true,
         "type": "histogram",
         "x": {
          "bdata": "kXelLoSWZ0A=",
          "dtype": "f8"
         },
         "xaxis": "x",
         "yaxis": "y"
        },
        {
         "bingroup": "x",
         "hovertemplate": "Battery Size (kWh)=46.876796546450585<br>Distance Driven (km)=%{x}<br>count=%{y}<extra></extra>",
         "legendgroup": "46.876796546450585",
         "marker": {
          "color": "#FF6692",
          "pattern": {
           "shape": ""
          }
         },
         "name": "46.876796546450585",
         "nbinsx": 50,
         "orientation": "v",
         "showlegend": true,
         "type": "histogram",
         "x": {
          "bdata": "a88nKawYckA=",
          "dtype": "f8"
         },
         "xaxis": "x",
         "yaxis": "y"
        },
        {
         "bingroup": "x",
         "hovertemplate": "Battery Size (kWh)=69.44504561307087<br>Distance Driven (km)=%{x}<br>count=%{y}<extra></extra>",
         "legendgroup": "69.44504561307087",
         "marker": {
          "color": "#B6E880",
          "pattern": {
           "shape": ""
          }
         },
         "name": "69.44504561307087",
         "nbinsx": 50,
         "orientation": "v",
         "showlegend": true,
         "type": "histogram",
         "x": {
          "bdata": "yBCW7OHzYkA=",
          "dtype": "f8"
         },
         "xaxis": "x",
         "yaxis": "y"
        },
        {
         "bingroup": "x",
         "hovertemplate": "Battery Size (kWh)=3.976596498856954<br>Distance Driven (km)=%{x}<br>count=%{y}<extra></extra>",
         "legendgroup": "3.976596498856954",
         "marker": {
          "color": "#FF97FF",
          "pattern": {
           "shape": ""
          }
         },
         "name": "3.976596498856954",
         "nbinsx": 50,
         "orientation": "v",
         "showlegend": true,
         "type": "histogram",
         "x": {
          "bdata": "F3mvR8lVUEA=",
          "dtype": "f8"
         },
         "xaxis": "x",
         "yaxis": "y"
        },
        {
         "bingroup": "x",
         "hovertemplate": "Battery Size (kWh)=1.5328065298450655<br>Distance Driven (km)=%{x}<br>count=%{y}<extra></extra>",
         "legendgroup": "1.5328065298450655",
         "marker": {
          "color": "#FECB52",
          "pattern": {
           "shape": ""
          }
         },
         "name": "1.5328065298450655",
         "nbinsx": 50,
         "orientation": "v",
         "showlegend": true,
         "type": "histogram",
         "x": {
          "bdata": "3kCCxZH1SUA=",
          "dtype": "f8"
         },
         "xaxis": "x",
         "yaxis": "y"
        },
        {
         "bingroup": "x",
         "hovertemplate": "Battery Size (kWh)=67.54202075470891<br>Distance Driven (km)=%{x}<br>count=%{y}<extra></extra>",
         "legendgroup": "67.54202075470891",
         "marker": {
          "color": "#636efa",
          "pattern": {
           "shape": ""
          }
         },
         "name": "67.54202075470891",
         "nbinsx": 50,
         "orientation": "v",
         "showlegend": true,
         "type": "histogram",
         "x": {
          "bdata": "YKBiuqMHX0A=",
          "dtype": "f8"
         },
         "xaxis": "x",
         "yaxis": "y"
        },
        {
         "bingroup": "x",
         "hovertemplate": "Battery Size (kWh)=127.2802740366814<br>Distance Driven (km)=%{x}<br>count=%{y}<extra></extra>",
         "legendgroup": "127.2802740366814",
         "marker": {
          "color": "#EF553B",
          "pattern": {
           "shape": ""
          }
         },
         "name": "127.2802740366814",
         "nbinsx": 50,
         "orientation": "v",
         "showlegend": true,
         "type": "histogram",
         "x": {
          "bdata": "uOg5mdnuakA=",
          "dtype": "f8"
         },
         "xaxis": "x",
         "yaxis": "y"
        },
        {
         "bingroup": "x",
         "hovertemplate": "Battery Size (kWh)=107.43195454576464<br>Distance Driven (km)=%{x}<br>count=%{y}<extra></extra>",
         "legendgroup": "107.43195454576464",
         "marker": {
          "color": "#00cc96",
          "pattern": {
           "shape": ""
          }
         },
         "name": "107.43195454576464",
         "nbinsx": 50,
         "orientation": "v",
         "showlegend": true,
         "type": "histogram",
         "x": {
          "bdata": "ai8EiySAYUA=",
          "dtype": "f8"
         },
         "xaxis": "x",
         "yaxis": "y"
        },
        {
         "bingroup": "x",
         "hovertemplate": "Battery Size (kWh)=52.33224825582724<br>Distance Driven (km)=%{x}<br>count=%{y}<extra></extra>",
         "legendgroup": "52.33224825582724",
         "marker": {
          "color": "#ab63fa",
          "pattern": {
           "shape": ""
          }
         },
         "name": "52.33224825582724",
         "nbinsx": 50,
         "orientation": "v",
         "showlegend": true,
         "type": "histogram",
         "x": {
          "bdata": "opP+9orRaUA=",
          "dtype": "f8"
         },
         "xaxis": "x",
         "yaxis": "y"
        },
        {
         "bingroup": "x",
         "hovertemplate": "Battery Size (kWh)=39.297422534529126<br>Distance Driven (km)=%{x}<br>count=%{y}<extra></extra>",
         "legendgroup": "39.297422534529126",
         "marker": {
          "color": "#FFA15A",
          "pattern": {
           "shape": ""
          }
         },
         "name": "39.297422534529126",
         "nbinsx": 50,
         "orientation": "v",
         "showlegend": true,
         "type": "histogram",
         "x": {
          "bdata": "exSge/cVa0A=",
          "dtype": "f8"
         },
         "xaxis": "x",
         "yaxis": "y"
        },
        {
         "bingroup": "x",
         "hovertemplate": "Battery Size (kWh)=129.52415942251062<br>Distance Driven (km)=%{x}<br>count=%{y}<extra></extra>",
         "legendgroup": "129.52415942251062",
         "marker": {
          "color": "#19d3f3",
          "pattern": {
           "shape": ""
          }
         },
         "name": "129.52415942251062",
         "nbinsx": 50,
         "orientation": "v",
         "showlegend": true,
         "type": "histogram",
         "x": {
          "bdata": "j6q4Jgl3XUA=",
          "dtype": "f8"
         },
         "xaxis": "x",
         "yaxis": "y"
        },
        {
         "bingroup": "x",
         "hovertemplate": "Battery Size (kWh)=3.8385180739985976<br>Distance Driven (km)=%{x}<br>count=%{y}<extra></extra>",
         "legendgroup": "3.8385180739985976",
         "marker": {
          "color": "#FF6692",
          "pattern": {
           "shape": ""
          }
         },
         "name": "3.8385180739985976",
         "nbinsx": 50,
         "orientation": "v",
         "showlegend": true,
         "type": "histogram",
         "x": {
          "bdata": "dcL2d7E0Z0A=",
          "dtype": "f8"
         },
         "xaxis": "x",
         "yaxis": "y"
        },
        {
         "bingroup": "x",
         "hovertemplate": "Battery Size (kWh)=78.84320420925265<br>Distance Driven (km)=%{x}<br>count=%{y}<extra></extra>",
         "legendgroup": "78.84320420925265",
         "marker": {
          "color": "#B6E880",
          "pattern": {
           "shape": ""
          }
         },
         "name": "78.84320420925265",
         "nbinsx": 50,
         "orientation": "v",
         "showlegend": true,
         "type": "histogram",
         "x": {
          "bdata": "AAAAAABAY0A=",
          "dtype": "f8"
         },
         "xaxis": "x",
         "yaxis": "y"
        },
        {
         "bingroup": "x",
         "hovertemplate": "Battery Size (kWh)=104.91720077254024<br>Distance Driven (km)=%{x}<br>count=%{y}<extra></extra>",
         "legendgroup": "104.91720077254024",
         "marker": {
          "color": "#FF97FF",
          "pattern": {
           "shape": ""
          }
         },
         "name": "104.91720077254024",
         "nbinsx": 50,
         "orientation": "v",
         "showlegend": true,
         "type": "histogram",
         "x": {
          "bdata": "XaiO0S51ZUA=",
          "dtype": "f8"
         },
         "xaxis": "x",
         "yaxis": "y"
        },
        {
         "bingroup": "x",
         "hovertemplate": "Battery Size (kWh)=51.40198311559624<br>Distance Driven (km)=%{x}<br>count=%{y}<extra></extra>",
         "legendgroup": "51.40198311559624",
         "marker": {
          "color": "#FECB52",
          "pattern": {
           "shape": ""
          }
         },
         "name": "51.40198311559624",
         "nbinsx": 50,
         "orientation": "v",
         "showlegend": true,
         "type": "histogram",
         "x": {
          "bdata": "P8mERggZaEA=",
          "dtype": "f8"
         },
         "xaxis": "x",
         "yaxis": "y"
        },
        {
         "bingroup": "x",
         "hovertemplate": "Battery Size (kWh)=99.53686936635634<br>Distance Driven (km)=%{x}<br>count=%{y}<extra></extra>",
         "legendgroup": "99.53686936635634",
         "marker": {
          "color": "#636efa",
          "pattern": {
           "shape": ""
          }
         },
         "name": "99.53686936635634",
         "nbinsx": 50,
         "orientation": "v",
         "showlegend": true,
         "type": "histogram",
         "x": {
          "bdata": "/NV1KSK6QEA=",
          "dtype": "f8"
         },
         "xaxis": "x",
         "yaxis": "y"
        },
        {
         "bingroup": "x",
         "hovertemplate": "Battery Size (kWh)=174.40966768940154<br>Distance Driven (km)=%{x}<br>count=%{y}<extra></extra>",
         "legendgroup": "174.40966768940154",
         "marker": {
          "color": "#EF553B",
          "pattern": {
           "shape": ""
          }
         },
         "name": "174.40966768940154",
         "nbinsx": 50,
         "orientation": "v",
         "showlegend": true,
         "type": "histogram",
         "x": {
          "bdata": "AAAAAABAY0A=",
          "dtype": "f8"
         },
         "xaxis": "x",
         "yaxis": "y"
        },
        {
         "bingroup": "x",
         "hovertemplate": "Battery Size (kWh)=54.37091028458795<br>Distance Driven (km)=%{x}<br>count=%{y}<extra></extra>",
         "legendgroup": "54.37091028458795",
         "marker": {
          "color": "#00cc96",
          "pattern": {
           "shape": ""
          }
         },
         "name": "54.37091028458795",
         "nbinsx": 50,
         "orientation": "v",
         "showlegend": true,
         "type": "histogram",
         "x": {
          "bdata": "yUEDWtanSkA=",
          "dtype": "f8"
         },
         "xaxis": "x",
         "yaxis": "y"
        },
        {
         "bingroup": "x",
         "hovertemplate": "Battery Size (kWh)=87.48862386841733<br>Distance Driven (km)=%{x}<br>count=%{y}<extra></extra>",
         "legendgroup": "87.48862386841733",
         "marker": {
          "color": "#ab63fa",
          "pattern": {
           "shape": ""
          }
         },
         "name": "87.48862386841733",
         "nbinsx": 50,
         "orientation": "v",
         "showlegend": true,
         "type": "histogram",
         "x": {
          "bdata": "rkbmCf7jZUA=",
          "dtype": "f8"
         },
         "xaxis": "x",
         "yaxis": "y"
        },
        {
         "bingroup": "x",
         "hovertemplate": "Battery Size (kWh)=51.11291392372298<br>Distance Driven (km)=%{x}<br>count=%{y}<extra></extra>",
         "legendgroup": "51.11291392372298",
         "marker": {
          "color": "#FFA15A",
          "pattern": {
           "shape": ""
          }
         },
         "name": "51.11291392372298",
         "nbinsx": 50,
         "orientation": "v",
         "showlegend": true,
         "type": "histogram",
         "x": {
          "bdata": "M1cRkdB4NEA=",
          "dtype": "f8"
         },
         "xaxis": "x",
         "yaxis": "y"
        },
        {
         "bingroup": "x",
         "hovertemplate": "Battery Size (kWh)=46.66953088747199<br>Distance Driven (km)=%{x}<br>count=%{y}<extra></extra>",
         "legendgroup": "46.66953088747199",
         "marker": {
          "color": "#19d3f3",
          "pattern": {
           "shape": ""
          }
         },
         "name": "46.66953088747199",
         "nbinsx": 50,
         "orientation": "v",
         "showlegend": true,
         "type": "histogram",
         "x": {
          "bdata": "vW473xUOcUA=",
          "dtype": "f8"
         },
         "xaxis": "x",
         "yaxis": "y"
        },
        {
         "bingroup": "x",
         "hovertemplate": "Battery Size (kWh)=47.00766203532009<br>Distance Driven (km)=%{x}<br>count=%{y}<extra></extra>",
         "legendgroup": "47.00766203532009",
         "marker": {
          "color": "#FF6692",
          "pattern": {
           "shape": ""
          }
         },
         "name": "47.00766203532009",
         "nbinsx": 50,
         "orientation": "v",
         "showlegend": true,
         "type": "histogram",
         "x": {
          "bdata": "GxuOx0GTO0A=",
          "dtype": "f8"
         },
         "xaxis": "x",
         "yaxis": "y"
        },
        {
         "bingroup": "x",
         "hovertemplate": "Battery Size (kWh)=15.421681476063268<br>Distance Driven (km)=%{x}<br>count=%{y}<extra></extra>",
         "legendgroup": "15.421681476063268",
         "marker": {
          "color": "#B6E880",
          "pattern": {
           "shape": ""
          }
         },
         "name": "15.421681476063268",
         "nbinsx": 50,
         "orientation": "v",
         "showlegend": true,
         "type": "histogram",
         "x": {
          "bdata": "Cx0xeRk6cEA=",
          "dtype": "f8"
         },
         "xaxis": "x",
         "yaxis": "y"
        },
        {
         "bingroup": "x",
         "hovertemplate": "Battery Size (kWh)=91.28885270753447<br>Distance Driven (km)=%{x}<br>count=%{y}<extra></extra>",
         "legendgroup": "91.28885270753447",
         "marker": {
          "color": "#FF97FF",
          "pattern": {
           "shape": ""
          }
         },
         "name": "91.28885270753447",
         "nbinsx": 50,
         "orientation": "v",
         "showlegend": true,
         "type": "histogram",
         "x": {
          "bdata": "ljktw7C7cUA=",
          "dtype": "f8"
         },
         "xaxis": "x",
         "yaxis": "y"
        },
        {
         "bingroup": "x",
         "hovertemplate": "Battery Size (kWh)=91.77553027947226<br>Distance Driven (km)=%{x}<br>count=%{y}<extra></extra>",
         "legendgroup": "91.77553027947226",
         "marker": {
          "color": "#FECB52",
          "pattern": {
           "shape": ""
          }
         },
         "name": "91.77553027947226",
         "nbinsx": 50,
         "orientation": "v",
         "showlegend": true,
         "type": "histogram",
         "x": {
          "bdata": "CImGYIs2W0A=",
          "dtype": "f8"
         },
         "xaxis": "x",
         "yaxis": "y"
        },
        {
         "bingroup": "x",
         "hovertemplate": "Battery Size (kWh)=1.5365397434796702<br>Distance Driven (km)=%{x}<br>count=%{y}<extra></extra>",
         "legendgroup": "1.5365397434796702",
         "marker": {
          "color": "#636efa",
          "pattern": {
           "shape": ""
          }
         },
         "name": "1.5365397434796702",
         "nbinsx": 50,
         "orientation": "v",
         "showlegend": true,
         "type": "histogram",
         "x": {
          "bdata": "3IdDNAhGZEA=",
          "dtype": "f8"
         },
         "xaxis": "x",
         "yaxis": "y"
        },
        {
         "bingroup": "x",
         "hovertemplate": "Battery Size (kWh)=121.2118923533745<br>Distance Driven (km)=%{x}<br>count=%{y}<extra></extra>",
         "legendgroup": "121.2118923533745",
         "marker": {
          "color": "#EF553B",
          "pattern": {
           "shape": ""
          }
         },
         "name": "121.2118923533745",
         "nbinsx": 50,
         "orientation": "v",
         "showlegend": true,
         "type": "histogram",
         "x": {
          "bdata": "Sua+cfvTZEA=",
          "dtype": "f8"
         },
         "xaxis": "x",
         "yaxis": "y"
        },
        {
         "bingroup": "x",
         "hovertemplate": "Battery Size (kWh)=65.23649825134287<br>Distance Driven (km)=%{x}<br>count=%{y}<extra></extra>",
         "legendgroup": "65.23649825134287",
         "marker": {
          "color": "#00cc96",
          "pattern": {
           "shape": ""
          }
         },
         "name": "65.23649825134287",
         "nbinsx": 50,
         "orientation": "v",
         "showlegend": true,
         "type": "histogram",
         "x": {
          "bdata": "AAAAAABAY0A=",
          "dtype": "f8"
         },
         "xaxis": "x",
         "yaxis": "y"
        },
        {
         "bingroup": "x",
         "hovertemplate": "Battery Size (kWh)=35.044354421165465<br>Distance Driven (km)=%{x}<br>count=%{y}<extra></extra>",
         "legendgroup": "35.044354421165465",
         "marker": {
          "color": "#ab63fa",
          "pattern": {
           "shape": ""
          }
         },
         "name": "35.044354421165465",
         "nbinsx": 50,
         "orientation": "v",
         "showlegend": true,
         "type": "histogram",
         "x": {
          "bdata": "X144LVkNZEA=",
          "dtype": "f8"
         },
         "xaxis": "x",
         "yaxis": "y"
        },
        {
         "bingroup": "x",
         "hovertemplate": "Battery Size (kWh)=25.57336024448351<br>Distance Driven (km)=%{x}<br>count=%{y}<extra></extra>",
         "legendgroup": "25.57336024448351",
         "marker": {
          "color": "#FFA15A",
          "pattern": {
           "shape": ""
          }
         },
         "name": "25.57336024448351",
         "nbinsx": 50,
         "orientation": "v",
         "showlegend": true,
         "type": "histogram",
         "x": {
          "bdata": "AAAAAABAY0A=",
          "dtype": "f8"
         },
         "xaxis": "x",
         "yaxis": "y"
        },
        {
         "bingroup": "x",
         "hovertemplate": "Battery Size (kWh)=41.65658284822922<br>Distance Driven (km)=%{x}<br>count=%{y}<extra></extra>",
         "legendgroup": "41.65658284822922",
         "marker": {
          "color": "#19d3f3",
          "pattern": {
           "shape": ""
          }
         },
         "name": "41.65658284822922",
         "nbinsx": 50,
         "orientation": "v",
         "showlegend": true,
         "type": "histogram",
         "x": {
          "bdata": "hbTAraRyUkA=",
          "dtype": "f8"
         },
         "xaxis": "x",
         "yaxis": "y"
        },
        {
         "bingroup": "x",
         "hovertemplate": "Battery Size (kWh)=47.65326137555467<br>Distance Driven (km)=%{x}<br>count=%{y}<extra></extra>",
         "legendgroup": "47.65326137555467",
         "marker": {
          "color": "#FF6692",
          "pattern": {
           "shape": ""
          }
         },
         "name": "47.65326137555467",
         "nbinsx": 50,
         "orientation": "v",
         "showlegend": true,
         "type": "histogram",
         "x": {
          "bdata": "sBdFNi7RV0A=",
          "dtype": "f8"
         },
         "xaxis": "x",
         "yaxis": "y"
        },
        {
         "bingroup": "x",
         "hovertemplate": "Battery Size (kWh)=5.189529951841088<br>Distance Driven (km)=%{x}<br>count=%{y}<extra></extra>",
         "legendgroup": "5.189529951841088",
         "marker": {
          "color": "#B6E880",
          "pattern": {
           "shape": ""
          }
         },
         "name": "5.189529951841088",
         "nbinsx": 50,
         "orientation": "v",
         "showlegend": true,
         "type": "histogram",
         "x": {
          "bdata": "RhNVvUAsckA=",
          "dtype": "f8"
         },
         "xaxis": "x",
         "yaxis": "y"
        },
        {
         "bingroup": "x",
         "hovertemplate": "Battery Size (kWh)=96.98923662331453<br>Distance Driven (km)=%{x}<br>count=%{y}<extra></extra>",
         "legendgroup": "96.98923662331453",
         "marker": {
          "color": "#FF97FF",
          "pattern": {
           "shape": ""
          }
         },
         "name": "96.98923662331453",
         "nbinsx": 50,
         "orientation": "v",
         "showlegend": true,
         "type": "histogram",
         "x": {
          "bdata": "ZUSaT1I0bEA=",
          "dtype": "f8"
         },
         "xaxis": "x",
         "yaxis": "y"
        },
        {
         "bingroup": "x",
         "hovertemplate": "Battery Size (kWh)=105.55496694435764<br>Distance Driven (km)=%{x}<br>count=%{y}<extra></extra>",
         "legendgroup": "105.55496694435764",
         "marker": {
          "color": "#FECB52",
          "pattern": {
           "shape": ""
          }
         },
         "name": "105.55496694435764",
         "nbinsx": 50,
         "orientation": "v",
         "showlegend": true,
         "type": "histogram",
         "x": {
          "bdata": "CxPAg0m8V0A=",
          "dtype": "f8"
         },
         "xaxis": "x",
         "yaxis": "y"
        },
        {
         "bingroup": "x",
         "hovertemplate": "Battery Size (kWh)=101.10298785881888<br>Distance Driven (km)=%{x}<br>count=%{y}<extra></extra>",
         "legendgroup": "101.10298785881888",
         "marker": {
          "color": "#636efa",
          "pattern": {
           "shape": ""
          }
         },
         "name": "101.10298785881888",
         "nbinsx": 50,
         "orientation": "v",
         "showlegend": true,
         "type": "histogram",
         "x": {
          "bdata": "HhaIpTezUEA=",
          "dtype": "f8"
         },
         "xaxis": "x",
         "yaxis": "y"
        },
        {
         "bingroup": "x",
         "hovertemplate": "Battery Size (kWh)=83.14159588676097<br>Distance Driven (km)=%{x}<br>count=%{y}<extra></extra>",
         "legendgroup": "83.14159588676097",
         "marker": {
          "color": "#EF553B",
          "pattern": {
           "shape": ""
          }
         },
         "name": "83.14159588676097",
         "nbinsx": 50,
         "orientation": "v",
         "showlegend": true,
         "type": "histogram",
         "x": {
          "bdata": "Lzp1ctlYW0A=",
          "dtype": "f8"
         },
         "xaxis": "x",
         "yaxis": "y"
        },
        {
         "bingroup": "x",
         "hovertemplate": "Battery Size (kWh)=61.38144492828766<br>Distance Driven (km)=%{x}<br>count=%{y}<extra></extra>",
         "legendgroup": "61.38144492828766",
         "marker": {
          "color": "#00cc96",
          "pattern": {
           "shape": ""
          }
         },
         "name": "61.38144492828766",
         "nbinsx": 50,
         "orientation": "v",
         "showlegend": true,
         "type": "histogram",
         "x": {
          "bdata": "QwvvN2sMaUA=",
          "dtype": "f8"
         },
         "xaxis": "x",
         "yaxis": "y"
        },
        {
         "bingroup": "x",
         "hovertemplate": "Battery Size (kWh)=193.0030738908944<br>Distance Driven (km)=%{x}<br>count=%{y}<extra></extra>",
         "legendgroup": "193.0030738908944",
         "marker": {
          "color": "#ab63fa",
          "pattern": {
           "shape": ""
          }
         },
         "name": "193.0030738908944",
         "nbinsx": 50,
         "orientation": "v",
         "showlegend": true,
         "type": "histogram",
         "x": {
          "bdata": "Y83WOEHfXUA=",
          "dtype": "f8"
         },
         "xaxis": "x",
         "yaxis": "y"
        },
        {
         "bingroup": "x",
         "hovertemplate": "Battery Size (kWh)=42.22396426286603<br>Distance Driven (km)=%{x}<br>count=%{y}<extra></extra>",
         "legendgroup": "42.22396426286603",
         "marker": {
          "color": "#FFA15A",
          "pattern": {
           "shape": ""
          }
         },
         "name": "42.22396426286603",
         "nbinsx": 50,
         "orientation": "v",
         "showlegend": true,
         "type": "histogram",
         "x": {
          "bdata": "svty6rZOQ0A=",
          "dtype": "f8"
         },
         "xaxis": "x",
         "yaxis": "y"
        },
        {
         "bingroup": "x",
         "hovertemplate": "Battery Size (kWh)=7.714516853958186<br>Distance Driven (km)=%{x}<br>count=%{y}<extra></extra>",
         "legendgroup": "7.714516853958186",
         "marker": {
          "color": "#19d3f3",
          "pattern": {
           "shape": ""
          }
         },
         "name": "7.714516853958186",
         "nbinsx": 50,
         "orientation": "v",
         "showlegend": true,
         "type": "histogram",
         "x": {
          "bdata": "pVGIcmkOYkA=",
          "dtype": "f8"
         },
         "xaxis": "x",
         "yaxis": "y"
        },
        {
         "bingroup": "x",
         "hovertemplate": "Battery Size (kWh)=37.32971365145482<br>Distance Driven (km)=%{x}<br>count=%{y}<extra></extra>",
         "legendgroup": "37.32971365145482",
         "marker": {
          "color": "#FF6692",
          "pattern": {
           "shape": ""
          }
         },
         "name": "37.32971365145482",
         "nbinsx": 50,
         "orientation": "v",
         "showlegend": true,
         "type": "histogram",
         "x": {
          "bdata": "gkk8KisobEA=",
          "dtype": "f8"
         },
         "xaxis": "x",
         "yaxis": "y"
        },
        {
         "bingroup": "x",
         "hovertemplate": "Battery Size (kWh)=94.20058699032565<br>Distance Driven (km)=%{x}<br>count=%{y}<extra></extra>",
         "legendgroup": "94.20058699032565",
         "marker": {
          "color": "#B6E880",
          "pattern": {
           "shape": ""
          }
         },
         "name": "94.20058699032565",
         "nbinsx": 50,
         "orientation": "v",
         "showlegend": true,
         "type": "histogram",
         "x": {
          "bdata": "Q5LKRr7kZ0A=",
          "dtype": "f8"
         },
         "xaxis": "x",
         "yaxis": "y"
        },
        {
         "bingroup": "x",
         "hovertemplate": "Battery Size (kWh)=81.36841583065208<br>Distance Driven (km)=%{x}<br>count=%{y}<extra></extra>",
         "legendgroup": "81.36841583065208",
         "marker": {
          "color": "#FF97FF",
          "pattern": {
           "shape": ""
          }
         },
         "name": "81.36841583065208",
         "nbinsx": 50,
         "orientation": "v",
         "showlegend": true,
         "type": "histogram",
         "x": {
          "bdata": "tRsE64e4XEA=",
          "dtype": "f8"
         },
         "xaxis": "x",
         "yaxis": "y"
        },
        {
         "bingroup": "x",
         "hovertemplate": "Battery Size (kWh)=29.59428888586566<br>Distance Driven (km)=%{x}<br>count=%{y}<extra></extra>",
         "legendgroup": "29.59428888586566",
         "marker": {
          "color": "#FECB52",
          "pattern": {
           "shape": ""
          }
         },
         "name": "29.59428888586566",
         "nbinsx": 50,
         "orientation": "v",
         "showlegend": true,
         "type": "histogram",
         "x": {
          "bdata": "T8S57tEEQUA=",
          "dtype": "f8"
         },
         "xaxis": "x",
         "yaxis": "y"
        },
        {
         "bingroup": "x",
         "hovertemplate": "Battery Size (kWh)=64.77070141320091<br>Distance Driven (km)=%{x}<br>count=%{y}<extra></extra>",
         "legendgroup": "64.77070141320091",
         "marker": {
          "color": "#636efa",
          "pattern": {
           "shape": ""
          }
         },
         "name": "64.77070141320091",
         "nbinsx": 50,
         "orientation": "v",
         "showlegend": true,
         "type": "histogram",
         "x": {
          "bdata": "m7u1TLaYP0A=",
          "dtype": "f8"
         },
         "xaxis": "x",
         "yaxis": "y"
        },
        {
         "bingroup": "x",
         "hovertemplate": "Battery Size (kWh)=61.460885466440864<br>Distance Driven (km)=%{x}<br>count=%{y}<extra></extra>",
         "legendgroup": "61.460885466440864",
         "marker": {
          "color": "#EF553B",
          "pattern": {
           "shape": ""
          }
         },
         "name": "61.460885466440864",
         "nbinsx": 50,
         "orientation": "v",
         "showlegend": true,
         "type": "histogram",
         "x": {
          "bdata": "c9GgV6R+NEA=",
          "dtype": "f8"
         },
         "xaxis": "x",
         "yaxis": "y"
        },
        {
         "bingroup": "x",
         "hovertemplate": "Battery Size (kWh)=58.36980451713409<br>Distance Driven (km)=%{x}<br>count=%{y}<extra></extra>",
         "legendgroup": "58.36980451713409",
         "marker": {
          "color": "#00cc96",
          "pattern": {
           "shape": ""
          }
         },
         "name": "58.36980451713409",
         "nbinsx": 50,
         "orientation": "v",
         "showlegend": true,
         "type": "histogram",
         "x": {
          "bdata": "9fQLvXKQaEA=",
          "dtype": "f8"
         },
         "xaxis": "x",
         "yaxis": "y"
        },
        {
         "bingroup": "x",
         "hovertemplate": "Battery Size (kWh)=47.59576449275049<br>Distance Driven (km)=%{x}<br>count=%{y}<extra></extra>",
         "legendgroup": "47.59576449275049",
         "marker": {
          "color": "#ab63fa",
          "pattern": {
           "shape": ""
          }
         },
         "name": "47.59576449275049",
         "nbinsx": 50,
         "orientation": "v",
         "showlegend": true,
         "type": "histogram",
         "x": {
          "bdata": "jOru0D9cYUA=",
          "dtype": "f8"
         },
         "xaxis": "x",
         "yaxis": "y"
        },
        {
         "bingroup": "x",
         "hovertemplate": "Battery Size (kWh)=12.033336968357112<br>Distance Driven (km)=%{x}<br>count=%{y}<extra></extra>",
         "legendgroup": "12.033336968357112",
         "marker": {
          "color": "#FFA15A",
          "pattern": {
           "shape": ""
          }
         },
         "name": "12.033336968357112",
         "nbinsx": 50,
         "orientation": "v",
         "showlegend": true,
         "type": "histogram",
         "x": {
          "bdata": "AWuBQc4IckA=",
          "dtype": "f8"
         },
         "xaxis": "x",
         "yaxis": "y"
        },
        {
         "bingroup": "x",
         "hovertemplate": "Battery Size (kWh)=105.28706772872856<br>Distance Driven (km)=%{x}<br>count=%{y}<extra></extra>",
         "legendgroup": "105.28706772872856",
         "marker": {
          "color": "#19d3f3",
          "pattern": {
           "shape": ""
          }
         },
         "name": "105.28706772872856",
         "nbinsx": 50,
         "orientation": "v",
         "showlegend": true,
         "type": "histogram",
         "x": {
          "bdata": "fK6IJvVIcUA=",
          "dtype": "f8"
         },
         "xaxis": "x",
         "yaxis": "y"
        },
        {
         "bingroup": "x",
         "hovertemplate": "Battery Size (kWh)=140.7620615787216<br>Distance Driven (km)=%{x}<br>count=%{y}<extra></extra>",
         "legendgroup": "140.7620615787216",
         "marker": {
          "color": "#FF6692",
          "pattern": {
           "shape": ""
          }
         },
         "name": "140.7620615787216",
         "nbinsx": 50,
         "orientation": "v",
         "showlegend": true,
         "type": "histogram",
         "x": {
          "bdata": "9F6RZ7K8a0A=",
          "dtype": "f8"
         },
         "xaxis": "x",
         "yaxis": "y"
        },
        {
         "bingroup": "x",
         "hovertemplate": "Battery Size (kWh)=96.60872071307756<br>Distance Driven (km)=%{x}<br>count=%{y}<extra></extra>",
         "legendgroup": "96.60872071307756",
         "marker": {
          "color": "#B6E880",
          "pattern": {
           "shape": ""
          }
         },
         "name": "96.60872071307756",
         "nbinsx": 50,
         "orientation": "v",
         "showlegend": true,
         "type": "histogram",
         "x": {
          "bdata": "wB3jUPwxP0A=",
          "dtype": "f8"
         },
         "xaxis": "x",
         "yaxis": "y"
        },
        {
         "bingroup": "x",
         "hovertemplate": "Battery Size (kWh)=73.85002716229796<br>Distance Driven (km)=%{x}<br>count=%{y}<extra></extra>",
         "legendgroup": "73.85002716229796",
         "marker": {
          "color": "#FF97FF",
          "pattern": {
           "shape": ""
          }
         },
         "name": "73.85002716229796",
         "nbinsx": 50,
         "orientation": "v",
         "showlegend": true,
         "type": "histogram",
         "x": {
          "bdata": "wc7DOEKeN0A=",
          "dtype": "f8"
         },
         "xaxis": "x",
         "yaxis": "y"
        },
        {
         "bingroup": "x",
         "hovertemplate": "Battery Size (kWh)=53.97365865790932<br>Distance Driven (km)=%{x}<br>count=%{y}<extra></extra>",
         "legendgroup": "53.97365865790932",
         "marker": {
          "color": "#FECB52",
          "pattern": {
           "shape": ""
          }
         },
         "name": "53.97365865790932",
         "nbinsx": 50,
         "orientation": "v",
         "showlegend": true,
         "type": "histogram",
         "x": {
          "bdata": "EBsFtlIDcEA=",
          "dtype": "f8"
         },
         "xaxis": "x",
         "yaxis": "y"
        },
        {
         "bingroup": "x",
         "hovertemplate": "Battery Size (kWh)=26.13651024680693<br>Distance Driven (km)=%{x}<br>count=%{y}<extra></extra>",
         "legendgroup": "26.13651024680693",
         "marker": {
          "color": "#636efa",
          "pattern": {
           "shape": ""
          }
         },
         "name": "26.13651024680693",
         "nbinsx": 50,
         "orientation": "v",
         "showlegend": true,
         "type": "histogram",
         "x": {
          "bdata": "Wm6I8ehOZEA=",
          "dtype": "f8"
         },
         "xaxis": "x",
         "yaxis": "y"
        },
        {
         "bingroup": "x",
         "hovertemplate": "Battery Size (kWh)=88.86922406551787<br>Distance Driven (km)=%{x}<br>count=%{y}<extra></extra>",
         "legendgroup": "88.86922406551787",
         "marker": {
          "color": "#EF553B",
          "pattern": {
           "shape": ""
          }
         },
         "name": "88.86922406551787",
         "nbinsx": 50,
         "orientation": "v",
         "showlegend": true,
         "type": "histogram",
         "x": {
          "bdata": "bbpxRTYQWEA=",
          "dtype": "f8"
         },
         "xaxis": "x",
         "yaxis": "y"
        },
        {
         "bingroup": "x",
         "hovertemplate": "Battery Size (kWh)=43.71913702406909<br>Distance Driven (km)=%{x}<br>count=%{y}<extra></extra>",
         "legendgroup": "43.71913702406909",
         "marker": {
          "color": "#00cc96",
          "pattern": {
           "shape": ""
          }
         },
         "name": "43.71913702406909",
         "nbinsx": 50,
         "orientation": "v",
         "showlegend": true,
         "type": "histogram",
         "x": {
          "bdata": "AAAAAABAY0A=",
          "dtype": "f8"
         },
         "xaxis": "x",
         "yaxis": "y"
        },
        {
         "bingroup": "x",
         "hovertemplate": "Battery Size (kWh)=58.33515981855699<br>Distance Driven (km)=%{x}<br>count=%{y}<extra></extra>",
         "legendgroup": "58.33515981855699",
         "marker": {
          "color": "#ab63fa",
          "pattern": {
           "shape": ""
          }
         },
         "name": "58.33515981855699",
         "nbinsx": 50,
         "orientation": "v",
         "showlegend": true,
         "type": "histogram",
         "x": {
          "bdata": "iWhf5RjwWUA=",
          "dtype": "f8"
         },
         "xaxis": "x",
         "yaxis": "y"
        },
        {
         "bingroup": "x",
         "hovertemplate": "Battery Size (kWh)=101.02319923832744<br>Distance Driven (km)=%{x}<br>count=%{y}<extra></extra>",
         "legendgroup": "101.02319923832744",
         "marker": {
          "color": "#FFA15A",
          "pattern": {
           "shape": ""
          }
         },
         "name": "101.02319923832744",
         "nbinsx": 50,
         "orientation": "v",
         "showlegend": true,
         "type": "histogram",
         "x": {
          "bdata": "lzD2rSwlYkA=",
          "dtype": "f8"
         },
         "xaxis": "x",
         "yaxis": "y"
        },
        {
         "bingroup": "x",
         "hovertemplate": "Battery Size (kWh)=76.33659054812139<br>Distance Driven (km)=%{x}<br>count=%{y}<extra></extra>",
         "legendgroup": "76.33659054812139",
         "marker": {
          "color": "#19d3f3",
          "pattern": {
           "shape": ""
          }
         },
         "name": "76.33659054812139",
         "nbinsx": 50,
         "orientation": "v",
         "showlegend": true,
         "type": "histogram",
         "x": {
          "bdata": "nUxdGcIsaEA=",
          "dtype": "f8"
         },
         "xaxis": "x",
         "yaxis": "y"
        },
        {
         "bingroup": "x",
         "hovertemplate": "Battery Size (kWh)=143.2099946484289<br>Distance Driven (km)=%{x}<br>count=%{y}<extra></extra>",
         "legendgroup": "143.2099946484289",
         "marker": {
          "color": "#FF6692",
          "pattern": {
           "shape": ""
          }
         },
         "name": "143.2099946484289",
         "nbinsx": 50,
         "orientation": "v",
         "showlegend": true,
         "type": "histogram",
         "x": {
          "bdata": "NNy1fhgaYkA=",
          "dtype": "f8"
         },
         "xaxis": "x",
         "yaxis": "y"
        },
        {
         "bingroup": "x",
         "hovertemplate": "Battery Size (kWh)=7.451954886893098<br>Distance Driven (km)=%{x}<br>count=%{y}<extra></extra>",
         "legendgroup": "7.451954886893098",
         "marker": {
          "color": "#B6E880",
          "pattern": {
           "shape": ""
          }
         },
         "name": "7.451954886893098",
         "nbinsx": 50,
         "orientation": "v",
         "showlegend": true,
         "type": "histogram",
         "x": {
          "bdata": "fEkSqX7zYEA=",
          "dtype": "f8"
         },
         "xaxis": "x",
         "yaxis": "y"
        },
        {
         "bingroup": "x",
         "hovertemplate": "Battery Size (kWh)=94.35817416504028<br>Distance Driven (km)=%{x}<br>count=%{y}<extra></extra>",
         "legendgroup": "94.35817416504028",
         "marker": {
          "color": "#FF97FF",
          "pattern": {
           "shape": ""
          }
         },
         "name": "94.35817416504028",
         "nbinsx": 50,
         "orientation": "v",
         "showlegend": true,
         "type": "histogram",
         "x": {
          "bdata": "yU5WkLUEZ0A=",
          "dtype": "f8"
         },
         "xaxis": "x",
         "yaxis": "y"
        },
        {
         "bingroup": "x",
         "hovertemplate": "Battery Size (kWh)=140.5136826125489<br>Distance Driven (km)=%{x}<br>count=%{y}<extra></extra>",
         "legendgroup": "140.5136826125489",
         "marker": {
          "color": "#FECB52",
          "pattern": {
           "shape": ""
          }
         },
         "name": "140.5136826125489",
         "nbinsx": 50,
         "orientation": "v",
         "showlegend": true,
         "type": "histogram",
         "x": {
          "bdata": "S1/Zku8GZUA=",
          "dtype": "f8"
         },
         "xaxis": "x",
         "yaxis": "y"
        },
        {
         "bingroup": "x",
         "hovertemplate": "Battery Size (kWh)=78.20507692637582<br>Distance Driven (km)=%{x}<br>count=%{y}<extra></extra>",
         "legendgroup": "78.20507692637582",
         "marker": {
          "color": "#636efa",
          "pattern": {
           "shape": ""
          }
         },
         "name": "78.20507692637582",
         "nbinsx": 50,
         "orientation": "v",
         "showlegend": true,
         "type": "histogram",
         "x": {
          "bdata": "AAAAAABAY0A=",
          "dtype": "f8"
         },
         "xaxis": "x",
         "yaxis": "y"
        },
        {
         "bingroup": "x",
         "hovertemplate": "Battery Size (kWh)=101.8798726801754<br>Distance Driven (km)=%{x}<br>count=%{y}<extra></extra>",
         "legendgroup": "101.8798726801754",
         "marker": {
          "color": "#EF553B",
          "pattern": {
           "shape": ""
          }
         },
         "name": "101.8798726801754",
         "nbinsx": 50,
         "orientation": "v",
         "showlegend": true,
         "type": "histogram",
         "x": {
          "bdata": "BdYmkSs7YkA=",
          "dtype": "f8"
         },
         "xaxis": "x",
         "yaxis": "y"
        },
        {
         "bingroup": "x",
         "hovertemplate": "Battery Size (kWh)=104.000273060206<br>Distance Driven (km)=%{x}<br>count=%{y}<extra></extra>",
         "legendgroup": "104.000273060206",
         "marker": {
          "color": "#00cc96",
          "pattern": {
           "shape": ""
          }
         },
         "name": "104.000273060206",
         "nbinsx": 50,
         "orientation": "v",
         "showlegend": true,
         "type": "histogram",
         "x": {
          "bdata": "YldvK4E7Q0A=",
          "dtype": "f8"
         },
         "xaxis": "x",
         "yaxis": "y"
        },
        {
         "bingroup": "x",
         "hovertemplate": "Battery Size (kWh)=91.92323205405889<br>Distance Driven (km)=%{x}<br>count=%{y}<extra></extra>",
         "legendgroup": "91.92323205405889",
         "marker": {
          "color": "#ab63fa",
          "pattern": {
           "shape": ""
          }
         },
         "name": "91.92323205405889",
         "nbinsx": 50,
         "orientation": "v",
         "showlegend": true,
         "type": "histogram",
         "x": {
          "bdata": "yzCWsOooS0A=",
          "dtype": "f8"
         },
         "xaxis": "x",
         "yaxis": "y"
        },
        {
         "bingroup": "x",
         "hovertemplate": "Battery Size (kWh)=188.634964592257<br>Distance Driven (km)=%{x}<br>count=%{y}<extra></extra>",
         "legendgroup": "188.634964592257",
         "marker": {
          "color": "#FFA15A",
          "pattern": {
           "shape": ""
          }
         },
         "name": "188.634964592257",
         "nbinsx": 50,
         "orientation": "v",
         "showlegend": true,
         "type": "histogram",
         "x": {
          "bdata": "ODo51tsBTkA=",
          "dtype": "f8"
         },
         "xaxis": "x",
         "yaxis": "y"
        },
        {
         "bingroup": "x",
         "hovertemplate": "Battery Size (kWh)=157.57577887628838<br>Distance Driven (km)=%{x}<br>count=%{y}<extra></extra>",
         "legendgroup": "157.57577887628838",
         "marker": {
          "color": "#19d3f3",
          "pattern": {
           "shape": ""
          }
         },
         "name": "157.57577887628838",
         "nbinsx": 50,
         "orientation": "v",
         "showlegend": true,
         "type": "histogram",
         "x": {
          "bdata": "9sM9h2sXcEA=",
          "dtype": "f8"
         },
         "xaxis": "x",
         "yaxis": "y"
        },
        {
         "bingroup": "x",
         "hovertemplate": "Battery Size (kWh)=86.09247991035157<br>Distance Driven (km)=%{x}<br>count=%{y}<extra></extra>",
         "legendgroup": "86.09247991035157",
         "marker": {
          "color": "#FF6692",
          "pattern": {
           "shape": ""
          }
         },
         "name": "86.09247991035157",
         "nbinsx": 50,
         "orientation": "v",
         "showlegend": true,
         "type": "histogram",
         "x": {
          "bdata": "j+iUs2vCYUA=",
          "dtype": "f8"
         },
         "xaxis": "x",
         "yaxis": "y"
        },
        {
         "bingroup": "x",
         "hovertemplate": "Battery Size (kWh)=60.65969098050447<br>Distance Driven (km)=%{x}<br>count=%{y}<extra></extra>",
         "legendgroup": "60.65969098050447",
         "marker": {
          "color": "#B6E880",
          "pattern": {
           "shape": ""
          }
         },
         "name": "60.65969098050447",
         "nbinsx": 50,
         "orientation": "v",
         "showlegend": true,
         "type": "histogram",
         "x": {
          "bdata": "Rj1HoTv1ZEA=",
          "dtype": "f8"
         },
         "xaxis": "x",
         "yaxis": "y"
        },
        {
         "bingroup": "x",
         "hovertemplate": "Battery Size (kWh)=109.79512826818667<br>Distance Driven (km)=%{x}<br>count=%{y}<extra></extra>",
         "legendgroup": "109.79512826818667",
         "marker": {
          "color": "#FF97FF",
          "pattern": {
           "shape": ""
          }
         },
         "name": "109.79512826818667",
         "nbinsx": 50,
         "orientation": "v",
         "showlegend": true,
         "type": "histogram",
         "x": {
          "bdata": "2wmTmIx0VEA=",
          "dtype": "f8"
         },
         "xaxis": "x",
         "yaxis": "y"
        },
        {
         "bingroup": "x",
         "hovertemplate": "Battery Size (kWh)=55.816693759861394<br>Distance Driven (km)=%{x}<br>count=%{y}<extra></extra>",
         "legendgroup": "55.816693759861394",
         "marker": {
          "color": "#FECB52",
          "pattern": {
           "shape": ""
          }
         },
         "name": "55.816693759861394",
         "nbinsx": 50,
         "orientation": "v",
         "showlegend": true,
         "type": "histogram",
         "x": {
          "bdata": "bnEni1LOTkA=",
          "dtype": "f8"
         },
         "xaxis": "x",
         "yaxis": "y"
        },
        {
         "bingroup": "x",
         "hovertemplate": "Battery Size (kWh)=45.81598720004838<br>Distance Driven (km)=%{x}<br>count=%{y}<extra></extra>",
         "legendgroup": "45.81598720004838",
         "marker": {
          "color": "#636efa",
          "pattern": {
           "shape": ""
          }
         },
         "name": "45.81598720004838",
         "nbinsx": 50,
         "orientation": "v",
         "showlegend": true,
         "type": "histogram",
         "x": {
          "bdata": "zWKHQuVlY0A=",
          "dtype": "f8"
         },
         "xaxis": "x",
         "yaxis": "y"
        },
        {
         "bingroup": "x",
         "hovertemplate": "Battery Size (kWh)=82.66681120678558<br>Distance Driven (km)=%{x}<br>count=%{y}<extra></extra>",
         "legendgroup": "82.66681120678558",
         "marker": {
          "color": "#EF553B",
          "pattern": {
           "shape": ""
          }
         },
         "name": "82.66681120678558",
         "nbinsx": 50,
         "orientation": "v",
         "showlegend": true,
         "type": "histogram",
         "x": {
          "bdata": "AAAAAABAY0A=",
          "dtype": "f8"
         },
         "xaxis": "x",
         "yaxis": "y"
        },
        {
         "bingroup": "x",
         "hovertemplate": "Battery Size (kWh)=78.43167081675972<br>Distance Driven (km)=%{x}<br>count=%{y}<extra></extra>",
         "legendgroup": "78.43167081675972",
         "marker": {
          "color": "#00cc96",
          "pattern": {
           "shape": ""
          }
         },
         "name": "78.43167081675972",
         "nbinsx": 50,
         "orientation": "v",
         "showlegend": true,
         "type": "histogram",
         "x": {
          "bdata": "ojUF87/2YEA=",
          "dtype": "f8"
         },
         "xaxis": "x",
         "yaxis": "y"
        },
        {
         "bingroup": "x",
         "hovertemplate": "Battery Size (kWh)=106.82055688209076<br>Distance Driven (km)=%{x}<br>count=%{y}<extra></extra>",
         "legendgroup": "106.82055688209076",
         "marker": {
          "color": "#ab63fa",
          "pattern": {
           "shape": ""
          }
         },
         "name": "106.82055688209076",
         "nbinsx": 50,
         "orientation": "v",
         "showlegend": true,
         "type": "histogram",
         "x": {
          "bdata": "Hk7P8zimPkA=",
          "dtype": "f8"
         },
         "xaxis": "x",
         "yaxis": "y"
        },
        {
         "bingroup": "x",
         "hovertemplate": "Battery Size (kWh)=102.39937129748328<br>Distance Driven (km)=%{x}<br>count=%{y}<extra></extra>",
         "legendgroup": "102.39937129748328",
         "marker": {
          "color": "#FFA15A",
          "pattern": {
           "shape": ""
          }
         },
         "name": "102.39937129748328",
         "nbinsx": 50,
         "orientation": "v",
         "showlegend": true,
         "type": "histogram",
         "x": {
          "bdata": "lVX+nqAUUkA=",
          "dtype": "f8"
         },
         "xaxis": "x",
         "yaxis": "y"
        },
        {
         "bingroup": "x",
         "hovertemplate": "Battery Size (kWh)=60.30920245060118<br>Distance Driven (km)=%{x}<br>count=%{y}<extra></extra>",
         "legendgroup": "60.30920245060118",
         "marker": {
          "color": "#19d3f3",
          "pattern": {
           "shape": ""
          }
         },
         "name": "60.30920245060118",
         "nbinsx": 50,
         "orientation": "v",
         "showlegend": true,
         "type": "histogram",
         "x": {
          "bdata": "+0k11uoRbEA=",
          "dtype": "f8"
         },
         "xaxis": "x",
         "yaxis": "y"
        },
        {
         "bingroup": "x",
         "hovertemplate": "Battery Size (kWh)=179.01305777024916<br>Distance Driven (km)=%{x}<br>count=%{y}<extra></extra>",
         "legendgroup": "179.01305777024916",
         "marker": {
          "color": "#FF6692",
          "pattern": {
           "shape": ""
          }
         },
         "name": "179.01305777024916",
         "nbinsx": 50,
         "orientation": "v",
         "showlegend": true,
         "type": "histogram",
         "x": {
          "bdata": "//45EGwcY0A=",
          "dtype": "f8"
         },
         "xaxis": "x",
         "yaxis": "y"
        },
        {
         "bingroup": "x",
         "hovertemplate": "Battery Size (kWh)=65.9740460475554<br>Distance Driven (km)=%{x}<br>count=%{y}<extra></extra>",
         "legendgroup": "65.9740460475554",
         "marker": {
          "color": "#B6E880",
          "pattern": {
           "shape": ""
          }
         },
         "name": "65.9740460475554",
         "nbinsx": 50,
         "orientation": "v",
         "showlegend": true,
         "type": "histogram",
         "x": {
          "bdata": "0EPfJeDuXEA=",
          "dtype": "f8"
         },
         "xaxis": "x",
         "yaxis": "y"
        },
        {
         "bingroup": "x",
         "hovertemplate": "Battery Size (kWh)=24.739974705834577<br>Distance Driven (km)=%{x}<br>count=%{y}<extra></extra>",
         "legendgroup": "24.739974705834577",
         "marker": {
          "color": "#FF97FF",
          "pattern": {
           "shape": ""
          }
         },
         "name": "24.739974705834577",
         "nbinsx": 50,
         "orientation": "v",
         "showlegend": true,
         "type": "histogram",
         "x": {
          "bdata": "Jr2okQwLeEA=",
          "dtype": "f8"
         },
         "xaxis": "x",
         "yaxis": "y"
        },
        {
         "bingroup": "x",
         "hovertemplate": "Battery Size (kWh)=84.63170318839946<br>Distance Driven (km)=%{x}<br>count=%{y}<extra></extra>",
         "legendgroup": "84.63170318839946",
         "marker": {
          "color": "#FECB52",
          "pattern": {
           "shape": ""
          }
         },
         "name": "84.63170318839946",
         "nbinsx": 50,
         "orientation": "v",
         "showlegend": true,
         "type": "histogram",
         "x": {
          "bdata": "GJtCcpu6ckA=",
          "dtype": "f8"
         },
         "xaxis": "x",
         "yaxis": "y"
        },
        {
         "bingroup": "x",
         "hovertemplate": "Battery Size (kWh)=28.59217552015043<br>Distance Driven (km)=%{x}<br>count=%{y}<extra></extra>",
         "legendgroup": "28.59217552015043",
         "marker": {
          "color": "#636efa",
          "pattern": {
           "shape": ""
          }
         },
         "name": "28.59217552015043",
         "nbinsx": 50,
         "orientation": "v",
         "showlegend": true,
         "type": "histogram",
         "x": {
          "bdata": "yl4hb4znTkA=",
          "dtype": "f8"
         },
         "xaxis": "x",
         "yaxis": "y"
        },
        {
         "bingroup": "x",
         "hovertemplate": "Battery Size (kWh)=110.6581279246<br>Distance Driven (km)=%{x}<br>count=%{y}<extra></extra>",
         "legendgroup": "110.6581279246",
         "marker": {
          "color": "#EF553B",
          "pattern": {
           "shape": ""
          }
         },
         "name": "110.6581279246",
         "nbinsx": 50,
         "orientation": "v",
         "showlegend": true,
         "type": "histogram",
         "x": {
          "bdata": "5XAC7xl5Y0A=",
          "dtype": "f8"
         },
         "xaxis": "x",
         "yaxis": "y"
        },
        {
         "bingroup": "x",
         "hovertemplate": "Battery Size (kWh)=100.56515006953762<br>Distance Driven (km)=%{x}<br>count=%{y}<extra></extra>",
         "legendgroup": "100.56515006953762",
         "marker": {
          "color": "#00cc96",
          "pattern": {
           "shape": ""
          }
         },
         "name": "100.56515006953762",
         "nbinsx": 50,
         "orientation": "v",
         "showlegend": true,
         "type": "histogram",
         "x": {
          "bdata": "67WdFIFdYkA=",
          "dtype": "f8"
         },
         "xaxis": "x",
         "yaxis": "y"
        },
        {
         "bingroup": "x",
         "hovertemplate": "Battery Size (kWh)=48.35371606217463<br>Distance Driven (km)=%{x}<br>count=%{y}<extra></extra>",
         "legendgroup": "48.35371606217463",
         "marker": {
          "color": "#ab63fa",
          "pattern": {
           "shape": ""
          }
         },
         "name": "48.35371606217463",
         "nbinsx": 50,
         "orientation": "v",
         "showlegend": true,
         "type": "histogram",
         "x": {
          "bdata": "NsraqZ+QZUA=",
          "dtype": "f8"
         },
         "xaxis": "x",
         "yaxis": "y"
        },
        {
         "bingroup": "x",
         "hovertemplate": "Battery Size (kWh)=86.71809381532775<br>Distance Driven (km)=%{x}<br>count=%{y}<extra></extra>",
         "legendgroup": "86.71809381532775",
         "marker": {
          "color": "#FFA15A",
          "pattern": {
           "shape": ""
          }
         },
         "name": "86.71809381532775",
         "nbinsx": 50,
         "orientation": "v",
         "showlegend": true,
         "type": "histogram",
         "x": {
          "bdata": "m8ew8d/6VEA=",
          "dtype": "f8"
         },
         "xaxis": "x",
         "yaxis": "y"
        },
        {
         "bingroup": "x",
         "hovertemplate": "Battery Size (kWh)=61.95336635157009<br>Distance Driven (km)=%{x}<br>count=%{y}<extra></extra>",
         "legendgroup": "61.95336635157009",
         "marker": {
          "color": "#19d3f3",
          "pattern": {
           "shape": ""
          }
         },
         "name": "61.95336635157009",
         "nbinsx": 50,
         "orientation": "v",
         "showlegend": true,
         "type": "histogram",
         "x": {
          "bdata": "j/76pg/mcUA=",
          "dtype": "f8"
         },
         "xaxis": "x",
         "yaxis": "y"
        },
        {
         "bingroup": "x",
         "hovertemplate": "Battery Size (kWh)=86.16648846991009<br>Distance Driven (km)=%{x}<br>count=%{y}<extra></extra>",
         "legendgroup": "86.16648846991009",
         "marker": {
          "color": "#FF6692",
          "pattern": {
           "shape": ""
          }
         },
         "name": "86.16648846991009",
         "nbinsx": 50,
         "orientation": "v",
         "showlegend": true,
         "type": "histogram",
         "x": {
          "bdata": "7kB6cwr3a0A=",
          "dtype": "f8"
         },
         "xaxis": "x",
         "yaxis": "y"
        },
        {
         "bingroup": "x",
         "hovertemplate": "Battery Size (kWh)=64.92538262404466<br>Distance Driven (km)=%{x}<br>count=%{y}<extra></extra>",
         "legendgroup": "64.92538262404466",
         "marker": {
          "color": "#B6E880",
          "pattern": {
           "shape": ""
          }
         },
         "name": "64.92538262404466",
         "nbinsx": 50,
         "orientation": "v",
         "showlegend": true,
         "type": "histogram",
         "x": {
          "bdata": "Kwn7BjeqO0A=",
          "dtype": "f8"
         },
         "xaxis": "x",
         "yaxis": "y"
        },
        {
         "bingroup": "x",
         "hovertemplate": "Battery Size (kWh)=54.03223627344708<br>Distance Driven (km)=%{x}<br>count=%{y}<extra></extra>",
         "legendgroup": "54.03223627344708",
         "marker": {
          "color": "#FF97FF",
          "pattern": {
           "shape": ""
          }
         },
         "name": "54.03223627344708",
         "nbinsx": 50,
         "orientation": "v",
         "showlegend": true,
         "type": "histogram",
         "x": {
          "bdata": "xIo6apDuUkA=",
          "dtype": "f8"
         },
         "xaxis": "x",
         "yaxis": "y"
        },
        {
         "bingroup": "x",
         "hovertemplate": "Battery Size (kWh)=78.51107776012078<br>Distance Driven (km)=%{x}<br>count=%{y}<extra></extra>",
         "legendgroup": "78.51107776012078",
         "marker": {
          "color": "#FECB52",
          "pattern": {
           "shape": ""
          }
         },
         "name": "78.51107776012078",
         "nbinsx": 50,
         "orientation": "v",
         "showlegend": true,
         "type": "histogram",
         "x": {
          "bdata": "9rwtx/4IW0A=",
          "dtype": "f8"
         },
         "xaxis": "x",
         "yaxis": "y"
        },
        {
         "bingroup": "x",
         "hovertemplate": "Battery Size (kWh)=63.99054362851797<br>Distance Driven (km)=%{x}<br>count=%{y}<extra></extra>",
         "legendgroup": "63.99054362851797",
         "marker": {
          "color": "#636efa",
          "pattern": {
           "shape": ""
          }
         },
         "name": "63.99054362851797",
         "nbinsx": 50,
         "orientation": "v",
         "showlegend": true,
         "type": "histogram",
         "x": {
          "bdata": "Mgjfme1haUA=",
          "dtype": "f8"
         },
         "xaxis": "x",
         "yaxis": "y"
        },
        {
         "bingroup": "x",
         "hovertemplate": "Battery Size (kWh)=80.2450010114166<br>Distance Driven (km)=%{x}<br>count=%{y}<extra></extra>",
         "legendgroup": "80.2450010114166",
         "marker": {
          "color": "#EF553B",
          "pattern": {
           "shape": ""
          }
         },
         "name": "80.2450010114166",
         "nbinsx": 50,
         "orientation": "v",
         "showlegend": true,
         "type": "histogram",
         "x": {
          "bdata": "BoOZuf7SaEA=",
          "dtype": "f8"
         },
         "xaxis": "x",
         "yaxis": "y"
        },
        {
         "bingroup": "x",
         "hovertemplate": "Battery Size (kWh)=60.8031640159348<br>Distance Driven (km)=%{x}<br>count=%{y}<extra></extra>",
         "legendgroup": "60.8031640159348",
         "marker": {
          "color": "#00cc96",
          "pattern": {
           "shape": ""
          }
         },
         "name": "60.8031640159348",
         "nbinsx": 50,
         "orientation": "v",
         "showlegend": true,
         "type": "histogram",
         "x": {
          "bdata": "2JUtLLgVU0A=",
          "dtype": "f8"
         },
         "xaxis": "x",
         "yaxis": "y"
        },
        {
         "bingroup": "x",
         "hovertemplate": "Battery Size (kWh)=81.06203028867286<br>Distance Driven (km)=%{x}<br>count=%{y}<extra></extra>",
         "legendgroup": "81.06203028867286",
         "marker": {
          "color": "#ab63fa",
          "pattern": {
           "shape": ""
          }
         },
         "name": "81.06203028867286",
         "nbinsx": 50,
         "orientation": "v",
         "showlegend": true,
         "type": "histogram",
         "x": {
          "bdata": "boY+LGmDJkA=",
          "dtype": "f8"
         },
         "xaxis": "x",
         "yaxis": "y"
        },
        {
         "bingroup": "x",
         "hovertemplate": "Battery Size (kWh)=46.17287250391787<br>Distance Driven (km)=%{x}<br>count=%{y}<extra></extra>",
         "legendgroup": "46.17287250391787",
         "marker": {
          "color": "#FFA15A",
          "pattern": {
           "shape": ""
          }
         },
         "name": "46.17287250391787",
         "nbinsx": 50,
         "orientation": "v",
         "showlegend": true,
         "type": "histogram",
         "x": {
          "bdata": "IigpNGCpZUA=",
          "dtype": "f8"
         },
         "xaxis": "x",
         "yaxis": "y"
        },
        {
         "bingroup": "x",
         "hovertemplate": "Battery Size (kWh)=129.35061620415664<br>Distance Driven (km)=%{x}<br>count=%{y}<extra></extra>",
         "legendgroup": "129.35061620415664",
         "marker": {
          "color": "#19d3f3",
          "pattern": {
           "shape": ""
          }
         },
         "name": "129.35061620415664",
         "nbinsx": 50,
         "orientation": "v",
         "showlegend": true,
         "type": "histogram",
         "x": {
          "bdata": "TCvwINZ4cUA=",
          "dtype": "f8"
         },
         "xaxis": "x",
         "yaxis": "y"
        },
        {
         "bingroup": "x",
         "hovertemplate": "Battery Size (kWh)=120.44719519636556<br>Distance Driven (km)=%{x}<br>count=%{y}<extra></extra>",
         "legendgroup": "120.44719519636556",
         "marker": {
          "color": "#FF6692",
          "pattern": {
           "shape": ""
          }
         },
         "name": "120.44719519636556",
         "nbinsx": 50,
         "orientation": "v",
         "showlegend": true,
         "type": "histogram",
         "x": {
          "bdata": "ddccMwLmLEA=",
          "dtype": "f8"
         },
         "xaxis": "x",
         "yaxis": "y"
        }
       ],
       "layout": {
        "barmode": "relative",
        "legend": {
         "title": {
          "text": "Battery Size (kWh)"
         },
         "tracegroupgap": 0
        },
        "template": {
         "data": {
          "bar": [
           {
            "error_x": {
             "color": "#f2f5fa"
            },
            "error_y": {
             "color": "#f2f5fa"
            },
            "marker": {
             "line": {
              "color": "rgb(17,17,17)",
              "width": 0.5
             },
             "pattern": {
              "fillmode": "overlay",
              "size": 10,
              "solidity": 0.2
             }
            },
            "type": "bar"
           }
          ],
          "barpolar": [
           {
            "marker": {
             "line": {
              "color": "rgb(17,17,17)",
              "width": 0.5
             },
             "pattern": {
              "fillmode": "overlay",
              "size": 10,
              "solidity": 0.2
             }
            },
            "type": "barpolar"
           }
          ],
          "carpet": [
           {
            "aaxis": {
             "endlinecolor": "#A2B1C6",
             "gridcolor": "#506784",
             "linecolor": "#506784",
             "minorgridcolor": "#506784",
             "startlinecolor": "#A2B1C6"
            },
            "baxis": {
             "endlinecolor": "#A2B1C6",
             "gridcolor": "#506784",
             "linecolor": "#506784",
             "minorgridcolor": "#506784",
             "startlinecolor": "#A2B1C6"
            },
            "type": "carpet"
           }
          ],
          "choropleth": [
           {
            "colorbar": {
             "outlinewidth": 0,
             "ticks": ""
            },
            "type": "choropleth"
           }
          ],
          "contour": [
           {
            "colorbar": {
             "outlinewidth": 0,
             "ticks": ""
            },
            "colorscale": [
             [
              0,
              "#0d0887"
             ],
             [
              0.1111111111111111,
              "#46039f"
             ],
             [
              0.2222222222222222,
              "#7201a8"
             ],
             [
              0.3333333333333333,
              "#9c179e"
             ],
             [
              0.4444444444444444,
              "#bd3786"
             ],
             [
              0.5555555555555556,
              "#d8576b"
             ],
             [
              0.6666666666666666,
              "#ed7953"
             ],
             [
              0.7777777777777778,
              "#fb9f3a"
             ],
             [
              0.8888888888888888,
              "#fdca26"
             ],
             [
              1,
              "#f0f921"
             ]
            ],
            "type": "contour"
           }
          ],
          "contourcarpet": [
           {
            "colorbar": {
             "outlinewidth": 0,
             "ticks": ""
            },
            "type": "contourcarpet"
           }
          ],
          "heatmap": [
           {
            "colorbar": {
             "outlinewidth": 0,
             "ticks": ""
            },
            "colorscale": [
             [
              0,
              "#0d0887"
             ],
             [
              0.1111111111111111,
              "#46039f"
             ],
             [
              0.2222222222222222,
              "#7201a8"
             ],
             [
              0.3333333333333333,
              "#9c179e"
             ],
             [
              0.4444444444444444,
              "#bd3786"
             ],
             [
              0.5555555555555556,
              "#d8576b"
             ],
             [
              0.6666666666666666,
              "#ed7953"
             ],
             [
              0.7777777777777778,
              "#fb9f3a"
             ],
             [
              0.8888888888888888,
              "#fdca26"
             ],
             [
              1,
              "#f0f921"
             ]
            ],
            "type": "heatmap"
           }
          ],
          "histogram": [
           {
            "marker": {
             "pattern": {
              "fillmode": "overlay",
              "size": 10,
              "solidity": 0.2
             }
            },
            "type": "histogram"
           }
          ],
          "histogram2d": [
           {
            "colorbar": {
             "outlinewidth": 0,
             "ticks": ""
            },
            "colorscale": [
             [
              0,
              "#0d0887"
             ],
             [
              0.1111111111111111,
              "#46039f"
             ],
             [
              0.2222222222222222,
              "#7201a8"
             ],
             [
              0.3333333333333333,
              "#9c179e"
             ],
             [
              0.4444444444444444,
              "#bd3786"
             ],
             [
              0.5555555555555556,
              "#d8576b"
             ],
             [
              0.6666666666666666,
              "#ed7953"
             ],
             [
              0.7777777777777778,
              "#fb9f3a"
             ],
             [
              0.8888888888888888,
              "#fdca26"
             ],
             [
              1,
              "#f0f921"
             ]
            ],
            "type": "histogram2d"
           }
          ],
          "histogram2dcontour": [
           {
            "colorbar": {
             "outlinewidth": 0,
             "ticks": ""
            },
            "colorscale": [
             [
              0,
              "#0d0887"
             ],
             [
              0.1111111111111111,
              "#46039f"
             ],
             [
              0.2222222222222222,
              "#7201a8"
             ],
             [
              0.3333333333333333,
              "#9c179e"
             ],
             [
              0.4444444444444444,
              "#bd3786"
             ],
             [
              0.5555555555555556,
              "#d8576b"
             ],
             [
              0.6666666666666666,
              "#ed7953"
             ],
             [
              0.7777777777777778,
              "#fb9f3a"
             ],
             [
              0.8888888888888888,
              "#fdca26"
             ],
             [
              1,
              "#f0f921"
             ]
            ],
            "type": "histogram2dcontour"
           }
          ],
          "mesh3d": [
           {
            "colorbar": {
             "outlinewidth": 0,
             "ticks": ""
            },
            "type": "mesh3d"
           }
          ],
          "parcoords": [
           {
            "line": {
             "colorbar": {
              "outlinewidth": 0,
              "ticks": ""
             }
            },
            "type": "parcoords"
           }
          ],
          "pie": [
           {
            "automargin": true,
            "type": "pie"
           }
          ],
          "scatter": [
           {
            "marker": {
             "line": {
              "color": "#283442"
             }
            },
            "type": "scatter"
           }
          ],
          "scatter3d": [
           {
            "line": {
             "colorbar": {
              "outlinewidth": 0,
              "ticks": ""
             }
            },
            "marker": {
             "colorbar": {
              "outlinewidth": 0,
              "ticks": ""
             }
            },
            "type": "scatter3d"
           }
          ],
          "scattercarpet": [
           {
            "marker": {
             "colorbar": {
              "outlinewidth": 0,
              "ticks": ""
             }
            },
            "type": "scattercarpet"
           }
          ],
          "scattergeo": [
           {
            "marker": {
             "colorbar": {
              "outlinewidth": 0,
              "ticks": ""
             }
            },
            "type": "scattergeo"
           }
          ],
          "scattergl": [
           {
            "marker": {
             "line": {
              "color": "#283442"
             }
            },
            "type": "scattergl"
           }
          ],
          "scattermap": [
           {
            "marker": {
             "colorbar": {
              "outlinewidth": 0,
              "ticks": ""
             }
            },
            "type": "scattermap"
           }
          ],
          "scattermapbox": [
           {
            "marker": {
             "colorbar": {
              "outlinewidth": 0,
              "ticks": ""
             }
            },
            "type": "scattermapbox"
           }
          ],
          "scatterpolar": [
           {
            "marker": {
             "colorbar": {
              "outlinewidth": 0,
              "ticks": ""
             }
            },
            "type": "scatterpolar"
           }
          ],
          "scatterpolargl": [
           {
            "marker": {
             "colorbar": {
              "outlinewidth": 0,
              "ticks": ""
             }
            },
            "type": "scatterpolargl"
           }
          ],
          "scatterternary": [
           {
            "marker": {
             "colorbar": {
              "outlinewidth": 0,
              "ticks": ""
             }
            },
            "type": "scatterternary"
           }
          ],
          "surface": [
           {
            "colorbar": {
             "outlinewidth": 0,
             "ticks": ""
            },
            "colorscale": [
             [
              0,
              "#0d0887"
             ],
             [
              0.1111111111111111,
              "#46039f"
             ],
             [
              0.2222222222222222,
              "#7201a8"
             ],
             [
              0.3333333333333333,
              "#9c179e"
             ],
             [
              0.4444444444444444,
              "#bd3786"
             ],
             [
              0.5555555555555556,
              "#d8576b"
             ],
             [
              0.6666666666666666,
              "#ed7953"
             ],
             [
              0.7777777777777778,
              "#fb9f3a"
             ],
             [
              0.8888888888888888,
              "#fdca26"
             ],
             [
              1,
              "#f0f921"
             ]
            ],
            "type": "surface"
           }
          ],
          "table": [
           {
            "cells": {
             "fill": {
              "color": "#506784"
             },
             "line": {
              "color": "rgb(17,17,17)"
             }
            },
            "header": {
             "fill": {
              "color": "#2a3f5f"
             },
             "line": {
              "color": "rgb(17,17,17)"
             }
            },
            "type": "table"
           }
          ]
         },
         "layout": {
          "annotationdefaults": {
           "arrowcolor": "#f2f5fa",
           "arrowhead": 0,
           "arrowwidth": 1
          },
          "autotypenumbers": "strict",
          "coloraxis": {
           "colorbar": {
            "outlinewidth": 0,
            "ticks": ""
           }
          },
          "colorscale": {
           "diverging": [
            [
             0,
             "#8e0152"
            ],
            [
             0.1,
             "#c51b7d"
            ],
            [
             0.2,
             "#de77ae"
            ],
            [
             0.3,
             "#f1b6da"
            ],
            [
             0.4,
             "#fde0ef"
            ],
            [
             0.5,
             "#f7f7f7"
            ],
            [
             0.6,
             "#e6f5d0"
            ],
            [
             0.7,
             "#b8e186"
            ],
            [
             0.8,
             "#7fbc41"
            ],
            [
             0.9,
             "#4d9221"
            ],
            [
             1,
             "#276419"
            ]
           ],
           "sequential": [
            [
             0,
             "#0d0887"
            ],
            [
             0.1111111111111111,
             "#46039f"
            ],
            [
             0.2222222222222222,
             "#7201a8"
            ],
            [
             0.3333333333333333,
             "#9c179e"
            ],
            [
             0.4444444444444444,
             "#bd3786"
            ],
            [
             0.5555555555555556,
             "#d8576b"
            ],
            [
             0.6666666666666666,
             "#ed7953"
            ],
            [
             0.7777777777777778,
             "#fb9f3a"
            ],
            [
             0.8888888888888888,
             "#fdca26"
            ],
            [
             1,
             "#f0f921"
            ]
           ],
           "sequentialminus": [
            [
             0,
             "#0d0887"
            ],
            [
             0.1111111111111111,
             "#46039f"
            ],
            [
             0.2222222222222222,
             "#7201a8"
            ],
            [
             0.3333333333333333,
             "#9c179e"
            ],
            [
             0.4444444444444444,
             "#bd3786"
            ],
            [
             0.5555555555555556,
             "#d8576b"
            ],
            [
             0.6666666666666666,
             "#ed7953"
            ],
            [
             0.7777777777777778,
             "#fb9f3a"
            ],
            [
             0.8888888888888888,
             "#fdca26"
            ],
            [
             1,
             "#f0f921"
            ]
           ]
          },
          "colorway": [
           "#636efa",
           "#EF553B",
           "#00cc96",
           "#ab63fa",
           "#FFA15A",
           "#19d3f3",
           "#FF6692",
           "#B6E880",
           "#FF97FF",
           "#FECB52"
          ],
          "font": {
           "color": "#f2f5fa"
          },
          "geo": {
           "bgcolor": "rgb(17,17,17)",
           "lakecolor": "rgb(17,17,17)",
           "landcolor": "rgb(17,17,17)",
           "showlakes": true,
           "showland": true,
           "subunitcolor": "#506784"
          },
          "hoverlabel": {
           "align": "left"
          },
          "hovermode": "closest",
          "mapbox": {
           "style": "dark"
          },
          "paper_bgcolor": "rgb(17,17,17)",
          "plot_bgcolor": "rgb(17,17,17)",
          "polar": {
           "angularaxis": {
            "gridcolor": "#506784",
            "linecolor": "#506784",
            "ticks": ""
           },
           "bgcolor": "rgb(17,17,17)",
           "radialaxis": {
            "gridcolor": "#506784",
            "linecolor": "#506784",
            "ticks": ""
           }
          },
          "scene": {
           "xaxis": {
            "backgroundcolor": "rgb(17,17,17)",
            "gridcolor": "#506784",
            "gridwidth": 2,
            "linecolor": "#506784",
            "showbackground": true,
            "ticks": "",
            "zerolinecolor": "#C8D4E3"
           },
           "yaxis": {
            "backgroundcolor": "rgb(17,17,17)",
            "gridcolor": "#506784",
            "gridwidth": 2,
            "linecolor": "#506784",
            "showbackground": true,
            "ticks": "",
            "zerolinecolor": "#C8D4E3"
           },
           "zaxis": {
            "backgroundcolor": "rgb(17,17,17)",
            "gridcolor": "#506784",
            "gridwidth": 2,
            "linecolor": "#506784",
            "showbackground": true,
            "ticks": "",
            "zerolinecolor": "#C8D4E3"
           }
          },
          "shapedefaults": {
           "line": {
            "color": "#f2f5fa"
           }
          },
          "sliderdefaults": {
           "bgcolor": "#C8D4E3",
           "bordercolor": "rgb(17,17,17)",
           "borderwidth": 1,
           "tickwidth": 0
          },
          "ternary": {
           "aaxis": {
            "gridcolor": "#506784",
            "linecolor": "#506784",
            "ticks": ""
           },
           "baxis": {
            "gridcolor": "#506784",
            "linecolor": "#506784",
            "ticks": ""
           },
           "bgcolor": "rgb(17,17,17)",
           "caxis": {
            "gridcolor": "#506784",
            "linecolor": "#506784",
            "ticks": ""
           }
          },
          "title": {
           "x": 0.05
          },
          "updatemenudefaults": {
           "bgcolor": "#506784",
           "borderwidth": 0
          },
          "xaxis": {
           "automargin": true,
           "gridcolor": "#283442",
           "linecolor": "#506784",
           "ticks": "",
           "title": {
            "standoff": 15
           },
           "zerolinecolor": "#283442",
           "zerolinewidth": 2
          },
          "yaxis": {
           "automargin": true,
           "gridcolor": "#283442",
           "linecolor": "#506784",
           "ticks": "",
           "title": {
            "standoff": 15
           },
           "zerolinecolor": "#283442",
           "zerolinewidth": 2
          }
         }
        },
        "title": {
         "text": "Histogram: Distance Driven vs. Battery Size"
        },
        "xaxis": {
         "anchor": "y",
         "domain": [
          0,
          1
         ],
         "title": {
          "text": "Distance Driven (km)"
         }
        },
        "yaxis": {
         "anchor": "x",
         "domain": [
          0,
          1
         ],
         "title": {
          "text": "count"
         }
        }
       }
      }
     },
     "metadata": {},
     "output_type": "display_data"
    }
   ],
   "source": [
    "fig_histogram = px.histogram(df, x='Distance Driven (since last charge) (km)', color='Battery Capacity (kWh)',\n",
    "                             title='Histogram: Distance Driven vs. Battery Size',\n",
    "                             labels={'Distance Driven (since last charge) (km)': 'Distance Driven (km)', \n",
    "                                     'Battery Capacity (kWh)': 'Battery Size (kWh)'},template='plotly_dark',\n",
    "                             nbins=50)\n",
    "fig_histogram.show()"
   ]
  }
 ],
 "metadata": {
  "kernelspec": {
   "display_name": "base",
   "language": "python",
   "name": "python3"
  },
  "language_info": {
   "codemirror_mode": {
    "name": "ipython",
    "version": 3
   },
   "file_extension": ".py",
   "mimetype": "text/x-python",
   "name": "python",
   "nbconvert_exporter": "python",
   "pygments_lexer": "ipython3",
   "version": "3.12.9"
  }
 },
 "nbformat": 4,
 "nbformat_minor": 5
}
