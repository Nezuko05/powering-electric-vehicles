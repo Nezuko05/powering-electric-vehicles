{
 "cells": [
  {
   "cell_type": "code",
   "execution_count": 9,
   "id": "e54f6412",
   "metadata": {},
   "outputs": [],
   "source": [
    "import pandas as pd\n",
    "import seaborn as sns \n",
    "import matplotlib.pyplot as plt\n",
    "import plotly.express as px"
   ]
  },
  {
   "cell_type": "code",
   "execution_count": 12,
   "id": "e43d090a",
   "metadata": {},
   "outputs": [
    {
     "ename": "FileNotFoundError",
     "evalue": "[Errno 2] No such file or directory: 'C:\\\\Users\\\\DELL\\\\Desktop\\\\python\\\\EV\\\\ev_charging_patterns dataset.csv'",
     "output_type": "error",
     "traceback": [
      "\u001b[1;31m---------------------------------------------------------------------------\u001b[0m",
      "\u001b[1;31mFileNotFoundError\u001b[0m                         Traceback (most recent call last)",
      "Cell \u001b[1;32mIn[12], line 1\u001b[0m\n\u001b[1;32m----> 1\u001b[0m df \u001b[38;5;241m=\u001b[39m \u001b[43mpd\u001b[49m\u001b[38;5;241;43m.\u001b[39;49m\u001b[43mread_csv\u001b[49m\u001b[43m(\u001b[49m\u001b[38;5;124;43mr\u001b[39;49m\u001b[38;5;124;43m\"\u001b[39;49m\u001b[38;5;124;43mC:\u001b[39;49m\u001b[38;5;124;43m\\\u001b[39;49m\u001b[38;5;124;43mUsers\u001b[39;49m\u001b[38;5;124;43m\\\u001b[39;49m\u001b[38;5;124;43mDELL\u001b[39;49m\u001b[38;5;124;43m\\\u001b[39;49m\u001b[38;5;124;43mDesktop\u001b[39;49m\u001b[38;5;124;43m\\\u001b[39;49m\u001b[38;5;124;43mpython\u001b[39;49m\u001b[38;5;124;43m\\\u001b[39;49m\u001b[38;5;124;43mEV\u001b[39;49m\u001b[38;5;124;43m\\\u001b[39;49m\u001b[38;5;124;43mev_charging_patterns dataset.csv\u001b[39;49m\u001b[38;5;124;43m\"\u001b[39;49m\u001b[43m)\u001b[49m\n\u001b[0;32m      2\u001b[0m df\n",
      "File \u001b[1;32mc:\\Users\\DELL\\miniconda3\\Lib\\site-packages\\pandas\\io\\parsers\\readers.py:1026\u001b[0m, in \u001b[0;36mread_csv\u001b[1;34m(filepath_or_buffer, sep, delimiter, header, names, index_col, usecols, dtype, engine, converters, true_values, false_values, skipinitialspace, skiprows, skipfooter, nrows, na_values, keep_default_na, na_filter, verbose, skip_blank_lines, parse_dates, infer_datetime_format, keep_date_col, date_parser, date_format, dayfirst, cache_dates, iterator, chunksize, compression, thousands, decimal, lineterminator, quotechar, quoting, doublequote, escapechar, comment, encoding, encoding_errors, dialect, on_bad_lines, delim_whitespace, low_memory, memory_map, float_precision, storage_options, dtype_backend)\u001b[0m\n\u001b[0;32m   1013\u001b[0m kwds_defaults \u001b[38;5;241m=\u001b[39m _refine_defaults_read(\n\u001b[0;32m   1014\u001b[0m     dialect,\n\u001b[0;32m   1015\u001b[0m     delimiter,\n\u001b[1;32m   (...)\u001b[0m\n\u001b[0;32m   1022\u001b[0m     dtype_backend\u001b[38;5;241m=\u001b[39mdtype_backend,\n\u001b[0;32m   1023\u001b[0m )\n\u001b[0;32m   1024\u001b[0m kwds\u001b[38;5;241m.\u001b[39mupdate(kwds_defaults)\n\u001b[1;32m-> 1026\u001b[0m \u001b[38;5;28;01mreturn\u001b[39;00m \u001b[43m_read\u001b[49m\u001b[43m(\u001b[49m\u001b[43mfilepath_or_buffer\u001b[49m\u001b[43m,\u001b[49m\u001b[43m \u001b[49m\u001b[43mkwds\u001b[49m\u001b[43m)\u001b[49m\n",
      "File \u001b[1;32mc:\\Users\\DELL\\miniconda3\\Lib\\site-packages\\pandas\\io\\parsers\\readers.py:620\u001b[0m, in \u001b[0;36m_read\u001b[1;34m(filepath_or_buffer, kwds)\u001b[0m\n\u001b[0;32m    617\u001b[0m _validate_names(kwds\u001b[38;5;241m.\u001b[39mget(\u001b[38;5;124m\"\u001b[39m\u001b[38;5;124mnames\u001b[39m\u001b[38;5;124m\"\u001b[39m, \u001b[38;5;28;01mNone\u001b[39;00m))\n\u001b[0;32m    619\u001b[0m \u001b[38;5;66;03m# Create the parser.\u001b[39;00m\n\u001b[1;32m--> 620\u001b[0m parser \u001b[38;5;241m=\u001b[39m \u001b[43mTextFileReader\u001b[49m\u001b[43m(\u001b[49m\u001b[43mfilepath_or_buffer\u001b[49m\u001b[43m,\u001b[49m\u001b[43m \u001b[49m\u001b[38;5;241;43m*\u001b[39;49m\u001b[38;5;241;43m*\u001b[39;49m\u001b[43mkwds\u001b[49m\u001b[43m)\u001b[49m\n\u001b[0;32m    622\u001b[0m \u001b[38;5;28;01mif\u001b[39;00m chunksize \u001b[38;5;129;01mor\u001b[39;00m iterator:\n\u001b[0;32m    623\u001b[0m     \u001b[38;5;28;01mreturn\u001b[39;00m parser\n",
      "File \u001b[1;32mc:\\Users\\DELL\\miniconda3\\Lib\\site-packages\\pandas\\io\\parsers\\readers.py:1620\u001b[0m, in \u001b[0;36mTextFileReader.__init__\u001b[1;34m(self, f, engine, **kwds)\u001b[0m\n\u001b[0;32m   1617\u001b[0m     \u001b[38;5;28mself\u001b[39m\u001b[38;5;241m.\u001b[39moptions[\u001b[38;5;124m\"\u001b[39m\u001b[38;5;124mhas_index_names\u001b[39m\u001b[38;5;124m\"\u001b[39m] \u001b[38;5;241m=\u001b[39m kwds[\u001b[38;5;124m\"\u001b[39m\u001b[38;5;124mhas_index_names\u001b[39m\u001b[38;5;124m\"\u001b[39m]\n\u001b[0;32m   1619\u001b[0m \u001b[38;5;28mself\u001b[39m\u001b[38;5;241m.\u001b[39mhandles: IOHandles \u001b[38;5;241m|\u001b[39m \u001b[38;5;28;01mNone\u001b[39;00m \u001b[38;5;241m=\u001b[39m \u001b[38;5;28;01mNone\u001b[39;00m\n\u001b[1;32m-> 1620\u001b[0m \u001b[38;5;28mself\u001b[39m\u001b[38;5;241m.\u001b[39m_engine \u001b[38;5;241m=\u001b[39m \u001b[38;5;28;43mself\u001b[39;49m\u001b[38;5;241;43m.\u001b[39;49m\u001b[43m_make_engine\u001b[49m\u001b[43m(\u001b[49m\u001b[43mf\u001b[49m\u001b[43m,\u001b[49m\u001b[43m \u001b[49m\u001b[38;5;28;43mself\u001b[39;49m\u001b[38;5;241;43m.\u001b[39;49m\u001b[43mengine\u001b[49m\u001b[43m)\u001b[49m\n",
      "File \u001b[1;32mc:\\Users\\DELL\\miniconda3\\Lib\\site-packages\\pandas\\io\\parsers\\readers.py:1880\u001b[0m, in \u001b[0;36mTextFileReader._make_engine\u001b[1;34m(self, f, engine)\u001b[0m\n\u001b[0;32m   1878\u001b[0m     \u001b[38;5;28;01mif\u001b[39;00m \u001b[38;5;124m\"\u001b[39m\u001b[38;5;124mb\u001b[39m\u001b[38;5;124m\"\u001b[39m \u001b[38;5;129;01mnot\u001b[39;00m \u001b[38;5;129;01min\u001b[39;00m mode:\n\u001b[0;32m   1879\u001b[0m         mode \u001b[38;5;241m+\u001b[39m\u001b[38;5;241m=\u001b[39m \u001b[38;5;124m\"\u001b[39m\u001b[38;5;124mb\u001b[39m\u001b[38;5;124m\"\u001b[39m\n\u001b[1;32m-> 1880\u001b[0m \u001b[38;5;28mself\u001b[39m\u001b[38;5;241m.\u001b[39mhandles \u001b[38;5;241m=\u001b[39m \u001b[43mget_handle\u001b[49m\u001b[43m(\u001b[49m\n\u001b[0;32m   1881\u001b[0m \u001b[43m    \u001b[49m\u001b[43mf\u001b[49m\u001b[43m,\u001b[49m\n\u001b[0;32m   1882\u001b[0m \u001b[43m    \u001b[49m\u001b[43mmode\u001b[49m\u001b[43m,\u001b[49m\n\u001b[0;32m   1883\u001b[0m \u001b[43m    \u001b[49m\u001b[43mencoding\u001b[49m\u001b[38;5;241;43m=\u001b[39;49m\u001b[38;5;28;43mself\u001b[39;49m\u001b[38;5;241;43m.\u001b[39;49m\u001b[43moptions\u001b[49m\u001b[38;5;241;43m.\u001b[39;49m\u001b[43mget\u001b[49m\u001b[43m(\u001b[49m\u001b[38;5;124;43m\"\u001b[39;49m\u001b[38;5;124;43mencoding\u001b[39;49m\u001b[38;5;124;43m\"\u001b[39;49m\u001b[43m,\u001b[49m\u001b[43m \u001b[49m\u001b[38;5;28;43;01mNone\u001b[39;49;00m\u001b[43m)\u001b[49m\u001b[43m,\u001b[49m\n\u001b[0;32m   1884\u001b[0m \u001b[43m    \u001b[49m\u001b[43mcompression\u001b[49m\u001b[38;5;241;43m=\u001b[39;49m\u001b[38;5;28;43mself\u001b[39;49m\u001b[38;5;241;43m.\u001b[39;49m\u001b[43moptions\u001b[49m\u001b[38;5;241;43m.\u001b[39;49m\u001b[43mget\u001b[49m\u001b[43m(\u001b[49m\u001b[38;5;124;43m\"\u001b[39;49m\u001b[38;5;124;43mcompression\u001b[39;49m\u001b[38;5;124;43m\"\u001b[39;49m\u001b[43m,\u001b[49m\u001b[43m \u001b[49m\u001b[38;5;28;43;01mNone\u001b[39;49;00m\u001b[43m)\u001b[49m\u001b[43m,\u001b[49m\n\u001b[0;32m   1885\u001b[0m \u001b[43m    \u001b[49m\u001b[43mmemory_map\u001b[49m\u001b[38;5;241;43m=\u001b[39;49m\u001b[38;5;28;43mself\u001b[39;49m\u001b[38;5;241;43m.\u001b[39;49m\u001b[43moptions\u001b[49m\u001b[38;5;241;43m.\u001b[39;49m\u001b[43mget\u001b[49m\u001b[43m(\u001b[49m\u001b[38;5;124;43m\"\u001b[39;49m\u001b[38;5;124;43mmemory_map\u001b[39;49m\u001b[38;5;124;43m\"\u001b[39;49m\u001b[43m,\u001b[49m\u001b[43m \u001b[49m\u001b[38;5;28;43;01mFalse\u001b[39;49;00m\u001b[43m)\u001b[49m\u001b[43m,\u001b[49m\n\u001b[0;32m   1886\u001b[0m \u001b[43m    \u001b[49m\u001b[43mis_text\u001b[49m\u001b[38;5;241;43m=\u001b[39;49m\u001b[43mis_text\u001b[49m\u001b[43m,\u001b[49m\n\u001b[0;32m   1887\u001b[0m \u001b[43m    \u001b[49m\u001b[43merrors\u001b[49m\u001b[38;5;241;43m=\u001b[39;49m\u001b[38;5;28;43mself\u001b[39;49m\u001b[38;5;241;43m.\u001b[39;49m\u001b[43moptions\u001b[49m\u001b[38;5;241;43m.\u001b[39;49m\u001b[43mget\u001b[49m\u001b[43m(\u001b[49m\u001b[38;5;124;43m\"\u001b[39;49m\u001b[38;5;124;43mencoding_errors\u001b[39;49m\u001b[38;5;124;43m\"\u001b[39;49m\u001b[43m,\u001b[49m\u001b[43m \u001b[49m\u001b[38;5;124;43m\"\u001b[39;49m\u001b[38;5;124;43mstrict\u001b[39;49m\u001b[38;5;124;43m\"\u001b[39;49m\u001b[43m)\u001b[49m\u001b[43m,\u001b[49m\n\u001b[0;32m   1888\u001b[0m \u001b[43m    \u001b[49m\u001b[43mstorage_options\u001b[49m\u001b[38;5;241;43m=\u001b[39;49m\u001b[38;5;28;43mself\u001b[39;49m\u001b[38;5;241;43m.\u001b[39;49m\u001b[43moptions\u001b[49m\u001b[38;5;241;43m.\u001b[39;49m\u001b[43mget\u001b[49m\u001b[43m(\u001b[49m\u001b[38;5;124;43m\"\u001b[39;49m\u001b[38;5;124;43mstorage_options\u001b[39;49m\u001b[38;5;124;43m\"\u001b[39;49m\u001b[43m,\u001b[49m\u001b[43m \u001b[49m\u001b[38;5;28;43;01mNone\u001b[39;49;00m\u001b[43m)\u001b[49m\u001b[43m,\u001b[49m\n\u001b[0;32m   1889\u001b[0m \u001b[43m\u001b[49m\u001b[43m)\u001b[49m\n\u001b[0;32m   1890\u001b[0m \u001b[38;5;28;01massert\u001b[39;00m \u001b[38;5;28mself\u001b[39m\u001b[38;5;241m.\u001b[39mhandles \u001b[38;5;129;01mis\u001b[39;00m \u001b[38;5;129;01mnot\u001b[39;00m \u001b[38;5;28;01mNone\u001b[39;00m\n\u001b[0;32m   1891\u001b[0m f \u001b[38;5;241m=\u001b[39m \u001b[38;5;28mself\u001b[39m\u001b[38;5;241m.\u001b[39mhandles\u001b[38;5;241m.\u001b[39mhandle\n",
      "File \u001b[1;32mc:\\Users\\DELL\\miniconda3\\Lib\\site-packages\\pandas\\io\\common.py:873\u001b[0m, in \u001b[0;36mget_handle\u001b[1;34m(path_or_buf, mode, encoding, compression, memory_map, is_text, errors, storage_options)\u001b[0m\n\u001b[0;32m    868\u001b[0m \u001b[38;5;28;01melif\u001b[39;00m \u001b[38;5;28misinstance\u001b[39m(handle, \u001b[38;5;28mstr\u001b[39m):\n\u001b[0;32m    869\u001b[0m     \u001b[38;5;66;03m# Check whether the filename is to be opened in binary mode.\u001b[39;00m\n\u001b[0;32m    870\u001b[0m     \u001b[38;5;66;03m# Binary mode does not support 'encoding' and 'newline'.\u001b[39;00m\n\u001b[0;32m    871\u001b[0m     \u001b[38;5;28;01mif\u001b[39;00m ioargs\u001b[38;5;241m.\u001b[39mencoding \u001b[38;5;129;01mand\u001b[39;00m \u001b[38;5;124m\"\u001b[39m\u001b[38;5;124mb\u001b[39m\u001b[38;5;124m\"\u001b[39m \u001b[38;5;129;01mnot\u001b[39;00m \u001b[38;5;129;01min\u001b[39;00m ioargs\u001b[38;5;241m.\u001b[39mmode:\n\u001b[0;32m    872\u001b[0m         \u001b[38;5;66;03m# Encoding\u001b[39;00m\n\u001b[1;32m--> 873\u001b[0m         handle \u001b[38;5;241m=\u001b[39m \u001b[38;5;28;43mopen\u001b[39;49m\u001b[43m(\u001b[49m\n\u001b[0;32m    874\u001b[0m \u001b[43m            \u001b[49m\u001b[43mhandle\u001b[49m\u001b[43m,\u001b[49m\n\u001b[0;32m    875\u001b[0m \u001b[43m            \u001b[49m\u001b[43mioargs\u001b[49m\u001b[38;5;241;43m.\u001b[39;49m\u001b[43mmode\u001b[49m\u001b[43m,\u001b[49m\n\u001b[0;32m    876\u001b[0m \u001b[43m            \u001b[49m\u001b[43mencoding\u001b[49m\u001b[38;5;241;43m=\u001b[39;49m\u001b[43mioargs\u001b[49m\u001b[38;5;241;43m.\u001b[39;49m\u001b[43mencoding\u001b[49m\u001b[43m,\u001b[49m\n\u001b[0;32m    877\u001b[0m \u001b[43m            \u001b[49m\u001b[43merrors\u001b[49m\u001b[38;5;241;43m=\u001b[39;49m\u001b[43merrors\u001b[49m\u001b[43m,\u001b[49m\n\u001b[0;32m    878\u001b[0m \u001b[43m            \u001b[49m\u001b[43mnewline\u001b[49m\u001b[38;5;241;43m=\u001b[39;49m\u001b[38;5;124;43m\"\u001b[39;49m\u001b[38;5;124;43m\"\u001b[39;49m\u001b[43m,\u001b[49m\n\u001b[0;32m    879\u001b[0m \u001b[43m        \u001b[49m\u001b[43m)\u001b[49m\n\u001b[0;32m    880\u001b[0m     \u001b[38;5;28;01melse\u001b[39;00m:\n\u001b[0;32m    881\u001b[0m         \u001b[38;5;66;03m# Binary mode\u001b[39;00m\n\u001b[0;32m    882\u001b[0m         handle \u001b[38;5;241m=\u001b[39m \u001b[38;5;28mopen\u001b[39m(handle, ioargs\u001b[38;5;241m.\u001b[39mmode)\n",
      "\u001b[1;31mFileNotFoundError\u001b[0m: [Errno 2] No such file or directory: 'C:\\\\Users\\\\DELL\\\\Desktop\\\\python\\\\EV\\\\ev_charging_patterns dataset.csv'"
     ]
    }
   ],
   "source": [
    "df = pd.read_csv(r\"C:\\Users\\DELL\\Desktop\\python\\EV\\ev_charging_patterns dataset.csv\")\n",
    "df"
   ]
  },
  {
   "cell_type": "code",
   "execution_count": null,
   "id": "89e546b4",
   "metadata": {},
   "outputs": [
    {
     "data": {
      "text/plain": [
       "User ID                                      0\n",
       "Vehicle Model                                0\n",
       "Battery Capacity (kWh)                       0\n",
       "Charging Station ID                          0\n",
       "Charging Station Location                    0\n",
       "Charging Start Time                          0\n",
       "Charging End Time                            0\n",
       "Energy Consumed (kWh)                       66\n",
       "Charging Duration (hours)                    0\n",
       "Charging Rate (kW)                          66\n",
       "Charging Cost (USD)                          0\n",
       "Time of Day                                  0\n",
       "Day of Week                                  0\n",
       "State of Charge (Start %)                    0\n",
       "State of Charge (End %)                      0\n",
       "Distance Driven (since last charge) (km)    66\n",
       "Temperature (°C)                             0\n",
       "Vehicle Age (years)                          0\n",
       "Charger Type                                 0\n",
       "User Type                                    0\n",
       "dtype: int64"
      ]
     },
     "execution_count": 4,
     "metadata": {},
     "output_type": "execute_result"
    }
   ],
   "source": [
    "df.isnull().sum()"
   ]
  },
  {
   "cell_type": "code",
   "execution_count": null,
   "id": "5f02a4b0",
   "metadata": {},
   "outputs": [
    {
     "name": "stdout",
     "output_type": "stream",
     "text": [
      "<class 'pandas.core.frame.DataFrame'>\n",
      "RangeIndex: 1320 entries, 0 to 1319\n",
      "Data columns (total 20 columns):\n",
      " #   Column                                    Non-Null Count  Dtype  \n",
      "---  ------                                    --------------  -----  \n",
      " 0   User ID                                   1320 non-null   object \n",
      " 1   Vehicle Model                             1320 non-null   object \n",
      " 2   Battery Capacity (kWh)                    1320 non-null   float64\n",
      " 3   Charging Station ID                       1320 non-null   object \n",
      " 4   Charging Station Location                 1320 non-null   object \n",
      " 5   Charging Start Time                       1320 non-null   object \n",
      " 6   Charging End Time                         1320 non-null   object \n",
      " 7   Energy Consumed (kWh)                     1254 non-null   float64\n",
      " 8   Charging Duration (hours)                 1320 non-null   float64\n",
      " 9   Charging Rate (kW)                        1254 non-null   float64\n",
      " 10  Charging Cost (USD)                       1320 non-null   float64\n",
      " 11  Time of Day                               1320 non-null   object \n",
      " 12  Day of Week                               1320 non-null   object \n",
      " 13  State of Charge (Start %)                 1320 non-null   float64\n",
      " 14  State of Charge (End %)                   1320 non-null   float64\n",
      " 15  Distance Driven (since last charge) (km)  1254 non-null   float64\n",
      " 16  Temperature (°C)                          1320 non-null   float64\n",
      " 17  Vehicle Age (years)                       1320 non-null   float64\n",
      " 18  Charger Type                              1320 non-null   object \n",
      " 19  User Type                                 1320 non-null   object \n",
      "dtypes: float64(10), object(10)\n",
      "memory usage: 206.4+ KB\n"
     ]
    }
   ],
   "source": [
    "df.info()"
   ]
  },
  {
   "cell_type": "code",
   "execution_count": null,
   "id": "61c463a4",
   "metadata": {},
   "outputs": [
    {
     "name": "stdout",
     "output_type": "stream",
     "text": [
      "43\n"
     ]
    }
   ],
   "source": [
    "avg_Energyconsumed=round(df['Energy Consumed (kWh)'].mean())\n",
    "print(avg_Energyconsumed)\n",
    "\n"
   ]
  },
  {
   "cell_type": "code",
   "execution_count": null,
   "id": "4191332f",
   "metadata": {},
   "outputs": [
    {
     "name": "stderr",
     "output_type": "stream",
     "text": [
      "C:\\Users\\DELL\\AppData\\Local\\Temp\\ipykernel_10672\\3727275266.py:1: FutureWarning: A value is trying to be set on a copy of a DataFrame or Series through chained assignment using an inplace method.\n",
      "The behavior will change in pandas 3.0. This inplace method will never work because the intermediate object on which we are setting values always behaves as a copy.\n",
      "\n",
      "For example, when doing 'df[col].method(value, inplace=True)', try using 'df.method({col: value}, inplace=True)' or df[col] = df[col].method(value) instead, to perform the operation inplace on the original object.\n",
      "\n",
      "\n",
      "  df['Energy Consumed (kWh)'].fillna(avg_Energyconsumed, inplace=True)\n"
     ]
    },
    {
     "data": {
      "text/html": [
       "<div>\n",
       "<style scoped>\n",
       "    .dataframe tbody tr th:only-of-type {\n",
       "        vertical-align: middle;\n",
       "    }\n",
       "\n",
       "    .dataframe tbody tr th {\n",
       "        vertical-align: top;\n",
       "    }\n",
       "\n",
       "    .dataframe thead th {\n",
       "        text-align: right;\n",
       "    }\n",
       "</style>\n",
       "<table border=\"1\" class=\"dataframe\">\n",
       "  <thead>\n",
       "    <tr style=\"text-align: right;\">\n",
       "      <th></th>\n",
       "      <th>User ID</th>\n",
       "      <th>Vehicle Model</th>\n",
       "      <th>Battery Capacity (kWh)</th>\n",
       "      <th>Charging Station ID</th>\n",
       "      <th>Charging Station Location</th>\n",
       "      <th>Charging Start Time</th>\n",
       "      <th>Charging End Time</th>\n",
       "      <th>Energy Consumed (kWh)</th>\n",
       "      <th>Charging Duration (hours)</th>\n",
       "      <th>Charging Rate (kW)</th>\n",
       "      <th>Charging Cost (USD)</th>\n",
       "      <th>Time of Day</th>\n",
       "      <th>Day of Week</th>\n",
       "      <th>State of Charge (Start %)</th>\n",
       "      <th>State of Charge (End %)</th>\n",
       "      <th>Distance Driven (since last charge) (km)</th>\n",
       "      <th>Temperature (°C)</th>\n",
       "      <th>Vehicle Age (years)</th>\n",
       "      <th>Charger Type</th>\n",
       "      <th>User Type</th>\n",
       "    </tr>\n",
       "  </thead>\n",
       "  <tbody>\n",
       "    <tr>\n",
       "      <th>0</th>\n",
       "      <td>User_1</td>\n",
       "      <td>BMW i3</td>\n",
       "      <td>108.463007</td>\n",
       "      <td>Station_391</td>\n",
       "      <td>Houston</td>\n",
       "      <td>2024-01-01 00:00:00</td>\n",
       "      <td>2024-01-01 00:39:00</td>\n",
       "      <td>60.712346</td>\n",
       "      <td>0.591363</td>\n",
       "      <td>36.389181</td>\n",
       "      <td>13.087717</td>\n",
       "      <td>Evening</td>\n",
       "      <td>Tuesday</td>\n",
       "      <td>29.371576</td>\n",
       "      <td>86.119962</td>\n",
       "      <td>293.602111</td>\n",
       "      <td>27.947953</td>\n",
       "      <td>2.000000</td>\n",
       "      <td>DC Fast Charger</td>\n",
       "      <td>Commuter</td>\n",
       "    </tr>\n",
       "    <tr>\n",
       "      <th>1</th>\n",
       "      <td>User_2</td>\n",
       "      <td>Hyundai Kona</td>\n",
       "      <td>100.000000</td>\n",
       "      <td>Station_428</td>\n",
       "      <td>San Francisco</td>\n",
       "      <td>2024-01-01 01:00:00</td>\n",
       "      <td>2024-01-01 03:01:00</td>\n",
       "      <td>12.339275</td>\n",
       "      <td>3.133652</td>\n",
       "      <td>30.677735</td>\n",
       "      <td>21.128448</td>\n",
       "      <td>Morning</td>\n",
       "      <td>Monday</td>\n",
       "      <td>10.115778</td>\n",
       "      <td>84.664344</td>\n",
       "      <td>112.112804</td>\n",
       "      <td>14.311026</td>\n",
       "      <td>3.000000</td>\n",
       "      <td>Level 1</td>\n",
       "      <td>Casual Driver</td>\n",
       "    </tr>\n",
       "    <tr>\n",
       "      <th>2</th>\n",
       "      <td>User_3</td>\n",
       "      <td>Chevy Bolt</td>\n",
       "      <td>75.000000</td>\n",
       "      <td>Station_181</td>\n",
       "      <td>San Francisco</td>\n",
       "      <td>2024-01-01 02:00:00</td>\n",
       "      <td>2024-01-01 04:48:00</td>\n",
       "      <td>19.128876</td>\n",
       "      <td>2.452653</td>\n",
       "      <td>27.513593</td>\n",
       "      <td>35.667270</td>\n",
       "      <td>Morning</td>\n",
       "      <td>Thursday</td>\n",
       "      <td>6.854604</td>\n",
       "      <td>69.917615</td>\n",
       "      <td>71.799253</td>\n",
       "      <td>21.002002</td>\n",
       "      <td>2.000000</td>\n",
       "      <td>Level 2</td>\n",
       "      <td>Commuter</td>\n",
       "    </tr>\n",
       "    <tr>\n",
       "      <th>3</th>\n",
       "      <td>User_4</td>\n",
       "      <td>Hyundai Kona</td>\n",
       "      <td>50.000000</td>\n",
       "      <td>Station_327</td>\n",
       "      <td>Houston</td>\n",
       "      <td>2024-01-01 03:00:00</td>\n",
       "      <td>2024-01-01 06:42:00</td>\n",
       "      <td>79.457824</td>\n",
       "      <td>1.266431</td>\n",
       "      <td>32.882870</td>\n",
       "      <td>13.036239</td>\n",
       "      <td>Evening</td>\n",
       "      <td>Saturday</td>\n",
       "      <td>83.120003</td>\n",
       "      <td>99.624328</td>\n",
       "      <td>199.577785</td>\n",
       "      <td>38.316313</td>\n",
       "      <td>1.000000</td>\n",
       "      <td>Level 1</td>\n",
       "      <td>Long-Distance Traveler</td>\n",
       "    </tr>\n",
       "    <tr>\n",
       "      <th>4</th>\n",
       "      <td>User_5</td>\n",
       "      <td>Hyundai Kona</td>\n",
       "      <td>50.000000</td>\n",
       "      <td>Station_108</td>\n",
       "      <td>Los Angeles</td>\n",
       "      <td>2024-01-01 04:00:00</td>\n",
       "      <td>2024-01-01 05:46:00</td>\n",
       "      <td>19.629104</td>\n",
       "      <td>2.019765</td>\n",
       "      <td>10.215712</td>\n",
       "      <td>10.161471</td>\n",
       "      <td>Morning</td>\n",
       "      <td>Saturday</td>\n",
       "      <td>54.258950</td>\n",
       "      <td>63.743786</td>\n",
       "      <td>203.661847</td>\n",
       "      <td>-7.834199</td>\n",
       "      <td>1.000000</td>\n",
       "      <td>Level 1</td>\n",
       "      <td>Long-Distance Traveler</td>\n",
       "    </tr>\n",
       "    <tr>\n",
       "      <th>5</th>\n",
       "      <td>User_6</td>\n",
       "      <td>Nissan Leaf</td>\n",
       "      <td>50.000000</td>\n",
       "      <td>Station_335</td>\n",
       "      <td>San Francisco</td>\n",
       "      <td>2024-01-01 05:00:00</td>\n",
       "      <td>2024-01-01 07:10:00</td>\n",
       "      <td>43.181137</td>\n",
       "      <td>1.167640</td>\n",
       "      <td>14.334523</td>\n",
       "      <td>36.900341</td>\n",
       "      <td>Evening</td>\n",
       "      <td>Saturday</td>\n",
       "      <td>75.217748</td>\n",
       "      <td>71.982288</td>\n",
       "      <td>143.680046</td>\n",
       "      <td>-5.274218</td>\n",
       "      <td>0.000000</td>\n",
       "      <td>DC Fast Charger</td>\n",
       "      <td>Long-Distance Traveler</td>\n",
       "    </tr>\n",
       "    <tr>\n",
       "      <th>6</th>\n",
       "      <td>User_7</td>\n",
       "      <td>Chevy Bolt</td>\n",
       "      <td>85.000000</td>\n",
       "      <td>Station_162</td>\n",
       "      <td>Houston</td>\n",
       "      <td>2024-01-01 06:00:00</td>\n",
       "      <td>2024-01-01 07:53:00</td>\n",
       "      <td>36.862140</td>\n",
       "      <td>3.539619</td>\n",
       "      <td>26.185188</td>\n",
       "      <td>22.214225</td>\n",
       "      <td>Evening</td>\n",
       "      <td>Friday</td>\n",
       "      <td>60.751781</td>\n",
       "      <td>70.796097</td>\n",
       "      <td>81.338009</td>\n",
       "      <td>27.551335</td>\n",
       "      <td>4.000000</td>\n",
       "      <td>Level 2</td>\n",
       "      <td>Commuter</td>\n",
       "    </tr>\n",
       "    <tr>\n",
       "      <th>7</th>\n",
       "      <td>User_8</td>\n",
       "      <td>Chevy Bolt</td>\n",
       "      <td>75.000000</td>\n",
       "      <td>Station_302</td>\n",
       "      <td>Los Angeles</td>\n",
       "      <td>2024-01-01 07:00:00</td>\n",
       "      <td>2024-01-01 10:42:00</td>\n",
       "      <td>51.467617</td>\n",
       "      <td>2.655396</td>\n",
       "      <td>26.702908</td>\n",
       "      <td>9.796821</td>\n",
       "      <td>Afternoon</td>\n",
       "      <td>Monday</td>\n",
       "      <td>56.201703</td>\n",
       "      <td>63.786815</td>\n",
       "      <td>116.543166</td>\n",
       "      <td>-4.417460</td>\n",
       "      <td>0.000000</td>\n",
       "      <td>Level 2</td>\n",
       "      <td>Long-Distance Traveler</td>\n",
       "    </tr>\n",
       "    <tr>\n",
       "      <th>8</th>\n",
       "      <td>User_9</td>\n",
       "      <td>Chevy Bolt</td>\n",
       "      <td>62.000000</td>\n",
       "      <td>Station_493</td>\n",
       "      <td>Los Angeles</td>\n",
       "      <td>2024-01-01 08:00:00</td>\n",
       "      <td>2024-01-01 09:21:00</td>\n",
       "      <td>43.592372</td>\n",
       "      <td>1.724204</td>\n",
       "      <td>14.294923</td>\n",
       "      <td>32.465005</td>\n",
       "      <td>Evening</td>\n",
       "      <td>Wednesday</td>\n",
       "      <td>33.466200</td>\n",
       "      <td>92.961421</td>\n",
       "      <td>208.259742</td>\n",
       "      <td>22.516706</td>\n",
       "      <td>4.000000</td>\n",
       "      <td>Level 1</td>\n",
       "      <td>Commuter</td>\n",
       "    </tr>\n",
       "    <tr>\n",
       "      <th>9</th>\n",
       "      <td>User_10</td>\n",
       "      <td>Hyundai Kona</td>\n",
       "      <td>50.000000</td>\n",
       "      <td>Station_452</td>\n",
       "      <td>Chicago</td>\n",
       "      <td>2024-01-01 09:00:00</td>\n",
       "      <td>2024-01-01 12:44:00</td>\n",
       "      <td>78.868607</td>\n",
       "      <td>2.026875</td>\n",
       "      <td>11.761000</td>\n",
       "      <td>21.312302</td>\n",
       "      <td>Morning</td>\n",
       "      <td>Wednesday</td>\n",
       "      <td>27.399455</td>\n",
       "      <td>70.053381</td>\n",
       "      <td>54.006309</td>\n",
       "      <td>27.512019</td>\n",
       "      <td>2.830381</td>\n",
       "      <td>DC Fast Charger</td>\n",
       "      <td>Commuter</td>\n",
       "    </tr>\n",
       "  </tbody>\n",
       "</table>\n",
       "</div>"
      ],
      "text/plain": [
       "   User ID Vehicle Model  Battery Capacity (kWh) Charging Station ID  \\\n",
       "0   User_1        BMW i3              108.463007         Station_391   \n",
       "1   User_2  Hyundai Kona              100.000000         Station_428   \n",
       "2   User_3    Chevy Bolt               75.000000         Station_181   \n",
       "3   User_4  Hyundai Kona               50.000000         Station_327   \n",
       "4   User_5  Hyundai Kona               50.000000         Station_108   \n",
       "5   User_6   Nissan Leaf               50.000000         Station_335   \n",
       "6   User_7    Chevy Bolt               85.000000         Station_162   \n",
       "7   User_8    Chevy Bolt               75.000000         Station_302   \n",
       "8   User_9    Chevy Bolt               62.000000         Station_493   \n",
       "9  User_10  Hyundai Kona               50.000000         Station_452   \n",
       "\n",
       "  Charging Station Location  Charging Start Time    Charging End Time  \\\n",
       "0                   Houston  2024-01-01 00:00:00  2024-01-01 00:39:00   \n",
       "1             San Francisco  2024-01-01 01:00:00  2024-01-01 03:01:00   \n",
       "2             San Francisco  2024-01-01 02:00:00  2024-01-01 04:48:00   \n",
       "3                   Houston  2024-01-01 03:00:00  2024-01-01 06:42:00   \n",
       "4               Los Angeles  2024-01-01 04:00:00  2024-01-01 05:46:00   \n",
       "5             San Francisco  2024-01-01 05:00:00  2024-01-01 07:10:00   \n",
       "6                   Houston  2024-01-01 06:00:00  2024-01-01 07:53:00   \n",
       "7               Los Angeles  2024-01-01 07:00:00  2024-01-01 10:42:00   \n",
       "8               Los Angeles  2024-01-01 08:00:00  2024-01-01 09:21:00   \n",
       "9                   Chicago  2024-01-01 09:00:00  2024-01-01 12:44:00   \n",
       "\n",
       "   Energy Consumed (kWh)  Charging Duration (hours)  Charging Rate (kW)  \\\n",
       "0              60.712346                   0.591363           36.389181   \n",
       "1              12.339275                   3.133652           30.677735   \n",
       "2              19.128876                   2.452653           27.513593   \n",
       "3              79.457824                   1.266431           32.882870   \n",
       "4              19.629104                   2.019765           10.215712   \n",
       "5              43.181137                   1.167640           14.334523   \n",
       "6              36.862140                   3.539619           26.185188   \n",
       "7              51.467617                   2.655396           26.702908   \n",
       "8              43.592372                   1.724204           14.294923   \n",
       "9              78.868607                   2.026875           11.761000   \n",
       "\n",
       "   Charging Cost (USD) Time of Day Day of Week  State of Charge (Start %)  \\\n",
       "0            13.087717     Evening     Tuesday                  29.371576   \n",
       "1            21.128448     Morning      Monday                  10.115778   \n",
       "2            35.667270     Morning    Thursday                   6.854604   \n",
       "3            13.036239     Evening    Saturday                  83.120003   \n",
       "4            10.161471     Morning    Saturday                  54.258950   \n",
       "5            36.900341     Evening    Saturday                  75.217748   \n",
       "6            22.214225     Evening      Friday                  60.751781   \n",
       "7             9.796821   Afternoon      Monday                  56.201703   \n",
       "8            32.465005     Evening   Wednesday                  33.466200   \n",
       "9            21.312302     Morning   Wednesday                  27.399455   \n",
       "\n",
       "   State of Charge (End %)  Distance Driven (since last charge) (km)  \\\n",
       "0                86.119962                                293.602111   \n",
       "1                84.664344                                112.112804   \n",
       "2                69.917615                                 71.799253   \n",
       "3                99.624328                                199.577785   \n",
       "4                63.743786                                203.661847   \n",
       "5                71.982288                                143.680046   \n",
       "6                70.796097                                 81.338009   \n",
       "7                63.786815                                116.543166   \n",
       "8                92.961421                                208.259742   \n",
       "9                70.053381                                 54.006309   \n",
       "\n",
       "   Temperature (°C)  Vehicle Age (years)     Charger Type  \\\n",
       "0         27.947953             2.000000  DC Fast Charger   \n",
       "1         14.311026             3.000000          Level 1   \n",
       "2         21.002002             2.000000          Level 2   \n",
       "3         38.316313             1.000000          Level 1   \n",
       "4         -7.834199             1.000000          Level 1   \n",
       "5         -5.274218             0.000000  DC Fast Charger   \n",
       "6         27.551335             4.000000          Level 2   \n",
       "7         -4.417460             0.000000          Level 2   \n",
       "8         22.516706             4.000000          Level 1   \n",
       "9         27.512019             2.830381  DC Fast Charger   \n",
       "\n",
       "                User Type  \n",
       "0                Commuter  \n",
       "1           Casual Driver  \n",
       "2                Commuter  \n",
       "3  Long-Distance Traveler  \n",
       "4  Long-Distance Traveler  \n",
       "5  Long-Distance Traveler  \n",
       "6                Commuter  \n",
       "7  Long-Distance Traveler  \n",
       "8                Commuter  \n",
       "9                Commuter  "
      ]
     },
     "execution_count": 7,
     "metadata": {},
     "output_type": "execute_result"
    }
   ],
   "source": [
    "df['Energy Consumed (kWh)'].fillna(avg_Energyconsumed, inplace=True)\n",
    "df.head(10)"
   ]
  },
  {
   "cell_type": "code",
   "execution_count": null,
   "id": "aebe7178",
   "metadata": {},
   "outputs": [
    {
     "data": {
      "text/plain": [
       "User ID                                      0\n",
       "Vehicle Model                                0\n",
       "Battery Capacity (kWh)                       0\n",
       "Charging Station ID                          0\n",
       "Charging Station Location                    0\n",
       "Charging Start Time                          0\n",
       "Charging End Time                            0\n",
       "Energy Consumed (kWh)                        0\n",
       "Charging Duration (hours)                    0\n",
       "Charging Rate (kW)                          66\n",
       "Charging Cost (USD)                          0\n",
       "Time of Day                                  0\n",
       "Day of Week                                  0\n",
       "State of Charge (Start %)                    0\n",
       "State of Charge (End %)                      0\n",
       "Distance Driven (since last charge) (km)    66\n",
       "Temperature (°C)                             0\n",
       "Vehicle Age (years)                          0\n",
       "Charger Type                                 0\n",
       "User Type                                    0\n",
       "dtype: int64"
      ]
     },
     "execution_count": 8,
     "metadata": {},
     "output_type": "execute_result"
    }
   ],
   "source": [
    "df.isnull().sum()"
   ]
  },
  {
   "cell_type": "code",
   "execution_count": null,
   "id": "bec2bb96",
   "metadata": {},
   "outputs": [
    {
     "name": "stdout",
     "output_type": "stream",
     "text": [
      "26\n"
     ]
    }
   ],
   "source": [
    "avg_Chargingrate=round(df['Charging Rate (kW)'].mean())\n",
    "print(avg_Chargingrate)"
   ]
  },
  {
   "cell_type": "code",
   "execution_count": null,
   "id": "70cbd9c6",
   "metadata": {},
   "outputs": [
    {
     "name": "stderr",
     "output_type": "stream",
     "text": [
      "C:\\Users\\DELL\\AppData\\Local\\Temp\\ipykernel_10672\\540358063.py:1: FutureWarning: A value is trying to be set on a copy of a DataFrame or Series through chained assignment using an inplace method.\n",
      "The behavior will change in pandas 3.0. This inplace method will never work because the intermediate object on which we are setting values always behaves as a copy.\n",
      "\n",
      "For example, when doing 'df[col].method(value, inplace=True)', try using 'df.method({col: value}, inplace=True)' or df[col] = df[col].method(value) instead, to perform the operation inplace on the original object.\n",
      "\n",
      "\n",
      "  df['Charging Rate (kW)'].fillna(avg_Chargingrate, inplace=True)\n"
     ]
    },
    {
     "data": {
      "text/html": [
       "<div>\n",
       "<style scoped>\n",
       "    .dataframe tbody tr th:only-of-type {\n",
       "        vertical-align: middle;\n",
       "    }\n",
       "\n",
       "    .dataframe tbody tr th {\n",
       "        vertical-align: top;\n",
       "    }\n",
       "\n",
       "    .dataframe thead th {\n",
       "        text-align: right;\n",
       "    }\n",
       "</style>\n",
       "<table border=\"1\" class=\"dataframe\">\n",
       "  <thead>\n",
       "    <tr style=\"text-align: right;\">\n",
       "      <th></th>\n",
       "      <th>User ID</th>\n",
       "      <th>Vehicle Model</th>\n",
       "      <th>Battery Capacity (kWh)</th>\n",
       "      <th>Charging Station ID</th>\n",
       "      <th>Charging Station Location</th>\n",
       "      <th>Charging Start Time</th>\n",
       "      <th>Charging End Time</th>\n",
       "      <th>Energy Consumed (kWh)</th>\n",
       "      <th>Charging Duration (hours)</th>\n",
       "      <th>Charging Rate (kW)</th>\n",
       "      <th>Charging Cost (USD)</th>\n",
       "      <th>Time of Day</th>\n",
       "      <th>Day of Week</th>\n",
       "      <th>State of Charge (Start %)</th>\n",
       "      <th>State of Charge (End %)</th>\n",
       "      <th>Distance Driven (since last charge) (km)</th>\n",
       "      <th>Temperature (°C)</th>\n",
       "      <th>Vehicle Age (years)</th>\n",
       "      <th>Charger Type</th>\n",
       "      <th>User Type</th>\n",
       "    </tr>\n",
       "  </thead>\n",
       "  <tbody>\n",
       "    <tr>\n",
       "      <th>0</th>\n",
       "      <td>User_1</td>\n",
       "      <td>BMW i3</td>\n",
       "      <td>108.463007</td>\n",
       "      <td>Station_391</td>\n",
       "      <td>Houston</td>\n",
       "      <td>2024-01-01 00:00:00</td>\n",
       "      <td>2024-01-01 00:39:00</td>\n",
       "      <td>60.712346</td>\n",
       "      <td>0.591363</td>\n",
       "      <td>36.389181</td>\n",
       "      <td>13.087717</td>\n",
       "      <td>Evening</td>\n",
       "      <td>Tuesday</td>\n",
       "      <td>29.371576</td>\n",
       "      <td>86.119962</td>\n",
       "      <td>293.602111</td>\n",
       "      <td>27.947953</td>\n",
       "      <td>2.0</td>\n",
       "      <td>DC Fast Charger</td>\n",
       "      <td>Commuter</td>\n",
       "    </tr>\n",
       "    <tr>\n",
       "      <th>1</th>\n",
       "      <td>User_2</td>\n",
       "      <td>Hyundai Kona</td>\n",
       "      <td>100.000000</td>\n",
       "      <td>Station_428</td>\n",
       "      <td>San Francisco</td>\n",
       "      <td>2024-01-01 01:00:00</td>\n",
       "      <td>2024-01-01 03:01:00</td>\n",
       "      <td>12.339275</td>\n",
       "      <td>3.133652</td>\n",
       "      <td>30.677735</td>\n",
       "      <td>21.128448</td>\n",
       "      <td>Morning</td>\n",
       "      <td>Monday</td>\n",
       "      <td>10.115778</td>\n",
       "      <td>84.664344</td>\n",
       "      <td>112.112804</td>\n",
       "      <td>14.311026</td>\n",
       "      <td>3.0</td>\n",
       "      <td>Level 1</td>\n",
       "      <td>Casual Driver</td>\n",
       "    </tr>\n",
       "    <tr>\n",
       "      <th>2</th>\n",
       "      <td>User_3</td>\n",
       "      <td>Chevy Bolt</td>\n",
       "      <td>75.000000</td>\n",
       "      <td>Station_181</td>\n",
       "      <td>San Francisco</td>\n",
       "      <td>2024-01-01 02:00:00</td>\n",
       "      <td>2024-01-01 04:48:00</td>\n",
       "      <td>19.128876</td>\n",
       "      <td>2.452653</td>\n",
       "      <td>27.513593</td>\n",
       "      <td>35.667270</td>\n",
       "      <td>Morning</td>\n",
       "      <td>Thursday</td>\n",
       "      <td>6.854604</td>\n",
       "      <td>69.917615</td>\n",
       "      <td>71.799253</td>\n",
       "      <td>21.002002</td>\n",
       "      <td>2.0</td>\n",
       "      <td>Level 2</td>\n",
       "      <td>Commuter</td>\n",
       "    </tr>\n",
       "    <tr>\n",
       "      <th>3</th>\n",
       "      <td>User_4</td>\n",
       "      <td>Hyundai Kona</td>\n",
       "      <td>50.000000</td>\n",
       "      <td>Station_327</td>\n",
       "      <td>Houston</td>\n",
       "      <td>2024-01-01 03:00:00</td>\n",
       "      <td>2024-01-01 06:42:00</td>\n",
       "      <td>79.457824</td>\n",
       "      <td>1.266431</td>\n",
       "      <td>32.882870</td>\n",
       "      <td>13.036239</td>\n",
       "      <td>Evening</td>\n",
       "      <td>Saturday</td>\n",
       "      <td>83.120003</td>\n",
       "      <td>99.624328</td>\n",
       "      <td>199.577785</td>\n",
       "      <td>38.316313</td>\n",
       "      <td>1.0</td>\n",
       "      <td>Level 1</td>\n",
       "      <td>Long-Distance Traveler</td>\n",
       "    </tr>\n",
       "    <tr>\n",
       "      <th>4</th>\n",
       "      <td>User_5</td>\n",
       "      <td>Hyundai Kona</td>\n",
       "      <td>50.000000</td>\n",
       "      <td>Station_108</td>\n",
       "      <td>Los Angeles</td>\n",
       "      <td>2024-01-01 04:00:00</td>\n",
       "      <td>2024-01-01 05:46:00</td>\n",
       "      <td>19.629104</td>\n",
       "      <td>2.019765</td>\n",
       "      <td>10.215712</td>\n",
       "      <td>10.161471</td>\n",
       "      <td>Morning</td>\n",
       "      <td>Saturday</td>\n",
       "      <td>54.258950</td>\n",
       "      <td>63.743786</td>\n",
       "      <td>203.661847</td>\n",
       "      <td>-7.834199</td>\n",
       "      <td>1.0</td>\n",
       "      <td>Level 1</td>\n",
       "      <td>Long-Distance Traveler</td>\n",
       "    </tr>\n",
       "  </tbody>\n",
       "</table>\n",
       "</div>"
      ],
      "text/plain": [
       "  User ID Vehicle Model  Battery Capacity (kWh) Charging Station ID  \\\n",
       "0  User_1        BMW i3              108.463007         Station_391   \n",
       "1  User_2  Hyundai Kona              100.000000         Station_428   \n",
       "2  User_3    Chevy Bolt               75.000000         Station_181   \n",
       "3  User_4  Hyundai Kona               50.000000         Station_327   \n",
       "4  User_5  Hyundai Kona               50.000000         Station_108   \n",
       "\n",
       "  Charging Station Location  Charging Start Time    Charging End Time  \\\n",
       "0                   Houston  2024-01-01 00:00:00  2024-01-01 00:39:00   \n",
       "1             San Francisco  2024-01-01 01:00:00  2024-01-01 03:01:00   \n",
       "2             San Francisco  2024-01-01 02:00:00  2024-01-01 04:48:00   \n",
       "3                   Houston  2024-01-01 03:00:00  2024-01-01 06:42:00   \n",
       "4               Los Angeles  2024-01-01 04:00:00  2024-01-01 05:46:00   \n",
       "\n",
       "   Energy Consumed (kWh)  Charging Duration (hours)  Charging Rate (kW)  \\\n",
       "0              60.712346                   0.591363           36.389181   \n",
       "1              12.339275                   3.133652           30.677735   \n",
       "2              19.128876                   2.452653           27.513593   \n",
       "3              79.457824                   1.266431           32.882870   \n",
       "4              19.629104                   2.019765           10.215712   \n",
       "\n",
       "   Charging Cost (USD) Time of Day Day of Week  State of Charge (Start %)  \\\n",
       "0            13.087717     Evening     Tuesday                  29.371576   \n",
       "1            21.128448     Morning      Monday                  10.115778   \n",
       "2            35.667270     Morning    Thursday                   6.854604   \n",
       "3            13.036239     Evening    Saturday                  83.120003   \n",
       "4            10.161471     Morning    Saturday                  54.258950   \n",
       "\n",
       "   State of Charge (End %)  Distance Driven (since last charge) (km)  \\\n",
       "0                86.119962                                293.602111   \n",
       "1                84.664344                                112.112804   \n",
       "2                69.917615                                 71.799253   \n",
       "3                99.624328                                199.577785   \n",
       "4                63.743786                                203.661847   \n",
       "\n",
       "   Temperature (°C)  Vehicle Age (years)     Charger Type  \\\n",
       "0         27.947953                  2.0  DC Fast Charger   \n",
       "1         14.311026                  3.0          Level 1   \n",
       "2         21.002002                  2.0          Level 2   \n",
       "3         38.316313                  1.0          Level 1   \n",
       "4         -7.834199                  1.0          Level 1   \n",
       "\n",
       "                User Type  \n",
       "0                Commuter  \n",
       "1           Casual Driver  \n",
       "2                Commuter  \n",
       "3  Long-Distance Traveler  \n",
       "4  Long-Distance Traveler  "
      ]
     },
     "execution_count": 10,
     "metadata": {},
     "output_type": "execute_result"
    }
   ],
   "source": [
    "df['Charging Rate (kW)'].fillna(avg_Chargingrate, inplace=True)\n",
    "df.head()\n"
   ]
  },
  {
   "cell_type": "code",
   "execution_count": null,
   "id": "6e07a6fd",
   "metadata": {},
   "outputs": [
    {
     "data": {
      "text/plain": [
       "User ID                                      0\n",
       "Vehicle Model                                0\n",
       "Battery Capacity (kWh)                       0\n",
       "Charging Station ID                          0\n",
       "Charging Station Location                    0\n",
       "Charging Start Time                          0\n",
       "Charging End Time                            0\n",
       "Energy Consumed (kWh)                        0\n",
       "Charging Duration (hours)                    0\n",
       "Charging Rate (kW)                           0\n",
       "Charging Cost (USD)                          0\n",
       "Time of Day                                  0\n",
       "Day of Week                                  0\n",
       "State of Charge (Start %)                    0\n",
       "State of Charge (End %)                      0\n",
       "Distance Driven (since last charge) (km)    66\n",
       "Temperature (°C)                             0\n",
       "Vehicle Age (years)                          0\n",
       "Charger Type                                 0\n",
       "User Type                                    0\n",
       "dtype: int64"
      ]
     },
     "execution_count": 11,
     "metadata": {},
     "output_type": "execute_result"
    }
   ],
   "source": [
    "df.isnull().sum()"
   ]
  },
  {
   "cell_type": "code",
   "execution_count": null,
   "id": "dfd76737",
   "metadata": {},
   "outputs": [
    {
     "name": "stdout",
     "output_type": "stream",
     "text": [
      "154\n"
     ]
    }
   ],
   "source": [
    "avg_Distancedriven=round(df['Distance Driven (since last charge) (km)'].mean())\n",
    "print(avg_Distancedriven)"
   ]
  },
  {
   "cell_type": "code",
   "execution_count": null,
   "id": "a000aaab",
   "metadata": {},
   "outputs": [
    {
     "name": "stderr",
     "output_type": "stream",
     "text": [
      "C:\\Users\\DELL\\AppData\\Local\\Temp\\ipykernel_10672\\659537798.py:1: FutureWarning: A value is trying to be set on a copy of a DataFrame or Series through chained assignment using an inplace method.\n",
      "The behavior will change in pandas 3.0. This inplace method will never work because the intermediate object on which we are setting values always behaves as a copy.\n",
      "\n",
      "For example, when doing 'df[col].method(value, inplace=True)', try using 'df.method({col: value}, inplace=True)' or df[col] = df[col].method(value) instead, to perform the operation inplace on the original object.\n",
      "\n",
      "\n",
      "  df['Distance Driven (since last charge) (km)'].fillna(avg_Distancedriven, inplace=True)\n"
     ]
    },
    {
     "data": {
      "text/html": [
       "<div>\n",
       "<style scoped>\n",
       "    .dataframe tbody tr th:only-of-type {\n",
       "        vertical-align: middle;\n",
       "    }\n",
       "\n",
       "    .dataframe tbody tr th {\n",
       "        vertical-align: top;\n",
       "    }\n",
       "\n",
       "    .dataframe thead th {\n",
       "        text-align: right;\n",
       "    }\n",
       "</style>\n",
       "<table border=\"1\" class=\"dataframe\">\n",
       "  <thead>\n",
       "    <tr style=\"text-align: right;\">\n",
       "      <th></th>\n",
       "      <th>User ID</th>\n",
       "      <th>Vehicle Model</th>\n",
       "      <th>Battery Capacity (kWh)</th>\n",
       "      <th>Charging Station ID</th>\n",
       "      <th>Charging Station Location</th>\n",
       "      <th>Charging Start Time</th>\n",
       "      <th>Charging End Time</th>\n",
       "      <th>Energy Consumed (kWh)</th>\n",
       "      <th>Charging Duration (hours)</th>\n",
       "      <th>Charging Rate (kW)</th>\n",
       "      <th>Charging Cost (USD)</th>\n",
       "      <th>Time of Day</th>\n",
       "      <th>Day of Week</th>\n",
       "      <th>State of Charge (Start %)</th>\n",
       "      <th>State of Charge (End %)</th>\n",
       "      <th>Distance Driven (since last charge) (km)</th>\n",
       "      <th>Temperature (°C)</th>\n",
       "      <th>Vehicle Age (years)</th>\n",
       "      <th>Charger Type</th>\n",
       "      <th>User Type</th>\n",
       "    </tr>\n",
       "  </thead>\n",
       "  <tbody>\n",
       "    <tr>\n",
       "      <th>0</th>\n",
       "      <td>User_1</td>\n",
       "      <td>BMW i3</td>\n",
       "      <td>108.463007</td>\n",
       "      <td>Station_391</td>\n",
       "      <td>Houston</td>\n",
       "      <td>2024-01-01 00:00:00</td>\n",
       "      <td>2024-01-01 00:39:00</td>\n",
       "      <td>60.712346</td>\n",
       "      <td>0.591363</td>\n",
       "      <td>36.389181</td>\n",
       "      <td>13.087717</td>\n",
       "      <td>Evening</td>\n",
       "      <td>Tuesday</td>\n",
       "      <td>29.371576</td>\n",
       "      <td>86.119962</td>\n",
       "      <td>293.602111</td>\n",
       "      <td>27.947953</td>\n",
       "      <td>2.0</td>\n",
       "      <td>DC Fast Charger</td>\n",
       "      <td>Commuter</td>\n",
       "    </tr>\n",
       "    <tr>\n",
       "      <th>1</th>\n",
       "      <td>User_2</td>\n",
       "      <td>Hyundai Kona</td>\n",
       "      <td>100.000000</td>\n",
       "      <td>Station_428</td>\n",
       "      <td>San Francisco</td>\n",
       "      <td>2024-01-01 01:00:00</td>\n",
       "      <td>2024-01-01 03:01:00</td>\n",
       "      <td>12.339275</td>\n",
       "      <td>3.133652</td>\n",
       "      <td>30.677735</td>\n",
       "      <td>21.128448</td>\n",
       "      <td>Morning</td>\n",
       "      <td>Monday</td>\n",
       "      <td>10.115778</td>\n",
       "      <td>84.664344</td>\n",
       "      <td>112.112804</td>\n",
       "      <td>14.311026</td>\n",
       "      <td>3.0</td>\n",
       "      <td>Level 1</td>\n",
       "      <td>Casual Driver</td>\n",
       "    </tr>\n",
       "    <tr>\n",
       "      <th>2</th>\n",
       "      <td>User_3</td>\n",
       "      <td>Chevy Bolt</td>\n",
       "      <td>75.000000</td>\n",
       "      <td>Station_181</td>\n",
       "      <td>San Francisco</td>\n",
       "      <td>2024-01-01 02:00:00</td>\n",
       "      <td>2024-01-01 04:48:00</td>\n",
       "      <td>19.128876</td>\n",
       "      <td>2.452653</td>\n",
       "      <td>27.513593</td>\n",
       "      <td>35.667270</td>\n",
       "      <td>Morning</td>\n",
       "      <td>Thursday</td>\n",
       "      <td>6.854604</td>\n",
       "      <td>69.917615</td>\n",
       "      <td>71.799253</td>\n",
       "      <td>21.002002</td>\n",
       "      <td>2.0</td>\n",
       "      <td>Level 2</td>\n",
       "      <td>Commuter</td>\n",
       "    </tr>\n",
       "    <tr>\n",
       "      <th>3</th>\n",
       "      <td>User_4</td>\n",
       "      <td>Hyundai Kona</td>\n",
       "      <td>50.000000</td>\n",
       "      <td>Station_327</td>\n",
       "      <td>Houston</td>\n",
       "      <td>2024-01-01 03:00:00</td>\n",
       "      <td>2024-01-01 06:42:00</td>\n",
       "      <td>79.457824</td>\n",
       "      <td>1.266431</td>\n",
       "      <td>32.882870</td>\n",
       "      <td>13.036239</td>\n",
       "      <td>Evening</td>\n",
       "      <td>Saturday</td>\n",
       "      <td>83.120003</td>\n",
       "      <td>99.624328</td>\n",
       "      <td>199.577785</td>\n",
       "      <td>38.316313</td>\n",
       "      <td>1.0</td>\n",
       "      <td>Level 1</td>\n",
       "      <td>Long-Distance Traveler</td>\n",
       "    </tr>\n",
       "    <tr>\n",
       "      <th>4</th>\n",
       "      <td>User_5</td>\n",
       "      <td>Hyundai Kona</td>\n",
       "      <td>50.000000</td>\n",
       "      <td>Station_108</td>\n",
       "      <td>Los Angeles</td>\n",
       "      <td>2024-01-01 04:00:00</td>\n",
       "      <td>2024-01-01 05:46:00</td>\n",
       "      <td>19.629104</td>\n",
       "      <td>2.019765</td>\n",
       "      <td>10.215712</td>\n",
       "      <td>10.161471</td>\n",
       "      <td>Morning</td>\n",
       "      <td>Saturday</td>\n",
       "      <td>54.258950</td>\n",
       "      <td>63.743786</td>\n",
       "      <td>203.661847</td>\n",
       "      <td>-7.834199</td>\n",
       "      <td>1.0</td>\n",
       "      <td>Level 1</td>\n",
       "      <td>Long-Distance Traveler</td>\n",
       "    </tr>\n",
       "  </tbody>\n",
       "</table>\n",
       "</div>"
      ],
      "text/plain": [
       "  User ID Vehicle Model  Battery Capacity (kWh) Charging Station ID  \\\n",
       "0  User_1        BMW i3              108.463007         Station_391   \n",
       "1  User_2  Hyundai Kona              100.000000         Station_428   \n",
       "2  User_3    Chevy Bolt               75.000000         Station_181   \n",
       "3  User_4  Hyundai Kona               50.000000         Station_327   \n",
       "4  User_5  Hyundai Kona               50.000000         Station_108   \n",
       "\n",
       "  Charging Station Location  Charging Start Time    Charging End Time  \\\n",
       "0                   Houston  2024-01-01 00:00:00  2024-01-01 00:39:00   \n",
       "1             San Francisco  2024-01-01 01:00:00  2024-01-01 03:01:00   \n",
       "2             San Francisco  2024-01-01 02:00:00  2024-01-01 04:48:00   \n",
       "3                   Houston  2024-01-01 03:00:00  2024-01-01 06:42:00   \n",
       "4               Los Angeles  2024-01-01 04:00:00  2024-01-01 05:46:00   \n",
       "\n",
       "   Energy Consumed (kWh)  Charging Duration (hours)  Charging Rate (kW)  \\\n",
       "0              60.712346                   0.591363           36.389181   \n",
       "1              12.339275                   3.133652           30.677735   \n",
       "2              19.128876                   2.452653           27.513593   \n",
       "3              79.457824                   1.266431           32.882870   \n",
       "4              19.629104                   2.019765           10.215712   \n",
       "\n",
       "   Charging Cost (USD) Time of Day Day of Week  State of Charge (Start %)  \\\n",
       "0            13.087717     Evening     Tuesday                  29.371576   \n",
       "1            21.128448     Morning      Monday                  10.115778   \n",
       "2            35.667270     Morning    Thursday                   6.854604   \n",
       "3            13.036239     Evening    Saturday                  83.120003   \n",
       "4            10.161471     Morning    Saturday                  54.258950   \n",
       "\n",
       "   State of Charge (End %)  Distance Driven (since last charge) (km)  \\\n",
       "0                86.119962                                293.602111   \n",
       "1                84.664344                                112.112804   \n",
       "2                69.917615                                 71.799253   \n",
       "3                99.624328                                199.577785   \n",
       "4                63.743786                                203.661847   \n",
       "\n",
       "   Temperature (°C)  Vehicle Age (years)     Charger Type  \\\n",
       "0         27.947953                  2.0  DC Fast Charger   \n",
       "1         14.311026                  3.0          Level 1   \n",
       "2         21.002002                  2.0          Level 2   \n",
       "3         38.316313                  1.0          Level 1   \n",
       "4         -7.834199                  1.0          Level 1   \n",
       "\n",
       "                User Type  \n",
       "0                Commuter  \n",
       "1           Casual Driver  \n",
       "2                Commuter  \n",
       "3  Long-Distance Traveler  \n",
       "4  Long-Distance Traveler  "
      ]
     },
     "execution_count": 13,
     "metadata": {},
     "output_type": "execute_result"
    }
   ],
   "source": [
    "df['Distance Driven (since last charge) (km)'].fillna(avg_Distancedriven, inplace=True)\n",
    "df.head()"
   ]
  },
  {
   "cell_type": "code",
   "execution_count": null,
   "id": "dedd2410",
   "metadata": {},
   "outputs": [
    {
     "data": {
      "text/plain": [
       "User ID                                     0\n",
       "Vehicle Model                               0\n",
       "Battery Capacity (kWh)                      0\n",
       "Charging Station ID                         0\n",
       "Charging Station Location                   0\n",
       "Charging Start Time                         0\n",
       "Charging End Time                           0\n",
       "Energy Consumed (kWh)                       0\n",
       "Charging Duration (hours)                   0\n",
       "Charging Rate (kW)                          0\n",
       "Charging Cost (USD)                         0\n",
       "Time of Day                                 0\n",
       "Day of Week                                 0\n",
       "State of Charge (Start %)                   0\n",
       "State of Charge (End %)                     0\n",
       "Distance Driven (since last charge) (km)    0\n",
       "Temperature (°C)                            0\n",
       "Vehicle Age (years)                         0\n",
       "Charger Type                                0\n",
       "User Type                                   0\n",
       "dtype: int64"
      ]
     },
     "execution_count": 14,
     "metadata": {},
     "output_type": "execute_result"
    }
   ],
   "source": [
    "df.isnull().sum()\n"
   ]
  },
  {
   "cell_type": "code",
   "execution_count": null,
   "id": "43f5ed35",
   "metadata": {},
   "outputs": [
    {
     "name": "stdout",
     "output_type": "stream",
     "text": [
      "<class 'pandas.core.frame.DataFrame'>\n",
      "RangeIndex: 1320 entries, 0 to 1319\n",
      "Data columns (total 20 columns):\n",
      " #   Column                                    Non-Null Count  Dtype  \n",
      "---  ------                                    --------------  -----  \n",
      " 0   User ID                                   1320 non-null   object \n",
      " 1   Vehicle Model                             1320 non-null   object \n",
      " 2   Battery Capacity (kWh)                    1320 non-null   float64\n",
      " 3   Charging Station ID                       1320 non-null   object \n",
      " 4   Charging Station Location                 1320 non-null   object \n",
      " 5   Charging Start Time                       1320 non-null   object \n",
      " 6   Charging End Time                         1320 non-null   object \n",
      " 7   Energy Consumed (kWh)                     1320 non-null   float64\n",
      " 8   Charging Duration (hours)                 1320 non-null   float64\n",
      " 9   Charging Rate (kW)                        1320 non-null   float64\n",
      " 10  Charging Cost (USD)                       1320 non-null   float64\n",
      " 11  Time of Day                               1320 non-null   object \n",
      " 12  Day of Week                               1320 non-null   object \n",
      " 13  State of Charge (Start %)                 1320 non-null   float64\n",
      " 14  State of Charge (End %)                   1320 non-null   float64\n",
      " 15  Distance Driven (since last charge) (km)  1320 non-null   float64\n",
      " 16  Temperature (°C)                          1320 non-null   float64\n",
      " 17  Vehicle Age (years)                       1320 non-null   float64\n",
      " 18  Charger Type                              1320 non-null   object \n",
      " 19  User Type                                 1320 non-null   object \n",
      "dtypes: float64(10), object(10)\n",
      "memory usage: 206.4+ KB\n"
     ]
    }
   ],
   "source": [
    "df.info()"
   ]
  },
  {
   "cell_type": "code",
   "execution_count": null,
   "id": "bbbd956d",
   "metadata": {},
   "outputs": [
    {
     "data": {
      "text/html": [
       "<div>\n",
       "<style scoped>\n",
       "    .dataframe tbody tr th:only-of-type {\n",
       "        vertical-align: middle;\n",
       "    }\n",
       "\n",
       "    .dataframe tbody tr th {\n",
       "        vertical-align: top;\n",
       "    }\n",
       "\n",
       "    .dataframe thead th {\n",
       "        text-align: right;\n",
       "    }\n",
       "</style>\n",
       "<table border=\"1\" class=\"dataframe\">\n",
       "  <thead>\n",
       "    <tr style=\"text-align: right;\">\n",
       "      <th></th>\n",
       "      <th>User ID</th>\n",
       "      <th>Vehicle Model</th>\n",
       "      <th>Charging Station ID</th>\n",
       "      <th>Charging Station Location</th>\n",
       "      <th>Charging Start Time</th>\n",
       "      <th>Charging End Time</th>\n",
       "      <th>Time of Day</th>\n",
       "      <th>Day of Week</th>\n",
       "      <th>Charger Type</th>\n",
       "      <th>User Type</th>\n",
       "    </tr>\n",
       "  </thead>\n",
       "  <tbody>\n",
       "    <tr>\n",
       "      <th>count</th>\n",
       "      <td>1320</td>\n",
       "      <td>1320</td>\n",
       "      <td>1320</td>\n",
       "      <td>1320</td>\n",
       "      <td>1320</td>\n",
       "      <td>1320</td>\n",
       "      <td>1320</td>\n",
       "      <td>1320</td>\n",
       "      <td>1320</td>\n",
       "      <td>1320</td>\n",
       "    </tr>\n",
       "    <tr>\n",
       "      <th>unique</th>\n",
       "      <td>1320</td>\n",
       "      <td>5</td>\n",
       "      <td>462</td>\n",
       "      <td>5</td>\n",
       "      <td>1320</td>\n",
       "      <td>1309</td>\n",
       "      <td>4</td>\n",
       "      <td>7</td>\n",
       "      <td>3</td>\n",
       "      <td>3</td>\n",
       "    </tr>\n",
       "    <tr>\n",
       "      <th>top</th>\n",
       "      <td>User_1320</td>\n",
       "      <td>Tesla Model 3</td>\n",
       "      <td>Station_108</td>\n",
       "      <td>Los Angeles</td>\n",
       "      <td>2024-02-24 23:00:00</td>\n",
       "      <td>2024-01-06 18:48:00</td>\n",
       "      <td>Evening</td>\n",
       "      <td>Saturday</td>\n",
       "      <td>Level 1</td>\n",
       "      <td>Commuter</td>\n",
       "    </tr>\n",
       "    <tr>\n",
       "      <th>freq</th>\n",
       "      <td>1</td>\n",
       "      <td>280</td>\n",
       "      <td>9</td>\n",
       "      <td>297</td>\n",
       "      <td>1</td>\n",
       "      <td>2</td>\n",
       "      <td>362</td>\n",
       "      <td>205</td>\n",
       "      <td>459</td>\n",
       "      <td>476</td>\n",
       "    </tr>\n",
       "  </tbody>\n",
       "</table>\n",
       "</div>"
      ],
      "text/plain": [
       "          User ID  Vehicle Model Charging Station ID  \\\n",
       "count        1320           1320                1320   \n",
       "unique       1320              5                 462   \n",
       "top     User_1320  Tesla Model 3         Station_108   \n",
       "freq            1            280                   9   \n",
       "\n",
       "       Charging Station Location  Charging Start Time    Charging End Time  \\\n",
       "count                       1320                 1320                 1320   \n",
       "unique                         5                 1320                 1309   \n",
       "top                  Los Angeles  2024-02-24 23:00:00  2024-01-06 18:48:00   \n",
       "freq                         297                    1                    2   \n",
       "\n",
       "       Time of Day Day of Week Charger Type User Type  \n",
       "count         1320        1320         1320      1320  \n",
       "unique           4           7            3         3  \n",
       "top        Evening    Saturday      Level 1  Commuter  \n",
       "freq           362         205          459       476  "
      ]
     },
     "execution_count": 16,
     "metadata": {},
     "output_type": "execute_result"
    }
   ],
   "source": [
    "df.describe(include='object')"
   ]
  },
  {
   "cell_type": "code",
   "execution_count": null,
   "id": "1f951c7f",
   "metadata": {},
   "outputs": [
    {
     "data": {
      "text/html": [
       "<div>\n",
       "<style scoped>\n",
       "    .dataframe tbody tr th:only-of-type {\n",
       "        vertical-align: middle;\n",
       "    }\n",
       "\n",
       "    .dataframe tbody tr th {\n",
       "        vertical-align: top;\n",
       "    }\n",
       "\n",
       "    .dataframe thead th {\n",
       "        text-align: right;\n",
       "    }\n",
       "</style>\n",
       "<table border=\"1\" class=\"dataframe\">\n",
       "  <thead>\n",
       "    <tr style=\"text-align: right;\">\n",
       "      <th></th>\n",
       "      <th>Battery Capacity (kWh)</th>\n",
       "      <th>Energy Consumed (kWh)</th>\n",
       "      <th>Charging Duration (hours)</th>\n",
       "      <th>Charging Rate (kW)</th>\n",
       "      <th>Charging Cost (USD)</th>\n",
       "      <th>State of Charge (Start %)</th>\n",
       "      <th>State of Charge (End %)</th>\n",
       "      <th>Distance Driven (since last charge) (km)</th>\n",
       "      <th>Temperature (°C)</th>\n",
       "      <th>Vehicle Age (years)</th>\n",
       "    </tr>\n",
       "  </thead>\n",
       "  <tbody>\n",
       "    <tr>\n",
       "      <th>count</th>\n",
       "      <td>1320.000000</td>\n",
       "      <td>1320.000000</td>\n",
       "      <td>1320.000000</td>\n",
       "      <td>1320.000000</td>\n",
       "      <td>1320.000000</td>\n",
       "      <td>1320.000000</td>\n",
       "      <td>1320.000000</td>\n",
       "      <td>1320.000000</td>\n",
       "      <td>1320.000000</td>\n",
       "      <td>1320.000000</td>\n",
       "    </tr>\n",
       "    <tr>\n",
       "      <th>mean</th>\n",
       "      <td>74.534692</td>\n",
       "      <td>42.660750</td>\n",
       "      <td>2.269377</td>\n",
       "      <td>25.964853</td>\n",
       "      <td>22.551352</td>\n",
       "      <td>49.130012</td>\n",
       "      <td>75.141590</td>\n",
       "      <td>153.616948</td>\n",
       "      <td>15.263591</td>\n",
       "      <td>3.612843</td>\n",
       "    </tr>\n",
       "    <tr>\n",
       "      <th>std</th>\n",
       "      <td>20.626914</td>\n",
       "      <td>21.843930</td>\n",
       "      <td>1.061037</td>\n",
       "      <td>13.656282</td>\n",
       "      <td>10.751494</td>\n",
       "      <td>24.074134</td>\n",
       "      <td>17.080580</td>\n",
       "      <td>83.825665</td>\n",
       "      <td>14.831216</td>\n",
       "      <td>2.309824</td>\n",
       "    </tr>\n",
       "    <tr>\n",
       "      <th>min</th>\n",
       "      <td>1.532807</td>\n",
       "      <td>0.045772</td>\n",
       "      <td>0.095314</td>\n",
       "      <td>1.472549</td>\n",
       "      <td>0.234317</td>\n",
       "      <td>2.325959</td>\n",
       "      <td>7.604224</td>\n",
       "      <td>0.862361</td>\n",
       "      <td>-10.724770</td>\n",
       "      <td>0.000000</td>\n",
       "    </tr>\n",
       "    <tr>\n",
       "      <th>25%</th>\n",
       "      <td>62.000000</td>\n",
       "      <td>24.868084</td>\n",
       "      <td>1.397623</td>\n",
       "      <td>14.431294</td>\n",
       "      <td>13.368141</td>\n",
       "      <td>27.786903</td>\n",
       "      <td>62.053266</td>\n",
       "      <td>81.931571</td>\n",
       "      <td>2.800664</td>\n",
       "      <td>2.000000</td>\n",
       "    </tr>\n",
       "    <tr>\n",
       "      <th>50%</th>\n",
       "      <td>75.000000</td>\n",
       "      <td>43.000000</td>\n",
       "      <td>2.258136</td>\n",
       "      <td>26.000000</td>\n",
       "      <td>22.076360</td>\n",
       "      <td>48.241771</td>\n",
       "      <td>75.682496</td>\n",
       "      <td>154.000000</td>\n",
       "      <td>14.630846</td>\n",
       "      <td>4.000000</td>\n",
       "    </tr>\n",
       "    <tr>\n",
       "      <th>75%</th>\n",
       "      <td>85.000000</td>\n",
       "      <td>60.545496</td>\n",
       "      <td>3.112806</td>\n",
       "      <td>36.955838</td>\n",
       "      <td>31.646044</td>\n",
       "      <td>69.277921</td>\n",
       "      <td>88.201370</td>\n",
       "      <td>221.962330</td>\n",
       "      <td>27.981810</td>\n",
       "      <td>6.000000</td>\n",
       "    </tr>\n",
       "    <tr>\n",
       "      <th>max</th>\n",
       "      <td>193.003074</td>\n",
       "      <td>152.238758</td>\n",
       "      <td>7.635145</td>\n",
       "      <td>97.342255</td>\n",
       "      <td>69.407743</td>\n",
       "      <td>152.489761</td>\n",
       "      <td>177.708666</td>\n",
       "      <td>398.364775</td>\n",
       "      <td>73.169588</td>\n",
       "      <td>11.688592</td>\n",
       "    </tr>\n",
       "  </tbody>\n",
       "</table>\n",
       "</div>"
      ],
      "text/plain": [
       "       Battery Capacity (kWh)  Energy Consumed (kWh)  \\\n",
       "count             1320.000000            1320.000000   \n",
       "mean                74.534692              42.660750   \n",
       "std                 20.626914              21.843930   \n",
       "min                  1.532807               0.045772   \n",
       "25%                 62.000000              24.868084   \n",
       "50%                 75.000000              43.000000   \n",
       "75%                 85.000000              60.545496   \n",
       "max                193.003074             152.238758   \n",
       "\n",
       "       Charging Duration (hours)  Charging Rate (kW)  Charging Cost (USD)  \\\n",
       "count                1320.000000         1320.000000          1320.000000   \n",
       "mean                    2.269377           25.964853            22.551352   \n",
       "std                     1.061037           13.656282            10.751494   \n",
       "min                     0.095314            1.472549             0.234317   \n",
       "25%                     1.397623           14.431294            13.368141   \n",
       "50%                     2.258136           26.000000            22.076360   \n",
       "75%                     3.112806           36.955838            31.646044   \n",
       "max                     7.635145           97.342255            69.407743   \n",
       "\n",
       "       State of Charge (Start %)  State of Charge (End %)  \\\n",
       "count                1320.000000              1320.000000   \n",
       "mean                   49.130012                75.141590   \n",
       "std                    24.074134                17.080580   \n",
       "min                     2.325959                 7.604224   \n",
       "25%                    27.786903                62.053266   \n",
       "50%                    48.241771                75.682496   \n",
       "75%                    69.277921                88.201370   \n",
       "max                   152.489761               177.708666   \n",
       "\n",
       "       Distance Driven (since last charge) (km)  Temperature (°C)  \\\n",
       "count                               1320.000000       1320.000000   \n",
       "mean                                 153.616948         15.263591   \n",
       "std                                   83.825665         14.831216   \n",
       "min                                    0.862361        -10.724770   \n",
       "25%                                   81.931571          2.800664   \n",
       "50%                                  154.000000         14.630846   \n",
       "75%                                  221.962330         27.981810   \n",
       "max                                  398.364775         73.169588   \n",
       "\n",
       "       Vehicle Age (years)  \n",
       "count          1320.000000  \n",
       "mean              3.612843  \n",
       "std               2.309824  \n",
       "min               0.000000  \n",
       "25%               2.000000  \n",
       "50%               4.000000  \n",
       "75%               6.000000  \n",
       "max              11.688592  "
      ]
     },
     "execution_count": 17,
     "metadata": {},
     "output_type": "execute_result"
    }
   ],
   "source": [
    "df.describe(include='float64')"
   ]
  },
  {
   "cell_type": "code",
   "execution_count": null,
   "id": "e94cac77",
   "metadata": {},
   "outputs": [
    {
     "name": "stdout",
     "output_type": "stream",
     "text": [
      "THE AVERAGE CHARGING DURATION IN HOUR IS: 2\n"
     ]
    }
   ],
   "source": [
    "#Average charging duration in hour\n",
    "avg_chargingduration=round(df['Charging Duration (hours)'].mean())\n",
    "print(\"THE AVERAGE CHARGING DURATION IN HOUR IS:\",avg_chargingduration)"
   ]
  },
  {
   "cell_type": "code",
   "execution_count": null,
   "id": "1615b350",
   "metadata": {},
   "outputs": [
    {
     "name": "stdout",
     "output_type": "stream",
     "text": [
      "THE AVERAGE CHARGING COST IS: 23\n"
     ]
    }
   ],
   "source": [
    "#Average charging cost \n",
    "avg_Chargingcost=round(df['Charging Cost (USD)'].mean())\n",
    "print(\"THE AVERAGE CHARGING COST IS:\",avg_Chargingcost)"
   ]
  },
  {
   "cell_type": "code",
   "execution_count": null,
   "id": "a0af8d55",
   "metadata": {},
   "outputs": [
    {
     "data": {
      "text/html": [
       "<div>\n",
       "<style scoped>\n",
       "    .dataframe tbody tr th:only-of-type {\n",
       "        vertical-align: middle;\n",
       "    }\n",
       "\n",
       "    .dataframe tbody tr th {\n",
       "        vertical-align: top;\n",
       "    }\n",
       "\n",
       "    .dataframe thead th {\n",
       "        text-align: right;\n",
       "    }\n",
       "</style>\n",
       "<table border=\"1\" class=\"dataframe\">\n",
       "  <thead>\n",
       "    <tr style=\"text-align: right;\">\n",
       "      <th></th>\n",
       "      <th>User ID</th>\n",
       "      <th>Vehicle Model</th>\n",
       "      <th>Battery Capacity (kWh)</th>\n",
       "      <th>Charging Station ID</th>\n",
       "      <th>Charging Station Location</th>\n",
       "      <th>Charging Start Time</th>\n",
       "      <th>Charging End Time</th>\n",
       "      <th>Energy Consumed (kWh)</th>\n",
       "      <th>Charging Duration (hours)</th>\n",
       "      <th>Charging Rate (kW)</th>\n",
       "      <th>Charging Cost (USD)</th>\n",
       "      <th>Time of Day</th>\n",
       "      <th>Day of Week</th>\n",
       "      <th>State of Charge (Start %)</th>\n",
       "      <th>State of Charge (End %)</th>\n",
       "      <th>Distance Driven (since last charge) (km)</th>\n",
       "      <th>Temperature (°C)</th>\n",
       "      <th>Vehicle Age (years)</th>\n",
       "      <th>Charger Type</th>\n",
       "      <th>User Type</th>\n",
       "    </tr>\n",
       "  </thead>\n",
       "  <tbody>\n",
       "    <tr>\n",
       "      <th>0</th>\n",
       "      <td>User_1</td>\n",
       "      <td>BMW i3</td>\n",
       "      <td>108.463007</td>\n",
       "      <td>Station_391</td>\n",
       "      <td>Houston</td>\n",
       "      <td>2024-01-01 00:00:00</td>\n",
       "      <td>2024-01-01 00:39:00</td>\n",
       "      <td>60.712346</td>\n",
       "      <td>0.591363</td>\n",
       "      <td>36.389181</td>\n",
       "      <td>13.087717</td>\n",
       "      <td>Evening</td>\n",
       "      <td>Tuesday</td>\n",
       "      <td>29.371576</td>\n",
       "      <td>86.119962</td>\n",
       "      <td>293.602111</td>\n",
       "      <td>27.947953</td>\n",
       "      <td>2.0</td>\n",
       "      <td>DC Fast Charger</td>\n",
       "      <td>Commuter</td>\n",
       "    </tr>\n",
       "    <tr>\n",
       "      <th>1</th>\n",
       "      <td>User_2</td>\n",
       "      <td>Hyundai Kona</td>\n",
       "      <td>100.000000</td>\n",
       "      <td>Station_428</td>\n",
       "      <td>San Francisco</td>\n",
       "      <td>2024-01-01 01:00:00</td>\n",
       "      <td>2024-01-01 03:01:00</td>\n",
       "      <td>12.339275</td>\n",
       "      <td>3.133652</td>\n",
       "      <td>30.677735</td>\n",
       "      <td>21.128448</td>\n",
       "      <td>Morning</td>\n",
       "      <td>Monday</td>\n",
       "      <td>10.115778</td>\n",
       "      <td>84.664344</td>\n",
       "      <td>112.112804</td>\n",
       "      <td>14.311026</td>\n",
       "      <td>3.0</td>\n",
       "      <td>Level 1</td>\n",
       "      <td>Casual Driver</td>\n",
       "    </tr>\n",
       "    <tr>\n",
       "      <th>2</th>\n",
       "      <td>User_3</td>\n",
       "      <td>Chevy Bolt</td>\n",
       "      <td>75.000000</td>\n",
       "      <td>Station_181</td>\n",
       "      <td>San Francisco</td>\n",
       "      <td>2024-01-01 02:00:00</td>\n",
       "      <td>2024-01-01 04:48:00</td>\n",
       "      <td>19.128876</td>\n",
       "      <td>2.452653</td>\n",
       "      <td>27.513593</td>\n",
       "      <td>35.667270</td>\n",
       "      <td>Morning</td>\n",
       "      <td>Thursday</td>\n",
       "      <td>6.854604</td>\n",
       "      <td>69.917615</td>\n",
       "      <td>71.799253</td>\n",
       "      <td>21.002002</td>\n",
       "      <td>2.0</td>\n",
       "      <td>Level 2</td>\n",
       "      <td>Commuter</td>\n",
       "    </tr>\n",
       "    <tr>\n",
       "      <th>3</th>\n",
       "      <td>User_4</td>\n",
       "      <td>Hyundai Kona</td>\n",
       "      <td>50.000000</td>\n",
       "      <td>Station_327</td>\n",
       "      <td>Houston</td>\n",
       "      <td>2024-01-01 03:00:00</td>\n",
       "      <td>2024-01-01 06:42:00</td>\n",
       "      <td>79.457824</td>\n",
       "      <td>1.266431</td>\n",
       "      <td>32.882870</td>\n",
       "      <td>13.036239</td>\n",
       "      <td>Evening</td>\n",
       "      <td>Saturday</td>\n",
       "      <td>83.120003</td>\n",
       "      <td>99.624328</td>\n",
       "      <td>199.577785</td>\n",
       "      <td>38.316313</td>\n",
       "      <td>1.0</td>\n",
       "      <td>Level 1</td>\n",
       "      <td>Long-Distance Traveler</td>\n",
       "    </tr>\n",
       "    <tr>\n",
       "      <th>4</th>\n",
       "      <td>User_5</td>\n",
       "      <td>Hyundai Kona</td>\n",
       "      <td>50.000000</td>\n",
       "      <td>Station_108</td>\n",
       "      <td>Los Angeles</td>\n",
       "      <td>2024-01-01 04:00:00</td>\n",
       "      <td>2024-01-01 05:46:00</td>\n",
       "      <td>19.629104</td>\n",
       "      <td>2.019765</td>\n",
       "      <td>10.215712</td>\n",
       "      <td>10.161471</td>\n",
       "      <td>Morning</td>\n",
       "      <td>Saturday</td>\n",
       "      <td>54.258950</td>\n",
       "      <td>63.743786</td>\n",
       "      <td>203.661847</td>\n",
       "      <td>-7.834199</td>\n",
       "      <td>1.0</td>\n",
       "      <td>Level 1</td>\n",
       "      <td>Long-Distance Traveler</td>\n",
       "    </tr>\n",
       "    <tr>\n",
       "      <th>...</th>\n",
       "      <td>...</td>\n",
       "      <td>...</td>\n",
       "      <td>...</td>\n",
       "      <td>...</td>\n",
       "      <td>...</td>\n",
       "      <td>...</td>\n",
       "      <td>...</td>\n",
       "      <td>...</td>\n",
       "      <td>...</td>\n",
       "      <td>...</td>\n",
       "      <td>...</td>\n",
       "      <td>...</td>\n",
       "      <td>...</td>\n",
       "      <td>...</td>\n",
       "      <td>...</td>\n",
       "      <td>...</td>\n",
       "      <td>...</td>\n",
       "      <td>...</td>\n",
       "      <td>...</td>\n",
       "      <td>...</td>\n",
       "    </tr>\n",
       "    <tr>\n",
       "      <th>1315</th>\n",
       "      <td>User_1316</td>\n",
       "      <td>Nissan Leaf</td>\n",
       "      <td>100.000000</td>\n",
       "      <td>Station_57</td>\n",
       "      <td>New York</td>\n",
       "      <td>2024-02-24 19:00:00</td>\n",
       "      <td>2024-02-24 20:30:00</td>\n",
       "      <td>42.011654</td>\n",
       "      <td>1.426444</td>\n",
       "      <td>5.895475</td>\n",
       "      <td>22.081164</td>\n",
       "      <td>Evening</td>\n",
       "      <td>Sunday</td>\n",
       "      <td>39.204102</td>\n",
       "      <td>83.915952</td>\n",
       "      <td>239.601075</td>\n",
       "      <td>1.919655</td>\n",
       "      <td>7.0</td>\n",
       "      <td>DC Fast Charger</td>\n",
       "      <td>Commuter</td>\n",
       "    </tr>\n",
       "    <tr>\n",
       "      <th>1316</th>\n",
       "      <td>User_1317</td>\n",
       "      <td>BMW i3</td>\n",
       "      <td>100.000000</td>\n",
       "      <td>Station_40</td>\n",
       "      <td>New York</td>\n",
       "      <td>2024-02-24 20:00:00</td>\n",
       "      <td>2024-02-24 20:44:00</td>\n",
       "      <td>68.185853</td>\n",
       "      <td>3.238212</td>\n",
       "      <td>18.388012</td>\n",
       "      <td>5.067806</td>\n",
       "      <td>Evening</td>\n",
       "      <td>Tuesday</td>\n",
       "      <td>31.456375</td>\n",
       "      <td>93.096461</td>\n",
       "      <td>164.376022</td>\n",
       "      <td>34.029775</td>\n",
       "      <td>4.0</td>\n",
       "      <td>Level 2</td>\n",
       "      <td>Casual Driver</td>\n",
       "    </tr>\n",
       "    <tr>\n",
       "      <th>1317</th>\n",
       "      <td>User_1318</td>\n",
       "      <td>Nissan Leaf</td>\n",
       "      <td>100.000000</td>\n",
       "      <td>Station_374</td>\n",
       "      <td>New York</td>\n",
       "      <td>2024-02-24 21:00:00</td>\n",
       "      <td>2024-02-24 23:03:00</td>\n",
       "      <td>18.895102</td>\n",
       "      <td>3.267122</td>\n",
       "      <td>45.482066</td>\n",
       "      <td>37.255002</td>\n",
       "      <td>Evening</td>\n",
       "      <td>Tuesday</td>\n",
       "      <td>71.903081</td>\n",
       "      <td>78.678879</td>\n",
       "      <td>226.519258</td>\n",
       "      <td>20.358761</td>\n",
       "      <td>5.0</td>\n",
       "      <td>DC Fast Charger</td>\n",
       "      <td>Commuter</td>\n",
       "    </tr>\n",
       "    <tr>\n",
       "      <th>1318</th>\n",
       "      <td>User_1319</td>\n",
       "      <td>Chevy Bolt</td>\n",
       "      <td>85.000000</td>\n",
       "      <td>Station_336</td>\n",
       "      <td>San Francisco</td>\n",
       "      <td>2024-02-24 22:00:00</td>\n",
       "      <td>2024-02-24 23:20:00</td>\n",
       "      <td>13.756252</td>\n",
       "      <td>2.754527</td>\n",
       "      <td>38.148183</td>\n",
       "      <td>39.046146</td>\n",
       "      <td>Afternoon</td>\n",
       "      <td>Sunday</td>\n",
       "      <td>76.187997</td>\n",
       "      <td>65.926573</td>\n",
       "      <td>291.494076</td>\n",
       "      <td>24.134598</td>\n",
       "      <td>5.0</td>\n",
       "      <td>Level 2</td>\n",
       "      <td>Commuter</td>\n",
       "    </tr>\n",
       "    <tr>\n",
       "      <th>1319</th>\n",
       "      <td>User_1320</td>\n",
       "      <td>Nissan Leaf</td>\n",
       "      <td>120.447195</td>\n",
       "      <td>Station_128</td>\n",
       "      <td>Los Angeles</td>\n",
       "      <td>2024-02-24 23:00:00</td>\n",
       "      <td>2024-02-24 23:56:00</td>\n",
       "      <td>63.652570</td>\n",
       "      <td>3.740970</td>\n",
       "      <td>33.704226</td>\n",
       "      <td>10.863674</td>\n",
       "      <td>Evening</td>\n",
       "      <td>Monday</td>\n",
       "      <td>59.338076</td>\n",
       "      <td>56.692439</td>\n",
       "      <td>14.449236</td>\n",
       "      <td>-6.966593</td>\n",
       "      <td>5.0</td>\n",
       "      <td>DC Fast Charger</td>\n",
       "      <td>Commuter</td>\n",
       "    </tr>\n",
       "  </tbody>\n",
       "</table>\n",
       "<p>1320 rows × 20 columns</p>\n",
       "</div>"
      ],
      "text/plain": [
       "        User ID Vehicle Model  Battery Capacity (kWh) Charging Station ID  \\\n",
       "0        User_1        BMW i3              108.463007         Station_391   \n",
       "1        User_2  Hyundai Kona              100.000000         Station_428   \n",
       "2        User_3    Chevy Bolt               75.000000         Station_181   \n",
       "3        User_4  Hyundai Kona               50.000000         Station_327   \n",
       "4        User_5  Hyundai Kona               50.000000         Station_108   \n",
       "...         ...           ...                     ...                 ...   \n",
       "1315  User_1316   Nissan Leaf              100.000000          Station_57   \n",
       "1316  User_1317        BMW i3              100.000000          Station_40   \n",
       "1317  User_1318   Nissan Leaf              100.000000         Station_374   \n",
       "1318  User_1319    Chevy Bolt               85.000000         Station_336   \n",
       "1319  User_1320   Nissan Leaf              120.447195         Station_128   \n",
       "\n",
       "     Charging Station Location  Charging Start Time    Charging End Time  \\\n",
       "0                      Houston  2024-01-01 00:00:00  2024-01-01 00:39:00   \n",
       "1                San Francisco  2024-01-01 01:00:00  2024-01-01 03:01:00   \n",
       "2                San Francisco  2024-01-01 02:00:00  2024-01-01 04:48:00   \n",
       "3                      Houston  2024-01-01 03:00:00  2024-01-01 06:42:00   \n",
       "4                  Los Angeles  2024-01-01 04:00:00  2024-01-01 05:46:00   \n",
       "...                        ...                  ...                  ...   \n",
       "1315                  New York  2024-02-24 19:00:00  2024-02-24 20:30:00   \n",
       "1316                  New York  2024-02-24 20:00:00  2024-02-24 20:44:00   \n",
       "1317                  New York  2024-02-24 21:00:00  2024-02-24 23:03:00   \n",
       "1318             San Francisco  2024-02-24 22:00:00  2024-02-24 23:20:00   \n",
       "1319               Los Angeles  2024-02-24 23:00:00  2024-02-24 23:56:00   \n",
       "\n",
       "      Energy Consumed (kWh)  Charging Duration (hours)  Charging Rate (kW)  \\\n",
       "0                 60.712346                   0.591363           36.389181   \n",
       "1                 12.339275                   3.133652           30.677735   \n",
       "2                 19.128876                   2.452653           27.513593   \n",
       "3                 79.457824                   1.266431           32.882870   \n",
       "4                 19.629104                   2.019765           10.215712   \n",
       "...                     ...                        ...                 ...   \n",
       "1315              42.011654                   1.426444            5.895475   \n",
       "1316              68.185853                   3.238212           18.388012   \n",
       "1317              18.895102                   3.267122           45.482066   \n",
       "1318              13.756252                   2.754527           38.148183   \n",
       "1319              63.652570                   3.740970           33.704226   \n",
       "\n",
       "      Charging Cost (USD) Time of Day Day of Week  State of Charge (Start %)  \\\n",
       "0               13.087717     Evening     Tuesday                  29.371576   \n",
       "1               21.128448     Morning      Monday                  10.115778   \n",
       "2               35.667270     Morning    Thursday                   6.854604   \n",
       "3               13.036239     Evening    Saturday                  83.120003   \n",
       "4               10.161471     Morning    Saturday                  54.258950   \n",
       "...                   ...         ...         ...                        ...   \n",
       "1315            22.081164     Evening      Sunday                  39.204102   \n",
       "1316             5.067806     Evening     Tuesday                  31.456375   \n",
       "1317            37.255002     Evening     Tuesday                  71.903081   \n",
       "1318            39.046146   Afternoon      Sunday                  76.187997   \n",
       "1319            10.863674     Evening      Monday                  59.338076   \n",
       "\n",
       "      State of Charge (End %)  Distance Driven (since last charge) (km)  \\\n",
       "0                   86.119962                                293.602111   \n",
       "1                   84.664344                                112.112804   \n",
       "2                   69.917615                                 71.799253   \n",
       "3                   99.624328                                199.577785   \n",
       "4                   63.743786                                203.661847   \n",
       "...                       ...                                       ...   \n",
       "1315                83.915952                                239.601075   \n",
       "1316                93.096461                                164.376022   \n",
       "1317                78.678879                                226.519258   \n",
       "1318                65.926573                                291.494076   \n",
       "1319                56.692439                                 14.449236   \n",
       "\n",
       "      Temperature (°C)  Vehicle Age (years)     Charger Type  \\\n",
       "0            27.947953                  2.0  DC Fast Charger   \n",
       "1            14.311026                  3.0          Level 1   \n",
       "2            21.002002                  2.0          Level 2   \n",
       "3            38.316313                  1.0          Level 1   \n",
       "4            -7.834199                  1.0          Level 1   \n",
       "...                ...                  ...              ...   \n",
       "1315          1.919655                  7.0  DC Fast Charger   \n",
       "1316         34.029775                  4.0          Level 2   \n",
       "1317         20.358761                  5.0  DC Fast Charger   \n",
       "1318         24.134598                  5.0          Level 2   \n",
       "1319         -6.966593                  5.0  DC Fast Charger   \n",
       "\n",
       "                   User Type  \n",
       "0                   Commuter  \n",
       "1              Casual Driver  \n",
       "2                   Commuter  \n",
       "3     Long-Distance Traveler  \n",
       "4     Long-Distance Traveler  \n",
       "...                      ...  \n",
       "1315                Commuter  \n",
       "1316           Casual Driver  \n",
       "1317                Commuter  \n",
       "1318                Commuter  \n",
       "1319                Commuter  \n",
       "\n",
       "[1320 rows x 20 columns]"
      ]
     },
     "execution_count": 20,
     "metadata": {},
     "output_type": "execute_result"
    }
   ],
   "source": [
    "df"
   ]
  },
  {
   "cell_type": "code",
   "execution_count": null,
   "id": "9839135b",
   "metadata": {},
   "outputs": [
    {
     "data": {
      "application/vnd.plotly.v1+json": {
       "config": {
        "plotlyServerURL": "https://plot.ly"
       },
       "data": [
        {
         "hovertemplate": "Vehicle Model=%{x}<br>Charging Cost (USD)=%{y}<extra></extra>",
         "legendgroup": "",
         "marker": {
          "color": "#636efa",
          "pattern": {
           "shape": ""
          }
         },
         "name": "",
         "orientation": "v",
         "showlegend": false,
         "textposition": "auto",
         "type": "bar",
         "x": [
          "BMW i3",
          "Chevy Bolt",
          "Hyundai Kona",
          "Nissan Leaf",
          "Tesla Model 3"
         ],
         "xaxis": "x",
         "y": {
          "bdata": "S2q+jwnINECg1F9AqUM2QOJzs/qibzdAKEQkmJinN0Dzn+oBZpQ2QA==",
          "dtype": "f8"
         },
         "yaxis": "y"
        }
       ],
       "layout": {
        "barmode": "relative",
        "legend": {
         "tracegroupgap": 0
        },
        "template": {
         "data": {
          "bar": [
           {
            "error_x": {
             "color": "#2a3f5f"
            },
            "error_y": {
             "color": "#2a3f5f"
            },
            "marker": {
             "line": {
              "color": "#E5ECF6",
              "width": 0.5
             },
             "pattern": {
              "fillmode": "overlay",
              "size": 10,
              "solidity": 0.2
             }
            },
            "type": "bar"
           }
          ],
          "barpolar": [
           {
            "marker": {
             "line": {
              "color": "#E5ECF6",
              "width": 0.5
             },
             "pattern": {
              "fillmode": "overlay",
              "size": 10,
              "solidity": 0.2
             }
            },
            "type": "barpolar"
           }
          ],
          "carpet": [
           {
            "aaxis": {
             "endlinecolor": "#2a3f5f",
             "gridcolor": "white",
             "linecolor": "white",
             "minorgridcolor": "white",
             "startlinecolor": "#2a3f5f"
            },
            "baxis": {
             "endlinecolor": "#2a3f5f",
             "gridcolor": "white",
             "linecolor": "white",
             "minorgridcolor": "white",
             "startlinecolor": "#2a3f5f"
            },
            "type": "carpet"
           }
          ],
          "choropleth": [
           {
            "colorbar": {
             "outlinewidth": 0,
             "ticks": ""
            },
            "type": "choropleth"
           }
          ],
          "contour": [
           {
            "colorbar": {
             "outlinewidth": 0,
             "ticks": ""
            },
            "colorscale": [
             [
              0,
              "#0d0887"
             ],
             [
              0.1111111111111111,
              "#46039f"
             ],
             [
              0.2222222222222222,
              "#7201a8"
             ],
             [
              0.3333333333333333,
              "#9c179e"
             ],
             [
              0.4444444444444444,
              "#bd3786"
             ],
             [
              0.5555555555555556,
              "#d8576b"
             ],
             [
              0.6666666666666666,
              "#ed7953"
             ],
             [
              0.7777777777777778,
              "#fb9f3a"
             ],
             [
              0.8888888888888888,
              "#fdca26"
             ],
             [
              1,
              "#f0f921"
             ]
            ],
            "type": "contour"
           }
          ],
          "contourcarpet": [
           {
            "colorbar": {
             "outlinewidth": 0,
             "ticks": ""
            },
            "type": "contourcarpet"
           }
          ],
          "heatmap": [
           {
            "colorbar": {
             "outlinewidth": 0,
             "ticks": ""
            },
            "colorscale": [
             [
              0,
              "#0d0887"
             ],
             [
              0.1111111111111111,
              "#46039f"
             ],
             [
              0.2222222222222222,
              "#7201a8"
             ],
             [
              0.3333333333333333,
              "#9c179e"
             ],
             [
              0.4444444444444444,
              "#bd3786"
             ],
             [
              0.5555555555555556,
              "#d8576b"
             ],
             [
              0.6666666666666666,
              "#ed7953"
             ],
             [
              0.7777777777777778,
              "#fb9f3a"
             ],
             [
              0.8888888888888888,
              "#fdca26"
             ],
             [
              1,
              "#f0f921"
             ]
            ],
            "type": "heatmap"
           }
          ],
          "histogram": [
           {
            "marker": {
             "pattern": {
              "fillmode": "overlay",
              "size": 10,
              "solidity": 0.2
             }
            },
            "type": "histogram"
           }
          ],
          "histogram2d": [
           {
            "colorbar": {
             "outlinewidth": 0,
             "ticks": ""
            },
            "colorscale": [
             [
              0,
              "#0d0887"
             ],
             [
              0.1111111111111111,
              "#46039f"
             ],
             [
              0.2222222222222222,
              "#7201a8"
             ],
             [
              0.3333333333333333,
              "#9c179e"
             ],
             [
              0.4444444444444444,
              "#bd3786"
             ],
             [
              0.5555555555555556,
              "#d8576b"
             ],
             [
              0.6666666666666666,
              "#ed7953"
             ],
             [
              0.7777777777777778,
              "#fb9f3a"
             ],
             [
              0.8888888888888888,
              "#fdca26"
             ],
             [
              1,
              "#f0f921"
             ]
            ],
            "type": "histogram2d"
           }
          ],
          "histogram2dcontour": [
           {
            "colorbar": {
             "outlinewidth": 0,
             "ticks": ""
            },
            "colorscale": [
             [
              0,
              "#0d0887"
             ],
             [
              0.1111111111111111,
              "#46039f"
             ],
             [
              0.2222222222222222,
              "#7201a8"
             ],
             [
              0.3333333333333333,
              "#9c179e"
             ],
             [
              0.4444444444444444,
              "#bd3786"
             ],
             [
              0.5555555555555556,
              "#d8576b"
             ],
             [
              0.6666666666666666,
              "#ed7953"
             ],
             [
              0.7777777777777778,
              "#fb9f3a"
             ],
             [
              0.8888888888888888,
              "#fdca26"
             ],
             [
              1,
              "#f0f921"
             ]
            ],
            "type": "histogram2dcontour"
           }
          ],
          "mesh3d": [
           {
            "colorbar": {
             "outlinewidth": 0,
             "ticks": ""
            },
            "type": "mesh3d"
           }
          ],
          "parcoords": [
           {
            "line": {
             "colorbar": {
              "outlinewidth": 0,
              "ticks": ""
             }
            },
            "type": "parcoords"
           }
          ],
          "pie": [
           {
            "automargin": true,
            "type": "pie"
           }
          ],
          "scatter": [
           {
            "fillpattern": {
             "fillmode": "overlay",
             "size": 10,
             "solidity": 0.2
            },
            "type": "scatter"
           }
          ],
          "scatter3d": [
           {
            "line": {
             "colorbar": {
              "outlinewidth": 0,
              "ticks": ""
             }
            },
            "marker": {
             "colorbar": {
              "outlinewidth": 0,
              "ticks": ""
             }
            },
            "type": "scatter3d"
           }
          ],
          "scattercarpet": [
           {
            "marker": {
             "colorbar": {
              "outlinewidth": 0,
              "ticks": ""
             }
            },
            "type": "scattercarpet"
           }
          ],
          "scattergeo": [
           {
            "marker": {
             "colorbar": {
              "outlinewidth": 0,
              "ticks": ""
             }
            },
            "type": "scattergeo"
           }
          ],
          "scattergl": [
           {
            "marker": {
             "colorbar": {
              "outlinewidth": 0,
              "ticks": ""
             }
            },
            "type": "scattergl"
           }
          ],
          "scattermap": [
           {
            "marker": {
             "colorbar": {
              "outlinewidth": 0,
              "ticks": ""
             }
            },
            "type": "scattermap"
           }
          ],
          "scattermapbox": [
           {
            "marker": {
             "colorbar": {
              "outlinewidth": 0,
              "ticks": ""
             }
            },
            "type": "scattermapbox"
           }
          ],
          "scatterpolar": [
           {
            "marker": {
             "colorbar": {
              "outlinewidth": 0,
              "ticks": ""
             }
            },
            "type": "scatterpolar"
           }
          ],
          "scatterpolargl": [
           {
            "marker": {
             "colorbar": {
              "outlinewidth": 0,
              "ticks": ""
             }
            },
            "type": "scatterpolargl"
           }
          ],
          "scatterternary": [
           {
            "marker": {
             "colorbar": {
              "outlinewidth": 0,
              "ticks": ""
             }
            },
            "type": "scatterternary"
           }
          ],
          "surface": [
           {
            "colorbar": {
             "outlinewidth": 0,
             "ticks": ""
            },
            "colorscale": [
             [
              0,
              "#0d0887"
             ],
             [
              0.1111111111111111,
              "#46039f"
             ],
             [
              0.2222222222222222,
              "#7201a8"
             ],
             [
              0.3333333333333333,
              "#9c179e"
             ],
             [
              0.4444444444444444,
              "#bd3786"
             ],
             [
              0.5555555555555556,
              "#d8576b"
             ],
             [
              0.6666666666666666,
              "#ed7953"
             ],
             [
              0.7777777777777778,
              "#fb9f3a"
             ],
             [
              0.8888888888888888,
              "#fdca26"
             ],
             [
              1,
              "#f0f921"
             ]
            ],
            "type": "surface"
           }
          ],
          "table": [
           {
            "cells": {
             "fill": {
              "color": "#EBF0F8"
             },
             "line": {
              "color": "white"
             }
            },
            "header": {
             "fill": {
              "color": "#C8D4E3"
             },
             "line": {
              "color": "white"
             }
            },
            "type": "table"
           }
          ]
         },
         "layout": {
          "annotationdefaults": {
           "arrowcolor": "#2a3f5f",
           "arrowhead": 0,
           "arrowwidth": 1
          },
          "autotypenumbers": "strict",
          "coloraxis": {
           "colorbar": {
            "outlinewidth": 0,
            "ticks": ""
           }
          },
          "colorscale": {
           "diverging": [
            [
             0,
             "#8e0152"
            ],
            [
             0.1,
             "#c51b7d"
            ],
            [
             0.2,
             "#de77ae"
            ],
            [
             0.3,
             "#f1b6da"
            ],
            [
             0.4,
             "#fde0ef"
            ],
            [
             0.5,
             "#f7f7f7"
            ],
            [
             0.6,
             "#e6f5d0"
            ],
            [
             0.7,
             "#b8e186"
            ],
            [
             0.8,
             "#7fbc41"
            ],
            [
             0.9,
             "#4d9221"
            ],
            [
             1,
             "#276419"
            ]
           ],
           "sequential": [
            [
             0,
             "#0d0887"
            ],
            [
             0.1111111111111111,
             "#46039f"
            ],
            [
             0.2222222222222222,
             "#7201a8"
            ],
            [
             0.3333333333333333,
             "#9c179e"
            ],
            [
             0.4444444444444444,
             "#bd3786"
            ],
            [
             0.5555555555555556,
             "#d8576b"
            ],
            [
             0.6666666666666666,
             "#ed7953"
            ],
            [
             0.7777777777777778,
             "#fb9f3a"
            ],
            [
             0.8888888888888888,
             "#fdca26"
            ],
            [
             1,
             "#f0f921"
            ]
           ],
           "sequentialminus": [
            [
             0,
             "#0d0887"
            ],
            [
             0.1111111111111111,
             "#46039f"
            ],
            [
             0.2222222222222222,
             "#7201a8"
            ],
            [
             0.3333333333333333,
             "#9c179e"
            ],
            [
             0.4444444444444444,
             "#bd3786"
            ],
            [
             0.5555555555555556,
             "#d8576b"
            ],
            [
             0.6666666666666666,
             "#ed7953"
            ],
            [
             0.7777777777777778,
             "#fb9f3a"
            ],
            [
             0.8888888888888888,
             "#fdca26"
            ],
            [
             1,
             "#f0f921"
            ]
           ]
          },
          "colorway": [
           "#636efa",
           "#EF553B",
           "#00cc96",
           "#ab63fa",
           "#FFA15A",
           "#19d3f3",
           "#FF6692",
           "#B6E880",
           "#FF97FF",
           "#FECB52"
          ],
          "font": {
           "color": "#2a3f5f"
          },
          "geo": {
           "bgcolor": "white",
           "lakecolor": "white",
           "landcolor": "#E5ECF6",
           "showlakes": true,
           "showland": true,
           "subunitcolor": "white"
          },
          "hoverlabel": {
           "align": "left"
          },
          "hovermode": "closest",
          "mapbox": {
           "style": "light"
          },
          "paper_bgcolor": "white",
          "plot_bgcolor": "#E5ECF6",
          "polar": {
           "angularaxis": {
            "gridcolor": "white",
            "linecolor": "white",
            "ticks": ""
           },
           "bgcolor": "#E5ECF6",
           "radialaxis": {
            "gridcolor": "white",
            "linecolor": "white",
            "ticks": ""
           }
          },
          "scene": {
           "xaxis": {
            "backgroundcolor": "#E5ECF6",
            "gridcolor": "white",
            "gridwidth": 2,
            "linecolor": "white",
            "showbackground": true,
            "ticks": "",
            "zerolinecolor": "white"
           },
           "yaxis": {
            "backgroundcolor": "#E5ECF6",
            "gridcolor": "white",
            "gridwidth": 2,
            "linecolor": "white",
            "showbackground": true,
            "ticks": "",
            "zerolinecolor": "white"
           },
           "zaxis": {
            "backgroundcolor": "#E5ECF6",
            "gridcolor": "white",
            "gridwidth": 2,
            "linecolor": "white",
            "showbackground": true,
            "ticks": "",
            "zerolinecolor": "white"
           }
          },
          "shapedefaults": {
           "line": {
            "color": "#2a3f5f"
           }
          },
          "ternary": {
           "aaxis": {
            "gridcolor": "white",
            "linecolor": "white",
            "ticks": ""
           },
           "baxis": {
            "gridcolor": "white",
            "linecolor": "white",
            "ticks": ""
           },
           "bgcolor": "#E5ECF6",
           "caxis": {
            "gridcolor": "white",
            "linecolor": "white",
            "ticks": ""
           }
          },
          "title": {
           "x": 0.05
          },
          "xaxis": {
           "automargin": true,
           "gridcolor": "white",
           "linecolor": "white",
           "ticks": "",
           "title": {
            "standoff": 15
           },
           "zerolinecolor": "white",
           "zerolinewidth": 2
          },
          "yaxis": {
           "automargin": true,
           "gridcolor": "white",
           "linecolor": "white",
           "ticks": "",
           "title": {
            "standoff": 15
           },
           "zerolinecolor": "white",
           "zerolinewidth": 2
          }
         }
        },
        "title": {
         "text": "Average Charging Cost by Vehicle Model"
        },
        "xaxis": {
         "anchor": "y",
         "domain": [
          0,
          1
         ],
         "title": {
          "text": "Vehicle Model"
         }
        },
        "yaxis": {
         "anchor": "x",
         "domain": [
          0,
          1
         ],
         "title": {
          "text": "Charging Cost (USD)"
         }
        }
       }
      }
     },
     "metadata": {},
     "output_type": "display_data"
    }
   ],
   "source": [
    "avg_cost_model = df.groupby(\"Vehicle Model\")[\"Charging Cost (USD)\"].mean().reset_index()\n",
    "fig1 = px.bar(avg_cost_model, x=\"Vehicle Model\", y=\"Charging Cost (USD)\", \n",
    "              title=\"Average Charging Cost by Vehicle Model\")\n",
    "fig1.show()\n"
   ]
  },
  {
   "cell_type": "code",
   "execution_count": null,
   "id": "b23c0957",
   "metadata": {},
   "outputs": [
    {
     "data": {
      "application/vnd.plotly.v1+json": {
       "config": {
        "plotlyServerURL": "https://plot.ly"
       },
       "data": [
        {
         "hovertemplate": "Vehicle Model=BMW i3<br>Temperature (°C)=%{x}<br>Energy Consumed (kWh)=%{y}<extra></extra>",
         "legendgroup": "BMW i3",
         "marker": {
          "color": "#636efa",
          "symbol": "circle"
         },
         "mode": "markers",
         "name": "BMW i3",
         "showlegend": true,
         "type": "scattergl",
         "x": {
          "bdata": "7s4sDa3yO0AAxxxAjQPgPzozvXGywENAhDvnKkypEUDWVvREomciQJQ5P3W++kNAXyCmdelgNECkgH1rtaooQF0+8QdwLwJA+swzXiexQ0C8WyUj2J1BQMiEM8dDtUNAGstiSyeDFUAlILbZJbE+QBox00fEDv8/8NSfL7HgHsBjhscSa9kkQMR62XrsShRAbWe1VyZtQECn+WXlvqJBQOBRwfPoiTJAQH1C0pnMBcDdLW5KbOpDQPQL4BghuxPAqLnT5wkfLkBOlHw3xw4awOaX3qgN+jxAT/VcjFZEO0Dg1Xyv2dYqQEAh0VlvkjZAHrq+I9DoFkBAiXOgMnrxv4EXDnvRhTFA0l9YsFL8M0DcvkYmlxIgwHcoRj/ReSlAP5r7KntlQUCLXXnh63tDQARX8tYjDBNAhkvwtnQwM0C9Tem61+tCQEjRyv1NQilAclaeiUr8JkDU0K1436ocQI5+WxbEbDFAFFFHnp6fNEBeOlDomeImQJFrSdXetP0/642+sv+4FsDHHIQe0EMzQLGUAvNi9TVAzIkvpMGPPUA6gZsTo+85QODIIKq6qixA3AQf1OZ0G0Bcpb4b59sKwJTQKR548D1AEa8bSTl1/79mlWBPV3UnQACIGXnhOvW/aJJP+CwhMkBedM5isb0pQMQjhiH8vzVAz3skgoZM8T+qnU7Q/9EqQI87dD+15kNAnGJQG6ZTBkBscFmPNvgHwIk6fj7ynTpA/MqtrHO/H0B8lE+ROl8TwMLEuFBtyiLArre8f5AUNUB0UW+bDawXQDS5YzLksTpAYNVyMQODOkA82BeECqkgQIH/0dBwjSxAPBFNIsr9GEAAWyctqdSgv4IurEyXIDlAkTr2Sk6UK0BKEnoGSB09QOBtJwAGwQRA20RdjA8cOUDoou2mUTvzPyFhOfwuekFA+N2G9h0mQUARXmZKyjUvQOu03nWww0JA142XEim39j97KDMuq29DQCyJoNqgfhHAQbvEZ+XlPEBgLstHUmkJwFgUc2tzMDZAfHYTzH8EQkDi++hQ6EY1QMTiHlrxZSBAmCQ6c6X1MkCN6ygH3DlDQF4vXDU24RJAgyMev5s8QEDIr6FcXw4VQNCB8gN+bvu/mQXBH5zWK0C2321LY3oQwBCQ4WSGZfi/Bm6M1FYnOkB+WLHFKBMgwLurdbPIwQDAeJ7q/joqHkC4zUpwZDQmQIq3JRmeci9A5DxNClUUQkDuFT8j+KYVQKEdzsX0NjlA0AkVORtaOkA2Nih47VBBQDCTxmKsYvW/AJ79eNcBHkAOZQQdZ3IgQGNovNSb8DxA94cLy3OmI8CyuUXnXLYuQBLQl5H29DtAwK4+bz5T8j9N7s7welYoQH0HjIGO+so/Are8VRq9MUAeoM+xhW3+PwBGGV1SySNArStdL7WGNUD2/3KywW4lQAT9Q4NzFihARfw8ecEHQEDg0V4ra/rXPw0zuF52p0FA9h5NY6tZK0CGdLaYMJg2QHywqhVOsCJAEvXkKa2tNEANZpsKFhQ1QBRpX6ITVx1AnuYLOUbNEkC8N3rX/YQ1QAreOOj6ZD1A6nynH1j4E8C3LkNYCvdDQJULJwcJSzVADTYxeSQfQ0DBP9TOv1EXwDKi35zMgjBAgIOodxV9+r89Z5KMPTA+QN7wS2CWZTFA7nFKkCyQP0A9yvfw9FJDQL2qZdbISjtApD6ETZsZCkDgmZb4LBvhP9fs5Futr0NAmEl325BCIcAIXMk7KDYYwLCsCj5hVTxApGRhQNpcOUCIT/qeK9YpQBCQoDlKK+k/9pFd6/SDNECCTp1xrqcewNgGawPQahNA5IAHtGcBMEBhpY1Zvx8GQBo6NQUVcyXA6RJeRjmtAcCMAb2WeskxQAC20j1ofhDAxI2cMRGdL0C4LHo4kKgWQANzHBR2RjtA9Hs9QGG5BEAJDbEyhA0wQOIrX/2K+SlALXM/P2gaM0BfCLPGVa/fvwwKz7GMOS9Ai7gc+rAXM0DO9bhEmRE5QPZL95RXCS1AhQGWkTzAQECNcHLTXsVDQBJzbMK5rUBAA6jW2ZYGQEC5poFjQ8FBQFWdmKQAUCFAcRbc8wIoN0B4UcP/5EMZQEyb5pkR6ThANMiC5gDKEMDI+G1UhohCQH7fbqmUScG/ToiuJ9pNNUDJvTUQEzUjwGiKt9cgFwvA0CiQjUMzG0Dnz6CUoDYawOlyleZqej9ATdzDo+kZEcDVErTQD9g8QFFMTG5180JAT20SHBvt7r+QVIaLHX0/QJVsaZMZhT5ATKH1PF6YPUDWK5YSfQI7QLCk85pns0FAvs4NN3/DN0BBqeLoUw3/P9Ty/FkixydAPo45+o9jFEDQB1MScMYxQACD80LJNDZABwkLzrK/MkAXDj/sgnIgQPKE1jIjGEFAfnx6xD5GFMDQqXxDR3Q9QLmSVJ1hS0NAKdTtqS6mI8ByiZPlPdMgQEvyCzCAMDdAlhqOjrlaP0DSZjk2g+ghQIYjuL19vyDAsrv1spEpBcCLEg+MYPJAQAgTwUddlx7AIK6ECr+M1b9Vz28ingMRwO2teorlaCRARhPnJQZmEkCq5lmlD7UmQHRc9X3Mlj9AxVEEW9SMEMBBSvX6F/UJwLCWkTxX40FAcNkeikdr5T+SZSGiYGHsvxDBL/Z7fATA/s/Xim3kMEDBz4pb1F8JQAzEZjIgkxhA0OcedFi/5j/KKBYxEjYQwGviXOtBIg9ADDDEXvOZN0ClfV1na7I1QK6lyqfPA0FA",
          "dtype": "f8"
         },
         "xaxis": "x",
         "y": {
          "bdata": "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",
          "dtype": "f8"
         },
         "yaxis": "y"
        },
        {
         "hovertemplate": "Vehicle Model=Hyundai Kona<br>Temperature (°C)=%{x}<br>Energy Consumed (kWh)=%{y}<extra></extra>",
         "legendgroup": "Hyundai Kona",
         "marker": {
          "color": "#EF553B",
          "symbol": "circle"
         },
         "mode": "markers",
         "name": "Hyundai Kona",
         "showlegend": true,
         "type": "scattergl",
         "x": {
          "bdata": "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",
          "dtype": "f8"
         },
         "xaxis": "x",
         "y": {
          "bdata": "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",
          "dtype": "f8"
         },
         "yaxis": "y"
        },
        {
         "hovertemplate": "Vehicle Model=Chevy Bolt<br>Temperature (°C)=%{x}<br>Energy Consumed (kWh)=%{y}<extra></extra>",
         "legendgroup": "Chevy Bolt",
         "marker": {
          "color": "#00cc96",
          "symbol": "circle"
         },
         "mode": "markers",
         "name": "Chevy Bolt",
         "showlegend": true,
         "type": "scattergl",
         "x": {
          "bdata": "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",
          "dtype": "f8"
         },
         "xaxis": "x",
         "y": {
          "bdata": "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",
          "dtype": "f8"
         },
         "yaxis": "y"
        },
        {
         "hovertemplate": "Vehicle Model=Nissan Leaf<br>Temperature (°C)=%{x}<br>Energy Consumed (kWh)=%{y}<extra></extra>",
         "legendgroup": "Nissan Leaf",
         "marker": {
          "color": "#ab63fa",
          "symbol": "circle"
         },
         "mode": "markers",
         "name": "Nissan Leaf",
         "showlegend": true,
         "type": "scattergl",
         "x": {
          "bdata": "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",
          "dtype": "f8"
         },
         "xaxis": "x",
         "y": {
          "bdata": "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",
          "dtype": "f8"
         },
         "yaxis": "y"
        },
        {
         "hovertemplate": "Vehicle Model=Tesla Model 3<br>Temperature (°C)=%{x}<br>Energy Consumed (kWh)=%{y}<extra></extra>",
         "legendgroup": "Tesla Model 3",
         "marker": {
          "color": "#FFA15A",
          "symbol": "circle"
         },
         "mode": "markers",
         "name": "Tesla Model 3",
         "showlegend": true,
         "type": "scattergl",
         "x": {
          "bdata": "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",
          "dtype": "f8"
         },
         "xaxis": "x",
         "y": {
          "bdata": "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",
          "dtype": "f8"
         },
         "yaxis": "y"
        }
       ],
       "layout": {
        "legend": {
         "title": {
          "text": "Vehicle Model"
         },
         "tracegroupgap": 0
        },
        "template": {
         "data": {
          "bar": [
           {
            "error_x": {
             "color": "#2a3f5f"
            },
            "error_y": {
             "color": "#2a3f5f"
            },
            "marker": {
             "line": {
              "color": "#E5ECF6",
              "width": 0.5
             },
             "pattern": {
              "fillmode": "overlay",
              "size": 10,
              "solidity": 0.2
             }
            },
            "type": "bar"
           }
          ],
          "barpolar": [
           {
            "marker": {
             "line": {
              "color": "#E5ECF6",
              "width": 0.5
             },
             "pattern": {
              "fillmode": "overlay",
              "size": 10,
              "solidity": 0.2
             }
            },
            "type": "barpolar"
           }
          ],
          "carpet": [
           {
            "aaxis": {
             "endlinecolor": "#2a3f5f",
             "gridcolor": "white",
             "linecolor": "white",
             "minorgridcolor": "white",
             "startlinecolor": "#2a3f5f"
            },
            "baxis": {
             "endlinecolor": "#2a3f5f",
             "gridcolor": "white",
             "linecolor": "white",
             "minorgridcolor": "white",
             "startlinecolor": "#2a3f5f"
            },
            "type": "carpet"
           }
          ],
          "choropleth": [
           {
            "colorbar": {
             "outlinewidth": 0,
             "ticks": ""
            },
            "type": "choropleth"
           }
          ],
          "contour": [
           {
            "colorbar": {
             "outlinewidth": 0,
             "ticks": ""
            },
            "colorscale": [
             [
              0,
              "#0d0887"
             ],
             [
              0.1111111111111111,
              "#46039f"
             ],
             [
              0.2222222222222222,
              "#7201a8"
             ],
             [
              0.3333333333333333,
              "#9c179e"
             ],
             [
              0.4444444444444444,
              "#bd3786"
             ],
             [
              0.5555555555555556,
              "#d8576b"
             ],
             [
              0.6666666666666666,
              "#ed7953"
             ],
             [
              0.7777777777777778,
              "#fb9f3a"
             ],
             [
              0.8888888888888888,
              "#fdca26"
             ],
             [
              1,
              "#f0f921"
             ]
            ],
            "type": "contour"
           }
          ],
          "contourcarpet": [
           {
            "colorbar": {
             "outlinewidth": 0,
             "ticks": ""
            },
            "type": "contourcarpet"
           }
          ],
          "heatmap": [
           {
            "colorbar": {
             "outlinewidth": 0,
             "ticks": ""
            },
            "colorscale": [
             [
              0,
              "#0d0887"
             ],
             [
              0.1111111111111111,
              "#46039f"
             ],
             [
              0.2222222222222222,
              "#7201a8"
             ],
             [
              0.3333333333333333,
              "#9c179e"
             ],
             [
              0.4444444444444444,
              "#bd3786"
             ],
             [
              0.5555555555555556,
              "#d8576b"
             ],
             [
              0.6666666666666666,
              "#ed7953"
             ],
             [
              0.7777777777777778,
              "#fb9f3a"
             ],
             [
              0.8888888888888888,
              "#fdca26"
             ],
             [
              1,
              "#f0f921"
             ]
            ],
            "type": "heatmap"
           }
          ],
          "histogram": [
           {
            "marker": {
             "pattern": {
              "fillmode": "overlay",
              "size": 10,
              "solidity": 0.2
             }
            },
            "type": "histogram"
           }
          ],
          "histogram2d": [
           {
            "colorbar": {
             "outlinewidth": 0,
             "ticks": ""
            },
            "colorscale": [
             [
              0,
              "#0d0887"
             ],
             [
              0.1111111111111111,
              "#46039f"
             ],
             [
              0.2222222222222222,
              "#7201a8"
             ],
             [
              0.3333333333333333,
              "#9c179e"
             ],
             [
              0.4444444444444444,
              "#bd3786"
             ],
             [
              0.5555555555555556,
              "#d8576b"
             ],
             [
              0.6666666666666666,
              "#ed7953"
             ],
             [
              0.7777777777777778,
              "#fb9f3a"
             ],
             [
              0.8888888888888888,
              "#fdca26"
             ],
             [
              1,
              "#f0f921"
             ]
            ],
            "type": "histogram2d"
           }
          ],
          "histogram2dcontour": [
           {
            "colorbar": {
             "outlinewidth": 0,
             "ticks": ""
            },
            "colorscale": [
             [
              0,
              "#0d0887"
             ],
             [
              0.1111111111111111,
              "#46039f"
             ],
             [
              0.2222222222222222,
              "#7201a8"
             ],
             [
              0.3333333333333333,
              "#9c179e"
             ],
             [
              0.4444444444444444,
              "#bd3786"
             ],
             [
              0.5555555555555556,
              "#d8576b"
             ],
             [
              0.6666666666666666,
              "#ed7953"
             ],
             [
              0.7777777777777778,
              "#fb9f3a"
             ],
             [
              0.8888888888888888,
              "#fdca26"
             ],
             [
              1,
              "#f0f921"
             ]
            ],
            "type": "histogram2dcontour"
           }
          ],
          "mesh3d": [
           {
            "colorbar": {
             "outlinewidth": 0,
             "ticks": ""
            },
            "type": "mesh3d"
           }
          ],
          "parcoords": [
           {
            "line": {
             "colorbar": {
              "outlinewidth": 0,
              "ticks": ""
             }
            },
            "type": "parcoords"
           }
          ],
          "pie": [
           {
            "automargin": true,
            "type": "pie"
           }
          ],
          "scatter": [
           {
            "fillpattern": {
             "fillmode": "overlay",
             "size": 10,
             "solidity": 0.2
            },
            "type": "scatter"
           }
          ],
          "scatter3d": [
           {
            "line": {
             "colorbar": {
              "outlinewidth": 0,
              "ticks": ""
             }
            },
            "marker": {
             "colorbar": {
              "outlinewidth": 0,
              "ticks": ""
             }
            },
            "type": "scatter3d"
           }
          ],
          "scattercarpet": [
           {
            "marker": {
             "colorbar": {
              "outlinewidth": 0,
              "ticks": ""
             }
            },
            "type": "scattercarpet"
           }
          ],
          "scattergeo": [
           {
            "marker": {
             "colorbar": {
              "outlinewidth": 0,
              "ticks": ""
             }
            },
            "type": "scattergeo"
           }
          ],
          "scattergl": [
           {
            "marker": {
             "colorbar": {
              "outlinewidth": 0,
              "ticks": ""
             }
            },
            "type": "scattergl"
           }
          ],
          "scattermap": [
           {
            "marker": {
             "colorbar": {
              "outlinewidth": 0,
              "ticks": ""
             }
            },
            "type": "scattermap"
           }
          ],
          "scattermapbox": [
           {
            "marker": {
             "colorbar": {
              "outlinewidth": 0,
              "ticks": ""
             }
            },
            "type": "scattermapbox"
           }
          ],
          "scatterpolar": [
           {
            "marker": {
             "colorbar": {
              "outlinewidth": 0,
              "ticks": ""
             }
            },
            "type": "scatterpolar"
           }
          ],
          "scatterpolargl": [
           {
            "marker": {
             "colorbar": {
              "outlinewidth": 0,
              "ticks": ""
             }
            },
            "type": "scatterpolargl"
           }
          ],
          "scatterternary": [
           {
            "marker": {
             "colorbar": {
              "outlinewidth": 0,
              "ticks": ""
             }
            },
            "type": "scatterternary"
           }
          ],
          "surface": [
           {
            "colorbar": {
             "outlinewidth": 0,
             "ticks": ""
            },
            "colorscale": [
             [
              0,
              "#0d0887"
             ],
             [
              0.1111111111111111,
              "#46039f"
             ],
             [
              0.2222222222222222,
              "#7201a8"
             ],
             [
              0.3333333333333333,
              "#9c179e"
             ],
             [
              0.4444444444444444,
              "#bd3786"
             ],
             [
              0.5555555555555556,
              "#d8576b"
             ],
             [
              0.6666666666666666,
              "#ed7953"
             ],
             [
              0.7777777777777778,
              "#fb9f3a"
             ],
             [
              0.8888888888888888,
              "#fdca26"
             ],
             [
              1,
              "#f0f921"
             ]
            ],
            "type": "surface"
           }
          ],
          "table": [
           {
            "cells": {
             "fill": {
              "color": "#EBF0F8"
             },
             "line": {
              "color": "white"
             }
            },
            "header": {
             "fill": {
              "color": "#C8D4E3"
             },
             "line": {
              "color": "white"
             }
            },
            "type": "table"
           }
          ]
         },
         "layout": {
          "annotationdefaults": {
           "arrowcolor": "#2a3f5f",
           "arrowhead": 0,
           "arrowwidth": 1
          },
          "autotypenumbers": "strict",
          "coloraxis": {
           "colorbar": {
            "outlinewidth": 0,
            "ticks": ""
           }
          },
          "colorscale": {
           "diverging": [
            [
             0,
             "#8e0152"
            ],
            [
             0.1,
             "#c51b7d"
            ],
            [
             0.2,
             "#de77ae"
            ],
            [
             0.3,
             "#f1b6da"
            ],
            [
             0.4,
             "#fde0ef"
            ],
            [
             0.5,
             "#f7f7f7"
            ],
            [
             0.6,
             "#e6f5d0"
            ],
            [
             0.7,
             "#b8e186"
            ],
            [
             0.8,
             "#7fbc41"
            ],
            [
             0.9,
             "#4d9221"
            ],
            [
             1,
             "#276419"
            ]
           ],
           "sequential": [
            [
             0,
             "#0d0887"
            ],
            [
             0.1111111111111111,
             "#46039f"
            ],
            [
             0.2222222222222222,
             "#7201a8"
            ],
            [
             0.3333333333333333,
             "#9c179e"
            ],
            [
             0.4444444444444444,
             "#bd3786"
            ],
            [
             0.5555555555555556,
             "#d8576b"
            ],
            [
             0.6666666666666666,
             "#ed7953"
            ],
            [
             0.7777777777777778,
             "#fb9f3a"
            ],
            [
             0.8888888888888888,
             "#fdca26"
            ],
            [
             1,
             "#f0f921"
            ]
           ],
           "sequentialminus": [
            [
             0,
             "#0d0887"
            ],
            [
             0.1111111111111111,
             "#46039f"
            ],
            [
             0.2222222222222222,
             "#7201a8"
            ],
            [
             0.3333333333333333,
             "#9c179e"
            ],
            [
             0.4444444444444444,
             "#bd3786"
            ],
            [
             0.5555555555555556,
             "#d8576b"
            ],
            [
             0.6666666666666666,
             "#ed7953"
            ],
            [
             0.7777777777777778,
             "#fb9f3a"
            ],
            [
             0.8888888888888888,
             "#fdca26"
            ],
            [
             1,
             "#f0f921"
            ]
           ]
          },
          "colorway": [
           "#636efa",
           "#EF553B",
           "#00cc96",
           "#ab63fa",
           "#FFA15A",
           "#19d3f3",
           "#FF6692",
           "#B6E880",
           "#FF97FF",
           "#FECB52"
          ],
          "font": {
           "color": "#2a3f5f"
          },
          "geo": {
           "bgcolor": "white",
           "lakecolor": "white",
           "landcolor": "#E5ECF6",
           "showlakes": true,
           "showland": true,
           "subunitcolor": "white"
          },
          "hoverlabel": {
           "align": "left"
          },
          "hovermode": "closest",
          "mapbox": {
           "style": "light"
          },
          "paper_bgcolor": "white",
          "plot_bgcolor": "#E5ECF6",
          "polar": {
           "angularaxis": {
            "gridcolor": "white",
            "linecolor": "white",
            "ticks": ""
           },
           "bgcolor": "#E5ECF6",
           "radialaxis": {
            "gridcolor": "white",
            "linecolor": "white",
            "ticks": ""
           }
          },
          "scene": {
           "xaxis": {
            "backgroundcolor": "#E5ECF6",
            "gridcolor": "white",
            "gridwidth": 2,
            "linecolor": "white",
            "showbackground": true,
            "ticks": "",
            "zerolinecolor": "white"
           },
           "yaxis": {
            "backgroundcolor": "#E5ECF6",
            "gridcolor": "white",
            "gridwidth": 2,
            "linecolor": "white",
            "showbackground": true,
            "ticks": "",
            "zerolinecolor": "white"
           },
           "zaxis": {
            "backgroundcolor": "#E5ECF6",
            "gridcolor": "white",
            "gridwidth": 2,
            "linecolor": "white",
            "showbackground": true,
            "ticks": "",
            "zerolinecolor": "white"
           }
          },
          "shapedefaults": {
           "line": {
            "color": "#2a3f5f"
           }
          },
          "ternary": {
           "aaxis": {
            "gridcolor": "white",
            "linecolor": "white",
            "ticks": ""
           },
           "baxis": {
            "gridcolor": "white",
            "linecolor": "white",
            "ticks": ""
           },
           "bgcolor": "#E5ECF6",
           "caxis": {
            "gridcolor": "white",
            "linecolor": "white",
            "ticks": ""
           }
          },
          "title": {
           "x": 0.05
          },
          "xaxis": {
           "automargin": true,
           "gridcolor": "white",
           "linecolor": "white",
           "ticks": "",
           "title": {
            "standoff": 15
           },
           "zerolinecolor": "white",
           "zerolinewidth": 2
          },
          "yaxis": {
           "automargin": true,
           "gridcolor": "white",
           "linecolor": "white",
           "ticks": "",
           "title": {
            "standoff": 15
           },
           "zerolinecolor": "white",
           "zerolinewidth": 2
          }
         }
        },
        "title": {
         "text": "Energy vs Temperature"
        },
        "xaxis": {
         "anchor": "y",
         "domain": [
          0,
          1
         ],
         "title": {
          "text": "Temperature (°C)"
         }
        },
        "yaxis": {
         "anchor": "x",
         "domain": [
          0,
          1
         ],
         "title": {
          "text": "Energy Consumed (kWh)"
         }
        }
       }
      }
     },
     "metadata": {},
     "output_type": "display_data"
    }
   ],
   "source": [
    "fig4 = px.scatter(df, x=\"Temperature (°C)\", y=\"Energy Consumed (kWh)\",\n",
    "                  color=\"Vehicle Model\", title=\"Energy vs Temperature\")\n",
    "fig4.show()\n"
   ]
  },
  {
   "cell_type": "code",
   "execution_count": null,
   "id": "10b84f56",
   "metadata": {},
   "outputs": [
    {
     "data": {
      "application/vnd.plotly.v1+json": {
       "config": {
        "plotlyServerURL": "https://plot.ly"
       },
       "data": [
        {
         "branchvalues": "total",
         "domain": {
          "x": [
           0,
           1
          ],
          "y": [
           0,
           1
          ]
         },
         "hovertemplate": "labels=%{label}<br>count=%{value}<br>parent=%{parent}<br>id=%{id}<extra></extra>",
         "ids": [
          "Houston/DC Fast Charger/Commuter",
          "San Francisco/Level 1/Casual Driver",
          "San Francisco/Level 2/Commuter",
          "Houston/Level 1/Long-Distance Traveler",
          "Los Angeles/Level 1/Long-Distance Traveler",
          "San Francisco/DC Fast Charger/Long-Distance Traveler",
          "Houston/Level 2/Commuter",
          "Los Angeles/Level 2/Long-Distance Traveler",
          "Los Angeles/Level 1/Commuter",
          "Chicago/DC Fast Charger/Commuter",
          "Los Angeles/DC Fast Charger/Casual Driver",
          "San Francisco/Level 2/Casual Driver",
          "Houston/Level 1/Casual Driver",
          "Los Angeles/DC Fast Charger/Long-Distance Traveler",
          "New York/DC Fast Charger/Commuter",
          "Chicago/Level 2/Casual Driver",
          "New York/Level 1/Long-Distance Traveler",
          "Los Angeles/Level 2/Casual Driver",
          "New York/Level 1/Commuter",
          "Chicago/DC Fast Charger/Long-Distance Traveler",
          "San Francisco/DC Fast Charger/Commuter",
          "Houston/Level 1/Commuter",
          "San Francisco/Level 1/Long-Distance Traveler",
          "Chicago/DC Fast Charger/Casual Driver",
          "New York/DC Fast Charger/Casual Driver",
          "Chicago/Level 1/Commuter",
          "New York/Level 2/Casual Driver",
          "Houston/Level 2/Casual Driver",
          "Houston/DC Fast Charger/Long-Distance Traveler",
          "New York/DC Fast Charger/Long-Distance Traveler",
          "Los Angeles/Level 2/Commuter",
          "Houston/Level 2/Long-Distance Traveler",
          "San Francisco/DC Fast Charger/Casual Driver",
          "Los Angeles/DC Fast Charger/Commuter",
          "San Francisco/Level 1/Commuter",
          "Chicago/Level 2/Commuter",
          "Los Angeles/Level 1/Casual Driver",
          "New York/Level 2/Long-Distance Traveler",
          "Chicago/Level 2/Long-Distance Traveler",
          "Houston/DC Fast Charger/Casual Driver",
          "San Francisco/Level 2/Long-Distance Traveler",
          "New York/Level 2/Commuter",
          "Chicago/Level 1/Casual Driver",
          "New York/Level 1/Casual Driver",
          "Chicago/Level 1/Long-Distance Traveler",
          "Houston/DC Fast Charger",
          "San Francisco/Level 1",
          "San Francisco/Level 2",
          "Houston/Level 1",
          "Los Angeles/Level 1",
          "San Francisco/DC Fast Charger",
          "Houston/Level 2",
          "Los Angeles/Level 2",
          "Chicago/DC Fast Charger",
          "Los Angeles/DC Fast Charger",
          "New York/DC Fast Charger",
          "Chicago/Level 2",
          "New York/Level 1",
          "Chicago/Level 1",
          "New York/Level 2",
          "Houston",
          "San Francisco",
          "Los Angeles",
          "Chicago",
          "New York"
         ],
         "labels": [
          "Commuter",
          "Casual Driver",
          "Commuter",
          "Long-Distance Traveler",
          "Long-Distance Traveler",
          "Long-Distance Traveler",
          "Commuter",
          "Long-Distance Traveler",
          "Commuter",
          "Commuter",
          "Casual Driver",
          "Casual Driver",
          "Casual Driver",
          "Long-Distance Traveler",
          "Commuter",
          "Casual Driver",
          "Long-Distance Traveler",
          "Casual Driver",
          "Commuter",
          "Long-Distance Traveler",
          "Commuter",
          "Commuter",
          "Long-Distance Traveler",
          "Casual Driver",
          "Casual Driver",
          "Commuter",
          "Casual Driver",
          "Casual Driver",
          "Long-Distance Traveler",
          "Long-Distance Traveler",
          "Commuter",
          "Long-Distance Traveler",
          "Casual Driver",
          "Commuter",
          "Commuter",
          "Commuter",
          "Casual Driver",
          "Long-Distance Traveler",
          "Long-Distance Traveler",
          "Casual Driver",
          "Long-Distance Traveler",
          "Commuter",
          "Casual Driver",
          "Casual Driver",
          "Long-Distance Traveler",
          "DC Fast Charger",
          "Level 1",
          "Level 2",
          "Level 1",
          "Level 1",
          "DC Fast Charger",
          "Level 2",
          "Level 2",
          "DC Fast Charger",
          "DC Fast Charger",
          "DC Fast Charger",
          "Level 2",
          "Level 1",
          "Level 1",
          "Level 2",
          "Houston",
          "San Francisco",
          "Los Angeles",
          "Chicago",
          "New York"
         ],
         "name": "",
         "parents": [
          "Houston/DC Fast Charger",
          "San Francisco/Level 1",
          "San Francisco/Level 2",
          "Houston/Level 1",
          "Los Angeles/Level 1",
          "San Francisco/DC Fast Charger",
          "Houston/Level 2",
          "Los Angeles/Level 2",
          "Los Angeles/Level 1",
          "Chicago/DC Fast Charger",
          "Los Angeles/DC Fast Charger",
          "San Francisco/Level 2",
          "Houston/Level 1",
          "Los Angeles/DC Fast Charger",
          "New York/DC Fast Charger",
          "Chicago/Level 2",
          "New York/Level 1",
          "Los Angeles/Level 2",
          "New York/Level 1",
          "Chicago/DC Fast Charger",
          "San Francisco/DC Fast Charger",
          "Houston/Level 1",
          "San Francisco/Level 1",
          "Chicago/DC Fast Charger",
          "New York/DC Fast Charger",
          "Chicago/Level 1",
          "New York/Level 2",
          "Houston/Level 2",
          "Houston/DC Fast Charger",
          "New York/DC Fast Charger",
          "Los Angeles/Level 2",
          "Houston/Level 2",
          "San Francisco/DC Fast Charger",
          "Los Angeles/DC Fast Charger",
          "San Francisco/Level 1",
          "Chicago/Level 2",
          "Los Angeles/Level 1",
          "New York/Level 2",
          "Chicago/Level 2",
          "Houston/DC Fast Charger",
          "San Francisco/Level 2",
          "New York/Level 2",
          "Chicago/Level 1",
          "New York/Level 1",
          "Chicago/Level 1",
          "Houston",
          "San Francisco",
          "San Francisco",
          "Houston",
          "Los Angeles",
          "San Francisco",
          "Houston",
          "Los Angeles",
          "Chicago",
          "Los Angeles",
          "New York",
          "Chicago",
          "New York",
          "Chicago",
          "New York",
          "",
          "",
          "",
          "",
          ""
         ],
         "type": "sunburst",
         "values": {
          "bdata": "GwAZACYAIgAkAB4AHgAhACYAGgAYAB4AGwAgACcAGQAgABkAHAAYABUAHAAhACAAFAAjABkAFwAoABgAMAAWAB8AHQAfABgAIAAWABsAHwAZACIAGgAfABcAYgBZAF0AWQBqAFIASwBqAFIAVQBTAEwAWwBUAFEABgEIASkB8gD/AA==",
          "dtype": "i2"
         }
        }
       ],
       "layout": {
        "height": 800,
        "legend": {
         "tracegroupgap": 0
        },
        "template": {
         "data": {
          "bar": [
           {
            "error_x": {
             "color": "#f2f5fa"
            },
            "error_y": {
             "color": "#f2f5fa"
            },
            "marker": {
             "line": {
              "color": "rgb(17,17,17)",
              "width": 0.5
             },
             "pattern": {
              "fillmode": "overlay",
              "size": 10,
              "solidity": 0.2
             }
            },
            "type": "bar"
           }
          ],
          "barpolar": [
           {
            "marker": {
             "line": {
              "color": "rgb(17,17,17)",
              "width": 0.5
             },
             "pattern": {
              "fillmode": "overlay",
              "size": 10,
              "solidity": 0.2
             }
            },
            "type": "barpolar"
           }
          ],
          "carpet": [
           {
            "aaxis": {
             "endlinecolor": "#A2B1C6",
             "gridcolor": "#506784",
             "linecolor": "#506784",
             "minorgridcolor": "#506784",
             "startlinecolor": "#A2B1C6"
            },
            "baxis": {
             "endlinecolor": "#A2B1C6",
             "gridcolor": "#506784",
             "linecolor": "#506784",
             "minorgridcolor": "#506784",
             "startlinecolor": "#A2B1C6"
            },
            "type": "carpet"
           }
          ],
          "choropleth": [
           {
            "colorbar": {
             "outlinewidth": 0,
             "ticks": ""
            },
            "type": "choropleth"
           }
          ],
          "contour": [
           {
            "colorbar": {
             "outlinewidth": 0,
             "ticks": ""
            },
            "colorscale": [
             [
              0,
              "#0d0887"
             ],
             [
              0.1111111111111111,
              "#46039f"
             ],
             [
              0.2222222222222222,
              "#7201a8"
             ],
             [
              0.3333333333333333,
              "#9c179e"
             ],
             [
              0.4444444444444444,
              "#bd3786"
             ],
             [
              0.5555555555555556,
              "#d8576b"
             ],
             [
              0.6666666666666666,
              "#ed7953"
             ],
             [
              0.7777777777777778,
              "#fb9f3a"
             ],
             [
              0.8888888888888888,
              "#fdca26"
             ],
             [
              1,
              "#f0f921"
             ]
            ],
            "type": "contour"
           }
          ],
          "contourcarpet": [
           {
            "colorbar": {
             "outlinewidth": 0,
             "ticks": ""
            },
            "type": "contourcarpet"
           }
          ],
          "heatmap": [
           {
            "colorbar": {
             "outlinewidth": 0,
             "ticks": ""
            },
            "colorscale": [
             [
              0,
              "#0d0887"
             ],
             [
              0.1111111111111111,
              "#46039f"
             ],
             [
              0.2222222222222222,
              "#7201a8"
             ],
             [
              0.3333333333333333,
              "#9c179e"
             ],
             [
              0.4444444444444444,
              "#bd3786"
             ],
             [
              0.5555555555555556,
              "#d8576b"
             ],
             [
              0.6666666666666666,
              "#ed7953"
             ],
             [
              0.7777777777777778,
              "#fb9f3a"
             ],
             [
              0.8888888888888888,
              "#fdca26"
             ],
             [
              1,
              "#f0f921"
             ]
            ],
            "type": "heatmap"
           }
          ],
          "histogram": [
           {
            "marker": {
             "pattern": {
              "fillmode": "overlay",
              "size": 10,
              "solidity": 0.2
             }
            },
            "type": "histogram"
           }
          ],
          "histogram2d": [
           {
            "colorbar": {
             "outlinewidth": 0,
             "ticks": ""
            },
            "colorscale": [
             [
              0,
              "#0d0887"
             ],
             [
              0.1111111111111111,
              "#46039f"
             ],
             [
              0.2222222222222222,
              "#7201a8"
             ],
             [
              0.3333333333333333,
              "#9c179e"
             ],
             [
              0.4444444444444444,
              "#bd3786"
             ],
             [
              0.5555555555555556,
              "#d8576b"
             ],
             [
              0.6666666666666666,
              "#ed7953"
             ],
             [
              0.7777777777777778,
              "#fb9f3a"
             ],
             [
              0.8888888888888888,
              "#fdca26"
             ],
             [
              1,
              "#f0f921"
             ]
            ],
            "type": "histogram2d"
           }
          ],
          "histogram2dcontour": [
           {
            "colorbar": {
             "outlinewidth": 0,
             "ticks": ""
            },
            "colorscale": [
             [
              0,
              "#0d0887"
             ],
             [
              0.1111111111111111,
              "#46039f"
             ],
             [
              0.2222222222222222,
              "#7201a8"
             ],
             [
              0.3333333333333333,
              "#9c179e"
             ],
             [
              0.4444444444444444,
              "#bd3786"
             ],
             [
              0.5555555555555556,
              "#d8576b"
             ],
             [
              0.6666666666666666,
              "#ed7953"
             ],
             [
              0.7777777777777778,
              "#fb9f3a"
             ],
             [
              0.8888888888888888,
              "#fdca26"
             ],
             [
              1,
              "#f0f921"
             ]
            ],
            "type": "histogram2dcontour"
           }
          ],
          "mesh3d": [
           {
            "colorbar": {
             "outlinewidth": 0,
             "ticks": ""
            },
            "type": "mesh3d"
           }
          ],
          "parcoords": [
           {
            "line": {
             "colorbar": {
              "outlinewidth": 0,
              "ticks": ""
             }
            },
            "type": "parcoords"
           }
          ],
          "pie": [
           {
            "automargin": true,
            "type": "pie"
           }
          ],
          "scatter": [
           {
            "marker": {
             "line": {
              "color": "#283442"
             }
            },
            "type": "scatter"
           }
          ],
          "scatter3d": [
           {
            "line": {
             "colorbar": {
              "outlinewidth": 0,
              "ticks": ""
             }
            },
            "marker": {
             "colorbar": {
              "outlinewidth": 0,
              "ticks": ""
             }
            },
            "type": "scatter3d"
           }
          ],
          "scattercarpet": [
           {
            "marker": {
             "colorbar": {
              "outlinewidth": 0,
              "ticks": ""
             }
            },
            "type": "scattercarpet"
           }
          ],
          "scattergeo": [
           {
            "marker": {
             "colorbar": {
              "outlinewidth": 0,
              "ticks": ""
             }
            },
            "type": "scattergeo"
           }
          ],
          "scattergl": [
           {
            "marker": {
             "line": {
              "color": "#283442"
             }
            },
            "type": "scattergl"
           }
          ],
          "scattermap": [
           {
            "marker": {
             "colorbar": {
              "outlinewidth": 0,
              "ticks": ""
             }
            },
            "type": "scattermap"
           }
          ],
          "scattermapbox": [
           {
            "marker": {
             "colorbar": {
              "outlinewidth": 0,
              "ticks": ""
             }
            },
            "type": "scattermapbox"
           }
          ],
          "scatterpolar": [
           {
            "marker": {
             "colorbar": {
              "outlinewidth": 0,
              "ticks": ""
             }
            },
            "type": "scatterpolar"
           }
          ],
          "scatterpolargl": [
           {
            "marker": {
             "colorbar": {
              "outlinewidth": 0,
              "ticks": ""
             }
            },
            "type": "scatterpolargl"
           }
          ],
          "scatterternary": [
           {
            "marker": {
             "colorbar": {
              "outlinewidth": 0,
              "ticks": ""
             }
            },
            "type": "scatterternary"
           }
          ],
          "surface": [
           {
            "colorbar": {
             "outlinewidth": 0,
             "ticks": ""
            },
            "colorscale": [
             [
              0,
              "#0d0887"
             ],
             [
              0.1111111111111111,
              "#46039f"
             ],
             [
              0.2222222222222222,
              "#7201a8"
             ],
             [
              0.3333333333333333,
              "#9c179e"
             ],
             [
              0.4444444444444444,
              "#bd3786"
             ],
             [
              0.5555555555555556,
              "#d8576b"
             ],
             [
              0.6666666666666666,
              "#ed7953"
             ],
             [
              0.7777777777777778,
              "#fb9f3a"
             ],
             [
              0.8888888888888888,
              "#fdca26"
             ],
             [
              1,
              "#f0f921"
             ]
            ],
            "type": "surface"
           }
          ],
          "table": [
           {
            "cells": {
             "fill": {
              "color": "#506784"
             },
             "line": {
              "color": "rgb(17,17,17)"
             }
            },
            "header": {
             "fill": {
              "color": "#2a3f5f"
             },
             "line": {
              "color": "rgb(17,17,17)"
             }
            },
            "type": "table"
           }
          ]
         },
         "layout": {
          "annotationdefaults": {
           "arrowcolor": "#f2f5fa",
           "arrowhead": 0,
           "arrowwidth": 1
          },
          "autotypenumbers": "strict",
          "coloraxis": {
           "colorbar": {
            "outlinewidth": 0,
            "ticks": ""
           }
          },
          "colorscale": {
           "diverging": [
            [
             0,
             "#8e0152"
            ],
            [
             0.1,
             "#c51b7d"
            ],
            [
             0.2,
             "#de77ae"
            ],
            [
             0.3,
             "#f1b6da"
            ],
            [
             0.4,
             "#fde0ef"
            ],
            [
             0.5,
             "#f7f7f7"
            ],
            [
             0.6,
             "#e6f5d0"
            ],
            [
             0.7,
             "#b8e186"
            ],
            [
             0.8,
             "#7fbc41"
            ],
            [
             0.9,
             "#4d9221"
            ],
            [
             1,
             "#276419"
            ]
           ],
           "sequential": [
            [
             0,
             "#0d0887"
            ],
            [
             0.1111111111111111,
             "#46039f"
            ],
            [
             0.2222222222222222,
             "#7201a8"
            ],
            [
             0.3333333333333333,
             "#9c179e"
            ],
            [
             0.4444444444444444,
             "#bd3786"
            ],
            [
             0.5555555555555556,
             "#d8576b"
            ],
            [
             0.6666666666666666,
             "#ed7953"
            ],
            [
             0.7777777777777778,
             "#fb9f3a"
            ],
            [
             0.8888888888888888,
             "#fdca26"
            ],
            [
             1,
             "#f0f921"
            ]
           ],
           "sequentialminus": [
            [
             0,
             "#0d0887"
            ],
            [
             0.1111111111111111,
             "#46039f"
            ],
            [
             0.2222222222222222,
             "#7201a8"
            ],
            [
             0.3333333333333333,
             "#9c179e"
            ],
            [
             0.4444444444444444,
             "#bd3786"
            ],
            [
             0.5555555555555556,
             "#d8576b"
            ],
            [
             0.6666666666666666,
             "#ed7953"
            ],
            [
             0.7777777777777778,
             "#fb9f3a"
            ],
            [
             0.8888888888888888,
             "#fdca26"
            ],
            [
             1,
             "#f0f921"
            ]
           ]
          },
          "colorway": [
           "#636efa",
           "#EF553B",
           "#00cc96",
           "#ab63fa",
           "#FFA15A",
           "#19d3f3",
           "#FF6692",
           "#B6E880",
           "#FF97FF",
           "#FECB52"
          ],
          "font": {
           "color": "#f2f5fa"
          },
          "geo": {
           "bgcolor": "rgb(17,17,17)",
           "lakecolor": "rgb(17,17,17)",
           "landcolor": "rgb(17,17,17)",
           "showlakes": true,
           "showland": true,
           "subunitcolor": "#506784"
          },
          "hoverlabel": {
           "align": "left"
          },
          "hovermode": "closest",
          "mapbox": {
           "style": "dark"
          },
          "paper_bgcolor": "rgb(17,17,17)",
          "plot_bgcolor": "rgb(17,17,17)",
          "polar": {
           "angularaxis": {
            "gridcolor": "#506784",
            "linecolor": "#506784",
            "ticks": ""
           },
           "bgcolor": "rgb(17,17,17)",
           "radialaxis": {
            "gridcolor": "#506784",
            "linecolor": "#506784",
            "ticks": ""
           }
          },
          "scene": {
           "xaxis": {
            "backgroundcolor": "rgb(17,17,17)",
            "gridcolor": "#506784",
            "gridwidth": 2,
            "linecolor": "#506784",
            "showbackground": true,
            "ticks": "",
            "zerolinecolor": "#C8D4E3"
           },
           "yaxis": {
            "backgroundcolor": "rgb(17,17,17)",
            "gridcolor": "#506784",
            "gridwidth": 2,
            "linecolor": "#506784",
            "showbackground": true,
            "ticks": "",
            "zerolinecolor": "#C8D4E3"
           },
           "zaxis": {
            "backgroundcolor": "rgb(17,17,17)",
            "gridcolor": "#506784",
            "gridwidth": 2,
            "linecolor": "#506784",
            "showbackground": true,
            "ticks": "",
            "zerolinecolor": "#C8D4E3"
           }
          },
          "shapedefaults": {
           "line": {
            "color": "#f2f5fa"
           }
          },
          "sliderdefaults": {
           "bgcolor": "#C8D4E3",
           "bordercolor": "rgb(17,17,17)",
           "borderwidth": 1,
           "tickwidth": 0
          },
          "ternary": {
           "aaxis": {
            "gridcolor": "#506784",
            "linecolor": "#506784",
            "ticks": ""
           },
           "baxis": {
            "gridcolor": "#506784",
            "linecolor": "#506784",
            "ticks": ""
           },
           "bgcolor": "rgb(17,17,17)",
           "caxis": {
            "gridcolor": "#506784",
            "linecolor": "#506784",
            "ticks": ""
           }
          },
          "title": {
           "x": 0.05
          },
          "updatemenudefaults": {
           "bgcolor": "#506784",
           "borderwidth": 0
          },
          "xaxis": {
           "automargin": true,
           "gridcolor": "#283442",
           "linecolor": "#506784",
           "ticks": "",
           "title": {
            "standoff": 15
           },
           "zerolinecolor": "#283442",
           "zerolinewidth": 2
          },
          "yaxis": {
           "automargin": true,
           "gridcolor": "#283442",
           "linecolor": "#506784",
           "ticks": "",
           "title": {
            "standoff": 15
           },
           "zerolinecolor": "#283442",
           "zerolinewidth": 2
          }
         }
        },
        "title": {
         "text": "Charging station location by Charger type and User type"
        },
        "width": 800
       }
      }
     },
     "metadata": {},
     "output_type": "display_data"
    }
   ],
   "source": [
    "px.sunburst(df, path=['Charging Station Location', 'Charger Type', 'User Type'], \n",
    "            title='Charging station location by Charger type and User type', \n",
    "            template='plotly_dark', width=800, height=800,)"
   ]
  },
  {
   "cell_type": "code",
   "execution_count": null,
   "id": "cc096bbf",
   "metadata": {},
   "outputs": [
    {
     "data": {
      "application/vnd.plotly.v1+json": {
       "config": {
        "plotlyServerURL": "https://plot.ly"
       },
       "data": [
        {
         "alignmentgroup": "True",
         "hovertemplate": "User Type=%{x}<br>Charging Cost (USD)=%{y}<extra></extra>",
         "legendgroup": "Commuter",
         "marker": {
          "color": "#636efa"
         },
         "name": "Commuter",
         "notched": false,
         "offsetgroup": "Commuter",
         "orientation": "v",
         "showlegend": true,
         "type": "box",
         "x": [
          "Commuter",
          "Commuter",
          "Commuter",
          "Commuter",
          "Commuter",
          "Commuter",
          "Commuter",
          "Commuter",
          "Commuter",
          "Commuter",
          "Commuter",
          "Commuter",
          "Commuter",
          "Commuter",
          "Commuter",
          "Commuter",
          "Commuter",
          "Commuter",
          "Commuter",
          "Commuter",
          "Commuter",
          "Commuter",
          "Commuter",
          "Commuter",
          "Commuter",
          "Commuter",
          "Commuter",
          "Commuter",
          "Commuter",
          "Commuter",
          "Commuter",
          "Commuter",
          "Commuter",
          "Commuter",
          "Commuter",
          "Commuter",
          "Commuter",
          "Commuter",
          "Commuter",
          "Commuter",
          "Commuter",
          "Commuter",
          "Commuter",
          "Commuter",
          "Commuter",
          "Commuter",
          "Commuter",
          "Commuter",
          "Commuter",
          "Commuter",
          "Commuter",
          "Commuter",
          "Commuter",
          "Commuter",
          "Commuter",
          "Commuter",
          "Commuter",
          "Commuter",
          "Commuter",
          "Commuter",
          "Commuter",
          "Commuter",
          "Commuter",
          "Commuter",
          "Commuter",
          "Commuter",
          "Commuter",
          "Commuter",
          "Commuter",
          "Commuter",
          "Commuter",
          "Commuter",
          "Commuter",
          "Commuter",
          "Commuter",
          "Commuter",
          "Commuter",
          "Commuter",
          "Commuter",
          "Commuter",
          "Commuter",
          "Commuter",
          "Commuter",
          "Commuter",
          "Commuter",
          "Commuter",
          "Commuter",
          "Commuter",
          "Commuter",
          "Commuter",
          "Commuter",
          "Commuter",
          "Commuter",
          "Commuter",
          "Commuter",
          "Commuter",
          "Commuter",
          "Commuter",
          "Commuter",
          "Commuter",
          "Commuter",
          "Commuter",
          "Commuter",
          "Commuter",
          "Commuter",
          "Commuter",
          "Commuter",
          "Commuter",
          "Commuter",
          "Commuter",
          "Commuter",
          "Commuter",
          "Commuter",
          "Commuter",
          "Commuter",
          "Commuter",
          "Commuter",
          "Commuter",
          "Commuter",
          "Commuter",
          "Commuter",
          "Commuter",
          "Commuter",
          "Commuter",
          "Commuter",
          "Commuter",
          "Commuter",
          "Commuter",
          "Commuter",
          "Commuter",
          "Commuter",
          "Commuter",
          "Commuter",
          "Commuter",
          "Commuter",
          "Commuter",
          "Commuter",
          "Commuter",
          "Commuter",
          "Commuter",
          "Commuter",
          "Commuter",
          "Commuter",
          "Commuter",
          "Commuter",
          "Commuter",
          "Commuter",
          "Commuter",
          "Commuter",
          "Commuter",
          "Commuter",
          "Commuter",
          "Commuter",
          "Commuter",
          "Commuter",
          "Commuter",
          "Commuter",
          "Commuter",
          "Commuter",
          "Commuter",
          "Commuter",
          "Commuter",
          "Commuter",
          "Commuter",
          "Commuter",
          "Commuter",
          "Commuter",
          "Commuter",
          "Commuter",
          "Commuter",
          "Commuter",
          "Commuter",
          "Commuter",
          "Commuter",
          "Commuter",
          "Commuter",
          "Commuter",
          "Commuter",
          "Commuter",
          "Commuter",
          "Commuter",
          "Commuter",
          "Commuter",
          "Commuter",
          "Commuter",
          "Commuter",
          "Commuter",
          "Commuter",
          "Commuter",
          "Commuter",
          "Commuter",
          "Commuter",
          "Commuter",
          "Commuter",
          "Commuter",
          "Commuter",
          "Commuter",
          "Commuter",
          "Commuter",
          "Commuter",
          "Commuter",
          "Commuter",
          "Commuter",
          "Commuter",
          "Commuter",
          "Commuter",
          "Commuter",
          "Commuter",
          "Commuter",
          "Commuter",
          "Commuter",
          "Commuter",
          "Commuter",
          "Commuter",
          "Commuter",
          "Commuter",
          "Commuter",
          "Commuter",
          "Commuter",
          "Commuter",
          "Commuter",
          "Commuter",
          "Commuter",
          "Commuter",
          "Commuter",
          "Commuter",
          "Commuter",
          "Commuter",
          "Commuter",
          "Commuter",
          "Commuter",
          "Commuter",
          "Commuter",
          "Commuter",
          "Commuter",
          "Commuter",
          "Commuter",
          "Commuter",
          "Commuter",
          "Commuter",
          "Commuter",
          "Commuter",
          "Commuter",
          "Commuter",
          "Commuter",
          "Commuter",
          "Commuter",
          "Commuter",
          "Commuter",
          "Commuter",
          "Commuter",
          "Commuter",
          "Commuter",
          "Commuter",
          "Commuter",
          "Commuter",
          "Commuter",
          "Commuter",
          "Commuter",
          "Commuter",
          "Commuter",
          "Commuter",
          "Commuter",
          "Commuter",
          "Commuter",
          "Commuter",
          "Commuter",
          "Commuter",
          "Commuter",
          "Commuter",
          "Commuter",
          "Commuter",
          "Commuter",
          "Commuter",
          "Commuter",
          "Commuter",
          "Commuter",
          "Commuter",
          "Commuter",
          "Commuter",
          "Commuter",
          "Commuter",
          "Commuter",
          "Commuter",
          "Commuter",
          "Commuter",
          "Commuter",
          "Commuter",
          "Commuter",
          "Commuter",
          "Commuter",
          "Commuter",
          "Commuter",
          "Commuter",
          "Commuter",
          "Commuter",
          "Commuter",
          "Commuter",
          "Commuter",
          "Commuter",
          "Commuter",
          "Commuter",
          "Commuter",
          "Commuter",
          "Commuter",
          "Commuter",
          "Commuter",
          "Commuter",
          "Commuter",
          "Commuter",
          "Commuter",
          "Commuter",
          "Commuter",
          "Commuter",
          "Commuter",
          "Commuter",
          "Commuter",
          "Commuter",
          "Commuter",
          "Commuter",
          "Commuter",
          "Commuter",
          "Commuter",
          "Commuter",
          "Commuter",
          "Commuter",
          "Commuter",
          "Commuter",
          "Commuter",
          "Commuter",
          "Commuter",
          "Commuter",
          "Commuter",
          "Commuter",
          "Commuter",
          "Commuter",
          "Commuter",
          "Commuter",
          "Commuter",
          "Commuter",
          "Commuter",
          "Commuter",
          "Commuter",
          "Commuter",
          "Commuter",
          "Commuter",
          "Commuter",
          "Commuter",
          "Commuter",
          "Commuter",
          "Commuter",
          "Commuter",
          "Commuter",
          "Commuter",
          "Commuter",
          "Commuter",
          "Commuter",
          "Commuter",
          "Commuter",
          "Commuter",
          "Commuter",
          "Commuter",
          "Commuter",
          "Commuter",
          "Commuter",
          "Commuter",
          "Commuter",
          "Commuter",
          "Commuter",
          "Commuter",
          "Commuter",
          "Commuter",
          "Commuter",
          "Commuter",
          "Commuter",
          "Commuter",
          "Commuter",
          "Commuter",
          "Commuter",
          "Commuter",
          "Commuter",
          "Commuter",
          "Commuter",
          "Commuter",
          "Commuter",
          "Commuter",
          "Commuter",
          "Commuter",
          "Commuter",
          "Commuter",
          "Commuter",
          "Commuter",
          "Commuter",
          "Commuter",
          "Commuter",
          "Commuter",
          "Commuter",
          "Commuter",
          "Commuter",
          "Commuter",
          "Commuter",
          "Commuter",
          "Commuter",
          "Commuter",
          "Commuter",
          "Commuter",
          "Commuter",
          "Commuter",
          "Commuter",
          "Commuter",
          "Commuter",
          "Commuter",
          "Commuter",
          "Commuter",
          "Commuter",
          "Commuter",
          "Commuter",
          "Commuter",
          "Commuter",
          "Commuter",
          "Commuter",
          "Commuter",
          "Commuter",
          "Commuter",
          "Commuter",
          "Commuter",
          "Commuter",
          "Commuter",
          "Commuter",
          "Commuter",
          "Commuter",
          "Commuter",
          "Commuter",
          "Commuter",
          "Commuter",
          "Commuter",
          "Commuter",
          "Commuter",
          "Commuter",
          "Commuter",
          "Commuter",
          "Commuter",
          "Commuter",
          "Commuter",
          "Commuter",
          "Commuter",
          "Commuter",
          "Commuter",
          "Commuter",
          "Commuter",
          "Commuter",
          "Commuter",
          "Commuter",
          "Commuter",
          "Commuter",
          "Commuter",
          "Commuter",
          "Commuter",
          "Commuter",
          "Commuter",
          "Commuter",
          "Commuter",
          "Commuter",
          "Commuter",
          "Commuter",
          "Commuter",
          "Commuter",
          "Commuter",
          "Commuter",
          "Commuter",
          "Commuter",
          "Commuter",
          "Commuter",
          "Commuter",
          "Commuter",
          "Commuter"
         ],
         "x0": " ",
         "xaxis": "x",
         "y": {
          "bdata": "jfYfN+ksKkCuZwMeadVBQCKaC3bXNjZA6YtESYU7QECwLK4N8081QLdr1cGOuEJAyhhuxKt+MUA29e3INm1BQOVdZNT5M0NAG7/TVbBhQ0DsiIqAxHI7QCCmBTUEAzFAlswdjsLdPUBP1epndoE6QKznh9KlnjpAgg2lfGMFQEAocTeRvjclQNGdGfjbBzNAAhUbub8hMkCVm+39MBo8QLHAs0Y2MT5AJkrq9DrdPkAnmEbNCfEuQLLtyFVOayVAqs961mzKOEDfe1Nr2poxQMo5z1i0XS9Ap87MSW6IPUAPxIORBxEyQLWeqVVhxy9AI3P1TMFWPEDbMgLqs3w2QLQspx5kdEBAnePN+NaSK0Arg01jWH85QKyK4JVF6jNArpjn/P2NFEBtpiOxMF43QJbjZko9GT9AtP97bMZzK0Ce0/0zPCZCQBX0N/D/nDdAhguhOZw8PkDizzzKPD4xQASCL7cRQzRAYclFx2DQH0DYBOklK4cwQD0SIjxmkjlAkaRARLsDQUB9sIUW3d8+QG1ex0AH2DJAqmDt8u/pOkC/P/S+ZWMiQA7jQBgRQ0JAvHeRyyCxJkBr/tMZrYNBQCSlK/XzrjdAx0T6vyEYQ0Dd0/alCJRFQEanzqNnEj9AQojCv4NSO0A6pFp6p6IgQHFFFsNbKy9A9kGuEiVzP0DkZXYY5j8sQK3FMExhzTtAAFvAPq0rQkCBnRFgA/84QKC6t9i6wDhApMH5Jj09IkABueIIglY2QDS2gDVH7kBARndeTRlKIkDSkXtnTqwwQEBJiKFQ8zlASA+Ff1uSH0BW7pFR3B8iQB7u6segO1FA3JdHpVh0QkD84T9qnKs2QCgDwZOFwylAMjOXBXuZN0BVShedeFgUQP/gHBs3/iZAjKGOLViFQUAtiDTGM5MmQAkfjJVYKjpAHme8xyWLOUC+5V5KJwsgQFtz8BDy5TtAbARr5fZ5LUA+cXXMfqc/QKDDb8WKJkFA3uNsKmV6QkAbuE4jTMtDQCNYg1uhvTpA/sOaEpGVMEDylJrWlUEUQGsk0tR2WD5A1x70GA0DQUDKW/uktwAiQJDZGpElWydAyyGIUHnXIkCGosZyhqsjQOpL2FXnFkNAh7l/7QI5OUDt1rmOuOs/QPlHO31Y0idASOdaLuyVMUD6ucbZhig0QJ3dK4rZUDBATAOu1hSVQkDV/ECInwM1QF4I4ihOhkJAvGnynJiRSED3HqCDt75CQLVuRyT+SjxASpjTIVi4IUDe2+uwE6MdQNI6goIPQEJA2p9ch+biMEDniQn1KfpBQIgeazntOT9AN0jd2gI8PUDgEv1z2f4lQE5BAVXn3zdAdqqEv0B5PkByvVueRI43QCx9MzdTORpABfYP8pZ8QEDJAqWs7agkQL4V5j0hJCVAnZzgL5OdNkBbsz9cQn4sQL7lvAm44UFAYRqLKSKMPkCEp8GGkbpAQE9W9X4kUCdA4E11LGfvJkBozmkIlR48QArToQRgHztA5wRle+iqPkBLTaflsfE6QH3qZipa0ThA7xzcXK3bH0BkvKPkXj40QDJPQjInwxhAG3QvMin0Q0B7MUkU6vI/QI1NfAwBtjdA+EJGw61FQkA2VIreD6c0QIUymdI5rDVAy+SZA96XQEBmhApz8whAQI/jzuGOQCZAtNB3LGmyIUAVO+z2GBw4QAr3u1Zdwz1Afc84b1NPNkAPUwx4cTkUQMQ5Yg8irEFALJz623fKQEDrGKnGwCckQA58l9a9vzBACEv6vgKZNUApkFtPnsstQHM2anu6QPo/eoW/HvhIGkA3D+qf1gdCQK3qG1rUTkBAlsPlouPFMkAZ4wUK90A8QAtv0b9+jxdAqC/iLO0gQUDIFgFJKRcgQNGna2VELCFAOLiBPzF8Q0A0UAnPUYY8QF0pkhw6oyJAt+EaZDrXPUC2C3cjdllCQA3wXR9J2jVA14dABC+0QkDkYXBVkR5BQHNYFSnoYyxAR0pS68aTKkBmbj6c28gCQJL4CaE97DpAGzxIOR+gOEDu9D97+w0+QOIYenqC60BAEaAaoiz0M0CVlMAPv1YWQECibTaSrzZAhOWNdacCQEC5GLUDKwE/QGzihISd8BtA24WF9OopIkCl5gXE0dVCQECO3IlfqChAOW5Sqbb2OECkONVIqRI8QB5EERfn2EBAaCiVeYa6KUDHg3rKr9A5QD8q2sWwVzFA2P+hpL+VM0C3ecBwgiRAQGf64tkIlyVAkcaFCYYEPkBEgmCpXCAuQA4KxdWMehpAgMwqOPg5GkAaS6J5DHw2QB+PUsOBBTxAHiBsTm43REDTAPLegBslQGDrq/2LWSlANg1Qp4sXMUAfKtPJ5Xg9QF9KLbHKLz9ARaEnrS+CLEA0SVPFIkErQBDm2lAzHkJAnIiYQLEDK0BxfLn8SsYjQJPYKrvQUyRA5Uehb4IYHkAmra66rl5BQCIMXMEUkDNASvh1zu1gQEA6WEU1cNwxQJb/EBwOjh1AAhhNO1wDQkBAuTsQZUsrQFYWKpbklzFA4gGuA+ivJkDu2gMuwZM4QEwUypy3U0FARVskB+2nFkABkWPWueYnQLjgh9tg4iFABYgiZPaqP0Dz//xvTKMhQJ6RBoVLmztAnZ+I8nTNJEBT2j95y5g6QGE6BU+K2jZA9ssqM7OFPkCZNsiTiHo5QMYI9KSBtzBAdlzgqPfzP0DERJNsJNoqQLkOpxcQeCZAC4TVGzjOPUA7xGR/+PpCQOoWEYOkvUFA02Nlo/8UOECW71YI6nsyQGaQcmEiriRAV4LlOeSNOkBCHe9ix6k1QCLUo0YYUSFAnyt2bJ1iO0C6hWJ3nHAmQD9fI7JY2T9AskO1+7yLQUDlYcmFxu41QG0xSCN+my5AXiyTXsckPkC17XzL7/JCQCeoyW96vCdA9NfPgUfMMUBvo4jauIwyQMTIijJlcUJAqkbqCxxaLkAolOnDzNY/QHX3gIy14SxAE7KCJdq/KkASajSyo8kwQHCWrOuDQzFA2gR2yZ9TQUBz4s2LRjwsQJqxHCWP1EFA7wXnPiU+PEDNySVKoY0pQIwWa9qqoj1AFIAYdvPaQkCf81xvPEUuQGXOxViFQUJAyUAxCtDlPkDjEsQCgFQtQMcoqDJJOUNAKm5jyTEmNUAhGv8hyO4qQMLbUJ2+qyNA8bBYC5toPEC25PUCXFVDQDOJNEINKCJATbG82KYxIkDfd1YlcaAsQNiB+9NQuUJAuAYO0wUBLEDAHRfFjDk2QLF5SfEWAENA6m1TwhmcPUBfoSpBi+ktQPYYsK5SlzVApeiPPDGZQ0DNxGVIAw08QOGPobu6N0JAcV2eUBlFOUClCLvss5JBQHNdyUOxoEJA5z5LCBndQUBtUV9hJoFAQKhfELDYezJAaHLO1HC3NED7ool/FHs5QBr0CJHyRSVACDtxAzxXL0C6SXaQ9/kqQEO7rQbuAT5ANBIgxtYBMkA6sIYkHvQeQJKuAbi0mjpABB/HfNIeJkC4wsbArHlCQBZjqlbKdSVANDf5zDRLQECjYv8s/0pBQDJz0N58lytA+dVDuaVjQEAQDAhKzR0fQFwPHNKeWjNAK0bHAfFmO0DwAzjH18o0QOHb+jkbPz9ARcNEe3SzPUBu3Z9a5hpEQELPOrjRQyhAabLMkwwJPkDLQpCqlCMwQOlKWnNasENABhRUbKbMQEDHWJH+oadCQNiIuUPqtCtAy2s/iF2qP0C4604iypcwQEzgIYZQByJAr91u5GLZM0AGjJKnCeEsQIXd+SkhoTtAyCJkHjiBMUBg52yQD2dCQEzm6Ro8+D1ARP69rh3xNUDxtvR8x/k+QIhbN64WAUFAovgfHdzNJ0C69xa1bTU2QNRW/R4gw0BA9oEEIemzNkCxyvg0MgQpQHbnl61r+DNAvzWmFjuNOkBED9UBlk1DQIGfl9vkJypAtQku5vXKK0A2XiZybeNDQHU+sZfbHyNAyj8Zxa7DOkCjdL53KZ8nQKBiRf7tzyRAP9p0j/3TNUApkDVFGK0vQMqhEeROXSFAb48EOSRNOEDXWKyvQIk/QH6xrLpktR5AvX2R9UJZDUA4kkCS/wY9QCM1tbqn8BdAed+dw0hYKEB+wS/YesQ7QDszOC2+/DlAiX06OGLcK0AzdH9H4O4nQEAR/bxYTT9AP8nNSRfNP0DzF0YfuUAaQDykKYcN4iNASor8Q6KoMUC5pY6idYc3QK3THc/MFTdApIRB3+yRM0D8TTgapxtCQEVJo4vEhD1AS+KePSL5L0CX7XhNgBA1QHo9ZV07zjNAcAhgyQtZMEDH791R3hxCQMwZEjNQWRZAHazIwEjWNECwdsGehUMhQPoQIG7qSSFAtz4cncVcJUBgIMiUtJxAQJWHZkHQDjdAffsZSknpNECrpAsjbMxDQHTgru55YDxAkLK42x0DNkDfQ9QNevtCQKXy7UMU/TVA94BTeJlTO0CAkSmMnnUUQGIce86FKiZAt1DNV/wUIkBLgBc4dQEtQOrBG3w3pjNAPrIR94ATMECiK0iCTTkrQMagxJypBENAbigPdvihQUAkmPMFONtAQAUkWPkRYkNA373Kn430KUDaRzsaKTNBQP6Q4TKrSzNAcCV9J25xQ0BtA4O2Lv5CQN8XOufgBzlA5L5Fb3izP0BJhn+y0EkjQL2Qmcrir0VAAF3cdxHQJUB3IHGfuMU3QPkRRQou0iVApcA/EvzAQkC8oq0tvGk+QK/qh0tPXyhAKVmmxYToNUBBxuAwD8g9QMBheuyIo0JA7lxgeGKYNUDdP1Djw6Y/QJJUzGPaBjFAIoTBihKoDUBBSITU/2QgQFljLK7c5UNAyqDtjWRNJ0B5qJHNgRUbQECEGOfMeD1AdVrlK2wFOUC92exweaBDQDhMTna8byRA2j4ZURe8LkA2Xe0Imt4jQOAaNPfUXjtAzWPLRYaJOUAy/kbXkwg6QLKW2hqz3UFAIV7r+qUlNkCnKr3Jb9EyQEpoq8lRCh1AAuJAR+TTJkBNcrynhtYWQCypZJ9cbjBAGgNvMdUYQ0Cag7MjxxQ2QB/ZIuSjoEJAjno/HeiFQ0AeugiEM7olQA==",
          "dtype": "f8"
         },
         "y0": " ",
         "yaxis": "y"
        },
        {
         "alignmentgroup": "True",
         "hovertemplate": "User Type=%{x}<br>Charging Cost (USD)=%{y}<extra></extra>",
         "legendgroup": "Casual Driver",
         "marker": {
          "color": "#EF553B"
         },
         "name": "Casual Driver",
         "notched": false,
         "offsetgroup": "Casual Driver",
         "orientation": "v",
         "showlegend": true,
         "type": "box",
         "x": [
          "Casual Driver",
          "Casual Driver",
          "Casual Driver",
          "Casual Driver",
          "Casual Driver",
          "Casual Driver",
          "Casual Driver",
          "Casual Driver",
          "Casual Driver",
          "Casual Driver",
          "Casual Driver",
          "Casual Driver",
          "Casual Driver",
          "Casual Driver",
          "Casual Driver",
          "Casual Driver",
          "Casual Driver",
          "Casual Driver",
          "Casual Driver",
          "Casual Driver",
          "Casual Driver",
          "Casual Driver",
          "Casual Driver",
          "Casual Driver",
          "Casual Driver",
          "Casual Driver",
          "Casual Driver",
          "Casual Driver",
          "Casual Driver",
          "Casual Driver",
          "Casual Driver",
          "Casual Driver",
          "Casual Driver",
          "Casual Driver",
          "Casual Driver",
          "Casual Driver",
          "Casual Driver",
          "Casual Driver",
          "Casual Driver",
          "Casual Driver",
          "Casual Driver",
          "Casual Driver",
          "Casual Driver",
          "Casual Driver",
          "Casual Driver",
          "Casual Driver",
          "Casual Driver",
          "Casual Driver",
          "Casual Driver",
          "Casual Driver",
          "Casual Driver",
          "Casual Driver",
          "Casual Driver",
          "Casual Driver",
          "Casual Driver",
          "Casual Driver",
          "Casual Driver",
          "Casual Driver",
          "Casual Driver",
          "Casual Driver",
          "Casual Driver",
          "Casual Driver",
          "Casual Driver",
          "Casual Driver",
          "Casual Driver",
          "Casual Driver",
          "Casual Driver",
          "Casual Driver",
          "Casual Driver",
          "Casual Driver",
          "Casual Driver",
          "Casual Driver",
          "Casual Driver",
          "Casual Driver",
          "Casual Driver",
          "Casual Driver",
          "Casual Driver",
          "Casual Driver",
          "Casual Driver",
          "Casual Driver",
          "Casual Driver",
          "Casual Driver",
          "Casual Driver",
          "Casual Driver",
          "Casual Driver",
          "Casual Driver",
          "Casual Driver",
          "Casual Driver",
          "Casual Driver",
          "Casual Driver",
          "Casual Driver",
          "Casual Driver",
          "Casual Driver",
          "Casual Driver",
          "Casual Driver",
          "Casual Driver",
          "Casual Driver",
          "Casual Driver",
          "Casual Driver",
          "Casual Driver",
          "Casual Driver",
          "Casual Driver",
          "Casual Driver",
          "Casual Driver",
          "Casual Driver",
          "Casual Driver",
          "Casual Driver",
          "Casual Driver",
          "Casual Driver",
          "Casual Driver",
          "Casual Driver",
          "Casual Driver",
          "Casual Driver",
          "Casual Driver",
          "Casual Driver",
          "Casual Driver",
          "Casual Driver",
          "Casual Driver",
          "Casual Driver",
          "Casual Driver",
          "Casual Driver",
          "Casual Driver",
          "Casual Driver",
          "Casual Driver",
          "Casual Driver",
          "Casual Driver",
          "Casual Driver",
          "Casual Driver",
          "Casual Driver",
          "Casual Driver",
          "Casual Driver",
          "Casual Driver",
          "Casual Driver",
          "Casual Driver",
          "Casual Driver",
          "Casual Driver",
          "Casual Driver",
          "Casual Driver",
          "Casual Driver",
          "Casual Driver",
          "Casual Driver",
          "Casual Driver",
          "Casual Driver",
          "Casual Driver",
          "Casual Driver",
          "Casual Driver",
          "Casual Driver",
          "Casual Driver",
          "Casual Driver",
          "Casual Driver",
          "Casual Driver",
          "Casual Driver",
          "Casual Driver",
          "Casual Driver",
          "Casual Driver",
          "Casual Driver",
          "Casual Driver",
          "Casual Driver",
          "Casual Driver",
          "Casual Driver",
          "Casual Driver",
          "Casual Driver",
          "Casual Driver",
          "Casual Driver",
          "Casual Driver",
          "Casual Driver",
          "Casual Driver",
          "Casual Driver",
          "Casual Driver",
          "Casual Driver",
          "Casual Driver",
          "Casual Driver",
          "Casual Driver",
          "Casual Driver",
          "Casual Driver",
          "Casual Driver",
          "Casual Driver",
          "Casual Driver",
          "Casual Driver",
          "Casual Driver",
          "Casual Driver",
          "Casual Driver",
          "Casual Driver",
          "Casual Driver",
          "Casual Driver",
          "Casual Driver",
          "Casual Driver",
          "Casual Driver",
          "Casual Driver",
          "Casual Driver",
          "Casual Driver",
          "Casual Driver",
          "Casual Driver",
          "Casual Driver",
          "Casual Driver",
          "Casual Driver",
          "Casual Driver",
          "Casual Driver",
          "Casual Driver",
          "Casual Driver",
          "Casual Driver",
          "Casual Driver",
          "Casual Driver",
          "Casual Driver",
          "Casual Driver",
          "Casual Driver",
          "Casual Driver",
          "Casual Driver",
          "Casual Driver",
          "Casual Driver",
          "Casual Driver",
          "Casual Driver",
          "Casual Driver",
          "Casual Driver",
          "Casual Driver",
          "Casual Driver",
          "Casual Driver",
          "Casual Driver",
          "Casual Driver",
          "Casual Driver",
          "Casual Driver",
          "Casual Driver",
          "Casual Driver",
          "Casual Driver",
          "Casual Driver",
          "Casual Driver",
          "Casual Driver",
          "Casual Driver",
          "Casual Driver",
          "Casual Driver",
          "Casual Driver",
          "Casual Driver",
          "Casual Driver",
          "Casual Driver",
          "Casual Driver",
          "Casual Driver",
          "Casual Driver",
          "Casual Driver",
          "Casual Driver",
          "Casual Driver",
          "Casual Driver",
          "Casual Driver",
          "Casual Driver",
          "Casual Driver",
          "Casual Driver",
          "Casual Driver",
          "Casual Driver",
          "Casual Driver",
          "Casual Driver",
          "Casual Driver",
          "Casual Driver",
          "Casual Driver",
          "Casual Driver",
          "Casual Driver",
          "Casual Driver",
          "Casual Driver",
          "Casual Driver",
          "Casual Driver",
          "Casual Driver",
          "Casual Driver",
          "Casual Driver",
          "Casual Driver",
          "Casual Driver",
          "Casual Driver",
          "Casual Driver",
          "Casual Driver",
          "Casual Driver",
          "Casual Driver",
          "Casual Driver",
          "Casual Driver",
          "Casual Driver",
          "Casual Driver",
          "Casual Driver",
          "Casual Driver",
          "Casual Driver",
          "Casual Driver",
          "Casual Driver",
          "Casual Driver",
          "Casual Driver",
          "Casual Driver",
          "Casual Driver",
          "Casual Driver",
          "Casual Driver",
          "Casual Driver",
          "Casual Driver",
          "Casual Driver",
          "Casual Driver",
          "Casual Driver",
          "Casual Driver",
          "Casual Driver",
          "Casual Driver",
          "Casual Driver",
          "Casual Driver",
          "Casual Driver",
          "Casual Driver",
          "Casual Driver",
          "Casual Driver",
          "Casual Driver",
          "Casual Driver",
          "Casual Driver",
          "Casual Driver",
          "Casual Driver",
          "Casual Driver",
          "Casual Driver",
          "Casual Driver",
          "Casual Driver",
          "Casual Driver",
          "Casual Driver",
          "Casual Driver",
          "Casual Driver",
          "Casual Driver",
          "Casual Driver",
          "Casual Driver",
          "Casual Driver",
          "Casual Driver",
          "Casual Driver",
          "Casual Driver",
          "Casual Driver",
          "Casual Driver",
          "Casual Driver",
          "Casual Driver",
          "Casual Driver",
          "Casual Driver",
          "Casual Driver",
          "Casual Driver",
          "Casual Driver",
          "Casual Driver",
          "Casual Driver",
          "Casual Driver",
          "Casual Driver",
          "Casual Driver",
          "Casual Driver",
          "Casual Driver",
          "Casual Driver",
          "Casual Driver",
          "Casual Driver",
          "Casual Driver",
          "Casual Driver",
          "Casual Driver",
          "Casual Driver",
          "Casual Driver",
          "Casual Driver",
          "Casual Driver",
          "Casual Driver",
          "Casual Driver",
          "Casual Driver",
          "Casual Driver",
          "Casual Driver",
          "Casual Driver",
          "Casual Driver",
          "Casual Driver",
          "Casual Driver",
          "Casual Driver",
          "Casual Driver",
          "Casual Driver",
          "Casual Driver",
          "Casual Driver",
          "Casual Driver",
          "Casual Driver",
          "Casual Driver",
          "Casual Driver",
          "Casual Driver",
          "Casual Driver",
          "Casual Driver",
          "Casual Driver",
          "Casual Driver",
          "Casual Driver",
          "Casual Driver",
          "Casual Driver",
          "Casual Driver",
          "Casual Driver",
          "Casual Driver",
          "Casual Driver",
          "Casual Driver",
          "Casual Driver",
          "Casual Driver",
          "Casual Driver",
          "Casual Driver",
          "Casual Driver",
          "Casual Driver",
          "Casual Driver",
          "Casual Driver",
          "Casual Driver",
          "Casual Driver",
          "Casual Driver",
          "Casual Driver",
          "Casual Driver",
          "Casual Driver",
          "Casual Driver",
          "Casual Driver",
          "Casual Driver",
          "Casual Driver",
          "Casual Driver",
          "Casual Driver",
          "Casual Driver",
          "Casual Driver",
          "Casual Driver",
          "Casual Driver",
          "Casual Driver",
          "Casual Driver",
          "Casual Driver",
          "Casual Driver",
          "Casual Driver",
          "Casual Driver",
          "Casual Driver",
          "Casual Driver",
          "Casual Driver"
         ],
         "x0": " ",
         "xaxis": "x",
         "y": {
          "bdata": "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",
          "dtype": "f8"
         },
         "y0": " ",
         "yaxis": "y"
        },
        {
         "alignmentgroup": "True",
         "hovertemplate": "User Type=%{x}<br>Charging Cost (USD)=%{y}<extra></extra>",
         "legendgroup": "Long-Distance Traveler",
         "marker": {
          "color": "#00cc96"
         },
         "name": "Long-Distance Traveler",
         "notched": false,
         "offsetgroup": "Long-Distance Traveler",
         "orientation": "v",
         "showlegend": true,
         "type": "box",
         "x": [
          "Long-Distance Traveler",
          "Long-Distance Traveler",
          "Long-Distance Traveler",
          "Long-Distance Traveler",
          "Long-Distance Traveler",
          "Long-Distance Traveler",
          "Long-Distance Traveler",
          "Long-Distance Traveler",
          "Long-Distance Traveler",
          "Long-Distance Traveler",
          "Long-Distance Traveler",
          "Long-Distance Traveler",
          "Long-Distance Traveler",
          "Long-Distance Traveler",
          "Long-Distance Traveler",
          "Long-Distance Traveler",
          "Long-Distance Traveler",
          "Long-Distance Traveler",
          "Long-Distance Traveler",
          "Long-Distance Traveler",
          "Long-Distance Traveler",
          "Long-Distance Traveler",
          "Long-Distance Traveler",
          "Long-Distance Traveler",
          "Long-Distance Traveler",
          "Long-Distance Traveler",
          "Long-Distance Traveler",
          "Long-Distance Traveler",
          "Long-Distance Traveler",
          "Long-Distance Traveler",
          "Long-Distance Traveler",
          "Long-Distance Traveler",
          "Long-Distance Traveler",
          "Long-Distance Traveler",
          "Long-Distance Traveler",
          "Long-Distance Traveler",
          "Long-Distance Traveler",
          "Long-Distance Traveler",
          "Long-Distance Traveler",
          "Long-Distance Traveler",
          "Long-Distance Traveler",
          "Long-Distance Traveler",
          "Long-Distance Traveler",
          "Long-Distance Traveler",
          "Long-Distance Traveler",
          "Long-Distance Traveler",
          "Long-Distance Traveler",
          "Long-Distance Traveler",
          "Long-Distance Traveler",
          "Long-Distance Traveler",
          "Long-Distance Traveler",
          "Long-Distance Traveler",
          "Long-Distance Traveler",
          "Long-Distance Traveler",
          "Long-Distance Traveler",
          "Long-Distance Traveler",
          "Long-Distance Traveler",
          "Long-Distance Traveler",
          "Long-Distance Traveler",
          "Long-Distance Traveler",
          "Long-Distance Traveler",
          "Long-Distance Traveler",
          "Long-Distance Traveler",
          "Long-Distance Traveler",
          "Long-Distance Traveler",
          "Long-Distance Traveler",
          "Long-Distance Traveler",
          "Long-Distance Traveler",
          "Long-Distance Traveler",
          "Long-Distance Traveler",
          "Long-Distance Traveler",
          "Long-Distance Traveler",
          "Long-Distance Traveler",
          "Long-Distance Traveler",
          "Long-Distance Traveler",
          "Long-Distance Traveler",
          "Long-Distance Traveler",
          "Long-Distance Traveler",
          "Long-Distance Traveler",
          "Long-Distance Traveler",
          "Long-Distance Traveler",
          "Long-Distance Traveler",
          "Long-Distance Traveler",
          "Long-Distance Traveler",
          "Long-Distance Traveler",
          "Long-Distance Traveler",
          "Long-Distance Traveler",
          "Long-Distance Traveler",
          "Long-Distance Traveler",
          "Long-Distance Traveler",
          "Long-Distance Traveler",
          "Long-Distance Traveler",
          "Long-Distance Traveler",
          "Long-Distance Traveler",
          "Long-Distance Traveler",
          "Long-Distance Traveler",
          "Long-Distance Traveler",
          "Long-Distance Traveler",
          "Long-Distance Traveler",
          "Long-Distance Traveler",
          "Long-Distance Traveler",
          "Long-Distance Traveler",
          "Long-Distance Traveler",
          "Long-Distance Traveler",
          "Long-Distance Traveler",
          "Long-Distance Traveler",
          "Long-Distance Traveler",
          "Long-Distance Traveler",
          "Long-Distance Traveler",
          "Long-Distance Traveler",
          "Long-Distance Traveler",
          "Long-Distance Traveler",
          "Long-Distance Traveler",
          "Long-Distance Traveler",
          "Long-Distance Traveler",
          "Long-Distance Traveler",
          "Long-Distance Traveler",
          "Long-Distance Traveler",
          "Long-Distance Traveler",
          "Long-Distance Traveler",
          "Long-Distance Traveler",
          "Long-Distance Traveler",
          "Long-Distance Traveler",
          "Long-Distance Traveler",
          "Long-Distance Traveler",
          "Long-Distance Traveler",
          "Long-Distance Traveler",
          "Long-Distance Traveler",
          "Long-Distance Traveler",
          "Long-Distance Traveler",
          "Long-Distance Traveler",
          "Long-Distance Traveler",
          "Long-Distance Traveler",
          "Long-Distance Traveler",
          "Long-Distance Traveler",
          "Long-Distance Traveler",
          "Long-Distance Traveler",
          "Long-Distance Traveler",
          "Long-Distance Traveler",
          "Long-Distance Traveler",
          "Long-Distance Traveler",
          "Long-Distance Traveler",
          "Long-Distance Traveler",
          "Long-Distance Traveler",
          "Long-Distance Traveler",
          "Long-Distance Traveler",
          "Long-Distance Traveler",
          "Long-Distance Traveler",
          "Long-Distance Traveler",
          "Long-Distance Traveler",
          "Long-Distance Traveler",
          "Long-Distance Traveler",
          "Long-Distance Traveler",
          "Long-Distance Traveler",
          "Long-Distance Traveler",
          "Long-Distance Traveler",
          "Long-Distance Traveler",
          "Long-Distance Traveler",
          "Long-Distance Traveler",
          "Long-Distance Traveler",
          "Long-Distance Traveler",
          "Long-Distance Traveler",
          "Long-Distance Traveler",
          "Long-Distance Traveler",
          "Long-Distance Traveler",
          "Long-Distance Traveler",
          "Long-Distance Traveler",
          "Long-Distance Traveler",
          "Long-Distance Traveler",
          "Long-Distance Traveler",
          "Long-Distance Traveler",
          "Long-Distance Traveler",
          "Long-Distance Traveler",
          "Long-Distance Traveler",
          "Long-Distance Traveler",
          "Long-Distance Traveler",
          "Long-Distance Traveler",
          "Long-Distance Traveler",
          "Long-Distance Traveler",
          "Long-Distance Traveler",
          "Long-Distance Traveler",
          "Long-Distance Traveler",
          "Long-Distance Traveler",
          "Long-Distance Traveler",
          "Long-Distance Traveler",
          "Long-Distance Traveler",
          "Long-Distance Traveler",
          "Long-Distance Traveler",
          "Long-Distance Traveler",
          "Long-Distance Traveler",
          "Long-Distance Traveler",
          "Long-Distance Traveler",
          "Long-Distance Traveler",
          "Long-Distance Traveler",
          "Long-Distance Traveler",
          "Long-Distance Traveler",
          "Long-Distance Traveler",
          "Long-Distance Traveler",
          "Long-Distance Traveler",
          "Long-Distance Traveler",
          "Long-Distance Traveler",
          "Long-Distance Traveler",
          "Long-Distance Traveler",
          "Long-Distance Traveler",
          "Long-Distance Traveler",
          "Long-Distance Traveler",
          "Long-Distance Traveler",
          "Long-Distance Traveler",
          "Long-Distance Traveler",
          "Long-Distance Traveler",
          "Long-Distance Traveler",
          "Long-Distance Traveler",
          "Long-Distance Traveler",
          "Long-Distance Traveler",
          "Long-Distance Traveler",
          "Long-Distance Traveler",
          "Long-Distance Traveler",
          "Long-Distance Traveler",
          "Long-Distance Traveler",
          "Long-Distance Traveler",
          "Long-Distance Traveler",
          "Long-Distance Traveler",
          "Long-Distance Traveler",
          "Long-Distance Traveler",
          "Long-Distance Traveler",
          "Long-Distance Traveler",
          "Long-Distance Traveler",
          "Long-Distance Traveler",
          "Long-Distance Traveler",
          "Long-Distance Traveler",
          "Long-Distance Traveler",
          "Long-Distance Traveler",
          "Long-Distance Traveler",
          "Long-Distance Traveler",
          "Long-Distance Traveler",
          "Long-Distance Traveler",
          "Long-Distance Traveler",
          "Long-Distance Traveler",
          "Long-Distance Traveler",
          "Long-Distance Traveler",
          "Long-Distance Traveler",
          "Long-Distance Traveler",
          "Long-Distance Traveler",
          "Long-Distance Traveler",
          "Long-Distance Traveler",
          "Long-Distance Traveler",
          "Long-Distance Traveler",
          "Long-Distance Traveler",
          "Long-Distance Traveler",
          "Long-Distance Traveler",
          "Long-Distance Traveler",
          "Long-Distance Traveler",
          "Long-Distance Traveler",
          "Long-Distance Traveler",
          "Long-Distance Traveler",
          "Long-Distance Traveler",
          "Long-Distance Traveler",
          "Long-Distance Traveler",
          "Long-Distance Traveler",
          "Long-Distance Traveler",
          "Long-Distance Traveler",
          "Long-Distance Traveler",
          "Long-Distance Traveler",
          "Long-Distance Traveler",
          "Long-Distance Traveler",
          "Long-Distance Traveler",
          "Long-Distance Traveler",
          "Long-Distance Traveler",
          "Long-Distance Traveler",
          "Long-Distance Traveler",
          "Long-Distance Traveler",
          "Long-Distance Traveler",
          "Long-Distance Traveler",
          "Long-Distance Traveler",
          "Long-Distance Traveler",
          "Long-Distance Traveler",
          "Long-Distance Traveler",
          "Long-Distance Traveler",
          "Long-Distance Traveler",
          "Long-Distance Traveler",
          "Long-Distance Traveler",
          "Long-Distance Traveler",
          "Long-Distance Traveler",
          "Long-Distance Traveler",
          "Long-Distance Traveler",
          "Long-Distance Traveler",
          "Long-Distance Traveler",
          "Long-Distance Traveler",
          "Long-Distance Traveler",
          "Long-Distance Traveler",
          "Long-Distance Traveler",
          "Long-Distance Traveler",
          "Long-Distance Traveler",
          "Long-Distance Traveler",
          "Long-Distance Traveler",
          "Long-Distance Traveler",
          "Long-Distance Traveler",
          "Long-Distance Traveler",
          "Long-Distance Traveler",
          "Long-Distance Traveler",
          "Long-Distance Traveler",
          "Long-Distance Traveler",
          "Long-Distance Traveler",
          "Long-Distance Traveler",
          "Long-Distance Traveler",
          "Long-Distance Traveler",
          "Long-Distance Traveler",
          "Long-Distance Traveler",
          "Long-Distance Traveler",
          "Long-Distance Traveler",
          "Long-Distance Traveler",
          "Long-Distance Traveler",
          "Long-Distance Traveler",
          "Long-Distance Traveler",
          "Long-Distance Traveler",
          "Long-Distance Traveler",
          "Long-Distance Traveler",
          "Long-Distance Traveler",
          "Long-Distance Traveler",
          "Long-Distance Traveler",
          "Long-Distance Traveler",
          "Long-Distance Traveler",
          "Long-Distance Traveler",
          "Long-Distance Traveler",
          "Long-Distance Traveler",
          "Long-Distance Traveler",
          "Long-Distance Traveler",
          "Long-Distance Traveler",
          "Long-Distance Traveler",
          "Long-Distance Traveler",
          "Long-Distance Traveler",
          "Long-Distance Traveler",
          "Long-Distance Traveler",
          "Long-Distance Traveler",
          "Long-Distance Traveler",
          "Long-Distance Traveler",
          "Long-Distance Traveler",
          "Long-Distance Traveler",
          "Long-Distance Traveler",
          "Long-Distance Traveler",
          "Long-Distance Traveler",
          "Long-Distance Traveler",
          "Long-Distance Traveler",
          "Long-Distance Traveler",
          "Long-Distance Traveler",
          "Long-Distance Traveler",
          "Long-Distance Traveler",
          "Long-Distance Traveler",
          "Long-Distance Traveler",
          "Long-Distance Traveler",
          "Long-Distance Traveler",
          "Long-Distance Traveler",
          "Long-Distance Traveler",
          "Long-Distance Traveler",
          "Long-Distance Traveler",
          "Long-Distance Traveler",
          "Long-Distance Traveler",
          "Long-Distance Traveler",
          "Long-Distance Traveler",
          "Long-Distance Traveler",
          "Long-Distance Traveler",
          "Long-Distance Traveler",
          "Long-Distance Traveler",
          "Long-Distance Traveler",
          "Long-Distance Traveler",
          "Long-Distance Traveler",
          "Long-Distance Traveler",
          "Long-Distance Traveler",
          "Long-Distance Traveler",
          "Long-Distance Traveler",
          "Long-Distance Traveler",
          "Long-Distance Traveler",
          "Long-Distance Traveler",
          "Long-Distance Traveler",
          "Long-Distance Traveler",
          "Long-Distance Traveler",
          "Long-Distance Traveler",
          "Long-Distance Traveler",
          "Long-Distance Traveler",
          "Long-Distance Traveler",
          "Long-Distance Traveler",
          "Long-Distance Traveler",
          "Long-Distance Traveler",
          "Long-Distance Traveler",
          "Long-Distance Traveler",
          "Long-Distance Traveler",
          "Long-Distance Traveler",
          "Long-Distance Traveler",
          "Long-Distance Traveler",
          "Long-Distance Traveler",
          "Long-Distance Traveler",
          "Long-Distance Traveler",
          "Long-Distance Traveler",
          "Long-Distance Traveler",
          "Long-Distance Traveler",
          "Long-Distance Traveler",
          "Long-Distance Traveler",
          "Long-Distance Traveler",
          "Long-Distance Traveler",
          "Long-Distance Traveler",
          "Long-Distance Traveler",
          "Long-Distance Traveler",
          "Long-Distance Traveler",
          "Long-Distance Traveler",
          "Long-Distance Traveler",
          "Long-Distance Traveler",
          "Long-Distance Traveler",
          "Long-Distance Traveler",
          "Long-Distance Traveler",
          "Long-Distance Traveler",
          "Long-Distance Traveler",
          "Long-Distance Traveler",
          "Long-Distance Traveler",
          "Long-Distance Traveler",
          "Long-Distance Traveler",
          "Long-Distance Traveler",
          "Long-Distance Traveler",
          "Long-Distance Traveler",
          "Long-Distance Traveler",
          "Long-Distance Traveler",
          "Long-Distance Traveler",
          "Long-Distance Traveler",
          "Long-Distance Traveler",
          "Long-Distance Traveler",
          "Long-Distance Traveler",
          "Long-Distance Traveler",
          "Long-Distance Traveler",
          "Long-Distance Traveler",
          "Long-Distance Traveler",
          "Long-Distance Traveler",
          "Long-Distance Traveler",
          "Long-Distance Traveler",
          "Long-Distance Traveler",
          "Long-Distance Traveler",
          "Long-Distance Traveler",
          "Long-Distance Traveler",
          "Long-Distance Traveler"
         ],
         "x0": " ",
         "xaxis": "x",
         "y": {
          "bdata": "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",
          "dtype": "f8"
         },
         "y0": " ",
         "yaxis": "y"
        }
       ],
       "layout": {
        "boxmode": "overlay",
        "legend": {
         "title": {
          "text": "User Type"
         },
         "tracegroupgap": 0
        },
        "template": {
         "data": {
          "bar": [
           {
            "error_x": {
             "color": "#2a3f5f"
            },
            "error_y": {
             "color": "#2a3f5f"
            },
            "marker": {
             "line": {
              "color": "#E5ECF6",
              "width": 0.5
             },
             "pattern": {
              "fillmode": "overlay",
              "size": 10,
              "solidity": 0.2
             }
            },
            "type": "bar"
           }
          ],
          "barpolar": [
           {
            "marker": {
             "line": {
              "color": "#E5ECF6",
              "width": 0.5
             },
             "pattern": {
              "fillmode": "overlay",
              "size": 10,
              "solidity": 0.2
             }
            },
            "type": "barpolar"
           }
          ],
          "carpet": [
           {
            "aaxis": {
             "endlinecolor": "#2a3f5f",
             "gridcolor": "white",
             "linecolor": "white",
             "minorgridcolor": "white",
             "startlinecolor": "#2a3f5f"
            },
            "baxis": {
             "endlinecolor": "#2a3f5f",
             "gridcolor": "white",
             "linecolor": "white",
             "minorgridcolor": "white",
             "startlinecolor": "#2a3f5f"
            },
            "type": "carpet"
           }
          ],
          "choropleth": [
           {
            "colorbar": {
             "outlinewidth": 0,
             "ticks": ""
            },
            "type": "choropleth"
           }
          ],
          "contour": [
           {
            "colorbar": {
             "outlinewidth": 0,
             "ticks": ""
            },
            "colorscale": [
             [
              0,
              "#0d0887"
             ],
             [
              0.1111111111111111,
              "#46039f"
             ],
             [
              0.2222222222222222,
              "#7201a8"
             ],
             [
              0.3333333333333333,
              "#9c179e"
             ],
             [
              0.4444444444444444,
              "#bd3786"
             ],
             [
              0.5555555555555556,
              "#d8576b"
             ],
             [
              0.6666666666666666,
              "#ed7953"
             ],
             [
              0.7777777777777778,
              "#fb9f3a"
             ],
             [
              0.8888888888888888,
              "#fdca26"
             ],
             [
              1,
              "#f0f921"
             ]
            ],
            "type": "contour"
           }
          ],
          "contourcarpet": [
           {
            "colorbar": {
             "outlinewidth": 0,
             "ticks": ""
            },
            "type": "contourcarpet"
           }
          ],
          "heatmap": [
           {
            "colorbar": {
             "outlinewidth": 0,
             "ticks": ""
            },
            "colorscale": [
             [
              0,
              "#0d0887"
             ],
             [
              0.1111111111111111,
              "#46039f"
             ],
             [
              0.2222222222222222,
              "#7201a8"
             ],
             [
              0.3333333333333333,
              "#9c179e"
             ],
             [
              0.4444444444444444,
              "#bd3786"
             ],
             [
              0.5555555555555556,
              "#d8576b"
             ],
             [
              0.6666666666666666,
              "#ed7953"
             ],
             [
              0.7777777777777778,
              "#fb9f3a"
             ],
             [
              0.8888888888888888,
              "#fdca26"
             ],
             [
              1,
              "#f0f921"
             ]
            ],
            "type": "heatmap"
           }
          ],
          "histogram": [
           {
            "marker": {
             "pattern": {
              "fillmode": "overlay",
              "size": 10,
              "solidity": 0.2
             }
            },
            "type": "histogram"
           }
          ],
          "histogram2d": [
           {
            "colorbar": {
             "outlinewidth": 0,
             "ticks": ""
            },
            "colorscale": [
             [
              0,
              "#0d0887"
             ],
             [
              0.1111111111111111,
              "#46039f"
             ],
             [
              0.2222222222222222,
              "#7201a8"
             ],
             [
              0.3333333333333333,
              "#9c179e"
             ],
             [
              0.4444444444444444,
              "#bd3786"
             ],
             [
              0.5555555555555556,
              "#d8576b"
             ],
             [
              0.6666666666666666,
              "#ed7953"
             ],
             [
              0.7777777777777778,
              "#fb9f3a"
             ],
             [
              0.8888888888888888,
              "#fdca26"
             ],
             [
              1,
              "#f0f921"
             ]
            ],
            "type": "histogram2d"
           }
          ],
          "histogram2dcontour": [
           {
            "colorbar": {
             "outlinewidth": 0,
             "ticks": ""
            },
            "colorscale": [
             [
              0,
              "#0d0887"
             ],
             [
              0.1111111111111111,
              "#46039f"
             ],
             [
              0.2222222222222222,
              "#7201a8"
             ],
             [
              0.3333333333333333,
              "#9c179e"
             ],
             [
              0.4444444444444444,
              "#bd3786"
             ],
             [
              0.5555555555555556,
              "#d8576b"
             ],
             [
              0.6666666666666666,
              "#ed7953"
             ],
             [
              0.7777777777777778,
              "#fb9f3a"
             ],
             [
              0.8888888888888888,
              "#fdca26"
             ],
             [
              1,
              "#f0f921"
             ]
            ],
            "type": "histogram2dcontour"
           }
          ],
          "mesh3d": [
           {
            "colorbar": {
             "outlinewidth": 0,
             "ticks": ""
            },
            "type": "mesh3d"
           }
          ],
          "parcoords": [
           {
            "line": {
             "colorbar": {
              "outlinewidth": 0,
              "ticks": ""
             }
            },
            "type": "parcoords"
           }
          ],
          "pie": [
           {
            "automargin": true,
            "type": "pie"
           }
          ],
          "scatter": [
           {
            "fillpattern": {
             "fillmode": "overlay",
             "size": 10,
             "solidity": 0.2
            },
            "type": "scatter"
           }
          ],
          "scatter3d": [
           {
            "line": {
             "colorbar": {
              "outlinewidth": 0,
              "ticks": ""
             }
            },
            "marker": {
             "colorbar": {
              "outlinewidth": 0,
              "ticks": ""
             }
            },
            "type": "scatter3d"
           }
          ],
          "scattercarpet": [
           {
            "marker": {
             "colorbar": {
              "outlinewidth": 0,
              "ticks": ""
             }
            },
            "type": "scattercarpet"
           }
          ],
          "scattergeo": [
           {
            "marker": {
             "colorbar": {
              "outlinewidth": 0,
              "ticks": ""
             }
            },
            "type": "scattergeo"
           }
          ],
          "scattergl": [
           {
            "marker": {
             "colorbar": {
              "outlinewidth": 0,
              "ticks": ""
             }
            },
            "type": "scattergl"
           }
          ],
          "scattermap": [
           {
            "marker": {
             "colorbar": {
              "outlinewidth": 0,
              "ticks": ""
             }
            },
            "type": "scattermap"
           }
          ],
          "scattermapbox": [
           {
            "marker": {
             "colorbar": {
              "outlinewidth": 0,
              "ticks": ""
             }
            },
            "type": "scattermapbox"
           }
          ],
          "scatterpolar": [
           {
            "marker": {
             "colorbar": {
              "outlinewidth": 0,
              "ticks": ""
             }
            },
            "type": "scatterpolar"
           }
          ],
          "scatterpolargl": [
           {
            "marker": {
             "colorbar": {
              "outlinewidth": 0,
              "ticks": ""
             }
            },
            "type": "scatterpolargl"
           }
          ],
          "scatterternary": [
           {
            "marker": {
             "colorbar": {
              "outlinewidth": 0,
              "ticks": ""
             }
            },
            "type": "scatterternary"
           }
          ],
          "surface": [
           {
            "colorbar": {
             "outlinewidth": 0,
             "ticks": ""
            },
            "colorscale": [
             [
              0,
              "#0d0887"
             ],
             [
              0.1111111111111111,
              "#46039f"
             ],
             [
              0.2222222222222222,
              "#7201a8"
             ],
             [
              0.3333333333333333,
              "#9c179e"
             ],
             [
              0.4444444444444444,
              "#bd3786"
             ],
             [
              0.5555555555555556,
              "#d8576b"
             ],
             [
              0.6666666666666666,
              "#ed7953"
             ],
             [
              0.7777777777777778,
              "#fb9f3a"
             ],
             [
              0.8888888888888888,
              "#fdca26"
             ],
             [
              1,
              "#f0f921"
             ]
            ],
            "type": "surface"
           }
          ],
          "table": [
           {
            "cells": {
             "fill": {
              "color": "#EBF0F8"
             },
             "line": {
              "color": "white"
             }
            },
            "header": {
             "fill": {
              "color": "#C8D4E3"
             },
             "line": {
              "color": "white"
             }
            },
            "type": "table"
           }
          ]
         },
         "layout": {
          "annotationdefaults": {
           "arrowcolor": "#2a3f5f",
           "arrowhead": 0,
           "arrowwidth": 1
          },
          "autotypenumbers": "strict",
          "coloraxis": {
           "colorbar": {
            "outlinewidth": 0,
            "ticks": ""
           }
          },
          "colorscale": {
           "diverging": [
            [
             0,
             "#8e0152"
            ],
            [
             0.1,
             "#c51b7d"
            ],
            [
             0.2,
             "#de77ae"
            ],
            [
             0.3,
             "#f1b6da"
            ],
            [
             0.4,
             "#fde0ef"
            ],
            [
             0.5,
             "#f7f7f7"
            ],
            [
             0.6,
             "#e6f5d0"
            ],
            [
             0.7,
             "#b8e186"
            ],
            [
             0.8,
             "#7fbc41"
            ],
            [
             0.9,
             "#4d9221"
            ],
            [
             1,
             "#276419"
            ]
           ],
           "sequential": [
            [
             0,
             "#0d0887"
            ],
            [
             0.1111111111111111,
             "#46039f"
            ],
            [
             0.2222222222222222,
             "#7201a8"
            ],
            [
             0.3333333333333333,
             "#9c179e"
            ],
            [
             0.4444444444444444,
             "#bd3786"
            ],
            [
             0.5555555555555556,
             "#d8576b"
            ],
            [
             0.6666666666666666,
             "#ed7953"
            ],
            [
             0.7777777777777778,
             "#fb9f3a"
            ],
            [
             0.8888888888888888,
             "#fdca26"
            ],
            [
             1,
             "#f0f921"
            ]
           ],
           "sequentialminus": [
            [
             0,
             "#0d0887"
            ],
            [
             0.1111111111111111,
             "#46039f"
            ],
            [
             0.2222222222222222,
             "#7201a8"
            ],
            [
             0.3333333333333333,
             "#9c179e"
            ],
            [
             0.4444444444444444,
             "#bd3786"
            ],
            [
             0.5555555555555556,
             "#d8576b"
            ],
            [
             0.6666666666666666,
             "#ed7953"
            ],
            [
             0.7777777777777778,
             "#fb9f3a"
            ],
            [
             0.8888888888888888,
             "#fdca26"
            ],
            [
             1,
             "#f0f921"
            ]
           ]
          },
          "colorway": [
           "#636efa",
           "#EF553B",
           "#00cc96",
           "#ab63fa",
           "#FFA15A",
           "#19d3f3",
           "#FF6692",
           "#B6E880",
           "#FF97FF",
           "#FECB52"
          ],
          "font": {
           "color": "#2a3f5f"
          },
          "geo": {
           "bgcolor": "white",
           "lakecolor": "white",
           "landcolor": "#E5ECF6",
           "showlakes": true,
           "showland": true,
           "subunitcolor": "white"
          },
          "hoverlabel": {
           "align": "left"
          },
          "hovermode": "closest",
          "mapbox": {
           "style": "light"
          },
          "paper_bgcolor": "white",
          "plot_bgcolor": "#E5ECF6",
          "polar": {
           "angularaxis": {
            "gridcolor": "white",
            "linecolor": "white",
            "ticks": ""
           },
           "bgcolor": "#E5ECF6",
           "radialaxis": {
            "gridcolor": "white",
            "linecolor": "white",
            "ticks": ""
           }
          },
          "scene": {
           "xaxis": {
            "backgroundcolor": "#E5ECF6",
            "gridcolor": "white",
            "gridwidth": 2,
            "linecolor": "white",
            "showbackground": true,
            "ticks": "",
            "zerolinecolor": "white"
           },
           "yaxis": {
            "backgroundcolor": "#E5ECF6",
            "gridcolor": "white",
            "gridwidth": 2,
            "linecolor": "white",
            "showbackground": true,
            "ticks": "",
            "zerolinecolor": "white"
           },
           "zaxis": {
            "backgroundcolor": "#E5ECF6",
            "gridcolor": "white",
            "gridwidth": 2,
            "linecolor": "white",
            "showbackground": true,
            "ticks": "",
            "zerolinecolor": "white"
           }
          },
          "shapedefaults": {
           "line": {
            "color": "#2a3f5f"
           }
          },
          "ternary": {
           "aaxis": {
            "gridcolor": "white",
            "linecolor": "white",
            "ticks": ""
           },
           "baxis": {
            "gridcolor": "white",
            "linecolor": "white",
            "ticks": ""
           },
           "bgcolor": "#E5ECF6",
           "caxis": {
            "gridcolor": "white",
            "linecolor": "white",
            "ticks": ""
           }
          },
          "title": {
           "x": 0.05
          },
          "xaxis": {
           "automargin": true,
           "gridcolor": "white",
           "linecolor": "white",
           "ticks": "",
           "title": {
            "standoff": 15
           },
           "zerolinecolor": "white",
           "zerolinewidth": 2
          },
          "yaxis": {
           "automargin": true,
           "gridcolor": "white",
           "linecolor": "white",
           "ticks": "",
           "title": {
            "standoff": 15
           },
           "zerolinecolor": "white",
           "zerolinewidth": 2
          }
         }
        },
        "title": {
         "text": "Charging Cost Distribution by User Type"
        },
        "xaxis": {
         "anchor": "y",
         "categoryarray": [
          "Commuter",
          "Casual Driver",
          "Long-Distance Traveler"
         ],
         "categoryorder": "array",
         "domain": [
          0,
          1
         ],
         "title": {
          "text": "User Type"
         }
        },
        "yaxis": {
         "anchor": "x",
         "domain": [
          0,
          1
         ],
         "title": {
          "text": "Charging Cost (USD)"
         }
        }
       }
      }
     },
     "metadata": {},
     "output_type": "display_data"
    }
   ],
   "source": [
    "fig5 = px.box(df, x=\"User Type\", y=\"Charging Cost (USD)\",\n",
    "              title=\"Charging Cost Distribution by User Type\", color=\"User Type\")\n",
    "fig5.show()"
   ]
  },
  {
   "cell_type": "code",
   "execution_count": null,
   "id": "60573e94",
   "metadata": {},
   "outputs": [
    {
     "data": {
      "application/vnd.plotly.v1+json": {
       "config": {
        "plotlyServerURL": "https://plot.ly"
       },
       "data": [
        {
         "bingroup": "x",
         "hovertemplate": "Charging Duration (hours)=%{x}<br>count=%{y}<extra></extra>",
         "legendgroup": "",
         "marker": {
          "color": "#BE8CAB",
          "pattern": {
           "shape": ""
          }
         },
         "name": "",
         "nbinsx": 30,
         "orientation": "v",
         "showlegend": false,
         "type": "histogram",
         "x": {
          "bdata": "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",
          "dtype": "f8"
         },
         "xaxis": "x",
         "yaxis": "y"
        }
       ],
       "layout": {
        "barmode": "relative",
        "legend": {
         "tracegroupgap": 0
        },
        "template": {
         "data": {
          "bar": [
           {
            "error_x": {
             "color": "#2a3f5f"
            },
            "error_y": {
             "color": "#2a3f5f"
            },
            "marker": {
             "line": {
              "color": "#E5ECF6",
              "width": 0.5
             },
             "pattern": {
              "fillmode": "overlay",
              "size": 10,
              "solidity": 0.2
             }
            },
            "type": "bar"
           }
          ],
          "barpolar": [
           {
            "marker": {
             "line": {
              "color": "#E5ECF6",
              "width": 0.5
             },
             "pattern": {
              "fillmode": "overlay",
              "size": 10,
              "solidity": 0.2
             }
            },
            "type": "barpolar"
           }
          ],
          "carpet": [
           {
            "aaxis": {
             "endlinecolor": "#2a3f5f",
             "gridcolor": "white",
             "linecolor": "white",
             "minorgridcolor": "white",
             "startlinecolor": "#2a3f5f"
            },
            "baxis": {
             "endlinecolor": "#2a3f5f",
             "gridcolor": "white",
             "linecolor": "white",
             "minorgridcolor": "white",
             "startlinecolor": "#2a3f5f"
            },
            "type": "carpet"
           }
          ],
          "choropleth": [
           {
            "colorbar": {
             "outlinewidth": 0,
             "ticks": ""
            },
            "type": "choropleth"
           }
          ],
          "contour": [
           {
            "colorbar": {
             "outlinewidth": 0,
             "ticks": ""
            },
            "colorscale": [
             [
              0,
              "#0d0887"
             ],
             [
              0.1111111111111111,
              "#46039f"
             ],
             [
              0.2222222222222222,
              "#7201a8"
             ],
             [
              0.3333333333333333,
              "#9c179e"
             ],
             [
              0.4444444444444444,
              "#bd3786"
             ],
             [
              0.5555555555555556,
              "#d8576b"
             ],
             [
              0.6666666666666666,
              "#ed7953"
             ],
             [
              0.7777777777777778,
              "#fb9f3a"
             ],
             [
              0.8888888888888888,
              "#fdca26"
             ],
             [
              1,
              "#f0f921"
             ]
            ],
            "type": "contour"
           }
          ],
          "contourcarpet": [
           {
            "colorbar": {
             "outlinewidth": 0,
             "ticks": ""
            },
            "type": "contourcarpet"
           }
          ],
          "heatmap": [
           {
            "colorbar": {
             "outlinewidth": 0,
             "ticks": ""
            },
            "colorscale": [
             [
              0,
              "#0d0887"
             ],
             [
              0.1111111111111111,
              "#46039f"
             ],
             [
              0.2222222222222222,
              "#7201a8"
             ],
             [
              0.3333333333333333,
              "#9c179e"
             ],
             [
              0.4444444444444444,
              "#bd3786"
             ],
             [
              0.5555555555555556,
              "#d8576b"
             ],
             [
              0.6666666666666666,
              "#ed7953"
             ],
             [
              0.7777777777777778,
              "#fb9f3a"
             ],
             [
              0.8888888888888888,
              "#fdca26"
             ],
             [
              1,
              "#f0f921"
             ]
            ],
            "type": "heatmap"
           }
          ],
          "histogram": [
           {
            "marker": {
             "pattern": {
              "fillmode": "overlay",
              "size": 10,
              "solidity": 0.2
             }
            },
            "type": "histogram"
           }
          ],
          "histogram2d": [
           {
            "colorbar": {
             "outlinewidth": 0,
             "ticks": ""
            },
            "colorscale": [
             [
              0,
              "#0d0887"
             ],
             [
              0.1111111111111111,
              "#46039f"
             ],
             [
              0.2222222222222222,
              "#7201a8"
             ],
             [
              0.3333333333333333,
              "#9c179e"
             ],
             [
              0.4444444444444444,
              "#bd3786"
             ],
             [
              0.5555555555555556,
              "#d8576b"
             ],
             [
              0.6666666666666666,
              "#ed7953"
             ],
             [
              0.7777777777777778,
              "#fb9f3a"
             ],
             [
              0.8888888888888888,
              "#fdca26"
             ],
             [
              1,
              "#f0f921"
             ]
            ],
            "type": "histogram2d"
           }
          ],
          "histogram2dcontour": [
           {
            "colorbar": {
             "outlinewidth": 0,
             "ticks": ""
            },
            "colorscale": [
             [
              0,
              "#0d0887"
             ],
             [
              0.1111111111111111,
              "#46039f"
             ],
             [
              0.2222222222222222,
              "#7201a8"
             ],
             [
              0.3333333333333333,
              "#9c179e"
             ],
             [
              0.4444444444444444,
              "#bd3786"
             ],
             [
              0.5555555555555556,
              "#d8576b"
             ],
             [
              0.6666666666666666,
              "#ed7953"
             ],
             [
              0.7777777777777778,
              "#fb9f3a"
             ],
             [
              0.8888888888888888,
              "#fdca26"
             ],
             [
              1,
              "#f0f921"
             ]
            ],
            "type": "histogram2dcontour"
           }
          ],
          "mesh3d": [
           {
            "colorbar": {
             "outlinewidth": 0,
             "ticks": ""
            },
            "type": "mesh3d"
           }
          ],
          "parcoords": [
           {
            "line": {
             "colorbar": {
              "outlinewidth": 0,
              "ticks": ""
             }
            },
            "type": "parcoords"
           }
          ],
          "pie": [
           {
            "automargin": true,
            "type": "pie"
           }
          ],
          "scatter": [
           {
            "fillpattern": {
             "fillmode": "overlay",
             "size": 10,
             "solidity": 0.2
            },
            "type": "scatter"
           }
          ],
          "scatter3d": [
           {
            "line": {
             "colorbar": {
              "outlinewidth": 0,
              "ticks": ""
             }
            },
            "marker": {
             "colorbar": {
              "outlinewidth": 0,
              "ticks": ""
             }
            },
            "type": "scatter3d"
           }
          ],
          "scattercarpet": [
           {
            "marker": {
             "colorbar": {
              "outlinewidth": 0,
              "ticks": ""
             }
            },
            "type": "scattercarpet"
           }
          ],
          "scattergeo": [
           {
            "marker": {
             "colorbar": {
              "outlinewidth": 0,
              "ticks": ""
             }
            },
            "type": "scattergeo"
           }
          ],
          "scattergl": [
           {
            "marker": {
             "colorbar": {
              "outlinewidth": 0,
              "ticks": ""
             }
            },
            "type": "scattergl"
           }
          ],
          "scattermap": [
           {
            "marker": {
             "colorbar": {
              "outlinewidth": 0,
              "ticks": ""
             }
            },
            "type": "scattermap"
           }
          ],
          "scattermapbox": [
           {
            "marker": {
             "colorbar": {
              "outlinewidth": 0,
              "ticks": ""
             }
            },
            "type": "scattermapbox"
           }
          ],
          "scatterpolar": [
           {
            "marker": {
             "colorbar": {
              "outlinewidth": 0,
              "ticks": ""
             }
            },
            "type": "scatterpolar"
           }
          ],
          "scatterpolargl": [
           {
            "marker": {
             "colorbar": {
              "outlinewidth": 0,
              "ticks": ""
             }
            },
            "type": "scatterpolargl"
           }
          ],
          "scatterternary": [
           {
            "marker": {
             "colorbar": {
              "outlinewidth": 0,
              "ticks": ""
             }
            },
            "type": "scatterternary"
           }
          ],
          "surface": [
           {
            "colorbar": {
             "outlinewidth": 0,
             "ticks": ""
            },
            "colorscale": [
             [
              0,
              "#0d0887"
             ],
             [
              0.1111111111111111,
              "#46039f"
             ],
             [
              0.2222222222222222,
              "#7201a8"
             ],
             [
              0.3333333333333333,
              "#9c179e"
             ],
             [
              0.4444444444444444,
              "#bd3786"
             ],
             [
              0.5555555555555556,
              "#d8576b"
             ],
             [
              0.6666666666666666,
              "#ed7953"
             ],
             [
              0.7777777777777778,
              "#fb9f3a"
             ],
             [
              0.8888888888888888,
              "#fdca26"
             ],
             [
              1,
              "#f0f921"
             ]
            ],
            "type": "surface"
           }
          ],
          "table": [
           {
            "cells": {
             "fill": {
              "color": "#EBF0F8"
             },
             "line": {
              "color": "white"
             }
            },
            "header": {
             "fill": {
              "color": "#C8D4E3"
             },
             "line": {
              "color": "white"
             }
            },
            "type": "table"
           }
          ]
         },
         "layout": {
          "annotationdefaults": {
           "arrowcolor": "#2a3f5f",
           "arrowhead": 0,
           "arrowwidth": 1
          },
          "autotypenumbers": "strict",
          "coloraxis": {
           "colorbar": {
            "outlinewidth": 0,
            "ticks": ""
           }
          },
          "colorscale": {
           "diverging": [
            [
             0,
             "#8e0152"
            ],
            [
             0.1,
             "#c51b7d"
            ],
            [
             0.2,
             "#de77ae"
            ],
            [
             0.3,
             "#f1b6da"
            ],
            [
             0.4,
             "#fde0ef"
            ],
            [
             0.5,
             "#f7f7f7"
            ],
            [
             0.6,
             "#e6f5d0"
            ],
            [
             0.7,
             "#b8e186"
            ],
            [
             0.8,
             "#7fbc41"
            ],
            [
             0.9,
             "#4d9221"
            ],
            [
             1,
             "#276419"
            ]
           ],
           "sequential": [
            [
             0,
             "#0d0887"
            ],
            [
             0.1111111111111111,
             "#46039f"
            ],
            [
             0.2222222222222222,
             "#7201a8"
            ],
            [
             0.3333333333333333,
             "#9c179e"
            ],
            [
             0.4444444444444444,
             "#bd3786"
            ],
            [
             0.5555555555555556,
             "#d8576b"
            ],
            [
             0.6666666666666666,
             "#ed7953"
            ],
            [
             0.7777777777777778,
             "#fb9f3a"
            ],
            [
             0.8888888888888888,
             "#fdca26"
            ],
            [
             1,
             "#f0f921"
            ]
           ],
           "sequentialminus": [
            [
             0,
             "#0d0887"
            ],
            [
             0.1111111111111111,
             "#46039f"
            ],
            [
             0.2222222222222222,
             "#7201a8"
            ],
            [
             0.3333333333333333,
             "#9c179e"
            ],
            [
             0.4444444444444444,
             "#bd3786"
            ],
            [
             0.5555555555555556,
             "#d8576b"
            ],
            [
             0.6666666666666666,
             "#ed7953"
            ],
            [
             0.7777777777777778,
             "#fb9f3a"
            ],
            [
             0.8888888888888888,
             "#fdca26"
            ],
            [
             1,
             "#f0f921"
            ]
           ]
          },
          "colorway": [
           "#636efa",
           "#EF553B",
           "#00cc96",
           "#ab63fa",
           "#FFA15A",
           "#19d3f3",
           "#FF6692",
           "#B6E880",
           "#FF97FF",
           "#FECB52"
          ],
          "font": {
           "color": "#2a3f5f"
          },
          "geo": {
           "bgcolor": "white",
           "lakecolor": "white",
           "landcolor": "#E5ECF6",
           "showlakes": true,
           "showland": true,
           "subunitcolor": "white"
          },
          "hoverlabel": {
           "align": "left"
          },
          "hovermode": "closest",
          "mapbox": {
           "style": "light"
          },
          "paper_bgcolor": "white",
          "plot_bgcolor": "#E5ECF6",
          "polar": {
           "angularaxis": {
            "gridcolor": "white",
            "linecolor": "white",
            "ticks": ""
           },
           "bgcolor": "#E5ECF6",
           "radialaxis": {
            "gridcolor": "white",
            "linecolor": "white",
            "ticks": ""
           }
          },
          "scene": {
           "xaxis": {
            "backgroundcolor": "#E5ECF6",
            "gridcolor": "white",
            "gridwidth": 2,
            "linecolor": "white",
            "showbackground": true,
            "ticks": "",
            "zerolinecolor": "white"
           },
           "yaxis": {
            "backgroundcolor": "#E5ECF6",
            "gridcolor": "white",
            "gridwidth": 2,
            "linecolor": "white",
            "showbackground": true,
            "ticks": "",
            "zerolinecolor": "white"
           },
           "zaxis": {
            "backgroundcolor": "#E5ECF6",
            "gridcolor": "white",
            "gridwidth": 2,
            "linecolor": "white",
            "showbackground": true,
            "ticks": "",
            "zerolinecolor": "white"
           }
          },
          "shapedefaults": {
           "line": {
            "color": "#2a3f5f"
           }
          },
          "ternary": {
           "aaxis": {
            "gridcolor": "white",
            "linecolor": "white",
            "ticks": ""
           },
           "baxis": {
            "gridcolor": "white",
            "linecolor": "white",
            "ticks": ""
           },
           "bgcolor": "#E5ECF6",
           "caxis": {
            "gridcolor": "white",
            "linecolor": "white",
            "ticks": ""
           }
          },
          "title": {
           "x": 0.05
          },
          "xaxis": {
           "automargin": true,
           "gridcolor": "white",
           "linecolor": "white",
           "ticks": "",
           "title": {
            "standoff": 15
           },
           "zerolinecolor": "white",
           "zerolinewidth": 2
          },
          "yaxis": {
           "automargin": true,
           "gridcolor": "white",
           "linecolor": "white",
           "ticks": "",
           "title": {
            "standoff": 15
           },
           "zerolinecolor": "white",
           "zerolinewidth": 2
          }
         }
        },
        "title": {
         "text": "Distribution of Charging Duration"
        },
        "xaxis": {
         "anchor": "y",
         "domain": [
          0,
          1
         ],
         "title": {
          "text": "Charging Duration (hours)"
         }
        },
        "yaxis": {
         "anchor": "x",
         "domain": [
          0,
          1
         ],
         "title": {
          "text": "count"
         }
        }
       }
      }
     },
     "metadata": {},
     "output_type": "display_data"
    }
   ],
   "source": [
    "fig6 = px.histogram(df, x=\"Charging Duration (hours)\",\n",
    "                    nbins=30, title=\"Distribution of Charging Duration\",color_discrete_sequence=[\"#BE8CAB\"])\n",
    "fig6.show()"
   ]
  },
  {
   "cell_type": "code",
   "execution_count": null,
   "id": "66f58ce2",
   "metadata": {},
   "outputs": [
    {
     "data": {
      "application/vnd.plotly.v1+json": {
       "config": {
        "plotlyServerURL": "https://plot.ly"
       },
       "data": [
        {
         "alignmentgroup": "True",
         "box": {
          "visible": true
         },
         "hovertemplate": "User Type=Commuter<br>variable=%{x}<br>value=%{y}<extra></extra>",
         "legendgroup": "Commuter",
         "marker": {
          "color": "#636efa"
         },
         "name": "Commuter",
         "offsetgroup": "Commuter",
         "orientation": "v",
         "scalegroup": "True",
         "showlegend": true,
         "type": "violin",
         "x": [
          "State of Charge (Start %)",
          "State of Charge (Start %)",
          "State of Charge (Start %)",
          "State of Charge (Start %)",
          "State of Charge (Start %)",
          "State of Charge (Start %)",
          "State of Charge (Start %)",
          "State of Charge (Start %)",
          "State of Charge (Start %)",
          "State of Charge (Start %)",
          "State of Charge (Start %)",
          "State of Charge (Start %)",
          "State of Charge (Start %)",
          "State of Charge (Start %)",
          "State of Charge (Start %)",
          "State of Charge (Start %)",
          "State of Charge (Start %)",
          "State of Charge (Start %)",
          "State of Charge (Start %)",
          "State of Charge (Start %)",
          "State of Charge (Start %)",
          "State of Charge (Start %)",
          "State of Charge (Start %)",
          "State of Charge (Start %)",
          "State of Charge (Start %)",
          "State of Charge (Start %)",
          "State of Charge (Start %)",
          "State of Charge (Start %)",
          "State of Charge (Start %)",
          "State of Charge (Start %)",
          "State of Charge (Start %)",
          "State of Charge (Start %)",
          "State of Charge (Start %)",
          "State of Charge (Start %)",
          "State of Charge (Start %)",
          "State of Charge (Start %)",
          "State of Charge (Start %)",
          "State of Charge (Start %)",
          "State of Charge (Start %)",
          "State of Charge (Start %)",
          "State of Charge (Start %)",
          "State of Charge (Start %)",
          "State of Charge (Start %)",
          "State of Charge (Start %)",
          "State of Charge (Start %)",
          "State of Charge (Start %)",
          "State of Charge (Start %)",
          "State of Charge (Start %)",
          "State of Charge (Start %)",
          "State of Charge (Start %)",
          "State of Charge (Start %)",
          "State of Charge (Start %)",
          "State of Charge (Start %)",
          "State of Charge (Start %)",
          "State of Charge (Start %)",
          "State of Charge (Start %)",
          "State of Charge (Start %)",
          "State of Charge (Start %)",
          "State of Charge (Start %)",
          "State of Charge (Start %)",
          "State of Charge (Start %)",
          "State of Charge (Start %)",
          "State of Charge (Start %)",
          "State of Charge (Start %)",
          "State of Charge (Start %)",
          "State of Charge (Start %)",
          "State of Charge (Start %)",
          "State of Charge (Start %)",
          "State of Charge (Start %)",
          "State of Charge (Start %)",
          "State of Charge (Start %)",
          "State of Charge (Start %)",
          "State of Charge (Start %)",
          "State of Charge (Start %)",
          "State of Charge (Start %)",
          "State of Charge (Start %)",
          "State of Charge (Start %)",
          "State of Charge (Start %)",
          "State of Charge (Start %)",
          "State of Charge (Start %)",
          "State of Charge (Start %)",
          "State of Charge (Start %)",
          "State of Charge (Start %)",
          "State of Charge (Start %)",
          "State of Charge (Start %)",
          "State of Charge (Start %)",
          "State of Charge (Start %)",
          "State of Charge (Start %)",
          "State of Charge (Start %)",
          "State of Charge (Start %)",
          "State of Charge (Start %)",
          "State of Charge (Start %)",
          "State of Charge (Start %)",
          "State of Charge (Start %)",
          "State of Charge (Start %)",
          "State of Charge (Start %)",
          "State of Charge (Start %)",
          "State of Charge (Start %)",
          "State of Charge (Start %)",
          "State of Charge (Start %)",
          "State of Charge (Start %)",
          "State of Charge (Start %)",
          "State of Charge (Start %)",
          "State of Charge (Start %)",
          "State of Charge (Start %)",
          "State of Charge (Start %)",
          "State of Charge (Start %)",
          "State of Charge (Start %)",
          "State of Charge (Start %)",
          "State of Charge (Start %)",
          "State of Charge (Start %)",
          "State of Charge (Start %)",
          "State of Charge (Start %)",
          "State of Charge (Start %)",
          "State of Charge (Start %)",
          "State of Charge (Start %)",
          "State of Charge (Start %)",
          "State of Charge (Start %)",
          "State of Charge (Start %)",
          "State of Charge (Start %)",
          "State of Charge (Start %)",
          "State of Charge (Start %)",
          "State of Charge (Start %)",
          "State of Charge (Start %)",
          "State of Charge (Start %)",
          "State of Charge (Start %)",
          "State of Charge (Start %)",
          "State of Charge (Start %)",
          "State of Charge (Start %)",
          "State of Charge (Start %)",
          "State of Charge (Start %)",
          "State of Charge (Start %)",
          "State of Charge (Start %)",
          "State of Charge (Start %)",
          "State of Charge (Start %)",
          "State of Charge (Start %)",
          "State of Charge (Start %)",
          "State of Charge (Start %)",
          "State of Charge (Start %)",
          "State of Charge (Start %)",
          "State of Charge (Start %)",
          "State of Charge (Start %)",
          "State of Charge (Start %)",
          "State of Charge (Start %)",
          "State of Charge (Start %)",
          "State of Charge (Start %)",
          "State of Charge (Start %)",
          "State of Charge (Start %)",
          "State of Charge (Start %)",
          "State of Charge (Start %)",
          "State of Charge (Start %)",
          "State of Charge (Start %)",
          "State of Charge (Start %)",
          "State of Charge (Start %)",
          "State of Charge (Start %)",
          "State of Charge (Start %)",
          "State of Charge (Start %)",
          "State of Charge (Start %)",
          "State of Charge (Start %)",
          "State of Charge (Start %)",
          "State of Charge (Start %)",
          "State of Charge (Start %)",
          "State of Charge (Start %)",
          "State of Charge (Start %)",
          "State of Charge (Start %)",
          "State of Charge (Start %)",
          "State of Charge (Start %)",
          "State of Charge (Start %)",
          "State of Charge (Start %)",
          "State of Charge (Start %)",
          "State of Charge (Start %)",
          "State of Charge (Start %)",
          "State of Charge (Start %)",
          "State of Charge (Start %)",
          "State of Charge (Start %)",
          "State of Charge (Start %)",
          "State of Charge (Start %)",
          "State of Charge (Start %)",
          "State of Charge (Start %)",
          "State of Charge (Start %)",
          "State of Charge (Start %)",
          "State of Charge (Start %)",
          "State of Charge (Start %)",
          "State of Charge (Start %)",
          "State of Charge (Start %)",
          "State of Charge (Start %)",
          "State of Charge (Start %)",
          "State of Charge (Start %)",
          "State of Charge (Start %)",
          "State of Charge (Start %)",
          "State of Charge (Start %)",
          "State of Charge (Start %)",
          "State of Charge (Start %)",
          "State of Charge (Start %)",
          "State of Charge (Start %)",
          "State of Charge (Start %)",
          "State of Charge (Start %)",
          "State of Charge (Start %)",
          "State of Charge (Start %)",
          "State of Charge (Start %)",
          "State of Charge (Start %)",
          "State of Charge (Start %)",
          "State of Charge (Start %)",
          "State of Charge (Start %)",
          "State of Charge (Start %)",
          "State of Charge (Start %)",
          "State of Charge (Start %)",
          "State of Charge (Start %)",
          "State of Charge (Start %)",
          "State of Charge (Start %)",
          "State of Charge (Start %)",
          "State of Charge (Start %)",
          "State of Charge (Start %)",
          "State of Charge (Start %)",
          "State of Charge (Start %)",
          "State of Charge (Start %)",
          "State of Charge (Start %)",
          "State of Charge (Start %)",
          "State of Charge (Start %)",
          "State of Charge (Start %)",
          "State of Charge (Start %)",
          "State of Charge (Start %)",
          "State of Charge (Start %)",
          "State of Charge (Start %)",
          "State of Charge (Start %)",
          "State of Charge (Start %)",
          "State of Charge (Start %)",
          "State of Charge (Start %)",
          "State of Charge (Start %)",
          "State of Charge (Start %)",
          "State of Charge (Start %)",
          "State of Charge (Start %)",
          "State of Charge (Start %)",
          "State of Charge (Start %)",
          "State of Charge (Start %)",
          "State of Charge (Start %)",
          "State of Charge (Start %)",
          "State of Charge (Start %)",
          "State of Charge (Start %)",
          "State of Charge (Start %)",
          "State of Charge (Start %)",
          "State of Charge (Start %)",
          "State of Charge (Start %)",
          "State of Charge (Start %)",
          "State of Charge (Start %)",
          "State of Charge (Start %)",
          "State of Charge (Start %)",
          "State of Charge (Start %)",
          "State of Charge (Start %)",
          "State of Charge (Start %)",
          "State of Charge (Start %)",
          "State of Charge (Start %)",
          "State of Charge (Start %)",
          "State of Charge (Start %)",
          "State of Charge (Start %)",
          "State of Charge (Start %)",
          "State of Charge (Start %)",
          "State of Charge (Start %)",
          "State of Charge (Start %)",
          "State of Charge (Start %)",
          "State of Charge (Start %)",
          "State of Charge (Start %)",
          "State of Charge (Start %)",
          "State of Charge (Start %)",
          "State of Charge (Start %)",
          "State of Charge (Start %)",
          "State of Charge (Start %)",
          "State of Charge (Start %)",
          "State of Charge (Start %)",
          "State of Charge (Start %)",
          "State of Charge (Start %)",
          "State of Charge (Start %)",
          "State of Charge (Start %)",
          "State of Charge (Start %)",
          "State of Charge (Start %)",
          "State of Charge (Start %)",
          "State of Charge (Start %)",
          "State of Charge (Start %)",
          "State of Charge (Start %)",
          "State of Charge (Start %)",
          "State of Charge (Start %)",
          "State of Charge (Start %)",
          "State of Charge (Start %)",
          "State of Charge (Start %)",
          "State of Charge (Start %)",
          "State of Charge (Start %)",
          "State of Charge (Start %)",
          "State of Charge (Start %)",
          "State of Charge (Start %)",
          "State of Charge (Start %)",
          "State of Charge (Start %)",
          "State of Charge (Start %)",
          "State of Charge (Start %)",
          "State of Charge (Start %)",
          "State of Charge (Start %)",
          "State of Charge (Start %)",
          "State of Charge (Start %)",
          "State of Charge (Start %)",
          "State of Charge (Start %)",
          "State of Charge (Start %)",
          "State of Charge (Start %)",
          "State of Charge (Start %)",
          "State of Charge (Start %)",
          "State of Charge (Start %)",
          "State of Charge (Start %)",
          "State of Charge (Start %)",
          "State of Charge (Start %)",
          "State of Charge (Start %)",
          "State of Charge (Start %)",
          "State of Charge (Start %)",
          "State of Charge (Start %)",
          "State of Charge (Start %)",
          "State of Charge (Start %)",
          "State of Charge (Start %)",
          "State of Charge (Start %)",
          "State of Charge (Start %)",
          "State of Charge (Start %)",
          "State of Charge (Start %)",
          "State of Charge (Start %)",
          "State of Charge (Start %)",
          "State of Charge (Start %)",
          "State of Charge (Start %)",
          "State of Charge (Start %)",
          "State of Charge (Start %)",
          "State of Charge (Start %)",
          "State of Charge (Start %)",
          "State of Charge (Start %)",
          "State of Charge (Start %)",
          "State of Charge (Start %)",
          "State of Charge (Start %)",
          "State of Charge (Start %)",
          "State of Charge (Start %)",
          "State of Charge (Start %)",
          "State of Charge (Start %)",
          "State of Charge (Start %)",
          "State of Charge (Start %)",
          "State of Charge (Start %)",
          "State of Charge (Start %)",
          "State of Charge (Start %)",
          "State of Charge (Start %)",
          "State of Charge (Start %)",
          "State of Charge (Start %)",
          "State of Charge (Start %)",
          "State of Charge (Start %)",
          "State of Charge (Start %)",
          "State of Charge (Start %)",
          "State of Charge (Start %)",
          "State of Charge (Start %)",
          "State of Charge (Start %)",
          "State of Charge (Start %)",
          "State of Charge (Start %)",
          "State of Charge (Start %)",
          "State of Charge (Start %)",
          "State of Charge (Start %)",
          "State of Charge (Start %)",
          "State of Charge (Start %)",
          "State of Charge (Start %)",
          "State of Charge (Start %)",
          "State of Charge (Start %)",
          "State of Charge (Start %)",
          "State of Charge (Start %)",
          "State of Charge (Start %)",
          "State of Charge (Start %)",
          "State of Charge (Start %)",
          "State of Charge (Start %)",
          "State of Charge (Start %)",
          "State of Charge (Start %)",
          "State of Charge (Start %)",
          "State of Charge (Start %)",
          "State of Charge (Start %)",
          "State of Charge (Start %)",
          "State of Charge (Start %)",
          "State of Charge (Start %)",
          "State of Charge (Start %)",
          "State of Charge (Start %)",
          "State of Charge (Start %)",
          "State of Charge (Start %)",
          "State of Charge (Start %)",
          "State of Charge (Start %)",
          "State of Charge (Start %)",
          "State of Charge (Start %)",
          "State of Charge (Start %)",
          "State of Charge (Start %)",
          "State of Charge (Start %)",
          "State of Charge (Start %)",
          "State of Charge (Start %)",
          "State of Charge (Start %)",
          "State of Charge (Start %)",
          "State of Charge (Start %)",
          "State of Charge (Start %)",
          "State of Charge (Start %)",
          "State of Charge (Start %)",
          "State of Charge (Start %)",
          "State of Charge (Start %)",
          "State of Charge (Start %)",
          "State of Charge (Start %)",
          "State of Charge (Start %)",
          "State of Charge (Start %)",
          "State of Charge (Start %)",
          "State of Charge (Start %)",
          "State of Charge (Start %)",
          "State of Charge (Start %)",
          "State of Charge (Start %)",
          "State of Charge (Start %)",
          "State of Charge (Start %)",
          "State of Charge (Start %)",
          "State of Charge (Start %)",
          "State of Charge (Start %)",
          "State of Charge (Start %)",
          "State of Charge (Start %)",
          "State of Charge (Start %)",
          "State of Charge (Start %)",
          "State of Charge (Start %)",
          "State of Charge (Start %)",
          "State of Charge (Start %)",
          "State of Charge (Start %)",
          "State of Charge (Start %)",
          "State of Charge (Start %)",
          "State of Charge (Start %)",
          "State of Charge (Start %)",
          "State of Charge (Start %)",
          "State of Charge (Start %)",
          "State of Charge (Start %)",
          "State of Charge (Start %)",
          "State of Charge (Start %)",
          "State of Charge (Start %)",
          "State of Charge (Start %)",
          "State of Charge (Start %)",
          "State of Charge (Start %)",
          "State of Charge (Start %)",
          "State of Charge (Start %)",
          "State of Charge (Start %)",
          "State of Charge (Start %)",
          "State of Charge (Start %)",
          "State of Charge (Start %)",
          "State of Charge (Start %)",
          "State of Charge (Start %)",
          "State of Charge (Start %)",
          "State of Charge (Start %)",
          "State of Charge (Start %)",
          "State of Charge (Start %)",
          "State of Charge (Start %)",
          "State of Charge (Start %)",
          "State of Charge (Start %)",
          "State of Charge (Start %)",
          "State of Charge (Start %)",
          "State of Charge (Start %)",
          "State of Charge (Start %)",
          "State of Charge (Start %)",
          "State of Charge (Start %)",
          "State of Charge (Start %)",
          "State of Charge (Start %)",
          "State of Charge (Start %)",
          "State of Charge (Start %)",
          "State of Charge (Start %)",
          "State of Charge (Start %)",
          "State of Charge (Start %)",
          "State of Charge (Start %)",
          "State of Charge (Start %)",
          "State of Charge (Start %)",
          "State of Charge (Start %)",
          "State of Charge (Start %)",
          "State of Charge (Start %)",
          "State of Charge (Start %)",
          "State of Charge (Start %)",
          "State of Charge (Start %)",
          "State of Charge (Start %)",
          "State of Charge (Start %)",
          "State of Charge (Start %)",
          "State of Charge (Start %)",
          "State of Charge (Start %)",
          "State of Charge (Start %)",
          "State of Charge (Start %)",
          "State of Charge (Start %)",
          "State of Charge (Start %)",
          "State of Charge (Start %)",
          "State of Charge (End %)",
          "State of Charge (End %)",
          "State of Charge (End %)",
          "State of Charge (End %)",
          "State of Charge (End %)",
          "State of Charge (End %)",
          "State of Charge (End %)",
          "State of Charge (End %)",
          "State of Charge (End %)",
          "State of Charge (End %)",
          "State of Charge (End %)",
          "State of Charge (End %)",
          "State of Charge (End %)",
          "State of Charge (End %)",
          "State of Charge (End %)",
          "State of Charge (End %)",
          "State of Charge (End %)",
          "State of Charge (End %)",
          "State of Charge (End %)",
          "State of Charge (End %)",
          "State of Charge (End %)",
          "State of Charge (End %)",
          "State of Charge (End %)",
          "State of Charge (End %)",
          "State of Charge (End %)",
          "State of Charge (End %)",
          "State of Charge (End %)",
          "State of Charge (End %)",
          "State of Charge (End %)",
          "State of Charge (End %)",
          "State of Charge (End %)",
          "State of Charge (End %)",
          "State of Charge (End %)",
          "State of Charge (End %)",
          "State of Charge (End %)",
          "State of Charge (End %)",
          "State of Charge (End %)",
          "State of Charge (End %)",
          "State of Charge (End %)",
          "State of Charge (End %)",
          "State of Charge (End %)",
          "State of Charge (End %)",
          "State of Charge (End %)",
          "State of Charge (End %)",
          "State of Charge (End %)",
          "State of Charge (End %)",
          "State of Charge (End %)",
          "State of Charge (End %)",
          "State of Charge (End %)",
          "State of Charge (End %)",
          "State of Charge (End %)",
          "State of Charge (End %)",
          "State of Charge (End %)",
          "State of Charge (End %)",
          "State of Charge (End %)",
          "State of Charge (End %)",
          "State of Charge (End %)",
          "State of Charge (End %)",
          "State of Charge (End %)",
          "State of Charge (End %)",
          "State of Charge (End %)",
          "State of Charge (End %)",
          "State of Charge (End %)",
          "State of Charge (End %)",
          "State of Charge (End %)",
          "State of Charge (End %)",
          "State of Charge (End %)",
          "State of Charge (End %)",
          "State of Charge (End %)",
          "State of Charge (End %)",
          "State of Charge (End %)",
          "State of Charge (End %)",
          "State of Charge (End %)",
          "State of Charge (End %)",
          "State of Charge (End %)",
          "State of Charge (End %)",
          "State of Charge (End %)",
          "State of Charge (End %)",
          "State of Charge (End %)",
          "State of Charge (End %)",
          "State of Charge (End %)",
          "State of Charge (End %)",
          "State of Charge (End %)",
          "State of Charge (End %)",
          "State of Charge (End %)",
          "State of Charge (End %)",
          "State of Charge (End %)",
          "State of Charge (End %)",
          "State of Charge (End %)",
          "State of Charge (End %)",
          "State of Charge (End %)",
          "State of Charge (End %)",
          "State of Charge (End %)",
          "State of Charge (End %)",
          "State of Charge (End %)",
          "State of Charge (End %)",
          "State of Charge (End %)",
          "State of Charge (End %)",
          "State of Charge (End %)",
          "State of Charge (End %)",
          "State of Charge (End %)",
          "State of Charge (End %)",
          "State of Charge (End %)",
          "State of Charge (End %)",
          "State of Charge (End %)",
          "State of Charge (End %)",
          "State of Charge (End %)",
          "State of Charge (End %)",
          "State of Charge (End %)",
          "State of Charge (End %)",
          "State of Charge (End %)",
          "State of Charge (End %)",
          "State of Charge (End %)",
          "State of Charge (End %)",
          "State of Charge (End %)",
          "State of Charge (End %)",
          "State of Charge (End %)",
          "State of Charge (End %)",
          "State of Charge (End %)",
          "State of Charge (End %)",
          "State of Charge (End %)",
          "State of Charge (End %)",
          "State of Charge (End %)",
          "State of Charge (End %)",
          "State of Charge (End %)",
          "State of Charge (End %)",
          "State of Charge (End %)",
          "State of Charge (End %)",
          "State of Charge (End %)",
          "State of Charge (End %)",
          "State of Charge (End %)",
          "State of Charge (End %)",
          "State of Charge (End %)",
          "State of Charge (End %)",
          "State of Charge (End %)",
          "State of Charge (End %)",
          "State of Charge (End %)",
          "State of Charge (End %)",
          "State of Charge (End %)",
          "State of Charge (End %)",
          "State of Charge (End %)",
          "State of Charge (End %)",
          "State of Charge (End %)",
          "State of Charge (End %)",
          "State of Charge (End %)",
          "State of Charge (End %)",
          "State of Charge (End %)",
          "State of Charge (End %)",
          "State of Charge (End %)",
          "State of Charge (End %)",
          "State of Charge (End %)",
          "State of Charge (End %)",
          "State of Charge (End %)",
          "State of Charge (End %)",
          "State of Charge (End %)",
          "State of Charge (End %)",
          "State of Charge (End %)",
          "State of Charge (End %)",
          "State of Charge (End %)",
          "State of Charge (End %)",
          "State of Charge (End %)",
          "State of Charge (End %)",
          "State of Charge (End %)",
          "State of Charge (End %)",
          "State of Charge (End %)",
          "State of Charge (End %)",
          "State of Charge (End %)",
          "State of Charge (End %)",
          "State of Charge (End %)",
          "State of Charge (End %)",
          "State of Charge (End %)",
          "State of Charge (End %)",
          "State of Charge (End %)",
          "State of Charge (End %)",
          "State of Charge (End %)",
          "State of Charge (End %)",
          "State of Charge (End %)",
          "State of Charge (End %)",
          "State of Charge (End %)",
          "State of Charge (End %)",
          "State of Charge (End %)",
          "State of Charge (End %)",
          "State of Charge (End %)",
          "State of Charge (End %)",
          "State of Charge (End %)",
          "State of Charge (End %)",
          "State of Charge (End %)",
          "State of Charge (End %)",
          "State of Charge (End %)",
          "State of Charge (End %)",
          "State of Charge (End %)",
          "State of Charge (End %)",
          "State of Charge (End %)",
          "State of Charge (End %)",
          "State of Charge (End %)",
          "State of Charge (End %)",
          "State of Charge (End %)",
          "State of Charge (End %)",
          "State of Charge (End %)",
          "State of Charge (End %)",
          "State of Charge (End %)",
          "State of Charge (End %)",
          "State of Charge (End %)",
          "State of Charge (End %)",
          "State of Charge (End %)",
          "State of Charge (End %)",
          "State of Charge (End %)",
          "State of Charge (End %)",
          "State of Charge (End %)",
          "State of Charge (End %)",
          "State of Charge (End %)",
          "State of Charge (End %)",
          "State of Charge (End %)",
          "State of Charge (End %)",
          "State of Charge (End %)",
          "State of Charge (End %)",
          "State of Charge (End %)",
          "State of Charge (End %)",
          "State of Charge (End %)",
          "State of Charge (End %)",
          "State of Charge (End %)",
          "State of Charge (End %)",
          "State of Charge (End %)",
          "State of Charge (End %)",
          "State of Charge (End %)",
          "State of Charge (End %)",
          "State of Charge (End %)",
          "State of Charge (End %)",
          "State of Charge (End %)",
          "State of Charge (End %)",
          "State of Charge (End %)",
          "State of Charge (End %)",
          "State of Charge (End %)",
          "State of Charge (End %)",
          "State of Charge (End %)",
          "State of Charge (End %)",
          "State of Charge (End %)",
          "State of Charge (End %)",
          "State of Charge (End %)",
          "State of Charge (End %)",
          "State of Charge (End %)",
          "State of Charge (End %)",
          "State of Charge (End %)",
          "State of Charge (End %)",
          "State of Charge (End %)",
          "State of Charge (End %)",
          "State of Charge (End %)",
          "State of Charge (End %)",
          "State of Charge (End %)",
          "State of Charge (End %)",
          "State of Charge (End %)",
          "State of Charge (End %)",
          "State of Charge (End %)",
          "State of Charge (End %)",
          "State of Charge (End %)",
          "State of Charge (End %)",
          "State of Charge (End %)",
          "State of Charge (End %)",
          "State of Charge (End %)",
          "State of Charge (End %)",
          "State of Charge (End %)",
          "State of Charge (End %)",
          "State of Charge (End %)",
          "State of Charge (End %)",
          "State of Charge (End %)",
          "State of Charge (End %)",
          "State of Charge (End %)",
          "State of Charge (End %)",
          "State of Charge (End %)",
          "State of Charge (End %)",
          "State of Charge (End %)",
          "State of Charge (End %)",
          "State of Charge (End %)",
          "State of Charge (End %)",
          "State of Charge (End %)",
          "State of Charge (End %)",
          "State of Charge (End %)",
          "State of Charge (End %)",
          "State of Charge (End %)",
          "State of Charge (End %)",
          "State of Charge (End %)",
          "State of Charge (End %)",
          "State of Charge (End %)",
          "State of Charge (End %)",
          "State of Charge (End %)",
          "State of Charge (End %)",
          "State of Charge (End %)",
          "State of Charge (End %)",
          "State of Charge (End %)",
          "State of Charge (End %)",
          "State of Charge (End %)",
          "State of Charge (End %)",
          "State of Charge (End %)",
          "State of Charge (End %)",
          "State of Charge (End %)",
          "State of Charge (End %)",
          "State of Charge (End %)",
          "State of Charge (End %)",
          "State of Charge (End %)",
          "State of Charge (End %)",
          "State of Charge (End %)",
          "State of Charge (End %)",
          "State of Charge (End %)",
          "State of Charge (End %)",
          "State of Charge (End %)",
          "State of Charge (End %)",
          "State of Charge (End %)",
          "State of Charge (End %)",
          "State of Charge (End %)",
          "State of Charge (End %)",
          "State of Charge (End %)",
          "State of Charge (End %)",
          "State of Charge (End %)",
          "State of Charge (End %)",
          "State of Charge (End %)",
          "State of Charge (End %)",
          "State of Charge (End %)",
          "State of Charge (End %)",
          "State of Charge (End %)",
          "State of Charge (End %)",
          "State of Charge (End %)",
          "State of Charge (End %)",
          "State of Charge (End %)",
          "State of Charge (End %)",
          "State of Charge (End %)",
          "State of Charge (End %)",
          "State of Charge (End %)",
          "State of Charge (End %)",
          "State of Charge (End %)",
          "State of Charge (End %)",
          "State of Charge (End %)",
          "State of Charge (End %)",
          "State of Charge (End %)",
          "State of Charge (End %)",
          "State of Charge (End %)",
          "State of Charge (End %)",
          "State of Charge (End %)",
          "State of Charge (End %)",
          "State of Charge (End %)",
          "State of Charge (End %)",
          "State of Charge (End %)",
          "State of Charge (End %)",
          "State of Charge (End %)",
          "State of Charge (End %)",
          "State of Charge (End %)",
          "State of Charge (End %)",
          "State of Charge (End %)",
          "State of Charge (End %)",
          "State of Charge (End %)",
          "State of Charge (End %)",
          "State of Charge (End %)",
          "State of Charge (End %)",
          "State of Charge (End %)",
          "State of Charge (End %)",
          "State of Charge (End %)",
          "State of Charge (End %)",
          "State of Charge (End %)",
          "State of Charge (End %)",
          "State of Charge (End %)",
          "State of Charge (End %)",
          "State of Charge (End %)",
          "State of Charge (End %)",
          "State of Charge (End %)",
          "State of Charge (End %)",
          "State of Charge (End %)",
          "State of Charge (End %)",
          "State of Charge (End %)",
          "State of Charge (End %)",
          "State of Charge (End %)",
          "State of Charge (End %)",
          "State of Charge (End %)",
          "State of Charge (End %)",
          "State of Charge (End %)",
          "State of Charge (End %)",
          "State of Charge (End %)",
          "State of Charge (End %)",
          "State of Charge (End %)",
          "State of Charge (End %)",
          "State of Charge (End %)",
          "State of Charge (End %)",
          "State of Charge (End %)",
          "State of Charge (End %)",
          "State of Charge (End %)",
          "State of Charge (End %)",
          "State of Charge (End %)",
          "State of Charge (End %)",
          "State of Charge (End %)",
          "State of Charge (End %)",
          "State of Charge (End %)",
          "State of Charge (End %)",
          "State of Charge (End %)",
          "State of Charge (End %)",
          "State of Charge (End %)",
          "State of Charge (End %)",
          "State of Charge (End %)",
          "State of Charge (End %)",
          "State of Charge (End %)",
          "State of Charge (End %)",
          "State of Charge (End %)",
          "State of Charge (End %)",
          "State of Charge (End %)",
          "State of Charge (End %)",
          "State of Charge (End %)",
          "State of Charge (End %)",
          "State of Charge (End %)",
          "State of Charge (End %)",
          "State of Charge (End %)",
          "State of Charge (End %)",
          "State of Charge (End %)",
          "State of Charge (End %)",
          "State of Charge (End %)",
          "State of Charge (End %)",
          "State of Charge (End %)",
          "State of Charge (End %)",
          "State of Charge (End %)",
          "State of Charge (End %)",
          "State of Charge (End %)",
          "State of Charge (End %)",
          "State of Charge (End %)",
          "State of Charge (End %)",
          "State of Charge (End %)",
          "State of Charge (End %)",
          "State of Charge (End %)",
          "State of Charge (End %)",
          "State of Charge (End %)",
          "State of Charge (End %)",
          "State of Charge (End %)",
          "State of Charge (End %)",
          "State of Charge (End %)",
          "State of Charge (End %)",
          "State of Charge (End %)",
          "State of Charge (End %)",
          "State of Charge (End %)",
          "State of Charge (End %)",
          "State of Charge (End %)",
          "State of Charge (End %)",
          "State of Charge (End %)",
          "State of Charge (End %)",
          "State of Charge (End %)",
          "State of Charge (End %)",
          "State of Charge (End %)",
          "State of Charge (End %)",
          "State of Charge (End %)",
          "State of Charge (End %)",
          "State of Charge (End %)",
          "State of Charge (End %)",
          "State of Charge (End %)",
          "State of Charge (End %)",
          "State of Charge (End %)",
          "State of Charge (End %)",
          "State of Charge (End %)",
          "State of Charge (End %)",
          "State of Charge (End %)",
          "State of Charge (End %)",
          "State of Charge (End %)",
          "State of Charge (End %)",
          "State of Charge (End %)",
          "State of Charge (End %)",
          "State of Charge (End %)",
          "State of Charge (End %)",
          "State of Charge (End %)",
          "State of Charge (End %)",
          "State of Charge (End %)",
          "State of Charge (End %)",
          "State of Charge (End %)",
          "State of Charge (End %)",
          "State of Charge (End %)",
          "State of Charge (End %)",
          "State of Charge (End %)",
          "State of Charge (End %)",
          "State of Charge (End %)",
          "State of Charge (End %)",
          "State of Charge (End %)",
          "State of Charge (End %)",
          "State of Charge (End %)",
          "State of Charge (End %)"
         ],
         "x0": " ",
         "xaxis": "x",
         "y": {
          "bdata": "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",
          "dtype": "f8"
         },
         "y0": " ",
         "yaxis": "y"
        },
        {
         "alignmentgroup": "True",
         "box": {
          "visible": true
         },
         "hovertemplate": "User Type=Casual Driver<br>variable=%{x}<br>value=%{y}<extra></extra>",
         "legendgroup": "Casual Driver",
         "marker": {
          "color": "#EF553B"
         },
         "name": "Casual Driver",
         "offsetgroup": "Casual Driver",
         "orientation": "v",
         "scalegroup": "True",
         "showlegend": true,
         "type": "violin",
         "x": [
          "State of Charge (Start %)",
          "State of Charge (Start %)",
          "State of Charge (Start %)",
          "State of Charge (Start %)",
          "State of Charge (Start %)",
          "State of Charge (Start %)",
          "State of Charge (Start %)",
          "State of Charge (Start %)",
          "State of Charge (Start %)",
          "State of Charge (Start %)",
          "State of Charge (Start %)",
          "State of Charge (Start %)",
          "State of Charge (Start %)",
          "State of Charge (Start %)",
          "State of Charge (Start %)",
          "State of Charge (Start %)",
          "State of Charge (Start %)",
          "State of Charge (Start %)",
          "State of Charge (Start %)",
          "State of Charge (Start %)",
          "State of Charge (Start %)",
          "State of Charge (Start %)",
          "State of Charge (Start %)",
          "State of Charge (Start %)",
          "State of Charge (Start %)",
          "State of Charge (Start %)",
          "State of Charge (Start %)",
          "State of Charge (Start %)",
          "State of Charge (Start %)",
          "State of Charge (Start %)",
          "State of Charge (Start %)",
          "State of Charge (Start %)",
          "State of Charge (Start %)",
          "State of Charge (Start %)",
          "State of Charge (Start %)",
          "State of Charge (Start %)",
          "State of Charge (Start %)",
          "State of Charge (Start %)",
          "State of Charge (Start %)",
          "State of Charge (Start %)",
          "State of Charge (Start %)",
          "State of Charge (Start %)",
          "State of Charge (Start %)",
          "State of Charge (Start %)",
          "State of Charge (Start %)",
          "State of Charge (Start %)",
          "State of Charge (Start %)",
          "State of Charge (Start %)",
          "State of Charge (Start %)",
          "State of Charge (Start %)",
          "State of Charge (Start %)",
          "State of Charge (Start %)",
          "State of Charge (Start %)",
          "State of Charge (Start %)",
          "State of Charge (Start %)",
          "State of Charge (Start %)",
          "State of Charge (Start %)",
          "State of Charge (Start %)",
          "State of Charge (Start %)",
          "State of Charge (Start %)",
          "State of Charge (Start %)",
          "State of Charge (Start %)",
          "State of Charge (Start %)",
          "State of Charge (Start %)",
          "State of Charge (Start %)",
          "State of Charge (Start %)",
          "State of Charge (Start %)",
          "State of Charge (Start %)",
          "State of Charge (Start %)",
          "State of Charge (Start %)",
          "State of Charge (Start %)",
          "State of Charge (Start %)",
          "State of Charge (Start %)",
          "State of Charge (Start %)",
          "State of Charge (Start %)",
          "State of Charge (Start %)",
          "State of Charge (Start %)",
          "State of Charge (Start %)",
          "State of Charge (Start %)",
          "State of Charge (Start %)",
          "State of Charge (Start %)",
          "State of Charge (Start %)",
          "State of Charge (Start %)",
          "State of Charge (Start %)",
          "State of Charge (Start %)",
          "State of Charge (Start %)",
          "State of Charge (Start %)",
          "State of Charge (Start %)",
          "State of Charge (Start %)",
          "State of Charge (Start %)",
          "State of Charge (Start %)",
          "State of Charge (Start %)",
          "State of Charge (Start %)",
          "State of Charge (Start %)",
          "State of Charge (Start %)",
          "State of Charge (Start %)",
          "State of Charge (Start %)",
          "State of Charge (Start %)",
          "State of Charge (Start %)",
          "State of Charge (Start %)",
          "State of Charge (Start %)",
          "State of Charge (Start %)",
          "State of Charge (Start %)",
          "State of Charge (Start %)",
          "State of Charge (Start %)",
          "State of Charge (Start %)",
          "State of Charge (Start %)",
          "State of Charge (Start %)",
          "State of Charge (Start %)",
          "State of Charge (Start %)",
          "State of Charge (Start %)",
          "State of Charge (Start %)",
          "State of Charge (Start %)",
          "State of Charge (Start %)",
          "State of Charge (Start %)",
          "State of Charge (Start %)",
          "State of Charge (Start %)",
          "State of Charge (Start %)",
          "State of Charge (Start %)",
          "State of Charge (Start %)",
          "State of Charge (Start %)",
          "State of Charge (Start %)",
          "State of Charge (Start %)",
          "State of Charge (Start %)",
          "State of Charge (Start %)",
          "State of Charge (Start %)",
          "State of Charge (Start %)",
          "State of Charge (Start %)",
          "State of Charge (Start %)",
          "State of Charge (Start %)",
          "State of Charge (Start %)",
          "State of Charge (Start %)",
          "State of Charge (Start %)",
          "State of Charge (Start %)",
          "State of Charge (Start %)",
          "State of Charge (Start %)",
          "State of Charge (Start %)",
          "State of Charge (Start %)",
          "State of Charge (Start %)",
          "State of Charge (Start %)",
          "State of Charge (Start %)",
          "State of Charge (Start %)",
          "State of Charge (Start %)",
          "State of Charge (Start %)",
          "State of Charge (Start %)",
          "State of Charge (Start %)",
          "State of Charge (Start %)",
          "State of Charge (Start %)",
          "State of Charge (Start %)",
          "State of Charge (Start %)",
          "State of Charge (Start %)",
          "State of Charge (Start %)",
          "State of Charge (Start %)",
          "State of Charge (Start %)",
          "State of Charge (Start %)",
          "State of Charge (Start %)",
          "State of Charge (Start %)",
          "State of Charge (Start %)",
          "State of Charge (Start %)",
          "State of Charge (Start %)",
          "State of Charge (Start %)",
          "State of Charge (Start %)",
          "State of Charge (Start %)",
          "State of Charge (Start %)",
          "State of Charge (Start %)",
          "State of Charge (Start %)",
          "State of Charge (Start %)",
          "State of Charge (Start %)",
          "State of Charge (Start %)",
          "State of Charge (Start %)",
          "State of Charge (Start %)",
          "State of Charge (Start %)",
          "State of Charge (Start %)",
          "State of Charge (Start %)",
          "State of Charge (Start %)",
          "State of Charge (Start %)",
          "State of Charge (Start %)",
          "State of Charge (Start %)",
          "State of Charge (Start %)",
          "State of Charge (Start %)",
          "State of Charge (Start %)",
          "State of Charge (Start %)",
          "State of Charge (Start %)",
          "State of Charge (Start %)",
          "State of Charge (Start %)",
          "State of Charge (Start %)",
          "State of Charge (Start %)",
          "State of Charge (Start %)",
          "State of Charge (Start %)",
          "State of Charge (Start %)",
          "State of Charge (Start %)",
          "State of Charge (Start %)",
          "State of Charge (Start %)",
          "State of Charge (Start %)",
          "State of Charge (Start %)",
          "State of Charge (Start %)",
          "State of Charge (Start %)",
          "State of Charge (Start %)",
          "State of Charge (Start %)",
          "State of Charge (Start %)",
          "State of Charge (Start %)",
          "State of Charge (Start %)",
          "State of Charge (Start %)",
          "State of Charge (Start %)",
          "State of Charge (Start %)",
          "State of Charge (Start %)",
          "State of Charge (Start %)",
          "State of Charge (Start %)",
          "State of Charge (Start %)",
          "State of Charge (Start %)",
          "State of Charge (Start %)",
          "State of Charge (Start %)",
          "State of Charge (Start %)",
          "State of Charge (Start %)",
          "State of Charge (Start %)",
          "State of Charge (Start %)",
          "State of Charge (Start %)",
          "State of Charge (Start %)",
          "State of Charge (Start %)",
          "State of Charge (Start %)",
          "State of Charge (Start %)",
          "State of Charge (Start %)",
          "State of Charge (Start %)",
          "State of Charge (Start %)",
          "State of Charge (Start %)",
          "State of Charge (Start %)",
          "State of Charge (Start %)",
          "State of Charge (Start %)",
          "State of Charge (Start %)",
          "State of Charge (Start %)",
          "State of Charge (Start %)",
          "State of Charge (Start %)",
          "State of Charge (Start %)",
          "State of Charge (Start %)",
          "State of Charge (Start %)",
          "State of Charge (Start %)",
          "State of Charge (Start %)",
          "State of Charge (Start %)",
          "State of Charge (Start %)",
          "State of Charge (Start %)",
          "State of Charge (Start %)",
          "State of Charge (Start %)",
          "State of Charge (Start %)",
          "State of Charge (Start %)",
          "State of Charge (Start %)",
          "State of Charge (Start %)",
          "State of Charge (Start %)",
          "State of Charge (Start %)",
          "State of Charge (Start %)",
          "State of Charge (Start %)",
          "State of Charge (Start %)",
          "State of Charge (Start %)",
          "State of Charge (Start %)",
          "State of Charge (Start %)",
          "State of Charge (Start %)",
          "State of Charge (Start %)",
          "State of Charge (Start %)",
          "State of Charge (Start %)",
          "State of Charge (Start %)",
          "State of Charge (Start %)",
          "State of Charge (Start %)",
          "State of Charge (Start %)",
          "State of Charge (Start %)",
          "State of Charge (Start %)",
          "State of Charge (Start %)",
          "State of Charge (Start %)",
          "State of Charge (Start %)",
          "State of Charge (Start %)",
          "State of Charge (Start %)",
          "State of Charge (Start %)",
          "State of Charge (Start %)",
          "State of Charge (Start %)",
          "State of Charge (Start %)",
          "State of Charge (Start %)",
          "State of Charge (Start %)",
          "State of Charge (Start %)",
          "State of Charge (Start %)",
          "State of Charge (Start %)",
          "State of Charge (Start %)",
          "State of Charge (Start %)",
          "State of Charge (Start %)",
          "State of Charge (Start %)",
          "State of Charge (Start %)",
          "State of Charge (Start %)",
          "State of Charge (Start %)",
          "State of Charge (Start %)",
          "State of Charge (Start %)",
          "State of Charge (Start %)",
          "State of Charge (Start %)",
          "State of Charge (Start %)",
          "State of Charge (Start %)",
          "State of Charge (Start %)",
          "State of Charge (Start %)",
          "State of Charge (Start %)",
          "State of Charge (Start %)",
          "State of Charge (Start %)",
          "State of Charge (Start %)",
          "State of Charge (Start %)",
          "State of Charge (Start %)",
          "State of Charge (Start %)",
          "State of Charge (Start %)",
          "State of Charge (Start %)",
          "State of Charge (Start %)",
          "State of Charge (Start %)",
          "State of Charge (Start %)",
          "State of Charge (Start %)",
          "State of Charge (Start %)",
          "State of Charge (Start %)",
          "State of Charge (Start %)",
          "State of Charge (Start %)",
          "State of Charge (Start %)",
          "State of Charge (Start %)",
          "State of Charge (Start %)",
          "State of Charge (Start %)",
          "State of Charge (Start %)",
          "State of Charge (Start %)",
          "State of Charge (Start %)",
          "State of Charge (Start %)",
          "State of Charge (Start %)",
          "State of Charge (Start %)",
          "State of Charge (Start %)",
          "State of Charge (Start %)",
          "State of Charge (Start %)",
          "State of Charge (Start %)",
          "State of Charge (Start %)",
          "State of Charge (Start %)",
          "State of Charge (Start %)",
          "State of Charge (Start %)",
          "State of Charge (Start %)",
          "State of Charge (Start %)",
          "State of Charge (Start %)",
          "State of Charge (Start %)",
          "State of Charge (Start %)",
          "State of Charge (Start %)",
          "State of Charge (Start %)",
          "State of Charge (Start %)",
          "State of Charge (Start %)",
          "State of Charge (Start %)",
          "State of Charge (Start %)",
          "State of Charge (Start %)",
          "State of Charge (Start %)",
          "State of Charge (Start %)",
          "State of Charge (Start %)",
          "State of Charge (Start %)",
          "State of Charge (Start %)",
          "State of Charge (Start %)",
          "State of Charge (Start %)",
          "State of Charge (Start %)",
          "State of Charge (Start %)",
          "State of Charge (Start %)",
          "State of Charge (Start %)",
          "State of Charge (Start %)",
          "State of Charge (Start %)",
          "State of Charge (Start %)",
          "State of Charge (Start %)",
          "State of Charge (Start %)",
          "State of Charge (Start %)",
          "State of Charge (Start %)",
          "State of Charge (Start %)",
          "State of Charge (Start %)",
          "State of Charge (Start %)",
          "State of Charge (Start %)",
          "State of Charge (Start %)",
          "State of Charge (Start %)",
          "State of Charge (Start %)",
          "State of Charge (Start %)",
          "State of Charge (Start %)",
          "State of Charge (Start %)",
          "State of Charge (Start %)",
          "State of Charge (Start %)",
          "State of Charge (Start %)",
          "State of Charge (Start %)",
          "State of Charge (Start %)",
          "State of Charge (Start %)",
          "State of Charge (Start %)",
          "State of Charge (Start %)",
          "State of Charge (Start %)",
          "State of Charge (Start %)",
          "State of Charge (Start %)",
          "State of Charge (Start %)",
          "State of Charge (Start %)",
          "State of Charge (Start %)",
          "State of Charge (Start %)",
          "State of Charge (Start %)",
          "State of Charge (Start %)",
          "State of Charge (Start %)",
          "State of Charge (Start %)",
          "State of Charge (Start %)",
          "State of Charge (Start %)",
          "State of Charge (Start %)",
          "State of Charge (Start %)",
          "State of Charge (Start %)",
          "State of Charge (Start %)",
          "State of Charge (Start %)",
          "State of Charge (Start %)",
          "State of Charge (Start %)",
          "State of Charge (Start %)",
          "State of Charge (Start %)",
          "State of Charge (Start %)",
          "State of Charge (Start %)",
          "State of Charge (Start %)",
          "State of Charge (Start %)",
          "State of Charge (Start %)",
          "State of Charge (Start %)",
          "State of Charge (Start %)",
          "State of Charge (Start %)",
          "State of Charge (Start %)",
          "State of Charge (End %)",
          "State of Charge (End %)",
          "State of Charge (End %)",
          "State of Charge (End %)",
          "State of Charge (End %)",
          "State of Charge (End %)",
          "State of Charge (End %)",
          "State of Charge (End %)",
          "State of Charge (End %)",
          "State of Charge (End %)",
          "State of Charge (End %)",
          "State of Charge (End %)",
          "State of Charge (End %)",
          "State of Charge (End %)",
          "State of Charge (End %)",
          "State of Charge (End %)",
          "State of Charge (End %)",
          "State of Charge (End %)",
          "State of Charge (End %)",
          "State of Charge (End %)",
          "State of Charge (End %)",
          "State of Charge (End %)",
          "State of Charge (End %)",
          "State of Charge (End %)",
          "State of Charge (End %)",
          "State of Charge (End %)",
          "State of Charge (End %)",
          "State of Charge (End %)",
          "State of Charge (End %)",
          "State of Charge (End %)",
          "State of Charge (End %)",
          "State of Charge (End %)",
          "State of Charge (End %)",
          "State of Charge (End %)",
          "State of Charge (End %)",
          "State of Charge (End %)",
          "State of Charge (End %)",
          "State of Charge (End %)",
          "State of Charge (End %)",
          "State of Charge (End %)",
          "State of Charge (End %)",
          "State of Charge (End %)",
          "State of Charge (End %)",
          "State of Charge (End %)",
          "State of Charge (End %)",
          "State of Charge (End %)",
          "State of Charge (End %)",
          "State of Charge (End %)",
          "State of Charge (End %)",
          "State of Charge (End %)",
          "State of Charge (End %)",
          "State of Charge (End %)",
          "State of Charge (End %)",
          "State of Charge (End %)",
          "State of Charge (End %)",
          "State of Charge (End %)",
          "State of Charge (End %)",
          "State of Charge (End %)",
          "State of Charge (End %)",
          "State of Charge (End %)",
          "State of Charge (End %)",
          "State of Charge (End %)",
          "State of Charge (End %)",
          "State of Charge (End %)",
          "State of Charge (End %)",
          "State of Charge (End %)",
          "State of Charge (End %)",
          "State of Charge (End %)",
          "State of Charge (End %)",
          "State of Charge (End %)",
          "State of Charge (End %)",
          "State of Charge (End %)",
          "State of Charge (End %)",
          "State of Charge (End %)",
          "State of Charge (End %)",
          "State of Charge (End %)",
          "State of Charge (End %)",
          "State of Charge (End %)",
          "State of Charge (End %)",
          "State of Charge (End %)",
          "State of Charge (End %)",
          "State of Charge (End %)",
          "State of Charge (End %)",
          "State of Charge (End %)",
          "State of Charge (End %)",
          "State of Charge (End %)",
          "State of Charge (End %)",
          "State of Charge (End %)",
          "State of Charge (End %)",
          "State of Charge (End %)",
          "State of Charge (End %)",
          "State of Charge (End %)",
          "State of Charge (End %)",
          "State of Charge (End %)",
          "State of Charge (End %)",
          "State of Charge (End %)",
          "State of Charge (End %)",
          "State of Charge (End %)",
          "State of Charge (End %)",
          "State of Charge (End %)",
          "State of Charge (End %)",
          "State of Charge (End %)",
          "State of Charge (End %)",
          "State of Charge (End %)",
          "State of Charge (End %)",
          "State of Charge (End %)",
          "State of Charge (End %)",
          "State of Charge (End %)",
          "State of Charge (End %)",
          "State of Charge (End %)",
          "State of Charge (End %)",
          "State of Charge (End %)",
          "State of Charge (End %)",
          "State of Charge (End %)",
          "State of Charge (End %)",
          "State of Charge (End %)",
          "State of Charge (End %)",
          "State of Charge (End %)",
          "State of Charge (End %)",
          "State of Charge (End %)",
          "State of Charge (End %)",
          "State of Charge (End %)",
          "State of Charge (End %)",
          "State of Charge (End %)",
          "State of Charge (End %)",
          "State of Charge (End %)",
          "State of Charge (End %)",
          "State of Charge (End %)",
          "State of Charge (End %)",
          "State of Charge (End %)",
          "State of Charge (End %)",
          "State of Charge (End %)",
          "State of Charge (End %)",
          "State of Charge (End %)",
          "State of Charge (End %)",
          "State of Charge (End %)",
          "State of Charge (End %)",
          "State of Charge (End %)",
          "State of Charge (End %)",
          "State of Charge (End %)",
          "State of Charge (End %)",
          "State of Charge (End %)",
          "State of Charge (End %)",
          "State of Charge (End %)",
          "State of Charge (End %)",
          "State of Charge (End %)",
          "State of Charge (End %)",
          "State of Charge (End %)",
          "State of Charge (End %)",
          "State of Charge (End %)",
          "State of Charge (End %)",
          "State of Charge (End %)",
          "State of Charge (End %)",
          "State of Charge (End %)",
          "State of Charge (End %)",
          "State of Charge (End %)",
          "State of Charge (End %)",
          "State of Charge (End %)",
          "State of Charge (End %)",
          "State of Charge (End %)",
          "State of Charge (End %)",
          "State of Charge (End %)",
          "State of Charge (End %)",
          "State of Charge (End %)",
          "State of Charge (End %)",
          "State of Charge (End %)",
          "State of Charge (End %)",
          "State of Charge (End %)",
          "State of Charge (End %)",
          "State of Charge (End %)",
          "State of Charge (End %)",
          "State of Charge (End %)",
          "State of Charge (End %)",
          "State of Charge (End %)",
          "State of Charge (End %)",
          "State of Charge (End %)",
          "State of Charge (End %)",
          "State of Charge (End %)",
          "State of Charge (End %)",
          "State of Charge (End %)",
          "State of Charge (End %)",
          "State of Charge (End %)",
          "State of Charge (End %)",
          "State of Charge (End %)",
          "State of Charge (End %)",
          "State of Charge (End %)",
          "State of Charge (End %)",
          "State of Charge (End %)",
          "State of Charge (End %)",
          "State of Charge (End %)",
          "State of Charge (End %)",
          "State of Charge (End %)",
          "State of Charge (End %)",
          "State of Charge (End %)",
          "State of Charge (End %)",
          "State of Charge (End %)",
          "State of Charge (End %)",
          "State of Charge (End %)",
          "State of Charge (End %)",
          "State of Charge (End %)",
          "State of Charge (End %)",
          "State of Charge (End %)",
          "State of Charge (End %)",
          "State of Charge (End %)",
          "State of Charge (End %)",
          "State of Charge (End %)",
          "State of Charge (End %)",
          "State of Charge (End %)",
          "State of Charge (End %)",
          "State of Charge (End %)",
          "State of Charge (End %)",
          "State of Charge (End %)",
          "State of Charge (End %)",
          "State of Charge (End %)",
          "State of Charge (End %)",
          "State of Charge (End %)",
          "State of Charge (End %)",
          "State of Charge (End %)",
          "State of Charge (End %)",
          "State of Charge (End %)",
          "State of Charge (End %)",
          "State of Charge (End %)",
          "State of Charge (End %)",
          "State of Charge (End %)",
          "State of Charge (End %)",
          "State of Charge (End %)",
          "State of Charge (End %)",
          "State of Charge (End %)",
          "State of Charge (End %)",
          "State of Charge (End %)",
          "State of Charge (End %)",
          "State of Charge (End %)",
          "State of Charge (End %)",
          "State of Charge (End %)",
          "State of Charge (End %)",
          "State of Charge (End %)",
          "State of Charge (End %)",
          "State of Charge (End %)",
          "State of Charge (End %)",
          "State of Charge (End %)",
          "State of Charge (End %)",
          "State of Charge (End %)",
          "State of Charge (End %)",
          "State of Charge (End %)",
          "State of Charge (End %)",
          "State of Charge (End %)",
          "State of Charge (End %)",
          "State of Charge (End %)",
          "State of Charge (End %)",
          "State of Charge (End %)",
          "State of Charge (End %)",
          "State of Charge (End %)",
          "State of Charge (End %)",
          "State of Charge (End %)",
          "State of Charge (End %)",
          "State of Charge (End %)",
          "State of Charge (End %)",
          "State of Charge (End %)",
          "State of Charge (End %)",
          "State of Charge (End %)",
          "State of Charge (End %)",
          "State of Charge (End %)",
          "State of Charge (End %)",
          "State of Charge (End %)",
          "State of Charge (End %)",
          "State of Charge (End %)",
          "State of Charge (End %)",
          "State of Charge (End %)",
          "State of Charge (End %)",
          "State of Charge (End %)",
          "State of Charge (End %)",
          "State of Charge (End %)",
          "State of Charge (End %)",
          "State of Charge (End %)",
          "State of Charge (End %)",
          "State of Charge (End %)",
          "State of Charge (End %)",
          "State of Charge (End %)",
          "State of Charge (End %)",
          "State of Charge (End %)",
          "State of Charge (End %)",
          "State of Charge (End %)",
          "State of Charge (End %)",
          "State of Charge (End %)",
          "State of Charge (End %)",
          "State of Charge (End %)",
          "State of Charge (End %)",
          "State of Charge (End %)",
          "State of Charge (End %)",
          "State of Charge (End %)",
          "State of Charge (End %)",
          "State of Charge (End %)",
          "State of Charge (End %)",
          "State of Charge (End %)",
          "State of Charge (End %)",
          "State of Charge (End %)",
          "State of Charge (End %)",
          "State of Charge (End %)",
          "State of Charge (End %)",
          "State of Charge (End %)",
          "State of Charge (End %)",
          "State of Charge (End %)",
          "State of Charge (End %)",
          "State of Charge (End %)",
          "State of Charge (End %)",
          "State of Charge (End %)",
          "State of Charge (End %)",
          "State of Charge (End %)",
          "State of Charge (End %)",
          "State of Charge (End %)",
          "State of Charge (End %)",
          "State of Charge (End %)",
          "State of Charge (End %)",
          "State of Charge (End %)",
          "State of Charge (End %)",
          "State of Charge (End %)",
          "State of Charge (End %)",
          "State of Charge (End %)",
          "State of Charge (End %)",
          "State of Charge (End %)",
          "State of Charge (End %)",
          "State of Charge (End %)",
          "State of Charge (End %)",
          "State of Charge (End %)",
          "State of Charge (End %)",
          "State of Charge (End %)",
          "State of Charge (End %)",
          "State of Charge (End %)",
          "State of Charge (End %)",
          "State of Charge (End %)",
          "State of Charge (End %)",
          "State of Charge (End %)",
          "State of Charge (End %)",
          "State of Charge (End %)",
          "State of Charge (End %)",
          "State of Charge (End %)",
          "State of Charge (End %)",
          "State of Charge (End %)",
          "State of Charge (End %)",
          "State of Charge (End %)",
          "State of Charge (End %)",
          "State of Charge (End %)",
          "State of Charge (End %)",
          "State of Charge (End %)",
          "State of Charge (End %)",
          "State of Charge (End %)",
          "State of Charge (End %)",
          "State of Charge (End %)",
          "State of Charge (End %)",
          "State of Charge (End %)",
          "State of Charge (End %)",
          "State of Charge (End %)",
          "State of Charge (End %)",
          "State of Charge (End %)",
          "State of Charge (End %)",
          "State of Charge (End %)",
          "State of Charge (End %)",
          "State of Charge (End %)",
          "State of Charge (End %)",
          "State of Charge (End %)",
          "State of Charge (End %)",
          "State of Charge (End %)",
          "State of Charge (End %)",
          "State of Charge (End %)",
          "State of Charge (End %)",
          "State of Charge (End %)",
          "State of Charge (End %)",
          "State of Charge (End %)",
          "State of Charge (End %)",
          "State of Charge (End %)",
          "State of Charge (End %)",
          "State of Charge (End %)",
          "State of Charge (End %)",
          "State of Charge (End %)",
          "State of Charge (End %)",
          "State of Charge (End %)",
          "State of Charge (End %)",
          "State of Charge (End %)",
          "State of Charge (End %)",
          "State of Charge (End %)",
          "State of Charge (End %)",
          "State of Charge (End %)",
          "State of Charge (End %)",
          "State of Charge (End %)",
          "State of Charge (End %)",
          "State of Charge (End %)",
          "State of Charge (End %)",
          "State of Charge (End %)",
          "State of Charge (End %)",
          "State of Charge (End %)",
          "State of Charge (End %)",
          "State of Charge (End %)",
          "State of Charge (End %)",
          "State of Charge (End %)",
          "State of Charge (End %)",
          "State of Charge (End %)",
          "State of Charge (End %)",
          "State of Charge (End %)",
          "State of Charge (End %)",
          "State of Charge (End %)",
          "State of Charge (End %)",
          "State of Charge (End %)",
          "State of Charge (End %)",
          "State of Charge (End %)",
          "State of Charge (End %)",
          "State of Charge (End %)",
          "State of Charge (End %)"
         ],
         "x0": " ",
         "xaxis": "x",
         "y": {
          "bdata": "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",
          "dtype": "f8"
         },
         "y0": " ",
         "yaxis": "y"
        },
        {
         "alignmentgroup": "True",
         "box": {
          "visible": true
         },
         "hovertemplate": "User Type=Long-Distance Traveler<br>variable=%{x}<br>value=%{y}<extra></extra>",
         "legendgroup": "Long-Distance Traveler",
         "marker": {
          "color": "#00cc96"
         },
         "name": "Long-Distance Traveler",
         "offsetgroup": "Long-Distance Traveler",
         "orientation": "v",
         "scalegroup": "True",
         "showlegend": true,
         "type": "violin",
         "x": [
          "State of Charge (Start %)",
          "State of Charge (Start %)",
          "State of Charge (Start %)",
          "State of Charge (Start %)",
          "State of Charge (Start %)",
          "State of Charge (Start %)",
          "State of Charge (Start %)",
          "State of Charge (Start %)",
          "State of Charge (Start %)",
          "State of Charge (Start %)",
          "State of Charge (Start %)",
          "State of Charge (Start %)",
          "State of Charge (Start %)",
          "State of Charge (Start %)",
          "State of Charge (Start %)",
          "State of Charge (Start %)",
          "State of Charge (Start %)",
          "State of Charge (Start %)",
          "State of Charge (Start %)",
          "State of Charge (Start %)",
          "State of Charge (Start %)",
          "State of Charge (Start %)",
          "State of Charge (Start %)",
          "State of Charge (Start %)",
          "State of Charge (Start %)",
          "State of Charge (Start %)",
          "State of Charge (Start %)",
          "State of Charge (Start %)",
          "State of Charge (Start %)",
          "State of Charge (Start %)",
          "State of Charge (Start %)",
          "State of Charge (Start %)",
          "State of Charge (Start %)",
          "State of Charge (Start %)",
          "State of Charge (Start %)",
          "State of Charge (Start %)",
          "State of Charge (Start %)",
          "State of Charge (Start %)",
          "State of Charge (Start %)",
          "State of Charge (Start %)",
          "State of Charge (Start %)",
          "State of Charge (Start %)",
          "State of Charge (Start %)",
          "State of Charge (Start %)",
          "State of Charge (Start %)",
          "State of Charge (Start %)",
          "State of Charge (Start %)",
          "State of Charge (Start %)",
          "State of Charge (Start %)",
          "State of Charge (Start %)",
          "State of Charge (Start %)",
          "State of Charge (Start %)",
          "State of Charge (Start %)",
          "State of Charge (Start %)",
          "State of Charge (Start %)",
          "State of Charge (Start %)",
          "State of Charge (Start %)",
          "State of Charge (Start %)",
          "State of Charge (Start %)",
          "State of Charge (Start %)",
          "State of Charge (Start %)",
          "State of Charge (Start %)",
          "State of Charge (Start %)",
          "State of Charge (Start %)",
          "State of Charge (Start %)",
          "State of Charge (Start %)",
          "State of Charge (Start %)",
          "State of Charge (Start %)",
          "State of Charge (Start %)",
          "State of Charge (Start %)",
          "State of Charge (Start %)",
          "State of Charge (Start %)",
          "State of Charge (Start %)",
          "State of Charge (Start %)",
          "State of Charge (Start %)",
          "State of Charge (Start %)",
          "State of Charge (Start %)",
          "State of Charge (Start %)",
          "State of Charge (Start %)",
          "State of Charge (Start %)",
          "State of Charge (Start %)",
          "State of Charge (Start %)",
          "State of Charge (Start %)",
          "State of Charge (Start %)",
          "State of Charge (Start %)",
          "State of Charge (Start %)",
          "State of Charge (Start %)",
          "State of Charge (Start %)",
          "State of Charge (Start %)",
          "State of Charge (Start %)",
          "State of Charge (Start %)",
          "State of Charge (Start %)",
          "State of Charge (Start %)",
          "State of Charge (Start %)",
          "State of Charge (Start %)",
          "State of Charge (Start %)",
          "State of Charge (Start %)",
          "State of Charge (Start %)",
          "State of Charge (Start %)",
          "State of Charge (Start %)",
          "State of Charge (Start %)",
          "State of Charge (Start %)",
          "State of Charge (Start %)",
          "State of Charge (Start %)",
          "State of Charge (Start %)",
          "State of Charge (Start %)",
          "State of Charge (Start %)",
          "State of Charge (Start %)",
          "State of Charge (Start %)",
          "State of Charge (Start %)",
          "State of Charge (Start %)",
          "State of Charge (Start %)",
          "State of Charge (Start %)",
          "State of Charge (Start %)",
          "State of Charge (Start %)",
          "State of Charge (Start %)",
          "State of Charge (Start %)",
          "State of Charge (Start %)",
          "State of Charge (Start %)",
          "State of Charge (Start %)",
          "State of Charge (Start %)",
          "State of Charge (Start %)",
          "State of Charge (Start %)",
          "State of Charge (Start %)",
          "State of Charge (Start %)",
          "State of Charge (Start %)",
          "State of Charge (Start %)",
          "State of Charge (Start %)",
          "State of Charge (Start %)",
          "State of Charge (Start %)",
          "State of Charge (Start %)",
          "State of Charge (Start %)",
          "State of Charge (Start %)",
          "State of Charge (Start %)",
          "State of Charge (Start %)",
          "State of Charge (Start %)",
          "State of Charge (Start %)",
          "State of Charge (Start %)",
          "State of Charge (Start %)",
          "State of Charge (Start %)",
          "State of Charge (Start %)",
          "State of Charge (Start %)",
          "State of Charge (Start %)",
          "State of Charge (Start %)",
          "State of Charge (Start %)",
          "State of Charge (Start %)",
          "State of Charge (Start %)",
          "State of Charge (Start %)",
          "State of Charge (Start %)",
          "State of Charge (Start %)",
          "State of Charge (Start %)",
          "State of Charge (Start %)",
          "State of Charge (Start %)",
          "State of Charge (Start %)",
          "State of Charge (Start %)",
          "State of Charge (Start %)",
          "State of Charge (Start %)",
          "State of Charge (Start %)",
          "State of Charge (Start %)",
          "State of Charge (Start %)",
          "State of Charge (Start %)",
          "State of Charge (Start %)",
          "State of Charge (Start %)",
          "State of Charge (Start %)",
          "State of Charge (Start %)",
          "State of Charge (Start %)",
          "State of Charge (Start %)",
          "State of Charge (Start %)",
          "State of Charge (Start %)",
          "State of Charge (Start %)",
          "State of Charge (Start %)",
          "State of Charge (Start %)",
          "State of Charge (Start %)",
          "State of Charge (Start %)",
          "State of Charge (Start %)",
          "State of Charge (Start %)",
          "State of Charge (Start %)",
          "State of Charge (Start %)",
          "State of Charge (Start %)",
          "State of Charge (Start %)",
          "State of Charge (Start %)",
          "State of Charge (Start %)",
          "State of Charge (Start %)",
          "State of Charge (Start %)",
          "State of Charge (Start %)",
          "State of Charge (Start %)",
          "State of Charge (Start %)",
          "State of Charge (Start %)",
          "State of Charge (Start %)",
          "State of Charge (Start %)",
          "State of Charge (Start %)",
          "State of Charge (Start %)",
          "State of Charge (Start %)",
          "State of Charge (Start %)",
          "State of Charge (Start %)",
          "State of Charge (Start %)",
          "State of Charge (Start %)",
          "State of Charge (Start %)",
          "State of Charge (Start %)",
          "State of Charge (Start %)",
          "State of Charge (Start %)",
          "State of Charge (Start %)",
          "State of Charge (Start %)",
          "State of Charge (Start %)",
          "State of Charge (Start %)",
          "State of Charge (Start %)",
          "State of Charge (Start %)",
          "State of Charge (Start %)",
          "State of Charge (Start %)",
          "State of Charge (Start %)",
          "State of Charge (Start %)",
          "State of Charge (Start %)",
          "State of Charge (Start %)",
          "State of Charge (Start %)",
          "State of Charge (Start %)",
          "State of Charge (Start %)",
          "State of Charge (Start %)",
          "State of Charge (Start %)",
          "State of Charge (Start %)",
          "State of Charge (Start %)",
          "State of Charge (Start %)",
          "State of Charge (Start %)",
          "State of Charge (Start %)",
          "State of Charge (Start %)",
          "State of Charge (Start %)",
          "State of Charge (Start %)",
          "State of Charge (Start %)",
          "State of Charge (Start %)",
          "State of Charge (Start %)",
          "State of Charge (Start %)",
          "State of Charge (Start %)",
          "State of Charge (Start %)",
          "State of Charge (Start %)",
          "State of Charge (Start %)",
          "State of Charge (Start %)",
          "State of Charge (Start %)",
          "State of Charge (Start %)",
          "State of Charge (Start %)",
          "State of Charge (Start %)",
          "State of Charge (Start %)",
          "State of Charge (Start %)",
          "State of Charge (Start %)",
          "State of Charge (Start %)",
          "State of Charge (Start %)",
          "State of Charge (Start %)",
          "State of Charge (Start %)",
          "State of Charge (Start %)",
          "State of Charge (Start %)",
          "State of Charge (Start %)",
          "State of Charge (Start %)",
          "State of Charge (Start %)",
          "State of Charge (Start %)",
          "State of Charge (Start %)",
          "State of Charge (Start %)",
          "State of Charge (Start %)",
          "State of Charge (Start %)",
          "State of Charge (Start %)",
          "State of Charge (Start %)",
          "State of Charge (Start %)",
          "State of Charge (Start %)",
          "State of Charge (Start %)",
          "State of Charge (Start %)",
          "State of Charge (Start %)",
          "State of Charge (Start %)",
          "State of Charge (Start %)",
          "State of Charge (Start %)",
          "State of Charge (Start %)",
          "State of Charge (Start %)",
          "State of Charge (Start %)",
          "State of Charge (Start %)",
          "State of Charge (Start %)",
          "State of Charge (Start %)",
          "State of Charge (Start %)",
          "State of Charge (Start %)",
          "State of Charge (Start %)",
          "State of Charge (Start %)",
          "State of Charge (Start %)",
          "State of Charge (Start %)",
          "State of Charge (Start %)",
          "State of Charge (Start %)",
          "State of Charge (Start %)",
          "State of Charge (Start %)",
          "State of Charge (Start %)",
          "State of Charge (Start %)",
          "State of Charge (Start %)",
          "State of Charge (Start %)",
          "State of Charge (Start %)",
          "State of Charge (Start %)",
          "State of Charge (Start %)",
          "State of Charge (Start %)",
          "State of Charge (Start %)",
          "State of Charge (Start %)",
          "State of Charge (Start %)",
          "State of Charge (Start %)",
          "State of Charge (Start %)",
          "State of Charge (Start %)",
          "State of Charge (Start %)",
          "State of Charge (Start %)",
          "State of Charge (Start %)",
          "State of Charge (Start %)",
          "State of Charge (Start %)",
          "State of Charge (Start %)",
          "State of Charge (Start %)",
          "State of Charge (Start %)",
          "State of Charge (Start %)",
          "State of Charge (Start %)",
          "State of Charge (Start %)",
          "State of Charge (Start %)",
          "State of Charge (Start %)",
          "State of Charge (Start %)",
          "State of Charge (Start %)",
          "State of Charge (Start %)",
          "State of Charge (Start %)",
          "State of Charge (Start %)",
          "State of Charge (Start %)",
          "State of Charge (Start %)",
          "State of Charge (Start %)",
          "State of Charge (Start %)",
          "State of Charge (Start %)",
          "State of Charge (Start %)",
          "State of Charge (Start %)",
          "State of Charge (Start %)",
          "State of Charge (Start %)",
          "State of Charge (Start %)",
          "State of Charge (Start %)",
          "State of Charge (Start %)",
          "State of Charge (Start %)",
          "State of Charge (Start %)",
          "State of Charge (Start %)",
          "State of Charge (Start %)",
          "State of Charge (Start %)",
          "State of Charge (Start %)",
          "State of Charge (Start %)",
          "State of Charge (Start %)",
          "State of Charge (Start %)",
          "State of Charge (Start %)",
          "State of Charge (Start %)",
          "State of Charge (Start %)",
          "State of Charge (Start %)",
          "State of Charge (Start %)",
          "State of Charge (Start %)",
          "State of Charge (Start %)",
          "State of Charge (Start %)",
          "State of Charge (Start %)",
          "State of Charge (Start %)",
          "State of Charge (Start %)",
          "State of Charge (Start %)",
          "State of Charge (Start %)",
          "State of Charge (Start %)",
          "State of Charge (Start %)",
          "State of Charge (Start %)",
          "State of Charge (Start %)",
          "State of Charge (Start %)",
          "State of Charge (Start %)",
          "State of Charge (Start %)",
          "State of Charge (Start %)",
          "State of Charge (Start %)",
          "State of Charge (Start %)",
          "State of Charge (Start %)",
          "State of Charge (Start %)",
          "State of Charge (Start %)",
          "State of Charge (Start %)",
          "State of Charge (Start %)",
          "State of Charge (Start %)",
          "State of Charge (Start %)",
          "State of Charge (Start %)",
          "State of Charge (Start %)",
          "State of Charge (Start %)",
          "State of Charge (Start %)",
          "State of Charge (Start %)",
          "State of Charge (Start %)",
          "State of Charge (Start %)",
          "State of Charge (Start %)",
          "State of Charge (Start %)",
          "State of Charge (Start %)",
          "State of Charge (Start %)",
          "State of Charge (Start %)",
          "State of Charge (Start %)",
          "State of Charge (Start %)",
          "State of Charge (Start %)",
          "State of Charge (Start %)",
          "State of Charge (Start %)",
          "State of Charge (Start %)",
          "State of Charge (Start %)",
          "State of Charge (Start %)",
          "State of Charge (Start %)",
          "State of Charge (Start %)",
          "State of Charge (Start %)",
          "State of Charge (Start %)",
          "State of Charge (Start %)",
          "State of Charge (Start %)",
          "State of Charge (Start %)",
          "State of Charge (Start %)",
          "State of Charge (Start %)",
          "State of Charge (Start %)",
          "State of Charge (Start %)",
          "State of Charge (Start %)",
          "State of Charge (Start %)",
          "State of Charge (Start %)",
          "State of Charge (Start %)",
          "State of Charge (Start %)",
          "State of Charge (Start %)",
          "State of Charge (Start %)",
          "State of Charge (Start %)",
          "State of Charge (Start %)",
          "State of Charge (Start %)",
          "State of Charge (Start %)",
          "State of Charge (Start %)",
          "State of Charge (Start %)",
          "State of Charge (Start %)",
          "State of Charge (Start %)",
          "State of Charge (Start %)",
          "State of Charge (Start %)",
          "State of Charge (Start %)",
          "State of Charge (Start %)",
          "State of Charge (Start %)",
          "State of Charge (Start %)",
          "State of Charge (Start %)",
          "State of Charge (Start %)",
          "State of Charge (Start %)",
          "State of Charge (Start %)",
          "State of Charge (Start %)",
          "State of Charge (Start %)",
          "State of Charge (Start %)",
          "State of Charge (Start %)",
          "State of Charge (Start %)",
          "State of Charge (Start %)",
          "State of Charge (Start %)",
          "State of Charge (Start %)",
          "State of Charge (Start %)",
          "State of Charge (Start %)",
          "State of Charge (Start %)",
          "State of Charge (Start %)",
          "State of Charge (Start %)",
          "State of Charge (Start %)",
          "State of Charge (Start %)",
          "State of Charge (Start %)",
          "State of Charge (End %)",
          "State of Charge (End %)",
          "State of Charge (End %)",
          "State of Charge (End %)",
          "State of Charge (End %)",
          "State of Charge (End %)",
          "State of Charge (End %)",
          "State of Charge (End %)",
          "State of Charge (End %)",
          "State of Charge (End %)",
          "State of Charge (End %)",
          "State of Charge (End %)",
          "State of Charge (End %)",
          "State of Charge (End %)",
          "State of Charge (End %)",
          "State of Charge (End %)",
          "State of Charge (End %)",
          "State of Charge (End %)",
          "State of Charge (End %)",
          "State of Charge (End %)",
          "State of Charge (End %)",
          "State of Charge (End %)",
          "State of Charge (End %)",
          "State of Charge (End %)",
          "State of Charge (End %)",
          "State of Charge (End %)",
          "State of Charge (End %)",
          "State of Charge (End %)",
          "State of Charge (End %)",
          "State of Charge (End %)",
          "State of Charge (End %)",
          "State of Charge (End %)",
          "State of Charge (End %)",
          "State of Charge (End %)",
          "State of Charge (End %)",
          "State of Charge (End %)",
          "State of Charge (End %)",
          "State of Charge (End %)",
          "State of Charge (End %)",
          "State of Charge (End %)",
          "State of Charge (End %)",
          "State of Charge (End %)",
          "State of Charge (End %)",
          "State of Charge (End %)",
          "State of Charge (End %)",
          "State of Charge (End %)",
          "State of Charge (End %)",
          "State of Charge (End %)",
          "State of Charge (End %)",
          "State of Charge (End %)",
          "State of Charge (End %)",
          "State of Charge (End %)",
          "State of Charge (End %)",
          "State of Charge (End %)",
          "State of Charge (End %)",
          "State of Charge (End %)",
          "State of Charge (End %)",
          "State of Charge (End %)",
          "State of Charge (End %)",
          "State of Charge (End %)",
          "State of Charge (End %)",
          "State of Charge (End %)",
          "State of Charge (End %)",
          "State of Charge (End %)",
          "State of Charge (End %)",
          "State of Charge (End %)",
          "State of Charge (End %)",
          "State of Charge (End %)",
          "State of Charge (End %)",
          "State of Charge (End %)",
          "State of Charge (End %)",
          "State of Charge (End %)",
          "State of Charge (End %)",
          "State of Charge (End %)",
          "State of Charge (End %)",
          "State of Charge (End %)",
          "State of Charge (End %)",
          "State of Charge (End %)",
          "State of Charge (End %)",
          "State of Charge (End %)",
          "State of Charge (End %)",
          "State of Charge (End %)",
          "State of Charge (End %)",
          "State of Charge (End %)",
          "State of Charge (End %)",
          "State of Charge (End %)",
          "State of Charge (End %)",
          "State of Charge (End %)",
          "State of Charge (End %)",
          "State of Charge (End %)",
          "State of Charge (End %)",
          "State of Charge (End %)",
          "State of Charge (End %)",
          "State of Charge (End %)",
          "State of Charge (End %)",
          "State of Charge (End %)",
          "State of Charge (End %)",
          "State of Charge (End %)",
          "State of Charge (End %)",
          "State of Charge (End %)",
          "State of Charge (End %)",
          "State of Charge (End %)",
          "State of Charge (End %)",
          "State of Charge (End %)",
          "State of Charge (End %)",
          "State of Charge (End %)",
          "State of Charge (End %)",
          "State of Charge (End %)",
          "State of Charge (End %)",
          "State of Charge (End %)",
          "State of Charge (End %)",
          "State of Charge (End %)",
          "State of Charge (End %)",
          "State of Charge (End %)",
          "State of Charge (End %)",
          "State of Charge (End %)",
          "State of Charge (End %)",
          "State of Charge (End %)",
          "State of Charge (End %)",
          "State of Charge (End %)",
          "State of Charge (End %)",
          "State of Charge (End %)",
          "State of Charge (End %)",
          "State of Charge (End %)",
          "State of Charge (End %)",
          "State of Charge (End %)",
          "State of Charge (End %)",
          "State of Charge (End %)",
          "State of Charge (End %)",
          "State of Charge (End %)",
          "State of Charge (End %)",
          "State of Charge (End %)",
          "State of Charge (End %)",
          "State of Charge (End %)",
          "State of Charge (End %)",
          "State of Charge (End %)",
          "State of Charge (End %)",
          "State of Charge (End %)",
          "State of Charge (End %)",
          "State of Charge (End %)",
          "State of Charge (End %)",
          "State of Charge (End %)",
          "State of Charge (End %)",
          "State of Charge (End %)",
          "State of Charge (End %)",
          "State of Charge (End %)",
          "State of Charge (End %)",
          "State of Charge (End %)",
          "State of Charge (End %)",
          "State of Charge (End %)",
          "State of Charge (End %)",
          "State of Charge (End %)",
          "State of Charge (End %)",
          "State of Charge (End %)",
          "State of Charge (End %)",
          "State of Charge (End %)",
          "State of Charge (End %)",
          "State of Charge (End %)",
          "State of Charge (End %)",
          "State of Charge (End %)",
          "State of Charge (End %)",
          "State of Charge (End %)",
          "State of Charge (End %)",
          "State of Charge (End %)",
          "State of Charge (End %)",
          "State of Charge (End %)",
          "State of Charge (End %)",
          "State of Charge (End %)",
          "State of Charge (End %)",
          "State of Charge (End %)",
          "State of Charge (End %)",
          "State of Charge (End %)",
          "State of Charge (End %)",
          "State of Charge (End %)",
          "State of Charge (End %)",
          "State of Charge (End %)",
          "State of Charge (End %)",
          "State of Charge (End %)",
          "State of Charge (End %)",
          "State of Charge (End %)",
          "State of Charge (End %)",
          "State of Charge (End %)",
          "State of Charge (End %)",
          "State of Charge (End %)",
          "State of Charge (End %)",
          "State of Charge (End %)",
          "State of Charge (End %)",
          "State of Charge (End %)",
          "State of Charge (End %)",
          "State of Charge (End %)",
          "State of Charge (End %)",
          "State of Charge (End %)",
          "State of Charge (End %)",
          "State of Charge (End %)",
          "State of Charge (End %)",
          "State of Charge (End %)",
          "State of Charge (End %)",
          "State of Charge (End %)",
          "State of Charge (End %)",
          "State of Charge (End %)",
          "State of Charge (End %)",
          "State of Charge (End %)",
          "State of Charge (End %)",
          "State of Charge (End %)",
          "State of Charge (End %)",
          "State of Charge (End %)",
          "State of Charge (End %)",
          "State of Charge (End %)",
          "State of Charge (End %)",
          "State of Charge (End %)",
          "State of Charge (End %)",
          "State of Charge (End %)",
          "State of Charge (End %)",
          "State of Charge (End %)",
          "State of Charge (End %)",
          "State of Charge (End %)",
          "State of Charge (End %)",
          "State of Charge (End %)",
          "State of Charge (End %)",
          "State of Charge (End %)",
          "State of Charge (End %)",
          "State of Charge (End %)",
          "State of Charge (End %)",
          "State of Charge (End %)",
          "State of Charge (End %)",
          "State of Charge (End %)",
          "State of Charge (End %)",
          "State of Charge (End %)",
          "State of Charge (End %)",
          "State of Charge (End %)",
          "State of Charge (End %)",
          "State of Charge (End %)",
          "State of Charge (End %)",
          "State of Charge (End %)",
          "State of Charge (End %)",
          "State of Charge (End %)",
          "State of Charge (End %)",
          "State of Charge (End %)",
          "State of Charge (End %)",
          "State of Charge (End %)",
          "State of Charge (End %)",
          "State of Charge (End %)",
          "State of Charge (End %)",
          "State of Charge (End %)",
          "State of Charge (End %)",
          "State of Charge (End %)",
          "State of Charge (End %)",
          "State of Charge (End %)",
          "State of Charge (End %)",
          "State of Charge (End %)",
          "State of Charge (End %)",
          "State of Charge (End %)",
          "State of Charge (End %)",
          "State of Charge (End %)",
          "State of Charge (End %)",
          "State of Charge (End %)",
          "State of Charge (End %)",
          "State of Charge (End %)",
          "State of Charge (End %)",
          "State of Charge (End %)",
          "State of Charge (End %)",
          "State of Charge (End %)",
          "State of Charge (End %)",
          "State of Charge (End %)",
          "State of Charge (End %)",
          "State of Charge (End %)",
          "State of Charge (End %)",
          "State of Charge (End %)",
          "State of Charge (End %)",
          "State of Charge (End %)",
          "State of Charge (End %)",
          "State of Charge (End %)",
          "State of Charge (End %)",
          "State of Charge (End %)",
          "State of Charge (End %)",
          "State of Charge (End %)",
          "State of Charge (End %)",
          "State of Charge (End %)",
          "State of Charge (End %)",
          "State of Charge (End %)",
          "State of Charge (End %)",
          "State of Charge (End %)",
          "State of Charge (End %)",
          "State of Charge (End %)",
          "State of Charge (End %)",
          "State of Charge (End %)",
          "State of Charge (End %)",
          "State of Charge (End %)",
          "State of Charge (End %)",
          "State of Charge (End %)",
          "State of Charge (End %)",
          "State of Charge (End %)",
          "State of Charge (End %)",
          "State of Charge (End %)",
          "State of Charge (End %)",
          "State of Charge (End %)",
          "State of Charge (End %)",
          "State of Charge (End %)",
          "State of Charge (End %)",
          "State of Charge (End %)",
          "State of Charge (End %)",
          "State of Charge (End %)",
          "State of Charge (End %)",
          "State of Charge (End %)",
          "State of Charge (End %)",
          "State of Charge (End %)",
          "State of Charge (End %)",
          "State of Charge (End %)",
          "State of Charge (End %)",
          "State of Charge (End %)",
          "State of Charge (End %)",
          "State of Charge (End %)",
          "State of Charge (End %)",
          "State of Charge (End %)",
          "State of Charge (End %)",
          "State of Charge (End %)",
          "State of Charge (End %)",
          "State of Charge (End %)",
          "State of Charge (End %)",
          "State of Charge (End %)",
          "State of Charge (End %)",
          "State of Charge (End %)",
          "State of Charge (End %)",
          "State of Charge (End %)",
          "State of Charge (End %)",
          "State of Charge (End %)",
          "State of Charge (End %)",
          "State of Charge (End %)",
          "State of Charge (End %)",
          "State of Charge (End %)",
          "State of Charge (End %)",
          "State of Charge (End %)",
          "State of Charge (End %)",
          "State of Charge (End %)",
          "State of Charge (End %)",
          "State of Charge (End %)",
          "State of Charge (End %)",
          "State of Charge (End %)",
          "State of Charge (End %)",
          "State of Charge (End %)",
          "State of Charge (End %)",
          "State of Charge (End %)",
          "State of Charge (End %)",
          "State of Charge (End %)",
          "State of Charge (End %)",
          "State of Charge (End %)",
          "State of Charge (End %)",
          "State of Charge (End %)",
          "State of Charge (End %)",
          "State of Charge (End %)",
          "State of Charge (End %)",
          "State of Charge (End %)",
          "State of Charge (End %)",
          "State of Charge (End %)",
          "State of Charge (End %)",
          "State of Charge (End %)",
          "State of Charge (End %)",
          "State of Charge (End %)",
          "State of Charge (End %)",
          "State of Charge (End %)",
          "State of Charge (End %)",
          "State of Charge (End %)",
          "State of Charge (End %)",
          "State of Charge (End %)",
          "State of Charge (End %)",
          "State of Charge (End %)",
          "State of Charge (End %)",
          "State of Charge (End %)",
          "State of Charge (End %)",
          "State of Charge (End %)",
          "State of Charge (End %)",
          "State of Charge (End %)",
          "State of Charge (End %)",
          "State of Charge (End %)",
          "State of Charge (End %)",
          "State of Charge (End %)",
          "State of Charge (End %)",
          "State of Charge (End %)",
          "State of Charge (End %)",
          "State of Charge (End %)",
          "State of Charge (End %)",
          "State of Charge (End %)",
          "State of Charge (End %)",
          "State of Charge (End %)",
          "State of Charge (End %)",
          "State of Charge (End %)",
          "State of Charge (End %)",
          "State of Charge (End %)",
          "State of Charge (End %)",
          "State of Charge (End %)",
          "State of Charge (End %)",
          "State of Charge (End %)",
          "State of Charge (End %)",
          "State of Charge (End %)",
          "State of Charge (End %)",
          "State of Charge (End %)",
          "State of Charge (End %)",
          "State of Charge (End %)",
          "State of Charge (End %)",
          "State of Charge (End %)",
          "State of Charge (End %)",
          "State of Charge (End %)",
          "State of Charge (End %)",
          "State of Charge (End %)",
          "State of Charge (End %)",
          "State of Charge (End %)",
          "State of Charge (End %)",
          "State of Charge (End %)",
          "State of Charge (End %)",
          "State of Charge (End %)",
          "State of Charge (End %)",
          "State of Charge (End %)",
          "State of Charge (End %)",
          "State of Charge (End %)",
          "State of Charge (End %)",
          "State of Charge (End %)",
          "State of Charge (End %)",
          "State of Charge (End %)",
          "State of Charge (End %)",
          "State of Charge (End %)",
          "State of Charge (End %)",
          "State of Charge (End %)",
          "State of Charge (End %)",
          "State of Charge (End %)",
          "State of Charge (End %)",
          "State of Charge (End %)",
          "State of Charge (End %)",
          "State of Charge (End %)",
          "State of Charge (End %)",
          "State of Charge (End %)",
          "State of Charge (End %)",
          "State of Charge (End %)",
          "State of Charge (End %)",
          "State of Charge (End %)",
          "State of Charge (End %)",
          "State of Charge (End %)",
          "State of Charge (End %)"
         ],
         "x0": " ",
         "xaxis": "x",
         "y": {
          "bdata": "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",
          "dtype": "f8"
         },
         "y0": " ",
         "yaxis": "y"
        }
       ],
       "layout": {
        "legend": {
         "title": {
          "text": "User Type"
         },
         "tracegroupgap": 0
        },
        "template": {
         "data": {
          "bar": [
           {
            "error_x": {
             "color": "#2a3f5f"
            },
            "error_y": {
             "color": "#2a3f5f"
            },
            "marker": {
             "line": {
              "color": "#E5ECF6",
              "width": 0.5
             },
             "pattern": {
              "fillmode": "overlay",
              "size": 10,
              "solidity": 0.2
             }
            },
            "type": "bar"
           }
          ],
          "barpolar": [
           {
            "marker": {
             "line": {
              "color": "#E5ECF6",
              "width": 0.5
             },
             "pattern": {
              "fillmode": "overlay",
              "size": 10,
              "solidity": 0.2
             }
            },
            "type": "barpolar"
           }
          ],
          "carpet": [
           {
            "aaxis": {
             "endlinecolor": "#2a3f5f",
             "gridcolor": "white",
             "linecolor": "white",
             "minorgridcolor": "white",
             "startlinecolor": "#2a3f5f"
            },
            "baxis": {
             "endlinecolor": "#2a3f5f",
             "gridcolor": "white",
             "linecolor": "white",
             "minorgridcolor": "white",
             "startlinecolor": "#2a3f5f"
            },
            "type": "carpet"
           }
          ],
          "choropleth": [
           {
            "colorbar": {
             "outlinewidth": 0,
             "ticks": ""
            },
            "type": "choropleth"
           }
          ],
          "contour": [
           {
            "colorbar": {
             "outlinewidth": 0,
             "ticks": ""
            },
            "colorscale": [
             [
              0,
              "#0d0887"
             ],
             [
              0.1111111111111111,
              "#46039f"
             ],
             [
              0.2222222222222222,
              "#7201a8"
             ],
             [
              0.3333333333333333,
              "#9c179e"
             ],
             [
              0.4444444444444444,
              "#bd3786"
             ],
             [
              0.5555555555555556,
              "#d8576b"
             ],
             [
              0.6666666666666666,
              "#ed7953"
             ],
             [
              0.7777777777777778,
              "#fb9f3a"
             ],
             [
              0.8888888888888888,
              "#fdca26"
             ],
             [
              1,
              "#f0f921"
             ]
            ],
            "type": "contour"
           }
          ],
          "contourcarpet": [
           {
            "colorbar": {
             "outlinewidth": 0,
             "ticks": ""
            },
            "type": "contourcarpet"
           }
          ],
          "heatmap": [
           {
            "colorbar": {
             "outlinewidth": 0,
             "ticks": ""
            },
            "colorscale": [
             [
              0,
              "#0d0887"
             ],
             [
              0.1111111111111111,
              "#46039f"
             ],
             [
              0.2222222222222222,
              "#7201a8"
             ],
             [
              0.3333333333333333,
              "#9c179e"
             ],
             [
              0.4444444444444444,
              "#bd3786"
             ],
             [
              0.5555555555555556,
              "#d8576b"
             ],
             [
              0.6666666666666666,
              "#ed7953"
             ],
             [
              0.7777777777777778,
              "#fb9f3a"
             ],
             [
              0.8888888888888888,
              "#fdca26"
             ],
             [
              1,
              "#f0f921"
             ]
            ],
            "type": "heatmap"
           }
          ],
          "histogram": [
           {
            "marker": {
             "pattern": {
              "fillmode": "overlay",
              "size": 10,
              "solidity": 0.2
             }
            },
            "type": "histogram"
           }
          ],
          "histogram2d": [
           {
            "colorbar": {
             "outlinewidth": 0,
             "ticks": ""
            },
            "colorscale": [
             [
              0,
              "#0d0887"
             ],
             [
              0.1111111111111111,
              "#46039f"
             ],
             [
              0.2222222222222222,
              "#7201a8"
             ],
             [
              0.3333333333333333,
              "#9c179e"
             ],
             [
              0.4444444444444444,
              "#bd3786"
             ],
             [
              0.5555555555555556,
              "#d8576b"
             ],
             [
              0.6666666666666666,
              "#ed7953"
             ],
             [
              0.7777777777777778,
              "#fb9f3a"
             ],
             [
              0.8888888888888888,
              "#fdca26"
             ],
             [
              1,
              "#f0f921"
             ]
            ],
            "type": "histogram2d"
           }
          ],
          "histogram2dcontour": [
           {
            "colorbar": {
             "outlinewidth": 0,
             "ticks": ""
            },
            "colorscale": [
             [
              0,
              "#0d0887"
             ],
             [
              0.1111111111111111,
              "#46039f"
             ],
             [
              0.2222222222222222,
              "#7201a8"
             ],
             [
              0.3333333333333333,
              "#9c179e"
             ],
             [
              0.4444444444444444,
              "#bd3786"
             ],
             [
              0.5555555555555556,
              "#d8576b"
             ],
             [
              0.6666666666666666,
              "#ed7953"
             ],
             [
              0.7777777777777778,
              "#fb9f3a"
             ],
             [
              0.8888888888888888,
              "#fdca26"
             ],
             [
              1,
              "#f0f921"
             ]
            ],
            "type": "histogram2dcontour"
           }
          ],
          "mesh3d": [
           {
            "colorbar": {
             "outlinewidth": 0,
             "ticks": ""
            },
            "type": "mesh3d"
           }
          ],
          "parcoords": [
           {
            "line": {
             "colorbar": {
              "outlinewidth": 0,
              "ticks": ""
             }
            },
            "type": "parcoords"
           }
          ],
          "pie": [
           {
            "automargin": true,
            "type": "pie"
           }
          ],
          "scatter": [
           {
            "fillpattern": {
             "fillmode": "overlay",
             "size": 10,
             "solidity": 0.2
            },
            "type": "scatter"
           }
          ],
          "scatter3d": [
           {
            "line": {
             "colorbar": {
              "outlinewidth": 0,
              "ticks": ""
             }
            },
            "marker": {
             "colorbar": {
              "outlinewidth": 0,
              "ticks": ""
             }
            },
            "type": "scatter3d"
           }
          ],
          "scattercarpet": [
           {
            "marker": {
             "colorbar": {
              "outlinewidth": 0,
              "ticks": ""
             }
            },
            "type": "scattercarpet"
           }
          ],
          "scattergeo": [
           {
            "marker": {
             "colorbar": {
              "outlinewidth": 0,
              "ticks": ""
             }
            },
            "type": "scattergeo"
           }
          ],
          "scattergl": [
           {
            "marker": {
             "colorbar": {
              "outlinewidth": 0,
              "ticks": ""
             }
            },
            "type": "scattergl"
           }
          ],
          "scattermap": [
           {
            "marker": {
             "colorbar": {
              "outlinewidth": 0,
              "ticks": ""
             }
            },
            "type": "scattermap"
           }
          ],
          "scattermapbox": [
           {
            "marker": {
             "colorbar": {
              "outlinewidth": 0,
              "ticks": ""
             }
            },
            "type": "scattermapbox"
           }
          ],
          "scatterpolar": [
           {
            "marker": {
             "colorbar": {
              "outlinewidth": 0,
              "ticks": ""
             }
            },
            "type": "scatterpolar"
           }
          ],
          "scatterpolargl": [
           {
            "marker": {
             "colorbar": {
              "outlinewidth": 0,
              "ticks": ""
             }
            },
            "type": "scatterpolargl"
           }
          ],
          "scatterternary": [
           {
            "marker": {
             "colorbar": {
              "outlinewidth": 0,
              "ticks": ""
             }
            },
            "type": "scatterternary"
           }
          ],
          "surface": [
           {
            "colorbar": {
             "outlinewidth": 0,
             "ticks": ""
            },
            "colorscale": [
             [
              0,
              "#0d0887"
             ],
             [
              0.1111111111111111,
              "#46039f"
             ],
             [
              0.2222222222222222,
              "#7201a8"
             ],
             [
              0.3333333333333333,
              "#9c179e"
             ],
             [
              0.4444444444444444,
              "#bd3786"
             ],
             [
              0.5555555555555556,
              "#d8576b"
             ],
             [
              0.6666666666666666,
              "#ed7953"
             ],
             [
              0.7777777777777778,
              "#fb9f3a"
             ],
             [
              0.8888888888888888,
              "#fdca26"
             ],
             [
              1,
              "#f0f921"
             ]
            ],
            "type": "surface"
           }
          ],
          "table": [
           {
            "cells": {
             "fill": {
              "color": "#EBF0F8"
             },
             "line": {
              "color": "white"
             }
            },
            "header": {
             "fill": {
              "color": "#C8D4E3"
             },
             "line": {
              "color": "white"
             }
            },
            "type": "table"
           }
          ]
         },
         "layout": {
          "annotationdefaults": {
           "arrowcolor": "#2a3f5f",
           "arrowhead": 0,
           "arrowwidth": 1
          },
          "autotypenumbers": "strict",
          "coloraxis": {
           "colorbar": {
            "outlinewidth": 0,
            "ticks": ""
           }
          },
          "colorscale": {
           "diverging": [
            [
             0,
             "#8e0152"
            ],
            [
             0.1,
             "#c51b7d"
            ],
            [
             0.2,
             "#de77ae"
            ],
            [
             0.3,
             "#f1b6da"
            ],
            [
             0.4,
             "#fde0ef"
            ],
            [
             0.5,
             "#f7f7f7"
            ],
            [
             0.6,
             "#e6f5d0"
            ],
            [
             0.7,
             "#b8e186"
            ],
            [
             0.8,
             "#7fbc41"
            ],
            [
             0.9,
             "#4d9221"
            ],
            [
             1,
             "#276419"
            ]
           ],
           "sequential": [
            [
             0,
             "#0d0887"
            ],
            [
             0.1111111111111111,
             "#46039f"
            ],
            [
             0.2222222222222222,
             "#7201a8"
            ],
            [
             0.3333333333333333,
             "#9c179e"
            ],
            [
             0.4444444444444444,
             "#bd3786"
            ],
            [
             0.5555555555555556,
             "#d8576b"
            ],
            [
             0.6666666666666666,
             "#ed7953"
            ],
            [
             0.7777777777777778,
             "#fb9f3a"
            ],
            [
             0.8888888888888888,
             "#fdca26"
            ],
            [
             1,
             "#f0f921"
            ]
           ],
           "sequentialminus": [
            [
             0,
             "#0d0887"
            ],
            [
             0.1111111111111111,
             "#46039f"
            ],
            [
             0.2222222222222222,
             "#7201a8"
            ],
            [
             0.3333333333333333,
             "#9c179e"
            ],
            [
             0.4444444444444444,
             "#bd3786"
            ],
            [
             0.5555555555555556,
             "#d8576b"
            ],
            [
             0.6666666666666666,
             "#ed7953"
            ],
            [
             0.7777777777777778,
             "#fb9f3a"
            ],
            [
             0.8888888888888888,
             "#fdca26"
            ],
            [
             1,
             "#f0f921"
            ]
           ]
          },
          "colorway": [
           "#636efa",
           "#EF553B",
           "#00cc96",
           "#ab63fa",
           "#FFA15A",
           "#19d3f3",
           "#FF6692",
           "#B6E880",
           "#FF97FF",
           "#FECB52"
          ],
          "font": {
           "color": "#2a3f5f"
          },
          "geo": {
           "bgcolor": "white",
           "lakecolor": "white",
           "landcolor": "#E5ECF6",
           "showlakes": true,
           "showland": true,
           "subunitcolor": "white"
          },
          "hoverlabel": {
           "align": "left"
          },
          "hovermode": "closest",
          "mapbox": {
           "style": "light"
          },
          "paper_bgcolor": "white",
          "plot_bgcolor": "#E5ECF6",
          "polar": {
           "angularaxis": {
            "gridcolor": "white",
            "linecolor": "white",
            "ticks": ""
           },
           "bgcolor": "#E5ECF6",
           "radialaxis": {
            "gridcolor": "white",
            "linecolor": "white",
            "ticks": ""
           }
          },
          "scene": {
           "xaxis": {
            "backgroundcolor": "#E5ECF6",
            "gridcolor": "white",
            "gridwidth": 2,
            "linecolor": "white",
            "showbackground": true,
            "ticks": "",
            "zerolinecolor": "white"
           },
           "yaxis": {
            "backgroundcolor": "#E5ECF6",
            "gridcolor": "white",
            "gridwidth": 2,
            "linecolor": "white",
            "showbackground": true,
            "ticks": "",
            "zerolinecolor": "white"
           },
           "zaxis": {
            "backgroundcolor": "#E5ECF6",
            "gridcolor": "white",
            "gridwidth": 2,
            "linecolor": "white",
            "showbackground": true,
            "ticks": "",
            "zerolinecolor": "white"
           }
          },
          "shapedefaults": {
           "line": {
            "color": "#2a3f5f"
           }
          },
          "ternary": {
           "aaxis": {
            "gridcolor": "white",
            "linecolor": "white",
            "ticks": ""
           },
           "baxis": {
            "gridcolor": "white",
            "linecolor": "white",
            "ticks": ""
           },
           "bgcolor": "#E5ECF6",
           "caxis": {
            "gridcolor": "white",
            "linecolor": "white",
            "ticks": ""
           }
          },
          "title": {
           "x": 0.05
          },
          "xaxis": {
           "automargin": true,
           "gridcolor": "white",
           "linecolor": "white",
           "ticks": "",
           "title": {
            "standoff": 15
           },
           "zerolinecolor": "white",
           "zerolinewidth": 2
          },
          "yaxis": {
           "automargin": true,
           "gridcolor": "white",
           "linecolor": "white",
           "ticks": "",
           "title": {
            "standoff": 15
           },
           "zerolinecolor": "white",
           "zerolinewidth": 2
          }
         }
        },
        "title": {
         "text": "Start vs End State of Charge by User Type"
        },
        "violinmode": "group",
        "xaxis": {
         "anchor": "y",
         "domain": [
          0,
          1
         ],
         "title": {
          "text": "variable"
         }
        },
        "yaxis": {
         "anchor": "x",
         "domain": [
          0,
          1
         ],
         "title": {
          "text": "value"
         }
        }
       }
      }
     },
     "metadata": {},
     "output_type": "display_data"
    }
   ],
   "source": [
    "fig7 = px.violin(df.melt(id_vars=[\"User Type\"], \n",
    "                                  value_vars=[\"State of Charge (Start %)\", \"State of Charge (End %)\"]),\n",
    "                 x=\"variable\", y=\"value\", color=\"User Type\",\n",
    "                 box=True, title=\"Start vs End State of Charge by User Type\")\n",
    "fig7.show()\n",
    "\n"
   ]
  },
  {
   "cell_type": "code",
   "execution_count": null,
   "id": "a03cb331",
   "metadata": {},
   "outputs": [
    {
     "data": {
      "application/vnd.plotly.v1+json": {
       "config": {
        "plotlyServerURL": "https://plot.ly"
       },
       "data": [
        {
         "hovertemplate": "Day of Week=%{x}<br>Energy Consumed (kWh)=%{y}<extra></extra>",
         "legendgroup": "",
         "marker": {
          "color": "#636efa",
          "pattern": {
           "shape": ""
          }
         },
         "name": "",
         "orientation": "v",
         "showlegend": false,
         "textposition": "auto",
         "type": "bar",
         "x": [
          "Friday",
          "Monday",
          "Saturday",
          "Sunday",
          "Thursday",
          "Tuesday",
          "Wednesday"
         ],
         "xaxis": "x",
         "y": {
          "bdata": "1nXbL+yKRUD1dc2hdtdEQGXyGg6AH0VAjt6qeSZ9RUAw0rD7uzZFQKpV5Zdn3URAzYyJ/mg2RkA=",
          "dtype": "f8"
         },
         "yaxis": "y"
        }
       ],
       "layout": {
        "barmode": "relative",
        "legend": {
         "tracegroupgap": 0
        },
        "template": {
         "data": {
          "bar": [
           {
            "error_x": {
             "color": "#2a3f5f"
            },
            "error_y": {
             "color": "#2a3f5f"
            },
            "marker": {
             "line": {
              "color": "#E5ECF6",
              "width": 0.5
             },
             "pattern": {
              "fillmode": "overlay",
              "size": 10,
              "solidity": 0.2
             }
            },
            "type": "bar"
           }
          ],
          "barpolar": [
           {
            "marker": {
             "line": {
              "color": "#E5ECF6",
              "width": 0.5
             },
             "pattern": {
              "fillmode": "overlay",
              "size": 10,
              "solidity": 0.2
             }
            },
            "type": "barpolar"
           }
          ],
          "carpet": [
           {
            "aaxis": {
             "endlinecolor": "#2a3f5f",
             "gridcolor": "white",
             "linecolor": "white",
             "minorgridcolor": "white",
             "startlinecolor": "#2a3f5f"
            },
            "baxis": {
             "endlinecolor": "#2a3f5f",
             "gridcolor": "white",
             "linecolor": "white",
             "minorgridcolor": "white",
             "startlinecolor": "#2a3f5f"
            },
            "type": "carpet"
           }
          ],
          "choropleth": [
           {
            "colorbar": {
             "outlinewidth": 0,
             "ticks": ""
            },
            "type": "choropleth"
           }
          ],
          "contour": [
           {
            "colorbar": {
             "outlinewidth": 0,
             "ticks": ""
            },
            "colorscale": [
             [
              0,
              "#0d0887"
             ],
             [
              0.1111111111111111,
              "#46039f"
             ],
             [
              0.2222222222222222,
              "#7201a8"
             ],
             [
              0.3333333333333333,
              "#9c179e"
             ],
             [
              0.4444444444444444,
              "#bd3786"
             ],
             [
              0.5555555555555556,
              "#d8576b"
             ],
             [
              0.6666666666666666,
              "#ed7953"
             ],
             [
              0.7777777777777778,
              "#fb9f3a"
             ],
             [
              0.8888888888888888,
              "#fdca26"
             ],
             [
              1,
              "#f0f921"
             ]
            ],
            "type": "contour"
           }
          ],
          "contourcarpet": [
           {
            "colorbar": {
             "outlinewidth": 0,
             "ticks": ""
            },
            "type": "contourcarpet"
           }
          ],
          "heatmap": [
           {
            "colorbar": {
             "outlinewidth": 0,
             "ticks": ""
            },
            "colorscale": [
             [
              0,
              "#0d0887"
             ],
             [
              0.1111111111111111,
              "#46039f"
             ],
             [
              0.2222222222222222,
              "#7201a8"
             ],
             [
              0.3333333333333333,
              "#9c179e"
             ],
             [
              0.4444444444444444,
              "#bd3786"
             ],
             [
              0.5555555555555556,
              "#d8576b"
             ],
             [
              0.6666666666666666,
              "#ed7953"
             ],
             [
              0.7777777777777778,
              "#fb9f3a"
             ],
             [
              0.8888888888888888,
              "#fdca26"
             ],
             [
              1,
              "#f0f921"
             ]
            ],
            "type": "heatmap"
           }
          ],
          "histogram": [
           {
            "marker": {
             "pattern": {
              "fillmode": "overlay",
              "size": 10,
              "solidity": 0.2
             }
            },
            "type": "histogram"
           }
          ],
          "histogram2d": [
           {
            "colorbar": {
             "outlinewidth": 0,
             "ticks": ""
            },
            "colorscale": [
             [
              0,
              "#0d0887"
             ],
             [
              0.1111111111111111,
              "#46039f"
             ],
             [
              0.2222222222222222,
              "#7201a8"
             ],
             [
              0.3333333333333333,
              "#9c179e"
             ],
             [
              0.4444444444444444,
              "#bd3786"
             ],
             [
              0.5555555555555556,
              "#d8576b"
             ],
             [
              0.6666666666666666,
              "#ed7953"
             ],
             [
              0.7777777777777778,
              "#fb9f3a"
             ],
             [
              0.8888888888888888,
              "#fdca26"
             ],
             [
              1,
              "#f0f921"
             ]
            ],
            "type": "histogram2d"
           }
          ],
          "histogram2dcontour": [
           {
            "colorbar": {
             "outlinewidth": 0,
             "ticks": ""
            },
            "colorscale": [
             [
              0,
              "#0d0887"
             ],
             [
              0.1111111111111111,
              "#46039f"
             ],
             [
              0.2222222222222222,
              "#7201a8"
             ],
             [
              0.3333333333333333,
              "#9c179e"
             ],
             [
              0.4444444444444444,
              "#bd3786"
             ],
             [
              0.5555555555555556,
              "#d8576b"
             ],
             [
              0.6666666666666666,
              "#ed7953"
             ],
             [
              0.7777777777777778,
              "#fb9f3a"
             ],
             [
              0.8888888888888888,
              "#fdca26"
             ],
             [
              1,
              "#f0f921"
             ]
            ],
            "type": "histogram2dcontour"
           }
          ],
          "mesh3d": [
           {
            "colorbar": {
             "outlinewidth": 0,
             "ticks": ""
            },
            "type": "mesh3d"
           }
          ],
          "parcoords": [
           {
            "line": {
             "colorbar": {
              "outlinewidth": 0,
              "ticks": ""
             }
            },
            "type": "parcoords"
           }
          ],
          "pie": [
           {
            "automargin": true,
            "type": "pie"
           }
          ],
          "scatter": [
           {
            "fillpattern": {
             "fillmode": "overlay",
             "size": 10,
             "solidity": 0.2
            },
            "type": "scatter"
           }
          ],
          "scatter3d": [
           {
            "line": {
             "colorbar": {
              "outlinewidth": 0,
              "ticks": ""
             }
            },
            "marker": {
             "colorbar": {
              "outlinewidth": 0,
              "ticks": ""
             }
            },
            "type": "scatter3d"
           }
          ],
          "scattercarpet": [
           {
            "marker": {
             "colorbar": {
              "outlinewidth": 0,
              "ticks": ""
             }
            },
            "type": "scattercarpet"
           }
          ],
          "scattergeo": [
           {
            "marker": {
             "colorbar": {
              "outlinewidth": 0,
              "ticks": ""
             }
            },
            "type": "scattergeo"
           }
          ],
          "scattergl": [
           {
            "marker": {
             "colorbar": {
              "outlinewidth": 0,
              "ticks": ""
             }
            },
            "type": "scattergl"
           }
          ],
          "scattermap": [
           {
            "marker": {
             "colorbar": {
              "outlinewidth": 0,
              "ticks": ""
             }
            },
            "type": "scattermap"
           }
          ],
          "scattermapbox": [
           {
            "marker": {
             "colorbar": {
              "outlinewidth": 0,
              "ticks": ""
             }
            },
            "type": "scattermapbox"
           }
          ],
          "scatterpolar": [
           {
            "marker": {
             "colorbar": {
              "outlinewidth": 0,
              "ticks": ""
             }
            },
            "type": "scatterpolar"
           }
          ],
          "scatterpolargl": [
           {
            "marker": {
             "colorbar": {
              "outlinewidth": 0,
              "ticks": ""
             }
            },
            "type": "scatterpolargl"
           }
          ],
          "scatterternary": [
           {
            "marker": {
             "colorbar": {
              "outlinewidth": 0,
              "ticks": ""
             }
            },
            "type": "scatterternary"
           }
          ],
          "surface": [
           {
            "colorbar": {
             "outlinewidth": 0,
             "ticks": ""
            },
            "colorscale": [
             [
              0,
              "#0d0887"
             ],
             [
              0.1111111111111111,
              "#46039f"
             ],
             [
              0.2222222222222222,
              "#7201a8"
             ],
             [
              0.3333333333333333,
              "#9c179e"
             ],
             [
              0.4444444444444444,
              "#bd3786"
             ],
             [
              0.5555555555555556,
              "#d8576b"
             ],
             [
              0.6666666666666666,
              "#ed7953"
             ],
             [
              0.7777777777777778,
              "#fb9f3a"
             ],
             [
              0.8888888888888888,
              "#fdca26"
             ],
             [
              1,
              "#f0f921"
             ]
            ],
            "type": "surface"
           }
          ],
          "table": [
           {
            "cells": {
             "fill": {
              "color": "#EBF0F8"
             },
             "line": {
              "color": "white"
             }
            },
            "header": {
             "fill": {
              "color": "#C8D4E3"
             },
             "line": {
              "color": "white"
             }
            },
            "type": "table"
           }
          ]
         },
         "layout": {
          "annotationdefaults": {
           "arrowcolor": "#2a3f5f",
           "arrowhead": 0,
           "arrowwidth": 1
          },
          "autotypenumbers": "strict",
          "coloraxis": {
           "colorbar": {
            "outlinewidth": 0,
            "ticks": ""
           }
          },
          "colorscale": {
           "diverging": [
            [
             0,
             "#8e0152"
            ],
            [
             0.1,
             "#c51b7d"
            ],
            [
             0.2,
             "#de77ae"
            ],
            [
             0.3,
             "#f1b6da"
            ],
            [
             0.4,
             "#fde0ef"
            ],
            [
             0.5,
             "#f7f7f7"
            ],
            [
             0.6,
             "#e6f5d0"
            ],
            [
             0.7,
             "#b8e186"
            ],
            [
             0.8,
             "#7fbc41"
            ],
            [
             0.9,
             "#4d9221"
            ],
            [
             1,
             "#276419"
            ]
           ],
           "sequential": [
            [
             0,
             "#0d0887"
            ],
            [
             0.1111111111111111,
             "#46039f"
            ],
            [
             0.2222222222222222,
             "#7201a8"
            ],
            [
             0.3333333333333333,
             "#9c179e"
            ],
            [
             0.4444444444444444,
             "#bd3786"
            ],
            [
             0.5555555555555556,
             "#d8576b"
            ],
            [
             0.6666666666666666,
             "#ed7953"
            ],
            [
             0.7777777777777778,
             "#fb9f3a"
            ],
            [
             0.8888888888888888,
             "#fdca26"
            ],
            [
             1,
             "#f0f921"
            ]
           ],
           "sequentialminus": [
            [
             0,
             "#0d0887"
            ],
            [
             0.1111111111111111,
             "#46039f"
            ],
            [
             0.2222222222222222,
             "#7201a8"
            ],
            [
             0.3333333333333333,
             "#9c179e"
            ],
            [
             0.4444444444444444,
             "#bd3786"
            ],
            [
             0.5555555555555556,
             "#d8576b"
            ],
            [
             0.6666666666666666,
             "#ed7953"
            ],
            [
             0.7777777777777778,
             "#fb9f3a"
            ],
            [
             0.8888888888888888,
             "#fdca26"
            ],
            [
             1,
             "#f0f921"
            ]
           ]
          },
          "colorway": [
           "#636efa",
           "#EF553B",
           "#00cc96",
           "#ab63fa",
           "#FFA15A",
           "#19d3f3",
           "#FF6692",
           "#B6E880",
           "#FF97FF",
           "#FECB52"
          ],
          "font": {
           "color": "#2a3f5f"
          },
          "geo": {
           "bgcolor": "white",
           "lakecolor": "white",
           "landcolor": "#E5ECF6",
           "showlakes": true,
           "showland": true,
           "subunitcolor": "white"
          },
          "hoverlabel": {
           "align": "left"
          },
          "hovermode": "closest",
          "mapbox": {
           "style": "light"
          },
          "paper_bgcolor": "white",
          "plot_bgcolor": "#E5ECF6",
          "polar": {
           "angularaxis": {
            "gridcolor": "white",
            "linecolor": "white",
            "ticks": ""
           },
           "bgcolor": "#E5ECF6",
           "radialaxis": {
            "gridcolor": "white",
            "linecolor": "white",
            "ticks": ""
           }
          },
          "scene": {
           "xaxis": {
            "backgroundcolor": "#E5ECF6",
            "gridcolor": "white",
            "gridwidth": 2,
            "linecolor": "white",
            "showbackground": true,
            "ticks": "",
            "zerolinecolor": "white"
           },
           "yaxis": {
            "backgroundcolor": "#E5ECF6",
            "gridcolor": "white",
            "gridwidth": 2,
            "linecolor": "white",
            "showbackground": true,
            "ticks": "",
            "zerolinecolor": "white"
           },
           "zaxis": {
            "backgroundcolor": "#E5ECF6",
            "gridcolor": "white",
            "gridwidth": 2,
            "linecolor": "white",
            "showbackground": true,
            "ticks": "",
            "zerolinecolor": "white"
           }
          },
          "shapedefaults": {
           "line": {
            "color": "#2a3f5f"
           }
          },
          "ternary": {
           "aaxis": {
            "gridcolor": "white",
            "linecolor": "white",
            "ticks": ""
           },
           "baxis": {
            "gridcolor": "white",
            "linecolor": "white",
            "ticks": ""
           },
           "bgcolor": "#E5ECF6",
           "caxis": {
            "gridcolor": "white",
            "linecolor": "white",
            "ticks": ""
           }
          },
          "title": {
           "x": 0.05
          },
          "xaxis": {
           "automargin": true,
           "gridcolor": "white",
           "linecolor": "white",
           "ticks": "",
           "title": {
            "standoff": 15
           },
           "zerolinecolor": "white",
           "zerolinewidth": 2
          },
          "yaxis": {
           "automargin": true,
           "gridcolor": "white",
           "linecolor": "white",
           "ticks": "",
           "title": {
            "standoff": 15
           },
           "zerolinecolor": "white",
           "zerolinewidth": 2
          }
         }
        },
        "title": {
         "text": "Avg Energy Consumed by Day of Week"
        },
        "xaxis": {
         "anchor": "y",
         "domain": [
          0,
          1
         ],
         "title": {
          "text": "Day of Week"
         }
        },
        "yaxis": {
         "anchor": "x",
         "domain": [
          0,
          1
         ],
         "title": {
          "text": "Energy Consumed (kWh)"
         }
        }
       }
      }
     },
     "metadata": {},
     "output_type": "display_data"
    }
   ],
   "source": [
    "avg_energy = df.groupby(\"Day of Week\")[\"Energy Consumed (kWh)\"].mean().reset_index()\n",
    "fig8 = px.bar(avg_energy, x=\"Day of Week\", y=\"Energy Consumed (kWh)\",\n",
    "              title=\"Avg Energy Consumed by Day of Week\")\n",
    "fig8.show()"
   ]
  },
  {
   "cell_type": "code",
   "execution_count": null,
   "id": "e70ced5d",
   "metadata": {},
   "outputs": [
    {
     "data": {
      "application/vnd.plotly.v1+json": {
       "config": {
        "plotlyServerURL": "https://plot.ly"
       },
       "data": [
        {
         "branchvalues": "total",
         "domain": {
          "x": [
           0,
           1
          ],
          "y": [
           0,
           1
          ]
         },
         "hovertemplate": "labels=%{label}<br>Charging Cost (USD)=%{value}<br>parent=%{parent}<br>id=%{id}<extra></extra>",
         "ids": [
          "Commuter/DC Fast Charger/BMW i3",
          "Casual Driver/Level 1/Hyundai Kona",
          "Commuter/Level 2/Chevy Bolt",
          "Long-Distance Traveler/Level 1/Hyundai Kona",
          "Long-Distance Traveler/DC Fast Charger/Nissan Leaf",
          "Long-Distance Traveler/Level 2/Chevy Bolt",
          "Commuter/Level 1/Chevy Bolt",
          "Commuter/DC Fast Charger/Hyundai Kona",
          "Casual Driver/DC Fast Charger/BMW i3",
          "Long-Distance Traveler/DC Fast Charger/Chevy Bolt",
          "Casual Driver/Level 2/Hyundai Kona",
          "Commuter/Level 2/Nissan Leaf",
          "Casual Driver/Level 1/BMW i3",
          "Long-Distance Traveler/Level 1/Tesla Model 3",
          "Long-Distance Traveler/Level 2/BMW i3",
          "Casual Driver/Level 2/Nissan Leaf",
          "Commuter/Level 1/Hyundai Kona",
          "Long-Distance Traveler/DC Fast Charger/BMW i3",
          "Commuter/DC Fast Charger/Tesla Model 3",
          "Commuter/DC Fast Charger/Chevy Bolt",
          "Long-Distance Traveler/Level 1/Nissan Leaf",
          "Casual Driver/Level 2/BMW i3",
          "Casual Driver/DC Fast Charger/Chevy Bolt",
          "Commuter/Level 1/BMW i3",
          "Casual Driver/Level 2/Tesla Model 3",
          "Long-Distance Traveler/DC Fast Charger/Hyundai Kona",
          "Commuter/Level 2/Tesla Model 3",
          "Long-Distance Traveler/Level 2/Nissan Leaf",
          "Casual Driver/DC Fast Charger/Nissan Leaf",
          "Commuter/Level 1/Nissan Leaf",
          "Commuter/Level 2/Hyundai Kona",
          "Casual Driver/Level 1/Nissan Leaf",
          "Casual Driver/DC Fast Charger/Tesla Model 3",
          "Commuter/Level 2/BMW i3",
          "Long-Distance Traveler/Level 1/BMW i3",
          "Commuter/Level 1/Tesla Model 3",
          "Casual Driver/Level 1/Tesla Model 3",
          "Casual Driver/Level 2/Chevy Bolt",
          "Casual Driver/Level 1/Chevy Bolt",
          "Long-Distance Traveler/DC Fast Charger/Tesla Model 3",
          "Long-Distance Traveler/Level 1/Chevy Bolt",
          "Casual Driver/DC Fast Charger/Hyundai Kona",
          "Commuter/DC Fast Charger/Nissan Leaf",
          "Long-Distance Traveler/Level 2/Hyundai Kona",
          "Long-Distance Traveler/Level 2/Tesla Model 3",
          "Commuter/DC Fast Charger",
          "Casual Driver/Level 1",
          "Commuter/Level 2",
          "Long-Distance Traveler/Level 1",
          "Long-Distance Traveler/DC Fast Charger",
          "Long-Distance Traveler/Level 2",
          "Commuter/Level 1",
          "Casual Driver/DC Fast Charger",
          "Casual Driver/Level 2",
          "Commuter",
          "Casual Driver",
          "Long-Distance Traveler"
         ],
         "labels": [
          "BMW i3",
          "Hyundai Kona",
          "Chevy Bolt",
          "Hyundai Kona",
          "Nissan Leaf",
          "Chevy Bolt",
          "Chevy Bolt",
          "Hyundai Kona",
          "BMW i3",
          "Chevy Bolt",
          "Hyundai Kona",
          "Nissan Leaf",
          "BMW i3",
          "Tesla Model 3",
          "BMW i3",
          "Nissan Leaf",
          "Hyundai Kona",
          "BMW i3",
          "Tesla Model 3",
          "Chevy Bolt",
          "Nissan Leaf",
          "BMW i3",
          "Chevy Bolt",
          "BMW i3",
          "Tesla Model 3",
          "Hyundai Kona",
          "Tesla Model 3",
          "Nissan Leaf",
          "Nissan Leaf",
          "Nissan Leaf",
          "Hyundai Kona",
          "Nissan Leaf",
          "Tesla Model 3",
          "BMW i3",
          "BMW i3",
          "Tesla Model 3",
          "Tesla Model 3",
          "Chevy Bolt",
          "Chevy Bolt",
          "Tesla Model 3",
          "Chevy Bolt",
          "Hyundai Kona",
          "Nissan Leaf",
          "Hyundai Kona",
          "Tesla Model 3",
          "DC Fast Charger",
          "Level 1",
          "Level 2",
          "Level 1",
          "DC Fast Charger",
          "Level 2",
          "Level 1",
          "DC Fast Charger",
          "Level 2",
          "Commuter",
          "Casual Driver",
          "Long-Distance Traveler"
         ],
         "name": "",
         "parents": [
          "Commuter/DC Fast Charger",
          "Casual Driver/Level 1",
          "Commuter/Level 2",
          "Long-Distance Traveler/Level 1",
          "Long-Distance Traveler/DC Fast Charger",
          "Long-Distance Traveler/Level 2",
          "Commuter/Level 1",
          "Commuter/DC Fast Charger",
          "Casual Driver/DC Fast Charger",
          "Long-Distance Traveler/DC Fast Charger",
          "Casual Driver/Level 2",
          "Commuter/Level 2",
          "Casual Driver/Level 1",
          "Long-Distance Traveler/Level 1",
          "Long-Distance Traveler/Level 2",
          "Casual Driver/Level 2",
          "Commuter/Level 1",
          "Long-Distance Traveler/DC Fast Charger",
          "Commuter/DC Fast Charger",
          "Commuter/DC Fast Charger",
          "Long-Distance Traveler/Level 1",
          "Casual Driver/Level 2",
          "Casual Driver/DC Fast Charger",
          "Commuter/Level 1",
          "Casual Driver/Level 2",
          "Long-Distance Traveler/DC Fast Charger",
          "Commuter/Level 2",
          "Long-Distance Traveler/Level 2",
          "Casual Driver/DC Fast Charger",
          "Commuter/Level 1",
          "Commuter/Level 2",
          "Casual Driver/Level 1",
          "Casual Driver/DC Fast Charger",
          "Commuter/Level 2",
          "Long-Distance Traveler/Level 1",
          "Commuter/Level 1",
          "Casual Driver/Level 1",
          "Casual Driver/Level 2",
          "Casual Driver/Level 1",
          "Long-Distance Traveler/DC Fast Charger",
          "Long-Distance Traveler/Level 1",
          "Casual Driver/DC Fast Charger",
          "Commuter/DC Fast Charger",
          "Long-Distance Traveler/Level 2",
          "Long-Distance Traveler/Level 2",
          "Commuter",
          "Casual Driver",
          "Commuter",
          "Long-Distance Traveler",
          "Long-Distance Traveler",
          "Long-Distance Traveler",
          "Commuter",
          "Casual Driver",
          "Casual Driver",
          "",
          "",
          ""
         ],
         "type": "sunburst",
         "values": {
          "bdata": "NdD4oRoDgUCAm91fiv2CQM1goulis49AledBLDvriUDR2PvOr+GEQGink70+poJAMPo82IAwiUDOCt5pRjqIQLIQDHent4RANp9uHW6phkCeJ6f7Yc9+QJ9yiRl6qoJAzRiNvK+YfkCmetzLTC6FQL++PgheHoRAykTPatOig0D0KNT/EDyFQBk+fqu2eIFAgUI1zGgphkAnvKfpj1SBQJ5CrrI/L4RA3VjTRYGBgUB4NOUjaM+AQIjUDV0KzIBALVaottV6hkAdnrtw8cyHQL2SNUJMo4pAnYo0r2SjiUD9A5+trqSFQE0j4x/MOYZALNuB/rNdh0Cpe3Z6jfyDQABY/R879YNAjlHsC8ggiEDlTxm9SoCCQCXGwbZ+bYhASnITDVXEiECZQAMM26VzQJUobc6/NoFAWl6NWKr6hEDjSSEEFLyCQIaBNQ/dM4xAYqn21g1Vh0Cp27ajVFV7QG7F6obX9X1Aw6Aq5hkEqkCczwYlYRCoQLnk81PpH69AqM8Bm0khqkCmbEwY3HKqQFTwleJlQ6dAR/jwwvl3q0CryPCdNdWqQPwJyDpyNqVAcd9DP/8mxUCR6G8/AgfCQCgLeeXi9cJA",
          "dtype": "f8"
         }
        }
       ],
       "layout": {
        "legend": {
         "tracegroupgap": 0
        },
        "template": {
         "data": {
          "bar": [
           {
            "error_x": {
             "color": "#2a3f5f"
            },
            "error_y": {
             "color": "#2a3f5f"
            },
            "marker": {
             "line": {
              "color": "#E5ECF6",
              "width": 0.5
             },
             "pattern": {
              "fillmode": "overlay",
              "size": 10,
              "solidity": 0.2
             }
            },
            "type": "bar"
           }
          ],
          "barpolar": [
           {
            "marker": {
             "line": {
              "color": "#E5ECF6",
              "width": 0.5
             },
             "pattern": {
              "fillmode": "overlay",
              "size": 10,
              "solidity": 0.2
             }
            },
            "type": "barpolar"
           }
          ],
          "carpet": [
           {
            "aaxis": {
             "endlinecolor": "#2a3f5f",
             "gridcolor": "white",
             "linecolor": "white",
             "minorgridcolor": "white",
             "startlinecolor": "#2a3f5f"
            },
            "baxis": {
             "endlinecolor": "#2a3f5f",
             "gridcolor": "white",
             "linecolor": "white",
             "minorgridcolor": "white",
             "startlinecolor": "#2a3f5f"
            },
            "type": "carpet"
           }
          ],
          "choropleth": [
           {
            "colorbar": {
             "outlinewidth": 0,
             "ticks": ""
            },
            "type": "choropleth"
           }
          ],
          "contour": [
           {
            "colorbar": {
             "outlinewidth": 0,
             "ticks": ""
            },
            "colorscale": [
             [
              0,
              "#0d0887"
             ],
             [
              0.1111111111111111,
              "#46039f"
             ],
             [
              0.2222222222222222,
              "#7201a8"
             ],
             [
              0.3333333333333333,
              "#9c179e"
             ],
             [
              0.4444444444444444,
              "#bd3786"
             ],
             [
              0.5555555555555556,
              "#d8576b"
             ],
             [
              0.6666666666666666,
              "#ed7953"
             ],
             [
              0.7777777777777778,
              "#fb9f3a"
             ],
             [
              0.8888888888888888,
              "#fdca26"
             ],
             [
              1,
              "#f0f921"
             ]
            ],
            "type": "contour"
           }
          ],
          "contourcarpet": [
           {
            "colorbar": {
             "outlinewidth": 0,
             "ticks": ""
            },
            "type": "contourcarpet"
           }
          ],
          "heatmap": [
           {
            "colorbar": {
             "outlinewidth": 0,
             "ticks": ""
            },
            "colorscale": [
             [
              0,
              "#0d0887"
             ],
             [
              0.1111111111111111,
              "#46039f"
             ],
             [
              0.2222222222222222,
              "#7201a8"
             ],
             [
              0.3333333333333333,
              "#9c179e"
             ],
             [
              0.4444444444444444,
              "#bd3786"
             ],
             [
              0.5555555555555556,
              "#d8576b"
             ],
             [
              0.6666666666666666,
              "#ed7953"
             ],
             [
              0.7777777777777778,
              "#fb9f3a"
             ],
             [
              0.8888888888888888,
              "#fdca26"
             ],
             [
              1,
              "#f0f921"
             ]
            ],
            "type": "heatmap"
           }
          ],
          "histogram": [
           {
            "marker": {
             "pattern": {
              "fillmode": "overlay",
              "size": 10,
              "solidity": 0.2
             }
            },
            "type": "histogram"
           }
          ],
          "histogram2d": [
           {
            "colorbar": {
             "outlinewidth": 0,
             "ticks": ""
            },
            "colorscale": [
             [
              0,
              "#0d0887"
             ],
             [
              0.1111111111111111,
              "#46039f"
             ],
             [
              0.2222222222222222,
              "#7201a8"
             ],
             [
              0.3333333333333333,
              "#9c179e"
             ],
             [
              0.4444444444444444,
              "#bd3786"
             ],
             [
              0.5555555555555556,
              "#d8576b"
             ],
             [
              0.6666666666666666,
              "#ed7953"
             ],
             [
              0.7777777777777778,
              "#fb9f3a"
             ],
             [
              0.8888888888888888,
              "#fdca26"
             ],
             [
              1,
              "#f0f921"
             ]
            ],
            "type": "histogram2d"
           }
          ],
          "histogram2dcontour": [
           {
            "colorbar": {
             "outlinewidth": 0,
             "ticks": ""
            },
            "colorscale": [
             [
              0,
              "#0d0887"
             ],
             [
              0.1111111111111111,
              "#46039f"
             ],
             [
              0.2222222222222222,
              "#7201a8"
             ],
             [
              0.3333333333333333,
              "#9c179e"
             ],
             [
              0.4444444444444444,
              "#bd3786"
             ],
             [
              0.5555555555555556,
              "#d8576b"
             ],
             [
              0.6666666666666666,
              "#ed7953"
             ],
             [
              0.7777777777777778,
              "#fb9f3a"
             ],
             [
              0.8888888888888888,
              "#fdca26"
             ],
             [
              1,
              "#f0f921"
             ]
            ],
            "type": "histogram2dcontour"
           }
          ],
          "mesh3d": [
           {
            "colorbar": {
             "outlinewidth": 0,
             "ticks": ""
            },
            "type": "mesh3d"
           }
          ],
          "parcoords": [
           {
            "line": {
             "colorbar": {
              "outlinewidth": 0,
              "ticks": ""
             }
            },
            "type": "parcoords"
           }
          ],
          "pie": [
           {
            "automargin": true,
            "type": "pie"
           }
          ],
          "scatter": [
           {
            "fillpattern": {
             "fillmode": "overlay",
             "size": 10,
             "solidity": 0.2
            },
            "type": "scatter"
           }
          ],
          "scatter3d": [
           {
            "line": {
             "colorbar": {
              "outlinewidth": 0,
              "ticks": ""
             }
            },
            "marker": {
             "colorbar": {
              "outlinewidth": 0,
              "ticks": ""
             }
            },
            "type": "scatter3d"
           }
          ],
          "scattercarpet": [
           {
            "marker": {
             "colorbar": {
              "outlinewidth": 0,
              "ticks": ""
             }
            },
            "type": "scattercarpet"
           }
          ],
          "scattergeo": [
           {
            "marker": {
             "colorbar": {
              "outlinewidth": 0,
              "ticks": ""
             }
            },
            "type": "scattergeo"
           }
          ],
          "scattergl": [
           {
            "marker": {
             "colorbar": {
              "outlinewidth": 0,
              "ticks": ""
             }
            },
            "type": "scattergl"
           }
          ],
          "scattermap": [
           {
            "marker": {
             "colorbar": {
              "outlinewidth": 0,
              "ticks": ""
             }
            },
            "type": "scattermap"
           }
          ],
          "scattermapbox": [
           {
            "marker": {
             "colorbar": {
              "outlinewidth": 0,
              "ticks": ""
             }
            },
            "type": "scattermapbox"
           }
          ],
          "scatterpolar": [
           {
            "marker": {
             "colorbar": {
              "outlinewidth": 0,
              "ticks": ""
             }
            },
            "type": "scatterpolar"
           }
          ],
          "scatterpolargl": [
           {
            "marker": {
             "colorbar": {
              "outlinewidth": 0,
              "ticks": ""
             }
            },
            "type": "scatterpolargl"
           }
          ],
          "scatterternary": [
           {
            "marker": {
             "colorbar": {
              "outlinewidth": 0,
              "ticks": ""
             }
            },
            "type": "scatterternary"
           }
          ],
          "surface": [
           {
            "colorbar": {
             "outlinewidth": 0,
             "ticks": ""
            },
            "colorscale": [
             [
              0,
              "#0d0887"
             ],
             [
              0.1111111111111111,
              "#46039f"
             ],
             [
              0.2222222222222222,
              "#7201a8"
             ],
             [
              0.3333333333333333,
              "#9c179e"
             ],
             [
              0.4444444444444444,
              "#bd3786"
             ],
             [
              0.5555555555555556,
              "#d8576b"
             ],
             [
              0.6666666666666666,
              "#ed7953"
             ],
             [
              0.7777777777777778,
              "#fb9f3a"
             ],
             [
              0.8888888888888888,
              "#fdca26"
             ],
             [
              1,
              "#f0f921"
             ]
            ],
            "type": "surface"
           }
          ],
          "table": [
           {
            "cells": {
             "fill": {
              "color": "#EBF0F8"
             },
             "line": {
              "color": "white"
             }
            },
            "header": {
             "fill": {
              "color": "#C8D4E3"
             },
             "line": {
              "color": "white"
             }
            },
            "type": "table"
           }
          ]
         },
         "layout": {
          "annotationdefaults": {
           "arrowcolor": "#2a3f5f",
           "arrowhead": 0,
           "arrowwidth": 1
          },
          "autotypenumbers": "strict",
          "coloraxis": {
           "colorbar": {
            "outlinewidth": 0,
            "ticks": ""
           }
          },
          "colorscale": {
           "diverging": [
            [
             0,
             "#8e0152"
            ],
            [
             0.1,
             "#c51b7d"
            ],
            [
             0.2,
             "#de77ae"
            ],
            [
             0.3,
             "#f1b6da"
            ],
            [
             0.4,
             "#fde0ef"
            ],
            [
             0.5,
             "#f7f7f7"
            ],
            [
             0.6,
             "#e6f5d0"
            ],
            [
             0.7,
             "#b8e186"
            ],
            [
             0.8,
             "#7fbc41"
            ],
            [
             0.9,
             "#4d9221"
            ],
            [
             1,
             "#276419"
            ]
           ],
           "sequential": [
            [
             0,
             "#0d0887"
            ],
            [
             0.1111111111111111,
             "#46039f"
            ],
            [
             0.2222222222222222,
             "#7201a8"
            ],
            [
             0.3333333333333333,
             "#9c179e"
            ],
            [
             0.4444444444444444,
             "#bd3786"
            ],
            [
             0.5555555555555556,
             "#d8576b"
            ],
            [
             0.6666666666666666,
             "#ed7953"
            ],
            [
             0.7777777777777778,
             "#fb9f3a"
            ],
            [
             0.8888888888888888,
             "#fdca26"
            ],
            [
             1,
             "#f0f921"
            ]
           ],
           "sequentialminus": [
            [
             0,
             "#0d0887"
            ],
            [
             0.1111111111111111,
             "#46039f"
            ],
            [
             0.2222222222222222,
             "#7201a8"
            ],
            [
             0.3333333333333333,
             "#9c179e"
            ],
            [
             0.4444444444444444,
             "#bd3786"
            ],
            [
             0.5555555555555556,
             "#d8576b"
            ],
            [
             0.6666666666666666,
             "#ed7953"
            ],
            [
             0.7777777777777778,
             "#fb9f3a"
            ],
            [
             0.8888888888888888,
             "#fdca26"
            ],
            [
             1,
             "#f0f921"
            ]
           ]
          },
          "colorway": [
           "#636efa",
           "#EF553B",
           "#00cc96",
           "#ab63fa",
           "#FFA15A",
           "#19d3f3",
           "#FF6692",
           "#B6E880",
           "#FF97FF",
           "#FECB52"
          ],
          "font": {
           "color": "#2a3f5f"
          },
          "geo": {
           "bgcolor": "white",
           "lakecolor": "white",
           "landcolor": "#E5ECF6",
           "showlakes": true,
           "showland": true,
           "subunitcolor": "white"
          },
          "hoverlabel": {
           "align": "left"
          },
          "hovermode": "closest",
          "mapbox": {
           "style": "light"
          },
          "paper_bgcolor": "white",
          "plot_bgcolor": "#E5ECF6",
          "polar": {
           "angularaxis": {
            "gridcolor": "white",
            "linecolor": "white",
            "ticks": ""
           },
           "bgcolor": "#E5ECF6",
           "radialaxis": {
            "gridcolor": "white",
            "linecolor": "white",
            "ticks": ""
           }
          },
          "scene": {
           "xaxis": {
            "backgroundcolor": "#E5ECF6",
            "gridcolor": "white",
            "gridwidth": 2,
            "linecolor": "white",
            "showbackground": true,
            "ticks": "",
            "zerolinecolor": "white"
           },
           "yaxis": {
            "backgroundcolor": "#E5ECF6",
            "gridcolor": "white",
            "gridwidth": 2,
            "linecolor": "white",
            "showbackground": true,
            "ticks": "",
            "zerolinecolor": "white"
           },
           "zaxis": {
            "backgroundcolor": "#E5ECF6",
            "gridcolor": "white",
            "gridwidth": 2,
            "linecolor": "white",
            "showbackground": true,
            "ticks": "",
            "zerolinecolor": "white"
           }
          },
          "shapedefaults": {
           "line": {
            "color": "#2a3f5f"
           }
          },
          "ternary": {
           "aaxis": {
            "gridcolor": "white",
            "linecolor": "white",
            "ticks": ""
           },
           "baxis": {
            "gridcolor": "white",
            "linecolor": "white",
            "ticks": ""
           },
           "bgcolor": "#E5ECF6",
           "caxis": {
            "gridcolor": "white",
            "linecolor": "white",
            "ticks": ""
           }
          },
          "title": {
           "x": 0.05
          },
          "xaxis": {
           "automargin": true,
           "gridcolor": "white",
           "linecolor": "white",
           "ticks": "",
           "title": {
            "standoff": 15
           },
           "zerolinecolor": "white",
           "zerolinewidth": 2
          },
          "yaxis": {
           "automargin": true,
           "gridcolor": "white",
           "linecolor": "white",
           "ticks": "",
           "title": {
            "standoff": 15
           },
           "zerolinecolor": "white",
           "zerolinewidth": 2
          }
         }
        },
        "title": {
         "text": "Cost Breakdown by User, Charger & Vehicle"
        }
       }
      }
     },
     "metadata": {},
     "output_type": "display_data"
    }
   ],
   "source": [
    "fig9 = px.sunburst(df, \n",
    "                   path=[\"User Type\", \"Charger Type\", \"Vehicle Model\"], \n",
    "                   values=\"Charging Cost (USD)\",\n",
    "                   title=\"Cost Breakdown by User, Charger & Vehicle\")\n",
    "fig9.show()"
   ]
  },
  {
   "cell_type": "code",
   "execution_count": null,
   "id": "c99fd246",
   "metadata": {},
   "outputs": [
    {
     "data": {
      "application/vnd.plotly.v1+json": {
       "config": {
        "plotlyServerURL": "https://plot.ly"
       },
       "data": [
        {
         "bingroup": "x",
         "hovertemplate": "Charger Type=%{x}<br>count=%{y}<extra></extra>",
         "legendgroup": "DC Fast Charger",
         "marker": {
          "color": "#636efa",
          "pattern": {
           "shape": ""
          }
         },
         "name": "DC Fast Charger",
         "orientation": "v",
         "showlegend": true,
         "type": "histogram",
         "x": [
          "DC Fast Charger",
          "DC Fast Charger",
          "DC Fast Charger",
          "DC Fast Charger",
          "DC Fast Charger",
          "DC Fast Charger",
          "DC Fast Charger",
          "DC Fast Charger",
          "DC Fast Charger",
          "DC Fast Charger",
          "DC Fast Charger",
          "DC Fast Charger",
          "DC Fast Charger",
          "DC Fast Charger",
          "DC Fast Charger",
          "DC Fast Charger",
          "DC Fast Charger",
          "DC Fast Charger",
          "DC Fast Charger",
          "DC Fast Charger",
          "DC Fast Charger",
          "DC Fast Charger",
          "DC Fast Charger",
          "DC Fast Charger",
          "DC Fast Charger",
          "DC Fast Charger",
          "DC Fast Charger",
          "DC Fast Charger",
          "DC Fast Charger",
          "DC Fast Charger",
          "DC Fast Charger",
          "DC Fast Charger",
          "DC Fast Charger",
          "DC Fast Charger",
          "DC Fast Charger",
          "DC Fast Charger",
          "DC Fast Charger",
          "DC Fast Charger",
          "DC Fast Charger",
          "DC Fast Charger",
          "DC Fast Charger",
          "DC Fast Charger",
          "DC Fast Charger",
          "DC Fast Charger",
          "DC Fast Charger",
          "DC Fast Charger",
          "DC Fast Charger",
          "DC Fast Charger",
          "DC Fast Charger",
          "DC Fast Charger",
          "DC Fast Charger",
          "DC Fast Charger",
          "DC Fast Charger",
          "DC Fast Charger",
          "DC Fast Charger",
          "DC Fast Charger",
          "DC Fast Charger",
          "DC Fast Charger",
          "DC Fast Charger",
          "DC Fast Charger",
          "DC Fast Charger",
          "DC Fast Charger",
          "DC Fast Charger",
          "DC Fast Charger",
          "DC Fast Charger",
          "DC Fast Charger",
          "DC Fast Charger",
          "DC Fast Charger",
          "DC Fast Charger",
          "DC Fast Charger",
          "DC Fast Charger",
          "DC Fast Charger",
          "DC Fast Charger",
          "DC Fast Charger",
          "DC Fast Charger",
          "DC Fast Charger",
          "DC Fast Charger",
          "DC Fast Charger",
          "DC Fast Charger",
          "DC Fast Charger",
          "DC Fast Charger",
          "DC Fast Charger",
          "DC Fast Charger",
          "DC Fast Charger",
          "DC Fast Charger",
          "DC Fast Charger",
          "DC Fast Charger",
          "DC Fast Charger",
          "DC Fast Charger",
          "DC Fast Charger",
          "DC Fast Charger",
          "DC Fast Charger",
          "DC Fast Charger",
          "DC Fast Charger",
          "DC Fast Charger",
          "DC Fast Charger",
          "DC Fast Charger",
          "DC Fast Charger",
          "DC Fast Charger",
          "DC Fast Charger",
          "DC Fast Charger",
          "DC Fast Charger",
          "DC Fast Charger",
          "DC Fast Charger",
          "DC Fast Charger",
          "DC Fast Charger",
          "DC Fast Charger",
          "DC Fast Charger",
          "DC Fast Charger",
          "DC Fast Charger",
          "DC Fast Charger",
          "DC Fast Charger",
          "DC Fast Charger",
          "DC Fast Charger",
          "DC Fast Charger",
          "DC Fast Charger",
          "DC Fast Charger",
          "DC Fast Charger",
          "DC Fast Charger",
          "DC Fast Charger",
          "DC Fast Charger",
          "DC Fast Charger",
          "DC Fast Charger",
          "DC Fast Charger",
          "DC Fast Charger",
          "DC Fast Charger",
          "DC Fast Charger",
          "DC Fast Charger",
          "DC Fast Charger",
          "DC Fast Charger",
          "DC Fast Charger",
          "DC Fast Charger",
          "DC Fast Charger",
          "DC Fast Charger",
          "DC Fast Charger",
          "DC Fast Charger",
          "DC Fast Charger",
          "DC Fast Charger",
          "DC Fast Charger",
          "DC Fast Charger",
          "DC Fast Charger",
          "DC Fast Charger",
          "DC Fast Charger",
          "DC Fast Charger",
          "DC Fast Charger",
          "DC Fast Charger",
          "DC Fast Charger",
          "DC Fast Charger",
          "DC Fast Charger",
          "DC Fast Charger",
          "DC Fast Charger",
          "DC Fast Charger",
          "DC Fast Charger",
          "DC Fast Charger",
          "DC Fast Charger",
          "DC Fast Charger",
          "DC Fast Charger",
          "DC Fast Charger",
          "DC Fast Charger",
          "DC Fast Charger",
          "DC Fast Charger",
          "DC Fast Charger",
          "DC Fast Charger",
          "DC Fast Charger",
          "DC Fast Charger",
          "DC Fast Charger",
          "DC Fast Charger",
          "DC Fast Charger",
          "DC Fast Charger",
          "DC Fast Charger",
          "DC Fast Charger",
          "DC Fast Charger",
          "DC Fast Charger",
          "DC Fast Charger",
          "DC Fast Charger",
          "DC Fast Charger",
          "DC Fast Charger",
          "DC Fast Charger",
          "DC Fast Charger",
          "DC Fast Charger",
          "DC Fast Charger",
          "DC Fast Charger",
          "DC Fast Charger",
          "DC Fast Charger",
          "DC Fast Charger",
          "DC Fast Charger",
          "DC Fast Charger",
          "DC Fast Charger",
          "DC Fast Charger",
          "DC Fast Charger",
          "DC Fast Charger",
          "DC Fast Charger",
          "DC Fast Charger",
          "DC Fast Charger",
          "DC Fast Charger",
          "DC Fast Charger",
          "DC Fast Charger",
          "DC Fast Charger",
          "DC Fast Charger",
          "DC Fast Charger",
          "DC Fast Charger",
          "DC Fast Charger",
          "DC Fast Charger",
          "DC Fast Charger",
          "DC Fast Charger",
          "DC Fast Charger",
          "DC Fast Charger",
          "DC Fast Charger",
          "DC Fast Charger",
          "DC Fast Charger",
          "DC Fast Charger",
          "DC Fast Charger",
          "DC Fast Charger",
          "DC Fast Charger",
          "DC Fast Charger",
          "DC Fast Charger",
          "DC Fast Charger",
          "DC Fast Charger",
          "DC Fast Charger",
          "DC Fast Charger",
          "DC Fast Charger",
          "DC Fast Charger",
          "DC Fast Charger",
          "DC Fast Charger",
          "DC Fast Charger",
          "DC Fast Charger",
          "DC Fast Charger",
          "DC Fast Charger",
          "DC Fast Charger",
          "DC Fast Charger",
          "DC Fast Charger",
          "DC Fast Charger",
          "DC Fast Charger",
          "DC Fast Charger",
          "DC Fast Charger",
          "DC Fast Charger",
          "DC Fast Charger",
          "DC Fast Charger",
          "DC Fast Charger",
          "DC Fast Charger",
          "DC Fast Charger",
          "DC Fast Charger",
          "DC Fast Charger",
          "DC Fast Charger",
          "DC Fast Charger",
          "DC Fast Charger",
          "DC Fast Charger",
          "DC Fast Charger",
          "DC Fast Charger",
          "DC Fast Charger",
          "DC Fast Charger",
          "DC Fast Charger",
          "DC Fast Charger",
          "DC Fast Charger",
          "DC Fast Charger",
          "DC Fast Charger",
          "DC Fast Charger",
          "DC Fast Charger",
          "DC Fast Charger",
          "DC Fast Charger",
          "DC Fast Charger",
          "DC Fast Charger",
          "DC Fast Charger",
          "DC Fast Charger",
          "DC Fast Charger",
          "DC Fast Charger",
          "DC Fast Charger",
          "DC Fast Charger",
          "DC Fast Charger",
          "DC Fast Charger",
          "DC Fast Charger",
          "DC Fast Charger",
          "DC Fast Charger",
          "DC Fast Charger",
          "DC Fast Charger",
          "DC Fast Charger",
          "DC Fast Charger",
          "DC Fast Charger",
          "DC Fast Charger",
          "DC Fast Charger",
          "DC Fast Charger",
          "DC Fast Charger",
          "DC Fast Charger",
          "DC Fast Charger",
          "DC Fast Charger",
          "DC Fast Charger",
          "DC Fast Charger",
          "DC Fast Charger",
          "DC Fast Charger",
          "DC Fast Charger",
          "DC Fast Charger",
          "DC Fast Charger",
          "DC Fast Charger",
          "DC Fast Charger",
          "DC Fast Charger",
          "DC Fast Charger",
          "DC Fast Charger",
          "DC Fast Charger",
          "DC Fast Charger",
          "DC Fast Charger",
          "DC Fast Charger",
          "DC Fast Charger",
          "DC Fast Charger",
          "DC Fast Charger",
          "DC Fast Charger",
          "DC Fast Charger",
          "DC Fast Charger",
          "DC Fast Charger",
          "DC Fast Charger",
          "DC Fast Charger",
          "DC Fast Charger",
          "DC Fast Charger",
          "DC Fast Charger",
          "DC Fast Charger",
          "DC Fast Charger",
          "DC Fast Charger",
          "DC Fast Charger",
          "DC Fast Charger",
          "DC Fast Charger",
          "DC Fast Charger",
          "DC Fast Charger",
          "DC Fast Charger",
          "DC Fast Charger",
          "DC Fast Charger",
          "DC Fast Charger",
          "DC Fast Charger",
          "DC Fast Charger",
          "DC Fast Charger",
          "DC Fast Charger",
          "DC Fast Charger",
          "DC Fast Charger",
          "DC Fast Charger",
          "DC Fast Charger",
          "DC Fast Charger",
          "DC Fast Charger",
          "DC Fast Charger",
          "DC Fast Charger",
          "DC Fast Charger",
          "DC Fast Charger",
          "DC Fast Charger",
          "DC Fast Charger",
          "DC Fast Charger",
          "DC Fast Charger",
          "DC Fast Charger",
          "DC Fast Charger",
          "DC Fast Charger",
          "DC Fast Charger",
          "DC Fast Charger",
          "DC Fast Charger",
          "DC Fast Charger",
          "DC Fast Charger",
          "DC Fast Charger",
          "DC Fast Charger",
          "DC Fast Charger",
          "DC Fast Charger",
          "DC Fast Charger",
          "DC Fast Charger",
          "DC Fast Charger",
          "DC Fast Charger",
          "DC Fast Charger",
          "DC Fast Charger",
          "DC Fast Charger",
          "DC Fast Charger",
          "DC Fast Charger",
          "DC Fast Charger",
          "DC Fast Charger",
          "DC Fast Charger",
          "DC Fast Charger",
          "DC Fast Charger",
          "DC Fast Charger",
          "DC Fast Charger",
          "DC Fast Charger",
          "DC Fast Charger",
          "DC Fast Charger",
          "DC Fast Charger",
          "DC Fast Charger",
          "DC Fast Charger",
          "DC Fast Charger",
          "DC Fast Charger",
          "DC Fast Charger",
          "DC Fast Charger",
          "DC Fast Charger",
          "DC Fast Charger",
          "DC Fast Charger",
          "DC Fast Charger",
          "DC Fast Charger",
          "DC Fast Charger",
          "DC Fast Charger",
          "DC Fast Charger",
          "DC Fast Charger",
          "DC Fast Charger",
          "DC Fast Charger",
          "DC Fast Charger",
          "DC Fast Charger",
          "DC Fast Charger",
          "DC Fast Charger",
          "DC Fast Charger",
          "DC Fast Charger",
          "DC Fast Charger",
          "DC Fast Charger",
          "DC Fast Charger",
          "DC Fast Charger",
          "DC Fast Charger",
          "DC Fast Charger",
          "DC Fast Charger",
          "DC Fast Charger",
          "DC Fast Charger",
          "DC Fast Charger",
          "DC Fast Charger",
          "DC Fast Charger",
          "DC Fast Charger",
          "DC Fast Charger",
          "DC Fast Charger",
          "DC Fast Charger",
          "DC Fast Charger",
          "DC Fast Charger",
          "DC Fast Charger",
          "DC Fast Charger",
          "DC Fast Charger",
          "DC Fast Charger",
          "DC Fast Charger",
          "DC Fast Charger",
          "DC Fast Charger",
          "DC Fast Charger",
          "DC Fast Charger",
          "DC Fast Charger",
          "DC Fast Charger",
          "DC Fast Charger",
          "DC Fast Charger",
          "DC Fast Charger"
         ],
         "xaxis": "x",
         "yaxis": "y"
        },
        {
         "bingroup": "x",
         "hovertemplate": "Charger Type=%{x}<br>count=%{y}<extra></extra>",
         "legendgroup": "Level 1",
         "marker": {
          "color": "#EF553B",
          "pattern": {
           "shape": ""
          }
         },
         "name": "Level 1",
         "orientation": "v",
         "showlegend": true,
         "type": "histogram",
         "x": [
          "Level 1",
          "Level 1",
          "Level 1",
          "Level 1",
          "Level 1",
          "Level 1",
          "Level 1",
          "Level 1",
          "Level 1",
          "Level 1",
          "Level 1",
          "Level 1",
          "Level 1",
          "Level 1",
          "Level 1",
          "Level 1",
          "Level 1",
          "Level 1",
          "Level 1",
          "Level 1",
          "Level 1",
          "Level 1",
          "Level 1",
          "Level 1",
          "Level 1",
          "Level 1",
          "Level 1",
          "Level 1",
          "Level 1",
          "Level 1",
          "Level 1",
          "Level 1",
          "Level 1",
          "Level 1",
          "Level 1",
          "Level 1",
          "Level 1",
          "Level 1",
          "Level 1",
          "Level 1",
          "Level 1",
          "Level 1",
          "Level 1",
          "Level 1",
          "Level 1",
          "Level 1",
          "Level 1",
          "Level 1",
          "Level 1",
          "Level 1",
          "Level 1",
          "Level 1",
          "Level 1",
          "Level 1",
          "Level 1",
          "Level 1",
          "Level 1",
          "Level 1",
          "Level 1",
          "Level 1",
          "Level 1",
          "Level 1",
          "Level 1",
          "Level 1",
          "Level 1",
          "Level 1",
          "Level 1",
          "Level 1",
          "Level 1",
          "Level 1",
          "Level 1",
          "Level 1",
          "Level 1",
          "Level 1",
          "Level 1",
          "Level 1",
          "Level 1",
          "Level 1",
          "Level 1",
          "Level 1",
          "Level 1",
          "Level 1",
          "Level 1",
          "Level 1",
          "Level 1",
          "Level 1",
          "Level 1",
          "Level 1",
          "Level 1",
          "Level 1",
          "Level 1",
          "Level 1",
          "Level 1",
          "Level 1",
          "Level 1",
          "Level 1",
          "Level 1",
          "Level 1",
          "Level 1",
          "Level 1",
          "Level 1",
          "Level 1",
          "Level 1",
          "Level 1",
          "Level 1",
          "Level 1",
          "Level 1",
          "Level 1",
          "Level 1",
          "Level 1",
          "Level 1",
          "Level 1",
          "Level 1",
          "Level 1",
          "Level 1",
          "Level 1",
          "Level 1",
          "Level 1",
          "Level 1",
          "Level 1",
          "Level 1",
          "Level 1",
          "Level 1",
          "Level 1",
          "Level 1",
          "Level 1",
          "Level 1",
          "Level 1",
          "Level 1",
          "Level 1",
          "Level 1",
          "Level 1",
          "Level 1",
          "Level 1",
          "Level 1",
          "Level 1",
          "Level 1",
          "Level 1",
          "Level 1",
          "Level 1",
          "Level 1",
          "Level 1",
          "Level 1",
          "Level 1",
          "Level 1",
          "Level 1",
          "Level 1",
          "Level 1",
          "Level 1",
          "Level 1",
          "Level 1",
          "Level 1",
          "Level 1",
          "Level 1",
          "Level 1",
          "Level 1",
          "Level 1",
          "Level 1",
          "Level 1",
          "Level 1",
          "Level 1",
          "Level 1",
          "Level 1",
          "Level 1",
          "Level 1",
          "Level 1",
          "Level 1",
          "Level 1",
          "Level 1",
          "Level 1",
          "Level 1",
          "Level 1",
          "Level 1",
          "Level 1",
          "Level 1",
          "Level 1",
          "Level 1",
          "Level 1",
          "Level 1",
          "Level 1",
          "Level 1",
          "Level 1",
          "Level 1",
          "Level 1",
          "Level 1",
          "Level 1",
          "Level 1",
          "Level 1",
          "Level 1",
          "Level 1",
          "Level 1",
          "Level 1",
          "Level 1",
          "Level 1",
          "Level 1",
          "Level 1",
          "Level 1",
          "Level 1",
          "Level 1",
          "Level 1",
          "Level 1",
          "Level 1",
          "Level 1",
          "Level 1",
          "Level 1",
          "Level 1",
          "Level 1",
          "Level 1",
          "Level 1",
          "Level 1",
          "Level 1",
          "Level 1",
          "Level 1",
          "Level 1",
          "Level 1",
          "Level 1",
          "Level 1",
          "Level 1",
          "Level 1",
          "Level 1",
          "Level 1",
          "Level 1",
          "Level 1",
          "Level 1",
          "Level 1",
          "Level 1",
          "Level 1",
          "Level 1",
          "Level 1",
          "Level 1",
          "Level 1",
          "Level 1",
          "Level 1",
          "Level 1",
          "Level 1",
          "Level 1",
          "Level 1",
          "Level 1",
          "Level 1",
          "Level 1",
          "Level 1",
          "Level 1",
          "Level 1",
          "Level 1",
          "Level 1",
          "Level 1",
          "Level 1",
          "Level 1",
          "Level 1",
          "Level 1",
          "Level 1",
          "Level 1",
          "Level 1",
          "Level 1",
          "Level 1",
          "Level 1",
          "Level 1",
          "Level 1",
          "Level 1",
          "Level 1",
          "Level 1",
          "Level 1",
          "Level 1",
          "Level 1",
          "Level 1",
          "Level 1",
          "Level 1",
          "Level 1",
          "Level 1",
          "Level 1",
          "Level 1",
          "Level 1",
          "Level 1",
          "Level 1",
          "Level 1",
          "Level 1",
          "Level 1",
          "Level 1",
          "Level 1",
          "Level 1",
          "Level 1",
          "Level 1",
          "Level 1",
          "Level 1",
          "Level 1",
          "Level 1",
          "Level 1",
          "Level 1",
          "Level 1",
          "Level 1",
          "Level 1",
          "Level 1",
          "Level 1",
          "Level 1",
          "Level 1",
          "Level 1",
          "Level 1",
          "Level 1",
          "Level 1",
          "Level 1",
          "Level 1",
          "Level 1",
          "Level 1",
          "Level 1",
          "Level 1",
          "Level 1",
          "Level 1",
          "Level 1",
          "Level 1",
          "Level 1",
          "Level 1",
          "Level 1",
          "Level 1",
          "Level 1",
          "Level 1",
          "Level 1",
          "Level 1",
          "Level 1",
          "Level 1",
          "Level 1",
          "Level 1",
          "Level 1",
          "Level 1",
          "Level 1",
          "Level 1",
          "Level 1",
          "Level 1",
          "Level 1",
          "Level 1",
          "Level 1",
          "Level 1",
          "Level 1",
          "Level 1",
          "Level 1",
          "Level 1",
          "Level 1",
          "Level 1",
          "Level 1",
          "Level 1",
          "Level 1",
          "Level 1",
          "Level 1",
          "Level 1",
          "Level 1",
          "Level 1",
          "Level 1",
          "Level 1",
          "Level 1",
          "Level 1",
          "Level 1",
          "Level 1",
          "Level 1",
          "Level 1",
          "Level 1",
          "Level 1",
          "Level 1",
          "Level 1",
          "Level 1",
          "Level 1",
          "Level 1",
          "Level 1",
          "Level 1",
          "Level 1",
          "Level 1",
          "Level 1",
          "Level 1",
          "Level 1",
          "Level 1",
          "Level 1",
          "Level 1",
          "Level 1",
          "Level 1",
          "Level 1",
          "Level 1",
          "Level 1",
          "Level 1",
          "Level 1",
          "Level 1",
          "Level 1",
          "Level 1",
          "Level 1",
          "Level 1",
          "Level 1",
          "Level 1",
          "Level 1",
          "Level 1",
          "Level 1",
          "Level 1",
          "Level 1",
          "Level 1",
          "Level 1",
          "Level 1",
          "Level 1",
          "Level 1",
          "Level 1",
          "Level 1",
          "Level 1",
          "Level 1",
          "Level 1",
          "Level 1",
          "Level 1",
          "Level 1",
          "Level 1",
          "Level 1",
          "Level 1",
          "Level 1",
          "Level 1",
          "Level 1",
          "Level 1",
          "Level 1",
          "Level 1",
          "Level 1",
          "Level 1",
          "Level 1",
          "Level 1",
          "Level 1",
          "Level 1",
          "Level 1",
          "Level 1",
          "Level 1",
          "Level 1",
          "Level 1",
          "Level 1",
          "Level 1",
          "Level 1",
          "Level 1",
          "Level 1",
          "Level 1",
          "Level 1",
          "Level 1",
          "Level 1",
          "Level 1",
          "Level 1",
          "Level 1",
          "Level 1",
          "Level 1",
          "Level 1",
          "Level 1",
          "Level 1",
          "Level 1",
          "Level 1",
          "Level 1",
          "Level 1",
          "Level 1",
          "Level 1",
          "Level 1",
          "Level 1",
          "Level 1",
          "Level 1",
          "Level 1",
          "Level 1",
          "Level 1",
          "Level 1",
          "Level 1",
          "Level 1",
          "Level 1",
          "Level 1",
          "Level 1",
          "Level 1"
         ],
         "xaxis": "x2",
         "yaxis": "y2"
        },
        {
         "bingroup": "x",
         "hovertemplate": "Charger Type=%{x}<br>count=%{y}<extra></extra>",
         "legendgroup": "Level 2",
         "marker": {
          "color": "#00cc96",
          "pattern": {
           "shape": ""
          }
         },
         "name": "Level 2",
         "orientation": "v",
         "showlegend": true,
         "type": "histogram",
         "x": [
          "Level 2",
          "Level 2",
          "Level 2",
          "Level 2",
          "Level 2",
          "Level 2",
          "Level 2",
          "Level 2",
          "Level 2",
          "Level 2",
          "Level 2",
          "Level 2",
          "Level 2",
          "Level 2",
          "Level 2",
          "Level 2",
          "Level 2",
          "Level 2",
          "Level 2",
          "Level 2",
          "Level 2",
          "Level 2",
          "Level 2",
          "Level 2",
          "Level 2",
          "Level 2",
          "Level 2",
          "Level 2",
          "Level 2",
          "Level 2",
          "Level 2",
          "Level 2",
          "Level 2",
          "Level 2",
          "Level 2",
          "Level 2",
          "Level 2",
          "Level 2",
          "Level 2",
          "Level 2",
          "Level 2",
          "Level 2",
          "Level 2",
          "Level 2",
          "Level 2",
          "Level 2",
          "Level 2",
          "Level 2",
          "Level 2",
          "Level 2",
          "Level 2",
          "Level 2",
          "Level 2",
          "Level 2",
          "Level 2",
          "Level 2",
          "Level 2",
          "Level 2",
          "Level 2",
          "Level 2",
          "Level 2",
          "Level 2",
          "Level 2",
          "Level 2",
          "Level 2",
          "Level 2",
          "Level 2",
          "Level 2",
          "Level 2",
          "Level 2",
          "Level 2",
          "Level 2",
          "Level 2",
          "Level 2",
          "Level 2",
          "Level 2",
          "Level 2",
          "Level 2",
          "Level 2",
          "Level 2",
          "Level 2",
          "Level 2",
          "Level 2",
          "Level 2",
          "Level 2",
          "Level 2",
          "Level 2",
          "Level 2",
          "Level 2",
          "Level 2",
          "Level 2",
          "Level 2",
          "Level 2",
          "Level 2",
          "Level 2",
          "Level 2",
          "Level 2",
          "Level 2",
          "Level 2",
          "Level 2",
          "Level 2",
          "Level 2",
          "Level 2",
          "Level 2",
          "Level 2",
          "Level 2",
          "Level 2",
          "Level 2",
          "Level 2",
          "Level 2",
          "Level 2",
          "Level 2",
          "Level 2",
          "Level 2",
          "Level 2",
          "Level 2",
          "Level 2",
          "Level 2",
          "Level 2",
          "Level 2",
          "Level 2",
          "Level 2",
          "Level 2",
          "Level 2",
          "Level 2",
          "Level 2",
          "Level 2",
          "Level 2",
          "Level 2",
          "Level 2",
          "Level 2",
          "Level 2",
          "Level 2",
          "Level 2",
          "Level 2",
          "Level 2",
          "Level 2",
          "Level 2",
          "Level 2",
          "Level 2",
          "Level 2",
          "Level 2",
          "Level 2",
          "Level 2",
          "Level 2",
          "Level 2",
          "Level 2",
          "Level 2",
          "Level 2",
          "Level 2",
          "Level 2",
          "Level 2",
          "Level 2",
          "Level 2",
          "Level 2",
          "Level 2",
          "Level 2",
          "Level 2",
          "Level 2",
          "Level 2",
          "Level 2",
          "Level 2",
          "Level 2",
          "Level 2",
          "Level 2",
          "Level 2",
          "Level 2",
          "Level 2",
          "Level 2",
          "Level 2",
          "Level 2",
          "Level 2",
          "Level 2",
          "Level 2",
          "Level 2",
          "Level 2",
          "Level 2",
          "Level 2",
          "Level 2",
          "Level 2",
          "Level 2",
          "Level 2",
          "Level 2",
          "Level 2",
          "Level 2",
          "Level 2",
          "Level 2",
          "Level 2",
          "Level 2",
          "Level 2",
          "Level 2",
          "Level 2",
          "Level 2",
          "Level 2",
          "Level 2",
          "Level 2",
          "Level 2",
          "Level 2",
          "Level 2",
          "Level 2",
          "Level 2",
          "Level 2",
          "Level 2",
          "Level 2",
          "Level 2",
          "Level 2",
          "Level 2",
          "Level 2",
          "Level 2",
          "Level 2",
          "Level 2",
          "Level 2",
          "Level 2",
          "Level 2",
          "Level 2",
          "Level 2",
          "Level 2",
          "Level 2",
          "Level 2",
          "Level 2",
          "Level 2",
          "Level 2",
          "Level 2",
          "Level 2",
          "Level 2",
          "Level 2",
          "Level 2",
          "Level 2",
          "Level 2",
          "Level 2",
          "Level 2",
          "Level 2",
          "Level 2",
          "Level 2",
          "Level 2",
          "Level 2",
          "Level 2",
          "Level 2",
          "Level 2",
          "Level 2",
          "Level 2",
          "Level 2",
          "Level 2",
          "Level 2",
          "Level 2",
          "Level 2",
          "Level 2",
          "Level 2",
          "Level 2",
          "Level 2",
          "Level 2",
          "Level 2",
          "Level 2",
          "Level 2",
          "Level 2",
          "Level 2",
          "Level 2",
          "Level 2",
          "Level 2",
          "Level 2",
          "Level 2",
          "Level 2",
          "Level 2",
          "Level 2",
          "Level 2",
          "Level 2",
          "Level 2",
          "Level 2",
          "Level 2",
          "Level 2",
          "Level 2",
          "Level 2",
          "Level 2",
          "Level 2",
          "Level 2",
          "Level 2",
          "Level 2",
          "Level 2",
          "Level 2",
          "Level 2",
          "Level 2",
          "Level 2",
          "Level 2",
          "Level 2",
          "Level 2",
          "Level 2",
          "Level 2",
          "Level 2",
          "Level 2",
          "Level 2",
          "Level 2",
          "Level 2",
          "Level 2",
          "Level 2",
          "Level 2",
          "Level 2",
          "Level 2",
          "Level 2",
          "Level 2",
          "Level 2",
          "Level 2",
          "Level 2",
          "Level 2",
          "Level 2",
          "Level 2",
          "Level 2",
          "Level 2",
          "Level 2",
          "Level 2",
          "Level 2",
          "Level 2",
          "Level 2",
          "Level 2",
          "Level 2",
          "Level 2",
          "Level 2",
          "Level 2",
          "Level 2",
          "Level 2",
          "Level 2",
          "Level 2",
          "Level 2",
          "Level 2",
          "Level 2",
          "Level 2",
          "Level 2",
          "Level 2",
          "Level 2",
          "Level 2",
          "Level 2",
          "Level 2",
          "Level 2",
          "Level 2",
          "Level 2",
          "Level 2",
          "Level 2",
          "Level 2",
          "Level 2",
          "Level 2",
          "Level 2",
          "Level 2",
          "Level 2",
          "Level 2",
          "Level 2",
          "Level 2",
          "Level 2",
          "Level 2",
          "Level 2",
          "Level 2",
          "Level 2",
          "Level 2",
          "Level 2",
          "Level 2",
          "Level 2",
          "Level 2",
          "Level 2",
          "Level 2",
          "Level 2",
          "Level 2",
          "Level 2",
          "Level 2",
          "Level 2",
          "Level 2",
          "Level 2",
          "Level 2",
          "Level 2",
          "Level 2",
          "Level 2",
          "Level 2",
          "Level 2",
          "Level 2",
          "Level 2",
          "Level 2",
          "Level 2",
          "Level 2",
          "Level 2",
          "Level 2",
          "Level 2",
          "Level 2",
          "Level 2",
          "Level 2",
          "Level 2",
          "Level 2",
          "Level 2",
          "Level 2",
          "Level 2",
          "Level 2",
          "Level 2",
          "Level 2",
          "Level 2",
          "Level 2",
          "Level 2",
          "Level 2",
          "Level 2",
          "Level 2",
          "Level 2",
          "Level 2",
          "Level 2",
          "Level 2",
          "Level 2",
          "Level 2",
          "Level 2",
          "Level 2",
          "Level 2",
          "Level 2",
          "Level 2",
          "Level 2",
          "Level 2",
          "Level 2",
          "Level 2",
          "Level 2",
          "Level 2",
          "Level 2",
          "Level 2",
          "Level 2",
          "Level 2",
          "Level 2",
          "Level 2",
          "Level 2",
          "Level 2",
          "Level 2",
          "Level 2",
          "Level 2",
          "Level 2",
          "Level 2",
          "Level 2",
          "Level 2",
          "Level 2",
          "Level 2",
          "Level 2",
          "Level 2"
         ],
         "xaxis": "x3",
         "yaxis": "y3"
        }
       ],
       "layout": {
        "annotations": [
         {
          "font": {},
          "showarrow": false,
          "text": "Charger Type=DC Fast Charger",
          "x": 0.15999999999999998,
          "xanchor": "center",
          "xref": "paper",
          "y": 1,
          "yanchor": "bottom",
          "yref": "paper"
         },
         {
          "font": {},
          "showarrow": false,
          "text": "Charger Type=Level 1",
          "x": 0.49999999999999994,
          "xanchor": "center",
          "xref": "paper",
          "y": 1,
          "yanchor": "bottom",
          "yref": "paper"
         },
         {
          "font": {},
          "showarrow": false,
          "text": "Charger Type=Level 2",
          "x": 0.8399999999999999,
          "xanchor": "center",
          "xref": "paper",
          "y": 1,
          "yanchor": "bottom",
          "yref": "paper"
         }
        ],
        "barmode": "relative",
        "legend": {
         "title": {
          "text": "Charger Type"
         },
         "tracegroupgap": 0
        },
        "template": {
         "data": {
          "bar": [
           {
            "error_x": {
             "color": "#f2f5fa"
            },
            "error_y": {
             "color": "#f2f5fa"
            },
            "marker": {
             "line": {
              "color": "rgb(17,17,17)",
              "width": 0.5
             },
             "pattern": {
              "fillmode": "overlay",
              "size": 10,
              "solidity": 0.2
             }
            },
            "type": "bar"
           }
          ],
          "barpolar": [
           {
            "marker": {
             "line": {
              "color": "rgb(17,17,17)",
              "width": 0.5
             },
             "pattern": {
              "fillmode": "overlay",
              "size": 10,
              "solidity": 0.2
             }
            },
            "type": "barpolar"
           }
          ],
          "carpet": [
           {
            "aaxis": {
             "endlinecolor": "#A2B1C6",
             "gridcolor": "#506784",
             "linecolor": "#506784",
             "minorgridcolor": "#506784",
             "startlinecolor": "#A2B1C6"
            },
            "baxis": {
             "endlinecolor": "#A2B1C6",
             "gridcolor": "#506784",
             "linecolor": "#506784",
             "minorgridcolor": "#506784",
             "startlinecolor": "#A2B1C6"
            },
            "type": "carpet"
           }
          ],
          "choropleth": [
           {
            "colorbar": {
             "outlinewidth": 0,
             "ticks": ""
            },
            "type": "choropleth"
           }
          ],
          "contour": [
           {
            "colorbar": {
             "outlinewidth": 0,
             "ticks": ""
            },
            "colorscale": [
             [
              0,
              "#0d0887"
             ],
             [
              0.1111111111111111,
              "#46039f"
             ],
             [
              0.2222222222222222,
              "#7201a8"
             ],
             [
              0.3333333333333333,
              "#9c179e"
             ],
             [
              0.4444444444444444,
              "#bd3786"
             ],
             [
              0.5555555555555556,
              "#d8576b"
             ],
             [
              0.6666666666666666,
              "#ed7953"
             ],
             [
              0.7777777777777778,
              "#fb9f3a"
             ],
             [
              0.8888888888888888,
              "#fdca26"
             ],
             [
              1,
              "#f0f921"
             ]
            ],
            "type": "contour"
           }
          ],
          "contourcarpet": [
           {
            "colorbar": {
             "outlinewidth": 0,
             "ticks": ""
            },
            "type": "contourcarpet"
           }
          ],
          "heatmap": [
           {
            "colorbar": {
             "outlinewidth": 0,
             "ticks": ""
            },
            "colorscale": [
             [
              0,
              "#0d0887"
             ],
             [
              0.1111111111111111,
              "#46039f"
             ],
             [
              0.2222222222222222,
              "#7201a8"
             ],
             [
              0.3333333333333333,
              "#9c179e"
             ],
             [
              0.4444444444444444,
              "#bd3786"
             ],
             [
              0.5555555555555556,
              "#d8576b"
             ],
             [
              0.6666666666666666,
              "#ed7953"
             ],
             [
              0.7777777777777778,
              "#fb9f3a"
             ],
             [
              0.8888888888888888,
              "#fdca26"
             ],
             [
              1,
              "#f0f921"
             ]
            ],
            "type": "heatmap"
           }
          ],
          "histogram": [
           {
            "marker": {
             "pattern": {
              "fillmode": "overlay",
              "size": 10,
              "solidity": 0.2
             }
            },
            "type": "histogram"
           }
          ],
          "histogram2d": [
           {
            "colorbar": {
             "outlinewidth": 0,
             "ticks": ""
            },
            "colorscale": [
             [
              0,
              "#0d0887"
             ],
             [
              0.1111111111111111,
              "#46039f"
             ],
             [
              0.2222222222222222,
              "#7201a8"
             ],
             [
              0.3333333333333333,
              "#9c179e"
             ],
             [
              0.4444444444444444,
              "#bd3786"
             ],
             [
              0.5555555555555556,
              "#d8576b"
             ],
             [
              0.6666666666666666,
              "#ed7953"
             ],
             [
              0.7777777777777778,
              "#fb9f3a"
             ],
             [
              0.8888888888888888,
              "#fdca26"
             ],
             [
              1,
              "#f0f921"
             ]
            ],
            "type": "histogram2d"
           }
          ],
          "histogram2dcontour": [
           {
            "colorbar": {
             "outlinewidth": 0,
             "ticks": ""
            },
            "colorscale": [
             [
              0,
              "#0d0887"
             ],
             [
              0.1111111111111111,
              "#46039f"
             ],
             [
              0.2222222222222222,
              "#7201a8"
             ],
             [
              0.3333333333333333,
              "#9c179e"
             ],
             [
              0.4444444444444444,
              "#bd3786"
             ],
             [
              0.5555555555555556,
              "#d8576b"
             ],
             [
              0.6666666666666666,
              "#ed7953"
             ],
             [
              0.7777777777777778,
              "#fb9f3a"
             ],
             [
              0.8888888888888888,
              "#fdca26"
             ],
             [
              1,
              "#f0f921"
             ]
            ],
            "type": "histogram2dcontour"
           }
          ],
          "mesh3d": [
           {
            "colorbar": {
             "outlinewidth": 0,
             "ticks": ""
            },
            "type": "mesh3d"
           }
          ],
          "parcoords": [
           {
            "line": {
             "colorbar": {
              "outlinewidth": 0,
              "ticks": ""
             }
            },
            "type": "parcoords"
           }
          ],
          "pie": [
           {
            "automargin": true,
            "type": "pie"
           }
          ],
          "scatter": [
           {
            "marker": {
             "line": {
              "color": "#283442"
             }
            },
            "type": "scatter"
           }
          ],
          "scatter3d": [
           {
            "line": {
             "colorbar": {
              "outlinewidth": 0,
              "ticks": ""
             }
            },
            "marker": {
             "colorbar": {
              "outlinewidth": 0,
              "ticks": ""
             }
            },
            "type": "scatter3d"
           }
          ],
          "scattercarpet": [
           {
            "marker": {
             "colorbar": {
              "outlinewidth": 0,
              "ticks": ""
             }
            },
            "type": "scattercarpet"
           }
          ],
          "scattergeo": [
           {
            "marker": {
             "colorbar": {
              "outlinewidth": 0,
              "ticks": ""
             }
            },
            "type": "scattergeo"
           }
          ],
          "scattergl": [
           {
            "marker": {
             "line": {
              "color": "#283442"
             }
            },
            "type": "scattergl"
           }
          ],
          "scattermap": [
           {
            "marker": {
             "colorbar": {
              "outlinewidth": 0,
              "ticks": ""
             }
            },
            "type": "scattermap"
           }
          ],
          "scattermapbox": [
           {
            "marker": {
             "colorbar": {
              "outlinewidth": 0,
              "ticks": ""
             }
            },
            "type": "scattermapbox"
           }
          ],
          "scatterpolar": [
           {
            "marker": {
             "colorbar": {
              "outlinewidth": 0,
              "ticks": ""
             }
            },
            "type": "scatterpolar"
           }
          ],
          "scatterpolargl": [
           {
            "marker": {
             "colorbar": {
              "outlinewidth": 0,
              "ticks": ""
             }
            },
            "type": "scatterpolargl"
           }
          ],
          "scatterternary": [
           {
            "marker": {
             "colorbar": {
              "outlinewidth": 0,
              "ticks": ""
             }
            },
            "type": "scatterternary"
           }
          ],
          "surface": [
           {
            "colorbar": {
             "outlinewidth": 0,
             "ticks": ""
            },
            "colorscale": [
             [
              0,
              "#0d0887"
             ],
             [
              0.1111111111111111,
              "#46039f"
             ],
             [
              0.2222222222222222,
              "#7201a8"
             ],
             [
              0.3333333333333333,
              "#9c179e"
             ],
             [
              0.4444444444444444,
              "#bd3786"
             ],
             [
              0.5555555555555556,
              "#d8576b"
             ],
             [
              0.6666666666666666,
              "#ed7953"
             ],
             [
              0.7777777777777778,
              "#fb9f3a"
             ],
             [
              0.8888888888888888,
              "#fdca26"
             ],
             [
              1,
              "#f0f921"
             ]
            ],
            "type": "surface"
           }
          ],
          "table": [
           {
            "cells": {
             "fill": {
              "color": "#506784"
             },
             "line": {
              "color": "rgb(17,17,17)"
             }
            },
            "header": {
             "fill": {
              "color": "#2a3f5f"
             },
             "line": {
              "color": "rgb(17,17,17)"
             }
            },
            "type": "table"
           }
          ]
         },
         "layout": {
          "annotationdefaults": {
           "arrowcolor": "#f2f5fa",
           "arrowhead": 0,
           "arrowwidth": 1
          },
          "autotypenumbers": "strict",
          "coloraxis": {
           "colorbar": {
            "outlinewidth": 0,
            "ticks": ""
           }
          },
          "colorscale": {
           "diverging": [
            [
             0,
             "#8e0152"
            ],
            [
             0.1,
             "#c51b7d"
            ],
            [
             0.2,
             "#de77ae"
            ],
            [
             0.3,
             "#f1b6da"
            ],
            [
             0.4,
             "#fde0ef"
            ],
            [
             0.5,
             "#f7f7f7"
            ],
            [
             0.6,
             "#e6f5d0"
            ],
            [
             0.7,
             "#b8e186"
            ],
            [
             0.8,
             "#7fbc41"
            ],
            [
             0.9,
             "#4d9221"
            ],
            [
             1,
             "#276419"
            ]
           ],
           "sequential": [
            [
             0,
             "#0d0887"
            ],
            [
             0.1111111111111111,
             "#46039f"
            ],
            [
             0.2222222222222222,
             "#7201a8"
            ],
            [
             0.3333333333333333,
             "#9c179e"
            ],
            [
             0.4444444444444444,
             "#bd3786"
            ],
            [
             0.5555555555555556,
             "#d8576b"
            ],
            [
             0.6666666666666666,
             "#ed7953"
            ],
            [
             0.7777777777777778,
             "#fb9f3a"
            ],
            [
             0.8888888888888888,
             "#fdca26"
            ],
            [
             1,
             "#f0f921"
            ]
           ],
           "sequentialminus": [
            [
             0,
             "#0d0887"
            ],
            [
             0.1111111111111111,
             "#46039f"
            ],
            [
             0.2222222222222222,
             "#7201a8"
            ],
            [
             0.3333333333333333,
             "#9c179e"
            ],
            [
             0.4444444444444444,
             "#bd3786"
            ],
            [
             0.5555555555555556,
             "#d8576b"
            ],
            [
             0.6666666666666666,
             "#ed7953"
            ],
            [
             0.7777777777777778,
             "#fb9f3a"
            ],
            [
             0.8888888888888888,
             "#fdca26"
            ],
            [
             1,
             "#f0f921"
            ]
           ]
          },
          "colorway": [
           "#636efa",
           "#EF553B",
           "#00cc96",
           "#ab63fa",
           "#FFA15A",
           "#19d3f3",
           "#FF6692",
           "#B6E880",
           "#FF97FF",
           "#FECB52"
          ],
          "font": {
           "color": "#f2f5fa"
          },
          "geo": {
           "bgcolor": "rgb(17,17,17)",
           "lakecolor": "rgb(17,17,17)",
           "landcolor": "rgb(17,17,17)",
           "showlakes": true,
           "showland": true,
           "subunitcolor": "#506784"
          },
          "hoverlabel": {
           "align": "left"
          },
          "hovermode": "closest",
          "mapbox": {
           "style": "dark"
          },
          "paper_bgcolor": "rgb(17,17,17)",
          "plot_bgcolor": "rgb(17,17,17)",
          "polar": {
           "angularaxis": {
            "gridcolor": "#506784",
            "linecolor": "#506784",
            "ticks": ""
           },
           "bgcolor": "rgb(17,17,17)",
           "radialaxis": {
            "gridcolor": "#506784",
            "linecolor": "#506784",
            "ticks": ""
           }
          },
          "scene": {
           "xaxis": {
            "backgroundcolor": "rgb(17,17,17)",
            "gridcolor": "#506784",
            "gridwidth": 2,
            "linecolor": "#506784",
            "showbackground": true,
            "ticks": "",
            "zerolinecolor": "#C8D4E3"
           },
           "yaxis": {
            "backgroundcolor": "rgb(17,17,17)",
            "gridcolor": "#506784",
            "gridwidth": 2,
            "linecolor": "#506784",
            "showbackground": true,
            "ticks": "",
            "zerolinecolor": "#C8D4E3"
           },
           "zaxis": {
            "backgroundcolor": "rgb(17,17,17)",
            "gridcolor": "#506784",
            "gridwidth": 2,
            "linecolor": "#506784",
            "showbackground": true,
            "ticks": "",
            "zerolinecolor": "#C8D4E3"
           }
          },
          "shapedefaults": {
           "line": {
            "color": "#f2f5fa"
           }
          },
          "sliderdefaults": {
           "bgcolor": "#C8D4E3",
           "bordercolor": "rgb(17,17,17)",
           "borderwidth": 1,
           "tickwidth": 0
          },
          "ternary": {
           "aaxis": {
            "gridcolor": "#506784",
            "linecolor": "#506784",
            "ticks": ""
           },
           "baxis": {
            "gridcolor": "#506784",
            "linecolor": "#506784",
            "ticks": ""
           },
           "bgcolor": "rgb(17,17,17)",
           "caxis": {
            "gridcolor": "#506784",
            "linecolor": "#506784",
            "ticks": ""
           }
          },
          "title": {
           "x": 0.05
          },
          "updatemenudefaults": {
           "bgcolor": "#506784",
           "borderwidth": 0
          },
          "xaxis": {
           "automargin": true,
           "gridcolor": "#283442",
           "linecolor": "#506784",
           "ticks": "",
           "title": {
            "standoff": 15
           },
           "zerolinecolor": "#283442",
           "zerolinewidth": 2
          },
          "yaxis": {
           "automargin": true,
           "gridcolor": "#283442",
           "linecolor": "#506784",
           "ticks": "",
           "title": {
            "standoff": 15
           },
           "zerolinecolor": "#283442",
           "zerolinewidth": 2
          }
         }
        },
        "title": {
         "text": "CHARGER TYPE DISTRIBUTION"
        },
        "width": 800,
        "xaxis": {
         "anchor": "y",
         "categoryarray": [
          "DC Fast Charger",
          "Level 1",
          "Level 2"
         ],
         "categoryorder": "array",
         "domain": [
          0,
          0.31999999999999995
         ],
         "title": {
          "text": "Charger Type"
         }
        },
        "xaxis2": {
         "anchor": "y2",
         "categoryarray": [
          "DC Fast Charger",
          "Level 1",
          "Level 2"
         ],
         "categoryorder": "array",
         "domain": [
          0.33999999999999997,
          0.6599999999999999
         ],
         "matches": "x",
         "title": {
          "text": "Charger Type"
         }
        },
        "xaxis3": {
         "anchor": "y3",
         "categoryarray": [
          "DC Fast Charger",
          "Level 1",
          "Level 2"
         ],
         "categoryorder": "array",
         "domain": [
          0.6799999999999999,
          0.9999999999999999
         ],
         "matches": "x",
         "title": {
          "text": "Charger Type"
         }
        },
        "yaxis": {
         "anchor": "x",
         "domain": [
          0,
          1
         ],
         "title": {
          "text": "count"
         }
        },
        "yaxis2": {
         "anchor": "x2",
         "domain": [
          0,
          1
         ],
         "matches": "y",
         "showticklabels": false
        },
        "yaxis3": {
         "anchor": "x3",
         "domain": [
          0,
          1
         ],
         "matches": "y",
         "showticklabels": false
        }
       }
      }
     },
     "metadata": {},
     "output_type": "display_data"
    }
   ],
   "source": [
    "px.histogram(df, x='Charger Type',color='Charger Type', facet_col='Charger Type',\n",
    "              title='CHARGER TYPE DISTRIBUTION',\n",
    "              \n",
    "              template='plotly_dark',width=800)"
   ]
  },
  {
   "cell_type": "code",
   "execution_count": null,
   "id": "e1f80a47",
   "metadata": {},
   "outputs": [
    {
     "data": {
      "application/vnd.plotly.v1+json": {
       "config": {
        "plotlyServerURL": "https://plot.ly"
       },
       "data": [
        {
         "hovertemplate": "Charging Station Location=%{x}<br>Charging Cost (USD)=%{y}<extra></extra>",
         "legendgroup": "",
         "marker": {
          "color": "#636efa",
          "pattern": {
           "shape": ""
          }
         },
         "name": "",
         "orientation": "v",
         "showlegend": false,
         "textposition": "auto",
         "type": "bar",
         "x": [
          "Chicago",
          "Houston",
          "Los Angeles",
          "New York",
          "San Francisco"
         ],
         "xaxis": "x",
         "y": {
          "bdata": "ypggZ1y3N0CC2lR5JRg2QMbfXGubijZAVuA998mANkCyjyEXsP41QA==",
          "dtype": "f8"
         },
         "yaxis": "y"
        }
       ],
       "layout": {
        "barmode": "relative",
        "legend": {
         "tracegroupgap": 0
        },
        "template": {
         "data": {
          "bar": [
           {
            "error_x": {
             "color": "#2a3f5f"
            },
            "error_y": {
             "color": "#2a3f5f"
            },
            "marker": {
             "line": {
              "color": "#E5ECF6",
              "width": 0.5
             },
             "pattern": {
              "fillmode": "overlay",
              "size": 10,
              "solidity": 0.2
             }
            },
            "type": "bar"
           }
          ],
          "barpolar": [
           {
            "marker": {
             "line": {
              "color": "#E5ECF6",
              "width": 0.5
             },
             "pattern": {
              "fillmode": "overlay",
              "size": 10,
              "solidity": 0.2
             }
            },
            "type": "barpolar"
           }
          ],
          "carpet": [
           {
            "aaxis": {
             "endlinecolor": "#2a3f5f",
             "gridcolor": "white",
             "linecolor": "white",
             "minorgridcolor": "white",
             "startlinecolor": "#2a3f5f"
            },
            "baxis": {
             "endlinecolor": "#2a3f5f",
             "gridcolor": "white",
             "linecolor": "white",
             "minorgridcolor": "white",
             "startlinecolor": "#2a3f5f"
            },
            "type": "carpet"
           }
          ],
          "choropleth": [
           {
            "colorbar": {
             "outlinewidth": 0,
             "ticks": ""
            },
            "type": "choropleth"
           }
          ],
          "contour": [
           {
            "colorbar": {
             "outlinewidth": 0,
             "ticks": ""
            },
            "colorscale": [
             [
              0,
              "#0d0887"
             ],
             [
              0.1111111111111111,
              "#46039f"
             ],
             [
              0.2222222222222222,
              "#7201a8"
             ],
             [
              0.3333333333333333,
              "#9c179e"
             ],
             [
              0.4444444444444444,
              "#bd3786"
             ],
             [
              0.5555555555555556,
              "#d8576b"
             ],
             [
              0.6666666666666666,
              "#ed7953"
             ],
             [
              0.7777777777777778,
              "#fb9f3a"
             ],
             [
              0.8888888888888888,
              "#fdca26"
             ],
             [
              1,
              "#f0f921"
             ]
            ],
            "type": "contour"
           }
          ],
          "contourcarpet": [
           {
            "colorbar": {
             "outlinewidth": 0,
             "ticks": ""
            },
            "type": "contourcarpet"
           }
          ],
          "heatmap": [
           {
            "colorbar": {
             "outlinewidth": 0,
             "ticks": ""
            },
            "colorscale": [
             [
              0,
              "#0d0887"
             ],
             [
              0.1111111111111111,
              "#46039f"
             ],
             [
              0.2222222222222222,
              "#7201a8"
             ],
             [
              0.3333333333333333,
              "#9c179e"
             ],
             [
              0.4444444444444444,
              "#bd3786"
             ],
             [
              0.5555555555555556,
              "#d8576b"
             ],
             [
              0.6666666666666666,
              "#ed7953"
             ],
             [
              0.7777777777777778,
              "#fb9f3a"
             ],
             [
              0.8888888888888888,
              "#fdca26"
             ],
             [
              1,
              "#f0f921"
             ]
            ],
            "type": "heatmap"
           }
          ],
          "histogram": [
           {
            "marker": {
             "pattern": {
              "fillmode": "overlay",
              "size": 10,
              "solidity": 0.2
             }
            },
            "type": "histogram"
           }
          ],
          "histogram2d": [
           {
            "colorbar": {
             "outlinewidth": 0,
             "ticks": ""
            },
            "colorscale": [
             [
              0,
              "#0d0887"
             ],
             [
              0.1111111111111111,
              "#46039f"
             ],
             [
              0.2222222222222222,
              "#7201a8"
             ],
             [
              0.3333333333333333,
              "#9c179e"
             ],
             [
              0.4444444444444444,
              "#bd3786"
             ],
             [
              0.5555555555555556,
              "#d8576b"
             ],
             [
              0.6666666666666666,
              "#ed7953"
             ],
             [
              0.7777777777777778,
              "#fb9f3a"
             ],
             [
              0.8888888888888888,
              "#fdca26"
             ],
             [
              1,
              "#f0f921"
             ]
            ],
            "type": "histogram2d"
           }
          ],
          "histogram2dcontour": [
           {
            "colorbar": {
             "outlinewidth": 0,
             "ticks": ""
            },
            "colorscale": [
             [
              0,
              "#0d0887"
             ],
             [
              0.1111111111111111,
              "#46039f"
             ],
             [
              0.2222222222222222,
              "#7201a8"
             ],
             [
              0.3333333333333333,
              "#9c179e"
             ],
             [
              0.4444444444444444,
              "#bd3786"
             ],
             [
              0.5555555555555556,
              "#d8576b"
             ],
             [
              0.6666666666666666,
              "#ed7953"
             ],
             [
              0.7777777777777778,
              "#fb9f3a"
             ],
             [
              0.8888888888888888,
              "#fdca26"
             ],
             [
              1,
              "#f0f921"
             ]
            ],
            "type": "histogram2dcontour"
           }
          ],
          "mesh3d": [
           {
            "colorbar": {
             "outlinewidth": 0,
             "ticks": ""
            },
            "type": "mesh3d"
           }
          ],
          "parcoords": [
           {
            "line": {
             "colorbar": {
              "outlinewidth": 0,
              "ticks": ""
             }
            },
            "type": "parcoords"
           }
          ],
          "pie": [
           {
            "automargin": true,
            "type": "pie"
           }
          ],
          "scatter": [
           {
            "fillpattern": {
             "fillmode": "overlay",
             "size": 10,
             "solidity": 0.2
            },
            "type": "scatter"
           }
          ],
          "scatter3d": [
           {
            "line": {
             "colorbar": {
              "outlinewidth": 0,
              "ticks": ""
             }
            },
            "marker": {
             "colorbar": {
              "outlinewidth": 0,
              "ticks": ""
             }
            },
            "type": "scatter3d"
           }
          ],
          "scattercarpet": [
           {
            "marker": {
             "colorbar": {
              "outlinewidth": 0,
              "ticks": ""
             }
            },
            "type": "scattercarpet"
           }
          ],
          "scattergeo": [
           {
            "marker": {
             "colorbar": {
              "outlinewidth": 0,
              "ticks": ""
             }
            },
            "type": "scattergeo"
           }
          ],
          "scattergl": [
           {
            "marker": {
             "colorbar": {
              "outlinewidth": 0,
              "ticks": ""
             }
            },
            "type": "scattergl"
           }
          ],
          "scattermap": [
           {
            "marker": {
             "colorbar": {
              "outlinewidth": 0,
              "ticks": ""
             }
            },
            "type": "scattermap"
           }
          ],
          "scattermapbox": [
           {
            "marker": {
             "colorbar": {
              "outlinewidth": 0,
              "ticks": ""
             }
            },
            "type": "scattermapbox"
           }
          ],
          "scatterpolar": [
           {
            "marker": {
             "colorbar": {
              "outlinewidth": 0,
              "ticks": ""
             }
            },
            "type": "scatterpolar"
           }
          ],
          "scatterpolargl": [
           {
            "marker": {
             "colorbar": {
              "outlinewidth": 0,
              "ticks": ""
             }
            },
            "type": "scatterpolargl"
           }
          ],
          "scatterternary": [
           {
            "marker": {
             "colorbar": {
              "outlinewidth": 0,
              "ticks": ""
             }
            },
            "type": "scatterternary"
           }
          ],
          "surface": [
           {
            "colorbar": {
             "outlinewidth": 0,
             "ticks": ""
            },
            "colorscale": [
             [
              0,
              "#0d0887"
             ],
             [
              0.1111111111111111,
              "#46039f"
             ],
             [
              0.2222222222222222,
              "#7201a8"
             ],
             [
              0.3333333333333333,
              "#9c179e"
             ],
             [
              0.4444444444444444,
              "#bd3786"
             ],
             [
              0.5555555555555556,
              "#d8576b"
             ],
             [
              0.6666666666666666,
              "#ed7953"
             ],
             [
              0.7777777777777778,
              "#fb9f3a"
             ],
             [
              0.8888888888888888,
              "#fdca26"
             ],
             [
              1,
              "#f0f921"
             ]
            ],
            "type": "surface"
           }
          ],
          "table": [
           {
            "cells": {
             "fill": {
              "color": "#EBF0F8"
             },
             "line": {
              "color": "white"
             }
            },
            "header": {
             "fill": {
              "color": "#C8D4E3"
             },
             "line": {
              "color": "white"
             }
            },
            "type": "table"
           }
          ]
         },
         "layout": {
          "annotationdefaults": {
           "arrowcolor": "#2a3f5f",
           "arrowhead": 0,
           "arrowwidth": 1
          },
          "autotypenumbers": "strict",
          "coloraxis": {
           "colorbar": {
            "outlinewidth": 0,
            "ticks": ""
           }
          },
          "colorscale": {
           "diverging": [
            [
             0,
             "#8e0152"
            ],
            [
             0.1,
             "#c51b7d"
            ],
            [
             0.2,
             "#de77ae"
            ],
            [
             0.3,
             "#f1b6da"
            ],
            [
             0.4,
             "#fde0ef"
            ],
            [
             0.5,
             "#f7f7f7"
            ],
            [
             0.6,
             "#e6f5d0"
            ],
            [
             0.7,
             "#b8e186"
            ],
            [
             0.8,
             "#7fbc41"
            ],
            [
             0.9,
             "#4d9221"
            ],
            [
             1,
             "#276419"
            ]
           ],
           "sequential": [
            [
             0,
             "#0d0887"
            ],
            [
             0.1111111111111111,
             "#46039f"
            ],
            [
             0.2222222222222222,
             "#7201a8"
            ],
            [
             0.3333333333333333,
             "#9c179e"
            ],
            [
             0.4444444444444444,
             "#bd3786"
            ],
            [
             0.5555555555555556,
             "#d8576b"
            ],
            [
             0.6666666666666666,
             "#ed7953"
            ],
            [
             0.7777777777777778,
             "#fb9f3a"
            ],
            [
             0.8888888888888888,
             "#fdca26"
            ],
            [
             1,
             "#f0f921"
            ]
           ],
           "sequentialminus": [
            [
             0,
             "#0d0887"
            ],
            [
             0.1111111111111111,
             "#46039f"
            ],
            [
             0.2222222222222222,
             "#7201a8"
            ],
            [
             0.3333333333333333,
             "#9c179e"
            ],
            [
             0.4444444444444444,
             "#bd3786"
            ],
            [
             0.5555555555555556,
             "#d8576b"
            ],
            [
             0.6666666666666666,
             "#ed7953"
            ],
            [
             0.7777777777777778,
             "#fb9f3a"
            ],
            [
             0.8888888888888888,
             "#fdca26"
            ],
            [
             1,
             "#f0f921"
            ]
           ]
          },
          "colorway": [
           "#636efa",
           "#EF553B",
           "#00cc96",
           "#ab63fa",
           "#FFA15A",
           "#19d3f3",
           "#FF6692",
           "#B6E880",
           "#FF97FF",
           "#FECB52"
          ],
          "font": {
           "color": "#2a3f5f"
          },
          "geo": {
           "bgcolor": "white",
           "lakecolor": "white",
           "landcolor": "#E5ECF6",
           "showlakes": true,
           "showland": true,
           "subunitcolor": "white"
          },
          "hoverlabel": {
           "align": "left"
          },
          "hovermode": "closest",
          "mapbox": {
           "style": "light"
          },
          "paper_bgcolor": "white",
          "plot_bgcolor": "#E5ECF6",
          "polar": {
           "angularaxis": {
            "gridcolor": "white",
            "linecolor": "white",
            "ticks": ""
           },
           "bgcolor": "#E5ECF6",
           "radialaxis": {
            "gridcolor": "white",
            "linecolor": "white",
            "ticks": ""
           }
          },
          "scene": {
           "xaxis": {
            "backgroundcolor": "#E5ECF6",
            "gridcolor": "white",
            "gridwidth": 2,
            "linecolor": "white",
            "showbackground": true,
            "ticks": "",
            "zerolinecolor": "white"
           },
           "yaxis": {
            "backgroundcolor": "#E5ECF6",
            "gridcolor": "white",
            "gridwidth": 2,
            "linecolor": "white",
            "showbackground": true,
            "ticks": "",
            "zerolinecolor": "white"
           },
           "zaxis": {
            "backgroundcolor": "#E5ECF6",
            "gridcolor": "white",
            "gridwidth": 2,
            "linecolor": "white",
            "showbackground": true,
            "ticks": "",
            "zerolinecolor": "white"
           }
          },
          "shapedefaults": {
           "line": {
            "color": "#2a3f5f"
           }
          },
          "ternary": {
           "aaxis": {
            "gridcolor": "white",
            "linecolor": "white",
            "ticks": ""
           },
           "baxis": {
            "gridcolor": "white",
            "linecolor": "white",
            "ticks": ""
           },
           "bgcolor": "#E5ECF6",
           "caxis": {
            "gridcolor": "white",
            "linecolor": "white",
            "ticks": ""
           }
          },
          "title": {
           "x": 0.05
          },
          "xaxis": {
           "automargin": true,
           "gridcolor": "white",
           "linecolor": "white",
           "ticks": "",
           "title": {
            "standoff": 15
           },
           "zerolinecolor": "white",
           "zerolinewidth": 2
          },
          "yaxis": {
           "automargin": true,
           "gridcolor": "white",
           "linecolor": "white",
           "ticks": "",
           "title": {
            "standoff": 15
           },
           "zerolinecolor": "white",
           "zerolinewidth": 2
          }
         }
        },
        "title": {
         "text": "Average Charging Cost by City"
        },
        "xaxis": {
         "anchor": "y",
         "domain": [
          0,
          1
         ],
         "title": {
          "text": "Charging Station Location"
         }
        },
        "yaxis": {
         "anchor": "x",
         "domain": [
          0,
          1
         ],
         "title": {
          "text": "Charging Cost (USD)"
         }
        }
       }
      }
     },
     "metadata": {},
     "output_type": "display_data"
    }
   ],
   "source": [
    "city_cost = df.groupby(\"Charging Station Location\")[\"Charging Cost (USD)\"].mean().reset_index()\n",
    "fig10 = px.bar(city_cost, x=\"Charging Station Location\", y=\"Charging Cost (USD)\", title=\"Average Charging Cost by City\")\n",
    "fig10.show()"
   ]
  },
  {
   "cell_type": "code",
   "execution_count": null,
   "id": "4b155e12",
   "metadata": {},
   "outputs": [
    {
     "ename": "NameError",
     "evalue": "name 'df' is not defined",
     "output_type": "error",
     "traceback": [
      "\u001b[1;31m---------------------------------------------------------------------------\u001b[0m",
      "\u001b[1;31mNameError\u001b[0m                                 Traceback (most recent call last)",
      "Cell \u001b[1;32mIn[1], line 4\u001b[0m\n\u001b[0;32m      1\u001b[0m \u001b[38;5;28;01mimport\u001b[39;00m \u001b[38;5;21;01mplotly\u001b[39;00m\u001b[38;5;21;01m.\u001b[39;00m\u001b[38;5;21;01mexpress\u001b[39;00m \u001b[38;5;28;01mas\u001b[39;00m \u001b[38;5;21;01mpx\u001b[39;00m\n\u001b[0;32m      3\u001b[0m \u001b[38;5;66;03m# Histogram for Charging Duration distribution\u001b[39;00m\n\u001b[1;32m----> 4\u001b[0m fig \u001b[38;5;241m=\u001b[39m px\u001b[38;5;241m.\u001b[39mhistogram(\u001b[43mdf\u001b[49m, x\u001b[38;5;241m=\u001b[39m\u001b[38;5;124m\"\u001b[39m\u001b[38;5;124mCharging Duration (hours)\u001b[39m\u001b[38;5;124m\"\u001b[39m, nbins\u001b[38;5;241m=\u001b[39m\u001b[38;5;241m30\u001b[39m, title\u001b[38;5;241m=\u001b[39m\u001b[38;5;124m\"\u001b[39m\u001b[38;5;124mCharging Duration Distribution\u001b[39m\u001b[38;5;124m\"\u001b[39m)\n\u001b[0;32m      5\u001b[0m fig\u001b[38;5;241m.\u001b[39mshow()\n",
      "\u001b[1;31mNameError\u001b[0m: name 'df' is not defined"
     ]
    }
   ],
   "source": [
    "import plotly.express as px\n",
    "\n",
    "# Histogram for Charging Duration distribution\n",
    "fig = px.histogram(df, x=\"Charging Duration (hours)\", nbins=30, title=\"Charging Duration Distribution\")\n",
    "fig.show()\n"
   ]
  },
  {
   "cell_type": "code",
   "execution_count": 14,
   "id": "a731b6fb",
   "metadata": {},
   "outputs": [
    {
     "ename": "NameError",
     "evalue": "name 'df' is not defined",
     "output_type": "error",
     "traceback": [
      "\u001b[1;31m---------------------------------------------------------------------------\u001b[0m",
      "\u001b[1;31mNameError\u001b[0m                                 Traceback (most recent call last)",
      "Cell \u001b[1;32mIn[14], line 4\u001b[0m\n\u001b[0;32m      1\u001b[0m \u001b[38;5;28;01mimport\u001b[39;00m \u001b[38;5;21;01mplotly\u001b[39;00m\u001b[38;5;21;01m.\u001b[39;00m\u001b[38;5;21;01mexpress\u001b[39;00m \u001b[38;5;28;01mas\u001b[39;00m \u001b[38;5;21;01mpx\u001b[39;00m\n\u001b[0;32m      3\u001b[0m \u001b[38;5;66;03m# Map plot for Charging Station Locations\u001b[39;00m\n\u001b[1;32m----> 4\u001b[0m station_usage \u001b[38;5;241m=\u001b[39m \u001b[43mdf\u001b[49m\u001b[38;5;241m.\u001b[39mgroupby(\u001b[38;5;124m'\u001b[39m\u001b[38;5;124mCharging Station Location\u001b[39m\u001b[38;5;124m'\u001b[39m)\u001b[38;5;241m.\u001b[39msize()\u001b[38;5;241m.\u001b[39mreset_index(name\u001b[38;5;241m=\u001b[39m\u001b[38;5;124m'\u001b[39m\u001b[38;5;124mCount\u001b[39m\u001b[38;5;124m'\u001b[39m)\n\u001b[0;32m      5\u001b[0m fig \u001b[38;5;241m=\u001b[39m px\u001b[38;5;241m.\u001b[39mscatter_geo(station_usage, locations\u001b[38;5;241m=\u001b[39m\u001b[38;5;124m\"\u001b[39m\u001b[38;5;124mCharging Station Location\u001b[39m\u001b[38;5;124m\"\u001b[39m, size\u001b[38;5;241m=\u001b[39m\u001b[38;5;124m\"\u001b[39m\u001b[38;5;124mCount\u001b[39m\u001b[38;5;124m\"\u001b[39m, \n\u001b[0;32m      6\u001b[0m                      title\u001b[38;5;241m=\u001b[39m\u001b[38;5;124m\"\u001b[39m\u001b[38;5;124mCharging Stations Usage by Location\u001b[39m\u001b[38;5;124m\"\u001b[39m, projection\u001b[38;5;241m=\u001b[39m\u001b[38;5;124m\"\u001b[39m\u001b[38;5;124mnatural earth\u001b[39m\u001b[38;5;124m\"\u001b[39m)\n\u001b[0;32m      7\u001b[0m fig\u001b[38;5;241m.\u001b[39mshow()\n",
      "\u001b[1;31mNameError\u001b[0m: name 'df' is not defined"
     ]
    }
   ],
   "source": [
    "import plotly.express as px\n",
    "\n",
    "# Map plot for Charging Station Locations\n",
    "station_usage = df.groupby('Charging Station Location').size().reset_index(name='Count')\n",
    "fig = px.scatter_geo(station_usage, locations=\"Charging Station Location\", size=\"Count\", \n",
    "                     title=\"Charging Stations Usage by Location\", projection=\"natural earth\")\n",
    "fig.show()\n"
   ]
  }
 ],
 "metadata": {
  "kernelspec": {
   "display_name": "base",
   "language": "python",
   "name": "python3"
  },
  "language_info": {
   "codemirror_mode": {
    "name": "ipython",
    "version": 3
   },
   "file_extension": ".py",
   "mimetype": "text/x-python",
   "name": "python",
   "nbconvert_exporter": "python",
   "pygments_lexer": "ipython3",
   "version": "3.12.9"
  }
 },
 "nbformat": 4,
 "nbformat_minor": 5
}
