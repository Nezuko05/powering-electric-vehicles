{
 "cells": [
  {
   "cell_type": "code",
   "execution_count": 8,
   "id": "419fcdd8",
   "metadata": {},
   "outputs": [
    {
     "name": "stdout",
     "output_type": "stream",
     "text": [
      "<class 'pandas.core.frame.DataFrame'>\n",
      "RangeIndex: 1320 entries, 0 to 1319\n",
      "Data columns (total 20 columns):\n",
      " #   Column                                    Non-Null Count  Dtype  \n",
      "---  ------                                    --------------  -----  \n",
      " 0   User ID                                   1320 non-null   object \n",
      " 1   Vehicle Model                             1320 non-null   object \n",
      " 2   Battery Capacity (kWh)                    1320 non-null   float64\n",
      " 3   Charging Station ID                       1320 non-null   object \n",
      " 4   Charging Station Location                 1320 non-null   object \n",
      " 5   Charging Start Time                       1320 non-null   object \n",
      " 6   Charging End Time                         1320 non-null   object \n",
      " 7   Energy Consumed (kWh)                     1320 non-null   float64\n",
      " 8   Charging Duration (hours)                 1320 non-null   float64\n",
      " 9   Charging Rate (kW)                        1320 non-null   float64\n",
      " 10  Charging Cost (USD)                       1320 non-null   float64\n",
      " 11  Time of Day                               1320 non-null   object \n",
      " 12  Day of Week                               1320 non-null   object \n",
      " 13  State of Charge (Start %)                 1320 non-null   float64\n",
      " 14  State of Charge (End %)                   1320 non-null   float64\n",
      " 15  Distance Driven (since last charge) (km)  1320 non-null   float64\n",
      " 16  Temperature (°C)                          1320 non-null   float64\n",
      " 17  Vehicle Age (years)                       1320 non-null   float64\n",
      " 18  Charger Type                              1320 non-null   object \n",
      " 19  User Type                                 1320 non-null   object \n",
      "dtypes: float64(10), object(10)\n",
      "memory usage: 206.4+ KB\n"
     ]
    },
    {
     "name": "stderr",
     "output_type": "stream",
     "text": [
      "C:\\Users\\DELL\\AppData\\Local\\Temp\\ipykernel_1776\\3693531763.py:11: FutureWarning:\n",
      "\n",
      "A value is trying to be set on a copy of a DataFrame or Series through chained assignment using an inplace method.\n",
      "The behavior will change in pandas 3.0. This inplace method will never work because the intermediate object on which we are setting values always behaves as a copy.\n",
      "\n",
      "For example, when doing 'df[col].method(value, inplace=True)', try using 'df.method({col: value}, inplace=True)' or df[col] = df[col].method(value) instead, to perform the operation inplace on the original object.\n",
      "\n",
      "\n",
      "\n",
      "C:\\Users\\DELL\\AppData\\Local\\Temp\\ipykernel_1776\\3693531763.py:15: FutureWarning:\n",
      "\n",
      "A value is trying to be set on a copy of a DataFrame or Series through chained assignment using an inplace method.\n",
      "The behavior will change in pandas 3.0. This inplace method will never work because the intermediate object on which we are setting values always behaves as a copy.\n",
      "\n",
      "For example, when doing 'df[col].method(value, inplace=True)', try using 'df.method({col: value}, inplace=True)' or df[col] = df[col].method(value) instead, to perform the operation inplace on the original object.\n",
      "\n",
      "\n",
      "\n",
      "C:\\Users\\DELL\\AppData\\Local\\Temp\\ipykernel_1776\\3693531763.py:18: FutureWarning:\n",
      "\n",
      "A value is trying to be set on a copy of a DataFrame or Series through chained assignment using an inplace method.\n",
      "The behavior will change in pandas 3.0. This inplace method will never work because the intermediate object on which we are setting values always behaves as a copy.\n",
      "\n",
      "For example, when doing 'df[col].method(value, inplace=True)', try using 'df.method({col: value}, inplace=True)' or df[col] = df[col].method(value) instead, to perform the operation inplace on the original object.\n",
      "\n",
      "\n",
      "\n"
     ]
    }
   ],
   "source": [
    "import pandas as pd\n",
    "import numpy as np\n",
    "import seaborn as sns\n",
    "import matplotlib.pyplot as plt\n",
    "import plotly.express as px\n",
    "\n",
    "\n",
    "df = pd.read_csv(r\"C:\\Users\\DELL\\Desktop\\PROJECT\\ev_charging_patterns dataset.csv\")\n",
    "\n",
    "avg_Energyconsumed=round(df['Energy Consumed (kWh)'].mean())\n",
    "df['Energy Consumed (kWh)'].fillna(avg_Energyconsumed, inplace=True)\n",
    "\n",
    "\n",
    "avg_Chargingrate=round(df['Charging Rate (kW)'].mean())\n",
    "df['Charging Rate (kW)'].fillna(avg_Chargingrate, inplace=True)\n",
    "\n",
    "avg_Distancedriven=round(df['Distance Driven (since last charge) (km)'].mean())\n",
    "df['Distance Driven (since last charge) (km)'].fillna(avg_Distancedriven, inplace=True)\n",
    "\n",
    "df.info()"
   ]
  },
  {
   "cell_type": "code",
   "execution_count": 9,
   "id": "90e05d7a",
   "metadata": {},
   "outputs": [
    {
     "data": {
      "application/vnd.plotly.v1+json": {
       "config": {
        "plotlyServerURL": "https://plot.ly"
       },
       "data": [
        {
         "hovertemplate": "User Type=%{x}<br>Avg. Charging Duration (hours)=%{y}<extra></extra>",
         "legendgroup": "Casual Driver",
         "marker": {
          "color": "#636efa",
          "pattern": {
           "shape": ""
          }
         },
         "name": "Casual Driver",
         "orientation": "v",
         "showlegend": true,
         "textposition": "auto",
         "type": "bar",
         "x": [
          "Casual Driver"
         ],
         "xaxis": "x",
         "y": {
          "bdata": "nwNuta9GAkA=",
          "dtype": "f8"
         },
         "yaxis": "y"
        },
        {
         "hovertemplate": "User Type=%{x}<br>Avg. Charging Duration (hours)=%{y}<extra></extra>",
         "legendgroup": "Commuter",
         "marker": {
          "color": "#EF553B",
          "pattern": {
           "shape": ""
          }
         },
         "name": "Commuter",
         "orientation": "v",
         "showlegend": true,
         "textposition": "auto",
         "type": "bar",
         "x": [
          "Commuter"
         ],
         "xaxis": "x",
         "y": {
          "bdata": "DHPP1/lwAkA=",
          "dtype": "f8"
         },
         "yaxis": "y"
        },
        {
         "hovertemplate": "User Type=%{x}<br>Avg. Charging Duration (hours)=%{y}<extra></extra>",
         "legendgroup": "Long-Distance Traveler",
         "marker": {
          "color": "#00cc96",
          "pattern": {
           "shape": ""
          }
         },
         "name": "Long-Distance Traveler",
         "orientation": "v",
         "showlegend": true,
         "textposition": "auto",
         "type": "bar",
         "x": [
          "Long-Distance Traveler"
         ],
         "xaxis": "x",
         "y": {
          "bdata": "Pw3U0fq6AUA=",
          "dtype": "f8"
         },
         "yaxis": "y"
        }
       ],
       "layout": {
        "barmode": "relative",
        "legend": {
         "title": {
          "text": "User Type"
         },
         "tracegroupgap": 0
        },
        "template": {
         "data": {
          "bar": [
           {
            "error_x": {
             "color": "#f2f5fa"
            },
            "error_y": {
             "color": "#f2f5fa"
            },
            "marker": {
             "line": {
              "color": "rgb(17,17,17)",
              "width": 0.5
             },
             "pattern": {
              "fillmode": "overlay",
              "size": 10,
              "solidity": 0.2
             }
            },
            "type": "bar"
           }
          ],
          "barpolar": [
           {
            "marker": {
             "line": {
              "color": "rgb(17,17,17)",
              "width": 0.5
             },
             "pattern": {
              "fillmode": "overlay",
              "size": 10,
              "solidity": 0.2
             }
            },
            "type": "barpolar"
           }
          ],
          "carpet": [
           {
            "aaxis": {
             "endlinecolor": "#A2B1C6",
             "gridcolor": "#506784",
             "linecolor": "#506784",
             "minorgridcolor": "#506784",
             "startlinecolor": "#A2B1C6"
            },
            "baxis": {
             "endlinecolor": "#A2B1C6",
             "gridcolor": "#506784",
             "linecolor": "#506784",
             "minorgridcolor": "#506784",
             "startlinecolor": "#A2B1C6"
            },
            "type": "carpet"
           }
          ],
          "choropleth": [
           {
            "colorbar": {
             "outlinewidth": 0,
             "ticks": ""
            },
            "type": "choropleth"
           }
          ],
          "contour": [
           {
            "colorbar": {
             "outlinewidth": 0,
             "ticks": ""
            },
            "colorscale": [
             [
              0,
              "#0d0887"
             ],
             [
              0.1111111111111111,
              "#46039f"
             ],
             [
              0.2222222222222222,
              "#7201a8"
             ],
             [
              0.3333333333333333,
              "#9c179e"
             ],
             [
              0.4444444444444444,
              "#bd3786"
             ],
             [
              0.5555555555555556,
              "#d8576b"
             ],
             [
              0.6666666666666666,
              "#ed7953"
             ],
             [
              0.7777777777777778,
              "#fb9f3a"
             ],
             [
              0.8888888888888888,
              "#fdca26"
             ],
             [
              1,
              "#f0f921"
             ]
            ],
            "type": "contour"
           }
          ],
          "contourcarpet": [
           {
            "colorbar": {
             "outlinewidth": 0,
             "ticks": ""
            },
            "type": "contourcarpet"
           }
          ],
          "heatmap": [
           {
            "colorbar": {
             "outlinewidth": 0,
             "ticks": ""
            },
            "colorscale": [
             [
              0,
              "#0d0887"
             ],
             [
              0.1111111111111111,
              "#46039f"
             ],
             [
              0.2222222222222222,
              "#7201a8"
             ],
             [
              0.3333333333333333,
              "#9c179e"
             ],
             [
              0.4444444444444444,
              "#bd3786"
             ],
             [
              0.5555555555555556,
              "#d8576b"
             ],
             [
              0.6666666666666666,
              "#ed7953"
             ],
             [
              0.7777777777777778,
              "#fb9f3a"
             ],
             [
              0.8888888888888888,
              "#fdca26"
             ],
             [
              1,
              "#f0f921"
             ]
            ],
            "type": "heatmap"
           }
          ],
          "histogram": [
           {
            "marker": {
             "pattern": {
              "fillmode": "overlay",
              "size": 10,
              "solidity": 0.2
             }
            },
            "type": "histogram"
           }
          ],
          "histogram2d": [
           {
            "colorbar": {
             "outlinewidth": 0,
             "ticks": ""
            },
            "colorscale": [
             [
              0,
              "#0d0887"
             ],
             [
              0.1111111111111111,
              "#46039f"
             ],
             [
              0.2222222222222222,
              "#7201a8"
             ],
             [
              0.3333333333333333,
              "#9c179e"
             ],
             [
              0.4444444444444444,
              "#bd3786"
             ],
             [
              0.5555555555555556,
              "#d8576b"
             ],
             [
              0.6666666666666666,
              "#ed7953"
             ],
             [
              0.7777777777777778,
              "#fb9f3a"
             ],
             [
              0.8888888888888888,
              "#fdca26"
             ],
             [
              1,
              "#f0f921"
             ]
            ],
            "type": "histogram2d"
           }
          ],
          "histogram2dcontour": [
           {
            "colorbar": {
             "outlinewidth": 0,
             "ticks": ""
            },
            "colorscale": [
             [
              0,
              "#0d0887"
             ],
             [
              0.1111111111111111,
              "#46039f"
             ],
             [
              0.2222222222222222,
              "#7201a8"
             ],
             [
              0.3333333333333333,
              "#9c179e"
             ],
             [
              0.4444444444444444,
              "#bd3786"
             ],
             [
              0.5555555555555556,
              "#d8576b"
             ],
             [
              0.6666666666666666,
              "#ed7953"
             ],
             [
              0.7777777777777778,
              "#fb9f3a"
             ],
             [
              0.8888888888888888,
              "#fdca26"
             ],
             [
              1,
              "#f0f921"
             ]
            ],
            "type": "histogram2dcontour"
           }
          ],
          "mesh3d": [
           {
            "colorbar": {
             "outlinewidth": 0,
             "ticks": ""
            },
            "type": "mesh3d"
           }
          ],
          "parcoords": [
           {
            "line": {
             "colorbar": {
              "outlinewidth": 0,
              "ticks": ""
             }
            },
            "type": "parcoords"
           }
          ],
          "pie": [
           {
            "automargin": true,
            "type": "pie"
           }
          ],
          "scatter": [
           {
            "marker": {
             "line": {
              "color": "#283442"
             }
            },
            "type": "scatter"
           }
          ],
          "scatter3d": [
           {
            "line": {
             "colorbar": {
              "outlinewidth": 0,
              "ticks": ""
             }
            },
            "marker": {
             "colorbar": {
              "outlinewidth": 0,
              "ticks": ""
             }
            },
            "type": "scatter3d"
           }
          ],
          "scattercarpet": [
           {
            "marker": {
             "colorbar": {
              "outlinewidth": 0,
              "ticks": ""
             }
            },
            "type": "scattercarpet"
           }
          ],
          "scattergeo": [
           {
            "marker": {
             "colorbar": {
              "outlinewidth": 0,
              "ticks": ""
             }
            },
            "type": "scattergeo"
           }
          ],
          "scattergl": [
           {
            "marker": {
             "line": {
              "color": "#283442"
             }
            },
            "type": "scattergl"
           }
          ],
          "scattermap": [
           {
            "marker": {
             "colorbar": {
              "outlinewidth": 0,
              "ticks": ""
             }
            },
            "type": "scattermap"
           }
          ],
          "scattermapbox": [
           {
            "marker": {
             "colorbar": {
              "outlinewidth": 0,
              "ticks": ""
             }
            },
            "type": "scattermapbox"
           }
          ],
          "scatterpolar": [
           {
            "marker": {
             "colorbar": {
              "outlinewidth": 0,
              "ticks": ""
             }
            },
            "type": "scatterpolar"
           }
          ],
          "scatterpolargl": [
           {
            "marker": {
             "colorbar": {
              "outlinewidth": 0,
              "ticks": ""
             }
            },
            "type": "scatterpolargl"
           }
          ],
          "scatterternary": [
           {
            "marker": {
             "colorbar": {
              "outlinewidth": 0,
              "ticks": ""
             }
            },
            "type": "scatterternary"
           }
          ],
          "surface": [
           {
            "colorbar": {
             "outlinewidth": 0,
             "ticks": ""
            },
            "colorscale": [
             [
              0,
              "#0d0887"
             ],
             [
              0.1111111111111111,
              "#46039f"
             ],
             [
              0.2222222222222222,
              "#7201a8"
             ],
             [
              0.3333333333333333,
              "#9c179e"
             ],
             [
              0.4444444444444444,
              "#bd3786"
             ],
             [
              0.5555555555555556,
              "#d8576b"
             ],
             [
              0.6666666666666666,
              "#ed7953"
             ],
             [
              0.7777777777777778,
              "#fb9f3a"
             ],
             [
              0.8888888888888888,
              "#fdca26"
             ],
             [
              1,
              "#f0f921"
             ]
            ],
            "type": "surface"
           }
          ],
          "table": [
           {
            "cells": {
             "fill": {
              "color": "#506784"
             },
             "line": {
              "color": "rgb(17,17,17)"
             }
            },
            "header": {
             "fill": {
              "color": "#2a3f5f"
             },
             "line": {
              "color": "rgb(17,17,17)"
             }
            },
            "type": "table"
           }
          ]
         },
         "layout": {
          "annotationdefaults": {
           "arrowcolor": "#f2f5fa",
           "arrowhead": 0,
           "arrowwidth": 1
          },
          "autotypenumbers": "strict",
          "coloraxis": {
           "colorbar": {
            "outlinewidth": 0,
            "ticks": ""
           }
          },
          "colorscale": {
           "diverging": [
            [
             0,
             "#8e0152"
            ],
            [
             0.1,
             "#c51b7d"
            ],
            [
             0.2,
             "#de77ae"
            ],
            [
             0.3,
             "#f1b6da"
            ],
            [
             0.4,
             "#fde0ef"
            ],
            [
             0.5,
             "#f7f7f7"
            ],
            [
             0.6,
             "#e6f5d0"
            ],
            [
             0.7,
             "#b8e186"
            ],
            [
             0.8,
             "#7fbc41"
            ],
            [
             0.9,
             "#4d9221"
            ],
            [
             1,
             "#276419"
            ]
           ],
           "sequential": [
            [
             0,
             "#0d0887"
            ],
            [
             0.1111111111111111,
             "#46039f"
            ],
            [
             0.2222222222222222,
             "#7201a8"
            ],
            [
             0.3333333333333333,
             "#9c179e"
            ],
            [
             0.4444444444444444,
             "#bd3786"
            ],
            [
             0.5555555555555556,
             "#d8576b"
            ],
            [
             0.6666666666666666,
             "#ed7953"
            ],
            [
             0.7777777777777778,
             "#fb9f3a"
            ],
            [
             0.8888888888888888,
             "#fdca26"
            ],
            [
             1,
             "#f0f921"
            ]
           ],
           "sequentialminus": [
            [
             0,
             "#0d0887"
            ],
            [
             0.1111111111111111,
             "#46039f"
            ],
            [
             0.2222222222222222,
             "#7201a8"
            ],
            [
             0.3333333333333333,
             "#9c179e"
            ],
            [
             0.4444444444444444,
             "#bd3786"
            ],
            [
             0.5555555555555556,
             "#d8576b"
            ],
            [
             0.6666666666666666,
             "#ed7953"
            ],
            [
             0.7777777777777778,
             "#fb9f3a"
            ],
            [
             0.8888888888888888,
             "#fdca26"
            ],
            [
             1,
             "#f0f921"
            ]
           ]
          },
          "colorway": [
           "#636efa",
           "#EF553B",
           "#00cc96",
           "#ab63fa",
           "#FFA15A",
           "#19d3f3",
           "#FF6692",
           "#B6E880",
           "#FF97FF",
           "#FECB52"
          ],
          "font": {
           "color": "#f2f5fa"
          },
          "geo": {
           "bgcolor": "rgb(17,17,17)",
           "lakecolor": "rgb(17,17,17)",
           "landcolor": "rgb(17,17,17)",
           "showlakes": true,
           "showland": true,
           "subunitcolor": "#506784"
          },
          "hoverlabel": {
           "align": "left"
          },
          "hovermode": "closest",
          "mapbox": {
           "style": "dark"
          },
          "paper_bgcolor": "rgb(17,17,17)",
          "plot_bgcolor": "rgb(17,17,17)",
          "polar": {
           "angularaxis": {
            "gridcolor": "#506784",
            "linecolor": "#506784",
            "ticks": ""
           },
           "bgcolor": "rgb(17,17,17)",
           "radialaxis": {
            "gridcolor": "#506784",
            "linecolor": "#506784",
            "ticks": ""
           }
          },
          "scene": {
           "xaxis": {
            "backgroundcolor": "rgb(17,17,17)",
            "gridcolor": "#506784",
            "gridwidth": 2,
            "linecolor": "#506784",
            "showbackground": true,
            "ticks": "",
            "zerolinecolor": "#C8D4E3"
           },
           "yaxis": {
            "backgroundcolor": "rgb(17,17,17)",
            "gridcolor": "#506784",
            "gridwidth": 2,
            "linecolor": "#506784",
            "showbackground": true,
            "ticks": "",
            "zerolinecolor": "#C8D4E3"
           },
           "zaxis": {
            "backgroundcolor": "rgb(17,17,17)",
            "gridcolor": "#506784",
            "gridwidth": 2,
            "linecolor": "#506784",
            "showbackground": true,
            "ticks": "",
            "zerolinecolor": "#C8D4E3"
           }
          },
          "shapedefaults": {
           "line": {
            "color": "#f2f5fa"
           }
          },
          "sliderdefaults": {
           "bgcolor": "#C8D4E3",
           "bordercolor": "rgb(17,17,17)",
           "borderwidth": 1,
           "tickwidth": 0
          },
          "ternary": {
           "aaxis": {
            "gridcolor": "#506784",
            "linecolor": "#506784",
            "ticks": ""
           },
           "baxis": {
            "gridcolor": "#506784",
            "linecolor": "#506784",
            "ticks": ""
           },
           "bgcolor": "rgb(17,17,17)",
           "caxis": {
            "gridcolor": "#506784",
            "linecolor": "#506784",
            "ticks": ""
           }
          },
          "title": {
           "x": 0.05
          },
          "updatemenudefaults": {
           "bgcolor": "#506784",
           "borderwidth": 0
          },
          "xaxis": {
           "automargin": true,
           "gridcolor": "#283442",
           "linecolor": "#506784",
           "ticks": "",
           "title": {
            "standoff": 15
           },
           "zerolinecolor": "#283442",
           "zerolinewidth": 2
          },
          "yaxis": {
           "automargin": true,
           "gridcolor": "#283442",
           "linecolor": "#506784",
           "ticks": "",
           "title": {
            "standoff": 15
           },
           "zerolinecolor": "#283442",
           "zerolinewidth": 2
          }
         }
        },
        "title": {
         "text": "Avg. Charging Duration by User Type"
        },
        "xaxis": {
         "anchor": "y",
         "categoryarray": [
          "Casual Driver",
          "Commuter",
          "Long-Distance Traveler"
         ],
         "categoryorder": "array",
         "domain": [
          0,
          1
         ],
         "title": {
          "text": "User Type"
         }
        },
        "yaxis": {
         "anchor": "x",
         "domain": [
          0,
          1
         ],
         "title": {
          "text": "Avg. Charging Duration (hours)"
         }
        }
       }
      }
     },
     "metadata": {},
     "output_type": "display_data"
    }
   ],
   "source": [
    "# Calculate the average charging duration by user type\n",
    "avg_charging_duration = df.groupby('User Type')['Charging Duration (hours)'].mean().reset_index()\n",
    "\n",
    "# Create a Plotly bar chart\n",
    "fig = px.bar(avg_charging_duration, \n",
    "             x='User Type', \n",
    "             y='Charging Duration (hours)', \n",
    "             title='Avg. Charging Duration by User Type',\n",
    "             labels={'Charging Duration (hours)': 'Avg. Charging Duration (hours)', 'User Type': 'User Type'},\n",
    "             color='User Type',template='plotly_dark',)\n",
    "\n",
    "# Show the plot\n",
    "fig.show()"
   ]
  },
  {
   "cell_type": "code",
   "execution_count": 10,
   "id": "422a0d19",
   "metadata": {},
   "outputs": [
    {
     "data": {
      "application/vnd.plotly.v1+json": {
       "config": {
        "plotlyServerURL": "https://plot.ly"
       },
       "data": [
        {
         "alignmentgroup": "True",
         "hovertemplate": "User Type=%{x}<br>Energy Consumed (kWh)=%{y}<extra></extra>",
         "legendgroup": "Commuter",
         "marker": {
          "color": "#636efa"
         },
         "name": "Commuter",
         "notched": false,
         "offsetgroup": "Commuter",
         "orientation": "v",
         "showlegend": true,
         "type": "box",
         "x": [
          "Commuter",
          "Commuter",
          "Commuter",
          "Commuter",
          "Commuter",
          "Commuter",
          "Commuter",
          "Commuter",
          "Commuter",
          "Commuter",
          "Commuter",
          "Commuter",
          "Commuter",
          "Commuter",
          "Commuter",
          "Commuter",
          "Commuter",
          "Commuter",
          "Commuter",
          "Commuter",
          "Commuter",
          "Commuter",
          "Commuter",
          "Commuter",
          "Commuter",
          "Commuter",
          "Commuter",
          "Commuter",
          "Commuter",
          "Commuter",
          "Commuter",
          "Commuter",
          "Commuter",
          "Commuter",
          "Commuter",
          "Commuter",
          "Commuter",
          "Commuter",
          "Commuter",
          "Commuter",
          "Commuter",
          "Commuter",
          "Commuter",
          "Commuter",
          "Commuter",
          "Commuter",
          "Commuter",
          "Commuter",
          "Commuter",
          "Commuter",
          "Commuter",
          "Commuter",
          "Commuter",
          "Commuter",
          "Commuter",
          "Commuter",
          "Commuter",
          "Commuter",
          "Commuter",
          "Commuter",
          "Commuter",
          "Commuter",
          "Commuter",
          "Commuter",
          "Commuter",
          "Commuter",
          "Commuter",
          "Commuter",
          "Commuter",
          "Commuter",
          "Commuter",
          "Commuter",
          "Commuter",
          "Commuter",
          "Commuter",
          "Commuter",
          "Commuter",
          "Commuter",
          "Commuter",
          "Commuter",
          "Commuter",
          "Commuter",
          "Commuter",
          "Commuter",
          "Commuter",
          "Commuter",
          "Commuter",
          "Commuter",
          "Commuter",
          "Commuter",
          "Commuter",
          "Commuter",
          "Commuter",
          "Commuter",
          "Commuter",
          "Commuter",
          "Commuter",
          "Commuter",
          "Commuter",
          "Commuter",
          "Commuter",
          "Commuter",
          "Commuter",
          "Commuter",
          "Commuter",
          "Commuter",
          "Commuter",
          "Commuter",
          "Commuter",
          "Commuter",
          "Commuter",
          "Commuter",
          "Commuter",
          "Commuter",
          "Commuter",
          "Commuter",
          "Commuter",
          "Commuter",
          "Commuter",
          "Commuter",
          "Commuter",
          "Commuter",
          "Commuter",
          "Commuter",
          "Commuter",
          "Commuter",
          "Commuter",
          "Commuter",
          "Commuter",
          "Commuter",
          "Commuter",
          "Commuter",
          "Commuter",
          "Commuter",
          "Commuter",
          "Commuter",
          "Commuter",
          "Commuter",
          "Commuter",
          "Commuter",
          "Commuter",
          "Commuter",
          "Commuter",
          "Commuter",
          "Commuter",
          "Commuter",
          "Commuter",
          "Commuter",
          "Commuter",
          "Commuter",
          "Commuter",
          "Commuter",
          "Commuter",
          "Commuter",
          "Commuter",
          "Commuter",
          "Commuter",
          "Commuter",
          "Commuter",
          "Commuter",
          "Commuter",
          "Commuter",
          "Commuter",
          "Commuter",
          "Commuter",
          "Commuter",
          "Commuter",
          "Commuter",
          "Commuter",
          "Commuter",
          "Commuter",
          "Commuter",
          "Commuter",
          "Commuter",
          "Commuter",
          "Commuter",
          "Commuter",
          "Commuter",
          "Commuter",
          "Commuter",
          "Commuter",
          "Commuter",
          "Commuter",
          "Commuter",
          "Commuter",
          "Commuter",
          "Commuter",
          "Commuter",
          "Commuter",
          "Commuter",
          "Commuter",
          "Commuter",
          "Commuter",
          "Commuter",
          "Commuter",
          "Commuter",
          "Commuter",
          "Commuter",
          "Commuter",
          "Commuter",
          "Commuter",
          "Commuter",
          "Commuter",
          "Commuter",
          "Commuter",
          "Commuter",
          "Commuter",
          "Commuter",
          "Commuter",
          "Commuter",
          "Commuter",
          "Commuter",
          "Commuter",
          "Commuter",
          "Commuter",
          "Commuter",
          "Commuter",
          "Commuter",
          "Commuter",
          "Commuter",
          "Commuter",
          "Commuter",
          "Commuter",
          "Commuter",
          "Commuter",
          "Commuter",
          "Commuter",
          "Commuter",
          "Commuter",
          "Commuter",
          "Commuter",
          "Commuter",
          "Commuter",
          "Commuter",
          "Commuter",
          "Commuter",
          "Commuter",
          "Commuter",
          "Commuter",
          "Commuter",
          "Commuter",
          "Commuter",
          "Commuter",
          "Commuter",
          "Commuter",
          "Commuter",
          "Commuter",
          "Commuter",
          "Commuter",
          "Commuter",
          "Commuter",
          "Commuter",
          "Commuter",
          "Commuter",
          "Commuter",
          "Commuter",
          "Commuter",
          "Commuter",
          "Commuter",
          "Commuter",
          "Commuter",
          "Commuter",
          "Commuter",
          "Commuter",
          "Commuter",
          "Commuter",
          "Commuter",
          "Commuter",
          "Commuter",
          "Commuter",
          "Commuter",
          "Commuter",
          "Commuter",
          "Commuter",
          "Commuter",
          "Commuter",
          "Commuter",
          "Commuter",
          "Commuter",
          "Commuter",
          "Commuter",
          "Commuter",
          "Commuter",
          "Commuter",
          "Commuter",
          "Commuter",
          "Commuter",
          "Commuter",
          "Commuter",
          "Commuter",
          "Commuter",
          "Commuter",
          "Commuter",
          "Commuter",
          "Commuter",
          "Commuter",
          "Commuter",
          "Commuter",
          "Commuter",
          "Commuter",
          "Commuter",
          "Commuter",
          "Commuter",
          "Commuter",
          "Commuter",
          "Commuter",
          "Commuter",
          "Commuter",
          "Commuter",
          "Commuter",
          "Commuter",
          "Commuter",
          "Commuter",
          "Commuter",
          "Commuter",
          "Commuter",
          "Commuter",
          "Commuter",
          "Commuter",
          "Commuter",
          "Commuter",
          "Commuter",
          "Commuter",
          "Commuter",
          "Commuter",
          "Commuter",
          "Commuter",
          "Commuter",
          "Commuter",
          "Commuter",
          "Commuter",
          "Commuter",
          "Commuter",
          "Commuter",
          "Commuter",
          "Commuter",
          "Commuter",
          "Commuter",
          "Commuter",
          "Commuter",
          "Commuter",
          "Commuter",
          "Commuter",
          "Commuter",
          "Commuter",
          "Commuter",
          "Commuter",
          "Commuter",
          "Commuter",
          "Commuter",
          "Commuter",
          "Commuter",
          "Commuter",
          "Commuter",
          "Commuter",
          "Commuter",
          "Commuter",
          "Commuter",
          "Commuter",
          "Commuter",
          "Commuter",
          "Commuter",
          "Commuter",
          "Commuter",
          "Commuter",
          "Commuter",
          "Commuter",
          "Commuter",
          "Commuter",
          "Commuter",
          "Commuter",
          "Commuter",
          "Commuter",
          "Commuter",
          "Commuter",
          "Commuter",
          "Commuter",
          "Commuter",
          "Commuter",
          "Commuter",
          "Commuter",
          "Commuter",
          "Commuter",
          "Commuter",
          "Commuter",
          "Commuter",
          "Commuter",
          "Commuter",
          "Commuter",
          "Commuter",
          "Commuter",
          "Commuter",
          "Commuter",
          "Commuter",
          "Commuter",
          "Commuter",
          "Commuter",
          "Commuter",
          "Commuter",
          "Commuter",
          "Commuter",
          "Commuter",
          "Commuter",
          "Commuter",
          "Commuter",
          "Commuter",
          "Commuter",
          "Commuter",
          "Commuter",
          "Commuter",
          "Commuter",
          "Commuter",
          "Commuter",
          "Commuter",
          "Commuter",
          "Commuter",
          "Commuter",
          "Commuter",
          "Commuter",
          "Commuter",
          "Commuter",
          "Commuter",
          "Commuter",
          "Commuter",
          "Commuter",
          "Commuter",
          "Commuter",
          "Commuter",
          "Commuter",
          "Commuter",
          "Commuter",
          "Commuter",
          "Commuter",
          "Commuter",
          "Commuter",
          "Commuter",
          "Commuter",
          "Commuter",
          "Commuter",
          "Commuter",
          "Commuter",
          "Commuter",
          "Commuter",
          "Commuter",
          "Commuter",
          "Commuter",
          "Commuter",
          "Commuter",
          "Commuter",
          "Commuter",
          "Commuter",
          "Commuter",
          "Commuter",
          "Commuter",
          "Commuter",
          "Commuter",
          "Commuter",
          "Commuter",
          "Commuter",
          "Commuter",
          "Commuter",
          "Commuter",
          "Commuter",
          "Commuter",
          "Commuter",
          "Commuter",
          "Commuter",
          "Commuter",
          "Commuter",
          "Commuter",
          "Commuter",
          "Commuter",
          "Commuter",
          "Commuter",
          "Commuter",
          "Commuter"
         ],
         "x0": " ",
         "xaxis": "x",
         "y": {
          "bdata": "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",
          "dtype": "f8"
         },
         "y0": " ",
         "yaxis": "y"
        },
        {
         "alignmentgroup": "True",
         "hovertemplate": "User Type=%{x}<br>Energy Consumed (kWh)=%{y}<extra></extra>",
         "legendgroup": "Casual Driver",
         "marker": {
          "color": "#EF553B"
         },
         "name": "Casual Driver",
         "notched": false,
         "offsetgroup": "Casual Driver",
         "orientation": "v",
         "showlegend": true,
         "type": "box",
         "x": [
          "Casual Driver",
          "Casual Driver",
          "Casual Driver",
          "Casual Driver",
          "Casual Driver",
          "Casual Driver",
          "Casual Driver",
          "Casual Driver",
          "Casual Driver",
          "Casual Driver",
          "Casual Driver",
          "Casual Driver",
          "Casual Driver",
          "Casual Driver",
          "Casual Driver",
          "Casual Driver",
          "Casual Driver",
          "Casual Driver",
          "Casual Driver",
          "Casual Driver",
          "Casual Driver",
          "Casual Driver",
          "Casual Driver",
          "Casual Driver",
          "Casual Driver",
          "Casual Driver",
          "Casual Driver",
          "Casual Driver",
          "Casual Driver",
          "Casual Driver",
          "Casual Driver",
          "Casual Driver",
          "Casual Driver",
          "Casual Driver",
          "Casual Driver",
          "Casual Driver",
          "Casual Driver",
          "Casual Driver",
          "Casual Driver",
          "Casual Driver",
          "Casual Driver",
          "Casual Driver",
          "Casual Driver",
          "Casual Driver",
          "Casual Driver",
          "Casual Driver",
          "Casual Driver",
          "Casual Driver",
          "Casual Driver",
          "Casual Driver",
          "Casual Driver",
          "Casual Driver",
          "Casual Driver",
          "Casual Driver",
          "Casual Driver",
          "Casual Driver",
          "Casual Driver",
          "Casual Driver",
          "Casual Driver",
          "Casual Driver",
          "Casual Driver",
          "Casual Driver",
          "Casual Driver",
          "Casual Driver",
          "Casual Driver",
          "Casual Driver",
          "Casual Driver",
          "Casual Driver",
          "Casual Driver",
          "Casual Driver",
          "Casual Driver",
          "Casual Driver",
          "Casual Driver",
          "Casual Driver",
          "Casual Driver",
          "Casual Driver",
          "Casual Driver",
          "Casual Driver",
          "Casual Driver",
          "Casual Driver",
          "Casual Driver",
          "Casual Driver",
          "Casual Driver",
          "Casual Driver",
          "Casual Driver",
          "Casual Driver",
          "Casual Driver",
          "Casual Driver",
          "Casual Driver",
          "Casual Driver",
          "Casual Driver",
          "Casual Driver",
          "Casual Driver",
          "Casual Driver",
          "Casual Driver",
          "Casual Driver",
          "Casual Driver",
          "Casual Driver",
          "Casual Driver",
          "Casual Driver",
          "Casual Driver",
          "Casual Driver",
          "Casual Driver",
          "Casual Driver",
          "Casual Driver",
          "Casual Driver",
          "Casual Driver",
          "Casual Driver",
          "Casual Driver",
          "Casual Driver",
          "Casual Driver",
          "Casual Driver",
          "Casual Driver",
          "Casual Driver",
          "Casual Driver",
          "Casual Driver",
          "Casual Driver",
          "Casual Driver",
          "Casual Driver",
          "Casual Driver",
          "Casual Driver",
          "Casual Driver",
          "Casual Driver",
          "Casual Driver",
          "Casual Driver",
          "Casual Driver",
          "Casual Driver",
          "Casual Driver",
          "Casual Driver",
          "Casual Driver",
          "Casual Driver",
          "Casual Driver",
          "Casual Driver",
          "Casual Driver",
          "Casual Driver",
          "Casual Driver",
          "Casual Driver",
          "Casual Driver",
          "Casual Driver",
          "Casual Driver",
          "Casual Driver",
          "Casual Driver",
          "Casual Driver",
          "Casual Driver",
          "Casual Driver",
          "Casual Driver",
          "Casual Driver",
          "Casual Driver",
          "Casual Driver",
          "Casual Driver",
          "Casual Driver",
          "Casual Driver",
          "Casual Driver",
          "Casual Driver",
          "Casual Driver",
          "Casual Driver",
          "Casual Driver",
          "Casual Driver",
          "Casual Driver",
          "Casual Driver",
          "Casual Driver",
          "Casual Driver",
          "Casual Driver",
          "Casual Driver",
          "Casual Driver",
          "Casual Driver",
          "Casual Driver",
          "Casual Driver",
          "Casual Driver",
          "Casual Driver",
          "Casual Driver",
          "Casual Driver",
          "Casual Driver",
          "Casual Driver",
          "Casual Driver",
          "Casual Driver",
          "Casual Driver",
          "Casual Driver",
          "Casual Driver",
          "Casual Driver",
          "Casual Driver",
          "Casual Driver",
          "Casual Driver",
          "Casual Driver",
          "Casual Driver",
          "Casual Driver",
          "Casual Driver",
          "Casual Driver",
          "Casual Driver",
          "Casual Driver",
          "Casual Driver",
          "Casual Driver",
          "Casual Driver",
          "Casual Driver",
          "Casual Driver",
          "Casual Driver",
          "Casual Driver",
          "Casual Driver",
          "Casual Driver",
          "Casual Driver",
          "Casual Driver",
          "Casual Driver",
          "Casual Driver",
          "Casual Driver",
          "Casual Driver",
          "Casual Driver",
          "Casual Driver",
          "Casual Driver",
          "Casual Driver",
          "Casual Driver",
          "Casual Driver",
          "Casual Driver",
          "Casual Driver",
          "Casual Driver",
          "Casual Driver",
          "Casual Driver",
          "Casual Driver",
          "Casual Driver",
          "Casual Driver",
          "Casual Driver",
          "Casual Driver",
          "Casual Driver",
          "Casual Driver",
          "Casual Driver",
          "Casual Driver",
          "Casual Driver",
          "Casual Driver",
          "Casual Driver",
          "Casual Driver",
          "Casual Driver",
          "Casual Driver",
          "Casual Driver",
          "Casual Driver",
          "Casual Driver",
          "Casual Driver",
          "Casual Driver",
          "Casual Driver",
          "Casual Driver",
          "Casual Driver",
          "Casual Driver",
          "Casual Driver",
          "Casual Driver",
          "Casual Driver",
          "Casual Driver",
          "Casual Driver",
          "Casual Driver",
          "Casual Driver",
          "Casual Driver",
          "Casual Driver",
          "Casual Driver",
          "Casual Driver",
          "Casual Driver",
          "Casual Driver",
          "Casual Driver",
          "Casual Driver",
          "Casual Driver",
          "Casual Driver",
          "Casual Driver",
          "Casual Driver",
          "Casual Driver",
          "Casual Driver",
          "Casual Driver",
          "Casual Driver",
          "Casual Driver",
          "Casual Driver",
          "Casual Driver",
          "Casual Driver",
          "Casual Driver",
          "Casual Driver",
          "Casual Driver",
          "Casual Driver",
          "Casual Driver",
          "Casual Driver",
          "Casual Driver",
          "Casual Driver",
          "Casual Driver",
          "Casual Driver",
          "Casual Driver",
          "Casual Driver",
          "Casual Driver",
          "Casual Driver",
          "Casual Driver",
          "Casual Driver",
          "Casual Driver",
          "Casual Driver",
          "Casual Driver",
          "Casual Driver",
          "Casual Driver",
          "Casual Driver",
          "Casual Driver",
          "Casual Driver",
          "Casual Driver",
          "Casual Driver",
          "Casual Driver",
          "Casual Driver",
          "Casual Driver",
          "Casual Driver",
          "Casual Driver",
          "Casual Driver",
          "Casual Driver",
          "Casual Driver",
          "Casual Driver",
          "Casual Driver",
          "Casual Driver",
          "Casual Driver",
          "Casual Driver",
          "Casual Driver",
          "Casual Driver",
          "Casual Driver",
          "Casual Driver",
          "Casual Driver",
          "Casual Driver",
          "Casual Driver",
          "Casual Driver",
          "Casual Driver",
          "Casual Driver",
          "Casual Driver",
          "Casual Driver",
          "Casual Driver",
          "Casual Driver",
          "Casual Driver",
          "Casual Driver",
          "Casual Driver",
          "Casual Driver",
          "Casual Driver",
          "Casual Driver",
          "Casual Driver",
          "Casual Driver",
          "Casual Driver",
          "Casual Driver",
          "Casual Driver",
          "Casual Driver",
          "Casual Driver",
          "Casual Driver",
          "Casual Driver",
          "Casual Driver",
          "Casual Driver",
          "Casual Driver",
          "Casual Driver",
          "Casual Driver",
          "Casual Driver",
          "Casual Driver",
          "Casual Driver",
          "Casual Driver",
          "Casual Driver",
          "Casual Driver",
          "Casual Driver",
          "Casual Driver",
          "Casual Driver",
          "Casual Driver",
          "Casual Driver",
          "Casual Driver",
          "Casual Driver",
          "Casual Driver",
          "Casual Driver",
          "Casual Driver",
          "Casual Driver",
          "Casual Driver",
          "Casual Driver",
          "Casual Driver",
          "Casual Driver",
          "Casual Driver",
          "Casual Driver",
          "Casual Driver",
          "Casual Driver",
          "Casual Driver",
          "Casual Driver",
          "Casual Driver",
          "Casual Driver",
          "Casual Driver",
          "Casual Driver",
          "Casual Driver",
          "Casual Driver",
          "Casual Driver",
          "Casual Driver",
          "Casual Driver",
          "Casual Driver",
          "Casual Driver",
          "Casual Driver",
          "Casual Driver",
          "Casual Driver",
          "Casual Driver",
          "Casual Driver",
          "Casual Driver",
          "Casual Driver",
          "Casual Driver",
          "Casual Driver",
          "Casual Driver",
          "Casual Driver",
          "Casual Driver",
          "Casual Driver",
          "Casual Driver",
          "Casual Driver",
          "Casual Driver",
          "Casual Driver",
          "Casual Driver",
          "Casual Driver",
          "Casual Driver",
          "Casual Driver",
          "Casual Driver",
          "Casual Driver",
          "Casual Driver",
          "Casual Driver",
          "Casual Driver",
          "Casual Driver",
          "Casual Driver",
          "Casual Driver"
         ],
         "x0": " ",
         "xaxis": "x",
         "y": {
          "bdata": "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",
          "dtype": "f8"
         },
         "y0": " ",
         "yaxis": "y"
        },
        {
         "alignmentgroup": "True",
         "hovertemplate": "User Type=%{x}<br>Energy Consumed (kWh)=%{y}<extra></extra>",
         "legendgroup": "Long-Distance Traveler",
         "marker": {
          "color": "#00cc96"
         },
         "name": "Long-Distance Traveler",
         "notched": false,
         "offsetgroup": "Long-Distance Traveler",
         "orientation": "v",
         "showlegend": true,
         "type": "box",
         "x": [
          "Long-Distance Traveler",
          "Long-Distance Traveler",
          "Long-Distance Traveler",
          "Long-Distance Traveler",
          "Long-Distance Traveler",
          "Long-Distance Traveler",
          "Long-Distance Traveler",
          "Long-Distance Traveler",
          "Long-Distance Traveler",
          "Long-Distance Traveler",
          "Long-Distance Traveler",
          "Long-Distance Traveler",
          "Long-Distance Traveler",
          "Long-Distance Traveler",
          "Long-Distance Traveler",
          "Long-Distance Traveler",
          "Long-Distance Traveler",
          "Long-Distance Traveler",
          "Long-Distance Traveler",
          "Long-Distance Traveler",
          "Long-Distance Traveler",
          "Long-Distance Traveler",
          "Long-Distance Traveler",
          "Long-Distance Traveler",
          "Long-Distance Traveler",
          "Long-Distance Traveler",
          "Long-Distance Traveler",
          "Long-Distance Traveler",
          "Long-Distance Traveler",
          "Long-Distance Traveler",
          "Long-Distance Traveler",
          "Long-Distance Traveler",
          "Long-Distance Traveler",
          "Long-Distance Traveler",
          "Long-Distance Traveler",
          "Long-Distance Traveler",
          "Long-Distance Traveler",
          "Long-Distance Traveler",
          "Long-Distance Traveler",
          "Long-Distance Traveler",
          "Long-Distance Traveler",
          "Long-Distance Traveler",
          "Long-Distance Traveler",
          "Long-Distance Traveler",
          "Long-Distance Traveler",
          "Long-Distance Traveler",
          "Long-Distance Traveler",
          "Long-Distance Traveler",
          "Long-Distance Traveler",
          "Long-Distance Traveler",
          "Long-Distance Traveler",
          "Long-Distance Traveler",
          "Long-Distance Traveler",
          "Long-Distance Traveler",
          "Long-Distance Traveler",
          "Long-Distance Traveler",
          "Long-Distance Traveler",
          "Long-Distance Traveler",
          "Long-Distance Traveler",
          "Long-Distance Traveler",
          "Long-Distance Traveler",
          "Long-Distance Traveler",
          "Long-Distance Traveler",
          "Long-Distance Traveler",
          "Long-Distance Traveler",
          "Long-Distance Traveler",
          "Long-Distance Traveler",
          "Long-Distance Traveler",
          "Long-Distance Traveler",
          "Long-Distance Traveler",
          "Long-Distance Traveler",
          "Long-Distance Traveler",
          "Long-Distance Traveler",
          "Long-Distance Traveler",
          "Long-Distance Traveler",
          "Long-Distance Traveler",
          "Long-Distance Traveler",
          "Long-Distance Traveler",
          "Long-Distance Traveler",
          "Long-Distance Traveler",
          "Long-Distance Traveler",
          "Long-Distance Traveler",
          "Long-Distance Traveler",
          "Long-Distance Traveler",
          "Long-Distance Traveler",
          "Long-Distance Traveler",
          "Long-Distance Traveler",
          "Long-Distance Traveler",
          "Long-Distance Traveler",
          "Long-Distance Traveler",
          "Long-Distance Traveler",
          "Long-Distance Traveler",
          "Long-Distance Traveler",
          "Long-Distance Traveler",
          "Long-Distance Traveler",
          "Long-Distance Traveler",
          "Long-Distance Traveler",
          "Long-Distance Traveler",
          "Long-Distance Traveler",
          "Long-Distance Traveler",
          "Long-Distance Traveler",
          "Long-Distance Traveler",
          "Long-Distance Traveler",
          "Long-Distance Traveler",
          "Long-Distance Traveler",
          "Long-Distance Traveler",
          "Long-Distance Traveler",
          "Long-Distance Traveler",
          "Long-Distance Traveler",
          "Long-Distance Traveler",
          "Long-Distance Traveler",
          "Long-Distance Traveler",
          "Long-Distance Traveler",
          "Long-Distance Traveler",
          "Long-Distance Traveler",
          "Long-Distance Traveler",
          "Long-Distance Traveler",
          "Long-Distance Traveler",
          "Long-Distance Traveler",
          "Long-Distance Traveler",
          "Long-Distance Traveler",
          "Long-Distance Traveler",
          "Long-Distance Traveler",
          "Long-Distance Traveler",
          "Long-Distance Traveler",
          "Long-Distance Traveler",
          "Long-Distance Traveler",
          "Long-Distance Traveler",
          "Long-Distance Traveler",
          "Long-Distance Traveler",
          "Long-Distance Traveler",
          "Long-Distance Traveler",
          "Long-Distance Traveler",
          "Long-Distance Traveler",
          "Long-Distance Traveler",
          "Long-Distance Traveler",
          "Long-Distance Traveler",
          "Long-Distance Traveler",
          "Long-Distance Traveler",
          "Long-Distance Traveler",
          "Long-Distance Traveler",
          "Long-Distance Traveler",
          "Long-Distance Traveler",
          "Long-Distance Traveler",
          "Long-Distance Traveler",
          "Long-Distance Traveler",
          "Long-Distance Traveler",
          "Long-Distance Traveler",
          "Long-Distance Traveler",
          "Long-Distance Traveler",
          "Long-Distance Traveler",
          "Long-Distance Traveler",
          "Long-Distance Traveler",
          "Long-Distance Traveler",
          "Long-Distance Traveler",
          "Long-Distance Traveler",
          "Long-Distance Traveler",
          "Long-Distance Traveler",
          "Long-Distance Traveler",
          "Long-Distance Traveler",
          "Long-Distance Traveler",
          "Long-Distance Traveler",
          "Long-Distance Traveler",
          "Long-Distance Traveler",
          "Long-Distance Traveler",
          "Long-Distance Traveler",
          "Long-Distance Traveler",
          "Long-Distance Traveler",
          "Long-Distance Traveler",
          "Long-Distance Traveler",
          "Long-Distance Traveler",
          "Long-Distance Traveler",
          "Long-Distance Traveler",
          "Long-Distance Traveler",
          "Long-Distance Traveler",
          "Long-Distance Traveler",
          "Long-Distance Traveler",
          "Long-Distance Traveler",
          "Long-Distance Traveler",
          "Long-Distance Traveler",
          "Long-Distance Traveler",
          "Long-Distance Traveler",
          "Long-Distance Traveler",
          "Long-Distance Traveler",
          "Long-Distance Traveler",
          "Long-Distance Traveler",
          "Long-Distance Traveler",
          "Long-Distance Traveler",
          "Long-Distance Traveler",
          "Long-Distance Traveler",
          "Long-Distance Traveler",
          "Long-Distance Traveler",
          "Long-Distance Traveler",
          "Long-Distance Traveler",
          "Long-Distance Traveler",
          "Long-Distance Traveler",
          "Long-Distance Traveler",
          "Long-Distance Traveler",
          "Long-Distance Traveler",
          "Long-Distance Traveler",
          "Long-Distance Traveler",
          "Long-Distance Traveler",
          "Long-Distance Traveler",
          "Long-Distance Traveler",
          "Long-Distance Traveler",
          "Long-Distance Traveler",
          "Long-Distance Traveler",
          "Long-Distance Traveler",
          "Long-Distance Traveler",
          "Long-Distance Traveler",
          "Long-Distance Traveler",
          "Long-Distance Traveler",
          "Long-Distance Traveler",
          "Long-Distance Traveler",
          "Long-Distance Traveler",
          "Long-Distance Traveler",
          "Long-Distance Traveler",
          "Long-Distance Traveler",
          "Long-Distance Traveler",
          "Long-Distance Traveler",
          "Long-Distance Traveler",
          "Long-Distance Traveler",
          "Long-Distance Traveler",
          "Long-Distance Traveler",
          "Long-Distance Traveler",
          "Long-Distance Traveler",
          "Long-Distance Traveler",
          "Long-Distance Traveler",
          "Long-Distance Traveler",
          "Long-Distance Traveler",
          "Long-Distance Traveler",
          "Long-Distance Traveler",
          "Long-Distance Traveler",
          "Long-Distance Traveler",
          "Long-Distance Traveler",
          "Long-Distance Traveler",
          "Long-Distance Traveler",
          "Long-Distance Traveler",
          "Long-Distance Traveler",
          "Long-Distance Traveler",
          "Long-Distance Traveler",
          "Long-Distance Traveler",
          "Long-Distance Traveler",
          "Long-Distance Traveler",
          "Long-Distance Traveler",
          "Long-Distance Traveler",
          "Long-Distance Traveler",
          "Long-Distance Traveler",
          "Long-Distance Traveler",
          "Long-Distance Traveler",
          "Long-Distance Traveler",
          "Long-Distance Traveler",
          "Long-Distance Traveler",
          "Long-Distance Traveler",
          "Long-Distance Traveler",
          "Long-Distance Traveler",
          "Long-Distance Traveler",
          "Long-Distance Traveler",
          "Long-Distance Traveler",
          "Long-Distance Traveler",
          "Long-Distance Traveler",
          "Long-Distance Traveler",
          "Long-Distance Traveler",
          "Long-Distance Traveler",
          "Long-Distance Traveler",
          "Long-Distance Traveler",
          "Long-Distance Traveler",
          "Long-Distance Traveler",
          "Long-Distance Traveler",
          "Long-Distance Traveler",
          "Long-Distance Traveler",
          "Long-Distance Traveler",
          "Long-Distance Traveler",
          "Long-Distance Traveler",
          "Long-Distance Traveler",
          "Long-Distance Traveler",
          "Long-Distance Traveler",
          "Long-Distance Traveler",
          "Long-Distance Traveler",
          "Long-Distance Traveler",
          "Long-Distance Traveler",
          "Long-Distance Traveler",
          "Long-Distance Traveler",
          "Long-Distance Traveler",
          "Long-Distance Traveler",
          "Long-Distance Traveler",
          "Long-Distance Traveler",
          "Long-Distance Traveler",
          "Long-Distance Traveler",
          "Long-Distance Traveler",
          "Long-Distance Traveler",
          "Long-Distance Traveler",
          "Long-Distance Traveler",
          "Long-Distance Traveler",
          "Long-Distance Traveler",
          "Long-Distance Traveler",
          "Long-Distance Traveler",
          "Long-Distance Traveler",
          "Long-Distance Traveler",
          "Long-Distance Traveler",
          "Long-Distance Traveler",
          "Long-Distance Traveler",
          "Long-Distance Traveler",
          "Long-Distance Traveler",
          "Long-Distance Traveler",
          "Long-Distance Traveler",
          "Long-Distance Traveler",
          "Long-Distance Traveler",
          "Long-Distance Traveler",
          "Long-Distance Traveler",
          "Long-Distance Traveler",
          "Long-Distance Traveler",
          "Long-Distance Traveler",
          "Long-Distance Traveler",
          "Long-Distance Traveler",
          "Long-Distance Traveler",
          "Long-Distance Traveler",
          "Long-Distance Traveler",
          "Long-Distance Traveler",
          "Long-Distance Traveler",
          "Long-Distance Traveler",
          "Long-Distance Traveler",
          "Long-Distance Traveler",
          "Long-Distance Traveler",
          "Long-Distance Traveler",
          "Long-Distance Traveler",
          "Long-Distance Traveler",
          "Long-Distance Traveler",
          "Long-Distance Traveler",
          "Long-Distance Traveler",
          "Long-Distance Traveler",
          "Long-Distance Traveler",
          "Long-Distance Traveler",
          "Long-Distance Traveler",
          "Long-Distance Traveler",
          "Long-Distance Traveler",
          "Long-Distance Traveler",
          "Long-Distance Traveler",
          "Long-Distance Traveler",
          "Long-Distance Traveler",
          "Long-Distance Traveler",
          "Long-Distance Traveler",
          "Long-Distance Traveler",
          "Long-Distance Traveler",
          "Long-Distance Traveler",
          "Long-Distance Traveler",
          "Long-Distance Traveler",
          "Long-Distance Traveler",
          "Long-Distance Traveler",
          "Long-Distance Traveler",
          "Long-Distance Traveler",
          "Long-Distance Traveler",
          "Long-Distance Traveler",
          "Long-Distance Traveler",
          "Long-Distance Traveler",
          "Long-Distance Traveler",
          "Long-Distance Traveler",
          "Long-Distance Traveler",
          "Long-Distance Traveler",
          "Long-Distance Traveler",
          "Long-Distance Traveler",
          "Long-Distance Traveler",
          "Long-Distance Traveler",
          "Long-Distance Traveler",
          "Long-Distance Traveler",
          "Long-Distance Traveler",
          "Long-Distance Traveler",
          "Long-Distance Traveler",
          "Long-Distance Traveler",
          "Long-Distance Traveler",
          "Long-Distance Traveler",
          "Long-Distance Traveler",
          "Long-Distance Traveler",
          "Long-Distance Traveler",
          "Long-Distance Traveler",
          "Long-Distance Traveler",
          "Long-Distance Traveler",
          "Long-Distance Traveler",
          "Long-Distance Traveler",
          "Long-Distance Traveler",
          "Long-Distance Traveler",
          "Long-Distance Traveler",
          "Long-Distance Traveler",
          "Long-Distance Traveler",
          "Long-Distance Traveler",
          "Long-Distance Traveler",
          "Long-Distance Traveler",
          "Long-Distance Traveler",
          "Long-Distance Traveler",
          "Long-Distance Traveler",
          "Long-Distance Traveler",
          "Long-Distance Traveler",
          "Long-Distance Traveler",
          "Long-Distance Traveler",
          "Long-Distance Traveler",
          "Long-Distance Traveler",
          "Long-Distance Traveler",
          "Long-Distance Traveler",
          "Long-Distance Traveler",
          "Long-Distance Traveler",
          "Long-Distance Traveler",
          "Long-Distance Traveler",
          "Long-Distance Traveler",
          "Long-Distance Traveler",
          "Long-Distance Traveler",
          "Long-Distance Traveler",
          "Long-Distance Traveler",
          "Long-Distance Traveler",
          "Long-Distance Traveler",
          "Long-Distance Traveler",
          "Long-Distance Traveler",
          "Long-Distance Traveler",
          "Long-Distance Traveler",
          "Long-Distance Traveler",
          "Long-Distance Traveler",
          "Long-Distance Traveler",
          "Long-Distance Traveler",
          "Long-Distance Traveler",
          "Long-Distance Traveler",
          "Long-Distance Traveler",
          "Long-Distance Traveler",
          "Long-Distance Traveler",
          "Long-Distance Traveler",
          "Long-Distance Traveler",
          "Long-Distance Traveler",
          "Long-Distance Traveler",
          "Long-Distance Traveler",
          "Long-Distance Traveler",
          "Long-Distance Traveler",
          "Long-Distance Traveler",
          "Long-Distance Traveler",
          "Long-Distance Traveler",
          "Long-Distance Traveler",
          "Long-Distance Traveler",
          "Long-Distance Traveler",
          "Long-Distance Traveler",
          "Long-Distance Traveler"
         ],
         "x0": " ",
         "xaxis": "x",
         "y": {
          "bdata": "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",
          "dtype": "f8"
         },
         "y0": " ",
         "yaxis": "y"
        }
       ],
       "layout": {
        "boxmode": "overlay",
        "legend": {
         "title": {
          "text": "User Type"
         },
         "tracegroupgap": 0
        },
        "template": {
         "data": {
          "bar": [
           {
            "error_x": {
             "color": "#f2f5fa"
            },
            "error_y": {
             "color": "#f2f5fa"
            },
            "marker": {
             "line": {
              "color": "rgb(17,17,17)",
              "width": 0.5
             },
             "pattern": {
              "fillmode": "overlay",
              "size": 10,
              "solidity": 0.2
             }
            },
            "type": "bar"
           }
          ],
          "barpolar": [
           {
            "marker": {
             "line": {
              "color": "rgb(17,17,17)",
              "width": 0.5
             },
             "pattern": {
              "fillmode": "overlay",
              "size": 10,
              "solidity": 0.2
             }
            },
            "type": "barpolar"
           }
          ],
          "carpet": [
           {
            "aaxis": {
             "endlinecolor": "#A2B1C6",
             "gridcolor": "#506784",
             "linecolor": "#506784",
             "minorgridcolor": "#506784",
             "startlinecolor": "#A2B1C6"
            },
            "baxis": {
             "endlinecolor": "#A2B1C6",
             "gridcolor": "#506784",
             "linecolor": "#506784",
             "minorgridcolor": "#506784",
             "startlinecolor": "#A2B1C6"
            },
            "type": "carpet"
           }
          ],
          "choropleth": [
           {
            "colorbar": {
             "outlinewidth": 0,
             "ticks": ""
            },
            "type": "choropleth"
           }
          ],
          "contour": [
           {
            "colorbar": {
             "outlinewidth": 0,
             "ticks": ""
            },
            "colorscale": [
             [
              0,
              "#0d0887"
             ],
             [
              0.1111111111111111,
              "#46039f"
             ],
             [
              0.2222222222222222,
              "#7201a8"
             ],
             [
              0.3333333333333333,
              "#9c179e"
             ],
             [
              0.4444444444444444,
              "#bd3786"
             ],
             [
              0.5555555555555556,
              "#d8576b"
             ],
             [
              0.6666666666666666,
              "#ed7953"
             ],
             [
              0.7777777777777778,
              "#fb9f3a"
             ],
             [
              0.8888888888888888,
              "#fdca26"
             ],
             [
              1,
              "#f0f921"
             ]
            ],
            "type": "contour"
           }
          ],
          "contourcarpet": [
           {
            "colorbar": {
             "outlinewidth": 0,
             "ticks": ""
            },
            "type": "contourcarpet"
           }
          ],
          "heatmap": [
           {
            "colorbar": {
             "outlinewidth": 0,
             "ticks": ""
            },
            "colorscale": [
             [
              0,
              "#0d0887"
             ],
             [
              0.1111111111111111,
              "#46039f"
             ],
             [
              0.2222222222222222,
              "#7201a8"
             ],
             [
              0.3333333333333333,
              "#9c179e"
             ],
             [
              0.4444444444444444,
              "#bd3786"
             ],
             [
              0.5555555555555556,
              "#d8576b"
             ],
             [
              0.6666666666666666,
              "#ed7953"
             ],
             [
              0.7777777777777778,
              "#fb9f3a"
             ],
             [
              0.8888888888888888,
              "#fdca26"
             ],
             [
              1,
              "#f0f921"
             ]
            ],
            "type": "heatmap"
           }
          ],
          "histogram": [
           {
            "marker": {
             "pattern": {
              "fillmode": "overlay",
              "size": 10,
              "solidity": 0.2
             }
            },
            "type": "histogram"
           }
          ],
          "histogram2d": [
           {
            "colorbar": {
             "outlinewidth": 0,
             "ticks": ""
            },
            "colorscale": [
             [
              0,
              "#0d0887"
             ],
             [
              0.1111111111111111,
              "#46039f"
             ],
             [
              0.2222222222222222,
              "#7201a8"
             ],
             [
              0.3333333333333333,
              "#9c179e"
             ],
             [
              0.4444444444444444,
              "#bd3786"
             ],
             [
              0.5555555555555556,
              "#d8576b"
             ],
             [
              0.6666666666666666,
              "#ed7953"
             ],
             [
              0.7777777777777778,
              "#fb9f3a"
             ],
             [
              0.8888888888888888,
              "#fdca26"
             ],
             [
              1,
              "#f0f921"
             ]
            ],
            "type": "histogram2d"
           }
          ],
          "histogram2dcontour": [
           {
            "colorbar": {
             "outlinewidth": 0,
             "ticks": ""
            },
            "colorscale": [
             [
              0,
              "#0d0887"
             ],
             [
              0.1111111111111111,
              "#46039f"
             ],
             [
              0.2222222222222222,
              "#7201a8"
             ],
             [
              0.3333333333333333,
              "#9c179e"
             ],
             [
              0.4444444444444444,
              "#bd3786"
             ],
             [
              0.5555555555555556,
              "#d8576b"
             ],
             [
              0.6666666666666666,
              "#ed7953"
             ],
             [
              0.7777777777777778,
              "#fb9f3a"
             ],
             [
              0.8888888888888888,
              "#fdca26"
             ],
             [
              1,
              "#f0f921"
             ]
            ],
            "type": "histogram2dcontour"
           }
          ],
          "mesh3d": [
           {
            "colorbar": {
             "outlinewidth": 0,
             "ticks": ""
            },
            "type": "mesh3d"
           }
          ],
          "parcoords": [
           {
            "line": {
             "colorbar": {
              "outlinewidth": 0,
              "ticks": ""
             }
            },
            "type": "parcoords"
           }
          ],
          "pie": [
           {
            "automargin": true,
            "type": "pie"
           }
          ],
          "scatter": [
           {
            "marker": {
             "line": {
              "color": "#283442"
             }
            },
            "type": "scatter"
           }
          ],
          "scatter3d": [
           {
            "line": {
             "colorbar": {
              "outlinewidth": 0,
              "ticks": ""
             }
            },
            "marker": {
             "colorbar": {
              "outlinewidth": 0,
              "ticks": ""
             }
            },
            "type": "scatter3d"
           }
          ],
          "scattercarpet": [
           {
            "marker": {
             "colorbar": {
              "outlinewidth": 0,
              "ticks": ""
             }
            },
            "type": "scattercarpet"
           }
          ],
          "scattergeo": [
           {
            "marker": {
             "colorbar": {
              "outlinewidth": 0,
              "ticks": ""
             }
            },
            "type": "scattergeo"
           }
          ],
          "scattergl": [
           {
            "marker": {
             "line": {
              "color": "#283442"
             }
            },
            "type": "scattergl"
           }
          ],
          "scattermap": [
           {
            "marker": {
             "colorbar": {
              "outlinewidth": 0,
              "ticks": ""
             }
            },
            "type": "scattermap"
           }
          ],
          "scattermapbox": [
           {
            "marker": {
             "colorbar": {
              "outlinewidth": 0,
              "ticks": ""
             }
            },
            "type": "scattermapbox"
           }
          ],
          "scatterpolar": [
           {
            "marker": {
             "colorbar": {
              "outlinewidth": 0,
              "ticks": ""
             }
            },
            "type": "scatterpolar"
           }
          ],
          "scatterpolargl": [
           {
            "marker": {
             "colorbar": {
              "outlinewidth": 0,
              "ticks": ""
             }
            },
            "type": "scatterpolargl"
           }
          ],
          "scatterternary": [
           {
            "marker": {
             "colorbar": {
              "outlinewidth": 0,
              "ticks": ""
             }
            },
            "type": "scatterternary"
           }
          ],
          "surface": [
           {
            "colorbar": {
             "outlinewidth": 0,
             "ticks": ""
            },
            "colorscale": [
             [
              0,
              "#0d0887"
             ],
             [
              0.1111111111111111,
              "#46039f"
             ],
             [
              0.2222222222222222,
              "#7201a8"
             ],
             [
              0.3333333333333333,
              "#9c179e"
             ],
             [
              0.4444444444444444,
              "#bd3786"
             ],
             [
              0.5555555555555556,
              "#d8576b"
             ],
             [
              0.6666666666666666,
              "#ed7953"
             ],
             [
              0.7777777777777778,
              "#fb9f3a"
             ],
             [
              0.8888888888888888,
              "#fdca26"
             ],
             [
              1,
              "#f0f921"
             ]
            ],
            "type": "surface"
           }
          ],
          "table": [
           {
            "cells": {
             "fill": {
              "color": "#506784"
             },
             "line": {
              "color": "rgb(17,17,17)"
             }
            },
            "header": {
             "fill": {
              "color": "#2a3f5f"
             },
             "line": {
              "color": "rgb(17,17,17)"
             }
            },
            "type": "table"
           }
          ]
         },
         "layout": {
          "annotationdefaults": {
           "arrowcolor": "#f2f5fa",
           "arrowhead": 0,
           "arrowwidth": 1
          },
          "autotypenumbers": "strict",
          "coloraxis": {
           "colorbar": {
            "outlinewidth": 0,
            "ticks": ""
           }
          },
          "colorscale": {
           "diverging": [
            [
             0,
             "#8e0152"
            ],
            [
             0.1,
             "#c51b7d"
            ],
            [
             0.2,
             "#de77ae"
            ],
            [
             0.3,
             "#f1b6da"
            ],
            [
             0.4,
             "#fde0ef"
            ],
            [
             0.5,
             "#f7f7f7"
            ],
            [
             0.6,
             "#e6f5d0"
            ],
            [
             0.7,
             "#b8e186"
            ],
            [
             0.8,
             "#7fbc41"
            ],
            [
             0.9,
             "#4d9221"
            ],
            [
             1,
             "#276419"
            ]
           ],
           "sequential": [
            [
             0,
             "#0d0887"
            ],
            [
             0.1111111111111111,
             "#46039f"
            ],
            [
             0.2222222222222222,
             "#7201a8"
            ],
            [
             0.3333333333333333,
             "#9c179e"
            ],
            [
             0.4444444444444444,
             "#bd3786"
            ],
            [
             0.5555555555555556,
             "#d8576b"
            ],
            [
             0.6666666666666666,
             "#ed7953"
            ],
            [
             0.7777777777777778,
             "#fb9f3a"
            ],
            [
             0.8888888888888888,
             "#fdca26"
            ],
            [
             1,
             "#f0f921"
            ]
           ],
           "sequentialminus": [
            [
             0,
             "#0d0887"
            ],
            [
             0.1111111111111111,
             "#46039f"
            ],
            [
             0.2222222222222222,
             "#7201a8"
            ],
            [
             0.3333333333333333,
             "#9c179e"
            ],
            [
             0.4444444444444444,
             "#bd3786"
            ],
            [
             0.5555555555555556,
             "#d8576b"
            ],
            [
             0.6666666666666666,
             "#ed7953"
            ],
            [
             0.7777777777777778,
             "#fb9f3a"
            ],
            [
             0.8888888888888888,
             "#fdca26"
            ],
            [
             1,
             "#f0f921"
            ]
           ]
          },
          "colorway": [
           "#636efa",
           "#EF553B",
           "#00cc96",
           "#ab63fa",
           "#FFA15A",
           "#19d3f3",
           "#FF6692",
           "#B6E880",
           "#FF97FF",
           "#FECB52"
          ],
          "font": {
           "color": "#f2f5fa"
          },
          "geo": {
           "bgcolor": "rgb(17,17,17)",
           "lakecolor": "rgb(17,17,17)",
           "landcolor": "rgb(17,17,17)",
           "showlakes": true,
           "showland": true,
           "subunitcolor": "#506784"
          },
          "hoverlabel": {
           "align": "left"
          },
          "hovermode": "closest",
          "mapbox": {
           "style": "dark"
          },
          "paper_bgcolor": "rgb(17,17,17)",
          "plot_bgcolor": "rgb(17,17,17)",
          "polar": {
           "angularaxis": {
            "gridcolor": "#506784",
            "linecolor": "#506784",
            "ticks": ""
           },
           "bgcolor": "rgb(17,17,17)",
           "radialaxis": {
            "gridcolor": "#506784",
            "linecolor": "#506784",
            "ticks": ""
           }
          },
          "scene": {
           "xaxis": {
            "backgroundcolor": "rgb(17,17,17)",
            "gridcolor": "#506784",
            "gridwidth": 2,
            "linecolor": "#506784",
            "showbackground": true,
            "ticks": "",
            "zerolinecolor": "#C8D4E3"
           },
           "yaxis": {
            "backgroundcolor": "rgb(17,17,17)",
            "gridcolor": "#506784",
            "gridwidth": 2,
            "linecolor": "#506784",
            "showbackground": true,
            "ticks": "",
            "zerolinecolor": "#C8D4E3"
           },
           "zaxis": {
            "backgroundcolor": "rgb(17,17,17)",
            "gridcolor": "#506784",
            "gridwidth": 2,
            "linecolor": "#506784",
            "showbackground": true,
            "ticks": "",
            "zerolinecolor": "#C8D4E3"
           }
          },
          "shapedefaults": {
           "line": {
            "color": "#f2f5fa"
           }
          },
          "sliderdefaults": {
           "bgcolor": "#C8D4E3",
           "bordercolor": "rgb(17,17,17)",
           "borderwidth": 1,
           "tickwidth": 0
          },
          "ternary": {
           "aaxis": {
            "gridcolor": "#506784",
            "linecolor": "#506784",
            "ticks": ""
           },
           "baxis": {
            "gridcolor": "#506784",
            "linecolor": "#506784",
            "ticks": ""
           },
           "bgcolor": "rgb(17,17,17)",
           "caxis": {
            "gridcolor": "#506784",
            "linecolor": "#506784",
            "ticks": ""
           }
          },
          "title": {
           "x": 0.05
          },
          "updatemenudefaults": {
           "bgcolor": "#506784",
           "borderwidth": 0
          },
          "xaxis": {
           "automargin": true,
           "gridcolor": "#283442",
           "linecolor": "#506784",
           "ticks": "",
           "title": {
            "standoff": 15
           },
           "zerolinecolor": "#283442",
           "zerolinewidth": 2
          },
          "yaxis": {
           "automargin": true,
           "gridcolor": "#283442",
           "linecolor": "#506784",
           "ticks": "",
           "title": {
            "standoff": 15
           },
           "zerolinecolor": "#283442",
           "zerolinewidth": 2
          }
         }
        },
        "title": {
         "text": "Energy Consumption by User Type"
        },
        "xaxis": {
         "anchor": "y",
         "categoryarray": [
          "Commuter",
          "Casual Driver",
          "Long-Distance Traveler"
         ],
         "categoryorder": "array",
         "domain": [
          0,
          1
         ],
         "title": {
          "text": "User Type"
         }
        },
        "yaxis": {
         "anchor": "x",
         "domain": [
          0,
          1
         ],
         "title": {
          "text": "Energy Consumed (kWh)"
         }
        }
       }
      }
     },
     "metadata": {},
     "output_type": "display_data"
    }
   ],
   "source": [
    "# Create a Plotly box plot\n",
    "fig = px.box(df, \n",
    "             x='User Type', \n",
    "             y='Energy Consumed (kWh)', \n",
    "             title='Energy Consumption by User Type',\n",
    "             labels={'Energy Consumed (kWh)': 'Energy Consumed (kWh)', 'User Type': 'User Type'},\n",
    "             color='User Type',template='plotly_dark')\n",
    "\n",
    "# Show the plot\n",
    "fig.show()"
   ]
  },
  {
   "cell_type": "code",
   "execution_count": 15,
   "id": "6772d0a2",
   "metadata": {},
   "outputs": [
    {
     "data": {
      "application/vnd.plotly.v1+json": {
       "config": {
        "plotlyServerURL": "https://plot.ly"
       },
       "data": [
        {
         "hovertemplate": "User Type=Casual Driver<br>Date=%{x}<br>Charging Frequency=%{y}<extra></extra>",
         "legendgroup": "Casual Driver",
         "line": {
          "color": "#636efa",
          "dash": "solid"
         },
         "marker": {
          "symbol": "circle"
         },
         "mode": "lines",
         "name": "Casual Driver",
         "orientation": "v",
         "showlegend": true,
         "type": "scatter",
         "x": [
          "2024-01-01",
          "2024-01-02",
          "2024-01-03",
          "2024-01-04",
          "2024-01-05",
          "2024-01-06",
          "2024-01-07",
          "2024-01-08",
          "2024-01-09",
          "2024-01-10",
          "2024-01-11",
          "2024-01-12",
          "2024-01-13",
          "2024-01-14",
          "2024-01-15",
          "2024-01-16",
          "2024-01-17",
          "2024-01-18",
          "2024-01-19",
          "2024-01-20",
          "2024-01-21",
          "2024-01-22",
          "2024-01-23",
          "2024-01-24",
          "2024-01-25",
          "2024-01-26",
          "2024-01-27",
          "2024-01-28",
          "2024-01-29",
          "2024-01-30",
          "2024-01-31",
          "2024-02-01",
          "2024-02-02",
          "2024-02-03",
          "2024-02-04",
          "2024-02-05",
          "2024-02-06",
          "2024-02-07",
          "2024-02-08",
          "2024-02-09",
          "2024-02-10",
          "2024-02-11",
          "2024-02-12",
          "2024-02-13",
          "2024-02-14",
          "2024-02-15",
          "2024-02-16",
          "2024-02-17",
          "2024-02-18",
          "2024-02-19",
          "2024-02-20",
          "2024-02-21",
          "2024-02-22",
          "2024-02-23",
          "2024-02-24"
         ],
         "xaxis": "x",
         "y": {
          "bdata": "BggMDAgGCAwMBwcJBgYJBAoECggHBwgJBwkFCgYGBgUEBwkEBAcEBQUJCgkJBwkGBQwIBwUJBA==",
          "dtype": "i1"
         },
         "yaxis": "y"
        },
        {
         "hovertemplate": "User Type=Commuter<br>Date=%{x}<br>Charging Frequency=%{y}<extra></extra>",
         "legendgroup": "Commuter",
         "line": {
          "color": "#EF553B",
          "dash": "solid"
         },
         "marker": {
          "symbol": "circle"
         },
         "mode": "lines",
         "name": "Commuter",
         "orientation": "v",
         "showlegend": true,
         "type": "scatter",
         "x": [
          "2024-01-01",
          "2024-01-02",
          "2024-01-03",
          "2024-01-04",
          "2024-01-05",
          "2024-01-06",
          "2024-01-07",
          "2024-01-08",
          "2024-01-09",
          "2024-01-10",
          "2024-01-11",
          "2024-01-12",
          "2024-01-13",
          "2024-01-14",
          "2024-01-15",
          "2024-01-16",
          "2024-01-17",
          "2024-01-18",
          "2024-01-19",
          "2024-01-20",
          "2024-01-21",
          "2024-01-22",
          "2024-01-23",
          "2024-01-24",
          "2024-01-25",
          "2024-01-26",
          "2024-01-27",
          "2024-01-28",
          "2024-01-29",
          "2024-01-30",
          "2024-01-31",
          "2024-02-01",
          "2024-02-02",
          "2024-02-03",
          "2024-02-04",
          "2024-02-05",
          "2024-02-06",
          "2024-02-07",
          "2024-02-08",
          "2024-02-09",
          "2024-02-10",
          "2024-02-11",
          "2024-02-12",
          "2024-02-13",
          "2024-02-14",
          "2024-02-15",
          "2024-02-16",
          "2024-02-17",
          "2024-02-18",
          "2024-02-19",
          "2024-02-20",
          "2024-02-21",
          "2024-02-22",
          "2024-02-23",
          "2024-02-24"
         ],
         "xaxis": "x",
         "y": {
          "bdata": "CQoEBwYHCAYKBggICgsJCAcNBwoICQUGCggMCQ0OBgYLCwYKCQwNBwwGCAcJBwgNCwUGCAsHCQ==",
          "dtype": "i1"
         },
         "yaxis": "y"
        },
        {
         "hovertemplate": "User Type=Long-Distance Traveler<br>Date=%{x}<br>Charging Frequency=%{y}<extra></extra>",
         "legendgroup": "Long-Distance Traveler",
         "line": {
          "color": "#00cc96",
          "dash": "solid"
         },
         "marker": {
          "symbol": "circle"
         },
         "mode": "lines",
         "name": "Long-Distance Traveler",
         "orientation": "v",
         "showlegend": true,
         "type": "scatter",
         "x": [
          "2024-01-01",
          "2024-01-02",
          "2024-01-03",
          "2024-01-04",
          "2024-01-05",
          "2024-01-06",
          "2024-01-07",
          "2024-01-08",
          "2024-01-09",
          "2024-01-10",
          "2024-01-11",
          "2024-01-12",
          "2024-01-13",
          "2024-01-14",
          "2024-01-15",
          "2024-01-16",
          "2024-01-17",
          "2024-01-18",
          "2024-01-19",
          "2024-01-20",
          "2024-01-21",
          "2024-01-22",
          "2024-01-23",
          "2024-01-24",
          "2024-01-25",
          "2024-01-26",
          "2024-01-27",
          "2024-01-28",
          "2024-01-29",
          "2024-01-30",
          "2024-01-31",
          "2024-02-01",
          "2024-02-02",
          "2024-02-03",
          "2024-02-04",
          "2024-02-05",
          "2024-02-06",
          "2024-02-07",
          "2024-02-08",
          "2024-02-09",
          "2024-02-10",
          "2024-02-11",
          "2024-02-12",
          "2024-02-13",
          "2024-02-14",
          "2024-02-15",
          "2024-02-16",
          "2024-02-17",
          "2024-02-18",
          "2024-02-19",
          "2024-02-20",
          "2024-02-21",
          "2024-02-22",
          "2024-02-23",
          "2024-02-24"
         ],
         "xaxis": "x",
         "y": {
          "bdata": "CQYIBQoLCAYCCwkHCAcGDAcHBwYJCAsJBwcHBQUEDA0JBgkKCwUHDAcJBggGCgcFCAcKCQgICw==",
          "dtype": "i1"
         },
         "yaxis": "y"
        }
       ],
       "layout": {
        "legend": {
         "title": {
          "text": "User Type"
         },
         "tracegroupgap": 0
        },
        "template": {
         "data": {
          "bar": [
           {
            "error_x": {
             "color": "#f2f5fa"
            },
            "error_y": {
             "color": "#f2f5fa"
            },
            "marker": {
             "line": {
              "color": "rgb(17,17,17)",
              "width": 0.5
             },
             "pattern": {
              "fillmode": "overlay",
              "size": 10,
              "solidity": 0.2
             }
            },
            "type": "bar"
           }
          ],
          "barpolar": [
           {
            "marker": {
             "line": {
              "color": "rgb(17,17,17)",
              "width": 0.5
             },
             "pattern": {
              "fillmode": "overlay",
              "size": 10,
              "solidity": 0.2
             }
            },
            "type": "barpolar"
           }
          ],
          "carpet": [
           {
            "aaxis": {
             "endlinecolor": "#A2B1C6",
             "gridcolor": "#506784",
             "linecolor": "#506784",
             "minorgridcolor": "#506784",
             "startlinecolor": "#A2B1C6"
            },
            "baxis": {
             "endlinecolor": "#A2B1C6",
             "gridcolor": "#506784",
             "linecolor": "#506784",
             "minorgridcolor": "#506784",
             "startlinecolor": "#A2B1C6"
            },
            "type": "carpet"
           }
          ],
          "choropleth": [
           {
            "colorbar": {
             "outlinewidth": 0,
             "ticks": ""
            },
            "type": "choropleth"
           }
          ],
          "contour": [
           {
            "colorbar": {
             "outlinewidth": 0,
             "ticks": ""
            },
            "colorscale": [
             [
              0,
              "#0d0887"
             ],
             [
              0.1111111111111111,
              "#46039f"
             ],
             [
              0.2222222222222222,
              "#7201a8"
             ],
             [
              0.3333333333333333,
              "#9c179e"
             ],
             [
              0.4444444444444444,
              "#bd3786"
             ],
             [
              0.5555555555555556,
              "#d8576b"
             ],
             [
              0.6666666666666666,
              "#ed7953"
             ],
             [
              0.7777777777777778,
              "#fb9f3a"
             ],
             [
              0.8888888888888888,
              "#fdca26"
             ],
             [
              1,
              "#f0f921"
             ]
            ],
            "type": "contour"
           }
          ],
          "contourcarpet": [
           {
            "colorbar": {
             "outlinewidth": 0,
             "ticks": ""
            },
            "type": "contourcarpet"
           }
          ],
          "heatmap": [
           {
            "colorbar": {
             "outlinewidth": 0,
             "ticks": ""
            },
            "colorscale": [
             [
              0,
              "#0d0887"
             ],
             [
              0.1111111111111111,
              "#46039f"
             ],
             [
              0.2222222222222222,
              "#7201a8"
             ],
             [
              0.3333333333333333,
              "#9c179e"
             ],
             [
              0.4444444444444444,
              "#bd3786"
             ],
             [
              0.5555555555555556,
              "#d8576b"
             ],
             [
              0.6666666666666666,
              "#ed7953"
             ],
             [
              0.7777777777777778,
              "#fb9f3a"
             ],
             [
              0.8888888888888888,
              "#fdca26"
             ],
             [
              1,
              "#f0f921"
             ]
            ],
            "type": "heatmap"
           }
          ],
          "histogram": [
           {
            "marker": {
             "pattern": {
              "fillmode": "overlay",
              "size": 10,
              "solidity": 0.2
             }
            },
            "type": "histogram"
           }
          ],
          "histogram2d": [
           {
            "colorbar": {
             "outlinewidth": 0,
             "ticks": ""
            },
            "colorscale": [
             [
              0,
              "#0d0887"
             ],
             [
              0.1111111111111111,
              "#46039f"
             ],
             [
              0.2222222222222222,
              "#7201a8"
             ],
             [
              0.3333333333333333,
              "#9c179e"
             ],
             [
              0.4444444444444444,
              "#bd3786"
             ],
             [
              0.5555555555555556,
              "#d8576b"
             ],
             [
              0.6666666666666666,
              "#ed7953"
             ],
             [
              0.7777777777777778,
              "#fb9f3a"
             ],
             [
              0.8888888888888888,
              "#fdca26"
             ],
             [
              1,
              "#f0f921"
             ]
            ],
            "type": "histogram2d"
           }
          ],
          "histogram2dcontour": [
           {
            "colorbar": {
             "outlinewidth": 0,
             "ticks": ""
            },
            "colorscale": [
             [
              0,
              "#0d0887"
             ],
             [
              0.1111111111111111,
              "#46039f"
             ],
             [
              0.2222222222222222,
              "#7201a8"
             ],
             [
              0.3333333333333333,
              "#9c179e"
             ],
             [
              0.4444444444444444,
              "#bd3786"
             ],
             [
              0.5555555555555556,
              "#d8576b"
             ],
             [
              0.6666666666666666,
              "#ed7953"
             ],
             [
              0.7777777777777778,
              "#fb9f3a"
             ],
             [
              0.8888888888888888,
              "#fdca26"
             ],
             [
              1,
              "#f0f921"
             ]
            ],
            "type": "histogram2dcontour"
           }
          ],
          "mesh3d": [
           {
            "colorbar": {
             "outlinewidth": 0,
             "ticks": ""
            },
            "type": "mesh3d"
           }
          ],
          "parcoords": [
           {
            "line": {
             "colorbar": {
              "outlinewidth": 0,
              "ticks": ""
             }
            },
            "type": "parcoords"
           }
          ],
          "pie": [
           {
            "automargin": true,
            "type": "pie"
           }
          ],
          "scatter": [
           {
            "marker": {
             "line": {
              "color": "#283442"
             }
            },
            "type": "scatter"
           }
          ],
          "scatter3d": [
           {
            "line": {
             "colorbar": {
              "outlinewidth": 0,
              "ticks": ""
             }
            },
            "marker": {
             "colorbar": {
              "outlinewidth": 0,
              "ticks": ""
             }
            },
            "type": "scatter3d"
           }
          ],
          "scattercarpet": [
           {
            "marker": {
             "colorbar": {
              "outlinewidth": 0,
              "ticks": ""
             }
            },
            "type": "scattercarpet"
           }
          ],
          "scattergeo": [
           {
            "marker": {
             "colorbar": {
              "outlinewidth": 0,
              "ticks": ""
             }
            },
            "type": "scattergeo"
           }
          ],
          "scattergl": [
           {
            "marker": {
             "line": {
              "color": "#283442"
             }
            },
            "type": "scattergl"
           }
          ],
          "scattermap": [
           {
            "marker": {
             "colorbar": {
              "outlinewidth": 0,
              "ticks": ""
             }
            },
            "type": "scattermap"
           }
          ],
          "scattermapbox": [
           {
            "marker": {
             "colorbar": {
              "outlinewidth": 0,
              "ticks": ""
             }
            },
            "type": "scattermapbox"
           }
          ],
          "scatterpolar": [
           {
            "marker": {
             "colorbar": {
              "outlinewidth": 0,
              "ticks": ""
             }
            },
            "type": "scatterpolar"
           }
          ],
          "scatterpolargl": [
           {
            "marker": {
             "colorbar": {
              "outlinewidth": 0,
              "ticks": ""
             }
            },
            "type": "scatterpolargl"
           }
          ],
          "scatterternary": [
           {
            "marker": {
             "colorbar": {
              "outlinewidth": 0,
              "ticks": ""
             }
            },
            "type": "scatterternary"
           }
          ],
          "surface": [
           {
            "colorbar": {
             "outlinewidth": 0,
             "ticks": ""
            },
            "colorscale": [
             [
              0,
              "#0d0887"
             ],
             [
              0.1111111111111111,
              "#46039f"
             ],
             [
              0.2222222222222222,
              "#7201a8"
             ],
             [
              0.3333333333333333,
              "#9c179e"
             ],
             [
              0.4444444444444444,
              "#bd3786"
             ],
             [
              0.5555555555555556,
              "#d8576b"
             ],
             [
              0.6666666666666666,
              "#ed7953"
             ],
             [
              0.7777777777777778,
              "#fb9f3a"
             ],
             [
              0.8888888888888888,
              "#fdca26"
             ],
             [
              1,
              "#f0f921"
             ]
            ],
            "type": "surface"
           }
          ],
          "table": [
           {
            "cells": {
             "fill": {
              "color": "#506784"
             },
             "line": {
              "color": "rgb(17,17,17)"
             }
            },
            "header": {
             "fill": {
              "color": "#2a3f5f"
             },
             "line": {
              "color": "rgb(17,17,17)"
             }
            },
            "type": "table"
           }
          ]
         },
         "layout": {
          "annotationdefaults": {
           "arrowcolor": "#f2f5fa",
           "arrowhead": 0,
           "arrowwidth": 1
          },
          "autotypenumbers": "strict",
          "coloraxis": {
           "colorbar": {
            "outlinewidth": 0,
            "ticks": ""
           }
          },
          "colorscale": {
           "diverging": [
            [
             0,
             "#8e0152"
            ],
            [
             0.1,
             "#c51b7d"
            ],
            [
             0.2,
             "#de77ae"
            ],
            [
             0.3,
             "#f1b6da"
            ],
            [
             0.4,
             "#fde0ef"
            ],
            [
             0.5,
             "#f7f7f7"
            ],
            [
             0.6,
             "#e6f5d0"
            ],
            [
             0.7,
             "#b8e186"
            ],
            [
             0.8,
             "#7fbc41"
            ],
            [
             0.9,
             "#4d9221"
            ],
            [
             1,
             "#276419"
            ]
           ],
           "sequential": [
            [
             0,
             "#0d0887"
            ],
            [
             0.1111111111111111,
             "#46039f"
            ],
            [
             0.2222222222222222,
             "#7201a8"
            ],
            [
             0.3333333333333333,
             "#9c179e"
            ],
            [
             0.4444444444444444,
             "#bd3786"
            ],
            [
             0.5555555555555556,
             "#d8576b"
            ],
            [
             0.6666666666666666,
             "#ed7953"
            ],
            [
             0.7777777777777778,
             "#fb9f3a"
            ],
            [
             0.8888888888888888,
             "#fdca26"
            ],
            [
             1,
             "#f0f921"
            ]
           ],
           "sequentialminus": [
            [
             0,
             "#0d0887"
            ],
            [
             0.1111111111111111,
             "#46039f"
            ],
            [
             0.2222222222222222,
             "#7201a8"
            ],
            [
             0.3333333333333333,
             "#9c179e"
            ],
            [
             0.4444444444444444,
             "#bd3786"
            ],
            [
             0.5555555555555556,
             "#d8576b"
            ],
            [
             0.6666666666666666,
             "#ed7953"
            ],
            [
             0.7777777777777778,
             "#fb9f3a"
            ],
            [
             0.8888888888888888,
             "#fdca26"
            ],
            [
             1,
             "#f0f921"
            ]
           ]
          },
          "colorway": [
           "#636efa",
           "#EF553B",
           "#00cc96",
           "#ab63fa",
           "#FFA15A",
           "#19d3f3",
           "#FF6692",
           "#B6E880",
           "#FF97FF",
           "#FECB52"
          ],
          "font": {
           "color": "#f2f5fa"
          },
          "geo": {
           "bgcolor": "rgb(17,17,17)",
           "lakecolor": "rgb(17,17,17)",
           "landcolor": "rgb(17,17,17)",
           "showlakes": true,
           "showland": true,
           "subunitcolor": "#506784"
          },
          "hoverlabel": {
           "align": "left"
          },
          "hovermode": "closest",
          "mapbox": {
           "style": "dark"
          },
          "paper_bgcolor": "rgb(17,17,17)",
          "plot_bgcolor": "rgb(17,17,17)",
          "polar": {
           "angularaxis": {
            "gridcolor": "#506784",
            "linecolor": "#506784",
            "ticks": ""
           },
           "bgcolor": "rgb(17,17,17)",
           "radialaxis": {
            "gridcolor": "#506784",
            "linecolor": "#506784",
            "ticks": ""
           }
          },
          "scene": {
           "xaxis": {
            "backgroundcolor": "rgb(17,17,17)",
            "gridcolor": "#506784",
            "gridwidth": 2,
            "linecolor": "#506784",
            "showbackground": true,
            "ticks": "",
            "zerolinecolor": "#C8D4E3"
           },
           "yaxis": {
            "backgroundcolor": "rgb(17,17,17)",
            "gridcolor": "#506784",
            "gridwidth": 2,
            "linecolor": "#506784",
            "showbackground": true,
            "ticks": "",
            "zerolinecolor": "#C8D4E3"
           },
           "zaxis": {
            "backgroundcolor": "rgb(17,17,17)",
            "gridcolor": "#506784",
            "gridwidth": 2,
            "linecolor": "#506784",
            "showbackground": true,
            "ticks": "",
            "zerolinecolor": "#C8D4E3"
           }
          },
          "shapedefaults": {
           "line": {
            "color": "#f2f5fa"
           }
          },
          "sliderdefaults": {
           "bgcolor": "#C8D4E3",
           "bordercolor": "rgb(17,17,17)",
           "borderwidth": 1,
           "tickwidth": 0
          },
          "ternary": {
           "aaxis": {
            "gridcolor": "#506784",
            "linecolor": "#506784",
            "ticks": ""
           },
           "baxis": {
            "gridcolor": "#506784",
            "linecolor": "#506784",
            "ticks": ""
           },
           "bgcolor": "rgb(17,17,17)",
           "caxis": {
            "gridcolor": "#506784",
            "linecolor": "#506784",
            "ticks": ""
           }
          },
          "title": {
           "x": 0.05
          },
          "updatemenudefaults": {
           "bgcolor": "#506784",
           "borderwidth": 0
          },
          "xaxis": {
           "automargin": true,
           "gridcolor": "#283442",
           "linecolor": "#506784",
           "ticks": "",
           "title": {
            "standoff": 15
           },
           "zerolinecolor": "#283442",
           "zerolinewidth": 2
          },
          "yaxis": {
           "automargin": true,
           "gridcolor": "#283442",
           "linecolor": "#506784",
           "ticks": "",
           "title": {
            "standoff": 15
           },
           "zerolinecolor": "#283442",
           "zerolinewidth": 2
          }
         }
        },
        "title": {
         "text": "Charging Frequency over Time by User Type"
        },
        "xaxis": {
         "anchor": "y",
         "domain": [
          0,
          1
         ],
         "title": {
          "text": "Date"
         }
        },
        "yaxis": {
         "anchor": "x",
         "domain": [
          0,
          1
         ],
         "title": {
          "text": "Charging Frequency"
         }
        }
       }
      }
     },
     "metadata": {},
     "output_type": "display_data"
    }
   ],
   "source": [
    "# Convert 'Charging Start Time' to datetime format\n",
    "df['Charging Start Time'] = pd.to_datetime(df['Charging Start Time'])\n",
    "\n",
    "# Group by User Type and Charging Start Time (aggregated by day)\n",
    "charging_frequency = df.groupby([df['Charging Start Time'].dt.date, 'User Type']).size().reset_index(name='Frequency')\n",
    "\n",
    "# Create a Plotly line chart\n",
    "fig = px.line(charging_frequency, \n",
    "              x='Charging Start Time', \n",
    "              y='Frequency', \n",
    "              color='User Type', \n",
    "              title='Charging Frequency over Time by User Type',\n",
    "              labels={'Charging Start Time': 'Date', 'Frequency': 'Charging Frequency', 'User Type': 'User Type'},\n",
    "              template='plotly_dark',)\n",
    "\n",
    "# Show the plot\n",
    "fig.show()"
   ]
  },
  {
   "cell_type": "code",
   "execution_count": 20,
   "id": "599c1705",
   "metadata": {},
   "outputs": [
    {
     "data": {
      "application/vnd.plotly.v1+json": {
       "config": {
        "plotlyServerURL": "https://plot.ly"
       },
       "data": [
        {
         "bingroup": "x",
         "hovertemplate": "User Type=Commuter<br>Distance Driven (km)=%{x}<br>count=%{y}<extra></extra>",
         "legendgroup": "Commuter",
         "marker": {
          "color": "#636efa",
          "pattern": {
           "shape": ""
          }
         },
         "name": "Commuter",
         "nbinsx": 30,
         "orientation": "v",
         "showlegend": true,
         "type": "histogram",
         "x": {
          "bdata": "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",
          "dtype": "f8"
         },
         "xaxis": "x",
         "yaxis": "y"
        },
        {
         "bingroup": "x",
         "hovertemplate": "User Type=Casual Driver<br>Distance Driven (km)=%{x}<br>count=%{y}<extra></extra>",
         "legendgroup": "Casual Driver",
         "marker": {
          "color": "#EF553B",
          "pattern": {
           "shape": ""
          }
         },
         "name": "Casual Driver",
         "nbinsx": 30,
         "orientation": "v",
         "showlegend": true,
         "type": "histogram",
         "x": {
          "bdata": "unXvLDgHXEDVgNAAnihQQKuaSUUVJG9A2bxpFIprY0A4oFmOvwE2QFMHm4NE1y5AAAAAAABAY0ATQuPB+0RnQAAAAAAAQGNAgLOWPn/AQUBpQx59xC1HQDzkKRKKm1lA7pasLWLoXUA1oq+IcgBiQCgytEcXnmpA7UvmBQVHbEAXlECB98lkQHwDKzu/v2BAqkRJDnYsYEDJodSwTI1iQFx4uwbjjmFAoSt0eq4FSECG/f6/E69xQDKhhK9MfnJAPngRQTVSVECYwdBxFo9nQKg4knUySXFAqRo1c41MKEBZAcwRyshrQF5k3k3ndldAiLGCUl9+cUBhf8NKqwhQQAzN4OLYUWVA2i8zmVQgcUD10AT6t9ZTQNidwztzrjBAfnpKfLjWS0AAAAAAAEBjQMoLLiBXg1JAAAAAAABAY0Cz9JeBrXJdQKF+jWCptGhAXKEpOfkOSEC8RZUxeRlDQKTlC1QKGFVAJk1Ll/XOakAAAAAAAEBjQIFpGihRS3BA3qZUquClX0DsaujW3jtxQFhzNucigFBAAAAAAABAY0Bu7boNxIJiQJ81iFpsvUFAUL8+zdAvckAfkwNcBwFAQPlUeGyAgmdALzJSd8ZYVED/gpHrjrVwQDSYAF1DckBAs1xTl6WPcUAyjssBTf1ZQASuzlDYNE9AnDmpWVGHVkDANN89fKxdQESJSzq1nmBAtIo9mCIwRUAncXXzRQptQIYzng+VSnBAn3qNQyhpYECGHHuA9MdVQAQTXf5TUlBApcQ54Pv3UEC256+EAjJpQH991feGJ0lA7JvtH5R+aEB2nhazSHRqQIJX2abUfFlAHGATPu3OcEBF3qdSjM9wQBOSrEQmpFVAZ9IaC4HBYkA051jX63hQQPi6sz9nukFAOMXvxBsHKkC7YoQx52RrQN8Bx8uZBWhAyyjOzAh3T0AJMmNxsIFuQBAp17ohzFtAKBYV1G44b0DxHISwU3dpQIzx/R5PzGBAXpVVr7niWEDSQpgrWnFsQD3bIlVr9GhAvivWLRInY0BfjZglPz1tQLYqz160ikFAvvzVcqmabUACxptg3kJBQBrsSY6btGlAAAAAAABAY0BUaIXYeyFRQGSEcF5qB1dAiee0B3g+Z0A9cABNd9NVQFSm004LsVxAYP5z5F61aEDaDxzjnN9pQHP+VqdrG2hAEm1L76EcR0AKO71lsdczQCHogAPjNVhAYfTJhxhYcECvJ3of6VpWQBzwGw2hKUxAVCpVLjw3WEAyn9BuOfxYQAAAAAAAQGNAOYCaZkIVWEArV0rgsX9XQMkO8GB84mdAbFQkeAhDUkBxoNE1Ee1uQJzL/9S1B0JAaj+YGt12Y0Bf5A+UAcBaQOkN4jo7d2xAn5I8VH9ObkC3UjB0ZY5wQDT1r1VQeTdAVaQcUlPJcUD1K5bEHddkQKFSx549sGlATMxDRVjUTEAfnZ7witFVQIqT195SDG5ArqyGkp8DcEAxCrc/lMNiQKM7NozmImpA2PxbrzuLSkAYI11rSyJaQJoyD17+0FRApfxGA4jzYUAl8ShZ6r1iQDu41FtT6GtAF+0XHDxwP0DeQILFkfVJQAAAAAAAQGNA5OlTzldPSUBVSXa+9E5fQFdt/94QvGNAKxZD/ct/ckAavrH1j8gtQKMxF6za+T1A/ry4/mQtb0DoLW/QmmtAQPhjXjW+s0NAwBdLtGcqYEA/TyG77/dSQAAAAAAAQGNAdcL2d7E0Z0AAAAAAAEBjQE3SG5ZYbiZAED/aYo4/WUD/rsENqE1SQI4nCyPx3ldAg56ct6CIVkAi/UmYp1RLQOua46XTV3FA0ay47VPyaEDqdkSPErtvQCwGURYm+1ZAzZtOX+2JZ0Dz+T4ByRxqQKb6du1qTkRAAAAAAABAY0CuRuYJ/uNlQOc/0lxmuk9AgwZtxl1eQkAAAAAAAEBjQM1orpdxoWZAPfPRE/00PUCm02rrZtlaQJJym+nGQCxAii72tsYnbUC6pvAufOVxQDeyb0gLsF5AX3noO7EeYUBwpt4NKulxQEVJFollwW9AGxuOx0GTO0CWOS3DsLtxQFmYzgpcEFZA07LRI5yYVUAtFzSaBTtcQAO5FKxtl2NA3gFZ4HFmVkBoAnkhBz1oQAEoAvCm7ktALDgkPN9IakBJsS7MJbdqQLPOGSfn71pAxTmmnFqSbUBfDGOYxXoeQPmqIe/mLGBAxOGuzOwBWEB/QP94y6RyQAYCOCzWB21A7Fy7GP/LJUBTi5BJwshwQIekbLsclHFA5JC4rWOwXEDxrd3q5jxTQGTuCMcMeHBAhbTAraRyUkDL/sgULa1aQE5SAUSotmlAKFjCZzXhYEC0rHUvvklxQLDzb9jhhkNAKambotEBY0AK/QuNuKZrQBfBeFWL3WpAjnN7HMyCUkBlRJpPUjRsQAsTwINJvFdAEdbe5GiYUkAvOnVy2VhbQK2LqQrTbnFAlter7nOnZUDDqbOj7f5iQG0R5omMUF9AY83WOEHfXUCi0Y3YSf9CQMtNTWFDaVRAUMdQYHvXaEDMHUaUf2RrQKVRiHJpDmJAYuaI/CKgYkC/4mSAat9kQOwZtIWiJHBA0nj3QevncEAVei63VC8tQAMpeC/QR3BA10keNK8mZkD7FLpE/ctYQK8BkHNXmV9Adv7DnYJ6bkAl6xu9bLdyQFl986tejE1AunzL/Rk5cEDcEpLKdpjrP/X0C71ykGhA/r02yDN3Y0DzKNVDPJtvQEkoiJJe0nBAT6KHsQTJZ0A1EtVH7K1yQBG2pA8G8XFAjOru0D9cYUB2cAGbAslVQINtytgBkWVATpOxSg9LY0D9rRS8MfpMQLse1KLo6XBAAWuBQc4IckA6sQcBi2ZVQCzoMrAIFGBAwB3jUPwxP0CVsru75HNJQPPSDwVnlGtANJURPNn+NUBAdlOfZHFhQLsx8REijFxADVkBOxusa0B+r/Ht+Z1vQB8eE1W0OlZAlTSXnklCcEDn74ZitAFVQLMHwkDUMydAItbAFHZqQECJaF/lGPBZQCaIxeD4oVJADqzGaQbxMkAZBZzk+iRXQFdaCtkDCFhAj6TvDzLaZUBv39KbhKRkQKK+W5nwZ19AbJfyE6xtZ0BrZz7a2NVdQFtCCc663VtAYx+2Og4nZ0Bc4tqSkMRxQKNgAfYHJWxADF8RERq7bEDUmbMYI0VyQAXfHx0uwFxAyzCWsOooS0BPZM20F0NUQA4FjJ+eZ3JAm/NVCKgdd0CSLxZ1zLBxQOp5XoKT5SxAgig24nZhcEAoUskVkYNFQH8X0eptom5AYnFLteDUYkAjBOke2qJmQHKmrjzemm9Aj+iUs2vCYUC7S9d4NRFJQHc1sOKjh1NAkr1jDlYncUDfzwut79ZDQCZJc/qiTGxARj1HoTv1ZEDV686vF4toQEAZBcFdNGRAlFGJS9ThV0BGcUKP5ZlJQJ41xkTDQ1hAAAAAAABAY0DkY/xTu24+QG5xJ4tSzk5A22msyLbzWEAmBNWKJoRPQAAAAAAAQGNAGiWl2dGMUEA3XNduGRpqQAf5geOxMWdA/rrzozbecEC8EuBjRuNWQD2vM0wem3BAV4YNxTT3W0DvF7LW3wJXQI0Ac6SIj2NAMoNdg4HGSECKk5r8ojplQGnuKXL+FG5AWq0PnMOWK0AShOFemKFmQAAAAAAAQGNAg/xEV9FwX0Ce75PBpchpQCAiVsSlnklAqpu4dxDtcUAJQ9jhHCRvQCZUukiqbF1AIWcW0UazRkAAAAAAAEBjQJRa/z3BEUtADAaPJMn8akCtjXYYZAhjQHV9jwW5DHFAVlXnFLFkckAYm0Jym7pyQEDehSY4eXBATgULFEODZUBRQVxzl11YQAI0Yw5c42lAiRasvnS7bkAS0U2ludNaQIv5aO+yiHFAuU/aVhBqWkBRZLT355JeQNdS6AnxS1FA/gfHx+1OM0CSND7O7CldQCx+RjfDaWNABLJk/OQyckAQ5x2GYW9NQK685c49UHFA2/1/aMX8S0BWe7OqIF1cQAAAAAAAQGNA7tn9yWl1TkCGULEtLJlgQHaw+lmueFVAVOjXlWiXbUASTq4TltZuQCha/2y0ozJAYIhz8xghYkDjMaCYSsxqQP/o0TWWIlZAIiVcmtBnYUDPrjeATtlsQK27Ql8E2G1ACnFNF365QUBlGbpT/rVJQG3rh1HGrD1A9P8c5Khbb0AvkchGEH9gQJ9UJ4rlK2pAqInOii1VNkCKX6sT3n1xQKDv4K0OpUxAEUlqygR3cUDccru3Lm5MQFqqQK/EnzZA21dD+204Z0AJTeINR2ZNQAAAAAAAQGNAAAAAAABAY0CY7OdfCIxkQA==",
          "dtype": "f8"
         },
         "xaxis": "x",
         "yaxis": "y"
        },
        {
         "bingroup": "x",
         "hovertemplate": "User Type=Long-Distance Traveler<br>Distance Driven (km)=%{x}<br>count=%{y}<extra></extra>",
         "legendgroup": "Long-Distance Traveler",
         "marker": {
          "color": "#00cc96",
          "pattern": {
           "shape": ""
          }
         },
         "name": "Long-Distance Traveler",
         "nbinsx": 30,
         "orientation": "v",
         "showlegend": true,
         "type": "histogram",
         "x": {
          "bdata": "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",
          "dtype": "f8"
         },
         "xaxis": "x",
         "yaxis": "y"
        }
       ],
       "layout": {
        "barmode": "relative",
        "legend": {
         "title": {
          "text": "User Type"
         },
         "tracegroupgap": 0
        },
        "template": {
         "data": {
          "bar": [
           {
            "error_x": {
             "color": "#f2f5fa"
            },
            "error_y": {
             "color": "#f2f5fa"
            },
            "marker": {
             "line": {
              "color": "rgb(17,17,17)",
              "width": 0.5
             },
             "pattern": {
              "fillmode": "overlay",
              "size": 10,
              "solidity": 0.2
             }
            },
            "type": "bar"
           }
          ],
          "barpolar": [
           {
            "marker": {
             "line": {
              "color": "rgb(17,17,17)",
              "width": 0.5
             },
             "pattern": {
              "fillmode": "overlay",
              "size": 10,
              "solidity": 0.2
             }
            },
            "type": "barpolar"
           }
          ],
          "carpet": [
           {
            "aaxis": {
             "endlinecolor": "#A2B1C6",
             "gridcolor": "#506784",
             "linecolor": "#506784",
             "minorgridcolor": "#506784",
             "startlinecolor": "#A2B1C6"
            },
            "baxis": {
             "endlinecolor": "#A2B1C6",
             "gridcolor": "#506784",
             "linecolor": "#506784",
             "minorgridcolor": "#506784",
             "startlinecolor": "#A2B1C6"
            },
            "type": "carpet"
           }
          ],
          "choropleth": [
           {
            "colorbar": {
             "outlinewidth": 0,
             "ticks": ""
            },
            "type": "choropleth"
           }
          ],
          "contour": [
           {
            "colorbar": {
             "outlinewidth": 0,
             "ticks": ""
            },
            "colorscale": [
             [
              0,
              "#0d0887"
             ],
             [
              0.1111111111111111,
              "#46039f"
             ],
             [
              0.2222222222222222,
              "#7201a8"
             ],
             [
              0.3333333333333333,
              "#9c179e"
             ],
             [
              0.4444444444444444,
              "#bd3786"
             ],
             [
              0.5555555555555556,
              "#d8576b"
             ],
             [
              0.6666666666666666,
              "#ed7953"
             ],
             [
              0.7777777777777778,
              "#fb9f3a"
             ],
             [
              0.8888888888888888,
              "#fdca26"
             ],
             [
              1,
              "#f0f921"
             ]
            ],
            "type": "contour"
           }
          ],
          "contourcarpet": [
           {
            "colorbar": {
             "outlinewidth": 0,
             "ticks": ""
            },
            "type": "contourcarpet"
           }
          ],
          "heatmap": [
           {
            "colorbar": {
             "outlinewidth": 0,
             "ticks": ""
            },
            "colorscale": [
             [
              0,
              "#0d0887"
             ],
             [
              0.1111111111111111,
              "#46039f"
             ],
             [
              0.2222222222222222,
              "#7201a8"
             ],
             [
              0.3333333333333333,
              "#9c179e"
             ],
             [
              0.4444444444444444,
              "#bd3786"
             ],
             [
              0.5555555555555556,
              "#d8576b"
             ],
             [
              0.6666666666666666,
              "#ed7953"
             ],
             [
              0.7777777777777778,
              "#fb9f3a"
             ],
             [
              0.8888888888888888,
              "#fdca26"
             ],
             [
              1,
              "#f0f921"
             ]
            ],
            "type": "heatmap"
           }
          ],
          "histogram": [
           {
            "marker": {
             "pattern": {
              "fillmode": "overlay",
              "size": 10,
              "solidity": 0.2
             }
            },
            "type": "histogram"
           }
          ],
          "histogram2d": [
           {
            "colorbar": {
             "outlinewidth": 0,
             "ticks": ""
            },
            "colorscale": [
             [
              0,
              "#0d0887"
             ],
             [
              0.1111111111111111,
              "#46039f"
             ],
             [
              0.2222222222222222,
              "#7201a8"
             ],
             [
              0.3333333333333333,
              "#9c179e"
             ],
             [
              0.4444444444444444,
              "#bd3786"
             ],
             [
              0.5555555555555556,
              "#d8576b"
             ],
             [
              0.6666666666666666,
              "#ed7953"
             ],
             [
              0.7777777777777778,
              "#fb9f3a"
             ],
             [
              0.8888888888888888,
              "#fdca26"
             ],
             [
              1,
              "#f0f921"
             ]
            ],
            "type": "histogram2d"
           }
          ],
          "histogram2dcontour": [
           {
            "colorbar": {
             "outlinewidth": 0,
             "ticks": ""
            },
            "colorscale": [
             [
              0,
              "#0d0887"
             ],
             [
              0.1111111111111111,
              "#46039f"
             ],
             [
              0.2222222222222222,
              "#7201a8"
             ],
             [
              0.3333333333333333,
              "#9c179e"
             ],
             [
              0.4444444444444444,
              "#bd3786"
             ],
             [
              0.5555555555555556,
              "#d8576b"
             ],
             [
              0.6666666666666666,
              "#ed7953"
             ],
             [
              0.7777777777777778,
              "#fb9f3a"
             ],
             [
              0.8888888888888888,
              "#fdca26"
             ],
             [
              1,
              "#f0f921"
             ]
            ],
            "type": "histogram2dcontour"
           }
          ],
          "mesh3d": [
           {
            "colorbar": {
             "outlinewidth": 0,
             "ticks": ""
            },
            "type": "mesh3d"
           }
          ],
          "parcoords": [
           {
            "line": {
             "colorbar": {
              "outlinewidth": 0,
              "ticks": ""
             }
            },
            "type": "parcoords"
           }
          ],
          "pie": [
           {
            "automargin": true,
            "type": "pie"
           }
          ],
          "scatter": [
           {
            "marker": {
             "line": {
              "color": "#283442"
             }
            },
            "type": "scatter"
           }
          ],
          "scatter3d": [
           {
            "line": {
             "colorbar": {
              "outlinewidth": 0,
              "ticks": ""
             }
            },
            "marker": {
             "colorbar": {
              "outlinewidth": 0,
              "ticks": ""
             }
            },
            "type": "scatter3d"
           }
          ],
          "scattercarpet": [
           {
            "marker": {
             "colorbar": {
              "outlinewidth": 0,
              "ticks": ""
             }
            },
            "type": "scattercarpet"
           }
          ],
          "scattergeo": [
           {
            "marker": {
             "colorbar": {
              "outlinewidth": 0,
              "ticks": ""
             }
            },
            "type": "scattergeo"
           }
          ],
          "scattergl": [
           {
            "marker": {
             "line": {
              "color": "#283442"
             }
            },
            "type": "scattergl"
           }
          ],
          "scattermap": [
           {
            "marker": {
             "colorbar": {
              "outlinewidth": 0,
              "ticks": ""
             }
            },
            "type": "scattermap"
           }
          ],
          "scattermapbox": [
           {
            "marker": {
             "colorbar": {
              "outlinewidth": 0,
              "ticks": ""
             }
            },
            "type": "scattermapbox"
           }
          ],
          "scatterpolar": [
           {
            "marker": {
             "colorbar": {
              "outlinewidth": 0,
              "ticks": ""
             }
            },
            "type": "scatterpolar"
           }
          ],
          "scatterpolargl": [
           {
            "marker": {
             "colorbar": {
              "outlinewidth": 0,
              "ticks": ""
             }
            },
            "type": "scatterpolargl"
           }
          ],
          "scatterternary": [
           {
            "marker": {
             "colorbar": {
              "outlinewidth": 0,
              "ticks": ""
             }
            },
            "type": "scatterternary"
           }
          ],
          "surface": [
           {
            "colorbar": {
             "outlinewidth": 0,
             "ticks": ""
            },
            "colorscale": [
             [
              0,
              "#0d0887"
             ],
             [
              0.1111111111111111,
              "#46039f"
             ],
             [
              0.2222222222222222,
              "#7201a8"
             ],
             [
              0.3333333333333333,
              "#9c179e"
             ],
             [
              0.4444444444444444,
              "#bd3786"
             ],
             [
              0.5555555555555556,
              "#d8576b"
             ],
             [
              0.6666666666666666,
              "#ed7953"
             ],
             [
              0.7777777777777778,
              "#fb9f3a"
             ],
             [
              0.8888888888888888,
              "#fdca26"
             ],
             [
              1,
              "#f0f921"
             ]
            ],
            "type": "surface"
           }
          ],
          "table": [
           {
            "cells": {
             "fill": {
              "color": "#506784"
             },
             "line": {
              "color": "rgb(17,17,17)"
             }
            },
            "header": {
             "fill": {
              "color": "#2a3f5f"
             },
             "line": {
              "color": "rgb(17,17,17)"
             }
            },
            "type": "table"
           }
          ]
         },
         "layout": {
          "annotationdefaults": {
           "arrowcolor": "#f2f5fa",
           "arrowhead": 0,
           "arrowwidth": 1
          },
          "autotypenumbers": "strict",
          "coloraxis": {
           "colorbar": {
            "outlinewidth": 0,
            "ticks": ""
           }
          },
          "colorscale": {
           "diverging": [
            [
             0,
             "#8e0152"
            ],
            [
             0.1,
             "#c51b7d"
            ],
            [
             0.2,
             "#de77ae"
            ],
            [
             0.3,
             "#f1b6da"
            ],
            [
             0.4,
             "#fde0ef"
            ],
            [
             0.5,
             "#f7f7f7"
            ],
            [
             0.6,
             "#e6f5d0"
            ],
            [
             0.7,
             "#b8e186"
            ],
            [
             0.8,
             "#7fbc41"
            ],
            [
             0.9,
             "#4d9221"
            ],
            [
             1,
             "#276419"
            ]
           ],
           "sequential": [
            [
             0,
             "#0d0887"
            ],
            [
             0.1111111111111111,
             "#46039f"
            ],
            [
             0.2222222222222222,
             "#7201a8"
            ],
            [
             0.3333333333333333,
             "#9c179e"
            ],
            [
             0.4444444444444444,
             "#bd3786"
            ],
            [
             0.5555555555555556,
             "#d8576b"
            ],
            [
             0.6666666666666666,
             "#ed7953"
            ],
            [
             0.7777777777777778,
             "#fb9f3a"
            ],
            [
             0.8888888888888888,
             "#fdca26"
            ],
            [
             1,
             "#f0f921"
            ]
           ],
           "sequentialminus": [
            [
             0,
             "#0d0887"
            ],
            [
             0.1111111111111111,
             "#46039f"
            ],
            [
             0.2222222222222222,
             "#7201a8"
            ],
            [
             0.3333333333333333,
             "#9c179e"
            ],
            [
             0.4444444444444444,
             "#bd3786"
            ],
            [
             0.5555555555555556,
             "#d8576b"
            ],
            [
             0.6666666666666666,
             "#ed7953"
            ],
            [
             0.7777777777777778,
             "#fb9f3a"
            ],
            [
             0.8888888888888888,
             "#fdca26"
            ],
            [
             1,
             "#f0f921"
            ]
           ]
          },
          "colorway": [
           "#636efa",
           "#EF553B",
           "#00cc96",
           "#ab63fa",
           "#FFA15A",
           "#19d3f3",
           "#FF6692",
           "#B6E880",
           "#FF97FF",
           "#FECB52"
          ],
          "font": {
           "color": "#f2f5fa"
          },
          "geo": {
           "bgcolor": "rgb(17,17,17)",
           "lakecolor": "rgb(17,17,17)",
           "landcolor": "rgb(17,17,17)",
           "showlakes": true,
           "showland": true,
           "subunitcolor": "#506784"
          },
          "hoverlabel": {
           "align": "left"
          },
          "hovermode": "closest",
          "mapbox": {
           "style": "dark"
          },
          "paper_bgcolor": "rgb(17,17,17)",
          "plot_bgcolor": "rgb(17,17,17)",
          "polar": {
           "angularaxis": {
            "gridcolor": "#506784",
            "linecolor": "#506784",
            "ticks": ""
           },
           "bgcolor": "rgb(17,17,17)",
           "radialaxis": {
            "gridcolor": "#506784",
            "linecolor": "#506784",
            "ticks": ""
           }
          },
          "scene": {
           "xaxis": {
            "backgroundcolor": "rgb(17,17,17)",
            "gridcolor": "#506784",
            "gridwidth": 2,
            "linecolor": "#506784",
            "showbackground": true,
            "ticks": "",
            "zerolinecolor": "#C8D4E3"
           },
           "yaxis": {
            "backgroundcolor": "rgb(17,17,17)",
            "gridcolor": "#506784",
            "gridwidth": 2,
            "linecolor": "#506784",
            "showbackground": true,
            "ticks": "",
            "zerolinecolor": "#C8D4E3"
           },
           "zaxis": {
            "backgroundcolor": "rgb(17,17,17)",
            "gridcolor": "#506784",
            "gridwidth": 2,
            "linecolor": "#506784",
            "showbackground": true,
            "ticks": "",
            "zerolinecolor": "#C8D4E3"
           }
          },
          "shapedefaults": {
           "line": {
            "color": "#f2f5fa"
           }
          },
          "sliderdefaults": {
           "bgcolor": "#C8D4E3",
           "bordercolor": "rgb(17,17,17)",
           "borderwidth": 1,
           "tickwidth": 0
          },
          "ternary": {
           "aaxis": {
            "gridcolor": "#506784",
            "linecolor": "#506784",
            "ticks": ""
           },
           "baxis": {
            "gridcolor": "#506784",
            "linecolor": "#506784",
            "ticks": ""
           },
           "bgcolor": "rgb(17,17,17)",
           "caxis": {
            "gridcolor": "#506784",
            "linecolor": "#506784",
            "ticks": ""
           }
          },
          "title": {
           "x": 0.05
          },
          "updatemenudefaults": {
           "bgcolor": "#506784",
           "borderwidth": 0
          },
          "xaxis": {
           "automargin": true,
           "gridcolor": "#283442",
           "linecolor": "#506784",
           "ticks": "",
           "title": {
            "standoff": 15
           },
           "zerolinecolor": "#283442",
           "zerolinewidth": 2
          },
          "yaxis": {
           "automargin": true,
           "gridcolor": "#283442",
           "linecolor": "#506784",
           "ticks": "",
           "title": {
            "standoff": 15
           },
           "zerolinecolor": "#283442",
           "zerolinewidth": 2
          }
         }
        },
        "title": {
         "text": "Distance Driven per Charge by User Type"
        },
        "xaxis": {
         "anchor": "y",
         "domain": [
          0,
          1
         ],
         "title": {
          "text": "Distance Driven (km)"
         }
        },
        "yaxis": {
         "anchor": "x",
         "domain": [
          0,
          1
         ],
         "title": {
          "text": "count"
         }
        }
       }
      }
     },
     "metadata": {},
     "output_type": "display_data"
    }
   ],
   "source": [
    "# Create a Plotly histogram\n",
    "fig = px.histogram(df, \n",
    "                   x='Distance Driven (since last charge) (km)', \n",
    "                   color='User Type', \n",
    "                   title='Distance Driven per Charge by User Type',\n",
    "                   labels={'Distance Driven (since last charge) (km)': 'Distance Driven (km)', 'User Type': 'User Type',},\n",
    "                   template='plotly_dark',\n",
    "                   nbins=30)\n",
    "\n",
    "# Show the plot\n",
    "fig.show()"
   ]
  }
 ],
 "metadata": {
  "kernelspec": {
   "display_name": "base",
   "language": "python",
   "name": "python3"
  },
  "language_info": {
   "codemirror_mode": {
    "name": "ipython",
    "version": 3
   },
   "file_extension": ".py",
   "mimetype": "text/x-python",
   "name": "python",
   "nbconvert_exporter": "python",
   "pygments_lexer": "ipython3",
   "version": "3.12.9"
  }
 },
 "nbformat": 4,
 "nbformat_minor": 5
}
