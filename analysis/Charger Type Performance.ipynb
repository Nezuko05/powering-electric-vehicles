{
 "cells": [
  {
   "cell_type": "code",
   "execution_count": 3,
   "id": "39217543",
   "metadata": {},
   "outputs": [],
   "source": [
    "import pandas as pd\n",
    "import numpy as np\n",
    "import seaborn as sns\n",
    "import matplotlib.pyplot as plt\n",
    "import plotly.express as px"
   ]
  },
  {
   "cell_type": "code",
   "execution_count": 4,
   "id": "54744e6f",
   "metadata": {},
   "outputs": [
    {
     "data": {
      "text/html": [
       "<div>\n",
       "<style scoped>\n",
       "    .dataframe tbody tr th:only-of-type {\n",
       "        vertical-align: middle;\n",
       "    }\n",
       "\n",
       "    .dataframe tbody tr th {\n",
       "        vertical-align: top;\n",
       "    }\n",
       "\n",
       "    .dataframe thead th {\n",
       "        text-align: right;\n",
       "    }\n",
       "</style>\n",
       "<table border=\"1\" class=\"dataframe\">\n",
       "  <thead>\n",
       "    <tr style=\"text-align: right;\">\n",
       "      <th></th>\n",
       "      <th>User ID</th>\n",
       "      <th>Vehicle Model</th>\n",
       "      <th>Battery Capacity (kWh)</th>\n",
       "      <th>Charging Station ID</th>\n",
       "      <th>Charging Station Location</th>\n",
       "      <th>Charging Start Time</th>\n",
       "      <th>Charging End Time</th>\n",
       "      <th>Energy Consumed (kWh)</th>\n",
       "      <th>Charging Duration (hours)</th>\n",
       "      <th>Charging Rate (kW)</th>\n",
       "      <th>Charging Cost (USD)</th>\n",
       "      <th>Time of Day</th>\n",
       "      <th>Day of Week</th>\n",
       "      <th>State of Charge (Start %)</th>\n",
       "      <th>State of Charge (End %)</th>\n",
       "      <th>Distance Driven (since last charge) (km)</th>\n",
       "      <th>Temperature (°C)</th>\n",
       "      <th>Vehicle Age (years)</th>\n",
       "      <th>Charger Type</th>\n",
       "      <th>User Type</th>\n",
       "    </tr>\n",
       "  </thead>\n",
       "  <tbody>\n",
       "    <tr>\n",
       "      <th>0</th>\n",
       "      <td>User_1</td>\n",
       "      <td>BMW i3</td>\n",
       "      <td>108.463007</td>\n",
       "      <td>Station_391</td>\n",
       "      <td>Houston</td>\n",
       "      <td>2024-01-01 00:00:00</td>\n",
       "      <td>2024-01-01 00:39:00</td>\n",
       "      <td>60.712346</td>\n",
       "      <td>0.591363</td>\n",
       "      <td>36.389181</td>\n",
       "      <td>13.087717</td>\n",
       "      <td>Evening</td>\n",
       "      <td>Tuesday</td>\n",
       "      <td>29.371576</td>\n",
       "      <td>86.119962</td>\n",
       "      <td>293.602111</td>\n",
       "      <td>27.947953</td>\n",
       "      <td>2.0</td>\n",
       "      <td>DC Fast Charger</td>\n",
       "      <td>Commuter</td>\n",
       "    </tr>\n",
       "    <tr>\n",
       "      <th>1</th>\n",
       "      <td>User_2</td>\n",
       "      <td>Hyundai Kona</td>\n",
       "      <td>100.000000</td>\n",
       "      <td>Station_428</td>\n",
       "      <td>San Francisco</td>\n",
       "      <td>2024-01-01 01:00:00</td>\n",
       "      <td>2024-01-01 03:01:00</td>\n",
       "      <td>12.339275</td>\n",
       "      <td>3.133652</td>\n",
       "      <td>30.677735</td>\n",
       "      <td>21.128448</td>\n",
       "      <td>Morning</td>\n",
       "      <td>Monday</td>\n",
       "      <td>10.115778</td>\n",
       "      <td>84.664344</td>\n",
       "      <td>112.112804</td>\n",
       "      <td>14.311026</td>\n",
       "      <td>3.0</td>\n",
       "      <td>Level 1</td>\n",
       "      <td>Casual Driver</td>\n",
       "    </tr>\n",
       "    <tr>\n",
       "      <th>2</th>\n",
       "      <td>User_3</td>\n",
       "      <td>Chevy Bolt</td>\n",
       "      <td>75.000000</td>\n",
       "      <td>Station_181</td>\n",
       "      <td>San Francisco</td>\n",
       "      <td>2024-01-01 02:00:00</td>\n",
       "      <td>2024-01-01 04:48:00</td>\n",
       "      <td>19.128876</td>\n",
       "      <td>2.452653</td>\n",
       "      <td>27.513593</td>\n",
       "      <td>35.667270</td>\n",
       "      <td>Morning</td>\n",
       "      <td>Thursday</td>\n",
       "      <td>6.854604</td>\n",
       "      <td>69.917615</td>\n",
       "      <td>71.799253</td>\n",
       "      <td>21.002002</td>\n",
       "      <td>2.0</td>\n",
       "      <td>Level 2</td>\n",
       "      <td>Commuter</td>\n",
       "    </tr>\n",
       "    <tr>\n",
       "      <th>3</th>\n",
       "      <td>User_4</td>\n",
       "      <td>Hyundai Kona</td>\n",
       "      <td>50.000000</td>\n",
       "      <td>Station_327</td>\n",
       "      <td>Houston</td>\n",
       "      <td>2024-01-01 03:00:00</td>\n",
       "      <td>2024-01-01 06:42:00</td>\n",
       "      <td>79.457824</td>\n",
       "      <td>1.266431</td>\n",
       "      <td>32.882870</td>\n",
       "      <td>13.036239</td>\n",
       "      <td>Evening</td>\n",
       "      <td>Saturday</td>\n",
       "      <td>83.120003</td>\n",
       "      <td>99.624328</td>\n",
       "      <td>199.577785</td>\n",
       "      <td>38.316313</td>\n",
       "      <td>1.0</td>\n",
       "      <td>Level 1</td>\n",
       "      <td>Long-Distance Traveler</td>\n",
       "    </tr>\n",
       "    <tr>\n",
       "      <th>4</th>\n",
       "      <td>User_5</td>\n",
       "      <td>Hyundai Kona</td>\n",
       "      <td>50.000000</td>\n",
       "      <td>Station_108</td>\n",
       "      <td>Los Angeles</td>\n",
       "      <td>2024-01-01 04:00:00</td>\n",
       "      <td>2024-01-01 05:46:00</td>\n",
       "      <td>19.629104</td>\n",
       "      <td>2.019765</td>\n",
       "      <td>10.215712</td>\n",
       "      <td>10.161471</td>\n",
       "      <td>Morning</td>\n",
       "      <td>Saturday</td>\n",
       "      <td>54.258950</td>\n",
       "      <td>63.743786</td>\n",
       "      <td>203.661847</td>\n",
       "      <td>-7.834199</td>\n",
       "      <td>1.0</td>\n",
       "      <td>Level 1</td>\n",
       "      <td>Long-Distance Traveler</td>\n",
       "    </tr>\n",
       "    <tr>\n",
       "      <th>...</th>\n",
       "      <td>...</td>\n",
       "      <td>...</td>\n",
       "      <td>...</td>\n",
       "      <td>...</td>\n",
       "      <td>...</td>\n",
       "      <td>...</td>\n",
       "      <td>...</td>\n",
       "      <td>...</td>\n",
       "      <td>...</td>\n",
       "      <td>...</td>\n",
       "      <td>...</td>\n",
       "      <td>...</td>\n",
       "      <td>...</td>\n",
       "      <td>...</td>\n",
       "      <td>...</td>\n",
       "      <td>...</td>\n",
       "      <td>...</td>\n",
       "      <td>...</td>\n",
       "      <td>...</td>\n",
       "      <td>...</td>\n",
       "    </tr>\n",
       "    <tr>\n",
       "      <th>1315</th>\n",
       "      <td>User_1316</td>\n",
       "      <td>Nissan Leaf</td>\n",
       "      <td>100.000000</td>\n",
       "      <td>Station_57</td>\n",
       "      <td>New York</td>\n",
       "      <td>2024-02-24 19:00:00</td>\n",
       "      <td>2024-02-24 20:30:00</td>\n",
       "      <td>42.011654</td>\n",
       "      <td>1.426444</td>\n",
       "      <td>5.895475</td>\n",
       "      <td>22.081164</td>\n",
       "      <td>Evening</td>\n",
       "      <td>Sunday</td>\n",
       "      <td>39.204102</td>\n",
       "      <td>83.915952</td>\n",
       "      <td>239.601075</td>\n",
       "      <td>1.919655</td>\n",
       "      <td>7.0</td>\n",
       "      <td>DC Fast Charger</td>\n",
       "      <td>Commuter</td>\n",
       "    </tr>\n",
       "    <tr>\n",
       "      <th>1316</th>\n",
       "      <td>User_1317</td>\n",
       "      <td>BMW i3</td>\n",
       "      <td>100.000000</td>\n",
       "      <td>Station_40</td>\n",
       "      <td>New York</td>\n",
       "      <td>2024-02-24 20:00:00</td>\n",
       "      <td>2024-02-24 20:44:00</td>\n",
       "      <td>68.185853</td>\n",
       "      <td>3.238212</td>\n",
       "      <td>18.388012</td>\n",
       "      <td>5.067806</td>\n",
       "      <td>Evening</td>\n",
       "      <td>Tuesday</td>\n",
       "      <td>31.456375</td>\n",
       "      <td>93.096461</td>\n",
       "      <td>164.376022</td>\n",
       "      <td>34.029775</td>\n",
       "      <td>4.0</td>\n",
       "      <td>Level 2</td>\n",
       "      <td>Casual Driver</td>\n",
       "    </tr>\n",
       "    <tr>\n",
       "      <th>1317</th>\n",
       "      <td>User_1318</td>\n",
       "      <td>Nissan Leaf</td>\n",
       "      <td>100.000000</td>\n",
       "      <td>Station_374</td>\n",
       "      <td>New York</td>\n",
       "      <td>2024-02-24 21:00:00</td>\n",
       "      <td>2024-02-24 23:03:00</td>\n",
       "      <td>18.895102</td>\n",
       "      <td>3.267122</td>\n",
       "      <td>45.482066</td>\n",
       "      <td>37.255002</td>\n",
       "      <td>Evening</td>\n",
       "      <td>Tuesday</td>\n",
       "      <td>71.903081</td>\n",
       "      <td>78.678879</td>\n",
       "      <td>226.519258</td>\n",
       "      <td>20.358761</td>\n",
       "      <td>5.0</td>\n",
       "      <td>DC Fast Charger</td>\n",
       "      <td>Commuter</td>\n",
       "    </tr>\n",
       "    <tr>\n",
       "      <th>1318</th>\n",
       "      <td>User_1319</td>\n",
       "      <td>Chevy Bolt</td>\n",
       "      <td>85.000000</td>\n",
       "      <td>Station_336</td>\n",
       "      <td>San Francisco</td>\n",
       "      <td>2024-02-24 22:00:00</td>\n",
       "      <td>2024-02-24 23:20:00</td>\n",
       "      <td>13.756252</td>\n",
       "      <td>2.754527</td>\n",
       "      <td>38.148183</td>\n",
       "      <td>39.046146</td>\n",
       "      <td>Afternoon</td>\n",
       "      <td>Sunday</td>\n",
       "      <td>76.187997</td>\n",
       "      <td>65.926573</td>\n",
       "      <td>291.494076</td>\n",
       "      <td>24.134598</td>\n",
       "      <td>5.0</td>\n",
       "      <td>Level 2</td>\n",
       "      <td>Commuter</td>\n",
       "    </tr>\n",
       "    <tr>\n",
       "      <th>1319</th>\n",
       "      <td>User_1320</td>\n",
       "      <td>Nissan Leaf</td>\n",
       "      <td>120.447195</td>\n",
       "      <td>Station_128</td>\n",
       "      <td>Los Angeles</td>\n",
       "      <td>2024-02-24 23:00:00</td>\n",
       "      <td>2024-02-24 23:56:00</td>\n",
       "      <td>63.652570</td>\n",
       "      <td>3.740970</td>\n",
       "      <td>33.704226</td>\n",
       "      <td>10.863674</td>\n",
       "      <td>Evening</td>\n",
       "      <td>Monday</td>\n",
       "      <td>59.338076</td>\n",
       "      <td>56.692439</td>\n",
       "      <td>14.449236</td>\n",
       "      <td>-6.966593</td>\n",
       "      <td>5.0</td>\n",
       "      <td>DC Fast Charger</td>\n",
       "      <td>Commuter</td>\n",
       "    </tr>\n",
       "  </tbody>\n",
       "</table>\n",
       "<p>1320 rows × 20 columns</p>\n",
       "</div>"
      ],
      "text/plain": [
       "        User ID Vehicle Model  Battery Capacity (kWh) Charging Station ID  \\\n",
       "0        User_1        BMW i3              108.463007         Station_391   \n",
       "1        User_2  Hyundai Kona              100.000000         Station_428   \n",
       "2        User_3    Chevy Bolt               75.000000         Station_181   \n",
       "3        User_4  Hyundai Kona               50.000000         Station_327   \n",
       "4        User_5  Hyundai Kona               50.000000         Station_108   \n",
       "...         ...           ...                     ...                 ...   \n",
       "1315  User_1316   Nissan Leaf              100.000000          Station_57   \n",
       "1316  User_1317        BMW i3              100.000000          Station_40   \n",
       "1317  User_1318   Nissan Leaf              100.000000         Station_374   \n",
       "1318  User_1319    Chevy Bolt               85.000000         Station_336   \n",
       "1319  User_1320   Nissan Leaf              120.447195         Station_128   \n",
       "\n",
       "     Charging Station Location  Charging Start Time    Charging End Time  \\\n",
       "0                      Houston  2024-01-01 00:00:00  2024-01-01 00:39:00   \n",
       "1                San Francisco  2024-01-01 01:00:00  2024-01-01 03:01:00   \n",
       "2                San Francisco  2024-01-01 02:00:00  2024-01-01 04:48:00   \n",
       "3                      Houston  2024-01-01 03:00:00  2024-01-01 06:42:00   \n",
       "4                  Los Angeles  2024-01-01 04:00:00  2024-01-01 05:46:00   \n",
       "...                        ...                  ...                  ...   \n",
       "1315                  New York  2024-02-24 19:00:00  2024-02-24 20:30:00   \n",
       "1316                  New York  2024-02-24 20:00:00  2024-02-24 20:44:00   \n",
       "1317                  New York  2024-02-24 21:00:00  2024-02-24 23:03:00   \n",
       "1318             San Francisco  2024-02-24 22:00:00  2024-02-24 23:20:00   \n",
       "1319               Los Angeles  2024-02-24 23:00:00  2024-02-24 23:56:00   \n",
       "\n",
       "      Energy Consumed (kWh)  Charging Duration (hours)  Charging Rate (kW)  \\\n",
       "0                 60.712346                   0.591363           36.389181   \n",
       "1                 12.339275                   3.133652           30.677735   \n",
       "2                 19.128876                   2.452653           27.513593   \n",
       "3                 79.457824                   1.266431           32.882870   \n",
       "4                 19.629104                   2.019765           10.215712   \n",
       "...                     ...                        ...                 ...   \n",
       "1315              42.011654                   1.426444            5.895475   \n",
       "1316              68.185853                   3.238212           18.388012   \n",
       "1317              18.895102                   3.267122           45.482066   \n",
       "1318              13.756252                   2.754527           38.148183   \n",
       "1319              63.652570                   3.740970           33.704226   \n",
       "\n",
       "      Charging Cost (USD) Time of Day Day of Week  State of Charge (Start %)  \\\n",
       "0               13.087717     Evening     Tuesday                  29.371576   \n",
       "1               21.128448     Morning      Monday                  10.115778   \n",
       "2               35.667270     Morning    Thursday                   6.854604   \n",
       "3               13.036239     Evening    Saturday                  83.120003   \n",
       "4               10.161471     Morning    Saturday                  54.258950   \n",
       "...                   ...         ...         ...                        ...   \n",
       "1315            22.081164     Evening      Sunday                  39.204102   \n",
       "1316             5.067806     Evening     Tuesday                  31.456375   \n",
       "1317            37.255002     Evening     Tuesday                  71.903081   \n",
       "1318            39.046146   Afternoon      Sunday                  76.187997   \n",
       "1319            10.863674     Evening      Monday                  59.338076   \n",
       "\n",
       "      State of Charge (End %)  Distance Driven (since last charge) (km)  \\\n",
       "0                   86.119962                                293.602111   \n",
       "1                   84.664344                                112.112804   \n",
       "2                   69.917615                                 71.799253   \n",
       "3                   99.624328                                199.577785   \n",
       "4                   63.743786                                203.661847   \n",
       "...                       ...                                       ...   \n",
       "1315                83.915952                                239.601075   \n",
       "1316                93.096461                                164.376022   \n",
       "1317                78.678879                                226.519258   \n",
       "1318                65.926573                                291.494076   \n",
       "1319                56.692439                                 14.449236   \n",
       "\n",
       "      Temperature (°C)  Vehicle Age (years)     Charger Type  \\\n",
       "0            27.947953                  2.0  DC Fast Charger   \n",
       "1            14.311026                  3.0          Level 1   \n",
       "2            21.002002                  2.0          Level 2   \n",
       "3            38.316313                  1.0          Level 1   \n",
       "4            -7.834199                  1.0          Level 1   \n",
       "...                ...                  ...              ...   \n",
       "1315          1.919655                  7.0  DC Fast Charger   \n",
       "1316         34.029775                  4.0          Level 2   \n",
       "1317         20.358761                  5.0  DC Fast Charger   \n",
       "1318         24.134598                  5.0          Level 2   \n",
       "1319         -6.966593                  5.0  DC Fast Charger   \n",
       "\n",
       "                   User Type  \n",
       "0                   Commuter  \n",
       "1              Casual Driver  \n",
       "2                   Commuter  \n",
       "3     Long-Distance Traveler  \n",
       "4     Long-Distance Traveler  \n",
       "...                      ...  \n",
       "1315                Commuter  \n",
       "1316           Casual Driver  \n",
       "1317                Commuter  \n",
       "1318                Commuter  \n",
       "1319                Commuter  \n",
       "\n",
       "[1320 rows x 20 columns]"
      ]
     },
     "execution_count": 4,
     "metadata": {},
     "output_type": "execute_result"
    }
   ],
   "source": [
    "df = pd.read_csv(r\"C:\\Users\\DELL\\Desktop\\PROJECT\\ev_charging_patterns dataset.csv\")\n",
    "df"
   ]
  },
  {
   "cell_type": "code",
   "execution_count": 5,
   "id": "10f33ef2",
   "metadata": {},
   "outputs": [
    {
     "name": "stdout",
     "output_type": "stream",
     "text": [
      "43\n"
     ]
    }
   ],
   "source": [
    "avg_Energyconsumed=round(df['Energy Consumed (kWh)'].mean())\n",
    "print(avg_Energyconsumed)"
   ]
  },
  {
   "cell_type": "code",
   "execution_count": 6,
   "id": "01de9857",
   "metadata": {},
   "outputs": [
    {
     "name": "stderr",
     "output_type": "stream",
     "text": [
      "C:\\Users\\DELL\\AppData\\Local\\Temp\\ipykernel_7068\\3727275266.py:1: FutureWarning: A value is trying to be set on a copy of a DataFrame or Series through chained assignment using an inplace method.\n",
      "The behavior will change in pandas 3.0. This inplace method will never work because the intermediate object on which we are setting values always behaves as a copy.\n",
      "\n",
      "For example, when doing 'df[col].method(value, inplace=True)', try using 'df.method({col: value}, inplace=True)' or df[col] = df[col].method(value) instead, to perform the operation inplace on the original object.\n",
      "\n",
      "\n",
      "  df['Energy Consumed (kWh)'].fillna(avg_Energyconsumed, inplace=True)\n"
     ]
    },
    {
     "data": {
      "text/html": [
       "<div>\n",
       "<style scoped>\n",
       "    .dataframe tbody tr th:only-of-type {\n",
       "        vertical-align: middle;\n",
       "    }\n",
       "\n",
       "    .dataframe tbody tr th {\n",
       "        vertical-align: top;\n",
       "    }\n",
       "\n",
       "    .dataframe thead th {\n",
       "        text-align: right;\n",
       "    }\n",
       "</style>\n",
       "<table border=\"1\" class=\"dataframe\">\n",
       "  <thead>\n",
       "    <tr style=\"text-align: right;\">\n",
       "      <th></th>\n",
       "      <th>User ID</th>\n",
       "      <th>Vehicle Model</th>\n",
       "      <th>Battery Capacity (kWh)</th>\n",
       "      <th>Charging Station ID</th>\n",
       "      <th>Charging Station Location</th>\n",
       "      <th>Charging Start Time</th>\n",
       "      <th>Charging End Time</th>\n",
       "      <th>Energy Consumed (kWh)</th>\n",
       "      <th>Charging Duration (hours)</th>\n",
       "      <th>Charging Rate (kW)</th>\n",
       "      <th>Charging Cost (USD)</th>\n",
       "      <th>Time of Day</th>\n",
       "      <th>Day of Week</th>\n",
       "      <th>State of Charge (Start %)</th>\n",
       "      <th>State of Charge (End %)</th>\n",
       "      <th>Distance Driven (since last charge) (km)</th>\n",
       "      <th>Temperature (°C)</th>\n",
       "      <th>Vehicle Age (years)</th>\n",
       "      <th>Charger Type</th>\n",
       "      <th>User Type</th>\n",
       "    </tr>\n",
       "  </thead>\n",
       "  <tbody>\n",
       "    <tr>\n",
       "      <th>0</th>\n",
       "      <td>User_1</td>\n",
       "      <td>BMW i3</td>\n",
       "      <td>108.463007</td>\n",
       "      <td>Station_391</td>\n",
       "      <td>Houston</td>\n",
       "      <td>2024-01-01 00:00:00</td>\n",
       "      <td>2024-01-01 00:39:00</td>\n",
       "      <td>60.712346</td>\n",
       "      <td>0.591363</td>\n",
       "      <td>36.389181</td>\n",
       "      <td>13.087717</td>\n",
       "      <td>Evening</td>\n",
       "      <td>Tuesday</td>\n",
       "      <td>29.371576</td>\n",
       "      <td>86.119962</td>\n",
       "      <td>293.602111</td>\n",
       "      <td>27.947953</td>\n",
       "      <td>2.000000</td>\n",
       "      <td>DC Fast Charger</td>\n",
       "      <td>Commuter</td>\n",
       "    </tr>\n",
       "    <tr>\n",
       "      <th>1</th>\n",
       "      <td>User_2</td>\n",
       "      <td>Hyundai Kona</td>\n",
       "      <td>100.000000</td>\n",
       "      <td>Station_428</td>\n",
       "      <td>San Francisco</td>\n",
       "      <td>2024-01-01 01:00:00</td>\n",
       "      <td>2024-01-01 03:01:00</td>\n",
       "      <td>12.339275</td>\n",
       "      <td>3.133652</td>\n",
       "      <td>30.677735</td>\n",
       "      <td>21.128448</td>\n",
       "      <td>Morning</td>\n",
       "      <td>Monday</td>\n",
       "      <td>10.115778</td>\n",
       "      <td>84.664344</td>\n",
       "      <td>112.112804</td>\n",
       "      <td>14.311026</td>\n",
       "      <td>3.000000</td>\n",
       "      <td>Level 1</td>\n",
       "      <td>Casual Driver</td>\n",
       "    </tr>\n",
       "    <tr>\n",
       "      <th>2</th>\n",
       "      <td>User_3</td>\n",
       "      <td>Chevy Bolt</td>\n",
       "      <td>75.000000</td>\n",
       "      <td>Station_181</td>\n",
       "      <td>San Francisco</td>\n",
       "      <td>2024-01-01 02:00:00</td>\n",
       "      <td>2024-01-01 04:48:00</td>\n",
       "      <td>19.128876</td>\n",
       "      <td>2.452653</td>\n",
       "      <td>27.513593</td>\n",
       "      <td>35.667270</td>\n",
       "      <td>Morning</td>\n",
       "      <td>Thursday</td>\n",
       "      <td>6.854604</td>\n",
       "      <td>69.917615</td>\n",
       "      <td>71.799253</td>\n",
       "      <td>21.002002</td>\n",
       "      <td>2.000000</td>\n",
       "      <td>Level 2</td>\n",
       "      <td>Commuter</td>\n",
       "    </tr>\n",
       "    <tr>\n",
       "      <th>3</th>\n",
       "      <td>User_4</td>\n",
       "      <td>Hyundai Kona</td>\n",
       "      <td>50.000000</td>\n",
       "      <td>Station_327</td>\n",
       "      <td>Houston</td>\n",
       "      <td>2024-01-01 03:00:00</td>\n",
       "      <td>2024-01-01 06:42:00</td>\n",
       "      <td>79.457824</td>\n",
       "      <td>1.266431</td>\n",
       "      <td>32.882870</td>\n",
       "      <td>13.036239</td>\n",
       "      <td>Evening</td>\n",
       "      <td>Saturday</td>\n",
       "      <td>83.120003</td>\n",
       "      <td>99.624328</td>\n",
       "      <td>199.577785</td>\n",
       "      <td>38.316313</td>\n",
       "      <td>1.000000</td>\n",
       "      <td>Level 1</td>\n",
       "      <td>Long-Distance Traveler</td>\n",
       "    </tr>\n",
       "    <tr>\n",
       "      <th>4</th>\n",
       "      <td>User_5</td>\n",
       "      <td>Hyundai Kona</td>\n",
       "      <td>50.000000</td>\n",
       "      <td>Station_108</td>\n",
       "      <td>Los Angeles</td>\n",
       "      <td>2024-01-01 04:00:00</td>\n",
       "      <td>2024-01-01 05:46:00</td>\n",
       "      <td>19.629104</td>\n",
       "      <td>2.019765</td>\n",
       "      <td>10.215712</td>\n",
       "      <td>10.161471</td>\n",
       "      <td>Morning</td>\n",
       "      <td>Saturday</td>\n",
       "      <td>54.258950</td>\n",
       "      <td>63.743786</td>\n",
       "      <td>203.661847</td>\n",
       "      <td>-7.834199</td>\n",
       "      <td>1.000000</td>\n",
       "      <td>Level 1</td>\n",
       "      <td>Long-Distance Traveler</td>\n",
       "    </tr>\n",
       "    <tr>\n",
       "      <th>5</th>\n",
       "      <td>User_6</td>\n",
       "      <td>Nissan Leaf</td>\n",
       "      <td>50.000000</td>\n",
       "      <td>Station_335</td>\n",
       "      <td>San Francisco</td>\n",
       "      <td>2024-01-01 05:00:00</td>\n",
       "      <td>2024-01-01 07:10:00</td>\n",
       "      <td>43.181137</td>\n",
       "      <td>1.167640</td>\n",
       "      <td>14.334523</td>\n",
       "      <td>36.900341</td>\n",
       "      <td>Evening</td>\n",
       "      <td>Saturday</td>\n",
       "      <td>75.217748</td>\n",
       "      <td>71.982288</td>\n",
       "      <td>143.680046</td>\n",
       "      <td>-5.274218</td>\n",
       "      <td>0.000000</td>\n",
       "      <td>DC Fast Charger</td>\n",
       "      <td>Long-Distance Traveler</td>\n",
       "    </tr>\n",
       "    <tr>\n",
       "      <th>6</th>\n",
       "      <td>User_7</td>\n",
       "      <td>Chevy Bolt</td>\n",
       "      <td>85.000000</td>\n",
       "      <td>Station_162</td>\n",
       "      <td>Houston</td>\n",
       "      <td>2024-01-01 06:00:00</td>\n",
       "      <td>2024-01-01 07:53:00</td>\n",
       "      <td>36.862140</td>\n",
       "      <td>3.539619</td>\n",
       "      <td>26.185188</td>\n",
       "      <td>22.214225</td>\n",
       "      <td>Evening</td>\n",
       "      <td>Friday</td>\n",
       "      <td>60.751781</td>\n",
       "      <td>70.796097</td>\n",
       "      <td>81.338009</td>\n",
       "      <td>27.551335</td>\n",
       "      <td>4.000000</td>\n",
       "      <td>Level 2</td>\n",
       "      <td>Commuter</td>\n",
       "    </tr>\n",
       "    <tr>\n",
       "      <th>7</th>\n",
       "      <td>User_8</td>\n",
       "      <td>Chevy Bolt</td>\n",
       "      <td>75.000000</td>\n",
       "      <td>Station_302</td>\n",
       "      <td>Los Angeles</td>\n",
       "      <td>2024-01-01 07:00:00</td>\n",
       "      <td>2024-01-01 10:42:00</td>\n",
       "      <td>51.467617</td>\n",
       "      <td>2.655396</td>\n",
       "      <td>26.702908</td>\n",
       "      <td>9.796821</td>\n",
       "      <td>Afternoon</td>\n",
       "      <td>Monday</td>\n",
       "      <td>56.201703</td>\n",
       "      <td>63.786815</td>\n",
       "      <td>116.543166</td>\n",
       "      <td>-4.417460</td>\n",
       "      <td>0.000000</td>\n",
       "      <td>Level 2</td>\n",
       "      <td>Long-Distance Traveler</td>\n",
       "    </tr>\n",
       "    <tr>\n",
       "      <th>8</th>\n",
       "      <td>User_9</td>\n",
       "      <td>Chevy Bolt</td>\n",
       "      <td>62.000000</td>\n",
       "      <td>Station_493</td>\n",
       "      <td>Los Angeles</td>\n",
       "      <td>2024-01-01 08:00:00</td>\n",
       "      <td>2024-01-01 09:21:00</td>\n",
       "      <td>43.592372</td>\n",
       "      <td>1.724204</td>\n",
       "      <td>14.294923</td>\n",
       "      <td>32.465005</td>\n",
       "      <td>Evening</td>\n",
       "      <td>Wednesday</td>\n",
       "      <td>33.466200</td>\n",
       "      <td>92.961421</td>\n",
       "      <td>208.259742</td>\n",
       "      <td>22.516706</td>\n",
       "      <td>4.000000</td>\n",
       "      <td>Level 1</td>\n",
       "      <td>Commuter</td>\n",
       "    </tr>\n",
       "    <tr>\n",
       "      <th>9</th>\n",
       "      <td>User_10</td>\n",
       "      <td>Hyundai Kona</td>\n",
       "      <td>50.000000</td>\n",
       "      <td>Station_452</td>\n",
       "      <td>Chicago</td>\n",
       "      <td>2024-01-01 09:00:00</td>\n",
       "      <td>2024-01-01 12:44:00</td>\n",
       "      <td>78.868607</td>\n",
       "      <td>2.026875</td>\n",
       "      <td>11.761000</td>\n",
       "      <td>21.312302</td>\n",
       "      <td>Morning</td>\n",
       "      <td>Wednesday</td>\n",
       "      <td>27.399455</td>\n",
       "      <td>70.053381</td>\n",
       "      <td>54.006309</td>\n",
       "      <td>27.512019</td>\n",
       "      <td>2.830381</td>\n",
       "      <td>DC Fast Charger</td>\n",
       "      <td>Commuter</td>\n",
       "    </tr>\n",
       "  </tbody>\n",
       "</table>\n",
       "</div>"
      ],
      "text/plain": [
       "   User ID Vehicle Model  Battery Capacity (kWh) Charging Station ID  \\\n",
       "0   User_1        BMW i3              108.463007         Station_391   \n",
       "1   User_2  Hyundai Kona              100.000000         Station_428   \n",
       "2   User_3    Chevy Bolt               75.000000         Station_181   \n",
       "3   User_4  Hyundai Kona               50.000000         Station_327   \n",
       "4   User_5  Hyundai Kona               50.000000         Station_108   \n",
       "5   User_6   Nissan Leaf               50.000000         Station_335   \n",
       "6   User_7    Chevy Bolt               85.000000         Station_162   \n",
       "7   User_8    Chevy Bolt               75.000000         Station_302   \n",
       "8   User_9    Chevy Bolt               62.000000         Station_493   \n",
       "9  User_10  Hyundai Kona               50.000000         Station_452   \n",
       "\n",
       "  Charging Station Location  Charging Start Time    Charging End Time  \\\n",
       "0                   Houston  2024-01-01 00:00:00  2024-01-01 00:39:00   \n",
       "1             San Francisco  2024-01-01 01:00:00  2024-01-01 03:01:00   \n",
       "2             San Francisco  2024-01-01 02:00:00  2024-01-01 04:48:00   \n",
       "3                   Houston  2024-01-01 03:00:00  2024-01-01 06:42:00   \n",
       "4               Los Angeles  2024-01-01 04:00:00  2024-01-01 05:46:00   \n",
       "5             San Francisco  2024-01-01 05:00:00  2024-01-01 07:10:00   \n",
       "6                   Houston  2024-01-01 06:00:00  2024-01-01 07:53:00   \n",
       "7               Los Angeles  2024-01-01 07:00:00  2024-01-01 10:42:00   \n",
       "8               Los Angeles  2024-01-01 08:00:00  2024-01-01 09:21:00   \n",
       "9                   Chicago  2024-01-01 09:00:00  2024-01-01 12:44:00   \n",
       "\n",
       "   Energy Consumed (kWh)  Charging Duration (hours)  Charging Rate (kW)  \\\n",
       "0              60.712346                   0.591363           36.389181   \n",
       "1              12.339275                   3.133652           30.677735   \n",
       "2              19.128876                   2.452653           27.513593   \n",
       "3              79.457824                   1.266431           32.882870   \n",
       "4              19.629104                   2.019765           10.215712   \n",
       "5              43.181137                   1.167640           14.334523   \n",
       "6              36.862140                   3.539619           26.185188   \n",
       "7              51.467617                   2.655396           26.702908   \n",
       "8              43.592372                   1.724204           14.294923   \n",
       "9              78.868607                   2.026875           11.761000   \n",
       "\n",
       "   Charging Cost (USD) Time of Day Day of Week  State of Charge (Start %)  \\\n",
       "0            13.087717     Evening     Tuesday                  29.371576   \n",
       "1            21.128448     Morning      Monday                  10.115778   \n",
       "2            35.667270     Morning    Thursday                   6.854604   \n",
       "3            13.036239     Evening    Saturday                  83.120003   \n",
       "4            10.161471     Morning    Saturday                  54.258950   \n",
       "5            36.900341     Evening    Saturday                  75.217748   \n",
       "6            22.214225     Evening      Friday                  60.751781   \n",
       "7             9.796821   Afternoon      Monday                  56.201703   \n",
       "8            32.465005     Evening   Wednesday                  33.466200   \n",
       "9            21.312302     Morning   Wednesday                  27.399455   \n",
       "\n",
       "   State of Charge (End %)  Distance Driven (since last charge) (km)  \\\n",
       "0                86.119962                                293.602111   \n",
       "1                84.664344                                112.112804   \n",
       "2                69.917615                                 71.799253   \n",
       "3                99.624328                                199.577785   \n",
       "4                63.743786                                203.661847   \n",
       "5                71.982288                                143.680046   \n",
       "6                70.796097                                 81.338009   \n",
       "7                63.786815                                116.543166   \n",
       "8                92.961421                                208.259742   \n",
       "9                70.053381                                 54.006309   \n",
       "\n",
       "   Temperature (°C)  Vehicle Age (years)     Charger Type  \\\n",
       "0         27.947953             2.000000  DC Fast Charger   \n",
       "1         14.311026             3.000000          Level 1   \n",
       "2         21.002002             2.000000          Level 2   \n",
       "3         38.316313             1.000000          Level 1   \n",
       "4         -7.834199             1.000000          Level 1   \n",
       "5         -5.274218             0.000000  DC Fast Charger   \n",
       "6         27.551335             4.000000          Level 2   \n",
       "7         -4.417460             0.000000          Level 2   \n",
       "8         22.516706             4.000000          Level 1   \n",
       "9         27.512019             2.830381  DC Fast Charger   \n",
       "\n",
       "                User Type  \n",
       "0                Commuter  \n",
       "1           Casual Driver  \n",
       "2                Commuter  \n",
       "3  Long-Distance Traveler  \n",
       "4  Long-Distance Traveler  \n",
       "5  Long-Distance Traveler  \n",
       "6                Commuter  \n",
       "7  Long-Distance Traveler  \n",
       "8                Commuter  \n",
       "9                Commuter  "
      ]
     },
     "execution_count": 6,
     "metadata": {},
     "output_type": "execute_result"
    }
   ],
   "source": [
    "df['Energy Consumed (kWh)'].fillna(avg_Energyconsumed, inplace=True)\n",
    "df.head(10)"
   ]
  },
  {
   "cell_type": "code",
   "execution_count": 7,
   "id": "912b700d",
   "metadata": {},
   "outputs": [
    {
     "name": "stdout",
     "output_type": "stream",
     "text": [
      "26\n"
     ]
    }
   ],
   "source": [
    "avg_Chargingrate=round(df['Charging Rate (kW)'].mean())\n",
    "print(avg_Chargingrate)"
   ]
  },
  {
   "cell_type": "code",
   "execution_count": 8,
   "id": "d5d33b1d",
   "metadata": {},
   "outputs": [
    {
     "name": "stderr",
     "output_type": "stream",
     "text": [
      "C:\\Users\\DELL\\AppData\\Local\\Temp\\ipykernel_7068\\540358063.py:1: FutureWarning: A value is trying to be set on a copy of a DataFrame or Series through chained assignment using an inplace method.\n",
      "The behavior will change in pandas 3.0. This inplace method will never work because the intermediate object on which we are setting values always behaves as a copy.\n",
      "\n",
      "For example, when doing 'df[col].method(value, inplace=True)', try using 'df.method({col: value}, inplace=True)' or df[col] = df[col].method(value) instead, to perform the operation inplace on the original object.\n",
      "\n",
      "\n",
      "  df['Charging Rate (kW)'].fillna(avg_Chargingrate, inplace=True)\n"
     ]
    },
    {
     "data": {
      "text/html": [
       "<div>\n",
       "<style scoped>\n",
       "    .dataframe tbody tr th:only-of-type {\n",
       "        vertical-align: middle;\n",
       "    }\n",
       "\n",
       "    .dataframe tbody tr th {\n",
       "        vertical-align: top;\n",
       "    }\n",
       "\n",
       "    .dataframe thead th {\n",
       "        text-align: right;\n",
       "    }\n",
       "</style>\n",
       "<table border=\"1\" class=\"dataframe\">\n",
       "  <thead>\n",
       "    <tr style=\"text-align: right;\">\n",
       "      <th></th>\n",
       "      <th>User ID</th>\n",
       "      <th>Vehicle Model</th>\n",
       "      <th>Battery Capacity (kWh)</th>\n",
       "      <th>Charging Station ID</th>\n",
       "      <th>Charging Station Location</th>\n",
       "      <th>Charging Start Time</th>\n",
       "      <th>Charging End Time</th>\n",
       "      <th>Energy Consumed (kWh)</th>\n",
       "      <th>Charging Duration (hours)</th>\n",
       "      <th>Charging Rate (kW)</th>\n",
       "      <th>Charging Cost (USD)</th>\n",
       "      <th>Time of Day</th>\n",
       "      <th>Day of Week</th>\n",
       "      <th>State of Charge (Start %)</th>\n",
       "      <th>State of Charge (End %)</th>\n",
       "      <th>Distance Driven (since last charge) (km)</th>\n",
       "      <th>Temperature (°C)</th>\n",
       "      <th>Vehicle Age (years)</th>\n",
       "      <th>Charger Type</th>\n",
       "      <th>User Type</th>\n",
       "    </tr>\n",
       "  </thead>\n",
       "  <tbody>\n",
       "    <tr>\n",
       "      <th>0</th>\n",
       "      <td>User_1</td>\n",
       "      <td>BMW i3</td>\n",
       "      <td>108.463007</td>\n",
       "      <td>Station_391</td>\n",
       "      <td>Houston</td>\n",
       "      <td>2024-01-01 00:00:00</td>\n",
       "      <td>2024-01-01 00:39:00</td>\n",
       "      <td>60.712346</td>\n",
       "      <td>0.591363</td>\n",
       "      <td>36.389181</td>\n",
       "      <td>13.087717</td>\n",
       "      <td>Evening</td>\n",
       "      <td>Tuesday</td>\n",
       "      <td>29.371576</td>\n",
       "      <td>86.119962</td>\n",
       "      <td>293.602111</td>\n",
       "      <td>27.947953</td>\n",
       "      <td>2.0</td>\n",
       "      <td>DC Fast Charger</td>\n",
       "      <td>Commuter</td>\n",
       "    </tr>\n",
       "    <tr>\n",
       "      <th>1</th>\n",
       "      <td>User_2</td>\n",
       "      <td>Hyundai Kona</td>\n",
       "      <td>100.000000</td>\n",
       "      <td>Station_428</td>\n",
       "      <td>San Francisco</td>\n",
       "      <td>2024-01-01 01:00:00</td>\n",
       "      <td>2024-01-01 03:01:00</td>\n",
       "      <td>12.339275</td>\n",
       "      <td>3.133652</td>\n",
       "      <td>30.677735</td>\n",
       "      <td>21.128448</td>\n",
       "      <td>Morning</td>\n",
       "      <td>Monday</td>\n",
       "      <td>10.115778</td>\n",
       "      <td>84.664344</td>\n",
       "      <td>112.112804</td>\n",
       "      <td>14.311026</td>\n",
       "      <td>3.0</td>\n",
       "      <td>Level 1</td>\n",
       "      <td>Casual Driver</td>\n",
       "    </tr>\n",
       "    <tr>\n",
       "      <th>2</th>\n",
       "      <td>User_3</td>\n",
       "      <td>Chevy Bolt</td>\n",
       "      <td>75.000000</td>\n",
       "      <td>Station_181</td>\n",
       "      <td>San Francisco</td>\n",
       "      <td>2024-01-01 02:00:00</td>\n",
       "      <td>2024-01-01 04:48:00</td>\n",
       "      <td>19.128876</td>\n",
       "      <td>2.452653</td>\n",
       "      <td>27.513593</td>\n",
       "      <td>35.667270</td>\n",
       "      <td>Morning</td>\n",
       "      <td>Thursday</td>\n",
       "      <td>6.854604</td>\n",
       "      <td>69.917615</td>\n",
       "      <td>71.799253</td>\n",
       "      <td>21.002002</td>\n",
       "      <td>2.0</td>\n",
       "      <td>Level 2</td>\n",
       "      <td>Commuter</td>\n",
       "    </tr>\n",
       "    <tr>\n",
       "      <th>3</th>\n",
       "      <td>User_4</td>\n",
       "      <td>Hyundai Kona</td>\n",
       "      <td>50.000000</td>\n",
       "      <td>Station_327</td>\n",
       "      <td>Houston</td>\n",
       "      <td>2024-01-01 03:00:00</td>\n",
       "      <td>2024-01-01 06:42:00</td>\n",
       "      <td>79.457824</td>\n",
       "      <td>1.266431</td>\n",
       "      <td>32.882870</td>\n",
       "      <td>13.036239</td>\n",
       "      <td>Evening</td>\n",
       "      <td>Saturday</td>\n",
       "      <td>83.120003</td>\n",
       "      <td>99.624328</td>\n",
       "      <td>199.577785</td>\n",
       "      <td>38.316313</td>\n",
       "      <td>1.0</td>\n",
       "      <td>Level 1</td>\n",
       "      <td>Long-Distance Traveler</td>\n",
       "    </tr>\n",
       "    <tr>\n",
       "      <th>4</th>\n",
       "      <td>User_5</td>\n",
       "      <td>Hyundai Kona</td>\n",
       "      <td>50.000000</td>\n",
       "      <td>Station_108</td>\n",
       "      <td>Los Angeles</td>\n",
       "      <td>2024-01-01 04:00:00</td>\n",
       "      <td>2024-01-01 05:46:00</td>\n",
       "      <td>19.629104</td>\n",
       "      <td>2.019765</td>\n",
       "      <td>10.215712</td>\n",
       "      <td>10.161471</td>\n",
       "      <td>Morning</td>\n",
       "      <td>Saturday</td>\n",
       "      <td>54.258950</td>\n",
       "      <td>63.743786</td>\n",
       "      <td>203.661847</td>\n",
       "      <td>-7.834199</td>\n",
       "      <td>1.0</td>\n",
       "      <td>Level 1</td>\n",
       "      <td>Long-Distance Traveler</td>\n",
       "    </tr>\n",
       "  </tbody>\n",
       "</table>\n",
       "</div>"
      ],
      "text/plain": [
       "  User ID Vehicle Model  Battery Capacity (kWh) Charging Station ID  \\\n",
       "0  User_1        BMW i3              108.463007         Station_391   \n",
       "1  User_2  Hyundai Kona              100.000000         Station_428   \n",
       "2  User_3    Chevy Bolt               75.000000         Station_181   \n",
       "3  User_4  Hyundai Kona               50.000000         Station_327   \n",
       "4  User_5  Hyundai Kona               50.000000         Station_108   \n",
       "\n",
       "  Charging Station Location  Charging Start Time    Charging End Time  \\\n",
       "0                   Houston  2024-01-01 00:00:00  2024-01-01 00:39:00   \n",
       "1             San Francisco  2024-01-01 01:00:00  2024-01-01 03:01:00   \n",
       "2             San Francisco  2024-01-01 02:00:00  2024-01-01 04:48:00   \n",
       "3                   Houston  2024-01-01 03:00:00  2024-01-01 06:42:00   \n",
       "4               Los Angeles  2024-01-01 04:00:00  2024-01-01 05:46:00   \n",
       "\n",
       "   Energy Consumed (kWh)  Charging Duration (hours)  Charging Rate (kW)  \\\n",
       "0              60.712346                   0.591363           36.389181   \n",
       "1              12.339275                   3.133652           30.677735   \n",
       "2              19.128876                   2.452653           27.513593   \n",
       "3              79.457824                   1.266431           32.882870   \n",
       "4              19.629104                   2.019765           10.215712   \n",
       "\n",
       "   Charging Cost (USD) Time of Day Day of Week  State of Charge (Start %)  \\\n",
       "0            13.087717     Evening     Tuesday                  29.371576   \n",
       "1            21.128448     Morning      Monday                  10.115778   \n",
       "2            35.667270     Morning    Thursday                   6.854604   \n",
       "3            13.036239     Evening    Saturday                  83.120003   \n",
       "4            10.161471     Morning    Saturday                  54.258950   \n",
       "\n",
       "   State of Charge (End %)  Distance Driven (since last charge) (km)  \\\n",
       "0                86.119962                                293.602111   \n",
       "1                84.664344                                112.112804   \n",
       "2                69.917615                                 71.799253   \n",
       "3                99.624328                                199.577785   \n",
       "4                63.743786                                203.661847   \n",
       "\n",
       "   Temperature (°C)  Vehicle Age (years)     Charger Type  \\\n",
       "0         27.947953                  2.0  DC Fast Charger   \n",
       "1         14.311026                  3.0          Level 1   \n",
       "2         21.002002                  2.0          Level 2   \n",
       "3         38.316313                  1.0          Level 1   \n",
       "4         -7.834199                  1.0          Level 1   \n",
       "\n",
       "                User Type  \n",
       "0                Commuter  \n",
       "1           Casual Driver  \n",
       "2                Commuter  \n",
       "3  Long-Distance Traveler  \n",
       "4  Long-Distance Traveler  "
      ]
     },
     "execution_count": 8,
     "metadata": {},
     "output_type": "execute_result"
    }
   ],
   "source": [
    "df['Charging Rate (kW)'].fillna(avg_Chargingrate, inplace=True)\n",
    "df.head()\n"
   ]
  },
  {
   "cell_type": "code",
   "execution_count": 9,
   "id": "13d25b3d",
   "metadata": {},
   "outputs": [
    {
     "name": "stdout",
     "output_type": "stream",
     "text": [
      "154\n"
     ]
    }
   ],
   "source": [
    "avg_Distancedriven=round(df['Distance Driven (since last charge) (km)'].mean())\n",
    "print(avg_Distancedriven)"
   ]
  },
  {
   "cell_type": "code",
   "execution_count": 10,
   "id": "9cfc830c",
   "metadata": {},
   "outputs": [
    {
     "name": "stderr",
     "output_type": "stream",
     "text": [
      "C:\\Users\\DELL\\AppData\\Local\\Temp\\ipykernel_7068\\659537798.py:1: FutureWarning: A value is trying to be set on a copy of a DataFrame or Series through chained assignment using an inplace method.\n",
      "The behavior will change in pandas 3.0. This inplace method will never work because the intermediate object on which we are setting values always behaves as a copy.\n",
      "\n",
      "For example, when doing 'df[col].method(value, inplace=True)', try using 'df.method({col: value}, inplace=True)' or df[col] = df[col].method(value) instead, to perform the operation inplace on the original object.\n",
      "\n",
      "\n",
      "  df['Distance Driven (since last charge) (km)'].fillna(avg_Distancedriven, inplace=True)\n"
     ]
    },
    {
     "data": {
      "text/html": [
       "<div>\n",
       "<style scoped>\n",
       "    .dataframe tbody tr th:only-of-type {\n",
       "        vertical-align: middle;\n",
       "    }\n",
       "\n",
       "    .dataframe tbody tr th {\n",
       "        vertical-align: top;\n",
       "    }\n",
       "\n",
       "    .dataframe thead th {\n",
       "        text-align: right;\n",
       "    }\n",
       "</style>\n",
       "<table border=\"1\" class=\"dataframe\">\n",
       "  <thead>\n",
       "    <tr style=\"text-align: right;\">\n",
       "      <th></th>\n",
       "      <th>User ID</th>\n",
       "      <th>Vehicle Model</th>\n",
       "      <th>Battery Capacity (kWh)</th>\n",
       "      <th>Charging Station ID</th>\n",
       "      <th>Charging Station Location</th>\n",
       "      <th>Charging Start Time</th>\n",
       "      <th>Charging End Time</th>\n",
       "      <th>Energy Consumed (kWh)</th>\n",
       "      <th>Charging Duration (hours)</th>\n",
       "      <th>Charging Rate (kW)</th>\n",
       "      <th>Charging Cost (USD)</th>\n",
       "      <th>Time of Day</th>\n",
       "      <th>Day of Week</th>\n",
       "      <th>State of Charge (Start %)</th>\n",
       "      <th>State of Charge (End %)</th>\n",
       "      <th>Distance Driven (since last charge) (km)</th>\n",
       "      <th>Temperature (°C)</th>\n",
       "      <th>Vehicle Age (years)</th>\n",
       "      <th>Charger Type</th>\n",
       "      <th>User Type</th>\n",
       "    </tr>\n",
       "  </thead>\n",
       "  <tbody>\n",
       "    <tr>\n",
       "      <th>0</th>\n",
       "      <td>User_1</td>\n",
       "      <td>BMW i3</td>\n",
       "      <td>108.463007</td>\n",
       "      <td>Station_391</td>\n",
       "      <td>Houston</td>\n",
       "      <td>2024-01-01 00:00:00</td>\n",
       "      <td>2024-01-01 00:39:00</td>\n",
       "      <td>60.712346</td>\n",
       "      <td>0.591363</td>\n",
       "      <td>36.389181</td>\n",
       "      <td>13.087717</td>\n",
       "      <td>Evening</td>\n",
       "      <td>Tuesday</td>\n",
       "      <td>29.371576</td>\n",
       "      <td>86.119962</td>\n",
       "      <td>293.602111</td>\n",
       "      <td>27.947953</td>\n",
       "      <td>2.0</td>\n",
       "      <td>DC Fast Charger</td>\n",
       "      <td>Commuter</td>\n",
       "    </tr>\n",
       "    <tr>\n",
       "      <th>1</th>\n",
       "      <td>User_2</td>\n",
       "      <td>Hyundai Kona</td>\n",
       "      <td>100.000000</td>\n",
       "      <td>Station_428</td>\n",
       "      <td>San Francisco</td>\n",
       "      <td>2024-01-01 01:00:00</td>\n",
       "      <td>2024-01-01 03:01:00</td>\n",
       "      <td>12.339275</td>\n",
       "      <td>3.133652</td>\n",
       "      <td>30.677735</td>\n",
       "      <td>21.128448</td>\n",
       "      <td>Morning</td>\n",
       "      <td>Monday</td>\n",
       "      <td>10.115778</td>\n",
       "      <td>84.664344</td>\n",
       "      <td>112.112804</td>\n",
       "      <td>14.311026</td>\n",
       "      <td>3.0</td>\n",
       "      <td>Level 1</td>\n",
       "      <td>Casual Driver</td>\n",
       "    </tr>\n",
       "    <tr>\n",
       "      <th>2</th>\n",
       "      <td>User_3</td>\n",
       "      <td>Chevy Bolt</td>\n",
       "      <td>75.000000</td>\n",
       "      <td>Station_181</td>\n",
       "      <td>San Francisco</td>\n",
       "      <td>2024-01-01 02:00:00</td>\n",
       "      <td>2024-01-01 04:48:00</td>\n",
       "      <td>19.128876</td>\n",
       "      <td>2.452653</td>\n",
       "      <td>27.513593</td>\n",
       "      <td>35.667270</td>\n",
       "      <td>Morning</td>\n",
       "      <td>Thursday</td>\n",
       "      <td>6.854604</td>\n",
       "      <td>69.917615</td>\n",
       "      <td>71.799253</td>\n",
       "      <td>21.002002</td>\n",
       "      <td>2.0</td>\n",
       "      <td>Level 2</td>\n",
       "      <td>Commuter</td>\n",
       "    </tr>\n",
       "    <tr>\n",
       "      <th>3</th>\n",
       "      <td>User_4</td>\n",
       "      <td>Hyundai Kona</td>\n",
       "      <td>50.000000</td>\n",
       "      <td>Station_327</td>\n",
       "      <td>Houston</td>\n",
       "      <td>2024-01-01 03:00:00</td>\n",
       "      <td>2024-01-01 06:42:00</td>\n",
       "      <td>79.457824</td>\n",
       "      <td>1.266431</td>\n",
       "      <td>32.882870</td>\n",
       "      <td>13.036239</td>\n",
       "      <td>Evening</td>\n",
       "      <td>Saturday</td>\n",
       "      <td>83.120003</td>\n",
       "      <td>99.624328</td>\n",
       "      <td>199.577785</td>\n",
       "      <td>38.316313</td>\n",
       "      <td>1.0</td>\n",
       "      <td>Level 1</td>\n",
       "      <td>Long-Distance Traveler</td>\n",
       "    </tr>\n",
       "    <tr>\n",
       "      <th>4</th>\n",
       "      <td>User_5</td>\n",
       "      <td>Hyundai Kona</td>\n",
       "      <td>50.000000</td>\n",
       "      <td>Station_108</td>\n",
       "      <td>Los Angeles</td>\n",
       "      <td>2024-01-01 04:00:00</td>\n",
       "      <td>2024-01-01 05:46:00</td>\n",
       "      <td>19.629104</td>\n",
       "      <td>2.019765</td>\n",
       "      <td>10.215712</td>\n",
       "      <td>10.161471</td>\n",
       "      <td>Morning</td>\n",
       "      <td>Saturday</td>\n",
       "      <td>54.258950</td>\n",
       "      <td>63.743786</td>\n",
       "      <td>203.661847</td>\n",
       "      <td>-7.834199</td>\n",
       "      <td>1.0</td>\n",
       "      <td>Level 1</td>\n",
       "      <td>Long-Distance Traveler</td>\n",
       "    </tr>\n",
       "  </tbody>\n",
       "</table>\n",
       "</div>"
      ],
      "text/plain": [
       "  User ID Vehicle Model  Battery Capacity (kWh) Charging Station ID  \\\n",
       "0  User_1        BMW i3              108.463007         Station_391   \n",
       "1  User_2  Hyundai Kona              100.000000         Station_428   \n",
       "2  User_3    Chevy Bolt               75.000000         Station_181   \n",
       "3  User_4  Hyundai Kona               50.000000         Station_327   \n",
       "4  User_5  Hyundai Kona               50.000000         Station_108   \n",
       "\n",
       "  Charging Station Location  Charging Start Time    Charging End Time  \\\n",
       "0                   Houston  2024-01-01 00:00:00  2024-01-01 00:39:00   \n",
       "1             San Francisco  2024-01-01 01:00:00  2024-01-01 03:01:00   \n",
       "2             San Francisco  2024-01-01 02:00:00  2024-01-01 04:48:00   \n",
       "3                   Houston  2024-01-01 03:00:00  2024-01-01 06:42:00   \n",
       "4               Los Angeles  2024-01-01 04:00:00  2024-01-01 05:46:00   \n",
       "\n",
       "   Energy Consumed (kWh)  Charging Duration (hours)  Charging Rate (kW)  \\\n",
       "0              60.712346                   0.591363           36.389181   \n",
       "1              12.339275                   3.133652           30.677735   \n",
       "2              19.128876                   2.452653           27.513593   \n",
       "3              79.457824                   1.266431           32.882870   \n",
       "4              19.629104                   2.019765           10.215712   \n",
       "\n",
       "   Charging Cost (USD) Time of Day Day of Week  State of Charge (Start %)  \\\n",
       "0            13.087717     Evening     Tuesday                  29.371576   \n",
       "1            21.128448     Morning      Monday                  10.115778   \n",
       "2            35.667270     Morning    Thursday                   6.854604   \n",
       "3            13.036239     Evening    Saturday                  83.120003   \n",
       "4            10.161471     Morning    Saturday                  54.258950   \n",
       "\n",
       "   State of Charge (End %)  Distance Driven (since last charge) (km)  \\\n",
       "0                86.119962                                293.602111   \n",
       "1                84.664344                                112.112804   \n",
       "2                69.917615                                 71.799253   \n",
       "3                99.624328                                199.577785   \n",
       "4                63.743786                                203.661847   \n",
       "\n",
       "   Temperature (°C)  Vehicle Age (years)     Charger Type  \\\n",
       "0         27.947953                  2.0  DC Fast Charger   \n",
       "1         14.311026                  3.0          Level 1   \n",
       "2         21.002002                  2.0          Level 2   \n",
       "3         38.316313                  1.0          Level 1   \n",
       "4         -7.834199                  1.0          Level 1   \n",
       "\n",
       "                User Type  \n",
       "0                Commuter  \n",
       "1           Casual Driver  \n",
       "2                Commuter  \n",
       "3  Long-Distance Traveler  \n",
       "4  Long-Distance Traveler  "
      ]
     },
     "execution_count": 10,
     "metadata": {},
     "output_type": "execute_result"
    }
   ],
   "source": [
    "df['Distance Driven (since last charge) (km)'].fillna(avg_Distancedriven, inplace=True)\n",
    "df.head()"
   ]
  },
  {
   "cell_type": "code",
   "execution_count": 11,
   "id": "3f839ffd",
   "metadata": {},
   "outputs": [
    {
     "name": "stdout",
     "output_type": "stream",
     "text": [
      "<class 'pandas.core.frame.DataFrame'>\n",
      "RangeIndex: 1320 entries, 0 to 1319\n",
      "Data columns (total 20 columns):\n",
      " #   Column                                    Non-Null Count  Dtype  \n",
      "---  ------                                    --------------  -----  \n",
      " 0   User ID                                   1320 non-null   object \n",
      " 1   Vehicle Model                             1320 non-null   object \n",
      " 2   Battery Capacity (kWh)                    1320 non-null   float64\n",
      " 3   Charging Station ID                       1320 non-null   object \n",
      " 4   Charging Station Location                 1320 non-null   object \n",
      " 5   Charging Start Time                       1320 non-null   object \n",
      " 6   Charging End Time                         1320 non-null   object \n",
      " 7   Energy Consumed (kWh)                     1320 non-null   float64\n",
      " 8   Charging Duration (hours)                 1320 non-null   float64\n",
      " 9   Charging Rate (kW)                        1320 non-null   float64\n",
      " 10  Charging Cost (USD)                       1320 non-null   float64\n",
      " 11  Time of Day                               1320 non-null   object \n",
      " 12  Day of Week                               1320 non-null   object \n",
      " 13  State of Charge (Start %)                 1320 non-null   float64\n",
      " 14  State of Charge (End %)                   1320 non-null   float64\n",
      " 15  Distance Driven (since last charge) (km)  1320 non-null   float64\n",
      " 16  Temperature (°C)                          1320 non-null   float64\n",
      " 17  Vehicle Age (years)                       1320 non-null   float64\n",
      " 18  Charger Type                              1320 non-null   object \n",
      " 19  User Type                                 1320 non-null   object \n",
      "dtypes: float64(10), object(10)\n",
      "memory usage: 206.4+ KB\n"
     ]
    }
   ],
   "source": [
    "df.info()"
   ]
  },
  {
   "cell_type": "code",
   "execution_count": 12,
   "id": "48c2beba",
   "metadata": {},
   "outputs": [
    {
     "data": {
      "application/vnd.plotly.v1+json": {
       "config": {
        "plotlyServerURL": "https://plot.ly"
       },
       "data": [
        {
         "hovertemplate": "Charger Type=%{x}<br>Average Charging Rate (kW)=%{text}<extra></extra>",
         "legendgroup": "",
         "marker": {
          "color": "#F6B8D0",
          "pattern": {
           "shape": ""
          }
         },
         "name": "",
         "orientation": "v",
         "showlegend": false,
         "text": {
          "bdata": "aifQZYiTOUD5FCfnEgA6QOjGcp6UUDpA",
          "dtype": "f8"
         },
         "textposition": "outside",
         "texttemplate": "%{text:.2f}",
         "type": "bar",
         "x": [
          "DC Fast Charger",
          "Level 1",
          "Level 2"
         ],
         "xaxis": "x",
         "y": {
          "bdata": "aifQZYiTOUD5FCfnEgA6QOjGcp6UUDpA",
          "dtype": "f8"
         },
         "yaxis": "y"
        }
       ],
       "layout": {
        "barmode": "relative",
        "font": {
         "color": "white"
        },
        "legend": {
         "tracegroupgap": 0
        },
        "paper_bgcolor": "black",
        "plot_bgcolor": "black",
        "showlegend": false,
        "template": {
         "data": {
          "bar": [
           {
            "error_x": {
             "color": "#2a3f5f"
            },
            "error_y": {
             "color": "#2a3f5f"
            },
            "marker": {
             "line": {
              "color": "#E5ECF6",
              "width": 0.5
             },
             "pattern": {
              "fillmode": "overlay",
              "size": 10,
              "solidity": 0.2
             }
            },
            "type": "bar"
           }
          ],
          "barpolar": [
           {
            "marker": {
             "line": {
              "color": "#E5ECF6",
              "width": 0.5
             },
             "pattern": {
              "fillmode": "overlay",
              "size": 10,
              "solidity": 0.2
             }
            },
            "type": "barpolar"
           }
          ],
          "carpet": [
           {
            "aaxis": {
             "endlinecolor": "#2a3f5f",
             "gridcolor": "white",
             "linecolor": "white",
             "minorgridcolor": "white",
             "startlinecolor": "#2a3f5f"
            },
            "baxis": {
             "endlinecolor": "#2a3f5f",
             "gridcolor": "white",
             "linecolor": "white",
             "minorgridcolor": "white",
             "startlinecolor": "#2a3f5f"
            },
            "type": "carpet"
           }
          ],
          "choropleth": [
           {
            "colorbar": {
             "outlinewidth": 0,
             "ticks": ""
            },
            "type": "choropleth"
           }
          ],
          "contour": [
           {
            "colorbar": {
             "outlinewidth": 0,
             "ticks": ""
            },
            "colorscale": [
             [
              0,
              "#0d0887"
             ],
             [
              0.1111111111111111,
              "#46039f"
             ],
             [
              0.2222222222222222,
              "#7201a8"
             ],
             [
              0.3333333333333333,
              "#9c179e"
             ],
             [
              0.4444444444444444,
              "#bd3786"
             ],
             [
              0.5555555555555556,
              "#d8576b"
             ],
             [
              0.6666666666666666,
              "#ed7953"
             ],
             [
              0.7777777777777778,
              "#fb9f3a"
             ],
             [
              0.8888888888888888,
              "#fdca26"
             ],
             [
              1,
              "#f0f921"
             ]
            ],
            "type": "contour"
           }
          ],
          "contourcarpet": [
           {
            "colorbar": {
             "outlinewidth": 0,
             "ticks": ""
            },
            "type": "contourcarpet"
           }
          ],
          "heatmap": [
           {
            "colorbar": {
             "outlinewidth": 0,
             "ticks": ""
            },
            "colorscale": [
             [
              0,
              "#0d0887"
             ],
             [
              0.1111111111111111,
              "#46039f"
             ],
             [
              0.2222222222222222,
              "#7201a8"
             ],
             [
              0.3333333333333333,
              "#9c179e"
             ],
             [
              0.4444444444444444,
              "#bd3786"
             ],
             [
              0.5555555555555556,
              "#d8576b"
             ],
             [
              0.6666666666666666,
              "#ed7953"
             ],
             [
              0.7777777777777778,
              "#fb9f3a"
             ],
             [
              0.8888888888888888,
              "#fdca26"
             ],
             [
              1,
              "#f0f921"
             ]
            ],
            "type": "heatmap"
           }
          ],
          "histogram": [
           {
            "marker": {
             "pattern": {
              "fillmode": "overlay",
              "size": 10,
              "solidity": 0.2
             }
            },
            "type": "histogram"
           }
          ],
          "histogram2d": [
           {
            "colorbar": {
             "outlinewidth": 0,
             "ticks": ""
            },
            "colorscale": [
             [
              0,
              "#0d0887"
             ],
             [
              0.1111111111111111,
              "#46039f"
             ],
             [
              0.2222222222222222,
              "#7201a8"
             ],
             [
              0.3333333333333333,
              "#9c179e"
             ],
             [
              0.4444444444444444,
              "#bd3786"
             ],
             [
              0.5555555555555556,
              "#d8576b"
             ],
             [
              0.6666666666666666,
              "#ed7953"
             ],
             [
              0.7777777777777778,
              "#fb9f3a"
             ],
             [
              0.8888888888888888,
              "#fdca26"
             ],
             [
              1,
              "#f0f921"
             ]
            ],
            "type": "histogram2d"
           }
          ],
          "histogram2dcontour": [
           {
            "colorbar": {
             "outlinewidth": 0,
             "ticks": ""
            },
            "colorscale": [
             [
              0,
              "#0d0887"
             ],
             [
              0.1111111111111111,
              "#46039f"
             ],
             [
              0.2222222222222222,
              "#7201a8"
             ],
             [
              0.3333333333333333,
              "#9c179e"
             ],
             [
              0.4444444444444444,
              "#bd3786"
             ],
             [
              0.5555555555555556,
              "#d8576b"
             ],
             [
              0.6666666666666666,
              "#ed7953"
             ],
             [
              0.7777777777777778,
              "#fb9f3a"
             ],
             [
              0.8888888888888888,
              "#fdca26"
             ],
             [
              1,
              "#f0f921"
             ]
            ],
            "type": "histogram2dcontour"
           }
          ],
          "mesh3d": [
           {
            "colorbar": {
             "outlinewidth": 0,
             "ticks": ""
            },
            "type": "mesh3d"
           }
          ],
          "parcoords": [
           {
            "line": {
             "colorbar": {
              "outlinewidth": 0,
              "ticks": ""
             }
            },
            "type": "parcoords"
           }
          ],
          "pie": [
           {
            "automargin": true,
            "type": "pie"
           }
          ],
          "scatter": [
           {
            "fillpattern": {
             "fillmode": "overlay",
             "size": 10,
             "solidity": 0.2
            },
            "type": "scatter"
           }
          ],
          "scatter3d": [
           {
            "line": {
             "colorbar": {
              "outlinewidth": 0,
              "ticks": ""
             }
            },
            "marker": {
             "colorbar": {
              "outlinewidth": 0,
              "ticks": ""
             }
            },
            "type": "scatter3d"
           }
          ],
          "scattercarpet": [
           {
            "marker": {
             "colorbar": {
              "outlinewidth": 0,
              "ticks": ""
             }
            },
            "type": "scattercarpet"
           }
          ],
          "scattergeo": [
           {
            "marker": {
             "colorbar": {
              "outlinewidth": 0,
              "ticks": ""
             }
            },
            "type": "scattergeo"
           }
          ],
          "scattergl": [
           {
            "marker": {
             "colorbar": {
              "outlinewidth": 0,
              "ticks": ""
             }
            },
            "type": "scattergl"
           }
          ],
          "scattermap": [
           {
            "marker": {
             "colorbar": {
              "outlinewidth": 0,
              "ticks": ""
             }
            },
            "type": "scattermap"
           }
          ],
          "scattermapbox": [
           {
            "marker": {
             "colorbar": {
              "outlinewidth": 0,
              "ticks": ""
             }
            },
            "type": "scattermapbox"
           }
          ],
          "scatterpolar": [
           {
            "marker": {
             "colorbar": {
              "outlinewidth": 0,
              "ticks": ""
             }
            },
            "type": "scatterpolar"
           }
          ],
          "scatterpolargl": [
           {
            "marker": {
             "colorbar": {
              "outlinewidth": 0,
              "ticks": ""
             }
            },
            "type": "scatterpolargl"
           }
          ],
          "scatterternary": [
           {
            "marker": {
             "colorbar": {
              "outlinewidth": 0,
              "ticks": ""
             }
            },
            "type": "scatterternary"
           }
          ],
          "surface": [
           {
            "colorbar": {
             "outlinewidth": 0,
             "ticks": ""
            },
            "colorscale": [
             [
              0,
              "#0d0887"
             ],
             [
              0.1111111111111111,
              "#46039f"
             ],
             [
              0.2222222222222222,
              "#7201a8"
             ],
             [
              0.3333333333333333,
              "#9c179e"
             ],
             [
              0.4444444444444444,
              "#bd3786"
             ],
             [
              0.5555555555555556,
              "#d8576b"
             ],
             [
              0.6666666666666666,
              "#ed7953"
             ],
             [
              0.7777777777777778,
              "#fb9f3a"
             ],
             [
              0.8888888888888888,
              "#fdca26"
             ],
             [
              1,
              "#f0f921"
             ]
            ],
            "type": "surface"
           }
          ],
          "table": [
           {
            "cells": {
             "fill": {
              "color": "#EBF0F8"
             },
             "line": {
              "color": "white"
             }
            },
            "header": {
             "fill": {
              "color": "#C8D4E3"
             },
             "line": {
              "color": "white"
             }
            },
            "type": "table"
           }
          ]
         },
         "layout": {
          "annotationdefaults": {
           "arrowcolor": "#2a3f5f",
           "arrowhead": 0,
           "arrowwidth": 1
          },
          "autotypenumbers": "strict",
          "coloraxis": {
           "colorbar": {
            "outlinewidth": 0,
            "ticks": ""
           }
          },
          "colorscale": {
           "diverging": [
            [
             0,
             "#8e0152"
            ],
            [
             0.1,
             "#c51b7d"
            ],
            [
             0.2,
             "#de77ae"
            ],
            [
             0.3,
             "#f1b6da"
            ],
            [
             0.4,
             "#fde0ef"
            ],
            [
             0.5,
             "#f7f7f7"
            ],
            [
             0.6,
             "#e6f5d0"
            ],
            [
             0.7,
             "#b8e186"
            ],
            [
             0.8,
             "#7fbc41"
            ],
            [
             0.9,
             "#4d9221"
            ],
            [
             1,
             "#276419"
            ]
           ],
           "sequential": [
            [
             0,
             "#0d0887"
            ],
            [
             0.1111111111111111,
             "#46039f"
            ],
            [
             0.2222222222222222,
             "#7201a8"
            ],
            [
             0.3333333333333333,
             "#9c179e"
            ],
            [
             0.4444444444444444,
             "#bd3786"
            ],
            [
             0.5555555555555556,
             "#d8576b"
            ],
            [
             0.6666666666666666,
             "#ed7953"
            ],
            [
             0.7777777777777778,
             "#fb9f3a"
            ],
            [
             0.8888888888888888,
             "#fdca26"
            ],
            [
             1,
             "#f0f921"
            ]
           ],
           "sequentialminus": [
            [
             0,
             "#0d0887"
            ],
            [
             0.1111111111111111,
             "#46039f"
            ],
            [
             0.2222222222222222,
             "#7201a8"
            ],
            [
             0.3333333333333333,
             "#9c179e"
            ],
            [
             0.4444444444444444,
             "#bd3786"
            ],
            [
             0.5555555555555556,
             "#d8576b"
            ],
            [
             0.6666666666666666,
             "#ed7953"
            ],
            [
             0.7777777777777778,
             "#fb9f3a"
            ],
            [
             0.8888888888888888,
             "#fdca26"
            ],
            [
             1,
             "#f0f921"
            ]
           ]
          },
          "colorway": [
           "#636efa",
           "#EF553B",
           "#00cc96",
           "#ab63fa",
           "#FFA15A",
           "#19d3f3",
           "#FF6692",
           "#B6E880",
           "#FF97FF",
           "#FECB52"
          ],
          "font": {
           "color": "#2a3f5f"
          },
          "geo": {
           "bgcolor": "white",
           "lakecolor": "white",
           "landcolor": "#E5ECF6",
           "showlakes": true,
           "showland": true,
           "subunitcolor": "white"
          },
          "hoverlabel": {
           "align": "left"
          },
          "hovermode": "closest",
          "mapbox": {
           "style": "light"
          },
          "paper_bgcolor": "white",
          "plot_bgcolor": "#E5ECF6",
          "polar": {
           "angularaxis": {
            "gridcolor": "white",
            "linecolor": "white",
            "ticks": ""
           },
           "bgcolor": "#E5ECF6",
           "radialaxis": {
            "gridcolor": "white",
            "linecolor": "white",
            "ticks": ""
           }
          },
          "scene": {
           "xaxis": {
            "backgroundcolor": "#E5ECF6",
            "gridcolor": "white",
            "gridwidth": 2,
            "linecolor": "white",
            "showbackground": true,
            "ticks": "",
            "zerolinecolor": "white"
           },
           "yaxis": {
            "backgroundcolor": "#E5ECF6",
            "gridcolor": "white",
            "gridwidth": 2,
            "linecolor": "white",
            "showbackground": true,
            "ticks": "",
            "zerolinecolor": "white"
           },
           "zaxis": {
            "backgroundcolor": "#E5ECF6",
            "gridcolor": "white",
            "gridwidth": 2,
            "linecolor": "white",
            "showbackground": true,
            "ticks": "",
            "zerolinecolor": "white"
           }
          },
          "shapedefaults": {
           "line": {
            "color": "#2a3f5f"
           }
          },
          "ternary": {
           "aaxis": {
            "gridcolor": "white",
            "linecolor": "white",
            "ticks": ""
           },
           "baxis": {
            "gridcolor": "white",
            "linecolor": "white",
            "ticks": ""
           },
           "bgcolor": "#E5ECF6",
           "caxis": {
            "gridcolor": "white",
            "linecolor": "white",
            "ticks": ""
           }
          },
          "title": {
           "x": 0.05
          },
          "xaxis": {
           "automargin": true,
           "gridcolor": "white",
           "linecolor": "white",
           "ticks": "",
           "title": {
            "standoff": 15
           },
           "zerolinecolor": "white",
           "zerolinewidth": 2
          },
          "yaxis": {
           "automargin": true,
           "gridcolor": "white",
           "linecolor": "white",
           "ticks": "",
           "title": {
            "standoff": 15
           },
           "zerolinecolor": "white",
           "zerolinewidth": 2
          }
         }
        },
        "title": {
         "text": "Average Charging Rate by Charger Type"
        },
        "xaxis": {
         "anchor": "y",
         "domain": [
          0,
          1
         ],
         "title": {
          "text": "Charger Type"
         }
        },
        "yaxis": {
         "anchor": "x",
         "domain": [
          0,
          1
         ],
         "title": {
          "text": "Average Charging Rate (kW)"
         }
        }
       }
      }
     },
     "metadata": {},
     "output_type": "display_data"
    }
   ],
   "source": [
    "avg_charging_rate_by_charger = df.groupby('Charger Type')['Charging Rate (kW)'].mean().reset_index()\n",
    "\n",
    "fig = px.bar(avg_charging_rate_by_charger, \n",
    "             x='Charger Type', \n",
    "             y='Charging Rate (kW)', \n",
    "             title='Average Charging Rate by Charger Type',\n",
    "             labels={'Charging Rate (kW)': 'Average Charging Rate (kW)', 'Charger Type': 'Charger Type'},\n",
    "             text='Charging Rate (kW)')\n",
    "\n",
    "fig.update_traces(texttemplate='%{text:.2f}', textposition='outside')\n",
    "fig.update_layout(xaxis_title='Charger Type', yaxis_title='Average Charging Rate (kW)', showlegend=False)\n",
    "\n",
    "fig.update_layout(\n",
    "    plot_bgcolor='black',\n",
    "    paper_bgcolor='black',\n",
    "    font_color='white'\n",
    ")\n",
    "fig.update_traces(marker_color='#F6B8D0')\n",
    "fig.show()"
   ]
  },
  {
   "cell_type": "code",
   "execution_count": 13,
   "id": "d74b9b7c",
   "metadata": {},
   "outputs": [
    {
     "data": {
      "application/vnd.plotly.v1+json": {
       "config": {
        "plotlyServerURL": "https://plot.ly"
       },
       "data": [
        {
         "alignmentgroup": "True",
         "hovertemplate": "Charger Type=%{x}<br>Charging Duration (minutes)=%{y}<extra></extra>",
         "legendgroup": "DC Fast Charger",
         "marker": {
          "color": "#636efa"
         },
         "name": "DC Fast Charger",
         "notched": false,
         "offsetgroup": "DC Fast Charger",
         "orientation": "v",
         "showlegend": true,
         "type": "box",
         "x": [
          "DC Fast Charger",
          "DC Fast Charger",
          "DC Fast Charger",
          "DC Fast Charger",
          "DC Fast Charger",
          "DC Fast Charger",
          "DC Fast Charger",
          "DC Fast Charger",
          "DC Fast Charger",
          "DC Fast Charger",
          "DC Fast Charger",
          "DC Fast Charger",
          "DC Fast Charger",
          "DC Fast Charger",
          "DC Fast Charger",
          "DC Fast Charger",
          "DC Fast Charger",
          "DC Fast Charger",
          "DC Fast Charger",
          "DC Fast Charger",
          "DC Fast Charger",
          "DC Fast Charger",
          "DC Fast Charger",
          "DC Fast Charger",
          "DC Fast Charger",
          "DC Fast Charger",
          "DC Fast Charger",
          "DC Fast Charger",
          "DC Fast Charger",
          "DC Fast Charger",
          "DC Fast Charger",
          "DC Fast Charger",
          "DC Fast Charger",
          "DC Fast Charger",
          "DC Fast Charger",
          "DC Fast Charger",
          "DC Fast Charger",
          "DC Fast Charger",
          "DC Fast Charger",
          "DC Fast Charger",
          "DC Fast Charger",
          "DC Fast Charger",
          "DC Fast Charger",
          "DC Fast Charger",
          "DC Fast Charger",
          "DC Fast Charger",
          "DC Fast Charger",
          "DC Fast Charger",
          "DC Fast Charger",
          "DC Fast Charger",
          "DC Fast Charger",
          "DC Fast Charger",
          "DC Fast Charger",
          "DC Fast Charger",
          "DC Fast Charger",
          "DC Fast Charger",
          "DC Fast Charger",
          "DC Fast Charger",
          "DC Fast Charger",
          "DC Fast Charger",
          "DC Fast Charger",
          "DC Fast Charger",
          "DC Fast Charger",
          "DC Fast Charger",
          "DC Fast Charger",
          "DC Fast Charger",
          "DC Fast Charger",
          "DC Fast Charger",
          "DC Fast Charger",
          "DC Fast Charger",
          "DC Fast Charger",
          "DC Fast Charger",
          "DC Fast Charger",
          "DC Fast Charger",
          "DC Fast Charger",
          "DC Fast Charger",
          "DC Fast Charger",
          "DC Fast Charger",
          "DC Fast Charger",
          "DC Fast Charger",
          "DC Fast Charger",
          "DC Fast Charger",
          "DC Fast Charger",
          "DC Fast Charger",
          "DC Fast Charger",
          "DC Fast Charger",
          "DC Fast Charger",
          "DC Fast Charger",
          "DC Fast Charger",
          "DC Fast Charger",
          "DC Fast Charger",
          "DC Fast Charger",
          "DC Fast Charger",
          "DC Fast Charger",
          "DC Fast Charger",
          "DC Fast Charger",
          "DC Fast Charger",
          "DC Fast Charger",
          "DC Fast Charger",
          "DC Fast Charger",
          "DC Fast Charger",
          "DC Fast Charger",
          "DC Fast Charger",
          "DC Fast Charger",
          "DC Fast Charger",
          "DC Fast Charger",
          "DC Fast Charger",
          "DC Fast Charger",
          "DC Fast Charger",
          "DC Fast Charger",
          "DC Fast Charger",
          "DC Fast Charger",
          "DC Fast Charger",
          "DC Fast Charger",
          "DC Fast Charger",
          "DC Fast Charger",
          "DC Fast Charger",
          "DC Fast Charger",
          "DC Fast Charger",
          "DC Fast Charger",
          "DC Fast Charger",
          "DC Fast Charger",
          "DC Fast Charger",
          "DC Fast Charger",
          "DC Fast Charger",
          "DC Fast Charger",
          "DC Fast Charger",
          "DC Fast Charger",
          "DC Fast Charger",
          "DC Fast Charger",
          "DC Fast Charger",
          "DC Fast Charger",
          "DC Fast Charger",
          "DC Fast Charger",
          "DC Fast Charger",
          "DC Fast Charger",
          "DC Fast Charger",
          "DC Fast Charger",
          "DC Fast Charger",
          "DC Fast Charger",
          "DC Fast Charger",
          "DC Fast Charger",
          "DC Fast Charger",
          "DC Fast Charger",
          "DC Fast Charger",
          "DC Fast Charger",
          "DC Fast Charger",
          "DC Fast Charger",
          "DC Fast Charger",
          "DC Fast Charger",
          "DC Fast Charger",
          "DC Fast Charger",
          "DC Fast Charger",
          "DC Fast Charger",
          "DC Fast Charger",
          "DC Fast Charger",
          "DC Fast Charger",
          "DC Fast Charger",
          "DC Fast Charger",
          "DC Fast Charger",
          "DC Fast Charger",
          "DC Fast Charger",
          "DC Fast Charger",
          "DC Fast Charger",
          "DC Fast Charger",
          "DC Fast Charger",
          "DC Fast Charger",
          "DC Fast Charger",
          "DC Fast Charger",
          "DC Fast Charger",
          "DC Fast Charger",
          "DC Fast Charger",
          "DC Fast Charger",
          "DC Fast Charger",
          "DC Fast Charger",
          "DC Fast Charger",
          "DC Fast Charger",
          "DC Fast Charger",
          "DC Fast Charger",
          "DC Fast Charger",
          "DC Fast Charger",
          "DC Fast Charger",
          "DC Fast Charger",
          "DC Fast Charger",
          "DC Fast Charger",
          "DC Fast Charger",
          "DC Fast Charger",
          "DC Fast Charger",
          "DC Fast Charger",
          "DC Fast Charger",
          "DC Fast Charger",
          "DC Fast Charger",
          "DC Fast Charger",
          "DC Fast Charger",
          "DC Fast Charger",
          "DC Fast Charger",
          "DC Fast Charger",
          "DC Fast Charger",
          "DC Fast Charger",
          "DC Fast Charger",
          "DC Fast Charger",
          "DC Fast Charger",
          "DC Fast Charger",
          "DC Fast Charger",
          "DC Fast Charger",
          "DC Fast Charger",
          "DC Fast Charger",
          "DC Fast Charger",
          "DC Fast Charger",
          "DC Fast Charger",
          "DC Fast Charger",
          "DC Fast Charger",
          "DC Fast Charger",
          "DC Fast Charger",
          "DC Fast Charger",
          "DC Fast Charger",
          "DC Fast Charger",
          "DC Fast Charger",
          "DC Fast Charger",
          "DC Fast Charger",
          "DC Fast Charger",
          "DC Fast Charger",
          "DC Fast Charger",
          "DC Fast Charger",
          "DC Fast Charger",
          "DC Fast Charger",
          "DC Fast Charger",
          "DC Fast Charger",
          "DC Fast Charger",
          "DC Fast Charger",
          "DC Fast Charger",
          "DC Fast Charger",
          "DC Fast Charger",
          "DC Fast Charger",
          "DC Fast Charger",
          "DC Fast Charger",
          "DC Fast Charger",
          "DC Fast Charger",
          "DC Fast Charger",
          "DC Fast Charger",
          "DC Fast Charger",
          "DC Fast Charger",
          "DC Fast Charger",
          "DC Fast Charger",
          "DC Fast Charger",
          "DC Fast Charger",
          "DC Fast Charger",
          "DC Fast Charger",
          "DC Fast Charger",
          "DC Fast Charger",
          "DC Fast Charger",
          "DC Fast Charger",
          "DC Fast Charger",
          "DC Fast Charger",
          "DC Fast Charger",
          "DC Fast Charger",
          "DC Fast Charger",
          "DC Fast Charger",
          "DC Fast Charger",
          "DC Fast Charger",
          "DC Fast Charger",
          "DC Fast Charger",
          "DC Fast Charger",
          "DC Fast Charger",
          "DC Fast Charger",
          "DC Fast Charger",
          "DC Fast Charger",
          "DC Fast Charger",
          "DC Fast Charger",
          "DC Fast Charger",
          "DC Fast Charger",
          "DC Fast Charger",
          "DC Fast Charger",
          "DC Fast Charger",
          "DC Fast Charger",
          "DC Fast Charger",
          "DC Fast Charger",
          "DC Fast Charger",
          "DC Fast Charger",
          "DC Fast Charger",
          "DC Fast Charger",
          "DC Fast Charger",
          "DC Fast Charger",
          "DC Fast Charger",
          "DC Fast Charger",
          "DC Fast Charger",
          "DC Fast Charger",
          "DC Fast Charger",
          "DC Fast Charger",
          "DC Fast Charger",
          "DC Fast Charger",
          "DC Fast Charger",
          "DC Fast Charger",
          "DC Fast Charger",
          "DC Fast Charger",
          "DC Fast Charger",
          "DC Fast Charger",
          "DC Fast Charger",
          "DC Fast Charger",
          "DC Fast Charger",
          "DC Fast Charger",
          "DC Fast Charger",
          "DC Fast Charger",
          "DC Fast Charger",
          "DC Fast Charger",
          "DC Fast Charger",
          "DC Fast Charger",
          "DC Fast Charger",
          "DC Fast Charger",
          "DC Fast Charger",
          "DC Fast Charger",
          "DC Fast Charger",
          "DC Fast Charger",
          "DC Fast Charger",
          "DC Fast Charger",
          "DC Fast Charger",
          "DC Fast Charger",
          "DC Fast Charger",
          "DC Fast Charger",
          "DC Fast Charger",
          "DC Fast Charger",
          "DC Fast Charger",
          "DC Fast Charger",
          "DC Fast Charger",
          "DC Fast Charger",
          "DC Fast Charger",
          "DC Fast Charger",
          "DC Fast Charger",
          "DC Fast Charger",
          "DC Fast Charger",
          "DC Fast Charger",
          "DC Fast Charger",
          "DC Fast Charger",
          "DC Fast Charger",
          "DC Fast Charger",
          "DC Fast Charger",
          "DC Fast Charger",
          "DC Fast Charger",
          "DC Fast Charger",
          "DC Fast Charger",
          "DC Fast Charger",
          "DC Fast Charger",
          "DC Fast Charger",
          "DC Fast Charger",
          "DC Fast Charger",
          "DC Fast Charger",
          "DC Fast Charger",
          "DC Fast Charger",
          "DC Fast Charger",
          "DC Fast Charger",
          "DC Fast Charger",
          "DC Fast Charger",
          "DC Fast Charger",
          "DC Fast Charger",
          "DC Fast Charger",
          "DC Fast Charger",
          "DC Fast Charger",
          "DC Fast Charger",
          "DC Fast Charger",
          "DC Fast Charger",
          "DC Fast Charger",
          "DC Fast Charger",
          "DC Fast Charger",
          "DC Fast Charger",
          "DC Fast Charger",
          "DC Fast Charger",
          "DC Fast Charger",
          "DC Fast Charger",
          "DC Fast Charger",
          "DC Fast Charger",
          "DC Fast Charger",
          "DC Fast Charger",
          "DC Fast Charger",
          "DC Fast Charger",
          "DC Fast Charger",
          "DC Fast Charger",
          "DC Fast Charger",
          "DC Fast Charger",
          "DC Fast Charger",
          "DC Fast Charger",
          "DC Fast Charger",
          "DC Fast Charger",
          "DC Fast Charger",
          "DC Fast Charger",
          "DC Fast Charger",
          "DC Fast Charger",
          "DC Fast Charger",
          "DC Fast Charger",
          "DC Fast Charger",
          "DC Fast Charger",
          "DC Fast Charger",
          "DC Fast Charger",
          "DC Fast Charger",
          "DC Fast Charger",
          "DC Fast Charger",
          "DC Fast Charger",
          "DC Fast Charger",
          "DC Fast Charger",
          "DC Fast Charger",
          "DC Fast Charger",
          "DC Fast Charger",
          "DC Fast Charger",
          "DC Fast Charger",
          "DC Fast Charger",
          "DC Fast Charger",
          "DC Fast Charger",
          "DC Fast Charger",
          "DC Fast Charger",
          "DC Fast Charger",
          "DC Fast Charger",
          "DC Fast Charger",
          "DC Fast Charger",
          "DC Fast Charger",
          "DC Fast Charger",
          "DC Fast Charger",
          "DC Fast Charger",
          "DC Fast Charger",
          "DC Fast Charger",
          "DC Fast Charger",
          "DC Fast Charger",
          "DC Fast Charger",
          "DC Fast Charger",
          "DC Fast Charger",
          "DC Fast Charger",
          "DC Fast Charger",
          "DC Fast Charger",
          "DC Fast Charger",
          "DC Fast Charger",
          "DC Fast Charger",
          "DC Fast Charger"
         ],
         "x0": " ",
         "xaxis": "x",
         "y": {
          "bdata": "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",
          "dtype": "f8"
         },
         "y0": " ",
         "yaxis": "y"
        },
        {
         "alignmentgroup": "True",
         "hovertemplate": "Charger Type=%{x}<br>Charging Duration (minutes)=%{y}<extra></extra>",
         "legendgroup": "Level 1",
         "marker": {
          "color": "#EF553B"
         },
         "name": "Level 1",
         "notched": false,
         "offsetgroup": "Level 1",
         "orientation": "v",
         "showlegend": true,
         "type": "box",
         "x": [
          "Level 1",
          "Level 1",
          "Level 1",
          "Level 1",
          "Level 1",
          "Level 1",
          "Level 1",
          "Level 1",
          "Level 1",
          "Level 1",
          "Level 1",
          "Level 1",
          "Level 1",
          "Level 1",
          "Level 1",
          "Level 1",
          "Level 1",
          "Level 1",
          "Level 1",
          "Level 1",
          "Level 1",
          "Level 1",
          "Level 1",
          "Level 1",
          "Level 1",
          "Level 1",
          "Level 1",
          "Level 1",
          "Level 1",
          "Level 1",
          "Level 1",
          "Level 1",
          "Level 1",
          "Level 1",
          "Level 1",
          "Level 1",
          "Level 1",
          "Level 1",
          "Level 1",
          "Level 1",
          "Level 1",
          "Level 1",
          "Level 1",
          "Level 1",
          "Level 1",
          "Level 1",
          "Level 1",
          "Level 1",
          "Level 1",
          "Level 1",
          "Level 1",
          "Level 1",
          "Level 1",
          "Level 1",
          "Level 1",
          "Level 1",
          "Level 1",
          "Level 1",
          "Level 1",
          "Level 1",
          "Level 1",
          "Level 1",
          "Level 1",
          "Level 1",
          "Level 1",
          "Level 1",
          "Level 1",
          "Level 1",
          "Level 1",
          "Level 1",
          "Level 1",
          "Level 1",
          "Level 1",
          "Level 1",
          "Level 1",
          "Level 1",
          "Level 1",
          "Level 1",
          "Level 1",
          "Level 1",
          "Level 1",
          "Level 1",
          "Level 1",
          "Level 1",
          "Level 1",
          "Level 1",
          "Level 1",
          "Level 1",
          "Level 1",
          "Level 1",
          "Level 1",
          "Level 1",
          "Level 1",
          "Level 1",
          "Level 1",
          "Level 1",
          "Level 1",
          "Level 1",
          "Level 1",
          "Level 1",
          "Level 1",
          "Level 1",
          "Level 1",
          "Level 1",
          "Level 1",
          "Level 1",
          "Level 1",
          "Level 1",
          "Level 1",
          "Level 1",
          "Level 1",
          "Level 1",
          "Level 1",
          "Level 1",
          "Level 1",
          "Level 1",
          "Level 1",
          "Level 1",
          "Level 1",
          "Level 1",
          "Level 1",
          "Level 1",
          "Level 1",
          "Level 1",
          "Level 1",
          "Level 1",
          "Level 1",
          "Level 1",
          "Level 1",
          "Level 1",
          "Level 1",
          "Level 1",
          "Level 1",
          "Level 1",
          "Level 1",
          "Level 1",
          "Level 1",
          "Level 1",
          "Level 1",
          "Level 1",
          "Level 1",
          "Level 1",
          "Level 1",
          "Level 1",
          "Level 1",
          "Level 1",
          "Level 1",
          "Level 1",
          "Level 1",
          "Level 1",
          "Level 1",
          "Level 1",
          "Level 1",
          "Level 1",
          "Level 1",
          "Level 1",
          "Level 1",
          "Level 1",
          "Level 1",
          "Level 1",
          "Level 1",
          "Level 1",
          "Level 1",
          "Level 1",
          "Level 1",
          "Level 1",
          "Level 1",
          "Level 1",
          "Level 1",
          "Level 1",
          "Level 1",
          "Level 1",
          "Level 1",
          "Level 1",
          "Level 1",
          "Level 1",
          "Level 1",
          "Level 1",
          "Level 1",
          "Level 1",
          "Level 1",
          "Level 1",
          "Level 1",
          "Level 1",
          "Level 1",
          "Level 1",
          "Level 1",
          "Level 1",
          "Level 1",
          "Level 1",
          "Level 1",
          "Level 1",
          "Level 1",
          "Level 1",
          "Level 1",
          "Level 1",
          "Level 1",
          "Level 1",
          "Level 1",
          "Level 1",
          "Level 1",
          "Level 1",
          "Level 1",
          "Level 1",
          "Level 1",
          "Level 1",
          "Level 1",
          "Level 1",
          "Level 1",
          "Level 1",
          "Level 1",
          "Level 1",
          "Level 1",
          "Level 1",
          "Level 1",
          "Level 1",
          "Level 1",
          "Level 1",
          "Level 1",
          "Level 1",
          "Level 1",
          "Level 1",
          "Level 1",
          "Level 1",
          "Level 1",
          "Level 1",
          "Level 1",
          "Level 1",
          "Level 1",
          "Level 1",
          "Level 1",
          "Level 1",
          "Level 1",
          "Level 1",
          "Level 1",
          "Level 1",
          "Level 1",
          "Level 1",
          "Level 1",
          "Level 1",
          "Level 1",
          "Level 1",
          "Level 1",
          "Level 1",
          "Level 1",
          "Level 1",
          "Level 1",
          "Level 1",
          "Level 1",
          "Level 1",
          "Level 1",
          "Level 1",
          "Level 1",
          "Level 1",
          "Level 1",
          "Level 1",
          "Level 1",
          "Level 1",
          "Level 1",
          "Level 1",
          "Level 1",
          "Level 1",
          "Level 1",
          "Level 1",
          "Level 1",
          "Level 1",
          "Level 1",
          "Level 1",
          "Level 1",
          "Level 1",
          "Level 1",
          "Level 1",
          "Level 1",
          "Level 1",
          "Level 1",
          "Level 1",
          "Level 1",
          "Level 1",
          "Level 1",
          "Level 1",
          "Level 1",
          "Level 1",
          "Level 1",
          "Level 1",
          "Level 1",
          "Level 1",
          "Level 1",
          "Level 1",
          "Level 1",
          "Level 1",
          "Level 1",
          "Level 1",
          "Level 1",
          "Level 1",
          "Level 1",
          "Level 1",
          "Level 1",
          "Level 1",
          "Level 1",
          "Level 1",
          "Level 1",
          "Level 1",
          "Level 1",
          "Level 1",
          "Level 1",
          "Level 1",
          "Level 1",
          "Level 1",
          "Level 1",
          "Level 1",
          "Level 1",
          "Level 1",
          "Level 1",
          "Level 1",
          "Level 1",
          "Level 1",
          "Level 1",
          "Level 1",
          "Level 1",
          "Level 1",
          "Level 1",
          "Level 1",
          "Level 1",
          "Level 1",
          "Level 1",
          "Level 1",
          "Level 1",
          "Level 1",
          "Level 1",
          "Level 1",
          "Level 1",
          "Level 1",
          "Level 1",
          "Level 1",
          "Level 1",
          "Level 1",
          "Level 1",
          "Level 1",
          "Level 1",
          "Level 1",
          "Level 1",
          "Level 1",
          "Level 1",
          "Level 1",
          "Level 1",
          "Level 1",
          "Level 1",
          "Level 1",
          "Level 1",
          "Level 1",
          "Level 1",
          "Level 1",
          "Level 1",
          "Level 1",
          "Level 1",
          "Level 1",
          "Level 1",
          "Level 1",
          "Level 1",
          "Level 1",
          "Level 1",
          "Level 1",
          "Level 1",
          "Level 1",
          "Level 1",
          "Level 1",
          "Level 1",
          "Level 1",
          "Level 1",
          "Level 1",
          "Level 1",
          "Level 1",
          "Level 1",
          "Level 1",
          "Level 1",
          "Level 1",
          "Level 1",
          "Level 1",
          "Level 1",
          "Level 1",
          "Level 1",
          "Level 1",
          "Level 1",
          "Level 1",
          "Level 1",
          "Level 1",
          "Level 1",
          "Level 1",
          "Level 1",
          "Level 1",
          "Level 1",
          "Level 1",
          "Level 1",
          "Level 1",
          "Level 1",
          "Level 1",
          "Level 1",
          "Level 1",
          "Level 1",
          "Level 1",
          "Level 1",
          "Level 1",
          "Level 1",
          "Level 1",
          "Level 1",
          "Level 1",
          "Level 1",
          "Level 1",
          "Level 1",
          "Level 1",
          "Level 1",
          "Level 1",
          "Level 1",
          "Level 1",
          "Level 1",
          "Level 1",
          "Level 1",
          "Level 1",
          "Level 1",
          "Level 1",
          "Level 1",
          "Level 1",
          "Level 1",
          "Level 1",
          "Level 1",
          "Level 1",
          "Level 1",
          "Level 1",
          "Level 1",
          "Level 1",
          "Level 1",
          "Level 1",
          "Level 1",
          "Level 1",
          "Level 1",
          "Level 1",
          "Level 1",
          "Level 1",
          "Level 1",
          "Level 1",
          "Level 1",
          "Level 1",
          "Level 1",
          "Level 1",
          "Level 1",
          "Level 1",
          "Level 1",
          "Level 1",
          "Level 1",
          "Level 1",
          "Level 1",
          "Level 1",
          "Level 1",
          "Level 1",
          "Level 1",
          "Level 1",
          "Level 1",
          "Level 1",
          "Level 1"
         ],
         "x0": " ",
         "xaxis": "x",
         "y": {
          "bdata": "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",
          "dtype": "f8"
         },
         "y0": " ",
         "yaxis": "y"
        },
        {
         "alignmentgroup": "True",
         "hovertemplate": "Charger Type=%{x}<br>Charging Duration (minutes)=%{y}<extra></extra>",
         "legendgroup": "Level 2",
         "marker": {
          "color": "#00cc96"
         },
         "name": "Level 2",
         "notched": false,
         "offsetgroup": "Level 2",
         "orientation": "v",
         "showlegend": true,
         "type": "box",
         "x": [
          "Level 2",
          "Level 2",
          "Level 2",
          "Level 2",
          "Level 2",
          "Level 2",
          "Level 2",
          "Level 2",
          "Level 2",
          "Level 2",
          "Level 2",
          "Level 2",
          "Level 2",
          "Level 2",
          "Level 2",
          "Level 2",
          "Level 2",
          "Level 2",
          "Level 2",
          "Level 2",
          "Level 2",
          "Level 2",
          "Level 2",
          "Level 2",
          "Level 2",
          "Level 2",
          "Level 2",
          "Level 2",
          "Level 2",
          "Level 2",
          "Level 2",
          "Level 2",
          "Level 2",
          "Level 2",
          "Level 2",
          "Level 2",
          "Level 2",
          "Level 2",
          "Level 2",
          "Level 2",
          "Level 2",
          "Level 2",
          "Level 2",
          "Level 2",
          "Level 2",
          "Level 2",
          "Level 2",
          "Level 2",
          "Level 2",
          "Level 2",
          "Level 2",
          "Level 2",
          "Level 2",
          "Level 2",
          "Level 2",
          "Level 2",
          "Level 2",
          "Level 2",
          "Level 2",
          "Level 2",
          "Level 2",
          "Level 2",
          "Level 2",
          "Level 2",
          "Level 2",
          "Level 2",
          "Level 2",
          "Level 2",
          "Level 2",
          "Level 2",
          "Level 2",
          "Level 2",
          "Level 2",
          "Level 2",
          "Level 2",
          "Level 2",
          "Level 2",
          "Level 2",
          "Level 2",
          "Level 2",
          "Level 2",
          "Level 2",
          "Level 2",
          "Level 2",
          "Level 2",
          "Level 2",
          "Level 2",
          "Level 2",
          "Level 2",
          "Level 2",
          "Level 2",
          "Level 2",
          "Level 2",
          "Level 2",
          "Level 2",
          "Level 2",
          "Level 2",
          "Level 2",
          "Level 2",
          "Level 2",
          "Level 2",
          "Level 2",
          "Level 2",
          "Level 2",
          "Level 2",
          "Level 2",
          "Level 2",
          "Level 2",
          "Level 2",
          "Level 2",
          "Level 2",
          "Level 2",
          "Level 2",
          "Level 2",
          "Level 2",
          "Level 2",
          "Level 2",
          "Level 2",
          "Level 2",
          "Level 2",
          "Level 2",
          "Level 2",
          "Level 2",
          "Level 2",
          "Level 2",
          "Level 2",
          "Level 2",
          "Level 2",
          "Level 2",
          "Level 2",
          "Level 2",
          "Level 2",
          "Level 2",
          "Level 2",
          "Level 2",
          "Level 2",
          "Level 2",
          "Level 2",
          "Level 2",
          "Level 2",
          "Level 2",
          "Level 2",
          "Level 2",
          "Level 2",
          "Level 2",
          "Level 2",
          "Level 2",
          "Level 2",
          "Level 2",
          "Level 2",
          "Level 2",
          "Level 2",
          "Level 2",
          "Level 2",
          "Level 2",
          "Level 2",
          "Level 2",
          "Level 2",
          "Level 2",
          "Level 2",
          "Level 2",
          "Level 2",
          "Level 2",
          "Level 2",
          "Level 2",
          "Level 2",
          "Level 2",
          "Level 2",
          "Level 2",
          "Level 2",
          "Level 2",
          "Level 2",
          "Level 2",
          "Level 2",
          "Level 2",
          "Level 2",
          "Level 2",
          "Level 2",
          "Level 2",
          "Level 2",
          "Level 2",
          "Level 2",
          "Level 2",
          "Level 2",
          "Level 2",
          "Level 2",
          "Level 2",
          "Level 2",
          "Level 2",
          "Level 2",
          "Level 2",
          "Level 2",
          "Level 2",
          "Level 2",
          "Level 2",
          "Level 2",
          "Level 2",
          "Level 2",
          "Level 2",
          "Level 2",
          "Level 2",
          "Level 2",
          "Level 2",
          "Level 2",
          "Level 2",
          "Level 2",
          "Level 2",
          "Level 2",
          "Level 2",
          "Level 2",
          "Level 2",
          "Level 2",
          "Level 2",
          "Level 2",
          "Level 2",
          "Level 2",
          "Level 2",
          "Level 2",
          "Level 2",
          "Level 2",
          "Level 2",
          "Level 2",
          "Level 2",
          "Level 2",
          "Level 2",
          "Level 2",
          "Level 2",
          "Level 2",
          "Level 2",
          "Level 2",
          "Level 2",
          "Level 2",
          "Level 2",
          "Level 2",
          "Level 2",
          "Level 2",
          "Level 2",
          "Level 2",
          "Level 2",
          "Level 2",
          "Level 2",
          "Level 2",
          "Level 2",
          "Level 2",
          "Level 2",
          "Level 2",
          "Level 2",
          "Level 2",
          "Level 2",
          "Level 2",
          "Level 2",
          "Level 2",
          "Level 2",
          "Level 2",
          "Level 2",
          "Level 2",
          "Level 2",
          "Level 2",
          "Level 2",
          "Level 2",
          "Level 2",
          "Level 2",
          "Level 2",
          "Level 2",
          "Level 2",
          "Level 2",
          "Level 2",
          "Level 2",
          "Level 2",
          "Level 2",
          "Level 2",
          "Level 2",
          "Level 2",
          "Level 2",
          "Level 2",
          "Level 2",
          "Level 2",
          "Level 2",
          "Level 2",
          "Level 2",
          "Level 2",
          "Level 2",
          "Level 2",
          "Level 2",
          "Level 2",
          "Level 2",
          "Level 2",
          "Level 2",
          "Level 2",
          "Level 2",
          "Level 2",
          "Level 2",
          "Level 2",
          "Level 2",
          "Level 2",
          "Level 2",
          "Level 2",
          "Level 2",
          "Level 2",
          "Level 2",
          "Level 2",
          "Level 2",
          "Level 2",
          "Level 2",
          "Level 2",
          "Level 2",
          "Level 2",
          "Level 2",
          "Level 2",
          "Level 2",
          "Level 2",
          "Level 2",
          "Level 2",
          "Level 2",
          "Level 2",
          "Level 2",
          "Level 2",
          "Level 2",
          "Level 2",
          "Level 2",
          "Level 2",
          "Level 2",
          "Level 2",
          "Level 2",
          "Level 2",
          "Level 2",
          "Level 2",
          "Level 2",
          "Level 2",
          "Level 2",
          "Level 2",
          "Level 2",
          "Level 2",
          "Level 2",
          "Level 2",
          "Level 2",
          "Level 2",
          "Level 2",
          "Level 2",
          "Level 2",
          "Level 2",
          "Level 2",
          "Level 2",
          "Level 2",
          "Level 2",
          "Level 2",
          "Level 2",
          "Level 2",
          "Level 2",
          "Level 2",
          "Level 2",
          "Level 2",
          "Level 2",
          "Level 2",
          "Level 2",
          "Level 2",
          "Level 2",
          "Level 2",
          "Level 2",
          "Level 2",
          "Level 2",
          "Level 2",
          "Level 2",
          "Level 2",
          "Level 2",
          "Level 2",
          "Level 2",
          "Level 2",
          "Level 2",
          "Level 2",
          "Level 2",
          "Level 2",
          "Level 2",
          "Level 2",
          "Level 2",
          "Level 2",
          "Level 2",
          "Level 2",
          "Level 2",
          "Level 2",
          "Level 2",
          "Level 2",
          "Level 2",
          "Level 2",
          "Level 2",
          "Level 2",
          "Level 2",
          "Level 2",
          "Level 2",
          "Level 2",
          "Level 2",
          "Level 2",
          "Level 2",
          "Level 2",
          "Level 2",
          "Level 2",
          "Level 2",
          "Level 2",
          "Level 2",
          "Level 2",
          "Level 2",
          "Level 2",
          "Level 2",
          "Level 2",
          "Level 2",
          "Level 2",
          "Level 2",
          "Level 2",
          "Level 2",
          "Level 2",
          "Level 2",
          "Level 2",
          "Level 2",
          "Level 2",
          "Level 2",
          "Level 2",
          "Level 2",
          "Level 2",
          "Level 2",
          "Level 2",
          "Level 2",
          "Level 2",
          "Level 2",
          "Level 2",
          "Level 2",
          "Level 2",
          "Level 2",
          "Level 2",
          "Level 2",
          "Level 2",
          "Level 2"
         ],
         "x0": " ",
         "xaxis": "x",
         "y": {
          "bdata": "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",
          "dtype": "f8"
         },
         "y0": " ",
         "yaxis": "y"
        }
       ],
       "layout": {
        "boxmode": "overlay",
        "font": {
         "color": "white"
        },
        "legend": {
         "title": {
          "text": "Charger Type"
         },
         "tracegroupgap": 0
        },
        "paper_bgcolor": "black",
        "plot_bgcolor": "black",
        "template": {
         "data": {
          "bar": [
           {
            "error_x": {
             "color": "#2a3f5f"
            },
            "error_y": {
             "color": "#2a3f5f"
            },
            "marker": {
             "line": {
              "color": "#E5ECF6",
              "width": 0.5
             },
             "pattern": {
              "fillmode": "overlay",
              "size": 10,
              "solidity": 0.2
             }
            },
            "type": "bar"
           }
          ],
          "barpolar": [
           {
            "marker": {
             "line": {
              "color": "#E5ECF6",
              "width": 0.5
             },
             "pattern": {
              "fillmode": "overlay",
              "size": 10,
              "solidity": 0.2
             }
            },
            "type": "barpolar"
           }
          ],
          "carpet": [
           {
            "aaxis": {
             "endlinecolor": "#2a3f5f",
             "gridcolor": "white",
             "linecolor": "white",
             "minorgridcolor": "white",
             "startlinecolor": "#2a3f5f"
            },
            "baxis": {
             "endlinecolor": "#2a3f5f",
             "gridcolor": "white",
             "linecolor": "white",
             "minorgridcolor": "white",
             "startlinecolor": "#2a3f5f"
            },
            "type": "carpet"
           }
          ],
          "choropleth": [
           {
            "colorbar": {
             "outlinewidth": 0,
             "ticks": ""
            },
            "type": "choropleth"
           }
          ],
          "contour": [
           {
            "colorbar": {
             "outlinewidth": 0,
             "ticks": ""
            },
            "colorscale": [
             [
              0,
              "#0d0887"
             ],
             [
              0.1111111111111111,
              "#46039f"
             ],
             [
              0.2222222222222222,
              "#7201a8"
             ],
             [
              0.3333333333333333,
              "#9c179e"
             ],
             [
              0.4444444444444444,
              "#bd3786"
             ],
             [
              0.5555555555555556,
              "#d8576b"
             ],
             [
              0.6666666666666666,
              "#ed7953"
             ],
             [
              0.7777777777777778,
              "#fb9f3a"
             ],
             [
              0.8888888888888888,
              "#fdca26"
             ],
             [
              1,
              "#f0f921"
             ]
            ],
            "type": "contour"
           }
          ],
          "contourcarpet": [
           {
            "colorbar": {
             "outlinewidth": 0,
             "ticks": ""
            },
            "type": "contourcarpet"
           }
          ],
          "heatmap": [
           {
            "colorbar": {
             "outlinewidth": 0,
             "ticks": ""
            },
            "colorscale": [
             [
              0,
              "#0d0887"
             ],
             [
              0.1111111111111111,
              "#46039f"
             ],
             [
              0.2222222222222222,
              "#7201a8"
             ],
             [
              0.3333333333333333,
              "#9c179e"
             ],
             [
              0.4444444444444444,
              "#bd3786"
             ],
             [
              0.5555555555555556,
              "#d8576b"
             ],
             [
              0.6666666666666666,
              "#ed7953"
             ],
             [
              0.7777777777777778,
              "#fb9f3a"
             ],
             [
              0.8888888888888888,
              "#fdca26"
             ],
             [
              1,
              "#f0f921"
             ]
            ],
            "type": "heatmap"
           }
          ],
          "histogram": [
           {
            "marker": {
             "pattern": {
              "fillmode": "overlay",
              "size": 10,
              "solidity": 0.2
             }
            },
            "type": "histogram"
           }
          ],
          "histogram2d": [
           {
            "colorbar": {
             "outlinewidth": 0,
             "ticks": ""
            },
            "colorscale": [
             [
              0,
              "#0d0887"
             ],
             [
              0.1111111111111111,
              "#46039f"
             ],
             [
              0.2222222222222222,
              "#7201a8"
             ],
             [
              0.3333333333333333,
              "#9c179e"
             ],
             [
              0.4444444444444444,
              "#bd3786"
             ],
             [
              0.5555555555555556,
              "#d8576b"
             ],
             [
              0.6666666666666666,
              "#ed7953"
             ],
             [
              0.7777777777777778,
              "#fb9f3a"
             ],
             [
              0.8888888888888888,
              "#fdca26"
             ],
             [
              1,
              "#f0f921"
             ]
            ],
            "type": "histogram2d"
           }
          ],
          "histogram2dcontour": [
           {
            "colorbar": {
             "outlinewidth": 0,
             "ticks": ""
            },
            "colorscale": [
             [
              0,
              "#0d0887"
             ],
             [
              0.1111111111111111,
              "#46039f"
             ],
             [
              0.2222222222222222,
              "#7201a8"
             ],
             [
              0.3333333333333333,
              "#9c179e"
             ],
             [
              0.4444444444444444,
              "#bd3786"
             ],
             [
              0.5555555555555556,
              "#d8576b"
             ],
             [
              0.6666666666666666,
              "#ed7953"
             ],
             [
              0.7777777777777778,
              "#fb9f3a"
             ],
             [
              0.8888888888888888,
              "#fdca26"
             ],
             [
              1,
              "#f0f921"
             ]
            ],
            "type": "histogram2dcontour"
           }
          ],
          "mesh3d": [
           {
            "colorbar": {
             "outlinewidth": 0,
             "ticks": ""
            },
            "type": "mesh3d"
           }
          ],
          "parcoords": [
           {
            "line": {
             "colorbar": {
              "outlinewidth": 0,
              "ticks": ""
             }
            },
            "type": "parcoords"
           }
          ],
          "pie": [
           {
            "automargin": true,
            "type": "pie"
           }
          ],
          "scatter": [
           {
            "fillpattern": {
             "fillmode": "overlay",
             "size": 10,
             "solidity": 0.2
            },
            "type": "scatter"
           }
          ],
          "scatter3d": [
           {
            "line": {
             "colorbar": {
              "outlinewidth": 0,
              "ticks": ""
             }
            },
            "marker": {
             "colorbar": {
              "outlinewidth": 0,
              "ticks": ""
             }
            },
            "type": "scatter3d"
           }
          ],
          "scattercarpet": [
           {
            "marker": {
             "colorbar": {
              "outlinewidth": 0,
              "ticks": ""
             }
            },
            "type": "scattercarpet"
           }
          ],
          "scattergeo": [
           {
            "marker": {
             "colorbar": {
              "outlinewidth": 0,
              "ticks": ""
             }
            },
            "type": "scattergeo"
           }
          ],
          "scattergl": [
           {
            "marker": {
             "colorbar": {
              "outlinewidth": 0,
              "ticks": ""
             }
            },
            "type": "scattergl"
           }
          ],
          "scattermap": [
           {
            "marker": {
             "colorbar": {
              "outlinewidth": 0,
              "ticks": ""
             }
            },
            "type": "scattermap"
           }
          ],
          "scattermapbox": [
           {
            "marker": {
             "colorbar": {
              "outlinewidth": 0,
              "ticks": ""
             }
            },
            "type": "scattermapbox"
           }
          ],
          "scatterpolar": [
           {
            "marker": {
             "colorbar": {
              "outlinewidth": 0,
              "ticks": ""
             }
            },
            "type": "scatterpolar"
           }
          ],
          "scatterpolargl": [
           {
            "marker": {
             "colorbar": {
              "outlinewidth": 0,
              "ticks": ""
             }
            },
            "type": "scatterpolargl"
           }
          ],
          "scatterternary": [
           {
            "marker": {
             "colorbar": {
              "outlinewidth": 0,
              "ticks": ""
             }
            },
            "type": "scatterternary"
           }
          ],
          "surface": [
           {
            "colorbar": {
             "outlinewidth": 0,
             "ticks": ""
            },
            "colorscale": [
             [
              0,
              "#0d0887"
             ],
             [
              0.1111111111111111,
              "#46039f"
             ],
             [
              0.2222222222222222,
              "#7201a8"
             ],
             [
              0.3333333333333333,
              "#9c179e"
             ],
             [
              0.4444444444444444,
              "#bd3786"
             ],
             [
              0.5555555555555556,
              "#d8576b"
             ],
             [
              0.6666666666666666,
              "#ed7953"
             ],
             [
              0.7777777777777778,
              "#fb9f3a"
             ],
             [
              0.8888888888888888,
              "#fdca26"
             ],
             [
              1,
              "#f0f921"
             ]
            ],
            "type": "surface"
           }
          ],
          "table": [
           {
            "cells": {
             "fill": {
              "color": "#EBF0F8"
             },
             "line": {
              "color": "white"
             }
            },
            "header": {
             "fill": {
              "color": "#C8D4E3"
             },
             "line": {
              "color": "white"
             }
            },
            "type": "table"
           }
          ]
         },
         "layout": {
          "annotationdefaults": {
           "arrowcolor": "#2a3f5f",
           "arrowhead": 0,
           "arrowwidth": 1
          },
          "autotypenumbers": "strict",
          "coloraxis": {
           "colorbar": {
            "outlinewidth": 0,
            "ticks": ""
           }
          },
          "colorscale": {
           "diverging": [
            [
             0,
             "#8e0152"
            ],
            [
             0.1,
             "#c51b7d"
            ],
            [
             0.2,
             "#de77ae"
            ],
            [
             0.3,
             "#f1b6da"
            ],
            [
             0.4,
             "#fde0ef"
            ],
            [
             0.5,
             "#f7f7f7"
            ],
            [
             0.6,
             "#e6f5d0"
            ],
            [
             0.7,
             "#b8e186"
            ],
            [
             0.8,
             "#7fbc41"
            ],
            [
             0.9,
             "#4d9221"
            ],
            [
             1,
             "#276419"
            ]
           ],
           "sequential": [
            [
             0,
             "#0d0887"
            ],
            [
             0.1111111111111111,
             "#46039f"
            ],
            [
             0.2222222222222222,
             "#7201a8"
            ],
            [
             0.3333333333333333,
             "#9c179e"
            ],
            [
             0.4444444444444444,
             "#bd3786"
            ],
            [
             0.5555555555555556,
             "#d8576b"
            ],
            [
             0.6666666666666666,
             "#ed7953"
            ],
            [
             0.7777777777777778,
             "#fb9f3a"
            ],
            [
             0.8888888888888888,
             "#fdca26"
            ],
            [
             1,
             "#f0f921"
            ]
           ],
           "sequentialminus": [
            [
             0,
             "#0d0887"
            ],
            [
             0.1111111111111111,
             "#46039f"
            ],
            [
             0.2222222222222222,
             "#7201a8"
            ],
            [
             0.3333333333333333,
             "#9c179e"
            ],
            [
             0.4444444444444444,
             "#bd3786"
            ],
            [
             0.5555555555555556,
             "#d8576b"
            ],
            [
             0.6666666666666666,
             "#ed7953"
            ],
            [
             0.7777777777777778,
             "#fb9f3a"
            ],
            [
             0.8888888888888888,
             "#fdca26"
            ],
            [
             1,
             "#f0f921"
            ]
           ]
          },
          "colorway": [
           "#636efa",
           "#EF553B",
           "#00cc96",
           "#ab63fa",
           "#FFA15A",
           "#19d3f3",
           "#FF6692",
           "#B6E880",
           "#FF97FF",
           "#FECB52"
          ],
          "font": {
           "color": "#2a3f5f"
          },
          "geo": {
           "bgcolor": "white",
           "lakecolor": "white",
           "landcolor": "#E5ECF6",
           "showlakes": true,
           "showland": true,
           "subunitcolor": "white"
          },
          "hoverlabel": {
           "align": "left"
          },
          "hovermode": "closest",
          "mapbox": {
           "style": "light"
          },
          "paper_bgcolor": "white",
          "plot_bgcolor": "#E5ECF6",
          "polar": {
           "angularaxis": {
            "gridcolor": "white",
            "linecolor": "white",
            "ticks": ""
           },
           "bgcolor": "#E5ECF6",
           "radialaxis": {
            "gridcolor": "white",
            "linecolor": "white",
            "ticks": ""
           }
          },
          "scene": {
           "xaxis": {
            "backgroundcolor": "#E5ECF6",
            "gridcolor": "white",
            "gridwidth": 2,
            "linecolor": "white",
            "showbackground": true,
            "ticks": "",
            "zerolinecolor": "white"
           },
           "yaxis": {
            "backgroundcolor": "#E5ECF6",
            "gridcolor": "white",
            "gridwidth": 2,
            "linecolor": "white",
            "showbackground": true,
            "ticks": "",
            "zerolinecolor": "white"
           },
           "zaxis": {
            "backgroundcolor": "#E5ECF6",
            "gridcolor": "white",
            "gridwidth": 2,
            "linecolor": "white",
            "showbackground": true,
            "ticks": "",
            "zerolinecolor": "white"
           }
          },
          "shapedefaults": {
           "line": {
            "color": "#2a3f5f"
           }
          },
          "ternary": {
           "aaxis": {
            "gridcolor": "white",
            "linecolor": "white",
            "ticks": ""
           },
           "baxis": {
            "gridcolor": "white",
            "linecolor": "white",
            "ticks": ""
           },
           "bgcolor": "#E5ECF6",
           "caxis": {
            "gridcolor": "white",
            "linecolor": "white",
            "ticks": ""
           }
          },
          "title": {
           "x": 0.05
          },
          "xaxis": {
           "automargin": true,
           "gridcolor": "white",
           "linecolor": "white",
           "ticks": "",
           "title": {
            "standoff": 15
           },
           "zerolinecolor": "white",
           "zerolinewidth": 2
          },
          "yaxis": {
           "automargin": true,
           "gridcolor": "white",
           "linecolor": "white",
           "ticks": "",
           "title": {
            "standoff": 15
           },
           "zerolinecolor": "white",
           "zerolinewidth": 2
          }
         }
        },
        "title": {
         "text": "Charging Duration by Charger Type"
        },
        "xaxis": {
         "anchor": "y",
         "categoryarray": [
          "DC Fast Charger",
          "Level 1",
          "Level 2"
         ],
         "categoryorder": "array",
         "domain": [
          0,
          1
         ],
         "title": {
          "text": "Charger Type"
         }
        },
        "yaxis": {
         "anchor": "x",
         "domain": [
          0,
          1
         ],
         "title": {
          "text": "Charging Duration (minutes)"
         }
        }
       }
      }
     },
     "metadata": {},
     "output_type": "display_data"
    }
   ],
   "source": [
    "# Convert 'Charging Duration (hours)' to minutes for visualization\n",
    "df['Charging Duration (minutes)'] = df['Charging Duration (hours)'] * 60\n",
    "\n",
    "fig = px.box(df, \n",
    "             x='Charger Type', \n",
    "             y='Charging Duration (minutes)', \n",
    "             title='Charging Duration by Charger Type',\n",
    "             labels={'Charging Duration (minutes)': 'Charging Duration (minutes)', 'Charger Type': 'Charger Type'},\n",
    "             color='Charger Type')\n",
    "\n",
    "fig.update_layout(\n",
    "    xaxis_title='Charger Type',\n",
    "    yaxis_title='Charging Duration (minutes)',\n",
    "    plot_bgcolor='black',\n",
    "    paper_bgcolor='black',\n",
    "    font_color='white'\n",
    ")\n",
    "\n",
    "fig.show()"
   ]
  },
  {
   "cell_type": "code",
   "execution_count": 14,
   "id": "be5de48d",
   "metadata": {},
   "outputs": [
    {
     "data": {
      "application/vnd.plotly.v1+json": {
       "config": {
        "plotlyServerURL": "https://plot.ly"
       },
       "data": [
        {
         "hovertemplate": "Charger Type=%{x}<br>Average Charging Cost (USD)=%{y}<extra></extra>",
         "legendgroup": "",
         "line": {
          "color": "#F6B8D0",
          "dash": "solid"
         },
         "marker": {
          "color": "#F6B8D0",
          "symbol": "circle"
         },
         "mode": "lines+markers",
         "name": "",
         "orientation": "v",
         "showlegend": false,
         "type": "scatter",
         "x": [
          "DC Fast Charger",
          "Level 1",
          "Level 2"
         ],
         "xaxis": "x",
         "y": {
          "bdata": "NE+FZteaN0BmTaMIVqg1QD8Gq0fAczZA",
          "dtype": "f8"
         },
         "yaxis": "y"
        }
       ],
       "layout": {
        "font": {
         "color": "white"
        },
        "legend": {
         "tracegroupgap": 0
        },
        "paper_bgcolor": "black",
        "plot_bgcolor": "black",
        "template": {
         "data": {
          "bar": [
           {
            "error_x": {
             "color": "#2a3f5f"
            },
            "error_y": {
             "color": "#2a3f5f"
            },
            "marker": {
             "line": {
              "color": "#E5ECF6",
              "width": 0.5
             },
             "pattern": {
              "fillmode": "overlay",
              "size": 10,
              "solidity": 0.2
             }
            },
            "type": "bar"
           }
          ],
          "barpolar": [
           {
            "marker": {
             "line": {
              "color": "#E5ECF6",
              "width": 0.5
             },
             "pattern": {
              "fillmode": "overlay",
              "size": 10,
              "solidity": 0.2
             }
            },
            "type": "barpolar"
           }
          ],
          "carpet": [
           {
            "aaxis": {
             "endlinecolor": "#2a3f5f",
             "gridcolor": "white",
             "linecolor": "white",
             "minorgridcolor": "white",
             "startlinecolor": "#2a3f5f"
            },
            "baxis": {
             "endlinecolor": "#2a3f5f",
             "gridcolor": "white",
             "linecolor": "white",
             "minorgridcolor": "white",
             "startlinecolor": "#2a3f5f"
            },
            "type": "carpet"
           }
          ],
          "choropleth": [
           {
            "colorbar": {
             "outlinewidth": 0,
             "ticks": ""
            },
            "type": "choropleth"
           }
          ],
          "contour": [
           {
            "colorbar": {
             "outlinewidth": 0,
             "ticks": ""
            },
            "colorscale": [
             [
              0,
              "#0d0887"
             ],
             [
              0.1111111111111111,
              "#46039f"
             ],
             [
              0.2222222222222222,
              "#7201a8"
             ],
             [
              0.3333333333333333,
              "#9c179e"
             ],
             [
              0.4444444444444444,
              "#bd3786"
             ],
             [
              0.5555555555555556,
              "#d8576b"
             ],
             [
              0.6666666666666666,
              "#ed7953"
             ],
             [
              0.7777777777777778,
              "#fb9f3a"
             ],
             [
              0.8888888888888888,
              "#fdca26"
             ],
             [
              1,
              "#f0f921"
             ]
            ],
            "type": "contour"
           }
          ],
          "contourcarpet": [
           {
            "colorbar": {
             "outlinewidth": 0,
             "ticks": ""
            },
            "type": "contourcarpet"
           }
          ],
          "heatmap": [
           {
            "colorbar": {
             "outlinewidth": 0,
             "ticks": ""
            },
            "colorscale": [
             [
              0,
              "#0d0887"
             ],
             [
              0.1111111111111111,
              "#46039f"
             ],
             [
              0.2222222222222222,
              "#7201a8"
             ],
             [
              0.3333333333333333,
              "#9c179e"
             ],
             [
              0.4444444444444444,
              "#bd3786"
             ],
             [
              0.5555555555555556,
              "#d8576b"
             ],
             [
              0.6666666666666666,
              "#ed7953"
             ],
             [
              0.7777777777777778,
              "#fb9f3a"
             ],
             [
              0.8888888888888888,
              "#fdca26"
             ],
             [
              1,
              "#f0f921"
             ]
            ],
            "type": "heatmap"
           }
          ],
          "histogram": [
           {
            "marker": {
             "pattern": {
              "fillmode": "overlay",
              "size": 10,
              "solidity": 0.2
             }
            },
            "type": "histogram"
           }
          ],
          "histogram2d": [
           {
            "colorbar": {
             "outlinewidth": 0,
             "ticks": ""
            },
            "colorscale": [
             [
              0,
              "#0d0887"
             ],
             [
              0.1111111111111111,
              "#46039f"
             ],
             [
              0.2222222222222222,
              "#7201a8"
             ],
             [
              0.3333333333333333,
              "#9c179e"
             ],
             [
              0.4444444444444444,
              "#bd3786"
             ],
             [
              0.5555555555555556,
              "#d8576b"
             ],
             [
              0.6666666666666666,
              "#ed7953"
             ],
             [
              0.7777777777777778,
              "#fb9f3a"
             ],
             [
              0.8888888888888888,
              "#fdca26"
             ],
             [
              1,
              "#f0f921"
             ]
            ],
            "type": "histogram2d"
           }
          ],
          "histogram2dcontour": [
           {
            "colorbar": {
             "outlinewidth": 0,
             "ticks": ""
            },
            "colorscale": [
             [
              0,
              "#0d0887"
             ],
             [
              0.1111111111111111,
              "#46039f"
             ],
             [
              0.2222222222222222,
              "#7201a8"
             ],
             [
              0.3333333333333333,
              "#9c179e"
             ],
             [
              0.4444444444444444,
              "#bd3786"
             ],
             [
              0.5555555555555556,
              "#d8576b"
             ],
             [
              0.6666666666666666,
              "#ed7953"
             ],
             [
              0.7777777777777778,
              "#fb9f3a"
             ],
             [
              0.8888888888888888,
              "#fdca26"
             ],
             [
              1,
              "#f0f921"
             ]
            ],
            "type": "histogram2dcontour"
           }
          ],
          "mesh3d": [
           {
            "colorbar": {
             "outlinewidth": 0,
             "ticks": ""
            },
            "type": "mesh3d"
           }
          ],
          "parcoords": [
           {
            "line": {
             "colorbar": {
              "outlinewidth": 0,
              "ticks": ""
             }
            },
            "type": "parcoords"
           }
          ],
          "pie": [
           {
            "automargin": true,
            "type": "pie"
           }
          ],
          "scatter": [
           {
            "fillpattern": {
             "fillmode": "overlay",
             "size": 10,
             "solidity": 0.2
            },
            "type": "scatter"
           }
          ],
          "scatter3d": [
           {
            "line": {
             "colorbar": {
              "outlinewidth": 0,
              "ticks": ""
             }
            },
            "marker": {
             "colorbar": {
              "outlinewidth": 0,
              "ticks": ""
             }
            },
            "type": "scatter3d"
           }
          ],
          "scattercarpet": [
           {
            "marker": {
             "colorbar": {
              "outlinewidth": 0,
              "ticks": ""
             }
            },
            "type": "scattercarpet"
           }
          ],
          "scattergeo": [
           {
            "marker": {
             "colorbar": {
              "outlinewidth": 0,
              "ticks": ""
             }
            },
            "type": "scattergeo"
           }
          ],
          "scattergl": [
           {
            "marker": {
             "colorbar": {
              "outlinewidth": 0,
              "ticks": ""
             }
            },
            "type": "scattergl"
           }
          ],
          "scattermap": [
           {
            "marker": {
             "colorbar": {
              "outlinewidth": 0,
              "ticks": ""
             }
            },
            "type": "scattermap"
           }
          ],
          "scattermapbox": [
           {
            "marker": {
             "colorbar": {
              "outlinewidth": 0,
              "ticks": ""
             }
            },
            "type": "scattermapbox"
           }
          ],
          "scatterpolar": [
           {
            "marker": {
             "colorbar": {
              "outlinewidth": 0,
              "ticks": ""
             }
            },
            "type": "scatterpolar"
           }
          ],
          "scatterpolargl": [
           {
            "marker": {
             "colorbar": {
              "outlinewidth": 0,
              "ticks": ""
             }
            },
            "type": "scatterpolargl"
           }
          ],
          "scatterternary": [
           {
            "marker": {
             "colorbar": {
              "outlinewidth": 0,
              "ticks": ""
             }
            },
            "type": "scatterternary"
           }
          ],
          "surface": [
           {
            "colorbar": {
             "outlinewidth": 0,
             "ticks": ""
            },
            "colorscale": [
             [
              0,
              "#0d0887"
             ],
             [
              0.1111111111111111,
              "#46039f"
             ],
             [
              0.2222222222222222,
              "#7201a8"
             ],
             [
              0.3333333333333333,
              "#9c179e"
             ],
             [
              0.4444444444444444,
              "#bd3786"
             ],
             [
              0.5555555555555556,
              "#d8576b"
             ],
             [
              0.6666666666666666,
              "#ed7953"
             ],
             [
              0.7777777777777778,
              "#fb9f3a"
             ],
             [
              0.8888888888888888,
              "#fdca26"
             ],
             [
              1,
              "#f0f921"
             ]
            ],
            "type": "surface"
           }
          ],
          "table": [
           {
            "cells": {
             "fill": {
              "color": "#EBF0F8"
             },
             "line": {
              "color": "white"
             }
            },
            "header": {
             "fill": {
              "color": "#C8D4E3"
             },
             "line": {
              "color": "white"
             }
            },
            "type": "table"
           }
          ]
         },
         "layout": {
          "annotationdefaults": {
           "arrowcolor": "#2a3f5f",
           "arrowhead": 0,
           "arrowwidth": 1
          },
          "autotypenumbers": "strict",
          "coloraxis": {
           "colorbar": {
            "outlinewidth": 0,
            "ticks": ""
           }
          },
          "colorscale": {
           "diverging": [
            [
             0,
             "#8e0152"
            ],
            [
             0.1,
             "#c51b7d"
            ],
            [
             0.2,
             "#de77ae"
            ],
            [
             0.3,
             "#f1b6da"
            ],
            [
             0.4,
             "#fde0ef"
            ],
            [
             0.5,
             "#f7f7f7"
            ],
            [
             0.6,
             "#e6f5d0"
            ],
            [
             0.7,
             "#b8e186"
            ],
            [
             0.8,
             "#7fbc41"
            ],
            [
             0.9,
             "#4d9221"
            ],
            [
             1,
             "#276419"
            ]
           ],
           "sequential": [
            [
             0,
             "#0d0887"
            ],
            [
             0.1111111111111111,
             "#46039f"
            ],
            [
             0.2222222222222222,
             "#7201a8"
            ],
            [
             0.3333333333333333,
             "#9c179e"
            ],
            [
             0.4444444444444444,
             "#bd3786"
            ],
            [
             0.5555555555555556,
             "#d8576b"
            ],
            [
             0.6666666666666666,
             "#ed7953"
            ],
            [
             0.7777777777777778,
             "#fb9f3a"
            ],
            [
             0.8888888888888888,
             "#fdca26"
            ],
            [
             1,
             "#f0f921"
            ]
           ],
           "sequentialminus": [
            [
             0,
             "#0d0887"
            ],
            [
             0.1111111111111111,
             "#46039f"
            ],
            [
             0.2222222222222222,
             "#7201a8"
            ],
            [
             0.3333333333333333,
             "#9c179e"
            ],
            [
             0.4444444444444444,
             "#bd3786"
            ],
            [
             0.5555555555555556,
             "#d8576b"
            ],
            [
             0.6666666666666666,
             "#ed7953"
            ],
            [
             0.7777777777777778,
             "#fb9f3a"
            ],
            [
             0.8888888888888888,
             "#fdca26"
            ],
            [
             1,
             "#f0f921"
            ]
           ]
          },
          "colorway": [
           "#636efa",
           "#EF553B",
           "#00cc96",
           "#ab63fa",
           "#FFA15A",
           "#19d3f3",
           "#FF6692",
           "#B6E880",
           "#FF97FF",
           "#FECB52"
          ],
          "font": {
           "color": "#2a3f5f"
          },
          "geo": {
           "bgcolor": "white",
           "lakecolor": "white",
           "landcolor": "#E5ECF6",
           "showlakes": true,
           "showland": true,
           "subunitcolor": "white"
          },
          "hoverlabel": {
           "align": "left"
          },
          "hovermode": "closest",
          "mapbox": {
           "style": "light"
          },
          "paper_bgcolor": "white",
          "plot_bgcolor": "#E5ECF6",
          "polar": {
           "angularaxis": {
            "gridcolor": "white",
            "linecolor": "white",
            "ticks": ""
           },
           "bgcolor": "#E5ECF6",
           "radialaxis": {
            "gridcolor": "white",
            "linecolor": "white",
            "ticks": ""
           }
          },
          "scene": {
           "xaxis": {
            "backgroundcolor": "#E5ECF6",
            "gridcolor": "white",
            "gridwidth": 2,
            "linecolor": "white",
            "showbackground": true,
            "ticks": "",
            "zerolinecolor": "white"
           },
           "yaxis": {
            "backgroundcolor": "#E5ECF6",
            "gridcolor": "white",
            "gridwidth": 2,
            "linecolor": "white",
            "showbackground": true,
            "ticks": "",
            "zerolinecolor": "white"
           },
           "zaxis": {
            "backgroundcolor": "#E5ECF6",
            "gridcolor": "white",
            "gridwidth": 2,
            "linecolor": "white",
            "showbackground": true,
            "ticks": "",
            "zerolinecolor": "white"
           }
          },
          "shapedefaults": {
           "line": {
            "color": "#2a3f5f"
           }
          },
          "ternary": {
           "aaxis": {
            "gridcolor": "white",
            "linecolor": "white",
            "ticks": ""
           },
           "baxis": {
            "gridcolor": "white",
            "linecolor": "white",
            "ticks": ""
           },
           "bgcolor": "#E5ECF6",
           "caxis": {
            "gridcolor": "white",
            "linecolor": "white",
            "ticks": ""
           }
          },
          "title": {
           "x": 0.05
          },
          "xaxis": {
           "automargin": true,
           "gridcolor": "white",
           "linecolor": "white",
           "ticks": "",
           "title": {
            "standoff": 15
           },
           "zerolinecolor": "white",
           "zerolinewidth": 2
          },
          "yaxis": {
           "automargin": true,
           "gridcolor": "white",
           "linecolor": "white",
           "ticks": "",
           "title": {
            "standoff": 15
           },
           "zerolinecolor": "white",
           "zerolinewidth": 2
          }
         }
        },
        "title": {
         "text": "Average Charging Cost by Charger Type"
        },
        "xaxis": {
         "anchor": "y",
         "domain": [
          0,
          1
         ],
         "title": {
          "text": "Charger Type"
         }
        },
        "yaxis": {
         "anchor": "x",
         "domain": [
          0,
          1
         ],
         "title": {
          "text": "Average Charging Cost (USD)"
         }
        }
       }
      }
     },
     "metadata": {},
     "output_type": "display_data"
    }
   ],
   "source": [
    "avg_charging_cost_by_charger = df.groupby('Charger Type')['Charging Cost (USD)'].mean().reset_index()\n",
    "\n",
    "fig = px.line(avg_charging_cost_by_charger, \n",
    "              x='Charger Type', \n",
    "              y='Charging Cost (USD)', \n",
    "              title='Average Charging Cost by Charger Type',\n",
    "              labels={'Charging Cost (USD)': 'Average Charging Cost (USD)', 'Charger Type': 'Charger Type'},\n",
    "              markers=True)\n",
    "\n",
    "fig.update_layout(\n",
    "    xaxis_title='Charger Type',\n",
    "    yaxis_title='Average Charging Cost (USD)',\n",
    "    plot_bgcolor='black',\n",
    "    paper_bgcolor='black',\n",
    "    font_color='white'\n",
    ")\n",
    "\n",
    "fig.update_traces(line_color='#F6B8D0', marker=dict(color='#F6B8D0'))\n",
    "fig.show()"
   ]
  },
  {
   "cell_type": "code",
   "execution_count": 17,
   "id": "842dbfee",
   "metadata": {},
   "outputs": [
    {
     "data": {
      "application/vnd.plotly.v1+json": {
       "config": {
        "plotlyServerURL": "https://plot.ly"
       },
       "data": [
        {
         "hovertemplate": "Charger Type=%{x}<br>Usage Frequency=%{text}<extra></extra>",
         "legendgroup": "",
         "marker": {
          "color": "#DC143C",
          "pattern": {
           "shape": ""
          }
         },
         "name": "",
         "orientation": "v",
         "showlegend": false,
         "text": {
          "bdata": "AAAAAACwfEAAAAAAAPB6QAAAAAAA4HpA",
          "dtype": "f8"
         },
         "textposition": "outside",
         "texttemplate": "%{text}",
         "type": "bar",
         "x": [
          "Level 1",
          "Level 2",
          "DC Fast Charger"
         ],
         "xaxis": "x",
         "y": {
          "bdata": "ywGvAa4B",
          "dtype": "i2"
         },
         "yaxis": "y"
        }
       ],
       "layout": {
        "barmode": "relative",
        "font": {
         "color": "white"
        },
        "legend": {
         "tracegroupgap": 0
        },
        "paper_bgcolor": "black",
        "plot_bgcolor": "black",
        "template": {
         "data": {
          "bar": [
           {
            "error_x": {
             "color": "#2a3f5f"
            },
            "error_y": {
             "color": "#2a3f5f"
            },
            "marker": {
             "line": {
              "color": "#E5ECF6",
              "width": 0.5
             },
             "pattern": {
              "fillmode": "overlay",
              "size": 10,
              "solidity": 0.2
             }
            },
            "type": "bar"
           }
          ],
          "barpolar": [
           {
            "marker": {
             "line": {
              "color": "#E5ECF6",
              "width": 0.5
             },
             "pattern": {
              "fillmode": "overlay",
              "size": 10,
              "solidity": 0.2
             }
            },
            "type": "barpolar"
           }
          ],
          "carpet": [
           {
            "aaxis": {
             "endlinecolor": "#2a3f5f",
             "gridcolor": "white",
             "linecolor": "white",
             "minorgridcolor": "white",
             "startlinecolor": "#2a3f5f"
            },
            "baxis": {
             "endlinecolor": "#2a3f5f",
             "gridcolor": "white",
             "linecolor": "white",
             "minorgridcolor": "white",
             "startlinecolor": "#2a3f5f"
            },
            "type": "carpet"
           }
          ],
          "choropleth": [
           {
            "colorbar": {
             "outlinewidth": 0,
             "ticks": ""
            },
            "type": "choropleth"
           }
          ],
          "contour": [
           {
            "colorbar": {
             "outlinewidth": 0,
             "ticks": ""
            },
            "colorscale": [
             [
              0,
              "#0d0887"
             ],
             [
              0.1111111111111111,
              "#46039f"
             ],
             [
              0.2222222222222222,
              "#7201a8"
             ],
             [
              0.3333333333333333,
              "#9c179e"
             ],
             [
              0.4444444444444444,
              "#bd3786"
             ],
             [
              0.5555555555555556,
              "#d8576b"
             ],
             [
              0.6666666666666666,
              "#ed7953"
             ],
             [
              0.7777777777777778,
              "#fb9f3a"
             ],
             [
              0.8888888888888888,
              "#fdca26"
             ],
             [
              1,
              "#f0f921"
             ]
            ],
            "type": "contour"
           }
          ],
          "contourcarpet": [
           {
            "colorbar": {
             "outlinewidth": 0,
             "ticks": ""
            },
            "type": "contourcarpet"
           }
          ],
          "heatmap": [
           {
            "colorbar": {
             "outlinewidth": 0,
             "ticks": ""
            },
            "colorscale": [
             [
              0,
              "#0d0887"
             ],
             [
              0.1111111111111111,
              "#46039f"
             ],
             [
              0.2222222222222222,
              "#7201a8"
             ],
             [
              0.3333333333333333,
              "#9c179e"
             ],
             [
              0.4444444444444444,
              "#bd3786"
             ],
             [
              0.5555555555555556,
              "#d8576b"
             ],
             [
              0.6666666666666666,
              "#ed7953"
             ],
             [
              0.7777777777777778,
              "#fb9f3a"
             ],
             [
              0.8888888888888888,
              "#fdca26"
             ],
             [
              1,
              "#f0f921"
             ]
            ],
            "type": "heatmap"
           }
          ],
          "histogram": [
           {
            "marker": {
             "pattern": {
              "fillmode": "overlay",
              "size": 10,
              "solidity": 0.2
             }
            },
            "type": "histogram"
           }
          ],
          "histogram2d": [
           {
            "colorbar": {
             "outlinewidth": 0,
             "ticks": ""
            },
            "colorscale": [
             [
              0,
              "#0d0887"
             ],
             [
              0.1111111111111111,
              "#46039f"
             ],
             [
              0.2222222222222222,
              "#7201a8"
             ],
             [
              0.3333333333333333,
              "#9c179e"
             ],
             [
              0.4444444444444444,
              "#bd3786"
             ],
             [
              0.5555555555555556,
              "#d8576b"
             ],
             [
              0.6666666666666666,
              "#ed7953"
             ],
             [
              0.7777777777777778,
              "#fb9f3a"
             ],
             [
              0.8888888888888888,
              "#fdca26"
             ],
             [
              1,
              "#f0f921"
             ]
            ],
            "type": "histogram2d"
           }
          ],
          "histogram2dcontour": [
           {
            "colorbar": {
             "outlinewidth": 0,
             "ticks": ""
            },
            "colorscale": [
             [
              0,
              "#0d0887"
             ],
             [
              0.1111111111111111,
              "#46039f"
             ],
             [
              0.2222222222222222,
              "#7201a8"
             ],
             [
              0.3333333333333333,
              "#9c179e"
             ],
             [
              0.4444444444444444,
              "#bd3786"
             ],
             [
              0.5555555555555556,
              "#d8576b"
             ],
             [
              0.6666666666666666,
              "#ed7953"
             ],
             [
              0.7777777777777778,
              "#fb9f3a"
             ],
             [
              0.8888888888888888,
              "#fdca26"
             ],
             [
              1,
              "#f0f921"
             ]
            ],
            "type": "histogram2dcontour"
           }
          ],
          "mesh3d": [
           {
            "colorbar": {
             "outlinewidth": 0,
             "ticks": ""
            },
            "type": "mesh3d"
           }
          ],
          "parcoords": [
           {
            "line": {
             "colorbar": {
              "outlinewidth": 0,
              "ticks": ""
             }
            },
            "type": "parcoords"
           }
          ],
          "pie": [
           {
            "automargin": true,
            "type": "pie"
           }
          ],
          "scatter": [
           {
            "fillpattern": {
             "fillmode": "overlay",
             "size": 10,
             "solidity": 0.2
            },
            "type": "scatter"
           }
          ],
          "scatter3d": [
           {
            "line": {
             "colorbar": {
              "outlinewidth": 0,
              "ticks": ""
             }
            },
            "marker": {
             "colorbar": {
              "outlinewidth": 0,
              "ticks": ""
             }
            },
            "type": "scatter3d"
           }
          ],
          "scattercarpet": [
           {
            "marker": {
             "colorbar": {
              "outlinewidth": 0,
              "ticks": ""
             }
            },
            "type": "scattercarpet"
           }
          ],
          "scattergeo": [
           {
            "marker": {
             "colorbar": {
              "outlinewidth": 0,
              "ticks": ""
             }
            },
            "type": "scattergeo"
           }
          ],
          "scattergl": [
           {
            "marker": {
             "colorbar": {
              "outlinewidth": 0,
              "ticks": ""
             }
            },
            "type": "scattergl"
           }
          ],
          "scattermap": [
           {
            "marker": {
             "colorbar": {
              "outlinewidth": 0,
              "ticks": ""
             }
            },
            "type": "scattermap"
           }
          ],
          "scattermapbox": [
           {
            "marker": {
             "colorbar": {
              "outlinewidth": 0,
              "ticks": ""
             }
            },
            "type": "scattermapbox"
           }
          ],
          "scatterpolar": [
           {
            "marker": {
             "colorbar": {
              "outlinewidth": 0,
              "ticks": ""
             }
            },
            "type": "scatterpolar"
           }
          ],
          "scatterpolargl": [
           {
            "marker": {
             "colorbar": {
              "outlinewidth": 0,
              "ticks": ""
             }
            },
            "type": "scatterpolargl"
           }
          ],
          "scatterternary": [
           {
            "marker": {
             "colorbar": {
              "outlinewidth": 0,
              "ticks": ""
             }
            },
            "type": "scatterternary"
           }
          ],
          "surface": [
           {
            "colorbar": {
             "outlinewidth": 0,
             "ticks": ""
            },
            "colorscale": [
             [
              0,
              "#0d0887"
             ],
             [
              0.1111111111111111,
              "#46039f"
             ],
             [
              0.2222222222222222,
              "#7201a8"
             ],
             [
              0.3333333333333333,
              "#9c179e"
             ],
             [
              0.4444444444444444,
              "#bd3786"
             ],
             [
              0.5555555555555556,
              "#d8576b"
             ],
             [
              0.6666666666666666,
              "#ed7953"
             ],
             [
              0.7777777777777778,
              "#fb9f3a"
             ],
             [
              0.8888888888888888,
              "#fdca26"
             ],
             [
              1,
              "#f0f921"
             ]
            ],
            "type": "surface"
           }
          ],
          "table": [
           {
            "cells": {
             "fill": {
              "color": "#EBF0F8"
             },
             "line": {
              "color": "white"
             }
            },
            "header": {
             "fill": {
              "color": "#C8D4E3"
             },
             "line": {
              "color": "white"
             }
            },
            "type": "table"
           }
          ]
         },
         "layout": {
          "annotationdefaults": {
           "arrowcolor": "#2a3f5f",
           "arrowhead": 0,
           "arrowwidth": 1
          },
          "autotypenumbers": "strict",
          "coloraxis": {
           "colorbar": {
            "outlinewidth": 0,
            "ticks": ""
           }
          },
          "colorscale": {
           "diverging": [
            [
             0,
             "#8e0152"
            ],
            [
             0.1,
             "#c51b7d"
            ],
            [
             0.2,
             "#de77ae"
            ],
            [
             0.3,
             "#f1b6da"
            ],
            [
             0.4,
             "#fde0ef"
            ],
            [
             0.5,
             "#f7f7f7"
            ],
            [
             0.6,
             "#e6f5d0"
            ],
            [
             0.7,
             "#b8e186"
            ],
            [
             0.8,
             "#7fbc41"
            ],
            [
             0.9,
             "#4d9221"
            ],
            [
             1,
             "#276419"
            ]
           ],
           "sequential": [
            [
             0,
             "#0d0887"
            ],
            [
             0.1111111111111111,
             "#46039f"
            ],
            [
             0.2222222222222222,
             "#7201a8"
            ],
            [
             0.3333333333333333,
             "#9c179e"
            ],
            [
             0.4444444444444444,
             "#bd3786"
            ],
            [
             0.5555555555555556,
             "#d8576b"
            ],
            [
             0.6666666666666666,
             "#ed7953"
            ],
            [
             0.7777777777777778,
             "#fb9f3a"
            ],
            [
             0.8888888888888888,
             "#fdca26"
            ],
            [
             1,
             "#f0f921"
            ]
           ],
           "sequentialminus": [
            [
             0,
             "#0d0887"
            ],
            [
             0.1111111111111111,
             "#46039f"
            ],
            [
             0.2222222222222222,
             "#7201a8"
            ],
            [
             0.3333333333333333,
             "#9c179e"
            ],
            [
             0.4444444444444444,
             "#bd3786"
            ],
            [
             0.5555555555555556,
             "#d8576b"
            ],
            [
             0.6666666666666666,
             "#ed7953"
            ],
            [
             0.7777777777777778,
             "#fb9f3a"
            ],
            [
             0.8888888888888888,
             "#fdca26"
            ],
            [
             1,
             "#f0f921"
            ]
           ]
          },
          "colorway": [
           "#636efa",
           "#EF553B",
           "#00cc96",
           "#ab63fa",
           "#FFA15A",
           "#19d3f3",
           "#FF6692",
           "#B6E880",
           "#FF97FF",
           "#FECB52"
          ],
          "font": {
           "color": "#2a3f5f"
          },
          "geo": {
           "bgcolor": "white",
           "lakecolor": "white",
           "landcolor": "#E5ECF6",
           "showlakes": true,
           "showland": true,
           "subunitcolor": "white"
          },
          "hoverlabel": {
           "align": "left"
          },
          "hovermode": "closest",
          "mapbox": {
           "style": "light"
          },
          "paper_bgcolor": "white",
          "plot_bgcolor": "#E5ECF6",
          "polar": {
           "angularaxis": {
            "gridcolor": "white",
            "linecolor": "white",
            "ticks": ""
           },
           "bgcolor": "#E5ECF6",
           "radialaxis": {
            "gridcolor": "white",
            "linecolor": "white",
            "ticks": ""
           }
          },
          "scene": {
           "xaxis": {
            "backgroundcolor": "#E5ECF6",
            "gridcolor": "white",
            "gridwidth": 2,
            "linecolor": "white",
            "showbackground": true,
            "ticks": "",
            "zerolinecolor": "white"
           },
           "yaxis": {
            "backgroundcolor": "#E5ECF6",
            "gridcolor": "white",
            "gridwidth": 2,
            "linecolor": "white",
            "showbackground": true,
            "ticks": "",
            "zerolinecolor": "white"
           },
           "zaxis": {
            "backgroundcolor": "#E5ECF6",
            "gridcolor": "white",
            "gridwidth": 2,
            "linecolor": "white",
            "showbackground": true,
            "ticks": "",
            "zerolinecolor": "white"
           }
          },
          "shapedefaults": {
           "line": {
            "color": "#2a3f5f"
           }
          },
          "ternary": {
           "aaxis": {
            "gridcolor": "white",
            "linecolor": "white",
            "ticks": ""
           },
           "baxis": {
            "gridcolor": "white",
            "linecolor": "white",
            "ticks": ""
           },
           "bgcolor": "#E5ECF6",
           "caxis": {
            "gridcolor": "white",
            "linecolor": "white",
            "ticks": ""
           }
          },
          "title": {
           "x": 0.05
          },
          "xaxis": {
           "automargin": true,
           "gridcolor": "white",
           "linecolor": "white",
           "ticks": "",
           "title": {
            "standoff": 15
           },
           "zerolinecolor": "white",
           "zerolinewidth": 2
          },
          "yaxis": {
           "automargin": true,
           "gridcolor": "white",
           "linecolor": "white",
           "ticks": "",
           "title": {
            "standoff": 15
           },
           "zerolinecolor": "white",
           "zerolinewidth": 2
          }
         }
        },
        "title": {
         "text": "Charger Usage Frequency"
        },
        "xaxis": {
         "anchor": "y",
         "domain": [
          0,
          1
         ],
         "title": {
          "text": "Charger Type"
         }
        },
        "yaxis": {
         "anchor": "x",
         "domain": [
          0,
          1
         ],
         "title": {
          "text": "Usage Frequency"
         }
        }
       }
      }
     },
     "metadata": {},
     "output_type": "display_data"
    }
   ],
   "source": [
    "charger_usage_frequency = df['Charger Type'].value_counts().reset_index()\n",
    "charger_usage_frequency.columns = ['Charger Type', 'Frequency']\n",
    "\n",
    "fig = px.bar(charger_usage_frequency, \n",
    "             x='Charger Type', \n",
    "             y='Frequency', \n",
    "             title='Charger Usage Frequency',\n",
    "             labels={'Frequency': 'Usage Frequency', 'Charger Type': 'Charger Type'},\n",
    "             text='Frequency')\n",
    "\n",
    "fig.update_traces(texttemplate='%{text}', textposition='outside')\n",
    "fig.update_layout(\n",
    "    xaxis_title='Charger Type',\n",
    "    yaxis_title='Usage Frequency',\n",
    "    plot_bgcolor='black',\n",
    "    paper_bgcolor='black',\n",
    "    font_color='white'\n",
    ")\n",
    "\n",
    "fig.update_traces(marker_color='#DC143C')\n",
    "fig.show()"
   ]
  }
 ],
 "metadata": {
  "kernelspec": {
   "display_name": "base",
   "language": "python",
   "name": "python3"
  },
  "language_info": {
   "codemirror_mode": {
    "name": "ipython",
    "version": 3
   },
   "file_extension": ".py",
   "mimetype": "text/x-python",
   "name": "python",
   "nbconvert_exporter": "python",
   "pygments_lexer": "ipython3",
   "version": "3.12.9"
  }
 },
 "nbformat": 4,
 "nbformat_minor": 5
}
