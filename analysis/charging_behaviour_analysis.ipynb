{
 "cells": [
  {
   "cell_type": "code",
   "execution_count": 3,
   "id": "0204f5e1",
   "metadata": {},
   "outputs": [],
   "source": [
    "import pandas as pd\n",
    "import numpy as np\n",
    "import seaborn as sns\n",
    "import matplotlib.pyplot as plt\n",
    "import plotly.express as px"
   ]
  },
  {
   "cell_type": "code",
   "execution_count": 4,
   "id": "23aafc73",
   "metadata": {},
   "outputs": [
    {
     "data": {
      "text/html": [
       "<div>\n",
       "<style scoped>\n",
       "    .dataframe tbody tr th:only-of-type {\n",
       "        vertical-align: middle;\n",
       "    }\n",
       "\n",
       "    .dataframe tbody tr th {\n",
       "        vertical-align: top;\n",
       "    }\n",
       "\n",
       "    .dataframe thead th {\n",
       "        text-align: right;\n",
       "    }\n",
       "</style>\n",
       "<table border=\"1\" class=\"dataframe\">\n",
       "  <thead>\n",
       "    <tr style=\"text-align: right;\">\n",
       "      <th></th>\n",
       "      <th>User ID</th>\n",
       "      <th>Vehicle Model</th>\n",
       "      <th>Battery Capacity (kWh)</th>\n",
       "      <th>Charging Station ID</th>\n",
       "      <th>Charging Station Location</th>\n",
       "      <th>Charging Start Time</th>\n",
       "      <th>Charging End Time</th>\n",
       "      <th>Energy Consumed (kWh)</th>\n",
       "      <th>Charging Duration (hours)</th>\n",
       "      <th>Charging Rate (kW)</th>\n",
       "      <th>Charging Cost (USD)</th>\n",
       "      <th>Time of Day</th>\n",
       "      <th>Day of Week</th>\n",
       "      <th>State of Charge (Start %)</th>\n",
       "      <th>State of Charge (End %)</th>\n",
       "      <th>Distance Driven (since last charge) (km)</th>\n",
       "      <th>Temperature (°C)</th>\n",
       "      <th>Vehicle Age (years)</th>\n",
       "      <th>Charger Type</th>\n",
       "      <th>User Type</th>\n",
       "    </tr>\n",
       "  </thead>\n",
       "  <tbody>\n",
       "    <tr>\n",
       "      <th>0</th>\n",
       "      <td>User_1</td>\n",
       "      <td>BMW i3</td>\n",
       "      <td>108.463007</td>\n",
       "      <td>Station_391</td>\n",
       "      <td>Houston</td>\n",
       "      <td>2024-01-01 00:00:00</td>\n",
       "      <td>2024-01-01 00:39:00</td>\n",
       "      <td>60.712346</td>\n",
       "      <td>0.591363</td>\n",
       "      <td>36.389181</td>\n",
       "      <td>13.087717</td>\n",
       "      <td>Evening</td>\n",
       "      <td>Tuesday</td>\n",
       "      <td>29.371576</td>\n",
       "      <td>86.119962</td>\n",
       "      <td>293.602111</td>\n",
       "      <td>27.947953</td>\n",
       "      <td>2.0</td>\n",
       "      <td>DC Fast Charger</td>\n",
       "      <td>Commuter</td>\n",
       "    </tr>\n",
       "    <tr>\n",
       "      <th>1</th>\n",
       "      <td>User_2</td>\n",
       "      <td>Hyundai Kona</td>\n",
       "      <td>100.000000</td>\n",
       "      <td>Station_428</td>\n",
       "      <td>San Francisco</td>\n",
       "      <td>2024-01-01 01:00:00</td>\n",
       "      <td>2024-01-01 03:01:00</td>\n",
       "      <td>12.339275</td>\n",
       "      <td>3.133652</td>\n",
       "      <td>30.677735</td>\n",
       "      <td>21.128448</td>\n",
       "      <td>Morning</td>\n",
       "      <td>Monday</td>\n",
       "      <td>10.115778</td>\n",
       "      <td>84.664344</td>\n",
       "      <td>112.112804</td>\n",
       "      <td>14.311026</td>\n",
       "      <td>3.0</td>\n",
       "      <td>Level 1</td>\n",
       "      <td>Casual Driver</td>\n",
       "    </tr>\n",
       "    <tr>\n",
       "      <th>2</th>\n",
       "      <td>User_3</td>\n",
       "      <td>Chevy Bolt</td>\n",
       "      <td>75.000000</td>\n",
       "      <td>Station_181</td>\n",
       "      <td>San Francisco</td>\n",
       "      <td>2024-01-01 02:00:00</td>\n",
       "      <td>2024-01-01 04:48:00</td>\n",
       "      <td>19.128876</td>\n",
       "      <td>2.452653</td>\n",
       "      <td>27.513593</td>\n",
       "      <td>35.667270</td>\n",
       "      <td>Morning</td>\n",
       "      <td>Thursday</td>\n",
       "      <td>6.854604</td>\n",
       "      <td>69.917615</td>\n",
       "      <td>71.799253</td>\n",
       "      <td>21.002002</td>\n",
       "      <td>2.0</td>\n",
       "      <td>Level 2</td>\n",
       "      <td>Commuter</td>\n",
       "    </tr>\n",
       "    <tr>\n",
       "      <th>3</th>\n",
       "      <td>User_4</td>\n",
       "      <td>Hyundai Kona</td>\n",
       "      <td>50.000000</td>\n",
       "      <td>Station_327</td>\n",
       "      <td>Houston</td>\n",
       "      <td>2024-01-01 03:00:00</td>\n",
       "      <td>2024-01-01 06:42:00</td>\n",
       "      <td>79.457824</td>\n",
       "      <td>1.266431</td>\n",
       "      <td>32.882870</td>\n",
       "      <td>13.036239</td>\n",
       "      <td>Evening</td>\n",
       "      <td>Saturday</td>\n",
       "      <td>83.120003</td>\n",
       "      <td>99.624328</td>\n",
       "      <td>199.577785</td>\n",
       "      <td>38.316313</td>\n",
       "      <td>1.0</td>\n",
       "      <td>Level 1</td>\n",
       "      <td>Long-Distance Traveler</td>\n",
       "    </tr>\n",
       "    <tr>\n",
       "      <th>4</th>\n",
       "      <td>User_5</td>\n",
       "      <td>Hyundai Kona</td>\n",
       "      <td>50.000000</td>\n",
       "      <td>Station_108</td>\n",
       "      <td>Los Angeles</td>\n",
       "      <td>2024-01-01 04:00:00</td>\n",
       "      <td>2024-01-01 05:46:00</td>\n",
       "      <td>19.629104</td>\n",
       "      <td>2.019765</td>\n",
       "      <td>10.215712</td>\n",
       "      <td>10.161471</td>\n",
       "      <td>Morning</td>\n",
       "      <td>Saturday</td>\n",
       "      <td>54.258950</td>\n",
       "      <td>63.743786</td>\n",
       "      <td>203.661847</td>\n",
       "      <td>-7.834199</td>\n",
       "      <td>1.0</td>\n",
       "      <td>Level 1</td>\n",
       "      <td>Long-Distance Traveler</td>\n",
       "    </tr>\n",
       "    <tr>\n",
       "      <th>...</th>\n",
       "      <td>...</td>\n",
       "      <td>...</td>\n",
       "      <td>...</td>\n",
       "      <td>...</td>\n",
       "      <td>...</td>\n",
       "      <td>...</td>\n",
       "      <td>...</td>\n",
       "      <td>...</td>\n",
       "      <td>...</td>\n",
       "      <td>...</td>\n",
       "      <td>...</td>\n",
       "      <td>...</td>\n",
       "      <td>...</td>\n",
       "      <td>...</td>\n",
       "      <td>...</td>\n",
       "      <td>...</td>\n",
       "      <td>...</td>\n",
       "      <td>...</td>\n",
       "      <td>...</td>\n",
       "      <td>...</td>\n",
       "    </tr>\n",
       "    <tr>\n",
       "      <th>1315</th>\n",
       "      <td>User_1316</td>\n",
       "      <td>Nissan Leaf</td>\n",
       "      <td>100.000000</td>\n",
       "      <td>Station_57</td>\n",
       "      <td>New York</td>\n",
       "      <td>2024-02-24 19:00:00</td>\n",
       "      <td>2024-02-24 20:30:00</td>\n",
       "      <td>42.011654</td>\n",
       "      <td>1.426444</td>\n",
       "      <td>5.895475</td>\n",
       "      <td>22.081164</td>\n",
       "      <td>Evening</td>\n",
       "      <td>Sunday</td>\n",
       "      <td>39.204102</td>\n",
       "      <td>83.915952</td>\n",
       "      <td>239.601075</td>\n",
       "      <td>1.919655</td>\n",
       "      <td>7.0</td>\n",
       "      <td>DC Fast Charger</td>\n",
       "      <td>Commuter</td>\n",
       "    </tr>\n",
       "    <tr>\n",
       "      <th>1316</th>\n",
       "      <td>User_1317</td>\n",
       "      <td>BMW i3</td>\n",
       "      <td>100.000000</td>\n",
       "      <td>Station_40</td>\n",
       "      <td>New York</td>\n",
       "      <td>2024-02-24 20:00:00</td>\n",
       "      <td>2024-02-24 20:44:00</td>\n",
       "      <td>68.185853</td>\n",
       "      <td>3.238212</td>\n",
       "      <td>18.388012</td>\n",
       "      <td>5.067806</td>\n",
       "      <td>Evening</td>\n",
       "      <td>Tuesday</td>\n",
       "      <td>31.456375</td>\n",
       "      <td>93.096461</td>\n",
       "      <td>164.376022</td>\n",
       "      <td>34.029775</td>\n",
       "      <td>4.0</td>\n",
       "      <td>Level 2</td>\n",
       "      <td>Casual Driver</td>\n",
       "    </tr>\n",
       "    <tr>\n",
       "      <th>1317</th>\n",
       "      <td>User_1318</td>\n",
       "      <td>Nissan Leaf</td>\n",
       "      <td>100.000000</td>\n",
       "      <td>Station_374</td>\n",
       "      <td>New York</td>\n",
       "      <td>2024-02-24 21:00:00</td>\n",
       "      <td>2024-02-24 23:03:00</td>\n",
       "      <td>18.895102</td>\n",
       "      <td>3.267122</td>\n",
       "      <td>45.482066</td>\n",
       "      <td>37.255002</td>\n",
       "      <td>Evening</td>\n",
       "      <td>Tuesday</td>\n",
       "      <td>71.903081</td>\n",
       "      <td>78.678879</td>\n",
       "      <td>226.519258</td>\n",
       "      <td>20.358761</td>\n",
       "      <td>5.0</td>\n",
       "      <td>DC Fast Charger</td>\n",
       "      <td>Commuter</td>\n",
       "    </tr>\n",
       "    <tr>\n",
       "      <th>1318</th>\n",
       "      <td>User_1319</td>\n",
       "      <td>Chevy Bolt</td>\n",
       "      <td>85.000000</td>\n",
       "      <td>Station_336</td>\n",
       "      <td>San Francisco</td>\n",
       "      <td>2024-02-24 22:00:00</td>\n",
       "      <td>2024-02-24 23:20:00</td>\n",
       "      <td>13.756252</td>\n",
       "      <td>2.754527</td>\n",
       "      <td>38.148183</td>\n",
       "      <td>39.046146</td>\n",
       "      <td>Afternoon</td>\n",
       "      <td>Sunday</td>\n",
       "      <td>76.187997</td>\n",
       "      <td>65.926573</td>\n",
       "      <td>291.494076</td>\n",
       "      <td>24.134598</td>\n",
       "      <td>5.0</td>\n",
       "      <td>Level 2</td>\n",
       "      <td>Commuter</td>\n",
       "    </tr>\n",
       "    <tr>\n",
       "      <th>1319</th>\n",
       "      <td>User_1320</td>\n",
       "      <td>Nissan Leaf</td>\n",
       "      <td>120.447195</td>\n",
       "      <td>Station_128</td>\n",
       "      <td>Los Angeles</td>\n",
       "      <td>2024-02-24 23:00:00</td>\n",
       "      <td>2024-02-24 23:56:00</td>\n",
       "      <td>63.652570</td>\n",
       "      <td>3.740970</td>\n",
       "      <td>33.704226</td>\n",
       "      <td>10.863674</td>\n",
       "      <td>Evening</td>\n",
       "      <td>Monday</td>\n",
       "      <td>59.338076</td>\n",
       "      <td>56.692439</td>\n",
       "      <td>14.449236</td>\n",
       "      <td>-6.966593</td>\n",
       "      <td>5.0</td>\n",
       "      <td>DC Fast Charger</td>\n",
       "      <td>Commuter</td>\n",
       "    </tr>\n",
       "  </tbody>\n",
       "</table>\n",
       "<p>1320 rows × 20 columns</p>\n",
       "</div>"
      ],
      "text/plain": [
       "        User ID Vehicle Model  Battery Capacity (kWh) Charging Station ID  \\\n",
       "0        User_1        BMW i3              108.463007         Station_391   \n",
       "1        User_2  Hyundai Kona              100.000000         Station_428   \n",
       "2        User_3    Chevy Bolt               75.000000         Station_181   \n",
       "3        User_4  Hyundai Kona               50.000000         Station_327   \n",
       "4        User_5  Hyundai Kona               50.000000         Station_108   \n",
       "...         ...           ...                     ...                 ...   \n",
       "1315  User_1316   Nissan Leaf              100.000000          Station_57   \n",
       "1316  User_1317        BMW i3              100.000000          Station_40   \n",
       "1317  User_1318   Nissan Leaf              100.000000         Station_374   \n",
       "1318  User_1319    Chevy Bolt               85.000000         Station_336   \n",
       "1319  User_1320   Nissan Leaf              120.447195         Station_128   \n",
       "\n",
       "     Charging Station Location  Charging Start Time    Charging End Time  \\\n",
       "0                      Houston  2024-01-01 00:00:00  2024-01-01 00:39:00   \n",
       "1                San Francisco  2024-01-01 01:00:00  2024-01-01 03:01:00   \n",
       "2                San Francisco  2024-01-01 02:00:00  2024-01-01 04:48:00   \n",
       "3                      Houston  2024-01-01 03:00:00  2024-01-01 06:42:00   \n",
       "4                  Los Angeles  2024-01-01 04:00:00  2024-01-01 05:46:00   \n",
       "...                        ...                  ...                  ...   \n",
       "1315                  New York  2024-02-24 19:00:00  2024-02-24 20:30:00   \n",
       "1316                  New York  2024-02-24 20:00:00  2024-02-24 20:44:00   \n",
       "1317                  New York  2024-02-24 21:00:00  2024-02-24 23:03:00   \n",
       "1318             San Francisco  2024-02-24 22:00:00  2024-02-24 23:20:00   \n",
       "1319               Los Angeles  2024-02-24 23:00:00  2024-02-24 23:56:00   \n",
       "\n",
       "      Energy Consumed (kWh)  Charging Duration (hours)  Charging Rate (kW)  \\\n",
       "0                 60.712346                   0.591363           36.389181   \n",
       "1                 12.339275                   3.133652           30.677735   \n",
       "2                 19.128876                   2.452653           27.513593   \n",
       "3                 79.457824                   1.266431           32.882870   \n",
       "4                 19.629104                   2.019765           10.215712   \n",
       "...                     ...                        ...                 ...   \n",
       "1315              42.011654                   1.426444            5.895475   \n",
       "1316              68.185853                   3.238212           18.388012   \n",
       "1317              18.895102                   3.267122           45.482066   \n",
       "1318              13.756252                   2.754527           38.148183   \n",
       "1319              63.652570                   3.740970           33.704226   \n",
       "\n",
       "      Charging Cost (USD) Time of Day Day of Week  State of Charge (Start %)  \\\n",
       "0               13.087717     Evening     Tuesday                  29.371576   \n",
       "1               21.128448     Morning      Monday                  10.115778   \n",
       "2               35.667270     Morning    Thursday                   6.854604   \n",
       "3               13.036239     Evening    Saturday                  83.120003   \n",
       "4               10.161471     Morning    Saturday                  54.258950   \n",
       "...                   ...         ...         ...                        ...   \n",
       "1315            22.081164     Evening      Sunday                  39.204102   \n",
       "1316             5.067806     Evening     Tuesday                  31.456375   \n",
       "1317            37.255002     Evening     Tuesday                  71.903081   \n",
       "1318            39.046146   Afternoon      Sunday                  76.187997   \n",
       "1319            10.863674     Evening      Monday                  59.338076   \n",
       "\n",
       "      State of Charge (End %)  Distance Driven (since last charge) (km)  \\\n",
       "0                   86.119962                                293.602111   \n",
       "1                   84.664344                                112.112804   \n",
       "2                   69.917615                                 71.799253   \n",
       "3                   99.624328                                199.577785   \n",
       "4                   63.743786                                203.661847   \n",
       "...                       ...                                       ...   \n",
       "1315                83.915952                                239.601075   \n",
       "1316                93.096461                                164.376022   \n",
       "1317                78.678879                                226.519258   \n",
       "1318                65.926573                                291.494076   \n",
       "1319                56.692439                                 14.449236   \n",
       "\n",
       "      Temperature (°C)  Vehicle Age (years)     Charger Type  \\\n",
       "0            27.947953                  2.0  DC Fast Charger   \n",
       "1            14.311026                  3.0          Level 1   \n",
       "2            21.002002                  2.0          Level 2   \n",
       "3            38.316313                  1.0          Level 1   \n",
       "4            -7.834199                  1.0          Level 1   \n",
       "...                ...                  ...              ...   \n",
       "1315          1.919655                  7.0  DC Fast Charger   \n",
       "1316         34.029775                  4.0          Level 2   \n",
       "1317         20.358761                  5.0  DC Fast Charger   \n",
       "1318         24.134598                  5.0          Level 2   \n",
       "1319         -6.966593                  5.0  DC Fast Charger   \n",
       "\n",
       "                   User Type  \n",
       "0                   Commuter  \n",
       "1              Casual Driver  \n",
       "2                   Commuter  \n",
       "3     Long-Distance Traveler  \n",
       "4     Long-Distance Traveler  \n",
       "...                      ...  \n",
       "1315                Commuter  \n",
       "1316           Casual Driver  \n",
       "1317                Commuter  \n",
       "1318                Commuter  \n",
       "1319                Commuter  \n",
       "\n",
       "[1320 rows x 20 columns]"
      ]
     },
     "execution_count": 4,
     "metadata": {},
     "output_type": "execute_result"
    }
   ],
   "source": [
    "df = pd.read_csv(r\"C:\\Users\\maury\\OneDrive\\Desktop\\powering evs\\ev_charging_patterns.csv\")\n",
    "df"
   ]
  },
  {
   "cell_type": "code",
   "execution_count": 5,
   "id": "cc4e9cd0",
   "metadata": {},
   "outputs": [
    {
     "name": "stdout",
     "output_type": "stream",
     "text": [
      "43\n"
     ]
    }
   ],
   "source": [
    "avg_Energyconsumed=round(df['Energy Consumed (kWh)'].mean())\n",
    "print(avg_Energyconsumed)"
   ]
  },
  {
   "cell_type": "code",
   "execution_count": 6,
   "id": "0f0ac3f1",
   "metadata": {},
   "outputs": [
    {
     "name": "stderr",
     "output_type": "stream",
     "text": [
      "C:\\Users\\maury\\AppData\\Local\\Temp\\ipykernel_16840\\3727275266.py:1: FutureWarning: A value is trying to be set on a copy of a DataFrame or Series through chained assignment using an inplace method.\n",
      "The behavior will change in pandas 3.0. This inplace method will never work because the intermediate object on which we are setting values always behaves as a copy.\n",
      "\n",
      "For example, when doing 'df[col].method(value, inplace=True)', try using 'df.method({col: value}, inplace=True)' or df[col] = df[col].method(value) instead, to perform the operation inplace on the original object.\n",
      "\n",
      "\n",
      "  df['Energy Consumed (kWh)'].fillna(avg_Energyconsumed, inplace=True)\n"
     ]
    },
    {
     "data": {
      "text/html": [
       "<div>\n",
       "<style scoped>\n",
       "    .dataframe tbody tr th:only-of-type {\n",
       "        vertical-align: middle;\n",
       "    }\n",
       "\n",
       "    .dataframe tbody tr th {\n",
       "        vertical-align: top;\n",
       "    }\n",
       "\n",
       "    .dataframe thead th {\n",
       "        text-align: right;\n",
       "    }\n",
       "</style>\n",
       "<table border=\"1\" class=\"dataframe\">\n",
       "  <thead>\n",
       "    <tr style=\"text-align: right;\">\n",
       "      <th></th>\n",
       "      <th>User ID</th>\n",
       "      <th>Vehicle Model</th>\n",
       "      <th>Battery Capacity (kWh)</th>\n",
       "      <th>Charging Station ID</th>\n",
       "      <th>Charging Station Location</th>\n",
       "      <th>Charging Start Time</th>\n",
       "      <th>Charging End Time</th>\n",
       "      <th>Energy Consumed (kWh)</th>\n",
       "      <th>Charging Duration (hours)</th>\n",
       "      <th>Charging Rate (kW)</th>\n",
       "      <th>Charging Cost (USD)</th>\n",
       "      <th>Time of Day</th>\n",
       "      <th>Day of Week</th>\n",
       "      <th>State of Charge (Start %)</th>\n",
       "      <th>State of Charge (End %)</th>\n",
       "      <th>Distance Driven (since last charge) (km)</th>\n",
       "      <th>Temperature (°C)</th>\n",
       "      <th>Vehicle Age (years)</th>\n",
       "      <th>Charger Type</th>\n",
       "      <th>User Type</th>\n",
       "    </tr>\n",
       "  </thead>\n",
       "  <tbody>\n",
       "    <tr>\n",
       "      <th>0</th>\n",
       "      <td>User_1</td>\n",
       "      <td>BMW i3</td>\n",
       "      <td>108.463007</td>\n",
       "      <td>Station_391</td>\n",
       "      <td>Houston</td>\n",
       "      <td>2024-01-01 00:00:00</td>\n",
       "      <td>2024-01-01 00:39:00</td>\n",
       "      <td>60.712346</td>\n",
       "      <td>0.591363</td>\n",
       "      <td>36.389181</td>\n",
       "      <td>13.087717</td>\n",
       "      <td>Evening</td>\n",
       "      <td>Tuesday</td>\n",
       "      <td>29.371576</td>\n",
       "      <td>86.119962</td>\n",
       "      <td>293.602111</td>\n",
       "      <td>27.947953</td>\n",
       "      <td>2.000000</td>\n",
       "      <td>DC Fast Charger</td>\n",
       "      <td>Commuter</td>\n",
       "    </tr>\n",
       "    <tr>\n",
       "      <th>1</th>\n",
       "      <td>User_2</td>\n",
       "      <td>Hyundai Kona</td>\n",
       "      <td>100.000000</td>\n",
       "      <td>Station_428</td>\n",
       "      <td>San Francisco</td>\n",
       "      <td>2024-01-01 01:00:00</td>\n",
       "      <td>2024-01-01 03:01:00</td>\n",
       "      <td>12.339275</td>\n",
       "      <td>3.133652</td>\n",
       "      <td>30.677735</td>\n",
       "      <td>21.128448</td>\n",
       "      <td>Morning</td>\n",
       "      <td>Monday</td>\n",
       "      <td>10.115778</td>\n",
       "      <td>84.664344</td>\n",
       "      <td>112.112804</td>\n",
       "      <td>14.311026</td>\n",
       "      <td>3.000000</td>\n",
       "      <td>Level 1</td>\n",
       "      <td>Casual Driver</td>\n",
       "    </tr>\n",
       "    <tr>\n",
       "      <th>2</th>\n",
       "      <td>User_3</td>\n",
       "      <td>Chevy Bolt</td>\n",
       "      <td>75.000000</td>\n",
       "      <td>Station_181</td>\n",
       "      <td>San Francisco</td>\n",
       "      <td>2024-01-01 02:00:00</td>\n",
       "      <td>2024-01-01 04:48:00</td>\n",
       "      <td>19.128876</td>\n",
       "      <td>2.452653</td>\n",
       "      <td>27.513593</td>\n",
       "      <td>35.667270</td>\n",
       "      <td>Morning</td>\n",
       "      <td>Thursday</td>\n",
       "      <td>6.854604</td>\n",
       "      <td>69.917615</td>\n",
       "      <td>71.799253</td>\n",
       "      <td>21.002002</td>\n",
       "      <td>2.000000</td>\n",
       "      <td>Level 2</td>\n",
       "      <td>Commuter</td>\n",
       "    </tr>\n",
       "    <tr>\n",
       "      <th>3</th>\n",
       "      <td>User_4</td>\n",
       "      <td>Hyundai Kona</td>\n",
       "      <td>50.000000</td>\n",
       "      <td>Station_327</td>\n",
       "      <td>Houston</td>\n",
       "      <td>2024-01-01 03:00:00</td>\n",
       "      <td>2024-01-01 06:42:00</td>\n",
       "      <td>79.457824</td>\n",
       "      <td>1.266431</td>\n",
       "      <td>32.882870</td>\n",
       "      <td>13.036239</td>\n",
       "      <td>Evening</td>\n",
       "      <td>Saturday</td>\n",
       "      <td>83.120003</td>\n",
       "      <td>99.624328</td>\n",
       "      <td>199.577785</td>\n",
       "      <td>38.316313</td>\n",
       "      <td>1.000000</td>\n",
       "      <td>Level 1</td>\n",
       "      <td>Long-Distance Traveler</td>\n",
       "    </tr>\n",
       "    <tr>\n",
       "      <th>4</th>\n",
       "      <td>User_5</td>\n",
       "      <td>Hyundai Kona</td>\n",
       "      <td>50.000000</td>\n",
       "      <td>Station_108</td>\n",
       "      <td>Los Angeles</td>\n",
       "      <td>2024-01-01 04:00:00</td>\n",
       "      <td>2024-01-01 05:46:00</td>\n",
       "      <td>19.629104</td>\n",
       "      <td>2.019765</td>\n",
       "      <td>10.215712</td>\n",
       "      <td>10.161471</td>\n",
       "      <td>Morning</td>\n",
       "      <td>Saturday</td>\n",
       "      <td>54.258950</td>\n",
       "      <td>63.743786</td>\n",
       "      <td>203.661847</td>\n",
       "      <td>-7.834199</td>\n",
       "      <td>1.000000</td>\n",
       "      <td>Level 1</td>\n",
       "      <td>Long-Distance Traveler</td>\n",
       "    </tr>\n",
       "    <tr>\n",
       "      <th>5</th>\n",
       "      <td>User_6</td>\n",
       "      <td>Nissan Leaf</td>\n",
       "      <td>50.000000</td>\n",
       "      <td>Station_335</td>\n",
       "      <td>San Francisco</td>\n",
       "      <td>2024-01-01 05:00:00</td>\n",
       "      <td>2024-01-01 07:10:00</td>\n",
       "      <td>43.181137</td>\n",
       "      <td>1.167640</td>\n",
       "      <td>14.334523</td>\n",
       "      <td>36.900341</td>\n",
       "      <td>Evening</td>\n",
       "      <td>Saturday</td>\n",
       "      <td>75.217748</td>\n",
       "      <td>71.982288</td>\n",
       "      <td>143.680046</td>\n",
       "      <td>-5.274218</td>\n",
       "      <td>0.000000</td>\n",
       "      <td>DC Fast Charger</td>\n",
       "      <td>Long-Distance Traveler</td>\n",
       "    </tr>\n",
       "    <tr>\n",
       "      <th>6</th>\n",
       "      <td>User_7</td>\n",
       "      <td>Chevy Bolt</td>\n",
       "      <td>85.000000</td>\n",
       "      <td>Station_162</td>\n",
       "      <td>Houston</td>\n",
       "      <td>2024-01-01 06:00:00</td>\n",
       "      <td>2024-01-01 07:53:00</td>\n",
       "      <td>36.862140</td>\n",
       "      <td>3.539619</td>\n",
       "      <td>26.185188</td>\n",
       "      <td>22.214225</td>\n",
       "      <td>Evening</td>\n",
       "      <td>Friday</td>\n",
       "      <td>60.751781</td>\n",
       "      <td>70.796097</td>\n",
       "      <td>81.338009</td>\n",
       "      <td>27.551335</td>\n",
       "      <td>4.000000</td>\n",
       "      <td>Level 2</td>\n",
       "      <td>Commuter</td>\n",
       "    </tr>\n",
       "    <tr>\n",
       "      <th>7</th>\n",
       "      <td>User_8</td>\n",
       "      <td>Chevy Bolt</td>\n",
       "      <td>75.000000</td>\n",
       "      <td>Station_302</td>\n",
       "      <td>Los Angeles</td>\n",
       "      <td>2024-01-01 07:00:00</td>\n",
       "      <td>2024-01-01 10:42:00</td>\n",
       "      <td>51.467617</td>\n",
       "      <td>2.655396</td>\n",
       "      <td>26.702908</td>\n",
       "      <td>9.796821</td>\n",
       "      <td>Afternoon</td>\n",
       "      <td>Monday</td>\n",
       "      <td>56.201703</td>\n",
       "      <td>63.786815</td>\n",
       "      <td>116.543166</td>\n",
       "      <td>-4.417460</td>\n",
       "      <td>0.000000</td>\n",
       "      <td>Level 2</td>\n",
       "      <td>Long-Distance Traveler</td>\n",
       "    </tr>\n",
       "    <tr>\n",
       "      <th>8</th>\n",
       "      <td>User_9</td>\n",
       "      <td>Chevy Bolt</td>\n",
       "      <td>62.000000</td>\n",
       "      <td>Station_493</td>\n",
       "      <td>Los Angeles</td>\n",
       "      <td>2024-01-01 08:00:00</td>\n",
       "      <td>2024-01-01 09:21:00</td>\n",
       "      <td>43.592372</td>\n",
       "      <td>1.724204</td>\n",
       "      <td>14.294923</td>\n",
       "      <td>32.465005</td>\n",
       "      <td>Evening</td>\n",
       "      <td>Wednesday</td>\n",
       "      <td>33.466200</td>\n",
       "      <td>92.961421</td>\n",
       "      <td>208.259742</td>\n",
       "      <td>22.516706</td>\n",
       "      <td>4.000000</td>\n",
       "      <td>Level 1</td>\n",
       "      <td>Commuter</td>\n",
       "    </tr>\n",
       "    <tr>\n",
       "      <th>9</th>\n",
       "      <td>User_10</td>\n",
       "      <td>Hyundai Kona</td>\n",
       "      <td>50.000000</td>\n",
       "      <td>Station_452</td>\n",
       "      <td>Chicago</td>\n",
       "      <td>2024-01-01 09:00:00</td>\n",
       "      <td>2024-01-01 12:44:00</td>\n",
       "      <td>78.868607</td>\n",
       "      <td>2.026875</td>\n",
       "      <td>11.761000</td>\n",
       "      <td>21.312302</td>\n",
       "      <td>Morning</td>\n",
       "      <td>Wednesday</td>\n",
       "      <td>27.399455</td>\n",
       "      <td>70.053381</td>\n",
       "      <td>54.006309</td>\n",
       "      <td>27.512019</td>\n",
       "      <td>2.830381</td>\n",
       "      <td>DC Fast Charger</td>\n",
       "      <td>Commuter</td>\n",
       "    </tr>\n",
       "  </tbody>\n",
       "</table>\n",
       "</div>"
      ],
      "text/plain": [
       "   User ID Vehicle Model  Battery Capacity (kWh) Charging Station ID  \\\n",
       "0   User_1        BMW i3              108.463007         Station_391   \n",
       "1   User_2  Hyundai Kona              100.000000         Station_428   \n",
       "2   User_3    Chevy Bolt               75.000000         Station_181   \n",
       "3   User_4  Hyundai Kona               50.000000         Station_327   \n",
       "4   User_5  Hyundai Kona               50.000000         Station_108   \n",
       "5   User_6   Nissan Leaf               50.000000         Station_335   \n",
       "6   User_7    Chevy Bolt               85.000000         Station_162   \n",
       "7   User_8    Chevy Bolt               75.000000         Station_302   \n",
       "8   User_9    Chevy Bolt               62.000000         Station_493   \n",
       "9  User_10  Hyundai Kona               50.000000         Station_452   \n",
       "\n",
       "  Charging Station Location  Charging Start Time    Charging End Time  \\\n",
       "0                   Houston  2024-01-01 00:00:00  2024-01-01 00:39:00   \n",
       "1             San Francisco  2024-01-01 01:00:00  2024-01-01 03:01:00   \n",
       "2             San Francisco  2024-01-01 02:00:00  2024-01-01 04:48:00   \n",
       "3                   Houston  2024-01-01 03:00:00  2024-01-01 06:42:00   \n",
       "4               Los Angeles  2024-01-01 04:00:00  2024-01-01 05:46:00   \n",
       "5             San Francisco  2024-01-01 05:00:00  2024-01-01 07:10:00   \n",
       "6                   Houston  2024-01-01 06:00:00  2024-01-01 07:53:00   \n",
       "7               Los Angeles  2024-01-01 07:00:00  2024-01-01 10:42:00   \n",
       "8               Los Angeles  2024-01-01 08:00:00  2024-01-01 09:21:00   \n",
       "9                   Chicago  2024-01-01 09:00:00  2024-01-01 12:44:00   \n",
       "\n",
       "   Energy Consumed (kWh)  Charging Duration (hours)  Charging Rate (kW)  \\\n",
       "0              60.712346                   0.591363           36.389181   \n",
       "1              12.339275                   3.133652           30.677735   \n",
       "2              19.128876                   2.452653           27.513593   \n",
       "3              79.457824                   1.266431           32.882870   \n",
       "4              19.629104                   2.019765           10.215712   \n",
       "5              43.181137                   1.167640           14.334523   \n",
       "6              36.862140                   3.539619           26.185188   \n",
       "7              51.467617                   2.655396           26.702908   \n",
       "8              43.592372                   1.724204           14.294923   \n",
       "9              78.868607                   2.026875           11.761000   \n",
       "\n",
       "   Charging Cost (USD) Time of Day Day of Week  State of Charge (Start %)  \\\n",
       "0            13.087717     Evening     Tuesday                  29.371576   \n",
       "1            21.128448     Morning      Monday                  10.115778   \n",
       "2            35.667270     Morning    Thursday                   6.854604   \n",
       "3            13.036239     Evening    Saturday                  83.120003   \n",
       "4            10.161471     Morning    Saturday                  54.258950   \n",
       "5            36.900341     Evening    Saturday                  75.217748   \n",
       "6            22.214225     Evening      Friday                  60.751781   \n",
       "7             9.796821   Afternoon      Monday                  56.201703   \n",
       "8            32.465005     Evening   Wednesday                  33.466200   \n",
       "9            21.312302     Morning   Wednesday                  27.399455   \n",
       "\n",
       "   State of Charge (End %)  Distance Driven (since last charge) (km)  \\\n",
       "0                86.119962                                293.602111   \n",
       "1                84.664344                                112.112804   \n",
       "2                69.917615                                 71.799253   \n",
       "3                99.624328                                199.577785   \n",
       "4                63.743786                                203.661847   \n",
       "5                71.982288                                143.680046   \n",
       "6                70.796097                                 81.338009   \n",
       "7                63.786815                                116.543166   \n",
       "8                92.961421                                208.259742   \n",
       "9                70.053381                                 54.006309   \n",
       "\n",
       "   Temperature (°C)  Vehicle Age (years)     Charger Type  \\\n",
       "0         27.947953             2.000000  DC Fast Charger   \n",
       "1         14.311026             3.000000          Level 1   \n",
       "2         21.002002             2.000000          Level 2   \n",
       "3         38.316313             1.000000          Level 1   \n",
       "4         -7.834199             1.000000          Level 1   \n",
       "5         -5.274218             0.000000  DC Fast Charger   \n",
       "6         27.551335             4.000000          Level 2   \n",
       "7         -4.417460             0.000000          Level 2   \n",
       "8         22.516706             4.000000          Level 1   \n",
       "9         27.512019             2.830381  DC Fast Charger   \n",
       "\n",
       "                User Type  \n",
       "0                Commuter  \n",
       "1           Casual Driver  \n",
       "2                Commuter  \n",
       "3  Long-Distance Traveler  \n",
       "4  Long-Distance Traveler  \n",
       "5  Long-Distance Traveler  \n",
       "6                Commuter  \n",
       "7  Long-Distance Traveler  \n",
       "8                Commuter  \n",
       "9                Commuter  "
      ]
     },
     "execution_count": 6,
     "metadata": {},
     "output_type": "execute_result"
    }
   ],
   "source": [
    "df['Energy Consumed (kWh)'].fillna(avg_Energyconsumed, inplace=True)\n",
    "df.head(10)"
   ]
  },
  {
   "cell_type": "code",
   "execution_count": 7,
   "id": "6a005dd2",
   "metadata": {},
   "outputs": [
    {
     "name": "stdout",
     "output_type": "stream",
     "text": [
      "26\n"
     ]
    }
   ],
   "source": [
    "avg_Chargingrate=round(df['Charging Rate (kW)'].mean())\n",
    "print(avg_Chargingrate)"
   ]
  },
  {
   "cell_type": "code",
   "execution_count": 8,
   "id": "b6d495e6",
   "metadata": {},
   "outputs": [
    {
     "name": "stderr",
     "output_type": "stream",
     "text": [
      "C:\\Users\\maury\\AppData\\Local\\Temp\\ipykernel_16840\\1078686987.py:1: FutureWarning: A value is trying to be set on a copy of a DataFrame or Series through chained assignment using an inplace method.\n",
      "The behavior will change in pandas 3.0. This inplace method will never work because the intermediate object on which we are setting values always behaves as a copy.\n",
      "\n",
      "For example, when doing 'df[col].method(value, inplace=True)', try using 'df.method({col: value}, inplace=True)' or df[col] = df[col].method(value) instead, to perform the operation inplace on the original object.\n",
      "\n",
      "\n",
      "  df['Charging Rate (kW)'].fillna(avg_Chargingrate, inplace=True)\n"
     ]
    },
    {
     "data": {
      "text/html": [
       "<div>\n",
       "<style scoped>\n",
       "    .dataframe tbody tr th:only-of-type {\n",
       "        vertical-align: middle;\n",
       "    }\n",
       "\n",
       "    .dataframe tbody tr th {\n",
       "        vertical-align: top;\n",
       "    }\n",
       "\n",
       "    .dataframe thead th {\n",
       "        text-align: right;\n",
       "    }\n",
       "</style>\n",
       "<table border=\"1\" class=\"dataframe\">\n",
       "  <thead>\n",
       "    <tr style=\"text-align: right;\">\n",
       "      <th></th>\n",
       "      <th>User ID</th>\n",
       "      <th>Vehicle Model</th>\n",
       "      <th>Battery Capacity (kWh)</th>\n",
       "      <th>Charging Station ID</th>\n",
       "      <th>Charging Station Location</th>\n",
       "      <th>Charging Start Time</th>\n",
       "      <th>Charging End Time</th>\n",
       "      <th>Energy Consumed (kWh)</th>\n",
       "      <th>Charging Duration (hours)</th>\n",
       "      <th>Charging Rate (kW)</th>\n",
       "      <th>Charging Cost (USD)</th>\n",
       "      <th>Time of Day</th>\n",
       "      <th>Day of Week</th>\n",
       "      <th>State of Charge (Start %)</th>\n",
       "      <th>State of Charge (End %)</th>\n",
       "      <th>Distance Driven (since last charge) (km)</th>\n",
       "      <th>Temperature (°C)</th>\n",
       "      <th>Vehicle Age (years)</th>\n",
       "      <th>Charger Type</th>\n",
       "      <th>User Type</th>\n",
       "    </tr>\n",
       "  </thead>\n",
       "  <tbody>\n",
       "    <tr>\n",
       "      <th>0</th>\n",
       "      <td>User_1</td>\n",
       "      <td>BMW i3</td>\n",
       "      <td>108.463007</td>\n",
       "      <td>Station_391</td>\n",
       "      <td>Houston</td>\n",
       "      <td>2024-01-01 00:00:00</td>\n",
       "      <td>2024-01-01 00:39:00</td>\n",
       "      <td>60.712346</td>\n",
       "      <td>0.591363</td>\n",
       "      <td>36.389181</td>\n",
       "      <td>13.087717</td>\n",
       "      <td>Evening</td>\n",
       "      <td>Tuesday</td>\n",
       "      <td>29.371576</td>\n",
       "      <td>86.119962</td>\n",
       "      <td>293.602111</td>\n",
       "      <td>27.947953</td>\n",
       "      <td>2.0</td>\n",
       "      <td>DC Fast Charger</td>\n",
       "      <td>Commuter</td>\n",
       "    </tr>\n",
       "    <tr>\n",
       "      <th>1</th>\n",
       "      <td>User_2</td>\n",
       "      <td>Hyundai Kona</td>\n",
       "      <td>100.000000</td>\n",
       "      <td>Station_428</td>\n",
       "      <td>San Francisco</td>\n",
       "      <td>2024-01-01 01:00:00</td>\n",
       "      <td>2024-01-01 03:01:00</td>\n",
       "      <td>12.339275</td>\n",
       "      <td>3.133652</td>\n",
       "      <td>30.677735</td>\n",
       "      <td>21.128448</td>\n",
       "      <td>Morning</td>\n",
       "      <td>Monday</td>\n",
       "      <td>10.115778</td>\n",
       "      <td>84.664344</td>\n",
       "      <td>112.112804</td>\n",
       "      <td>14.311026</td>\n",
       "      <td>3.0</td>\n",
       "      <td>Level 1</td>\n",
       "      <td>Casual Driver</td>\n",
       "    </tr>\n",
       "    <tr>\n",
       "      <th>2</th>\n",
       "      <td>User_3</td>\n",
       "      <td>Chevy Bolt</td>\n",
       "      <td>75.000000</td>\n",
       "      <td>Station_181</td>\n",
       "      <td>San Francisco</td>\n",
       "      <td>2024-01-01 02:00:00</td>\n",
       "      <td>2024-01-01 04:48:00</td>\n",
       "      <td>19.128876</td>\n",
       "      <td>2.452653</td>\n",
       "      <td>27.513593</td>\n",
       "      <td>35.667270</td>\n",
       "      <td>Morning</td>\n",
       "      <td>Thursday</td>\n",
       "      <td>6.854604</td>\n",
       "      <td>69.917615</td>\n",
       "      <td>71.799253</td>\n",
       "      <td>21.002002</td>\n",
       "      <td>2.0</td>\n",
       "      <td>Level 2</td>\n",
       "      <td>Commuter</td>\n",
       "    </tr>\n",
       "    <tr>\n",
       "      <th>3</th>\n",
       "      <td>User_4</td>\n",
       "      <td>Hyundai Kona</td>\n",
       "      <td>50.000000</td>\n",
       "      <td>Station_327</td>\n",
       "      <td>Houston</td>\n",
       "      <td>2024-01-01 03:00:00</td>\n",
       "      <td>2024-01-01 06:42:00</td>\n",
       "      <td>79.457824</td>\n",
       "      <td>1.266431</td>\n",
       "      <td>32.882870</td>\n",
       "      <td>13.036239</td>\n",
       "      <td>Evening</td>\n",
       "      <td>Saturday</td>\n",
       "      <td>83.120003</td>\n",
       "      <td>99.624328</td>\n",
       "      <td>199.577785</td>\n",
       "      <td>38.316313</td>\n",
       "      <td>1.0</td>\n",
       "      <td>Level 1</td>\n",
       "      <td>Long-Distance Traveler</td>\n",
       "    </tr>\n",
       "    <tr>\n",
       "      <th>4</th>\n",
       "      <td>User_5</td>\n",
       "      <td>Hyundai Kona</td>\n",
       "      <td>50.000000</td>\n",
       "      <td>Station_108</td>\n",
       "      <td>Los Angeles</td>\n",
       "      <td>2024-01-01 04:00:00</td>\n",
       "      <td>2024-01-01 05:46:00</td>\n",
       "      <td>19.629104</td>\n",
       "      <td>2.019765</td>\n",
       "      <td>10.215712</td>\n",
       "      <td>10.161471</td>\n",
       "      <td>Morning</td>\n",
       "      <td>Saturday</td>\n",
       "      <td>54.258950</td>\n",
       "      <td>63.743786</td>\n",
       "      <td>203.661847</td>\n",
       "      <td>-7.834199</td>\n",
       "      <td>1.0</td>\n",
       "      <td>Level 1</td>\n",
       "      <td>Long-Distance Traveler</td>\n",
       "    </tr>\n",
       "    <tr>\n",
       "      <th>...</th>\n",
       "      <td>...</td>\n",
       "      <td>...</td>\n",
       "      <td>...</td>\n",
       "      <td>...</td>\n",
       "      <td>...</td>\n",
       "      <td>...</td>\n",
       "      <td>...</td>\n",
       "      <td>...</td>\n",
       "      <td>...</td>\n",
       "      <td>...</td>\n",
       "      <td>...</td>\n",
       "      <td>...</td>\n",
       "      <td>...</td>\n",
       "      <td>...</td>\n",
       "      <td>...</td>\n",
       "      <td>...</td>\n",
       "      <td>...</td>\n",
       "      <td>...</td>\n",
       "      <td>...</td>\n",
       "      <td>...</td>\n",
       "    </tr>\n",
       "    <tr>\n",
       "      <th>1315</th>\n",
       "      <td>User_1316</td>\n",
       "      <td>Nissan Leaf</td>\n",
       "      <td>100.000000</td>\n",
       "      <td>Station_57</td>\n",
       "      <td>New York</td>\n",
       "      <td>2024-02-24 19:00:00</td>\n",
       "      <td>2024-02-24 20:30:00</td>\n",
       "      <td>42.011654</td>\n",
       "      <td>1.426444</td>\n",
       "      <td>5.895475</td>\n",
       "      <td>22.081164</td>\n",
       "      <td>Evening</td>\n",
       "      <td>Sunday</td>\n",
       "      <td>39.204102</td>\n",
       "      <td>83.915952</td>\n",
       "      <td>239.601075</td>\n",
       "      <td>1.919655</td>\n",
       "      <td>7.0</td>\n",
       "      <td>DC Fast Charger</td>\n",
       "      <td>Commuter</td>\n",
       "    </tr>\n",
       "    <tr>\n",
       "      <th>1316</th>\n",
       "      <td>User_1317</td>\n",
       "      <td>BMW i3</td>\n",
       "      <td>100.000000</td>\n",
       "      <td>Station_40</td>\n",
       "      <td>New York</td>\n",
       "      <td>2024-02-24 20:00:00</td>\n",
       "      <td>2024-02-24 20:44:00</td>\n",
       "      <td>68.185853</td>\n",
       "      <td>3.238212</td>\n",
       "      <td>18.388012</td>\n",
       "      <td>5.067806</td>\n",
       "      <td>Evening</td>\n",
       "      <td>Tuesday</td>\n",
       "      <td>31.456375</td>\n",
       "      <td>93.096461</td>\n",
       "      <td>164.376022</td>\n",
       "      <td>34.029775</td>\n",
       "      <td>4.0</td>\n",
       "      <td>Level 2</td>\n",
       "      <td>Casual Driver</td>\n",
       "    </tr>\n",
       "    <tr>\n",
       "      <th>1317</th>\n",
       "      <td>User_1318</td>\n",
       "      <td>Nissan Leaf</td>\n",
       "      <td>100.000000</td>\n",
       "      <td>Station_374</td>\n",
       "      <td>New York</td>\n",
       "      <td>2024-02-24 21:00:00</td>\n",
       "      <td>2024-02-24 23:03:00</td>\n",
       "      <td>18.895102</td>\n",
       "      <td>3.267122</td>\n",
       "      <td>45.482066</td>\n",
       "      <td>37.255002</td>\n",
       "      <td>Evening</td>\n",
       "      <td>Tuesday</td>\n",
       "      <td>71.903081</td>\n",
       "      <td>78.678879</td>\n",
       "      <td>226.519258</td>\n",
       "      <td>20.358761</td>\n",
       "      <td>5.0</td>\n",
       "      <td>DC Fast Charger</td>\n",
       "      <td>Commuter</td>\n",
       "    </tr>\n",
       "    <tr>\n",
       "      <th>1318</th>\n",
       "      <td>User_1319</td>\n",
       "      <td>Chevy Bolt</td>\n",
       "      <td>85.000000</td>\n",
       "      <td>Station_336</td>\n",
       "      <td>San Francisco</td>\n",
       "      <td>2024-02-24 22:00:00</td>\n",
       "      <td>2024-02-24 23:20:00</td>\n",
       "      <td>13.756252</td>\n",
       "      <td>2.754527</td>\n",
       "      <td>38.148183</td>\n",
       "      <td>39.046146</td>\n",
       "      <td>Afternoon</td>\n",
       "      <td>Sunday</td>\n",
       "      <td>76.187997</td>\n",
       "      <td>65.926573</td>\n",
       "      <td>291.494076</td>\n",
       "      <td>24.134598</td>\n",
       "      <td>5.0</td>\n",
       "      <td>Level 2</td>\n",
       "      <td>Commuter</td>\n",
       "    </tr>\n",
       "    <tr>\n",
       "      <th>1319</th>\n",
       "      <td>User_1320</td>\n",
       "      <td>Nissan Leaf</td>\n",
       "      <td>120.447195</td>\n",
       "      <td>Station_128</td>\n",
       "      <td>Los Angeles</td>\n",
       "      <td>2024-02-24 23:00:00</td>\n",
       "      <td>2024-02-24 23:56:00</td>\n",
       "      <td>63.652570</td>\n",
       "      <td>3.740970</td>\n",
       "      <td>33.704226</td>\n",
       "      <td>10.863674</td>\n",
       "      <td>Evening</td>\n",
       "      <td>Monday</td>\n",
       "      <td>59.338076</td>\n",
       "      <td>56.692439</td>\n",
       "      <td>14.449236</td>\n",
       "      <td>-6.966593</td>\n",
       "      <td>5.0</td>\n",
       "      <td>DC Fast Charger</td>\n",
       "      <td>Commuter</td>\n",
       "    </tr>\n",
       "  </tbody>\n",
       "</table>\n",
       "<p>1320 rows × 20 columns</p>\n",
       "</div>"
      ],
      "text/plain": [
       "        User ID Vehicle Model  Battery Capacity (kWh) Charging Station ID  \\\n",
       "0        User_1        BMW i3              108.463007         Station_391   \n",
       "1        User_2  Hyundai Kona              100.000000         Station_428   \n",
       "2        User_3    Chevy Bolt               75.000000         Station_181   \n",
       "3        User_4  Hyundai Kona               50.000000         Station_327   \n",
       "4        User_5  Hyundai Kona               50.000000         Station_108   \n",
       "...         ...           ...                     ...                 ...   \n",
       "1315  User_1316   Nissan Leaf              100.000000          Station_57   \n",
       "1316  User_1317        BMW i3              100.000000          Station_40   \n",
       "1317  User_1318   Nissan Leaf              100.000000         Station_374   \n",
       "1318  User_1319    Chevy Bolt               85.000000         Station_336   \n",
       "1319  User_1320   Nissan Leaf              120.447195         Station_128   \n",
       "\n",
       "     Charging Station Location  Charging Start Time    Charging End Time  \\\n",
       "0                      Houston  2024-01-01 00:00:00  2024-01-01 00:39:00   \n",
       "1                San Francisco  2024-01-01 01:00:00  2024-01-01 03:01:00   \n",
       "2                San Francisco  2024-01-01 02:00:00  2024-01-01 04:48:00   \n",
       "3                      Houston  2024-01-01 03:00:00  2024-01-01 06:42:00   \n",
       "4                  Los Angeles  2024-01-01 04:00:00  2024-01-01 05:46:00   \n",
       "...                        ...                  ...                  ...   \n",
       "1315                  New York  2024-02-24 19:00:00  2024-02-24 20:30:00   \n",
       "1316                  New York  2024-02-24 20:00:00  2024-02-24 20:44:00   \n",
       "1317                  New York  2024-02-24 21:00:00  2024-02-24 23:03:00   \n",
       "1318             San Francisco  2024-02-24 22:00:00  2024-02-24 23:20:00   \n",
       "1319               Los Angeles  2024-02-24 23:00:00  2024-02-24 23:56:00   \n",
       "\n",
       "      Energy Consumed (kWh)  Charging Duration (hours)  Charging Rate (kW)  \\\n",
       "0                 60.712346                   0.591363           36.389181   \n",
       "1                 12.339275                   3.133652           30.677735   \n",
       "2                 19.128876                   2.452653           27.513593   \n",
       "3                 79.457824                   1.266431           32.882870   \n",
       "4                 19.629104                   2.019765           10.215712   \n",
       "...                     ...                        ...                 ...   \n",
       "1315              42.011654                   1.426444            5.895475   \n",
       "1316              68.185853                   3.238212           18.388012   \n",
       "1317              18.895102                   3.267122           45.482066   \n",
       "1318              13.756252                   2.754527           38.148183   \n",
       "1319              63.652570                   3.740970           33.704226   \n",
       "\n",
       "      Charging Cost (USD) Time of Day Day of Week  State of Charge (Start %)  \\\n",
       "0               13.087717     Evening     Tuesday                  29.371576   \n",
       "1               21.128448     Morning      Monday                  10.115778   \n",
       "2               35.667270     Morning    Thursday                   6.854604   \n",
       "3               13.036239     Evening    Saturday                  83.120003   \n",
       "4               10.161471     Morning    Saturday                  54.258950   \n",
       "...                   ...         ...         ...                        ...   \n",
       "1315            22.081164     Evening      Sunday                  39.204102   \n",
       "1316             5.067806     Evening     Tuesday                  31.456375   \n",
       "1317            37.255002     Evening     Tuesday                  71.903081   \n",
       "1318            39.046146   Afternoon      Sunday                  76.187997   \n",
       "1319            10.863674     Evening      Monday                  59.338076   \n",
       "\n",
       "      State of Charge (End %)  Distance Driven (since last charge) (km)  \\\n",
       "0                   86.119962                                293.602111   \n",
       "1                   84.664344                                112.112804   \n",
       "2                   69.917615                                 71.799253   \n",
       "3                   99.624328                                199.577785   \n",
       "4                   63.743786                                203.661847   \n",
       "...                       ...                                       ...   \n",
       "1315                83.915952                                239.601075   \n",
       "1316                93.096461                                164.376022   \n",
       "1317                78.678879                                226.519258   \n",
       "1318                65.926573                                291.494076   \n",
       "1319                56.692439                                 14.449236   \n",
       "\n",
       "      Temperature (°C)  Vehicle Age (years)     Charger Type  \\\n",
       "0            27.947953                  2.0  DC Fast Charger   \n",
       "1            14.311026                  3.0          Level 1   \n",
       "2            21.002002                  2.0          Level 2   \n",
       "3            38.316313                  1.0          Level 1   \n",
       "4            -7.834199                  1.0          Level 1   \n",
       "...                ...                  ...              ...   \n",
       "1315          1.919655                  7.0  DC Fast Charger   \n",
       "1316         34.029775                  4.0          Level 2   \n",
       "1317         20.358761                  5.0  DC Fast Charger   \n",
       "1318         24.134598                  5.0          Level 2   \n",
       "1319         -6.966593                  5.0  DC Fast Charger   \n",
       "\n",
       "                   User Type  \n",
       "0                   Commuter  \n",
       "1              Casual Driver  \n",
       "2                   Commuter  \n",
       "3     Long-Distance Traveler  \n",
       "4     Long-Distance Traveler  \n",
       "...                      ...  \n",
       "1315                Commuter  \n",
       "1316           Casual Driver  \n",
       "1317                Commuter  \n",
       "1318                Commuter  \n",
       "1319                Commuter  \n",
       "\n",
       "[1320 rows x 20 columns]"
      ]
     },
     "execution_count": 8,
     "metadata": {},
     "output_type": "execute_result"
    }
   ],
   "source": [
    "df['Charging Rate (kW)'].fillna(avg_Chargingrate, inplace=True)\n",
    "df"
   ]
  },
  {
   "cell_type": "code",
   "execution_count": 9,
   "id": "803d4057",
   "metadata": {},
   "outputs": [
    {
     "name": "stdout",
     "output_type": "stream",
     "text": [
      "154\n"
     ]
    }
   ],
   "source": [
    "avg_Distancedriven=round(df['Distance Driven (since last charge) (km)'].mean())\n",
    "print(avg_Distancedriven)"
   ]
  },
  {
   "cell_type": "code",
   "execution_count": 10,
   "id": "94d0fc30",
   "metadata": {},
   "outputs": [
    {
     "name": "stderr",
     "output_type": "stream",
     "text": [
      "C:\\Users\\maury\\AppData\\Local\\Temp\\ipykernel_16840\\659537798.py:1: FutureWarning: A value is trying to be set on a copy of a DataFrame or Series through chained assignment using an inplace method.\n",
      "The behavior will change in pandas 3.0. This inplace method will never work because the intermediate object on which we are setting values always behaves as a copy.\n",
      "\n",
      "For example, when doing 'df[col].method(value, inplace=True)', try using 'df.method({col: value}, inplace=True)' or df[col] = df[col].method(value) instead, to perform the operation inplace on the original object.\n",
      "\n",
      "\n",
      "  df['Distance Driven (since last charge) (km)'].fillna(avg_Distancedriven, inplace=True)\n"
     ]
    },
    {
     "data": {
      "text/html": [
       "<div>\n",
       "<style scoped>\n",
       "    .dataframe tbody tr th:only-of-type {\n",
       "        vertical-align: middle;\n",
       "    }\n",
       "\n",
       "    .dataframe tbody tr th {\n",
       "        vertical-align: top;\n",
       "    }\n",
       "\n",
       "    .dataframe thead th {\n",
       "        text-align: right;\n",
       "    }\n",
       "</style>\n",
       "<table border=\"1\" class=\"dataframe\">\n",
       "  <thead>\n",
       "    <tr style=\"text-align: right;\">\n",
       "      <th></th>\n",
       "      <th>User ID</th>\n",
       "      <th>Vehicle Model</th>\n",
       "      <th>Battery Capacity (kWh)</th>\n",
       "      <th>Charging Station ID</th>\n",
       "      <th>Charging Station Location</th>\n",
       "      <th>Charging Start Time</th>\n",
       "      <th>Charging End Time</th>\n",
       "      <th>Energy Consumed (kWh)</th>\n",
       "      <th>Charging Duration (hours)</th>\n",
       "      <th>Charging Rate (kW)</th>\n",
       "      <th>Charging Cost (USD)</th>\n",
       "      <th>Time of Day</th>\n",
       "      <th>Day of Week</th>\n",
       "      <th>State of Charge (Start %)</th>\n",
       "      <th>State of Charge (End %)</th>\n",
       "      <th>Distance Driven (since last charge) (km)</th>\n",
       "      <th>Temperature (°C)</th>\n",
       "      <th>Vehicle Age (years)</th>\n",
       "      <th>Charger Type</th>\n",
       "      <th>User Type</th>\n",
       "    </tr>\n",
       "  </thead>\n",
       "  <tbody>\n",
       "    <tr>\n",
       "      <th>0</th>\n",
       "      <td>User_1</td>\n",
       "      <td>BMW i3</td>\n",
       "      <td>108.463007</td>\n",
       "      <td>Station_391</td>\n",
       "      <td>Houston</td>\n",
       "      <td>2024-01-01 00:00:00</td>\n",
       "      <td>2024-01-01 00:39:00</td>\n",
       "      <td>60.712346</td>\n",
       "      <td>0.591363</td>\n",
       "      <td>36.389181</td>\n",
       "      <td>13.087717</td>\n",
       "      <td>Evening</td>\n",
       "      <td>Tuesday</td>\n",
       "      <td>29.371576</td>\n",
       "      <td>86.119962</td>\n",
       "      <td>293.602111</td>\n",
       "      <td>27.947953</td>\n",
       "      <td>2.0</td>\n",
       "      <td>DC Fast Charger</td>\n",
       "      <td>Commuter</td>\n",
       "    </tr>\n",
       "    <tr>\n",
       "      <th>1</th>\n",
       "      <td>User_2</td>\n",
       "      <td>Hyundai Kona</td>\n",
       "      <td>100.000000</td>\n",
       "      <td>Station_428</td>\n",
       "      <td>San Francisco</td>\n",
       "      <td>2024-01-01 01:00:00</td>\n",
       "      <td>2024-01-01 03:01:00</td>\n",
       "      <td>12.339275</td>\n",
       "      <td>3.133652</td>\n",
       "      <td>30.677735</td>\n",
       "      <td>21.128448</td>\n",
       "      <td>Morning</td>\n",
       "      <td>Monday</td>\n",
       "      <td>10.115778</td>\n",
       "      <td>84.664344</td>\n",
       "      <td>112.112804</td>\n",
       "      <td>14.311026</td>\n",
       "      <td>3.0</td>\n",
       "      <td>Level 1</td>\n",
       "      <td>Casual Driver</td>\n",
       "    </tr>\n",
       "    <tr>\n",
       "      <th>2</th>\n",
       "      <td>User_3</td>\n",
       "      <td>Chevy Bolt</td>\n",
       "      <td>75.000000</td>\n",
       "      <td>Station_181</td>\n",
       "      <td>San Francisco</td>\n",
       "      <td>2024-01-01 02:00:00</td>\n",
       "      <td>2024-01-01 04:48:00</td>\n",
       "      <td>19.128876</td>\n",
       "      <td>2.452653</td>\n",
       "      <td>27.513593</td>\n",
       "      <td>35.667270</td>\n",
       "      <td>Morning</td>\n",
       "      <td>Thursday</td>\n",
       "      <td>6.854604</td>\n",
       "      <td>69.917615</td>\n",
       "      <td>71.799253</td>\n",
       "      <td>21.002002</td>\n",
       "      <td>2.0</td>\n",
       "      <td>Level 2</td>\n",
       "      <td>Commuter</td>\n",
       "    </tr>\n",
       "    <tr>\n",
       "      <th>3</th>\n",
       "      <td>User_4</td>\n",
       "      <td>Hyundai Kona</td>\n",
       "      <td>50.000000</td>\n",
       "      <td>Station_327</td>\n",
       "      <td>Houston</td>\n",
       "      <td>2024-01-01 03:00:00</td>\n",
       "      <td>2024-01-01 06:42:00</td>\n",
       "      <td>79.457824</td>\n",
       "      <td>1.266431</td>\n",
       "      <td>32.882870</td>\n",
       "      <td>13.036239</td>\n",
       "      <td>Evening</td>\n",
       "      <td>Saturday</td>\n",
       "      <td>83.120003</td>\n",
       "      <td>99.624328</td>\n",
       "      <td>199.577785</td>\n",
       "      <td>38.316313</td>\n",
       "      <td>1.0</td>\n",
       "      <td>Level 1</td>\n",
       "      <td>Long-Distance Traveler</td>\n",
       "    </tr>\n",
       "    <tr>\n",
       "      <th>4</th>\n",
       "      <td>User_5</td>\n",
       "      <td>Hyundai Kona</td>\n",
       "      <td>50.000000</td>\n",
       "      <td>Station_108</td>\n",
       "      <td>Los Angeles</td>\n",
       "      <td>2024-01-01 04:00:00</td>\n",
       "      <td>2024-01-01 05:46:00</td>\n",
       "      <td>19.629104</td>\n",
       "      <td>2.019765</td>\n",
       "      <td>10.215712</td>\n",
       "      <td>10.161471</td>\n",
       "      <td>Morning</td>\n",
       "      <td>Saturday</td>\n",
       "      <td>54.258950</td>\n",
       "      <td>63.743786</td>\n",
       "      <td>203.661847</td>\n",
       "      <td>-7.834199</td>\n",
       "      <td>1.0</td>\n",
       "      <td>Level 1</td>\n",
       "      <td>Long-Distance Traveler</td>\n",
       "    </tr>\n",
       "  </tbody>\n",
       "</table>\n",
       "</div>"
      ],
      "text/plain": [
       "  User ID Vehicle Model  Battery Capacity (kWh) Charging Station ID  \\\n",
       "0  User_1        BMW i3              108.463007         Station_391   \n",
       "1  User_2  Hyundai Kona              100.000000         Station_428   \n",
       "2  User_3    Chevy Bolt               75.000000         Station_181   \n",
       "3  User_4  Hyundai Kona               50.000000         Station_327   \n",
       "4  User_5  Hyundai Kona               50.000000         Station_108   \n",
       "\n",
       "  Charging Station Location  Charging Start Time    Charging End Time  \\\n",
       "0                   Houston  2024-01-01 00:00:00  2024-01-01 00:39:00   \n",
       "1             San Francisco  2024-01-01 01:00:00  2024-01-01 03:01:00   \n",
       "2             San Francisco  2024-01-01 02:00:00  2024-01-01 04:48:00   \n",
       "3                   Houston  2024-01-01 03:00:00  2024-01-01 06:42:00   \n",
       "4               Los Angeles  2024-01-01 04:00:00  2024-01-01 05:46:00   \n",
       "\n",
       "   Energy Consumed (kWh)  Charging Duration (hours)  Charging Rate (kW)  \\\n",
       "0              60.712346                   0.591363           36.389181   \n",
       "1              12.339275                   3.133652           30.677735   \n",
       "2              19.128876                   2.452653           27.513593   \n",
       "3              79.457824                   1.266431           32.882870   \n",
       "4              19.629104                   2.019765           10.215712   \n",
       "\n",
       "   Charging Cost (USD) Time of Day Day of Week  State of Charge (Start %)  \\\n",
       "0            13.087717     Evening     Tuesday                  29.371576   \n",
       "1            21.128448     Morning      Monday                  10.115778   \n",
       "2            35.667270     Morning    Thursday                   6.854604   \n",
       "3            13.036239     Evening    Saturday                  83.120003   \n",
       "4            10.161471     Morning    Saturday                  54.258950   \n",
       "\n",
       "   State of Charge (End %)  Distance Driven (since last charge) (km)  \\\n",
       "0                86.119962                                293.602111   \n",
       "1                84.664344                                112.112804   \n",
       "2                69.917615                                 71.799253   \n",
       "3                99.624328                                199.577785   \n",
       "4                63.743786                                203.661847   \n",
       "\n",
       "   Temperature (°C)  Vehicle Age (years)     Charger Type  \\\n",
       "0         27.947953                  2.0  DC Fast Charger   \n",
       "1         14.311026                  3.0          Level 1   \n",
       "2         21.002002                  2.0          Level 2   \n",
       "3         38.316313                  1.0          Level 1   \n",
       "4         -7.834199                  1.0          Level 1   \n",
       "\n",
       "                User Type  \n",
       "0                Commuter  \n",
       "1           Casual Driver  \n",
       "2                Commuter  \n",
       "3  Long-Distance Traveler  \n",
       "4  Long-Distance Traveler  "
      ]
     },
     "execution_count": 10,
     "metadata": {},
     "output_type": "execute_result"
    }
   ],
   "source": [
    "df['Distance Driven (since last charge) (km)'].fillna(avg_Distancedriven, inplace=True)\n",
    "df.head()"
   ]
  },
  {
   "cell_type": "code",
   "execution_count": 11,
   "id": "1046528f",
   "metadata": {},
   "outputs": [
    {
     "name": "stdout",
     "output_type": "stream",
     "text": [
      "<class 'pandas.core.frame.DataFrame'>\n",
      "RangeIndex: 1320 entries, 0 to 1319\n",
      "Data columns (total 20 columns):\n",
      " #   Column                                    Non-Null Count  Dtype  \n",
      "---  ------                                    --------------  -----  \n",
      " 0   User ID                                   1320 non-null   object \n",
      " 1   Vehicle Model                             1320 non-null   object \n",
      " 2   Battery Capacity (kWh)                    1320 non-null   float64\n",
      " 3   Charging Station ID                       1320 non-null   object \n",
      " 4   Charging Station Location                 1320 non-null   object \n",
      " 5   Charging Start Time                       1320 non-null   object \n",
      " 6   Charging End Time                         1320 non-null   object \n",
      " 7   Energy Consumed (kWh)                     1320 non-null   float64\n",
      " 8   Charging Duration (hours)                 1320 non-null   float64\n",
      " 9   Charging Rate (kW)                        1320 non-null   float64\n",
      " 10  Charging Cost (USD)                       1320 non-null   float64\n",
      " 11  Time of Day                               1320 non-null   object \n",
      " 12  Day of Week                               1320 non-null   object \n",
      " 13  State of Charge (Start %)                 1320 non-null   float64\n",
      " 14  State of Charge (End %)                   1320 non-null   float64\n",
      " 15  Distance Driven (since last charge) (km)  1320 non-null   float64\n",
      " 16  Temperature (°C)                          1320 non-null   float64\n",
      " 17  Vehicle Age (years)                       1320 non-null   float64\n",
      " 18  Charger Type                              1320 non-null   object \n",
      " 19  User Type                                 1320 non-null   object \n",
      "dtypes: float64(10), object(10)\n",
      "memory usage: 206.4+ KB\n"
     ]
    }
   ],
   "source": [
    "df.info()"
   ]
  },
  {
   "cell_type": "code",
   "execution_count": 12,
   "id": "c39380ac",
   "metadata": {},
   "outputs": [
    {
     "data": {
      "application/vnd.plotly.v1+json": {
       "config": {
        "plotlyServerURL": "https://plot.ly"
       },
       "data": [
        {
         "bingroup": "x",
         "hovertemplate": "Charging Duration (hours)=%{x}<br>count=%{y}<extra></extra>",
         "legendgroup": "",
         "marker": {
          "color": "#F6B8D0",
          "pattern": {
           "shape": ""
          }
         },
         "name": "",
         "nbinsx": 30,
         "orientation": "v",
         "showlegend": false,
         "type": "histogram",
         "x": {
          "bdata": "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",
          "dtype": "f8"
         },
         "xaxis": "x",
         "yaxis": "y"
        }
       ],
       "layout": {
        "barmode": "relative",
        "font": {
         "color": "white"
        },
        "legend": {
         "tracegroupgap": 0
        },
        "paper_bgcolor": "black",
        "plot_bgcolor": "black",
        "template": {
         "data": {
          "bar": [
           {
            "error_x": {
             "color": "#2a3f5f"
            },
            "error_y": {
             "color": "#2a3f5f"
            },
            "marker": {
             "line": {
              "color": "#E5ECF6",
              "width": 0.5
             },
             "pattern": {
              "fillmode": "overlay",
              "size": 10,
              "solidity": 0.2
             }
            },
            "type": "bar"
           }
          ],
          "barpolar": [
           {
            "marker": {
             "line": {
              "color": "#E5ECF6",
              "width": 0.5
             },
             "pattern": {
              "fillmode": "overlay",
              "size": 10,
              "solidity": 0.2
             }
            },
            "type": "barpolar"
           }
          ],
          "carpet": [
           {
            "aaxis": {
             "endlinecolor": "#2a3f5f",
             "gridcolor": "white",
             "linecolor": "white",
             "minorgridcolor": "white",
             "startlinecolor": "#2a3f5f"
            },
            "baxis": {
             "endlinecolor": "#2a3f5f",
             "gridcolor": "white",
             "linecolor": "white",
             "minorgridcolor": "white",
             "startlinecolor": "#2a3f5f"
            },
            "type": "carpet"
           }
          ],
          "choropleth": [
           {
            "colorbar": {
             "outlinewidth": 0,
             "ticks": ""
            },
            "type": "choropleth"
           }
          ],
          "contour": [
           {
            "colorbar": {
             "outlinewidth": 0,
             "ticks": ""
            },
            "colorscale": [
             [
              0,
              "#0d0887"
             ],
             [
              0.1111111111111111,
              "#46039f"
             ],
             [
              0.2222222222222222,
              "#7201a8"
             ],
             [
              0.3333333333333333,
              "#9c179e"
             ],
             [
              0.4444444444444444,
              "#bd3786"
             ],
             [
              0.5555555555555556,
              "#d8576b"
             ],
             [
              0.6666666666666666,
              "#ed7953"
             ],
             [
              0.7777777777777778,
              "#fb9f3a"
             ],
             [
              0.8888888888888888,
              "#fdca26"
             ],
             [
              1,
              "#f0f921"
             ]
            ],
            "type": "contour"
           }
          ],
          "contourcarpet": [
           {
            "colorbar": {
             "outlinewidth": 0,
             "ticks": ""
            },
            "type": "contourcarpet"
           }
          ],
          "heatmap": [
           {
            "colorbar": {
             "outlinewidth": 0,
             "ticks": ""
            },
            "colorscale": [
             [
              0,
              "#0d0887"
             ],
             [
              0.1111111111111111,
              "#46039f"
             ],
             [
              0.2222222222222222,
              "#7201a8"
             ],
             [
              0.3333333333333333,
              "#9c179e"
             ],
             [
              0.4444444444444444,
              "#bd3786"
             ],
             [
              0.5555555555555556,
              "#d8576b"
             ],
             [
              0.6666666666666666,
              "#ed7953"
             ],
             [
              0.7777777777777778,
              "#fb9f3a"
             ],
             [
              0.8888888888888888,
              "#fdca26"
             ],
             [
              1,
              "#f0f921"
             ]
            ],
            "type": "heatmap"
           }
          ],
          "histogram": [
           {
            "marker": {
             "pattern": {
              "fillmode": "overlay",
              "size": 10,
              "solidity": 0.2
             }
            },
            "type": "histogram"
           }
          ],
          "histogram2d": [
           {
            "colorbar": {
             "outlinewidth": 0,
             "ticks": ""
            },
            "colorscale": [
             [
              0,
              "#0d0887"
             ],
             [
              0.1111111111111111,
              "#46039f"
             ],
             [
              0.2222222222222222,
              "#7201a8"
             ],
             [
              0.3333333333333333,
              "#9c179e"
             ],
             [
              0.4444444444444444,
              "#bd3786"
             ],
             [
              0.5555555555555556,
              "#d8576b"
             ],
             [
              0.6666666666666666,
              "#ed7953"
             ],
             [
              0.7777777777777778,
              "#fb9f3a"
             ],
             [
              0.8888888888888888,
              "#fdca26"
             ],
             [
              1,
              "#f0f921"
             ]
            ],
            "type": "histogram2d"
           }
          ],
          "histogram2dcontour": [
           {
            "colorbar": {
             "outlinewidth": 0,
             "ticks": ""
            },
            "colorscale": [
             [
              0,
              "#0d0887"
             ],
             [
              0.1111111111111111,
              "#46039f"
             ],
             [
              0.2222222222222222,
              "#7201a8"
             ],
             [
              0.3333333333333333,
              "#9c179e"
             ],
             [
              0.4444444444444444,
              "#bd3786"
             ],
             [
              0.5555555555555556,
              "#d8576b"
             ],
             [
              0.6666666666666666,
              "#ed7953"
             ],
             [
              0.7777777777777778,
              "#fb9f3a"
             ],
             [
              0.8888888888888888,
              "#fdca26"
             ],
             [
              1,
              "#f0f921"
             ]
            ],
            "type": "histogram2dcontour"
           }
          ],
          "mesh3d": [
           {
            "colorbar": {
             "outlinewidth": 0,
             "ticks": ""
            },
            "type": "mesh3d"
           }
          ],
          "parcoords": [
           {
            "line": {
             "colorbar": {
              "outlinewidth": 0,
              "ticks": ""
             }
            },
            "type": "parcoords"
           }
          ],
          "pie": [
           {
            "automargin": true,
            "type": "pie"
           }
          ],
          "scatter": [
           {
            "fillpattern": {
             "fillmode": "overlay",
             "size": 10,
             "solidity": 0.2
            },
            "type": "scatter"
           }
          ],
          "scatter3d": [
           {
            "line": {
             "colorbar": {
              "outlinewidth": 0,
              "ticks": ""
             }
            },
            "marker": {
             "colorbar": {
              "outlinewidth": 0,
              "ticks": ""
             }
            },
            "type": "scatter3d"
           }
          ],
          "scattercarpet": [
           {
            "marker": {
             "colorbar": {
              "outlinewidth": 0,
              "ticks": ""
             }
            },
            "type": "scattercarpet"
           }
          ],
          "scattergeo": [
           {
            "marker": {
             "colorbar": {
              "outlinewidth": 0,
              "ticks": ""
             }
            },
            "type": "scattergeo"
           }
          ],
          "scattergl": [
           {
            "marker": {
             "colorbar": {
              "outlinewidth": 0,
              "ticks": ""
             }
            },
            "type": "scattergl"
           }
          ],
          "scattermap": [
           {
            "marker": {
             "colorbar": {
              "outlinewidth": 0,
              "ticks": ""
             }
            },
            "type": "scattermap"
           }
          ],
          "scattermapbox": [
           {
            "marker": {
             "colorbar": {
              "outlinewidth": 0,
              "ticks": ""
             }
            },
            "type": "scattermapbox"
           }
          ],
          "scatterpolar": [
           {
            "marker": {
             "colorbar": {
              "outlinewidth": 0,
              "ticks": ""
             }
            },
            "type": "scatterpolar"
           }
          ],
          "scatterpolargl": [
           {
            "marker": {
             "colorbar": {
              "outlinewidth": 0,
              "ticks": ""
             }
            },
            "type": "scatterpolargl"
           }
          ],
          "scatterternary": [
           {
            "marker": {
             "colorbar": {
              "outlinewidth": 0,
              "ticks": ""
             }
            },
            "type": "scatterternary"
           }
          ],
          "surface": [
           {
            "colorbar": {
             "outlinewidth": 0,
             "ticks": ""
            },
            "colorscale": [
             [
              0,
              "#0d0887"
             ],
             [
              0.1111111111111111,
              "#46039f"
             ],
             [
              0.2222222222222222,
              "#7201a8"
             ],
             [
              0.3333333333333333,
              "#9c179e"
             ],
             [
              0.4444444444444444,
              "#bd3786"
             ],
             [
              0.5555555555555556,
              "#d8576b"
             ],
             [
              0.6666666666666666,
              "#ed7953"
             ],
             [
              0.7777777777777778,
              "#fb9f3a"
             ],
             [
              0.8888888888888888,
              "#fdca26"
             ],
             [
              1,
              "#f0f921"
             ]
            ],
            "type": "surface"
           }
          ],
          "table": [
           {
            "cells": {
             "fill": {
              "color": "#EBF0F8"
             },
             "line": {
              "color": "white"
             }
            },
            "header": {
             "fill": {
              "color": "#C8D4E3"
             },
             "line": {
              "color": "white"
             }
            },
            "type": "table"
           }
          ]
         },
         "layout": {
          "annotationdefaults": {
           "arrowcolor": "#2a3f5f",
           "arrowhead": 0,
           "arrowwidth": 1
          },
          "autotypenumbers": "strict",
          "coloraxis": {
           "colorbar": {
            "outlinewidth": 0,
            "ticks": ""
           }
          },
          "colorscale": {
           "diverging": [
            [
             0,
             "#8e0152"
            ],
            [
             0.1,
             "#c51b7d"
            ],
            [
             0.2,
             "#de77ae"
            ],
            [
             0.3,
             "#f1b6da"
            ],
            [
             0.4,
             "#fde0ef"
            ],
            [
             0.5,
             "#f7f7f7"
            ],
            [
             0.6,
             "#e6f5d0"
            ],
            [
             0.7,
             "#b8e186"
            ],
            [
             0.8,
             "#7fbc41"
            ],
            [
             0.9,
             "#4d9221"
            ],
            [
             1,
             "#276419"
            ]
           ],
           "sequential": [
            [
             0,
             "#0d0887"
            ],
            [
             0.1111111111111111,
             "#46039f"
            ],
            [
             0.2222222222222222,
             "#7201a8"
            ],
            [
             0.3333333333333333,
             "#9c179e"
            ],
            [
             0.4444444444444444,
             "#bd3786"
            ],
            [
             0.5555555555555556,
             "#d8576b"
            ],
            [
             0.6666666666666666,
             "#ed7953"
            ],
            [
             0.7777777777777778,
             "#fb9f3a"
            ],
            [
             0.8888888888888888,
             "#fdca26"
            ],
            [
             1,
             "#f0f921"
            ]
           ],
           "sequentialminus": [
            [
             0,
             "#0d0887"
            ],
            [
             0.1111111111111111,
             "#46039f"
            ],
            [
             0.2222222222222222,
             "#7201a8"
            ],
            [
             0.3333333333333333,
             "#9c179e"
            ],
            [
             0.4444444444444444,
             "#bd3786"
            ],
            [
             0.5555555555555556,
             "#d8576b"
            ],
            [
             0.6666666666666666,
             "#ed7953"
            ],
            [
             0.7777777777777778,
             "#fb9f3a"
            ],
            [
             0.8888888888888888,
             "#fdca26"
            ],
            [
             1,
             "#f0f921"
            ]
           ]
          },
          "colorway": [
           "#636efa",
           "#EF553B",
           "#00cc96",
           "#ab63fa",
           "#FFA15A",
           "#19d3f3",
           "#FF6692",
           "#B6E880",
           "#FF97FF",
           "#FECB52"
          ],
          "font": {
           "color": "#2a3f5f"
          },
          "geo": {
           "bgcolor": "white",
           "lakecolor": "white",
           "landcolor": "#E5ECF6",
           "showlakes": true,
           "showland": true,
           "subunitcolor": "white"
          },
          "hoverlabel": {
           "align": "left"
          },
          "hovermode": "closest",
          "mapbox": {
           "style": "light"
          },
          "paper_bgcolor": "white",
          "plot_bgcolor": "#E5ECF6",
          "polar": {
           "angularaxis": {
            "gridcolor": "white",
            "linecolor": "white",
            "ticks": ""
           },
           "bgcolor": "#E5ECF6",
           "radialaxis": {
            "gridcolor": "white",
            "linecolor": "white",
            "ticks": ""
           }
          },
          "scene": {
           "xaxis": {
            "backgroundcolor": "#E5ECF6",
            "gridcolor": "white",
            "gridwidth": 2,
            "linecolor": "white",
            "showbackground": true,
            "ticks": "",
            "zerolinecolor": "white"
           },
           "yaxis": {
            "backgroundcolor": "#E5ECF6",
            "gridcolor": "white",
            "gridwidth": 2,
            "linecolor": "white",
            "showbackground": true,
            "ticks": "",
            "zerolinecolor": "white"
           },
           "zaxis": {
            "backgroundcolor": "#E5ECF6",
            "gridcolor": "white",
            "gridwidth": 2,
            "linecolor": "white",
            "showbackground": true,
            "ticks": "",
            "zerolinecolor": "white"
           }
          },
          "shapedefaults": {
           "line": {
            "color": "#2a3f5f"
           }
          },
          "ternary": {
           "aaxis": {
            "gridcolor": "white",
            "linecolor": "white",
            "ticks": ""
           },
           "baxis": {
            "gridcolor": "white",
            "linecolor": "white",
            "ticks": ""
           },
           "bgcolor": "#E5ECF6",
           "caxis": {
            "gridcolor": "white",
            "linecolor": "white",
            "ticks": ""
           }
          },
          "title": {
           "x": 0.05
          },
          "xaxis": {
           "automargin": true,
           "gridcolor": "white",
           "linecolor": "white",
           "ticks": "",
           "title": {
            "standoff": 15
           },
           "zerolinecolor": "white",
           "zerolinewidth": 2
          },
          "yaxis": {
           "automargin": true,
           "gridcolor": "white",
           "linecolor": "white",
           "ticks": "",
           "title": {
            "standoff": 15
           },
           "zerolinecolor": "white",
           "zerolinewidth": 2
          }
         }
        },
        "title": {
         "text": "Histogram of Charging Duration"
        },
        "xaxis": {
         "anchor": "y",
         "domain": [
          0,
          1
         ],
         "title": {
          "text": "Charging Duration (hours)"
         }
        },
        "yaxis": {
         "anchor": "x",
         "domain": [
          0,
          1
         ],
         "title": {
          "text": "Count"
         }
        }
       }
      }
     },
     "metadata": {},
     "output_type": "display_data"
    }
   ],
   "source": [
    "fig = px.histogram(df, x='Charging Duration (hours)', title='Histogram of Charging Duration', nbins=30)\n",
    "fig.update_layout(\n",
    "    xaxis_title='Charging Duration (hours)',\n",
    "    yaxis_title='Count',\n",
    "    plot_bgcolor='black',\n",
    "    paper_bgcolor='black',\n",
    "    font_color='white'\n",
    ")\n",
    "fig.update_traces(marker_color='#F6B8D0')\n",
    "fig.show()"
   ]
  },
  {
   "cell_type": "code",
   "execution_count": 13,
   "id": "0892f20a",
   "metadata": {},
   "outputs": [
    {
     "data": {
      "application/vnd.plotly.v1+json": {
       "config": {
        "plotlyServerURL": "https://plot.ly"
       },
       "data": [
        {
         "hovertemplate": "Charging Start Time=%{x}<br>Energy Consumed (kWh)=%{y}<extra></extra>",
         "legendgroup": "",
         "line": {
          "color": "#636efa",
          "dash": "solid"
         },
         "marker": {
          "symbol": "circle"
         },
         "mode": "lines",
         "name": "",
         "showlegend": false,
         "type": "scattergl",
         "x": [
          "2024-01-01T00:00:00.000000000",
          "2024-01-01T01:00:00.000000000",
          "2024-01-01T02:00:00.000000000",
          "2024-01-01T03:00:00.000000000",
          "2024-01-01T04:00:00.000000000",
          "2024-01-01T05:00:00.000000000",
          "2024-01-01T06:00:00.000000000",
          "2024-01-01T07:00:00.000000000",
          "2024-01-01T08:00:00.000000000",
          "2024-01-01T09:00:00.000000000",
          "2024-01-01T10:00:00.000000000",
          "2024-01-01T11:00:00.000000000",
          "2024-01-01T12:00:00.000000000",
          "2024-01-01T13:00:00.000000000",
          "2024-01-01T14:00:00.000000000",
          "2024-01-01T15:00:00.000000000",
          "2024-01-01T16:00:00.000000000",
          "2024-01-01T17:00:00.000000000",
          "2024-01-01T18:00:00.000000000",
          "2024-01-01T19:00:00.000000000",
          "2024-01-01T20:00:00.000000000",
          "2024-01-01T21:00:00.000000000",
          "2024-01-01T22:00:00.000000000",
          "2024-01-01T23:00:00.000000000",
          "2024-01-02T00:00:00.000000000",
          "2024-01-02T01:00:00.000000000",
          "2024-01-02T02:00:00.000000000",
          "2024-01-02T03:00:00.000000000",
          "2024-01-02T04:00:00.000000000",
          "2024-01-02T05:00:00.000000000",
          "2024-01-02T06:00:00.000000000",
          "2024-01-02T07:00:00.000000000",
          "2024-01-02T08:00:00.000000000",
          "2024-01-02T09:00:00.000000000",
          "2024-01-02T10:00:00.000000000",
          "2024-01-02T11:00:00.000000000",
          "2024-01-02T12:00:00.000000000",
          "2024-01-02T13:00:00.000000000",
          "2024-01-02T14:00:00.000000000",
          "2024-01-02T15:00:00.000000000",
          "2024-01-02T16:00:00.000000000",
          "2024-01-02T17:00:00.000000000",
          "2024-01-02T18:00:00.000000000",
          "2024-01-02T19:00:00.000000000",
          "2024-01-02T20:00:00.000000000",
          "2024-01-02T21:00:00.000000000",
          "2024-01-02T22:00:00.000000000",
          "2024-01-02T23:00:00.000000000",
          "2024-01-03T00:00:00.000000000",
          "2024-01-03T01:00:00.000000000",
          "2024-01-03T02:00:00.000000000",
          "2024-01-03T03:00:00.000000000",
          "2024-01-03T04:00:00.000000000",
          "2024-01-03T05:00:00.000000000",
          "2024-01-03T06:00:00.000000000",
          "2024-01-03T07:00:00.000000000",
          "2024-01-03T08:00:00.000000000",
          "2024-01-03T09:00:00.000000000",
          "2024-01-03T10:00:00.000000000",
          "2024-01-03T11:00:00.000000000",
          "2024-01-03T12:00:00.000000000",
          "2024-01-03T13:00:00.000000000",
          "2024-01-03T14:00:00.000000000",
          "2024-01-03T15:00:00.000000000",
          "2024-01-03T16:00:00.000000000",
          "2024-01-03T17:00:00.000000000",
          "2024-01-03T18:00:00.000000000",
          "2024-01-03T19:00:00.000000000",
          "2024-01-03T20:00:00.000000000",
          "2024-01-03T21:00:00.000000000",
          "2024-01-03T22:00:00.000000000",
          "2024-01-03T23:00:00.000000000",
          "2024-01-04T00:00:00.000000000",
          "2024-01-04T01:00:00.000000000",
          "2024-01-04T02:00:00.000000000",
          "2024-01-04T03:00:00.000000000",
          "2024-01-04T04:00:00.000000000",
          "2024-01-04T05:00:00.000000000",
          "2024-01-04T06:00:00.000000000",
          "2024-01-04T07:00:00.000000000",
          "2024-01-04T08:00:00.000000000",
          "2024-01-04T09:00:00.000000000",
          "2024-01-04T10:00:00.000000000",
          "2024-01-04T11:00:00.000000000",
          "2024-01-04T12:00:00.000000000",
          "2024-01-04T13:00:00.000000000",
          "2024-01-04T14:00:00.000000000",
          "2024-01-04T15:00:00.000000000",
          "2024-01-04T16:00:00.000000000",
          "2024-01-04T17:00:00.000000000",
          "2024-01-04T18:00:00.000000000",
          "2024-01-04T19:00:00.000000000",
          "2024-01-04T20:00:00.000000000",
          "2024-01-04T21:00:00.000000000",
          "2024-01-04T22:00:00.000000000",
          "2024-01-04T23:00:00.000000000",
          "2024-01-05T00:00:00.000000000",
          "2024-01-05T01:00:00.000000000",
          "2024-01-05T02:00:00.000000000",
          "2024-01-05T03:00:00.000000000",
          "2024-01-05T04:00:00.000000000",
          "2024-01-05T05:00:00.000000000",
          "2024-01-05T06:00:00.000000000",
          "2024-01-05T07:00:00.000000000",
          "2024-01-05T08:00:00.000000000",
          "2024-01-05T09:00:00.000000000",
          "2024-01-05T10:00:00.000000000",
          "2024-01-05T11:00:00.000000000",
          "2024-01-05T12:00:00.000000000",
          "2024-01-05T13:00:00.000000000",
          "2024-01-05T14:00:00.000000000",
          "2024-01-05T15:00:00.000000000",
          "2024-01-05T16:00:00.000000000",
          "2024-01-05T17:00:00.000000000",
          "2024-01-05T18:00:00.000000000",
          "2024-01-05T19:00:00.000000000",
          "2024-01-05T20:00:00.000000000",
          "2024-01-05T21:00:00.000000000",
          "2024-01-05T22:00:00.000000000",
          "2024-01-05T23:00:00.000000000",
          "2024-01-06T00:00:00.000000000",
          "2024-01-06T01:00:00.000000000",
          "2024-01-06T02:00:00.000000000",
          "2024-01-06T03:00:00.000000000",
          "2024-01-06T04:00:00.000000000",
          "2024-01-06T05:00:00.000000000",
          "2024-01-06T06:00:00.000000000",
          "2024-01-06T07:00:00.000000000",
          "2024-01-06T08:00:00.000000000",
          "2024-01-06T09:00:00.000000000",
          "2024-01-06T10:00:00.000000000",
          "2024-01-06T11:00:00.000000000",
          "2024-01-06T12:00:00.000000000",
          "2024-01-06T13:00:00.000000000",
          "2024-01-06T14:00:00.000000000",
          "2024-01-06T15:00:00.000000000",
          "2024-01-06T16:00:00.000000000",
          "2024-01-06T17:00:00.000000000",
          "2024-01-06T18:00:00.000000000",
          "2024-01-06T19:00:00.000000000",
          "2024-01-06T20:00:00.000000000",
          "2024-01-06T21:00:00.000000000",
          "2024-01-06T22:00:00.000000000",
          "2024-01-06T23:00:00.000000000",
          "2024-01-07T00:00:00.000000000",
          "2024-01-07T01:00:00.000000000",
          "2024-01-07T02:00:00.000000000",
          "2024-01-07T03:00:00.000000000",
          "2024-01-07T04:00:00.000000000",
          "2024-01-07T05:00:00.000000000",
          "2024-01-07T06:00:00.000000000",
          "2024-01-07T07:00:00.000000000",
          "2024-01-07T08:00:00.000000000",
          "2024-01-07T09:00:00.000000000",
          "2024-01-07T10:00:00.000000000",
          "2024-01-07T11:00:00.000000000",
          "2024-01-07T12:00:00.000000000",
          "2024-01-07T13:00:00.000000000",
          "2024-01-07T14:00:00.000000000",
          "2024-01-07T15:00:00.000000000",
          "2024-01-07T16:00:00.000000000",
          "2024-01-07T17:00:00.000000000",
          "2024-01-07T18:00:00.000000000",
          "2024-01-07T19:00:00.000000000",
          "2024-01-07T20:00:00.000000000",
          "2024-01-07T21:00:00.000000000",
          "2024-01-07T22:00:00.000000000",
          "2024-01-07T23:00:00.000000000",
          "2024-01-08T00:00:00.000000000",
          "2024-01-08T01:00:00.000000000",
          "2024-01-08T02:00:00.000000000",
          "2024-01-08T03:00:00.000000000",
          "2024-01-08T04:00:00.000000000",
          "2024-01-08T05:00:00.000000000",
          "2024-01-08T06:00:00.000000000",
          "2024-01-08T07:00:00.000000000",
          "2024-01-08T08:00:00.000000000",
          "2024-01-08T09:00:00.000000000",
          "2024-01-08T10:00:00.000000000",
          "2024-01-08T11:00:00.000000000",
          "2024-01-08T12:00:00.000000000",
          "2024-01-08T13:00:00.000000000",
          "2024-01-08T14:00:00.000000000",
          "2024-01-08T15:00:00.000000000",
          "2024-01-08T16:00:00.000000000",
          "2024-01-08T17:00:00.000000000",
          "2024-01-08T18:00:00.000000000",
          "2024-01-08T19:00:00.000000000",
          "2024-01-08T20:00:00.000000000",
          "2024-01-08T21:00:00.000000000",
          "2024-01-08T22:00:00.000000000",
          "2024-01-08T23:00:00.000000000",
          "2024-01-09T00:00:00.000000000",
          "2024-01-09T01:00:00.000000000",
          "2024-01-09T02:00:00.000000000",
          "2024-01-09T03:00:00.000000000",
          "2024-01-09T04:00:00.000000000",
          "2024-01-09T05:00:00.000000000",
          "2024-01-09T06:00:00.000000000",
          "2024-01-09T07:00:00.000000000",
          "2024-01-09T08:00:00.000000000",
          "2024-01-09T09:00:00.000000000",
          "2024-01-09T10:00:00.000000000",
          "2024-01-09T11:00:00.000000000",
          "2024-01-09T12:00:00.000000000",
          "2024-01-09T13:00:00.000000000",
          "2024-01-09T14:00:00.000000000",
          "2024-01-09T15:00:00.000000000",
          "2024-01-09T16:00:00.000000000",
          "2024-01-09T17:00:00.000000000",
          "2024-01-09T18:00:00.000000000",
          "2024-01-09T19:00:00.000000000",
          "2024-01-09T20:00:00.000000000",
          "2024-01-09T21:00:00.000000000",
          "2024-01-09T22:00:00.000000000",
          "2024-01-09T23:00:00.000000000",
          "2024-01-10T00:00:00.000000000",
          "2024-01-10T01:00:00.000000000",
          "2024-01-10T02:00:00.000000000",
          "2024-01-10T03:00:00.000000000",
          "2024-01-10T04:00:00.000000000",
          "2024-01-10T05:00:00.000000000",
          "2024-01-10T06:00:00.000000000",
          "2024-01-10T07:00:00.000000000",
          "2024-01-10T08:00:00.000000000",
          "2024-01-10T09:00:00.000000000",
          "2024-01-10T10:00:00.000000000",
          "2024-01-10T11:00:00.000000000",
          "2024-01-10T12:00:00.000000000",
          "2024-01-10T13:00:00.000000000",
          "2024-01-10T14:00:00.000000000",
          "2024-01-10T15:00:00.000000000",
          "2024-01-10T16:00:00.000000000",
          "2024-01-10T17:00:00.000000000",
          "2024-01-10T18:00:00.000000000",
          "2024-01-10T19:00:00.000000000",
          "2024-01-10T20:00:00.000000000",
          "2024-01-10T21:00:00.000000000",
          "2024-01-10T22:00:00.000000000",
          "2024-01-10T23:00:00.000000000",
          "2024-01-11T00:00:00.000000000",
          "2024-01-11T01:00:00.000000000",
          "2024-01-11T02:00:00.000000000",
          "2024-01-11T03:00:00.000000000",
          "2024-01-11T04:00:00.000000000",
          "2024-01-11T05:00:00.000000000",
          "2024-01-11T06:00:00.000000000",
          "2024-01-11T07:00:00.000000000",
          "2024-01-11T08:00:00.000000000",
          "2024-01-11T09:00:00.000000000",
          "2024-01-11T10:00:00.000000000",
          "2024-01-11T11:00:00.000000000",
          "2024-01-11T12:00:00.000000000",
          "2024-01-11T13:00:00.000000000",
          "2024-01-11T14:00:00.000000000",
          "2024-01-11T15:00:00.000000000",
          "2024-01-11T16:00:00.000000000",
          "2024-01-11T17:00:00.000000000",
          "2024-01-11T18:00:00.000000000",
          "2024-01-11T19:00:00.000000000",
          "2024-01-11T20:00:00.000000000",
          "2024-01-11T21:00:00.000000000",
          "2024-01-11T22:00:00.000000000",
          "2024-01-11T23:00:00.000000000",
          "2024-01-12T00:00:00.000000000",
          "2024-01-12T01:00:00.000000000",
          "2024-01-12T02:00:00.000000000",
          "2024-01-12T03:00:00.000000000",
          "2024-01-12T04:00:00.000000000",
          "2024-01-12T05:00:00.000000000",
          "2024-01-12T06:00:00.000000000",
          "2024-01-12T07:00:00.000000000",
          "2024-01-12T08:00:00.000000000",
          "2024-01-12T09:00:00.000000000",
          "2024-01-12T10:00:00.000000000",
          "2024-01-12T11:00:00.000000000",
          "2024-01-12T12:00:00.000000000",
          "2024-01-12T13:00:00.000000000",
          "2024-01-12T14:00:00.000000000",
          "2024-01-12T15:00:00.000000000",
          "2024-01-12T16:00:00.000000000",
          "2024-01-12T17:00:00.000000000",
          "2024-01-12T18:00:00.000000000",
          "2024-01-12T19:00:00.000000000",
          "2024-01-12T20:00:00.000000000",
          "2024-01-12T21:00:00.000000000",
          "2024-01-12T22:00:00.000000000",
          "2024-01-12T23:00:00.000000000",
          "2024-01-13T00:00:00.000000000",
          "2024-01-13T01:00:00.000000000",
          "2024-01-13T02:00:00.000000000",
          "2024-01-13T03:00:00.000000000",
          "2024-01-13T04:00:00.000000000",
          "2024-01-13T05:00:00.000000000",
          "2024-01-13T06:00:00.000000000",
          "2024-01-13T07:00:00.000000000",
          "2024-01-13T08:00:00.000000000",
          "2024-01-13T09:00:00.000000000",
          "2024-01-13T10:00:00.000000000",
          "2024-01-13T11:00:00.000000000",
          "2024-01-13T12:00:00.000000000",
          "2024-01-13T13:00:00.000000000",
          "2024-01-13T14:00:00.000000000",
          "2024-01-13T15:00:00.000000000",
          "2024-01-13T16:00:00.000000000",
          "2024-01-13T17:00:00.000000000",
          "2024-01-13T18:00:00.000000000",
          "2024-01-13T19:00:00.000000000",
          "2024-01-13T20:00:00.000000000",
          "2024-01-13T21:00:00.000000000",
          "2024-01-13T22:00:00.000000000",
          "2024-01-13T23:00:00.000000000",
          "2024-01-14T00:00:00.000000000",
          "2024-01-14T01:00:00.000000000",
          "2024-01-14T02:00:00.000000000",
          "2024-01-14T03:00:00.000000000",
          "2024-01-14T04:00:00.000000000",
          "2024-01-14T05:00:00.000000000",
          "2024-01-14T06:00:00.000000000",
          "2024-01-14T07:00:00.000000000",
          "2024-01-14T08:00:00.000000000",
          "2024-01-14T09:00:00.000000000",
          "2024-01-14T10:00:00.000000000",
          "2024-01-14T11:00:00.000000000",
          "2024-01-14T12:00:00.000000000",
          "2024-01-14T13:00:00.000000000",
          "2024-01-14T14:00:00.000000000",
          "2024-01-14T15:00:00.000000000",
          "2024-01-14T16:00:00.000000000",
          "2024-01-14T17:00:00.000000000",
          "2024-01-14T18:00:00.000000000",
          "2024-01-14T19:00:00.000000000",
          "2024-01-14T20:00:00.000000000",
          "2024-01-14T21:00:00.000000000",
          "2024-01-14T22:00:00.000000000",
          "2024-01-14T23:00:00.000000000",
          "2024-01-15T00:00:00.000000000",
          "2024-01-15T01:00:00.000000000",
          "2024-01-15T02:00:00.000000000",
          "2024-01-15T03:00:00.000000000",
          "2024-01-15T04:00:00.000000000",
          "2024-01-15T05:00:00.000000000",
          "2024-01-15T06:00:00.000000000",
          "2024-01-15T07:00:00.000000000",
          "2024-01-15T08:00:00.000000000",
          "2024-01-15T09:00:00.000000000",
          "2024-01-15T10:00:00.000000000",
          "2024-01-15T11:00:00.000000000",
          "2024-01-15T12:00:00.000000000",
          "2024-01-15T13:00:00.000000000",
          "2024-01-15T14:00:00.000000000",
          "2024-01-15T15:00:00.000000000",
          "2024-01-15T16:00:00.000000000",
          "2024-01-15T17:00:00.000000000",
          "2024-01-15T18:00:00.000000000",
          "2024-01-15T19:00:00.000000000",
          "2024-01-15T20:00:00.000000000",
          "2024-01-15T21:00:00.000000000",
          "2024-01-15T22:00:00.000000000",
          "2024-01-15T23:00:00.000000000",
          "2024-01-16T00:00:00.000000000",
          "2024-01-16T01:00:00.000000000",
          "2024-01-16T02:00:00.000000000",
          "2024-01-16T03:00:00.000000000",
          "2024-01-16T04:00:00.000000000",
          "2024-01-16T05:00:00.000000000",
          "2024-01-16T06:00:00.000000000",
          "2024-01-16T07:00:00.000000000",
          "2024-01-16T08:00:00.000000000",
          "2024-01-16T09:00:00.000000000",
          "2024-01-16T10:00:00.000000000",
          "2024-01-16T11:00:00.000000000",
          "2024-01-16T12:00:00.000000000",
          "2024-01-16T13:00:00.000000000",
          "2024-01-16T14:00:00.000000000",
          "2024-01-16T15:00:00.000000000",
          "2024-01-16T16:00:00.000000000",
          "2024-01-16T17:00:00.000000000",
          "2024-01-16T18:00:00.000000000",
          "2024-01-16T19:00:00.000000000",
          "2024-01-16T20:00:00.000000000",
          "2024-01-16T21:00:00.000000000",
          "2024-01-16T22:00:00.000000000",
          "2024-01-16T23:00:00.000000000",
          "2024-01-17T00:00:00.000000000",
          "2024-01-17T01:00:00.000000000",
          "2024-01-17T02:00:00.000000000",
          "2024-01-17T03:00:00.000000000",
          "2024-01-17T04:00:00.000000000",
          "2024-01-17T05:00:00.000000000",
          "2024-01-17T06:00:00.000000000",
          "2024-01-17T07:00:00.000000000",
          "2024-01-17T08:00:00.000000000",
          "2024-01-17T09:00:00.000000000",
          "2024-01-17T10:00:00.000000000",
          "2024-01-17T11:00:00.000000000",
          "2024-01-17T12:00:00.000000000",
          "2024-01-17T13:00:00.000000000",
          "2024-01-17T14:00:00.000000000",
          "2024-01-17T15:00:00.000000000",
          "2024-01-17T16:00:00.000000000",
          "2024-01-17T17:00:00.000000000",
          "2024-01-17T18:00:00.000000000",
          "2024-01-17T19:00:00.000000000",
          "2024-01-17T20:00:00.000000000",
          "2024-01-17T21:00:00.000000000",
          "2024-01-17T22:00:00.000000000",
          "2024-01-17T23:00:00.000000000",
          "2024-01-18T00:00:00.000000000",
          "2024-01-18T01:00:00.000000000",
          "2024-01-18T02:00:00.000000000",
          "2024-01-18T03:00:00.000000000",
          "2024-01-18T04:00:00.000000000",
          "2024-01-18T05:00:00.000000000",
          "2024-01-18T06:00:00.000000000",
          "2024-01-18T07:00:00.000000000",
          "2024-01-18T08:00:00.000000000",
          "2024-01-18T09:00:00.000000000",
          "2024-01-18T10:00:00.000000000",
          "2024-01-18T11:00:00.000000000",
          "2024-01-18T12:00:00.000000000",
          "2024-01-18T13:00:00.000000000",
          "2024-01-18T14:00:00.000000000",
          "2024-01-18T15:00:00.000000000",
          "2024-01-18T16:00:00.000000000",
          "2024-01-18T17:00:00.000000000",
          "2024-01-18T18:00:00.000000000",
          "2024-01-18T19:00:00.000000000",
          "2024-01-18T20:00:00.000000000",
          "2024-01-18T21:00:00.000000000",
          "2024-01-18T22:00:00.000000000",
          "2024-01-18T23:00:00.000000000",
          "2024-01-19T00:00:00.000000000",
          "2024-01-19T01:00:00.000000000",
          "2024-01-19T02:00:00.000000000",
          "2024-01-19T03:00:00.000000000",
          "2024-01-19T04:00:00.000000000",
          "2024-01-19T05:00:00.000000000",
          "2024-01-19T06:00:00.000000000",
          "2024-01-19T07:00:00.000000000",
          "2024-01-19T08:00:00.000000000",
          "2024-01-19T09:00:00.000000000",
          "2024-01-19T10:00:00.000000000",
          "2024-01-19T11:00:00.000000000",
          "2024-01-19T12:00:00.000000000",
          "2024-01-19T13:00:00.000000000",
          "2024-01-19T14:00:00.000000000",
          "2024-01-19T15:00:00.000000000",
          "2024-01-19T16:00:00.000000000",
          "2024-01-19T17:00:00.000000000",
          "2024-01-19T18:00:00.000000000",
          "2024-01-19T19:00:00.000000000",
          "2024-01-19T20:00:00.000000000",
          "2024-01-19T21:00:00.000000000",
          "2024-01-19T22:00:00.000000000",
          "2024-01-19T23:00:00.000000000",
          "2024-01-20T00:00:00.000000000",
          "2024-01-20T01:00:00.000000000",
          "2024-01-20T02:00:00.000000000",
          "2024-01-20T03:00:00.000000000",
          "2024-01-20T04:00:00.000000000",
          "2024-01-20T05:00:00.000000000",
          "2024-01-20T06:00:00.000000000",
          "2024-01-20T07:00:00.000000000",
          "2024-01-20T08:00:00.000000000",
          "2024-01-20T09:00:00.000000000",
          "2024-01-20T10:00:00.000000000",
          "2024-01-20T11:00:00.000000000",
          "2024-01-20T12:00:00.000000000",
          "2024-01-20T13:00:00.000000000",
          "2024-01-20T14:00:00.000000000",
          "2024-01-20T15:00:00.000000000",
          "2024-01-20T16:00:00.000000000",
          "2024-01-20T17:00:00.000000000",
          "2024-01-20T18:00:00.000000000",
          "2024-01-20T19:00:00.000000000",
          "2024-01-20T20:00:00.000000000",
          "2024-01-20T21:00:00.000000000",
          "2024-01-20T22:00:00.000000000",
          "2024-01-20T23:00:00.000000000",
          "2024-01-21T00:00:00.000000000",
          "2024-01-21T01:00:00.000000000",
          "2024-01-21T02:00:00.000000000",
          "2024-01-21T03:00:00.000000000",
          "2024-01-21T04:00:00.000000000",
          "2024-01-21T05:00:00.000000000",
          "2024-01-21T06:00:00.000000000",
          "2024-01-21T07:00:00.000000000",
          "2024-01-21T08:00:00.000000000",
          "2024-01-21T09:00:00.000000000",
          "2024-01-21T10:00:00.000000000",
          "2024-01-21T11:00:00.000000000",
          "2024-01-21T12:00:00.000000000",
          "2024-01-21T13:00:00.000000000",
          "2024-01-21T14:00:00.000000000",
          "2024-01-21T15:00:00.000000000",
          "2024-01-21T16:00:00.000000000",
          "2024-01-21T17:00:00.000000000",
          "2024-01-21T18:00:00.000000000",
          "2024-01-21T19:00:00.000000000",
          "2024-01-21T20:00:00.000000000",
          "2024-01-21T21:00:00.000000000",
          "2024-01-21T22:00:00.000000000",
          "2024-01-21T23:00:00.000000000",
          "2024-01-22T00:00:00.000000000",
          "2024-01-22T01:00:00.000000000",
          "2024-01-22T02:00:00.000000000",
          "2024-01-22T03:00:00.000000000",
          "2024-01-22T04:00:00.000000000",
          "2024-01-22T05:00:00.000000000",
          "2024-01-22T06:00:00.000000000",
          "2024-01-22T07:00:00.000000000",
          "2024-01-22T08:00:00.000000000",
          "2024-01-22T09:00:00.000000000",
          "2024-01-22T10:00:00.000000000",
          "2024-01-22T11:00:00.000000000",
          "2024-01-22T12:00:00.000000000",
          "2024-01-22T13:00:00.000000000",
          "2024-01-22T14:00:00.000000000",
          "2024-01-22T15:00:00.000000000",
          "2024-01-22T16:00:00.000000000",
          "2024-01-22T17:00:00.000000000",
          "2024-01-22T18:00:00.000000000",
          "2024-01-22T19:00:00.000000000",
          "2024-01-22T20:00:00.000000000",
          "2024-01-22T21:00:00.000000000",
          "2024-01-22T22:00:00.000000000",
          "2024-01-22T23:00:00.000000000",
          "2024-01-23T00:00:00.000000000",
          "2024-01-23T01:00:00.000000000",
          "2024-01-23T02:00:00.000000000",
          "2024-01-23T03:00:00.000000000",
          "2024-01-23T04:00:00.000000000",
          "2024-01-23T05:00:00.000000000",
          "2024-01-23T06:00:00.000000000",
          "2024-01-23T07:00:00.000000000",
          "2024-01-23T08:00:00.000000000",
          "2024-01-23T09:00:00.000000000",
          "2024-01-23T10:00:00.000000000",
          "2024-01-23T11:00:00.000000000",
          "2024-01-23T12:00:00.000000000",
          "2024-01-23T13:00:00.000000000",
          "2024-01-23T14:00:00.000000000",
          "2024-01-23T15:00:00.000000000",
          "2024-01-23T16:00:00.000000000",
          "2024-01-23T17:00:00.000000000",
          "2024-01-23T18:00:00.000000000",
          "2024-01-23T19:00:00.000000000",
          "2024-01-23T20:00:00.000000000",
          "2024-01-23T21:00:00.000000000",
          "2024-01-23T22:00:00.000000000",
          "2024-01-23T23:00:00.000000000",
          "2024-01-24T00:00:00.000000000",
          "2024-01-24T01:00:00.000000000",
          "2024-01-24T02:00:00.000000000",
          "2024-01-24T03:00:00.000000000",
          "2024-01-24T04:00:00.000000000",
          "2024-01-24T05:00:00.000000000",
          "2024-01-24T06:00:00.000000000",
          "2024-01-24T07:00:00.000000000",
          "2024-01-24T08:00:00.000000000",
          "2024-01-24T09:00:00.000000000",
          "2024-01-24T10:00:00.000000000",
          "2024-01-24T11:00:00.000000000",
          "2024-01-24T12:00:00.000000000",
          "2024-01-24T13:00:00.000000000",
          "2024-01-24T14:00:00.000000000",
          "2024-01-24T15:00:00.000000000",
          "2024-01-24T16:00:00.000000000",
          "2024-01-24T17:00:00.000000000",
          "2024-01-24T18:00:00.000000000",
          "2024-01-24T19:00:00.000000000",
          "2024-01-24T20:00:00.000000000",
          "2024-01-24T21:00:00.000000000",
          "2024-01-24T22:00:00.000000000",
          "2024-01-24T23:00:00.000000000",
          "2024-01-25T00:00:00.000000000",
          "2024-01-25T01:00:00.000000000",
          "2024-01-25T02:00:00.000000000",
          "2024-01-25T03:00:00.000000000",
          "2024-01-25T04:00:00.000000000",
          "2024-01-25T05:00:00.000000000",
          "2024-01-25T06:00:00.000000000",
          "2024-01-25T07:00:00.000000000",
          "2024-01-25T08:00:00.000000000",
          "2024-01-25T09:00:00.000000000",
          "2024-01-25T10:00:00.000000000",
          "2024-01-25T11:00:00.000000000",
          "2024-01-25T12:00:00.000000000",
          "2024-01-25T13:00:00.000000000",
          "2024-01-25T14:00:00.000000000",
          "2024-01-25T15:00:00.000000000",
          "2024-01-25T16:00:00.000000000",
          "2024-01-25T17:00:00.000000000",
          "2024-01-25T18:00:00.000000000",
          "2024-01-25T19:00:00.000000000",
          "2024-01-25T20:00:00.000000000",
          "2024-01-25T21:00:00.000000000",
          "2024-01-25T22:00:00.000000000",
          "2024-01-25T23:00:00.000000000",
          "2024-01-26T00:00:00.000000000",
          "2024-01-26T01:00:00.000000000",
          "2024-01-26T02:00:00.000000000",
          "2024-01-26T03:00:00.000000000",
          "2024-01-26T04:00:00.000000000",
          "2024-01-26T05:00:00.000000000",
          "2024-01-26T06:00:00.000000000",
          "2024-01-26T07:00:00.000000000",
          "2024-01-26T08:00:00.000000000",
          "2024-01-26T09:00:00.000000000",
          "2024-01-26T10:00:00.000000000",
          "2024-01-26T11:00:00.000000000",
          "2024-01-26T12:00:00.000000000",
          "2024-01-26T13:00:00.000000000",
          "2024-01-26T14:00:00.000000000",
          "2024-01-26T15:00:00.000000000",
          "2024-01-26T16:00:00.000000000",
          "2024-01-26T17:00:00.000000000",
          "2024-01-26T18:00:00.000000000",
          "2024-01-26T19:00:00.000000000",
          "2024-01-26T20:00:00.000000000",
          "2024-01-26T21:00:00.000000000",
          "2024-01-26T22:00:00.000000000",
          "2024-01-26T23:00:00.000000000",
          "2024-01-27T00:00:00.000000000",
          "2024-01-27T01:00:00.000000000",
          "2024-01-27T02:00:00.000000000",
          "2024-01-27T03:00:00.000000000",
          "2024-01-27T04:00:00.000000000",
          "2024-01-27T05:00:00.000000000",
          "2024-01-27T06:00:00.000000000",
          "2024-01-27T07:00:00.000000000",
          "2024-01-27T08:00:00.000000000",
          "2024-01-27T09:00:00.000000000",
          "2024-01-27T10:00:00.000000000",
          "2024-01-27T11:00:00.000000000",
          "2024-01-27T12:00:00.000000000",
          "2024-01-27T13:00:00.000000000",
          "2024-01-27T14:00:00.000000000",
          "2024-01-27T15:00:00.000000000",
          "2024-01-27T16:00:00.000000000",
          "2024-01-27T17:00:00.000000000",
          "2024-01-27T18:00:00.000000000",
          "2024-01-27T19:00:00.000000000",
          "2024-01-27T20:00:00.000000000",
          "2024-01-27T21:00:00.000000000",
          "2024-01-27T22:00:00.000000000",
          "2024-01-27T23:00:00.000000000",
          "2024-01-28T00:00:00.000000000",
          "2024-01-28T01:00:00.000000000",
          "2024-01-28T02:00:00.000000000",
          "2024-01-28T03:00:00.000000000",
          "2024-01-28T04:00:00.000000000",
          "2024-01-28T05:00:00.000000000",
          "2024-01-28T06:00:00.000000000",
          "2024-01-28T07:00:00.000000000",
          "2024-01-28T08:00:00.000000000",
          "2024-01-28T09:00:00.000000000",
          "2024-01-28T10:00:00.000000000",
          "2024-01-28T11:00:00.000000000",
          "2024-01-28T12:00:00.000000000",
          "2024-01-28T13:00:00.000000000",
          "2024-01-28T14:00:00.000000000",
          "2024-01-28T15:00:00.000000000",
          "2024-01-28T16:00:00.000000000",
          "2024-01-28T17:00:00.000000000",
          "2024-01-28T18:00:00.000000000",
          "2024-01-28T19:00:00.000000000",
          "2024-01-28T20:00:00.000000000",
          "2024-01-28T21:00:00.000000000",
          "2024-01-28T22:00:00.000000000",
          "2024-01-28T23:00:00.000000000",
          "2024-01-29T00:00:00.000000000",
          "2024-01-29T01:00:00.000000000",
          "2024-01-29T02:00:00.000000000",
          "2024-01-29T03:00:00.000000000",
          "2024-01-29T04:00:00.000000000",
          "2024-01-29T05:00:00.000000000",
          "2024-01-29T06:00:00.000000000",
          "2024-01-29T07:00:00.000000000",
          "2024-01-29T08:00:00.000000000",
          "2024-01-29T09:00:00.000000000",
          "2024-01-29T10:00:00.000000000",
          "2024-01-29T11:00:00.000000000",
          "2024-01-29T12:00:00.000000000",
          "2024-01-29T13:00:00.000000000",
          "2024-01-29T14:00:00.000000000",
          "2024-01-29T15:00:00.000000000",
          "2024-01-29T16:00:00.000000000",
          "2024-01-29T17:00:00.000000000",
          "2024-01-29T18:00:00.000000000",
          "2024-01-29T19:00:00.000000000",
          "2024-01-29T20:00:00.000000000",
          "2024-01-29T21:00:00.000000000",
          "2024-01-29T22:00:00.000000000",
          "2024-01-29T23:00:00.000000000",
          "2024-01-30T00:00:00.000000000",
          "2024-01-30T01:00:00.000000000",
          "2024-01-30T02:00:00.000000000",
          "2024-01-30T03:00:00.000000000",
          "2024-01-30T04:00:00.000000000",
          "2024-01-30T05:00:00.000000000",
          "2024-01-30T06:00:00.000000000",
          "2024-01-30T07:00:00.000000000",
          "2024-01-30T08:00:00.000000000",
          "2024-01-30T09:00:00.000000000",
          "2024-01-30T10:00:00.000000000",
          "2024-01-30T11:00:00.000000000",
          "2024-01-30T12:00:00.000000000",
          "2024-01-30T13:00:00.000000000",
          "2024-01-30T14:00:00.000000000",
          "2024-01-30T15:00:00.000000000",
          "2024-01-30T16:00:00.000000000",
          "2024-01-30T17:00:00.000000000",
          "2024-01-30T18:00:00.000000000",
          "2024-01-30T19:00:00.000000000",
          "2024-01-30T20:00:00.000000000",
          "2024-01-30T21:00:00.000000000",
          "2024-01-30T22:00:00.000000000",
          "2024-01-30T23:00:00.000000000",
          "2024-01-31T00:00:00.000000000",
          "2024-01-31T01:00:00.000000000",
          "2024-01-31T02:00:00.000000000",
          "2024-01-31T03:00:00.000000000",
          "2024-01-31T04:00:00.000000000",
          "2024-01-31T05:00:00.000000000",
          "2024-01-31T06:00:00.000000000",
          "2024-01-31T07:00:00.000000000",
          "2024-01-31T08:00:00.000000000",
          "2024-01-31T09:00:00.000000000",
          "2024-01-31T10:00:00.000000000",
          "2024-01-31T11:00:00.000000000",
          "2024-01-31T12:00:00.000000000",
          "2024-01-31T13:00:00.000000000",
          "2024-01-31T14:00:00.000000000",
          "2024-01-31T15:00:00.000000000",
          "2024-01-31T16:00:00.000000000",
          "2024-01-31T17:00:00.000000000",
          "2024-01-31T18:00:00.000000000",
          "2024-01-31T19:00:00.000000000",
          "2024-01-31T20:00:00.000000000",
          "2024-01-31T21:00:00.000000000",
          "2024-01-31T22:00:00.000000000",
          "2024-01-31T23:00:00.000000000",
          "2024-02-01T00:00:00.000000000",
          "2024-02-01T01:00:00.000000000",
          "2024-02-01T02:00:00.000000000",
          "2024-02-01T03:00:00.000000000",
          "2024-02-01T04:00:00.000000000",
          "2024-02-01T05:00:00.000000000",
          "2024-02-01T06:00:00.000000000",
          "2024-02-01T07:00:00.000000000",
          "2024-02-01T08:00:00.000000000",
          "2024-02-01T09:00:00.000000000",
          "2024-02-01T10:00:00.000000000",
          "2024-02-01T11:00:00.000000000",
          "2024-02-01T12:00:00.000000000",
          "2024-02-01T13:00:00.000000000",
          "2024-02-01T14:00:00.000000000",
          "2024-02-01T15:00:00.000000000",
          "2024-02-01T16:00:00.000000000",
          "2024-02-01T17:00:00.000000000",
          "2024-02-01T18:00:00.000000000",
          "2024-02-01T19:00:00.000000000",
          "2024-02-01T20:00:00.000000000",
          "2024-02-01T21:00:00.000000000",
          "2024-02-01T22:00:00.000000000",
          "2024-02-01T23:00:00.000000000",
          "2024-02-02T00:00:00.000000000",
          "2024-02-02T01:00:00.000000000",
          "2024-02-02T02:00:00.000000000",
          "2024-02-02T03:00:00.000000000",
          "2024-02-02T04:00:00.000000000",
          "2024-02-02T05:00:00.000000000",
          "2024-02-02T06:00:00.000000000",
          "2024-02-02T07:00:00.000000000",
          "2024-02-02T08:00:00.000000000",
          "2024-02-02T09:00:00.000000000",
          "2024-02-02T10:00:00.000000000",
          "2024-02-02T11:00:00.000000000",
          "2024-02-02T12:00:00.000000000",
          "2024-02-02T13:00:00.000000000",
          "2024-02-02T14:00:00.000000000",
          "2024-02-02T15:00:00.000000000",
          "2024-02-02T16:00:00.000000000",
          "2024-02-02T17:00:00.000000000",
          "2024-02-02T18:00:00.000000000",
          "2024-02-02T19:00:00.000000000",
          "2024-02-02T20:00:00.000000000",
          "2024-02-02T21:00:00.000000000",
          "2024-02-02T22:00:00.000000000",
          "2024-02-02T23:00:00.000000000",
          "2024-02-03T00:00:00.000000000",
          "2024-02-03T01:00:00.000000000",
          "2024-02-03T02:00:00.000000000",
          "2024-02-03T03:00:00.000000000",
          "2024-02-03T04:00:00.000000000",
          "2024-02-03T05:00:00.000000000",
          "2024-02-03T06:00:00.000000000",
          "2024-02-03T07:00:00.000000000",
          "2024-02-03T08:00:00.000000000",
          "2024-02-03T09:00:00.000000000",
          "2024-02-03T10:00:00.000000000",
          "2024-02-03T11:00:00.000000000",
          "2024-02-03T12:00:00.000000000",
          "2024-02-03T13:00:00.000000000",
          "2024-02-03T14:00:00.000000000",
          "2024-02-03T15:00:00.000000000",
          "2024-02-03T16:00:00.000000000",
          "2024-02-03T17:00:00.000000000",
          "2024-02-03T18:00:00.000000000",
          "2024-02-03T19:00:00.000000000",
          "2024-02-03T20:00:00.000000000",
          "2024-02-03T21:00:00.000000000",
          "2024-02-03T22:00:00.000000000",
          "2024-02-03T23:00:00.000000000",
          "2024-02-04T00:00:00.000000000",
          "2024-02-04T01:00:00.000000000",
          "2024-02-04T02:00:00.000000000",
          "2024-02-04T03:00:00.000000000",
          "2024-02-04T04:00:00.000000000",
          "2024-02-04T05:00:00.000000000",
          "2024-02-04T06:00:00.000000000",
          "2024-02-04T07:00:00.000000000",
          "2024-02-04T08:00:00.000000000",
          "2024-02-04T09:00:00.000000000",
          "2024-02-04T10:00:00.000000000",
          "2024-02-04T11:00:00.000000000",
          "2024-02-04T12:00:00.000000000",
          "2024-02-04T13:00:00.000000000",
          "2024-02-04T14:00:00.000000000",
          "2024-02-04T15:00:00.000000000",
          "2024-02-04T16:00:00.000000000",
          "2024-02-04T17:00:00.000000000",
          "2024-02-04T18:00:00.000000000",
          "2024-02-04T19:00:00.000000000",
          "2024-02-04T20:00:00.000000000",
          "2024-02-04T21:00:00.000000000",
          "2024-02-04T22:00:00.000000000",
          "2024-02-04T23:00:00.000000000",
          "2024-02-05T00:00:00.000000000",
          "2024-02-05T01:00:00.000000000",
          "2024-02-05T02:00:00.000000000",
          "2024-02-05T03:00:00.000000000",
          "2024-02-05T04:00:00.000000000",
          "2024-02-05T05:00:00.000000000",
          "2024-02-05T06:00:00.000000000",
          "2024-02-05T07:00:00.000000000",
          "2024-02-05T08:00:00.000000000",
          "2024-02-05T09:00:00.000000000",
          "2024-02-05T10:00:00.000000000",
          "2024-02-05T11:00:00.000000000",
          "2024-02-05T12:00:00.000000000",
          "2024-02-05T13:00:00.000000000",
          "2024-02-05T14:00:00.000000000",
          "2024-02-05T15:00:00.000000000",
          "2024-02-05T16:00:00.000000000",
          "2024-02-05T17:00:00.000000000",
          "2024-02-05T18:00:00.000000000",
          "2024-02-05T19:00:00.000000000",
          "2024-02-05T20:00:00.000000000",
          "2024-02-05T21:00:00.000000000",
          "2024-02-05T22:00:00.000000000",
          "2024-02-05T23:00:00.000000000",
          "2024-02-06T00:00:00.000000000",
          "2024-02-06T01:00:00.000000000",
          "2024-02-06T02:00:00.000000000",
          "2024-02-06T03:00:00.000000000",
          "2024-02-06T04:00:00.000000000",
          "2024-02-06T05:00:00.000000000",
          "2024-02-06T06:00:00.000000000",
          "2024-02-06T07:00:00.000000000",
          "2024-02-06T08:00:00.000000000",
          "2024-02-06T09:00:00.000000000",
          "2024-02-06T10:00:00.000000000",
          "2024-02-06T11:00:00.000000000",
          "2024-02-06T12:00:00.000000000",
          "2024-02-06T13:00:00.000000000",
          "2024-02-06T14:00:00.000000000",
          "2024-02-06T15:00:00.000000000",
          "2024-02-06T16:00:00.000000000",
          "2024-02-06T17:00:00.000000000",
          "2024-02-06T18:00:00.000000000",
          "2024-02-06T19:00:00.000000000",
          "2024-02-06T20:00:00.000000000",
          "2024-02-06T21:00:00.000000000",
          "2024-02-06T22:00:00.000000000",
          "2024-02-06T23:00:00.000000000",
          "2024-02-07T00:00:00.000000000",
          "2024-02-07T01:00:00.000000000",
          "2024-02-07T02:00:00.000000000",
          "2024-02-07T03:00:00.000000000",
          "2024-02-07T04:00:00.000000000",
          "2024-02-07T05:00:00.000000000",
          "2024-02-07T06:00:00.000000000",
          "2024-02-07T07:00:00.000000000",
          "2024-02-07T08:00:00.000000000",
          "2024-02-07T09:00:00.000000000",
          "2024-02-07T10:00:00.000000000",
          "2024-02-07T11:00:00.000000000",
          "2024-02-07T12:00:00.000000000",
          "2024-02-07T13:00:00.000000000",
          "2024-02-07T14:00:00.000000000",
          "2024-02-07T15:00:00.000000000",
          "2024-02-07T16:00:00.000000000",
          "2024-02-07T17:00:00.000000000",
          "2024-02-07T18:00:00.000000000",
          "2024-02-07T19:00:00.000000000",
          "2024-02-07T20:00:00.000000000",
          "2024-02-07T21:00:00.000000000",
          "2024-02-07T22:00:00.000000000",
          "2024-02-07T23:00:00.000000000",
          "2024-02-08T00:00:00.000000000",
          "2024-02-08T01:00:00.000000000",
          "2024-02-08T02:00:00.000000000",
          "2024-02-08T03:00:00.000000000",
          "2024-02-08T04:00:00.000000000",
          "2024-02-08T05:00:00.000000000",
          "2024-02-08T06:00:00.000000000",
          "2024-02-08T07:00:00.000000000",
          "2024-02-08T08:00:00.000000000",
          "2024-02-08T09:00:00.000000000",
          "2024-02-08T10:00:00.000000000",
          "2024-02-08T11:00:00.000000000",
          "2024-02-08T12:00:00.000000000",
          "2024-02-08T13:00:00.000000000",
          "2024-02-08T14:00:00.000000000",
          "2024-02-08T15:00:00.000000000",
          "2024-02-08T16:00:00.000000000",
          "2024-02-08T17:00:00.000000000",
          "2024-02-08T18:00:00.000000000",
          "2024-02-08T19:00:00.000000000",
          "2024-02-08T20:00:00.000000000",
          "2024-02-08T21:00:00.000000000",
          "2024-02-08T22:00:00.000000000",
          "2024-02-08T23:00:00.000000000",
          "2024-02-09T00:00:00.000000000",
          "2024-02-09T01:00:00.000000000",
          "2024-02-09T02:00:00.000000000",
          "2024-02-09T03:00:00.000000000",
          "2024-02-09T04:00:00.000000000",
          "2024-02-09T05:00:00.000000000",
          "2024-02-09T06:00:00.000000000",
          "2024-02-09T07:00:00.000000000",
          "2024-02-09T08:00:00.000000000",
          "2024-02-09T09:00:00.000000000",
          "2024-02-09T10:00:00.000000000",
          "2024-02-09T11:00:00.000000000",
          "2024-02-09T12:00:00.000000000",
          "2024-02-09T13:00:00.000000000",
          "2024-02-09T14:00:00.000000000",
          "2024-02-09T15:00:00.000000000",
          "2024-02-09T16:00:00.000000000",
          "2024-02-09T17:00:00.000000000",
          "2024-02-09T18:00:00.000000000",
          "2024-02-09T19:00:00.000000000",
          "2024-02-09T20:00:00.000000000",
          "2024-02-09T21:00:00.000000000",
          "2024-02-09T22:00:00.000000000",
          "2024-02-09T23:00:00.000000000",
          "2024-02-10T00:00:00.000000000",
          "2024-02-10T01:00:00.000000000",
          "2024-02-10T02:00:00.000000000",
          "2024-02-10T03:00:00.000000000",
          "2024-02-10T04:00:00.000000000",
          "2024-02-10T05:00:00.000000000",
          "2024-02-10T06:00:00.000000000",
          "2024-02-10T07:00:00.000000000",
          "2024-02-10T08:00:00.000000000",
          "2024-02-10T09:00:00.000000000",
          "2024-02-10T10:00:00.000000000",
          "2024-02-10T11:00:00.000000000",
          "2024-02-10T12:00:00.000000000",
          "2024-02-10T13:00:00.000000000",
          "2024-02-10T14:00:00.000000000",
          "2024-02-10T15:00:00.000000000",
          "2024-02-10T16:00:00.000000000",
          "2024-02-10T17:00:00.000000000",
          "2024-02-10T18:00:00.000000000",
          "2024-02-10T19:00:00.000000000",
          "2024-02-10T20:00:00.000000000",
          "2024-02-10T21:00:00.000000000",
          "2024-02-10T22:00:00.000000000",
          "2024-02-10T23:00:00.000000000",
          "2024-02-11T00:00:00.000000000",
          "2024-02-11T01:00:00.000000000",
          "2024-02-11T02:00:00.000000000",
          "2024-02-11T03:00:00.000000000",
          "2024-02-11T04:00:00.000000000",
          "2024-02-11T05:00:00.000000000",
          "2024-02-11T06:00:00.000000000",
          "2024-02-11T07:00:00.000000000",
          "2024-02-11T08:00:00.000000000",
          "2024-02-11T09:00:00.000000000",
          "2024-02-11T10:00:00.000000000",
          "2024-02-11T11:00:00.000000000",
          "2024-02-11T12:00:00.000000000",
          "2024-02-11T13:00:00.000000000",
          "2024-02-11T14:00:00.000000000",
          "2024-02-11T15:00:00.000000000",
          "2024-02-11T16:00:00.000000000",
          "2024-02-11T17:00:00.000000000",
          "2024-02-11T18:00:00.000000000",
          "2024-02-11T19:00:00.000000000",
          "2024-02-11T20:00:00.000000000",
          "2024-02-11T21:00:00.000000000",
          "2024-02-11T22:00:00.000000000",
          "2024-02-11T23:00:00.000000000",
          "2024-02-12T00:00:00.000000000",
          "2024-02-12T01:00:00.000000000",
          "2024-02-12T02:00:00.000000000",
          "2024-02-12T03:00:00.000000000",
          "2024-02-12T04:00:00.000000000",
          "2024-02-12T05:00:00.000000000",
          "2024-02-12T06:00:00.000000000",
          "2024-02-12T07:00:00.000000000",
          "2024-02-12T08:00:00.000000000",
          "2024-02-12T09:00:00.000000000",
          "2024-02-12T10:00:00.000000000",
          "2024-02-12T11:00:00.000000000",
          "2024-02-12T12:00:00.000000000",
          "2024-02-12T13:00:00.000000000",
          "2024-02-12T14:00:00.000000000",
          "2024-02-12T15:00:00.000000000",
          "2024-02-12T16:00:00.000000000",
          "2024-02-12T17:00:00.000000000",
          "2024-02-12T18:00:00.000000000",
          "2024-02-12T19:00:00.000000000",
          "2024-02-12T20:00:00.000000000",
          "2024-02-12T21:00:00.000000000",
          "2024-02-12T22:00:00.000000000",
          "2024-02-12T23:00:00.000000000",
          "2024-02-13T00:00:00.000000000",
          "2024-02-13T01:00:00.000000000",
          "2024-02-13T02:00:00.000000000",
          "2024-02-13T03:00:00.000000000",
          "2024-02-13T04:00:00.000000000",
          "2024-02-13T05:00:00.000000000",
          "2024-02-13T06:00:00.000000000",
          "2024-02-13T07:00:00.000000000",
          "2024-02-13T08:00:00.000000000",
          "2024-02-13T09:00:00.000000000",
          "2024-02-13T10:00:00.000000000",
          "2024-02-13T11:00:00.000000000",
          "2024-02-13T12:00:00.000000000",
          "2024-02-13T13:00:00.000000000",
          "2024-02-13T14:00:00.000000000",
          "2024-02-13T15:00:00.000000000",
          "2024-02-13T16:00:00.000000000",
          "2024-02-13T17:00:00.000000000",
          "2024-02-13T18:00:00.000000000",
          "2024-02-13T19:00:00.000000000",
          "2024-02-13T20:00:00.000000000",
          "2024-02-13T21:00:00.000000000",
          "2024-02-13T22:00:00.000000000",
          "2024-02-13T23:00:00.000000000",
          "2024-02-14T00:00:00.000000000",
          "2024-02-14T01:00:00.000000000",
          "2024-02-14T02:00:00.000000000",
          "2024-02-14T03:00:00.000000000",
          "2024-02-14T04:00:00.000000000",
          "2024-02-14T05:00:00.000000000",
          "2024-02-14T06:00:00.000000000",
          "2024-02-14T07:00:00.000000000",
          "2024-02-14T08:00:00.000000000",
          "2024-02-14T09:00:00.000000000",
          "2024-02-14T10:00:00.000000000",
          "2024-02-14T11:00:00.000000000",
          "2024-02-14T12:00:00.000000000",
          "2024-02-14T13:00:00.000000000",
          "2024-02-14T14:00:00.000000000",
          "2024-02-14T15:00:00.000000000",
          "2024-02-14T16:00:00.000000000",
          "2024-02-14T17:00:00.000000000",
          "2024-02-14T18:00:00.000000000",
          "2024-02-14T19:00:00.000000000",
          "2024-02-14T20:00:00.000000000",
          "2024-02-14T21:00:00.000000000",
          "2024-02-14T22:00:00.000000000",
          "2024-02-14T23:00:00.000000000",
          "2024-02-15T00:00:00.000000000",
          "2024-02-15T01:00:00.000000000",
          "2024-02-15T02:00:00.000000000",
          "2024-02-15T03:00:00.000000000",
          "2024-02-15T04:00:00.000000000",
          "2024-02-15T05:00:00.000000000",
          "2024-02-15T06:00:00.000000000",
          "2024-02-15T07:00:00.000000000",
          "2024-02-15T08:00:00.000000000",
          "2024-02-15T09:00:00.000000000",
          "2024-02-15T10:00:00.000000000",
          "2024-02-15T11:00:00.000000000",
          "2024-02-15T12:00:00.000000000",
          "2024-02-15T13:00:00.000000000",
          "2024-02-15T14:00:00.000000000",
          "2024-02-15T15:00:00.000000000",
          "2024-02-15T16:00:00.000000000",
          "2024-02-15T17:00:00.000000000",
          "2024-02-15T18:00:00.000000000",
          "2024-02-15T19:00:00.000000000",
          "2024-02-15T20:00:00.000000000",
          "2024-02-15T21:00:00.000000000",
          "2024-02-15T22:00:00.000000000",
          "2024-02-15T23:00:00.000000000",
          "2024-02-16T00:00:00.000000000",
          "2024-02-16T01:00:00.000000000",
          "2024-02-16T02:00:00.000000000",
          "2024-02-16T03:00:00.000000000",
          "2024-02-16T04:00:00.000000000",
          "2024-02-16T05:00:00.000000000",
          "2024-02-16T06:00:00.000000000",
          "2024-02-16T07:00:00.000000000",
          "2024-02-16T08:00:00.000000000",
          "2024-02-16T09:00:00.000000000",
          "2024-02-16T10:00:00.000000000",
          "2024-02-16T11:00:00.000000000",
          "2024-02-16T12:00:00.000000000",
          "2024-02-16T13:00:00.000000000",
          "2024-02-16T14:00:00.000000000",
          "2024-02-16T15:00:00.000000000",
          "2024-02-16T16:00:00.000000000",
          "2024-02-16T17:00:00.000000000",
          "2024-02-16T18:00:00.000000000",
          "2024-02-16T19:00:00.000000000",
          "2024-02-16T20:00:00.000000000",
          "2024-02-16T21:00:00.000000000",
          "2024-02-16T22:00:00.000000000",
          "2024-02-16T23:00:00.000000000",
          "2024-02-17T00:00:00.000000000",
          "2024-02-17T01:00:00.000000000",
          "2024-02-17T02:00:00.000000000",
          "2024-02-17T03:00:00.000000000",
          "2024-02-17T04:00:00.000000000",
          "2024-02-17T05:00:00.000000000",
          "2024-02-17T06:00:00.000000000",
          "2024-02-17T07:00:00.000000000",
          "2024-02-17T08:00:00.000000000",
          "2024-02-17T09:00:00.000000000",
          "2024-02-17T10:00:00.000000000",
          "2024-02-17T11:00:00.000000000",
          "2024-02-17T12:00:00.000000000",
          "2024-02-17T13:00:00.000000000",
          "2024-02-17T14:00:00.000000000",
          "2024-02-17T15:00:00.000000000",
          "2024-02-17T16:00:00.000000000",
          "2024-02-17T17:00:00.000000000",
          "2024-02-17T18:00:00.000000000",
          "2024-02-17T19:00:00.000000000",
          "2024-02-17T20:00:00.000000000",
          "2024-02-17T21:00:00.000000000",
          "2024-02-17T22:00:00.000000000",
          "2024-02-17T23:00:00.000000000",
          "2024-02-18T00:00:00.000000000",
          "2024-02-18T01:00:00.000000000",
          "2024-02-18T02:00:00.000000000",
          "2024-02-18T03:00:00.000000000",
          "2024-02-18T04:00:00.000000000",
          "2024-02-18T05:00:00.000000000",
          "2024-02-18T06:00:00.000000000",
          "2024-02-18T07:00:00.000000000",
          "2024-02-18T08:00:00.000000000",
          "2024-02-18T09:00:00.000000000",
          "2024-02-18T10:00:00.000000000",
          "2024-02-18T11:00:00.000000000",
          "2024-02-18T12:00:00.000000000",
          "2024-02-18T13:00:00.000000000",
          "2024-02-18T14:00:00.000000000",
          "2024-02-18T15:00:00.000000000",
          "2024-02-18T16:00:00.000000000",
          "2024-02-18T17:00:00.000000000",
          "2024-02-18T18:00:00.000000000",
          "2024-02-18T19:00:00.000000000",
          "2024-02-18T20:00:00.000000000",
          "2024-02-18T21:00:00.000000000",
          "2024-02-18T22:00:00.000000000",
          "2024-02-18T23:00:00.000000000",
          "2024-02-19T00:00:00.000000000",
          "2024-02-19T01:00:00.000000000",
          "2024-02-19T02:00:00.000000000",
          "2024-02-19T03:00:00.000000000",
          "2024-02-19T04:00:00.000000000",
          "2024-02-19T05:00:00.000000000",
          "2024-02-19T06:00:00.000000000",
          "2024-02-19T07:00:00.000000000",
          "2024-02-19T08:00:00.000000000",
          "2024-02-19T09:00:00.000000000",
          "2024-02-19T10:00:00.000000000",
          "2024-02-19T11:00:00.000000000",
          "2024-02-19T12:00:00.000000000",
          "2024-02-19T13:00:00.000000000",
          "2024-02-19T14:00:00.000000000",
          "2024-02-19T15:00:00.000000000",
          "2024-02-19T16:00:00.000000000",
          "2024-02-19T17:00:00.000000000",
          "2024-02-19T18:00:00.000000000",
          "2024-02-19T19:00:00.000000000",
          "2024-02-19T20:00:00.000000000",
          "2024-02-19T21:00:00.000000000",
          "2024-02-19T22:00:00.000000000",
          "2024-02-19T23:00:00.000000000",
          "2024-02-20T00:00:00.000000000",
          "2024-02-20T01:00:00.000000000",
          "2024-02-20T02:00:00.000000000",
          "2024-02-20T03:00:00.000000000",
          "2024-02-20T04:00:00.000000000",
          "2024-02-20T05:00:00.000000000",
          "2024-02-20T06:00:00.000000000",
          "2024-02-20T07:00:00.000000000",
          "2024-02-20T08:00:00.000000000",
          "2024-02-20T09:00:00.000000000",
          "2024-02-20T10:00:00.000000000",
          "2024-02-20T11:00:00.000000000",
          "2024-02-20T12:00:00.000000000",
          "2024-02-20T13:00:00.000000000",
          "2024-02-20T14:00:00.000000000",
          "2024-02-20T15:00:00.000000000",
          "2024-02-20T16:00:00.000000000",
          "2024-02-20T17:00:00.000000000",
          "2024-02-20T18:00:00.000000000",
          "2024-02-20T19:00:00.000000000",
          "2024-02-20T20:00:00.000000000",
          "2024-02-20T21:00:00.000000000",
          "2024-02-20T22:00:00.000000000",
          "2024-02-20T23:00:00.000000000",
          "2024-02-21T00:00:00.000000000",
          "2024-02-21T01:00:00.000000000",
          "2024-02-21T02:00:00.000000000",
          "2024-02-21T03:00:00.000000000",
          "2024-02-21T04:00:00.000000000",
          "2024-02-21T05:00:00.000000000",
          "2024-02-21T06:00:00.000000000",
          "2024-02-21T07:00:00.000000000",
          "2024-02-21T08:00:00.000000000",
          "2024-02-21T09:00:00.000000000",
          "2024-02-21T10:00:00.000000000",
          "2024-02-21T11:00:00.000000000",
          "2024-02-21T12:00:00.000000000",
          "2024-02-21T13:00:00.000000000",
          "2024-02-21T14:00:00.000000000",
          "2024-02-21T15:00:00.000000000",
          "2024-02-21T16:00:00.000000000",
          "2024-02-21T17:00:00.000000000",
          "2024-02-21T18:00:00.000000000",
          "2024-02-21T19:00:00.000000000",
          "2024-02-21T20:00:00.000000000",
          "2024-02-21T21:00:00.000000000",
          "2024-02-21T22:00:00.000000000",
          "2024-02-21T23:00:00.000000000",
          "2024-02-22T00:00:00.000000000",
          "2024-02-22T01:00:00.000000000",
          "2024-02-22T02:00:00.000000000",
          "2024-02-22T03:00:00.000000000",
          "2024-02-22T04:00:00.000000000",
          "2024-02-22T05:00:00.000000000",
          "2024-02-22T06:00:00.000000000",
          "2024-02-22T07:00:00.000000000",
          "2024-02-22T08:00:00.000000000",
          "2024-02-22T09:00:00.000000000",
          "2024-02-22T10:00:00.000000000",
          "2024-02-22T11:00:00.000000000",
          "2024-02-22T12:00:00.000000000",
          "2024-02-22T13:00:00.000000000",
          "2024-02-22T14:00:00.000000000",
          "2024-02-22T15:00:00.000000000",
          "2024-02-22T16:00:00.000000000",
          "2024-02-22T17:00:00.000000000",
          "2024-02-22T18:00:00.000000000",
          "2024-02-22T19:00:00.000000000",
          "2024-02-22T20:00:00.000000000",
          "2024-02-22T21:00:00.000000000",
          "2024-02-22T22:00:00.000000000",
          "2024-02-22T23:00:00.000000000",
          "2024-02-23T00:00:00.000000000",
          "2024-02-23T01:00:00.000000000",
          "2024-02-23T02:00:00.000000000",
          "2024-02-23T03:00:00.000000000",
          "2024-02-23T04:00:00.000000000",
          "2024-02-23T05:00:00.000000000",
          "2024-02-23T06:00:00.000000000",
          "2024-02-23T07:00:00.000000000",
          "2024-02-23T08:00:00.000000000",
          "2024-02-23T09:00:00.000000000",
          "2024-02-23T10:00:00.000000000",
          "2024-02-23T11:00:00.000000000",
          "2024-02-23T12:00:00.000000000",
          "2024-02-23T13:00:00.000000000",
          "2024-02-23T14:00:00.000000000",
          "2024-02-23T15:00:00.000000000",
          "2024-02-23T16:00:00.000000000",
          "2024-02-23T17:00:00.000000000",
          "2024-02-23T18:00:00.000000000",
          "2024-02-23T19:00:00.000000000",
          "2024-02-23T20:00:00.000000000",
          "2024-02-23T21:00:00.000000000",
          "2024-02-23T22:00:00.000000000",
          "2024-02-23T23:00:00.000000000",
          "2024-02-24T00:00:00.000000000",
          "2024-02-24T01:00:00.000000000",
          "2024-02-24T02:00:00.000000000",
          "2024-02-24T03:00:00.000000000",
          "2024-02-24T04:00:00.000000000",
          "2024-02-24T05:00:00.000000000",
          "2024-02-24T06:00:00.000000000",
          "2024-02-24T07:00:00.000000000",
          "2024-02-24T08:00:00.000000000",
          "2024-02-24T09:00:00.000000000",
          "2024-02-24T10:00:00.000000000",
          "2024-02-24T11:00:00.000000000",
          "2024-02-24T12:00:00.000000000",
          "2024-02-24T13:00:00.000000000",
          "2024-02-24T14:00:00.000000000",
          "2024-02-24T15:00:00.000000000",
          "2024-02-24T16:00:00.000000000",
          "2024-02-24T17:00:00.000000000",
          "2024-02-24T18:00:00.000000000",
          "2024-02-24T19:00:00.000000000",
          "2024-02-24T20:00:00.000000000",
          "2024-02-24T21:00:00.000000000",
          "2024-02-24T22:00:00.000000000",
          "2024-02-24T23:00:00.000000000"
         ],
         "xaxis": "x",
         "y": {
          "bdata": "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",
          "dtype": "f8"
         },
         "yaxis": "y"
        }
       ],
       "layout": {
        "font": {
         "color": "white"
        },
        "legend": {
         "tracegroupgap": 0
        },
        "paper_bgcolor": "black",
        "plot_bgcolor": "black",
        "template": {
         "data": {
          "bar": [
           {
            "error_x": {
             "color": "#2a3f5f"
            },
            "error_y": {
             "color": "#2a3f5f"
            },
            "marker": {
             "line": {
              "color": "#E5ECF6",
              "width": 0.5
             },
             "pattern": {
              "fillmode": "overlay",
              "size": 10,
              "solidity": 0.2
             }
            },
            "type": "bar"
           }
          ],
          "barpolar": [
           {
            "marker": {
             "line": {
              "color": "#E5ECF6",
              "width": 0.5
             },
             "pattern": {
              "fillmode": "overlay",
              "size": 10,
              "solidity": 0.2
             }
            },
            "type": "barpolar"
           }
          ],
          "carpet": [
           {
            "aaxis": {
             "endlinecolor": "#2a3f5f",
             "gridcolor": "white",
             "linecolor": "white",
             "minorgridcolor": "white",
             "startlinecolor": "#2a3f5f"
            },
            "baxis": {
             "endlinecolor": "#2a3f5f",
             "gridcolor": "white",
             "linecolor": "white",
             "minorgridcolor": "white",
             "startlinecolor": "#2a3f5f"
            },
            "type": "carpet"
           }
          ],
          "choropleth": [
           {
            "colorbar": {
             "outlinewidth": 0,
             "ticks": ""
            },
            "type": "choropleth"
           }
          ],
          "contour": [
           {
            "colorbar": {
             "outlinewidth": 0,
             "ticks": ""
            },
            "colorscale": [
             [
              0,
              "#0d0887"
             ],
             [
              0.1111111111111111,
              "#46039f"
             ],
             [
              0.2222222222222222,
              "#7201a8"
             ],
             [
              0.3333333333333333,
              "#9c179e"
             ],
             [
              0.4444444444444444,
              "#bd3786"
             ],
             [
              0.5555555555555556,
              "#d8576b"
             ],
             [
              0.6666666666666666,
              "#ed7953"
             ],
             [
              0.7777777777777778,
              "#fb9f3a"
             ],
             [
              0.8888888888888888,
              "#fdca26"
             ],
             [
              1,
              "#f0f921"
             ]
            ],
            "type": "contour"
           }
          ],
          "contourcarpet": [
           {
            "colorbar": {
             "outlinewidth": 0,
             "ticks": ""
            },
            "type": "contourcarpet"
           }
          ],
          "heatmap": [
           {
            "colorbar": {
             "outlinewidth": 0,
             "ticks": ""
            },
            "colorscale": [
             [
              0,
              "#0d0887"
             ],
             [
              0.1111111111111111,
              "#46039f"
             ],
             [
              0.2222222222222222,
              "#7201a8"
             ],
             [
              0.3333333333333333,
              "#9c179e"
             ],
             [
              0.4444444444444444,
              "#bd3786"
             ],
             [
              0.5555555555555556,
              "#d8576b"
             ],
             [
              0.6666666666666666,
              "#ed7953"
             ],
             [
              0.7777777777777778,
              "#fb9f3a"
             ],
             [
              0.8888888888888888,
              "#fdca26"
             ],
             [
              1,
              "#f0f921"
             ]
            ],
            "type": "heatmap"
           }
          ],
          "histogram": [
           {
            "marker": {
             "pattern": {
              "fillmode": "overlay",
              "size": 10,
              "solidity": 0.2
             }
            },
            "type": "histogram"
           }
          ],
          "histogram2d": [
           {
            "colorbar": {
             "outlinewidth": 0,
             "ticks": ""
            },
            "colorscale": [
             [
              0,
              "#0d0887"
             ],
             [
              0.1111111111111111,
              "#46039f"
             ],
             [
              0.2222222222222222,
              "#7201a8"
             ],
             [
              0.3333333333333333,
              "#9c179e"
             ],
             [
              0.4444444444444444,
              "#bd3786"
             ],
             [
              0.5555555555555556,
              "#d8576b"
             ],
             [
              0.6666666666666666,
              "#ed7953"
             ],
             [
              0.7777777777777778,
              "#fb9f3a"
             ],
             [
              0.8888888888888888,
              "#fdca26"
             ],
             [
              1,
              "#f0f921"
             ]
            ],
            "type": "histogram2d"
           }
          ],
          "histogram2dcontour": [
           {
            "colorbar": {
             "outlinewidth": 0,
             "ticks": ""
            },
            "colorscale": [
             [
              0,
              "#0d0887"
             ],
             [
              0.1111111111111111,
              "#46039f"
             ],
             [
              0.2222222222222222,
              "#7201a8"
             ],
             [
              0.3333333333333333,
              "#9c179e"
             ],
             [
              0.4444444444444444,
              "#bd3786"
             ],
             [
              0.5555555555555556,
              "#d8576b"
             ],
             [
              0.6666666666666666,
              "#ed7953"
             ],
             [
              0.7777777777777778,
              "#fb9f3a"
             ],
             [
              0.8888888888888888,
              "#fdca26"
             ],
             [
              1,
              "#f0f921"
             ]
            ],
            "type": "histogram2dcontour"
           }
          ],
          "mesh3d": [
           {
            "colorbar": {
             "outlinewidth": 0,
             "ticks": ""
            },
            "type": "mesh3d"
           }
          ],
          "parcoords": [
           {
            "line": {
             "colorbar": {
              "outlinewidth": 0,
              "ticks": ""
             }
            },
            "type": "parcoords"
           }
          ],
          "pie": [
           {
            "automargin": true,
            "type": "pie"
           }
          ],
          "scatter": [
           {
            "fillpattern": {
             "fillmode": "overlay",
             "size": 10,
             "solidity": 0.2
            },
            "type": "scatter"
           }
          ],
          "scatter3d": [
           {
            "line": {
             "colorbar": {
              "outlinewidth": 0,
              "ticks": ""
             }
            },
            "marker": {
             "colorbar": {
              "outlinewidth": 0,
              "ticks": ""
             }
            },
            "type": "scatter3d"
           }
          ],
          "scattercarpet": [
           {
            "marker": {
             "colorbar": {
              "outlinewidth": 0,
              "ticks": ""
             }
            },
            "type": "scattercarpet"
           }
          ],
          "scattergeo": [
           {
            "marker": {
             "colorbar": {
              "outlinewidth": 0,
              "ticks": ""
             }
            },
            "type": "scattergeo"
           }
          ],
          "scattergl": [
           {
            "marker": {
             "colorbar": {
              "outlinewidth": 0,
              "ticks": ""
             }
            },
            "type": "scattergl"
           }
          ],
          "scattermap": [
           {
            "marker": {
             "colorbar": {
              "outlinewidth": 0,
              "ticks": ""
             }
            },
            "type": "scattermap"
           }
          ],
          "scattermapbox": [
           {
            "marker": {
             "colorbar": {
              "outlinewidth": 0,
              "ticks": ""
             }
            },
            "type": "scattermapbox"
           }
          ],
          "scatterpolar": [
           {
            "marker": {
             "colorbar": {
              "outlinewidth": 0,
              "ticks": ""
             }
            },
            "type": "scatterpolar"
           }
          ],
          "scatterpolargl": [
           {
            "marker": {
             "colorbar": {
              "outlinewidth": 0,
              "ticks": ""
             }
            },
            "type": "scatterpolargl"
           }
          ],
          "scatterternary": [
           {
            "marker": {
             "colorbar": {
              "outlinewidth": 0,
              "ticks": ""
             }
            },
            "type": "scatterternary"
           }
          ],
          "surface": [
           {
            "colorbar": {
             "outlinewidth": 0,
             "ticks": ""
            },
            "colorscale": [
             [
              0,
              "#0d0887"
             ],
             [
              0.1111111111111111,
              "#46039f"
             ],
             [
              0.2222222222222222,
              "#7201a8"
             ],
             [
              0.3333333333333333,
              "#9c179e"
             ],
             [
              0.4444444444444444,
              "#bd3786"
             ],
             [
              0.5555555555555556,
              "#d8576b"
             ],
             [
              0.6666666666666666,
              "#ed7953"
             ],
             [
              0.7777777777777778,
              "#fb9f3a"
             ],
             [
              0.8888888888888888,
              "#fdca26"
             ],
             [
              1,
              "#f0f921"
             ]
            ],
            "type": "surface"
           }
          ],
          "table": [
           {
            "cells": {
             "fill": {
              "color": "#EBF0F8"
             },
             "line": {
              "color": "white"
             }
            },
            "header": {
             "fill": {
              "color": "#C8D4E3"
             },
             "line": {
              "color": "white"
             }
            },
            "type": "table"
           }
          ]
         },
         "layout": {
          "annotationdefaults": {
           "arrowcolor": "#2a3f5f",
           "arrowhead": 0,
           "arrowwidth": 1
          },
          "autotypenumbers": "strict",
          "coloraxis": {
           "colorbar": {
            "outlinewidth": 0,
            "ticks": ""
           }
          },
          "colorscale": {
           "diverging": [
            [
             0,
             "#8e0152"
            ],
            [
             0.1,
             "#c51b7d"
            ],
            [
             0.2,
             "#de77ae"
            ],
            [
             0.3,
             "#f1b6da"
            ],
            [
             0.4,
             "#fde0ef"
            ],
            [
             0.5,
             "#f7f7f7"
            ],
            [
             0.6,
             "#e6f5d0"
            ],
            [
             0.7,
             "#b8e186"
            ],
            [
             0.8,
             "#7fbc41"
            ],
            [
             0.9,
             "#4d9221"
            ],
            [
             1,
             "#276419"
            ]
           ],
           "sequential": [
            [
             0,
             "#0d0887"
            ],
            [
             0.1111111111111111,
             "#46039f"
            ],
            [
             0.2222222222222222,
             "#7201a8"
            ],
            [
             0.3333333333333333,
             "#9c179e"
            ],
            [
             0.4444444444444444,
             "#bd3786"
            ],
            [
             0.5555555555555556,
             "#d8576b"
            ],
            [
             0.6666666666666666,
             "#ed7953"
            ],
            [
             0.7777777777777778,
             "#fb9f3a"
            ],
            [
             0.8888888888888888,
             "#fdca26"
            ],
            [
             1,
             "#f0f921"
            ]
           ],
           "sequentialminus": [
            [
             0,
             "#0d0887"
            ],
            [
             0.1111111111111111,
             "#46039f"
            ],
            [
             0.2222222222222222,
             "#7201a8"
            ],
            [
             0.3333333333333333,
             "#9c179e"
            ],
            [
             0.4444444444444444,
             "#bd3786"
            ],
            [
             0.5555555555555556,
             "#d8576b"
            ],
            [
             0.6666666666666666,
             "#ed7953"
            ],
            [
             0.7777777777777778,
             "#fb9f3a"
            ],
            [
             0.8888888888888888,
             "#fdca26"
            ],
            [
             1,
             "#f0f921"
            ]
           ]
          },
          "colorway": [
           "#636efa",
           "#EF553B",
           "#00cc96",
           "#ab63fa",
           "#FFA15A",
           "#19d3f3",
           "#FF6692",
           "#B6E880",
           "#FF97FF",
           "#FECB52"
          ],
          "font": {
           "color": "#2a3f5f"
          },
          "geo": {
           "bgcolor": "white",
           "lakecolor": "white",
           "landcolor": "#E5ECF6",
           "showlakes": true,
           "showland": true,
           "subunitcolor": "white"
          },
          "hoverlabel": {
           "align": "left"
          },
          "hovermode": "closest",
          "mapbox": {
           "style": "light"
          },
          "paper_bgcolor": "white",
          "plot_bgcolor": "#E5ECF6",
          "polar": {
           "angularaxis": {
            "gridcolor": "white",
            "linecolor": "white",
            "ticks": ""
           },
           "bgcolor": "#E5ECF6",
           "radialaxis": {
            "gridcolor": "white",
            "linecolor": "white",
            "ticks": ""
           }
          },
          "scene": {
           "xaxis": {
            "backgroundcolor": "#E5ECF6",
            "gridcolor": "white",
            "gridwidth": 2,
            "linecolor": "white",
            "showbackground": true,
            "ticks": "",
            "zerolinecolor": "white"
           },
           "yaxis": {
            "backgroundcolor": "#E5ECF6",
            "gridcolor": "white",
            "gridwidth": 2,
            "linecolor": "white",
            "showbackground": true,
            "ticks": "",
            "zerolinecolor": "white"
           },
           "zaxis": {
            "backgroundcolor": "#E5ECF6",
            "gridcolor": "white",
            "gridwidth": 2,
            "linecolor": "white",
            "showbackground": true,
            "ticks": "",
            "zerolinecolor": "white"
           }
          },
          "shapedefaults": {
           "line": {
            "color": "#2a3f5f"
           }
          },
          "ternary": {
           "aaxis": {
            "gridcolor": "white",
            "linecolor": "white",
            "ticks": ""
           },
           "baxis": {
            "gridcolor": "white",
            "linecolor": "white",
            "ticks": ""
           },
           "bgcolor": "#E5ECF6",
           "caxis": {
            "gridcolor": "white",
            "linecolor": "white",
            "ticks": ""
           }
          },
          "title": {
           "x": 0.05
          },
          "xaxis": {
           "automargin": true,
           "gridcolor": "white",
           "linecolor": "white",
           "ticks": "",
           "title": {
            "standoff": 15
           },
           "zerolinecolor": "white",
           "zerolinewidth": 2
          },
          "yaxis": {
           "automargin": true,
           "gridcolor": "white",
           "linecolor": "white",
           "ticks": "",
           "title": {
            "standoff": 15
           },
           "zerolinecolor": "white",
           "zerolinewidth": 2
          }
         }
        },
        "title": {
         "text": "Line Chart of Energy Consumed Over Time"
        },
        "xaxis": {
         "anchor": "y",
         "domain": [
          0,
          1
         ],
         "title": {
          "text": "Charging Start Time"
         }
        },
        "yaxis": {
         "anchor": "x",
         "domain": [
          0,
          1
         ],
         "title": {
          "text": "Energy Consumed (kWh)"
         }
        }
       }
      }
     },
     "metadata": {},
     "output_type": "display_data"
    }
   ],
   "source": [
    "df['Charging Start Time'] = pd.to_datetime(df['Charging Start Time'])  # Ensure the column is in datetime format\n",
    "fig = px.line(df.sort_values('Charging Start Time'), x='Charging Start Time', y='Energy Consumed (kWh)', title='Line Chart of Energy Consumed Over Time')\n",
    "fig.update_layout(\n",
    "    xaxis_title='Charging Start Time',\n",
    "    yaxis_title='Energy Consumed (kWh)',\n",
    "    plot_bgcolor='black',\n",
    "    paper_bgcolor='black',\n",
    "    font_color='white'\n",
    ")\n",
    "fig.show()"
   ]
  },
  {
   "cell_type": "code",
   "execution_count": null,
   "id": "a7ed1e85",
   "metadata": {},
   "outputs": [],
   "source": []
  },
  {
   "cell_type": "code",
   "execution_count": 14,
   "id": "ce66650c",
   "metadata": {},
   "outputs": [
    {
     "data": {
      "application/vnd.plotly.v1+json": {
       "config": {
        "plotlyServerURL": "https://plot.ly"
       },
       "data": [
        {
         "coloraxis": "coloraxis",
         "hovertemplate": "Charging Hour=%{x}<br>Day of Week=%{y}<br>count=%{z}<extra></extra>",
         "name": "",
         "type": "histogram2d",
         "x": {
          "bdata": "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",
          "dtype": "i4"
         },
         "xaxis": "x",
         "xbingroup": "x",
         "y": [
          "Tuesday",
          "Monday",
          "Thursday",
          "Saturday",
          "Saturday",
          "Saturday",
          "Friday",
          "Monday",
          "Wednesday",
          "Wednesday",
          "Thursday",
          "Sunday",
          "Monday",
          "Friday",
          "Monday",
          "Monday",
          "Thursday",
          "Friday",
          "Saturday",
          "Wednesday",
          "Tuesday",
          "Sunday",
          "Saturday",
          "Friday",
          "Wednesday",
          "Saturday",
          "Thursday",
          "Sunday",
          "Friday",
          "Friday",
          "Wednesday",
          "Wednesday",
          "Monday",
          "Monday",
          "Friday",
          "Tuesday",
          "Thursday",
          "Wednesday",
          "Monday",
          "Thursday",
          "Sunday",
          "Saturday",
          "Saturday",
          "Friday",
          "Wednesday",
          "Saturday",
          "Sunday",
          "Wednesday",
          "Monday",
          "Saturday",
          "Tuesday",
          "Saturday",
          "Wednesday",
          "Tuesday",
          "Thursday",
          "Saturday",
          "Wednesday",
          "Saturday",
          "Saturday",
          "Wednesday",
          "Tuesday",
          "Monday",
          "Sunday",
          "Saturday",
          "Friday",
          "Thursday",
          "Wednesday",
          "Saturday",
          "Sunday",
          "Monday",
          "Wednesday",
          "Saturday",
          "Thursday",
          "Friday",
          "Wednesday",
          "Saturday",
          "Tuesday",
          "Monday",
          "Friday",
          "Wednesday",
          "Saturday",
          "Friday",
          "Tuesday",
          "Wednesday",
          "Friday",
          "Wednesday",
          "Wednesday",
          "Friday",
          "Wednesday",
          "Tuesday",
          "Friday",
          "Saturday",
          "Sunday",
          "Friday",
          "Tuesday",
          "Tuesday",
          "Tuesday",
          "Saturday",
          "Saturday",
          "Sunday",
          "Sunday",
          "Wednesday",
          "Wednesday",
          "Thursday",
          "Sunday",
          "Sunday",
          "Wednesday",
          "Tuesday",
          "Thursday",
          "Sunday",
          "Tuesday",
          "Monday",
          "Sunday",
          "Saturday",
          "Friday",
          "Monday",
          "Saturday",
          "Saturday",
          "Tuesday",
          "Wednesday",
          "Friday",
          "Wednesday",
          "Wednesday",
          "Sunday",
          "Friday",
          "Friday",
          "Monday",
          "Tuesday",
          "Wednesday",
          "Tuesday",
          "Tuesday",
          "Sunday",
          "Thursday",
          "Monday",
          "Wednesday",
          "Saturday",
          "Friday",
          "Friday",
          "Tuesday",
          "Monday",
          "Monday",
          "Wednesday",
          "Wednesday",
          "Tuesday",
          "Tuesday",
          "Tuesday",
          "Thursday",
          "Monday",
          "Tuesday",
          "Sunday",
          "Monday",
          "Saturday",
          "Friday",
          "Friday",
          "Monday",
          "Saturday",
          "Friday",
          "Friday",
          "Friday",
          "Wednesday",
          "Saturday",
          "Wednesday",
          "Monday",
          "Monday",
          "Thursday",
          "Wednesday",
          "Monday",
          "Wednesday",
          "Thursday",
          "Monday",
          "Monday",
          "Monday",
          "Monday",
          "Tuesday",
          "Saturday",
          "Saturday",
          "Wednesday",
          "Wednesday",
          "Wednesday",
          "Thursday",
          "Sunday",
          "Tuesday",
          "Sunday",
          "Wednesday",
          "Wednesday",
          "Monday",
          "Sunday",
          "Monday",
          "Sunday",
          "Sunday",
          "Monday",
          "Wednesday",
          "Monday",
          "Wednesday",
          "Sunday",
          "Thursday",
          "Thursday",
          "Friday",
          "Tuesday",
          "Monday",
          "Saturday",
          "Monday",
          "Tuesday",
          "Sunday",
          "Tuesday",
          "Sunday",
          "Friday",
          "Tuesday",
          "Wednesday",
          "Monday",
          "Tuesday",
          "Wednesday",
          "Tuesday",
          "Saturday",
          "Wednesday",
          "Thursday",
          "Wednesday",
          "Friday",
          "Sunday",
          "Wednesday",
          "Tuesday",
          "Thursday",
          "Thursday",
          "Wednesday",
          "Tuesday",
          "Thursday",
          "Saturday",
          "Wednesday",
          "Wednesday",
          "Sunday",
          "Wednesday",
          "Thursday",
          "Monday",
          "Tuesday",
          "Friday",
          "Friday",
          "Tuesday",
          "Monday",
          "Sunday",
          "Sunday",
          "Sunday",
          "Sunday",
          "Tuesday",
          "Wednesday",
          "Saturday",
          "Tuesday",
          "Tuesday",
          "Saturday",
          "Thursday",
          "Friday",
          "Friday",
          "Wednesday",
          "Saturday",
          "Sunday",
          "Sunday",
          "Wednesday",
          "Thursday",
          "Wednesday",
          "Saturday",
          "Saturday",
          "Monday",
          "Thursday",
          "Saturday",
          "Saturday",
          "Thursday",
          "Sunday",
          "Tuesday",
          "Sunday",
          "Tuesday",
          "Monday",
          "Sunday",
          "Saturday",
          "Thursday",
          "Thursday",
          "Tuesday",
          "Sunday",
          "Friday",
          "Friday",
          "Saturday",
          "Tuesday",
          "Saturday",
          "Wednesday",
          "Thursday",
          "Sunday",
          "Sunday",
          "Saturday",
          "Monday",
          "Sunday",
          "Friday",
          "Saturday",
          "Wednesday",
          "Thursday",
          "Sunday",
          "Wednesday",
          "Saturday",
          "Thursday",
          "Thursday",
          "Tuesday",
          "Tuesday",
          "Monday",
          "Monday",
          "Sunday",
          "Wednesday",
          "Tuesday",
          "Thursday",
          "Tuesday",
          "Thursday",
          "Tuesday",
          "Thursday",
          "Wednesday",
          "Tuesday",
          "Friday",
          "Friday",
          "Thursday",
          "Wednesday",
          "Thursday",
          "Wednesday",
          "Monday",
          "Tuesday",
          "Wednesday",
          "Thursday",
          "Sunday",
          "Sunday",
          "Monday",
          "Sunday",
          "Thursday",
          "Friday",
          "Friday",
          "Tuesday",
          "Saturday",
          "Tuesday",
          "Sunday",
          "Monday",
          "Sunday",
          "Friday",
          "Wednesday",
          "Friday",
          "Saturday",
          "Tuesday",
          "Thursday",
          "Sunday",
          "Monday",
          "Saturday",
          "Friday",
          "Wednesday",
          "Saturday",
          "Wednesday",
          "Wednesday",
          "Monday",
          "Wednesday",
          "Wednesday",
          "Friday",
          "Monday",
          "Thursday",
          "Thursday",
          "Wednesday",
          "Saturday",
          "Tuesday",
          "Monday",
          "Sunday",
          "Tuesday",
          "Monday",
          "Monday",
          "Friday",
          "Wednesday",
          "Friday",
          "Saturday",
          "Sunday",
          "Tuesday",
          "Tuesday",
          "Thursday",
          "Saturday",
          "Sunday",
          "Saturday",
          "Friday",
          "Friday",
          "Saturday",
          "Friday",
          "Thursday",
          "Sunday",
          "Sunday",
          "Friday",
          "Friday",
          "Sunday",
          "Saturday",
          "Sunday",
          "Saturday",
          "Friday",
          "Friday",
          "Saturday",
          "Tuesday",
          "Wednesday",
          "Tuesday",
          "Friday",
          "Monday",
          "Monday",
          "Thursday",
          "Tuesday",
          "Saturday",
          "Thursday",
          "Thursday",
          "Monday",
          "Tuesday",
          "Wednesday",
          "Sunday",
          "Saturday",
          "Tuesday",
          "Thursday",
          "Friday",
          "Thursday",
          "Tuesday",
          "Monday",
          "Sunday",
          "Tuesday",
          "Wednesday",
          "Saturday",
          "Saturday",
          "Friday",
          "Friday",
          "Thursday",
          "Tuesday",
          "Saturday",
          "Monday",
          "Wednesday",
          "Thursday",
          "Tuesday",
          "Monday",
          "Tuesday",
          "Monday",
          "Sunday",
          "Tuesday",
          "Tuesday",
          "Sunday",
          "Saturday",
          "Thursday",
          "Tuesday",
          "Tuesday",
          "Thursday",
          "Thursday",
          "Friday",
          "Friday",
          "Saturday",
          "Thursday",
          "Sunday",
          "Wednesday",
          "Saturday",
          "Monday",
          "Thursday",
          "Friday",
          "Tuesday",
          "Thursday",
          "Thursday",
          "Friday",
          "Friday",
          "Wednesday",
          "Saturday",
          "Friday",
          "Friday",
          "Friday",
          "Saturday",
          "Tuesday",
          "Thursday",
          "Thursday",
          "Friday",
          "Sunday",
          "Sunday",
          "Saturday",
          "Wednesday",
          "Friday",
          "Saturday",
          "Saturday",
          "Wednesday",
          "Saturday",
          "Thursday",
          "Wednesday",
          "Wednesday",
          "Monday",
          "Wednesday",
          "Wednesday",
          "Tuesday",
          "Thursday",
          "Friday",
          "Monday",
          "Wednesday",
          "Tuesday",
          "Tuesday",
          "Saturday",
          "Friday",
          "Friday",
          "Sunday",
          "Thursday",
          "Sunday",
          "Saturday",
          "Wednesday",
          "Tuesday",
          "Monday",
          "Thursday",
          "Wednesday",
          "Saturday",
          "Friday",
          "Saturday",
          "Wednesday",
          "Saturday",
          "Friday",
          "Wednesday",
          "Monday",
          "Sunday",
          "Thursday",
          "Saturday",
          "Friday",
          "Monday",
          "Tuesday",
          "Monday",
          "Monday",
          "Monday",
          "Friday",
          "Tuesday",
          "Thursday",
          "Monday",
          "Friday",
          "Friday",
          "Thursday",
          "Sunday",
          "Wednesday",
          "Tuesday",
          "Tuesday",
          "Saturday",
          "Monday",
          "Wednesday",
          "Sunday",
          "Tuesday",
          "Sunday",
          "Saturday",
          "Monday",
          "Wednesday",
          "Friday",
          "Monday",
          "Wednesday",
          "Thursday",
          "Tuesday",
          "Sunday",
          "Monday",
          "Saturday",
          "Friday",
          "Saturday",
          "Sunday",
          "Monday",
          "Tuesday",
          "Tuesday",
          "Wednesday",
          "Saturday",
          "Saturday",
          "Friday",
          "Sunday",
          "Wednesday",
          "Friday",
          "Monday",
          "Monday",
          "Saturday",
          "Sunday",
          "Wednesday",
          "Sunday",
          "Thursday",
          "Tuesday",
          "Sunday",
          "Wednesday",
          "Sunday",
          "Wednesday",
          "Monday",
          "Tuesday",
          "Sunday",
          "Sunday",
          "Sunday",
          "Wednesday",
          "Sunday",
          "Monday",
          "Monday",
          "Saturday",
          "Saturday",
          "Wednesday",
          "Wednesday",
          "Monday",
          "Saturday",
          "Sunday",
          "Sunday",
          "Wednesday",
          "Tuesday",
          "Monday",
          "Monday",
          "Wednesday",
          "Wednesday",
          "Wednesday",
          "Sunday",
          "Sunday",
          "Tuesday",
          "Monday",
          "Thursday",
          "Tuesday",
          "Tuesday",
          "Sunday",
          "Saturday",
          "Monday",
          "Sunday",
          "Thursday",
          "Monday",
          "Tuesday",
          "Wednesday",
          "Monday",
          "Monday",
          "Wednesday",
          "Thursday",
          "Thursday",
          "Monday",
          "Sunday",
          "Wednesday",
          "Saturday",
          "Monday",
          "Wednesday",
          "Tuesday",
          "Saturday",
          "Wednesday",
          "Sunday",
          "Monday",
          "Friday",
          "Thursday",
          "Monday",
          "Wednesday",
          "Saturday",
          "Saturday",
          "Wednesday",
          "Thursday",
          "Monday",
          "Saturday",
          "Saturday",
          "Friday",
          "Tuesday",
          "Friday",
          "Tuesday",
          "Saturday",
          "Tuesday",
          "Monday",
          "Saturday",
          "Saturday",
          "Tuesday",
          "Wednesday",
          "Tuesday",
          "Tuesday",
          "Thursday",
          "Thursday",
          "Monday",
          "Monday",
          "Wednesday",
          "Thursday",
          "Friday",
          "Monday",
          "Monday",
          "Thursday",
          "Thursday",
          "Wednesday",
          "Thursday",
          "Sunday",
          "Tuesday",
          "Saturday",
          "Friday",
          "Saturday",
          "Tuesday",
          "Sunday",
          "Sunday",
          "Tuesday",
          "Saturday",
          "Tuesday",
          "Monday",
          "Sunday",
          "Saturday",
          "Tuesday",
          "Monday",
          "Thursday",
          "Sunday",
          "Friday",
          "Friday",
          "Tuesday",
          "Friday",
          "Monday",
          "Thursday",
          "Tuesday",
          "Wednesday",
          "Saturday",
          "Sunday",
          "Friday",
          "Friday",
          "Tuesday",
          "Saturday",
          "Saturday",
          "Friday",
          "Friday",
          "Wednesday",
          "Saturday",
          "Monday",
          "Sunday",
          "Tuesday",
          "Tuesday",
          "Wednesday",
          "Sunday",
          "Wednesday",
          "Monday",
          "Thursday",
          "Tuesday",
          "Saturday",
          "Sunday",
          "Friday",
          "Sunday",
          "Monday",
          "Tuesday",
          "Saturday",
          "Monday",
          "Thursday",
          "Saturday",
          "Tuesday",
          "Sunday",
          "Friday",
          "Saturday",
          "Tuesday",
          "Monday",
          "Thursday",
          "Saturday",
          "Monday",
          "Monday",
          "Wednesday",
          "Monday",
          "Sunday",
          "Saturday",
          "Thursday",
          "Friday",
          "Wednesday",
          "Monday",
          "Saturday",
          "Sunday",
          "Sunday",
          "Sunday",
          "Tuesday",
          "Wednesday",
          "Thursday",
          "Tuesday",
          "Thursday",
          "Tuesday",
          "Friday",
          "Thursday",
          "Tuesday",
          "Sunday",
          "Thursday",
          "Wednesday",
          "Thursday",
          "Saturday",
          "Thursday",
          "Tuesday",
          "Thursday",
          "Friday",
          "Monday",
          "Wednesday",
          "Saturday",
          "Sunday",
          "Tuesday",
          "Sunday",
          "Sunday",
          "Thursday",
          "Thursday",
          "Thursday",
          "Wednesday",
          "Saturday",
          "Monday",
          "Friday",
          "Saturday",
          "Friday",
          "Sunday",
          "Saturday",
          "Tuesday",
          "Monday",
          "Monday",
          "Wednesday",
          "Saturday",
          "Thursday",
          "Monday",
          "Saturday",
          "Thursday",
          "Wednesday",
          "Sunday",
          "Sunday",
          "Saturday",
          "Saturday",
          "Tuesday",
          "Saturday",
          "Tuesday",
          "Thursday",
          "Sunday",
          "Thursday",
          "Sunday",
          "Sunday",
          "Monday",
          "Wednesday",
          "Tuesday",
          "Sunday",
          "Monday",
          "Friday",
          "Monday",
          "Thursday",
          "Friday",
          "Monday",
          "Saturday",
          "Wednesday",
          "Tuesday",
          "Saturday",
          "Friday",
          "Sunday",
          "Wednesday",
          "Sunday",
          "Monday",
          "Saturday",
          "Thursday",
          "Thursday",
          "Wednesday",
          "Thursday",
          "Tuesday",
          "Sunday",
          "Wednesday",
          "Wednesday",
          "Thursday",
          "Wednesday",
          "Monday",
          "Friday",
          "Saturday",
          "Friday",
          "Sunday",
          "Saturday",
          "Thursday",
          "Tuesday",
          "Tuesday",
          "Thursday",
          "Sunday",
          "Thursday",
          "Wednesday",
          "Tuesday",
          "Friday",
          "Thursday",
          "Sunday",
          "Sunday",
          "Friday",
          "Saturday",
          "Friday",
          "Sunday",
          "Tuesday",
          "Saturday",
          "Friday",
          "Wednesday",
          "Wednesday",
          "Tuesday",
          "Wednesday",
          "Thursday",
          "Saturday",
          "Tuesday",
          "Saturday",
          "Sunday",
          "Friday",
          "Thursday",
          "Tuesday",
          "Friday",
          "Friday",
          "Friday",
          "Friday",
          "Friday",
          "Tuesday",
          "Wednesday",
          "Friday",
          "Sunday",
          "Sunday",
          "Thursday",
          "Tuesday",
          "Monday",
          "Wednesday",
          "Thursday",
          "Sunday",
          "Friday",
          "Tuesday",
          "Tuesday",
          "Friday",
          "Sunday",
          "Thursday",
          "Tuesday",
          "Saturday",
          "Sunday",
          "Sunday",
          "Wednesday",
          "Thursday",
          "Sunday",
          "Friday",
          "Sunday",
          "Thursday",
          "Saturday",
          "Sunday",
          "Thursday",
          "Sunday",
          "Monday",
          "Friday",
          "Wednesday",
          "Friday",
          "Monday",
          "Friday",
          "Friday",
          "Wednesday",
          "Monday",
          "Friday",
          "Saturday",
          "Sunday",
          "Friday",
          "Tuesday",
          "Friday",
          "Wednesday",
          "Tuesday",
          "Saturday",
          "Sunday",
          "Saturday",
          "Saturday",
          "Monday",
          "Saturday",
          "Thursday",
          "Wednesday",
          "Monday",
          "Tuesday",
          "Thursday",
          "Monday",
          "Wednesday",
          "Tuesday",
          "Wednesday",
          "Wednesday",
          "Tuesday",
          "Saturday",
          "Friday",
          "Wednesday",
          "Saturday",
          "Sunday",
          "Tuesday",
          "Wednesday",
          "Friday",
          "Sunday",
          "Tuesday",
          "Monday",
          "Monday",
          "Saturday",
          "Monday",
          "Thursday",
          "Wednesday",
          "Wednesday",
          "Tuesday",
          "Thursday",
          "Wednesday",
          "Tuesday",
          "Friday",
          "Wednesday",
          "Saturday",
          "Wednesday",
          "Friday",
          "Friday",
          "Wednesday",
          "Friday",
          "Tuesday",
          "Wednesday",
          "Wednesday",
          "Monday",
          "Saturday",
          "Wednesday",
          "Sunday",
          "Monday",
          "Friday",
          "Saturday",
          "Saturday",
          "Friday",
          "Tuesday",
          "Monday",
          "Wednesday",
          "Monday",
          "Friday",
          "Friday",
          "Sunday",
          "Tuesday",
          "Saturday",
          "Saturday",
          "Friday",
          "Monday",
          "Saturday",
          "Sunday",
          "Sunday",
          "Wednesday",
          "Wednesday",
          "Monday",
          "Tuesday",
          "Wednesday",
          "Monday",
          "Monday",
          "Friday",
          "Saturday",
          "Friday",
          "Saturday",
          "Tuesday",
          "Tuesday",
          "Tuesday",
          "Monday",
          "Monday",
          "Friday",
          "Wednesday",
          "Sunday",
          "Saturday",
          "Saturday",
          "Tuesday",
          "Saturday",
          "Thursday",
          "Tuesday",
          "Sunday",
          "Saturday",
          "Friday",
          "Saturday",
          "Monday",
          "Friday",
          "Friday",
          "Friday",
          "Thursday",
          "Thursday",
          "Saturday",
          "Tuesday",
          "Saturday",
          "Saturday",
          "Saturday",
          "Sunday",
          "Monday",
          "Friday",
          "Wednesday",
          "Sunday",
          "Tuesday",
          "Tuesday",
          "Friday",
          "Tuesday",
          "Friday",
          "Tuesday",
          "Saturday",
          "Monday",
          "Sunday",
          "Sunday",
          "Tuesday",
          "Sunday",
          "Tuesday",
          "Wednesday",
          "Sunday",
          "Monday",
          "Sunday",
          "Saturday",
          "Monday",
          "Sunday",
          "Monday",
          "Sunday",
          "Tuesday",
          "Thursday",
          "Tuesday",
          "Friday",
          "Sunday",
          "Wednesday",
          "Monday",
          "Friday",
          "Saturday",
          "Friday",
          "Thursday",
          "Sunday",
          "Monday",
          "Tuesday",
          "Monday",
          "Wednesday",
          "Monday",
          "Friday",
          "Friday",
          "Tuesday",
          "Tuesday",
          "Tuesday",
          "Saturday",
          "Sunday",
          "Wednesday",
          "Saturday",
          "Saturday",
          "Saturday",
          "Monday",
          "Thursday",
          "Sunday",
          "Monday",
          "Tuesday",
          "Wednesday",
          "Saturday",
          "Monday",
          "Sunday",
          "Friday",
          "Sunday",
          "Saturday",
          "Sunday",
          "Monday",
          "Friday",
          "Monday",
          "Monday",
          "Saturday",
          "Monday",
          "Tuesday",
          "Sunday",
          "Friday",
          "Wednesday",
          "Thursday",
          "Sunday",
          "Saturday",
          "Friday",
          "Tuesday",
          "Friday",
          "Wednesday",
          "Saturday",
          "Friday",
          "Sunday",
          "Tuesday",
          "Saturday",
          "Tuesday",
          "Saturday",
          "Thursday",
          "Wednesday",
          "Thursday",
          "Sunday",
          "Sunday",
          "Sunday",
          "Monday",
          "Sunday",
          "Tuesday",
          "Thursday",
          "Tuesday",
          "Saturday",
          "Tuesday",
          "Monday",
          "Tuesday",
          "Saturday",
          "Saturday",
          "Thursday",
          "Sunday",
          "Wednesday",
          "Friday",
          "Thursday",
          "Monday",
          "Friday",
          "Tuesday",
          "Thursday",
          "Friday",
          "Sunday",
          "Sunday",
          "Thursday",
          "Sunday",
          "Tuesday",
          "Saturday",
          "Thursday",
          "Monday",
          "Friday",
          "Friday",
          "Friday",
          "Thursday",
          "Tuesday",
          "Thursday",
          "Thursday",
          "Sunday",
          "Saturday",
          "Friday",
          "Tuesday",
          "Wednesday",
          "Tuesday",
          "Sunday",
          "Thursday",
          "Monday",
          "Tuesday",
          "Friday",
          "Monday",
          "Wednesday",
          "Wednesday",
          "Monday",
          "Sunday",
          "Wednesday",
          "Monday",
          "Thursday",
          "Monday",
          "Thursday",
          "Sunday",
          "Friday",
          "Friday",
          "Wednesday",
          "Saturday",
          "Saturday",
          "Monday",
          "Sunday",
          "Thursday",
          "Friday",
          "Sunday",
          "Friday",
          "Friday",
          "Wednesday",
          "Friday",
          "Saturday",
          "Tuesday",
          "Wednesday",
          "Monday",
          "Tuesday",
          "Wednesday",
          "Sunday",
          "Wednesday",
          "Thursday",
          "Tuesday",
          "Tuesday",
          "Saturday",
          "Tuesday",
          "Friday",
          "Saturday",
          "Sunday",
          "Friday",
          "Saturday",
          "Monday",
          "Sunday",
          "Saturday",
          "Monday",
          "Saturday",
          "Monday",
          "Friday",
          "Sunday",
          "Sunday",
          "Saturday",
          "Thursday",
          "Saturday",
          "Monday",
          "Sunday",
          "Wednesday",
          "Friday",
          "Thursday",
          "Wednesday",
          "Wednesday",
          "Friday",
          "Saturday",
          "Tuesday",
          "Thursday",
          "Saturday",
          "Friday",
          "Tuesday",
          "Friday",
          "Friday",
          "Wednesday",
          "Sunday",
          "Saturday",
          "Friday",
          "Saturday",
          "Tuesday",
          "Wednesday",
          "Tuesday",
          "Tuesday",
          "Wednesday",
          "Saturday",
          "Tuesday",
          "Monday",
          "Saturday",
          "Sunday",
          "Sunday",
          "Friday",
          "Wednesday",
          "Sunday",
          "Wednesday",
          "Saturday",
          "Monday",
          "Monday",
          "Monday",
          "Monday",
          "Thursday",
          "Wednesday",
          "Tuesday",
          "Wednesday",
          "Sunday",
          "Wednesday",
          "Wednesday",
          "Monday",
          "Monday",
          "Thursday",
          "Saturday",
          "Wednesday",
          "Friday",
          "Saturday",
          "Sunday",
          "Thursday",
          "Sunday",
          "Monday",
          "Sunday",
          "Wednesday",
          "Monday",
          "Saturday",
          "Tuesday",
          "Monday",
          "Monday",
          "Thursday",
          "Tuesday",
          "Saturday",
          "Friday",
          "Friday",
          "Friday",
          "Wednesday",
          "Friday",
          "Wednesday",
          "Saturday",
          "Saturday",
          "Monday",
          "Friday",
          "Thursday",
          "Saturday",
          "Tuesday",
          "Tuesday",
          "Saturday",
          "Monday",
          "Sunday",
          "Tuesday",
          "Tuesday",
          "Sunday",
          "Monday"
         ],
         "yaxis": "y",
         "ybingroup": "y"
        }
       ],
       "layout": {
        "coloraxis": {
         "colorbar": {
          "title": {
           "text": "count"
          }
         },
         "colorscale": [
          [
           0,
           "#440154"
          ],
          [
           0.1111111111111111,
           "#482878"
          ],
          [
           0.2222222222222222,
           "#3e4989"
          ],
          [
           0.3333333333333333,
           "#31688e"
          ],
          [
           0.4444444444444444,
           "#26828e"
          ],
          [
           0.5555555555555556,
           "#1f9e89"
          ],
          [
           0.6666666666666666,
           "#35b779"
          ],
          [
           0.7777777777777778,
           "#6ece58"
          ],
          [
           0.8888888888888888,
           "#b5de2b"
          ],
          [
           1,
           "#fde725"
          ]
         ]
        },
        "font": {
         "color": "white"
        },
        "legend": {
         "tracegroupgap": 0
        },
        "paper_bgcolor": "black",
        "plot_bgcolor": "black",
        "template": {
         "data": {
          "bar": [
           {
            "error_x": {
             "color": "#2a3f5f"
            },
            "error_y": {
             "color": "#2a3f5f"
            },
            "marker": {
             "line": {
              "color": "#E5ECF6",
              "width": 0.5
             },
             "pattern": {
              "fillmode": "overlay",
              "size": 10,
              "solidity": 0.2
             }
            },
            "type": "bar"
           }
          ],
          "barpolar": [
           {
            "marker": {
             "line": {
              "color": "#E5ECF6",
              "width": 0.5
             },
             "pattern": {
              "fillmode": "overlay",
              "size": 10,
              "solidity": 0.2
             }
            },
            "type": "barpolar"
           }
          ],
          "carpet": [
           {
            "aaxis": {
             "endlinecolor": "#2a3f5f",
             "gridcolor": "white",
             "linecolor": "white",
             "minorgridcolor": "white",
             "startlinecolor": "#2a3f5f"
            },
            "baxis": {
             "endlinecolor": "#2a3f5f",
             "gridcolor": "white",
             "linecolor": "white",
             "minorgridcolor": "white",
             "startlinecolor": "#2a3f5f"
            },
            "type": "carpet"
           }
          ],
          "choropleth": [
           {
            "colorbar": {
             "outlinewidth": 0,
             "ticks": ""
            },
            "type": "choropleth"
           }
          ],
          "contour": [
           {
            "colorbar": {
             "outlinewidth": 0,
             "ticks": ""
            },
            "colorscale": [
             [
              0,
              "#0d0887"
             ],
             [
              0.1111111111111111,
              "#46039f"
             ],
             [
              0.2222222222222222,
              "#7201a8"
             ],
             [
              0.3333333333333333,
              "#9c179e"
             ],
             [
              0.4444444444444444,
              "#bd3786"
             ],
             [
              0.5555555555555556,
              "#d8576b"
             ],
             [
              0.6666666666666666,
              "#ed7953"
             ],
             [
              0.7777777777777778,
              "#fb9f3a"
             ],
             [
              0.8888888888888888,
              "#fdca26"
             ],
             [
              1,
              "#f0f921"
             ]
            ],
            "type": "contour"
           }
          ],
          "contourcarpet": [
           {
            "colorbar": {
             "outlinewidth": 0,
             "ticks": ""
            },
            "type": "contourcarpet"
           }
          ],
          "heatmap": [
           {
            "colorbar": {
             "outlinewidth": 0,
             "ticks": ""
            },
            "colorscale": [
             [
              0,
              "#0d0887"
             ],
             [
              0.1111111111111111,
              "#46039f"
             ],
             [
              0.2222222222222222,
              "#7201a8"
             ],
             [
              0.3333333333333333,
              "#9c179e"
             ],
             [
              0.4444444444444444,
              "#bd3786"
             ],
             [
              0.5555555555555556,
              "#d8576b"
             ],
             [
              0.6666666666666666,
              "#ed7953"
             ],
             [
              0.7777777777777778,
              "#fb9f3a"
             ],
             [
              0.8888888888888888,
              "#fdca26"
             ],
             [
              1,
              "#f0f921"
             ]
            ],
            "type": "heatmap"
           }
          ],
          "histogram": [
           {
            "marker": {
             "pattern": {
              "fillmode": "overlay",
              "size": 10,
              "solidity": 0.2
             }
            },
            "type": "histogram"
           }
          ],
          "histogram2d": [
           {
            "colorbar": {
             "outlinewidth": 0,
             "ticks": ""
            },
            "colorscale": [
             [
              0,
              "#0d0887"
             ],
             [
              0.1111111111111111,
              "#46039f"
             ],
             [
              0.2222222222222222,
              "#7201a8"
             ],
             [
              0.3333333333333333,
              "#9c179e"
             ],
             [
              0.4444444444444444,
              "#bd3786"
             ],
             [
              0.5555555555555556,
              "#d8576b"
             ],
             [
              0.6666666666666666,
              "#ed7953"
             ],
             [
              0.7777777777777778,
              "#fb9f3a"
             ],
             [
              0.8888888888888888,
              "#fdca26"
             ],
             [
              1,
              "#f0f921"
             ]
            ],
            "type": "histogram2d"
           }
          ],
          "histogram2dcontour": [
           {
            "colorbar": {
             "outlinewidth": 0,
             "ticks": ""
            },
            "colorscale": [
             [
              0,
              "#0d0887"
             ],
             [
              0.1111111111111111,
              "#46039f"
             ],
             [
              0.2222222222222222,
              "#7201a8"
             ],
             [
              0.3333333333333333,
              "#9c179e"
             ],
             [
              0.4444444444444444,
              "#bd3786"
             ],
             [
              0.5555555555555556,
              "#d8576b"
             ],
             [
              0.6666666666666666,
              "#ed7953"
             ],
             [
              0.7777777777777778,
              "#fb9f3a"
             ],
             [
              0.8888888888888888,
              "#fdca26"
             ],
             [
              1,
              "#f0f921"
             ]
            ],
            "type": "histogram2dcontour"
           }
          ],
          "mesh3d": [
           {
            "colorbar": {
             "outlinewidth": 0,
             "ticks": ""
            },
            "type": "mesh3d"
           }
          ],
          "parcoords": [
           {
            "line": {
             "colorbar": {
              "outlinewidth": 0,
              "ticks": ""
             }
            },
            "type": "parcoords"
           }
          ],
          "pie": [
           {
            "automargin": true,
            "type": "pie"
           }
          ],
          "scatter": [
           {
            "fillpattern": {
             "fillmode": "overlay",
             "size": 10,
             "solidity": 0.2
            },
            "type": "scatter"
           }
          ],
          "scatter3d": [
           {
            "line": {
             "colorbar": {
              "outlinewidth": 0,
              "ticks": ""
             }
            },
            "marker": {
             "colorbar": {
              "outlinewidth": 0,
              "ticks": ""
             }
            },
            "type": "scatter3d"
           }
          ],
          "scattercarpet": [
           {
            "marker": {
             "colorbar": {
              "outlinewidth": 0,
              "ticks": ""
             }
            },
            "type": "scattercarpet"
           }
          ],
          "scattergeo": [
           {
            "marker": {
             "colorbar": {
              "outlinewidth": 0,
              "ticks": ""
             }
            },
            "type": "scattergeo"
           }
          ],
          "scattergl": [
           {
            "marker": {
             "colorbar": {
              "outlinewidth": 0,
              "ticks": ""
             }
            },
            "type": "scattergl"
           }
          ],
          "scattermap": [
           {
            "marker": {
             "colorbar": {
              "outlinewidth": 0,
              "ticks": ""
             }
            },
            "type": "scattermap"
           }
          ],
          "scattermapbox": [
           {
            "marker": {
             "colorbar": {
              "outlinewidth": 0,
              "ticks": ""
             }
            },
            "type": "scattermapbox"
           }
          ],
          "scatterpolar": [
           {
            "marker": {
             "colorbar": {
              "outlinewidth": 0,
              "ticks": ""
             }
            },
            "type": "scatterpolar"
           }
          ],
          "scatterpolargl": [
           {
            "marker": {
             "colorbar": {
              "outlinewidth": 0,
              "ticks": ""
             }
            },
            "type": "scatterpolargl"
           }
          ],
          "scatterternary": [
           {
            "marker": {
             "colorbar": {
              "outlinewidth": 0,
              "ticks": ""
             }
            },
            "type": "scatterternary"
           }
          ],
          "surface": [
           {
            "colorbar": {
             "outlinewidth": 0,
             "ticks": ""
            },
            "colorscale": [
             [
              0,
              "#0d0887"
             ],
             [
              0.1111111111111111,
              "#46039f"
             ],
             [
              0.2222222222222222,
              "#7201a8"
             ],
             [
              0.3333333333333333,
              "#9c179e"
             ],
             [
              0.4444444444444444,
              "#bd3786"
             ],
             [
              0.5555555555555556,
              "#d8576b"
             ],
             [
              0.6666666666666666,
              "#ed7953"
             ],
             [
              0.7777777777777778,
              "#fb9f3a"
             ],
             [
              0.8888888888888888,
              "#fdca26"
             ],
             [
              1,
              "#f0f921"
             ]
            ],
            "type": "surface"
           }
          ],
          "table": [
           {
            "cells": {
             "fill": {
              "color": "#EBF0F8"
             },
             "line": {
              "color": "white"
             }
            },
            "header": {
             "fill": {
              "color": "#C8D4E3"
             },
             "line": {
              "color": "white"
             }
            },
            "type": "table"
           }
          ]
         },
         "layout": {
          "annotationdefaults": {
           "arrowcolor": "#2a3f5f",
           "arrowhead": 0,
           "arrowwidth": 1
          },
          "autotypenumbers": "strict",
          "coloraxis": {
           "colorbar": {
            "outlinewidth": 0,
            "ticks": ""
           }
          },
          "colorscale": {
           "diverging": [
            [
             0,
             "#8e0152"
            ],
            [
             0.1,
             "#c51b7d"
            ],
            [
             0.2,
             "#de77ae"
            ],
            [
             0.3,
             "#f1b6da"
            ],
            [
             0.4,
             "#fde0ef"
            ],
            [
             0.5,
             "#f7f7f7"
            ],
            [
             0.6,
             "#e6f5d0"
            ],
            [
             0.7,
             "#b8e186"
            ],
            [
             0.8,
             "#7fbc41"
            ],
            [
             0.9,
             "#4d9221"
            ],
            [
             1,
             "#276419"
            ]
           ],
           "sequential": [
            [
             0,
             "#0d0887"
            ],
            [
             0.1111111111111111,
             "#46039f"
            ],
            [
             0.2222222222222222,
             "#7201a8"
            ],
            [
             0.3333333333333333,
             "#9c179e"
            ],
            [
             0.4444444444444444,
             "#bd3786"
            ],
            [
             0.5555555555555556,
             "#d8576b"
            ],
            [
             0.6666666666666666,
             "#ed7953"
            ],
            [
             0.7777777777777778,
             "#fb9f3a"
            ],
            [
             0.8888888888888888,
             "#fdca26"
            ],
            [
             1,
             "#f0f921"
            ]
           ],
           "sequentialminus": [
            [
             0,
             "#0d0887"
            ],
            [
             0.1111111111111111,
             "#46039f"
            ],
            [
             0.2222222222222222,
             "#7201a8"
            ],
            [
             0.3333333333333333,
             "#9c179e"
            ],
            [
             0.4444444444444444,
             "#bd3786"
            ],
            [
             0.5555555555555556,
             "#d8576b"
            ],
            [
             0.6666666666666666,
             "#ed7953"
            ],
            [
             0.7777777777777778,
             "#fb9f3a"
            ],
            [
             0.8888888888888888,
             "#fdca26"
            ],
            [
             1,
             "#f0f921"
            ]
           ]
          },
          "colorway": [
           "#636efa",
           "#EF553B",
           "#00cc96",
           "#ab63fa",
           "#FFA15A",
           "#19d3f3",
           "#FF6692",
           "#B6E880",
           "#FF97FF",
           "#FECB52"
          ],
          "font": {
           "color": "#2a3f5f"
          },
          "geo": {
           "bgcolor": "white",
           "lakecolor": "white",
           "landcolor": "#E5ECF6",
           "showlakes": true,
           "showland": true,
           "subunitcolor": "white"
          },
          "hoverlabel": {
           "align": "left"
          },
          "hovermode": "closest",
          "mapbox": {
           "style": "light"
          },
          "paper_bgcolor": "white",
          "plot_bgcolor": "#E5ECF6",
          "polar": {
           "angularaxis": {
            "gridcolor": "white",
            "linecolor": "white",
            "ticks": ""
           },
           "bgcolor": "#E5ECF6",
           "radialaxis": {
            "gridcolor": "white",
            "linecolor": "white",
            "ticks": ""
           }
          },
          "scene": {
           "xaxis": {
            "backgroundcolor": "#E5ECF6",
            "gridcolor": "white",
            "gridwidth": 2,
            "linecolor": "white",
            "showbackground": true,
            "ticks": "",
            "zerolinecolor": "white"
           },
           "yaxis": {
            "backgroundcolor": "#E5ECF6",
            "gridcolor": "white",
            "gridwidth": 2,
            "linecolor": "white",
            "showbackground": true,
            "ticks": "",
            "zerolinecolor": "white"
           },
           "zaxis": {
            "backgroundcolor": "#E5ECF6",
            "gridcolor": "white",
            "gridwidth": 2,
            "linecolor": "white",
            "showbackground": true,
            "ticks": "",
            "zerolinecolor": "white"
           }
          },
          "shapedefaults": {
           "line": {
            "color": "#2a3f5f"
           }
          },
          "ternary": {
           "aaxis": {
            "gridcolor": "white",
            "linecolor": "white",
            "ticks": ""
           },
           "baxis": {
            "gridcolor": "white",
            "linecolor": "white",
            "ticks": ""
           },
           "bgcolor": "#E5ECF6",
           "caxis": {
            "gridcolor": "white",
            "linecolor": "white",
            "ticks": ""
           }
          },
          "title": {
           "x": 0.05
          },
          "xaxis": {
           "automargin": true,
           "gridcolor": "white",
           "linecolor": "white",
           "ticks": "",
           "title": {
            "standoff": 15
           },
           "zerolinecolor": "white",
           "zerolinewidth": 2
          },
          "yaxis": {
           "automargin": true,
           "gridcolor": "white",
           "linecolor": "white",
           "ticks": "",
           "title": {
            "standoff": 15
           },
           "zerolinecolor": "white",
           "zerolinewidth": 2
          }
         }
        },
        "title": {
         "text": "Heatmap of Charging Hour vs Day of Week"
        },
        "xaxis": {
         "anchor": "y",
         "domain": [
          0,
          1
         ],
         "title": {
          "text": "Charging Hour"
         }
        },
        "yaxis": {
         "anchor": "x",
         "domain": [
          0,
          1
         ],
         "title": {
          "text": "Day of Week"
         }
        }
       }
      }
     },
     "metadata": {},
     "output_type": "display_data"
    }
   ],
   "source": [
    "df['Charging Hour'] = df['Charging Start Time'].dt.hour  # Extract the hour from the charging start time\n",
    "\n",
    "fig = px.density_heatmap(\n",
    "    df,\n",
    "    x='Charging Hour',\n",
    "    y='Day of Week',\n",
    "    title='Heatmap of Charging Hour vs Day of Week',\n",
    "    color_continuous_scale='Viridis'\n",
    ")\n",
    "\n",
    "fig.update_layout(\n",
    "    xaxis_title='Charging Hour',\n",
    "    yaxis_title='Day of Week',\n",
    "    plot_bgcolor='black',\n",
    "    paper_bgcolor='black',\n",
    "    font_color='white'\n",
    ")\n",
    "\n",
    "fig.show()"
   ]
  },
  {
   "cell_type": "code",
   "execution_count": 15,
   "id": "b01606ff",
   "metadata": {},
   "outputs": [
    {
     "data": {
      "application/vnd.plotly.v1+json": {
       "config": {
        "plotlyServerURL": "https://plot.ly"
       },
       "data": [
        {
         "alignmentgroup": "True",
         "hovertemplate": "Charger Type=%{x}<br>Charging Rate (kW)=%{y}<extra></extra>",
         "legendgroup": "DC Fast Charger",
         "marker": {
          "color": "#636efa"
         },
         "name": "DC Fast Charger",
         "notched": false,
         "offsetgroup": "DC Fast Charger",
         "orientation": "v",
         "showlegend": true,
         "type": "box",
         "x": [
          "DC Fast Charger",
          "DC Fast Charger",
          "DC Fast Charger",
          "DC Fast Charger",
          "DC Fast Charger",
          "DC Fast Charger",
          "DC Fast Charger",
          "DC Fast Charger",
          "DC Fast Charger",
          "DC Fast Charger",
          "DC Fast Charger",
          "DC Fast Charger",
          "DC Fast Charger",
          "DC Fast Charger",
          "DC Fast Charger",
          "DC Fast Charger",
          "DC Fast Charger",
          "DC Fast Charger",
          "DC Fast Charger",
          "DC Fast Charger",
          "DC Fast Charger",
          "DC Fast Charger",
          "DC Fast Charger",
          "DC Fast Charger",
          "DC Fast Charger",
          "DC Fast Charger",
          "DC Fast Charger",
          "DC Fast Charger",
          "DC Fast Charger",
          "DC Fast Charger",
          "DC Fast Charger",
          "DC Fast Charger",
          "DC Fast Charger",
          "DC Fast Charger",
          "DC Fast Charger",
          "DC Fast Charger",
          "DC Fast Charger",
          "DC Fast Charger",
          "DC Fast Charger",
          "DC Fast Charger",
          "DC Fast Charger",
          "DC Fast Charger",
          "DC Fast Charger",
          "DC Fast Charger",
          "DC Fast Charger",
          "DC Fast Charger",
          "DC Fast Charger",
          "DC Fast Charger",
          "DC Fast Charger",
          "DC Fast Charger",
          "DC Fast Charger",
          "DC Fast Charger",
          "DC Fast Charger",
          "DC Fast Charger",
          "DC Fast Charger",
          "DC Fast Charger",
          "DC Fast Charger",
          "DC Fast Charger",
          "DC Fast Charger",
          "DC Fast Charger",
          "DC Fast Charger",
          "DC Fast Charger",
          "DC Fast Charger",
          "DC Fast Charger",
          "DC Fast Charger",
          "DC Fast Charger",
          "DC Fast Charger",
          "DC Fast Charger",
          "DC Fast Charger",
          "DC Fast Charger",
          "DC Fast Charger",
          "DC Fast Charger",
          "DC Fast Charger",
          "DC Fast Charger",
          "DC Fast Charger",
          "DC Fast Charger",
          "DC Fast Charger",
          "DC Fast Charger",
          "DC Fast Charger",
          "DC Fast Charger",
          "DC Fast Charger",
          "DC Fast Charger",
          "DC Fast Charger",
          "DC Fast Charger",
          "DC Fast Charger",
          "DC Fast Charger",
          "DC Fast Charger",
          "DC Fast Charger",
          "DC Fast Charger",
          "DC Fast Charger",
          "DC Fast Charger",
          "DC Fast Charger",
          "DC Fast Charger",
          "DC Fast Charger",
          "DC Fast Charger",
          "DC Fast Charger",
          "DC Fast Charger",
          "DC Fast Charger",
          "DC Fast Charger",
          "DC Fast Charger",
          "DC Fast Charger",
          "DC Fast Charger",
          "DC Fast Charger",
          "DC Fast Charger",
          "DC Fast Charger",
          "DC Fast Charger",
          "DC Fast Charger",
          "DC Fast Charger",
          "DC Fast Charger",
          "DC Fast Charger",
          "DC Fast Charger",
          "DC Fast Charger",
          "DC Fast Charger",
          "DC Fast Charger",
          "DC Fast Charger",
          "DC Fast Charger",
          "DC Fast Charger",
          "DC Fast Charger",
          "DC Fast Charger",
          "DC Fast Charger",
          "DC Fast Charger",
          "DC Fast Charger",
          "DC Fast Charger",
          "DC Fast Charger",
          "DC Fast Charger",
          "DC Fast Charger",
          "DC Fast Charger",
          "DC Fast Charger",
          "DC Fast Charger",
          "DC Fast Charger",
          "DC Fast Charger",
          "DC Fast Charger",
          "DC Fast Charger",
          "DC Fast Charger",
          "DC Fast Charger",
          "DC Fast Charger",
          "DC Fast Charger",
          "DC Fast Charger",
          "DC Fast Charger",
          "DC Fast Charger",
          "DC Fast Charger",
          "DC Fast Charger",
          "DC Fast Charger",
          "DC Fast Charger",
          "DC Fast Charger",
          "DC Fast Charger",
          "DC Fast Charger",
          "DC Fast Charger",
          "DC Fast Charger",
          "DC Fast Charger",
          "DC Fast Charger",
          "DC Fast Charger",
          "DC Fast Charger",
          "DC Fast Charger",
          "DC Fast Charger",
          "DC Fast Charger",
          "DC Fast Charger",
          "DC Fast Charger",
          "DC Fast Charger",
          "DC Fast Charger",
          "DC Fast Charger",
          "DC Fast Charger",
          "DC Fast Charger",
          "DC Fast Charger",
          "DC Fast Charger",
          "DC Fast Charger",
          "DC Fast Charger",
          "DC Fast Charger",
          "DC Fast Charger",
          "DC Fast Charger",
          "DC Fast Charger",
          "DC Fast Charger",
          "DC Fast Charger",
          "DC Fast Charger",
          "DC Fast Charger",
          "DC Fast Charger",
          "DC Fast Charger",
          "DC Fast Charger",
          "DC Fast Charger",
          "DC Fast Charger",
          "DC Fast Charger",
          "DC Fast Charger",
          "DC Fast Charger",
          "DC Fast Charger",
          "DC Fast Charger",
          "DC Fast Charger",
          "DC Fast Charger",
          "DC Fast Charger",
          "DC Fast Charger",
          "DC Fast Charger",
          "DC Fast Charger",
          "DC Fast Charger",
          "DC Fast Charger",
          "DC Fast Charger",
          "DC Fast Charger",
          "DC Fast Charger",
          "DC Fast Charger",
          "DC Fast Charger",
          "DC Fast Charger",
          "DC Fast Charger",
          "DC Fast Charger",
          "DC Fast Charger",
          "DC Fast Charger",
          "DC Fast Charger",
          "DC Fast Charger",
          "DC Fast Charger",
          "DC Fast Charger",
          "DC Fast Charger",
          "DC Fast Charger",
          "DC Fast Charger",
          "DC Fast Charger",
          "DC Fast Charger",
          "DC Fast Charger",
          "DC Fast Charger",
          "DC Fast Charger",
          "DC Fast Charger",
          "DC Fast Charger",
          "DC Fast Charger",
          "DC Fast Charger",
          "DC Fast Charger",
          "DC Fast Charger",
          "DC Fast Charger",
          "DC Fast Charger",
          "DC Fast Charger",
          "DC Fast Charger",
          "DC Fast Charger",
          "DC Fast Charger",
          "DC Fast Charger",
          "DC Fast Charger",
          "DC Fast Charger",
          "DC Fast Charger",
          "DC Fast Charger",
          "DC Fast Charger",
          "DC Fast Charger",
          "DC Fast Charger",
          "DC Fast Charger",
          "DC Fast Charger",
          "DC Fast Charger",
          "DC Fast Charger",
          "DC Fast Charger",
          "DC Fast Charger",
          "DC Fast Charger",
          "DC Fast Charger",
          "DC Fast Charger",
          "DC Fast Charger",
          "DC Fast Charger",
          "DC Fast Charger",
          "DC Fast Charger",
          "DC Fast Charger",
          "DC Fast Charger",
          "DC Fast Charger",
          "DC Fast Charger",
          "DC Fast Charger",
          "DC Fast Charger",
          "DC Fast Charger",
          "DC Fast Charger",
          "DC Fast Charger",
          "DC Fast Charger",
          "DC Fast Charger",
          "DC Fast Charger",
          "DC Fast Charger",
          "DC Fast Charger",
          "DC Fast Charger",
          "DC Fast Charger",
          "DC Fast Charger",
          "DC Fast Charger",
          "DC Fast Charger",
          "DC Fast Charger",
          "DC Fast Charger",
          "DC Fast Charger",
          "DC Fast Charger",
          "DC Fast Charger",
          "DC Fast Charger",
          "DC Fast Charger",
          "DC Fast Charger",
          "DC Fast Charger",
          "DC Fast Charger",
          "DC Fast Charger",
          "DC Fast Charger",
          "DC Fast Charger",
          "DC Fast Charger",
          "DC Fast Charger",
          "DC Fast Charger",
          "DC Fast Charger",
          "DC Fast Charger",
          "DC Fast Charger",
          "DC Fast Charger",
          "DC Fast Charger",
          "DC Fast Charger",
          "DC Fast Charger",
          "DC Fast Charger",
          "DC Fast Charger",
          "DC Fast Charger",
          "DC Fast Charger",
          "DC Fast Charger",
          "DC Fast Charger",
          "DC Fast Charger",
          "DC Fast Charger",
          "DC Fast Charger",
          "DC Fast Charger",
          "DC Fast Charger",
          "DC Fast Charger",
          "DC Fast Charger",
          "DC Fast Charger",
          "DC Fast Charger",
          "DC Fast Charger",
          "DC Fast Charger",
          "DC Fast Charger",
          "DC Fast Charger",
          "DC Fast Charger",
          "DC Fast Charger",
          "DC Fast Charger",
          "DC Fast Charger",
          "DC Fast Charger",
          "DC Fast Charger",
          "DC Fast Charger",
          "DC Fast Charger",
          "DC Fast Charger",
          "DC Fast Charger",
          "DC Fast Charger",
          "DC Fast Charger",
          "DC Fast Charger",
          "DC Fast Charger",
          "DC Fast Charger",
          "DC Fast Charger",
          "DC Fast Charger",
          "DC Fast Charger",
          "DC Fast Charger",
          "DC Fast Charger",
          "DC Fast Charger",
          "DC Fast Charger",
          "DC Fast Charger",
          "DC Fast Charger",
          "DC Fast Charger",
          "DC Fast Charger",
          "DC Fast Charger",
          "DC Fast Charger",
          "DC Fast Charger",
          "DC Fast Charger",
          "DC Fast Charger",
          "DC Fast Charger",
          "DC Fast Charger",
          "DC Fast Charger",
          "DC Fast Charger",
          "DC Fast Charger",
          "DC Fast Charger",
          "DC Fast Charger",
          "DC Fast Charger",
          "DC Fast Charger",
          "DC Fast Charger",
          "DC Fast Charger",
          "DC Fast Charger",
          "DC Fast Charger",
          "DC Fast Charger",
          "DC Fast Charger",
          "DC Fast Charger",
          "DC Fast Charger",
          "DC Fast Charger",
          "DC Fast Charger",
          "DC Fast Charger",
          "DC Fast Charger",
          "DC Fast Charger",
          "DC Fast Charger",
          "DC Fast Charger",
          "DC Fast Charger",
          "DC Fast Charger",
          "DC Fast Charger",
          "DC Fast Charger",
          "DC Fast Charger",
          "DC Fast Charger",
          "DC Fast Charger",
          "DC Fast Charger",
          "DC Fast Charger",
          "DC Fast Charger",
          "DC Fast Charger",
          "DC Fast Charger",
          "DC Fast Charger",
          "DC Fast Charger",
          "DC Fast Charger",
          "DC Fast Charger",
          "DC Fast Charger",
          "DC Fast Charger",
          "DC Fast Charger",
          "DC Fast Charger",
          "DC Fast Charger",
          "DC Fast Charger",
          "DC Fast Charger",
          "DC Fast Charger",
          "DC Fast Charger",
          "DC Fast Charger",
          "DC Fast Charger",
          "DC Fast Charger",
          "DC Fast Charger",
          "DC Fast Charger",
          "DC Fast Charger",
          "DC Fast Charger",
          "DC Fast Charger",
          "DC Fast Charger",
          "DC Fast Charger",
          "DC Fast Charger",
          "DC Fast Charger",
          "DC Fast Charger",
          "DC Fast Charger",
          "DC Fast Charger",
          "DC Fast Charger",
          "DC Fast Charger",
          "DC Fast Charger",
          "DC Fast Charger",
          "DC Fast Charger",
          "DC Fast Charger",
          "DC Fast Charger",
          "DC Fast Charger",
          "DC Fast Charger",
          "DC Fast Charger",
          "DC Fast Charger",
          "DC Fast Charger",
          "DC Fast Charger",
          "DC Fast Charger",
          "DC Fast Charger",
          "DC Fast Charger",
          "DC Fast Charger",
          "DC Fast Charger",
          "DC Fast Charger",
          "DC Fast Charger",
          "DC Fast Charger",
          "DC Fast Charger",
          "DC Fast Charger",
          "DC Fast Charger",
          "DC Fast Charger",
          "DC Fast Charger"
         ],
         "x0": " ",
         "xaxis": "x",
         "y": {
          "bdata": "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",
          "dtype": "f8"
         },
         "y0": " ",
         "yaxis": "y"
        },
        {
         "alignmentgroup": "True",
         "hovertemplate": "Charger Type=%{x}<br>Charging Rate (kW)=%{y}<extra></extra>",
         "legendgroup": "Level 1",
         "marker": {
          "color": "#EF553B"
         },
         "name": "Level 1",
         "notched": false,
         "offsetgroup": "Level 1",
         "orientation": "v",
         "showlegend": true,
         "type": "box",
         "x": [
          "Level 1",
          "Level 1",
          "Level 1",
          "Level 1",
          "Level 1",
          "Level 1",
          "Level 1",
          "Level 1",
          "Level 1",
          "Level 1",
          "Level 1",
          "Level 1",
          "Level 1",
          "Level 1",
          "Level 1",
          "Level 1",
          "Level 1",
          "Level 1",
          "Level 1",
          "Level 1",
          "Level 1",
          "Level 1",
          "Level 1",
          "Level 1",
          "Level 1",
          "Level 1",
          "Level 1",
          "Level 1",
          "Level 1",
          "Level 1",
          "Level 1",
          "Level 1",
          "Level 1",
          "Level 1",
          "Level 1",
          "Level 1",
          "Level 1",
          "Level 1",
          "Level 1",
          "Level 1",
          "Level 1",
          "Level 1",
          "Level 1",
          "Level 1",
          "Level 1",
          "Level 1",
          "Level 1",
          "Level 1",
          "Level 1",
          "Level 1",
          "Level 1",
          "Level 1",
          "Level 1",
          "Level 1",
          "Level 1",
          "Level 1",
          "Level 1",
          "Level 1",
          "Level 1",
          "Level 1",
          "Level 1",
          "Level 1",
          "Level 1",
          "Level 1",
          "Level 1",
          "Level 1",
          "Level 1",
          "Level 1",
          "Level 1",
          "Level 1",
          "Level 1",
          "Level 1",
          "Level 1",
          "Level 1",
          "Level 1",
          "Level 1",
          "Level 1",
          "Level 1",
          "Level 1",
          "Level 1",
          "Level 1",
          "Level 1",
          "Level 1",
          "Level 1",
          "Level 1",
          "Level 1",
          "Level 1",
          "Level 1",
          "Level 1",
          "Level 1",
          "Level 1",
          "Level 1",
          "Level 1",
          "Level 1",
          "Level 1",
          "Level 1",
          "Level 1",
          "Level 1",
          "Level 1",
          "Level 1",
          "Level 1",
          "Level 1",
          "Level 1",
          "Level 1",
          "Level 1",
          "Level 1",
          "Level 1",
          "Level 1",
          "Level 1",
          "Level 1",
          "Level 1",
          "Level 1",
          "Level 1",
          "Level 1",
          "Level 1",
          "Level 1",
          "Level 1",
          "Level 1",
          "Level 1",
          "Level 1",
          "Level 1",
          "Level 1",
          "Level 1",
          "Level 1",
          "Level 1",
          "Level 1",
          "Level 1",
          "Level 1",
          "Level 1",
          "Level 1",
          "Level 1",
          "Level 1",
          "Level 1",
          "Level 1",
          "Level 1",
          "Level 1",
          "Level 1",
          "Level 1",
          "Level 1",
          "Level 1",
          "Level 1",
          "Level 1",
          "Level 1",
          "Level 1",
          "Level 1",
          "Level 1",
          "Level 1",
          "Level 1",
          "Level 1",
          "Level 1",
          "Level 1",
          "Level 1",
          "Level 1",
          "Level 1",
          "Level 1",
          "Level 1",
          "Level 1",
          "Level 1",
          "Level 1",
          "Level 1",
          "Level 1",
          "Level 1",
          "Level 1",
          "Level 1",
          "Level 1",
          "Level 1",
          "Level 1",
          "Level 1",
          "Level 1",
          "Level 1",
          "Level 1",
          "Level 1",
          "Level 1",
          "Level 1",
          "Level 1",
          "Level 1",
          "Level 1",
          "Level 1",
          "Level 1",
          "Level 1",
          "Level 1",
          "Level 1",
          "Level 1",
          "Level 1",
          "Level 1",
          "Level 1",
          "Level 1",
          "Level 1",
          "Level 1",
          "Level 1",
          "Level 1",
          "Level 1",
          "Level 1",
          "Level 1",
          "Level 1",
          "Level 1",
          "Level 1",
          "Level 1",
          "Level 1",
          "Level 1",
          "Level 1",
          "Level 1",
          "Level 1",
          "Level 1",
          "Level 1",
          "Level 1",
          "Level 1",
          "Level 1",
          "Level 1",
          "Level 1",
          "Level 1",
          "Level 1",
          "Level 1",
          "Level 1",
          "Level 1",
          "Level 1",
          "Level 1",
          "Level 1",
          "Level 1",
          "Level 1",
          "Level 1",
          "Level 1",
          "Level 1",
          "Level 1",
          "Level 1",
          "Level 1",
          "Level 1",
          "Level 1",
          "Level 1",
          "Level 1",
          "Level 1",
          "Level 1",
          "Level 1",
          "Level 1",
          "Level 1",
          "Level 1",
          "Level 1",
          "Level 1",
          "Level 1",
          "Level 1",
          "Level 1",
          "Level 1",
          "Level 1",
          "Level 1",
          "Level 1",
          "Level 1",
          "Level 1",
          "Level 1",
          "Level 1",
          "Level 1",
          "Level 1",
          "Level 1",
          "Level 1",
          "Level 1",
          "Level 1",
          "Level 1",
          "Level 1",
          "Level 1",
          "Level 1",
          "Level 1",
          "Level 1",
          "Level 1",
          "Level 1",
          "Level 1",
          "Level 1",
          "Level 1",
          "Level 1",
          "Level 1",
          "Level 1",
          "Level 1",
          "Level 1",
          "Level 1",
          "Level 1",
          "Level 1",
          "Level 1",
          "Level 1",
          "Level 1",
          "Level 1",
          "Level 1",
          "Level 1",
          "Level 1",
          "Level 1",
          "Level 1",
          "Level 1",
          "Level 1",
          "Level 1",
          "Level 1",
          "Level 1",
          "Level 1",
          "Level 1",
          "Level 1",
          "Level 1",
          "Level 1",
          "Level 1",
          "Level 1",
          "Level 1",
          "Level 1",
          "Level 1",
          "Level 1",
          "Level 1",
          "Level 1",
          "Level 1",
          "Level 1",
          "Level 1",
          "Level 1",
          "Level 1",
          "Level 1",
          "Level 1",
          "Level 1",
          "Level 1",
          "Level 1",
          "Level 1",
          "Level 1",
          "Level 1",
          "Level 1",
          "Level 1",
          "Level 1",
          "Level 1",
          "Level 1",
          "Level 1",
          "Level 1",
          "Level 1",
          "Level 1",
          "Level 1",
          "Level 1",
          "Level 1",
          "Level 1",
          "Level 1",
          "Level 1",
          "Level 1",
          "Level 1",
          "Level 1",
          "Level 1",
          "Level 1",
          "Level 1",
          "Level 1",
          "Level 1",
          "Level 1",
          "Level 1",
          "Level 1",
          "Level 1",
          "Level 1",
          "Level 1",
          "Level 1",
          "Level 1",
          "Level 1",
          "Level 1",
          "Level 1",
          "Level 1",
          "Level 1",
          "Level 1",
          "Level 1",
          "Level 1",
          "Level 1",
          "Level 1",
          "Level 1",
          "Level 1",
          "Level 1",
          "Level 1",
          "Level 1",
          "Level 1",
          "Level 1",
          "Level 1",
          "Level 1",
          "Level 1",
          "Level 1",
          "Level 1",
          "Level 1",
          "Level 1",
          "Level 1",
          "Level 1",
          "Level 1",
          "Level 1",
          "Level 1",
          "Level 1",
          "Level 1",
          "Level 1",
          "Level 1",
          "Level 1",
          "Level 1",
          "Level 1",
          "Level 1",
          "Level 1",
          "Level 1",
          "Level 1",
          "Level 1",
          "Level 1",
          "Level 1",
          "Level 1",
          "Level 1",
          "Level 1",
          "Level 1",
          "Level 1",
          "Level 1",
          "Level 1",
          "Level 1",
          "Level 1",
          "Level 1",
          "Level 1",
          "Level 1",
          "Level 1",
          "Level 1",
          "Level 1",
          "Level 1",
          "Level 1",
          "Level 1",
          "Level 1",
          "Level 1",
          "Level 1",
          "Level 1",
          "Level 1",
          "Level 1",
          "Level 1",
          "Level 1",
          "Level 1",
          "Level 1",
          "Level 1",
          "Level 1",
          "Level 1",
          "Level 1",
          "Level 1",
          "Level 1",
          "Level 1",
          "Level 1",
          "Level 1",
          "Level 1",
          "Level 1",
          "Level 1",
          "Level 1",
          "Level 1",
          "Level 1",
          "Level 1",
          "Level 1",
          "Level 1",
          "Level 1",
          "Level 1",
          "Level 1",
          "Level 1",
          "Level 1",
          "Level 1",
          "Level 1",
          "Level 1",
          "Level 1",
          "Level 1",
          "Level 1",
          "Level 1",
          "Level 1",
          "Level 1",
          "Level 1",
          "Level 1",
          "Level 1",
          "Level 1",
          "Level 1",
          "Level 1",
          "Level 1",
          "Level 1",
          "Level 1",
          "Level 1",
          "Level 1"
         ],
         "x0": " ",
         "xaxis": "x",
         "y": {
          "bdata": "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",
          "dtype": "f8"
         },
         "y0": " ",
         "yaxis": "y"
        },
        {
         "alignmentgroup": "True",
         "hovertemplate": "Charger Type=%{x}<br>Charging Rate (kW)=%{y}<extra></extra>",
         "legendgroup": "Level 2",
         "marker": {
          "color": "#00cc96"
         },
         "name": "Level 2",
         "notched": false,
         "offsetgroup": "Level 2",
         "orientation": "v",
         "showlegend": true,
         "type": "box",
         "x": [
          "Level 2",
          "Level 2",
          "Level 2",
          "Level 2",
          "Level 2",
          "Level 2",
          "Level 2",
          "Level 2",
          "Level 2",
          "Level 2",
          "Level 2",
          "Level 2",
          "Level 2",
          "Level 2",
          "Level 2",
          "Level 2",
          "Level 2",
          "Level 2",
          "Level 2",
          "Level 2",
          "Level 2",
          "Level 2",
          "Level 2",
          "Level 2",
          "Level 2",
          "Level 2",
          "Level 2",
          "Level 2",
          "Level 2",
          "Level 2",
          "Level 2",
          "Level 2",
          "Level 2",
          "Level 2",
          "Level 2",
          "Level 2",
          "Level 2",
          "Level 2",
          "Level 2",
          "Level 2",
          "Level 2",
          "Level 2",
          "Level 2",
          "Level 2",
          "Level 2",
          "Level 2",
          "Level 2",
          "Level 2",
          "Level 2",
          "Level 2",
          "Level 2",
          "Level 2",
          "Level 2",
          "Level 2",
          "Level 2",
          "Level 2",
          "Level 2",
          "Level 2",
          "Level 2",
          "Level 2",
          "Level 2",
          "Level 2",
          "Level 2",
          "Level 2",
          "Level 2",
          "Level 2",
          "Level 2",
          "Level 2",
          "Level 2",
          "Level 2",
          "Level 2",
          "Level 2",
          "Level 2",
          "Level 2",
          "Level 2",
          "Level 2",
          "Level 2",
          "Level 2",
          "Level 2",
          "Level 2",
          "Level 2",
          "Level 2",
          "Level 2",
          "Level 2",
          "Level 2",
          "Level 2",
          "Level 2",
          "Level 2",
          "Level 2",
          "Level 2",
          "Level 2",
          "Level 2",
          "Level 2",
          "Level 2",
          "Level 2",
          "Level 2",
          "Level 2",
          "Level 2",
          "Level 2",
          "Level 2",
          "Level 2",
          "Level 2",
          "Level 2",
          "Level 2",
          "Level 2",
          "Level 2",
          "Level 2",
          "Level 2",
          "Level 2",
          "Level 2",
          "Level 2",
          "Level 2",
          "Level 2",
          "Level 2",
          "Level 2",
          "Level 2",
          "Level 2",
          "Level 2",
          "Level 2",
          "Level 2",
          "Level 2",
          "Level 2",
          "Level 2",
          "Level 2",
          "Level 2",
          "Level 2",
          "Level 2",
          "Level 2",
          "Level 2",
          "Level 2",
          "Level 2",
          "Level 2",
          "Level 2",
          "Level 2",
          "Level 2",
          "Level 2",
          "Level 2",
          "Level 2",
          "Level 2",
          "Level 2",
          "Level 2",
          "Level 2",
          "Level 2",
          "Level 2",
          "Level 2",
          "Level 2",
          "Level 2",
          "Level 2",
          "Level 2",
          "Level 2",
          "Level 2",
          "Level 2",
          "Level 2",
          "Level 2",
          "Level 2",
          "Level 2",
          "Level 2",
          "Level 2",
          "Level 2",
          "Level 2",
          "Level 2",
          "Level 2",
          "Level 2",
          "Level 2",
          "Level 2",
          "Level 2",
          "Level 2",
          "Level 2",
          "Level 2",
          "Level 2",
          "Level 2",
          "Level 2",
          "Level 2",
          "Level 2",
          "Level 2",
          "Level 2",
          "Level 2",
          "Level 2",
          "Level 2",
          "Level 2",
          "Level 2",
          "Level 2",
          "Level 2",
          "Level 2",
          "Level 2",
          "Level 2",
          "Level 2",
          "Level 2",
          "Level 2",
          "Level 2",
          "Level 2",
          "Level 2",
          "Level 2",
          "Level 2",
          "Level 2",
          "Level 2",
          "Level 2",
          "Level 2",
          "Level 2",
          "Level 2",
          "Level 2",
          "Level 2",
          "Level 2",
          "Level 2",
          "Level 2",
          "Level 2",
          "Level 2",
          "Level 2",
          "Level 2",
          "Level 2",
          "Level 2",
          "Level 2",
          "Level 2",
          "Level 2",
          "Level 2",
          "Level 2",
          "Level 2",
          "Level 2",
          "Level 2",
          "Level 2",
          "Level 2",
          "Level 2",
          "Level 2",
          "Level 2",
          "Level 2",
          "Level 2",
          "Level 2",
          "Level 2",
          "Level 2",
          "Level 2",
          "Level 2",
          "Level 2",
          "Level 2",
          "Level 2",
          "Level 2",
          "Level 2",
          "Level 2",
          "Level 2",
          "Level 2",
          "Level 2",
          "Level 2",
          "Level 2",
          "Level 2",
          "Level 2",
          "Level 2",
          "Level 2",
          "Level 2",
          "Level 2",
          "Level 2",
          "Level 2",
          "Level 2",
          "Level 2",
          "Level 2",
          "Level 2",
          "Level 2",
          "Level 2",
          "Level 2",
          "Level 2",
          "Level 2",
          "Level 2",
          "Level 2",
          "Level 2",
          "Level 2",
          "Level 2",
          "Level 2",
          "Level 2",
          "Level 2",
          "Level 2",
          "Level 2",
          "Level 2",
          "Level 2",
          "Level 2",
          "Level 2",
          "Level 2",
          "Level 2",
          "Level 2",
          "Level 2",
          "Level 2",
          "Level 2",
          "Level 2",
          "Level 2",
          "Level 2",
          "Level 2",
          "Level 2",
          "Level 2",
          "Level 2",
          "Level 2",
          "Level 2",
          "Level 2",
          "Level 2",
          "Level 2",
          "Level 2",
          "Level 2",
          "Level 2",
          "Level 2",
          "Level 2",
          "Level 2",
          "Level 2",
          "Level 2",
          "Level 2",
          "Level 2",
          "Level 2",
          "Level 2",
          "Level 2",
          "Level 2",
          "Level 2",
          "Level 2",
          "Level 2",
          "Level 2",
          "Level 2",
          "Level 2",
          "Level 2",
          "Level 2",
          "Level 2",
          "Level 2",
          "Level 2",
          "Level 2",
          "Level 2",
          "Level 2",
          "Level 2",
          "Level 2",
          "Level 2",
          "Level 2",
          "Level 2",
          "Level 2",
          "Level 2",
          "Level 2",
          "Level 2",
          "Level 2",
          "Level 2",
          "Level 2",
          "Level 2",
          "Level 2",
          "Level 2",
          "Level 2",
          "Level 2",
          "Level 2",
          "Level 2",
          "Level 2",
          "Level 2",
          "Level 2",
          "Level 2",
          "Level 2",
          "Level 2",
          "Level 2",
          "Level 2",
          "Level 2",
          "Level 2",
          "Level 2",
          "Level 2",
          "Level 2",
          "Level 2",
          "Level 2",
          "Level 2",
          "Level 2",
          "Level 2",
          "Level 2",
          "Level 2",
          "Level 2",
          "Level 2",
          "Level 2",
          "Level 2",
          "Level 2",
          "Level 2",
          "Level 2",
          "Level 2",
          "Level 2",
          "Level 2",
          "Level 2",
          "Level 2",
          "Level 2",
          "Level 2",
          "Level 2",
          "Level 2",
          "Level 2",
          "Level 2",
          "Level 2",
          "Level 2",
          "Level 2",
          "Level 2",
          "Level 2",
          "Level 2",
          "Level 2",
          "Level 2",
          "Level 2",
          "Level 2",
          "Level 2",
          "Level 2",
          "Level 2",
          "Level 2",
          "Level 2",
          "Level 2",
          "Level 2",
          "Level 2",
          "Level 2",
          "Level 2",
          "Level 2",
          "Level 2",
          "Level 2",
          "Level 2",
          "Level 2",
          "Level 2",
          "Level 2",
          "Level 2",
          "Level 2",
          "Level 2",
          "Level 2",
          "Level 2",
          "Level 2",
          "Level 2",
          "Level 2",
          "Level 2",
          "Level 2",
          "Level 2",
          "Level 2",
          "Level 2",
          "Level 2",
          "Level 2",
          "Level 2",
          "Level 2",
          "Level 2",
          "Level 2",
          "Level 2",
          "Level 2",
          "Level 2",
          "Level 2",
          "Level 2",
          "Level 2",
          "Level 2",
          "Level 2",
          "Level 2"
         ],
         "x0": " ",
         "xaxis": "x",
         "y": {
          "bdata": "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",
          "dtype": "f8"
         },
         "y0": " ",
         "yaxis": "y"
        }
       ],
       "layout": {
        "boxmode": "overlay",
        "font": {
         "color": "white"
        },
        "legend": {
         "title": {
          "text": "Charger Type"
         },
         "tracegroupgap": 0
        },
        "paper_bgcolor": "black",
        "plot_bgcolor": "black",
        "template": {
         "data": {
          "bar": [
           {
            "error_x": {
             "color": "#2a3f5f"
            },
            "error_y": {
             "color": "#2a3f5f"
            },
            "marker": {
             "line": {
              "color": "#E5ECF6",
              "width": 0.5
             },
             "pattern": {
              "fillmode": "overlay",
              "size": 10,
              "solidity": 0.2
             }
            },
            "type": "bar"
           }
          ],
          "barpolar": [
           {
            "marker": {
             "line": {
              "color": "#E5ECF6",
              "width": 0.5
             },
             "pattern": {
              "fillmode": "overlay",
              "size": 10,
              "solidity": 0.2
             }
            },
            "type": "barpolar"
           }
          ],
          "carpet": [
           {
            "aaxis": {
             "endlinecolor": "#2a3f5f",
             "gridcolor": "white",
             "linecolor": "white",
             "minorgridcolor": "white",
             "startlinecolor": "#2a3f5f"
            },
            "baxis": {
             "endlinecolor": "#2a3f5f",
             "gridcolor": "white",
             "linecolor": "white",
             "minorgridcolor": "white",
             "startlinecolor": "#2a3f5f"
            },
            "type": "carpet"
           }
          ],
          "choropleth": [
           {
            "colorbar": {
             "outlinewidth": 0,
             "ticks": ""
            },
            "type": "choropleth"
           }
          ],
          "contour": [
           {
            "colorbar": {
             "outlinewidth": 0,
             "ticks": ""
            },
            "colorscale": [
             [
              0,
              "#0d0887"
             ],
             [
              0.1111111111111111,
              "#46039f"
             ],
             [
              0.2222222222222222,
              "#7201a8"
             ],
             [
              0.3333333333333333,
              "#9c179e"
             ],
             [
              0.4444444444444444,
              "#bd3786"
             ],
             [
              0.5555555555555556,
              "#d8576b"
             ],
             [
              0.6666666666666666,
              "#ed7953"
             ],
             [
              0.7777777777777778,
              "#fb9f3a"
             ],
             [
              0.8888888888888888,
              "#fdca26"
             ],
             [
              1,
              "#f0f921"
             ]
            ],
            "type": "contour"
           }
          ],
          "contourcarpet": [
           {
            "colorbar": {
             "outlinewidth": 0,
             "ticks": ""
            },
            "type": "contourcarpet"
           }
          ],
          "heatmap": [
           {
            "colorbar": {
             "outlinewidth": 0,
             "ticks": ""
            },
            "colorscale": [
             [
              0,
              "#0d0887"
             ],
             [
              0.1111111111111111,
              "#46039f"
             ],
             [
              0.2222222222222222,
              "#7201a8"
             ],
             [
              0.3333333333333333,
              "#9c179e"
             ],
             [
              0.4444444444444444,
              "#bd3786"
             ],
             [
              0.5555555555555556,
              "#d8576b"
             ],
             [
              0.6666666666666666,
              "#ed7953"
             ],
             [
              0.7777777777777778,
              "#fb9f3a"
             ],
             [
              0.8888888888888888,
              "#fdca26"
             ],
             [
              1,
              "#f0f921"
             ]
            ],
            "type": "heatmap"
           }
          ],
          "histogram": [
           {
            "marker": {
             "pattern": {
              "fillmode": "overlay",
              "size": 10,
              "solidity": 0.2
             }
            },
            "type": "histogram"
           }
          ],
          "histogram2d": [
           {
            "colorbar": {
             "outlinewidth": 0,
             "ticks": ""
            },
            "colorscale": [
             [
              0,
              "#0d0887"
             ],
             [
              0.1111111111111111,
              "#46039f"
             ],
             [
              0.2222222222222222,
              "#7201a8"
             ],
             [
              0.3333333333333333,
              "#9c179e"
             ],
             [
              0.4444444444444444,
              "#bd3786"
             ],
             [
              0.5555555555555556,
              "#d8576b"
             ],
             [
              0.6666666666666666,
              "#ed7953"
             ],
             [
              0.7777777777777778,
              "#fb9f3a"
             ],
             [
              0.8888888888888888,
              "#fdca26"
             ],
             [
              1,
              "#f0f921"
             ]
            ],
            "type": "histogram2d"
           }
          ],
          "histogram2dcontour": [
           {
            "colorbar": {
             "outlinewidth": 0,
             "ticks": ""
            },
            "colorscale": [
             [
              0,
              "#0d0887"
             ],
             [
              0.1111111111111111,
              "#46039f"
             ],
             [
              0.2222222222222222,
              "#7201a8"
             ],
             [
              0.3333333333333333,
              "#9c179e"
             ],
             [
              0.4444444444444444,
              "#bd3786"
             ],
             [
              0.5555555555555556,
              "#d8576b"
             ],
             [
              0.6666666666666666,
              "#ed7953"
             ],
             [
              0.7777777777777778,
              "#fb9f3a"
             ],
             [
              0.8888888888888888,
              "#fdca26"
             ],
             [
              1,
              "#f0f921"
             ]
            ],
            "type": "histogram2dcontour"
           }
          ],
          "mesh3d": [
           {
            "colorbar": {
             "outlinewidth": 0,
             "ticks": ""
            },
            "type": "mesh3d"
           }
          ],
          "parcoords": [
           {
            "line": {
             "colorbar": {
              "outlinewidth": 0,
              "ticks": ""
             }
            },
            "type": "parcoords"
           }
          ],
          "pie": [
           {
            "automargin": true,
            "type": "pie"
           }
          ],
          "scatter": [
           {
            "fillpattern": {
             "fillmode": "overlay",
             "size": 10,
             "solidity": 0.2
            },
            "type": "scatter"
           }
          ],
          "scatter3d": [
           {
            "line": {
             "colorbar": {
              "outlinewidth": 0,
              "ticks": ""
             }
            },
            "marker": {
             "colorbar": {
              "outlinewidth": 0,
              "ticks": ""
             }
            },
            "type": "scatter3d"
           }
          ],
          "scattercarpet": [
           {
            "marker": {
             "colorbar": {
              "outlinewidth": 0,
              "ticks": ""
             }
            },
            "type": "scattercarpet"
           }
          ],
          "scattergeo": [
           {
            "marker": {
             "colorbar": {
              "outlinewidth": 0,
              "ticks": ""
             }
            },
            "type": "scattergeo"
           }
          ],
          "scattergl": [
           {
            "marker": {
             "colorbar": {
              "outlinewidth": 0,
              "ticks": ""
             }
            },
            "type": "scattergl"
           }
          ],
          "scattermap": [
           {
            "marker": {
             "colorbar": {
              "outlinewidth": 0,
              "ticks": ""
             }
            },
            "type": "scattermap"
           }
          ],
          "scattermapbox": [
           {
            "marker": {
             "colorbar": {
              "outlinewidth": 0,
              "ticks": ""
             }
            },
            "type": "scattermapbox"
           }
          ],
          "scatterpolar": [
           {
            "marker": {
             "colorbar": {
              "outlinewidth": 0,
              "ticks": ""
             }
            },
            "type": "scatterpolar"
           }
          ],
          "scatterpolargl": [
           {
            "marker": {
             "colorbar": {
              "outlinewidth": 0,
              "ticks": ""
             }
            },
            "type": "scatterpolargl"
           }
          ],
          "scatterternary": [
           {
            "marker": {
             "colorbar": {
              "outlinewidth": 0,
              "ticks": ""
             }
            },
            "type": "scatterternary"
           }
          ],
          "surface": [
           {
            "colorbar": {
             "outlinewidth": 0,
             "ticks": ""
            },
            "colorscale": [
             [
              0,
              "#0d0887"
             ],
             [
              0.1111111111111111,
              "#46039f"
             ],
             [
              0.2222222222222222,
              "#7201a8"
             ],
             [
              0.3333333333333333,
              "#9c179e"
             ],
             [
              0.4444444444444444,
              "#bd3786"
             ],
             [
              0.5555555555555556,
              "#d8576b"
             ],
             [
              0.6666666666666666,
              "#ed7953"
             ],
             [
              0.7777777777777778,
              "#fb9f3a"
             ],
             [
              0.8888888888888888,
              "#fdca26"
             ],
             [
              1,
              "#f0f921"
             ]
            ],
            "type": "surface"
           }
          ],
          "table": [
           {
            "cells": {
             "fill": {
              "color": "#EBF0F8"
             },
             "line": {
              "color": "white"
             }
            },
            "header": {
             "fill": {
              "color": "#C8D4E3"
             },
             "line": {
              "color": "white"
             }
            },
            "type": "table"
           }
          ]
         },
         "layout": {
          "annotationdefaults": {
           "arrowcolor": "#2a3f5f",
           "arrowhead": 0,
           "arrowwidth": 1
          },
          "autotypenumbers": "strict",
          "coloraxis": {
           "colorbar": {
            "outlinewidth": 0,
            "ticks": ""
           }
          },
          "colorscale": {
           "diverging": [
            [
             0,
             "#8e0152"
            ],
            [
             0.1,
             "#c51b7d"
            ],
            [
             0.2,
             "#de77ae"
            ],
            [
             0.3,
             "#f1b6da"
            ],
            [
             0.4,
             "#fde0ef"
            ],
            [
             0.5,
             "#f7f7f7"
            ],
            [
             0.6,
             "#e6f5d0"
            ],
            [
             0.7,
             "#b8e186"
            ],
            [
             0.8,
             "#7fbc41"
            ],
            [
             0.9,
             "#4d9221"
            ],
            [
             1,
             "#276419"
            ]
           ],
           "sequential": [
            [
             0,
             "#0d0887"
            ],
            [
             0.1111111111111111,
             "#46039f"
            ],
            [
             0.2222222222222222,
             "#7201a8"
            ],
            [
             0.3333333333333333,
             "#9c179e"
            ],
            [
             0.4444444444444444,
             "#bd3786"
            ],
            [
             0.5555555555555556,
             "#d8576b"
            ],
            [
             0.6666666666666666,
             "#ed7953"
            ],
            [
             0.7777777777777778,
             "#fb9f3a"
            ],
            [
             0.8888888888888888,
             "#fdca26"
            ],
            [
             1,
             "#f0f921"
            ]
           ],
           "sequentialminus": [
            [
             0,
             "#0d0887"
            ],
            [
             0.1111111111111111,
             "#46039f"
            ],
            [
             0.2222222222222222,
             "#7201a8"
            ],
            [
             0.3333333333333333,
             "#9c179e"
            ],
            [
             0.4444444444444444,
             "#bd3786"
            ],
            [
             0.5555555555555556,
             "#d8576b"
            ],
            [
             0.6666666666666666,
             "#ed7953"
            ],
            [
             0.7777777777777778,
             "#fb9f3a"
            ],
            [
             0.8888888888888888,
             "#fdca26"
            ],
            [
             1,
             "#f0f921"
            ]
           ]
          },
          "colorway": [
           "#636efa",
           "#EF553B",
           "#00cc96",
           "#ab63fa",
           "#FFA15A",
           "#19d3f3",
           "#FF6692",
           "#B6E880",
           "#FF97FF",
           "#FECB52"
          ],
          "font": {
           "color": "#2a3f5f"
          },
          "geo": {
           "bgcolor": "white",
           "lakecolor": "white",
           "landcolor": "#E5ECF6",
           "showlakes": true,
           "showland": true,
           "subunitcolor": "white"
          },
          "hoverlabel": {
           "align": "left"
          },
          "hovermode": "closest",
          "mapbox": {
           "style": "light"
          },
          "paper_bgcolor": "white",
          "plot_bgcolor": "#E5ECF6",
          "polar": {
           "angularaxis": {
            "gridcolor": "white",
            "linecolor": "white",
            "ticks": ""
           },
           "bgcolor": "#E5ECF6",
           "radialaxis": {
            "gridcolor": "white",
            "linecolor": "white",
            "ticks": ""
           }
          },
          "scene": {
           "xaxis": {
            "backgroundcolor": "#E5ECF6",
            "gridcolor": "white",
            "gridwidth": 2,
            "linecolor": "white",
            "showbackground": true,
            "ticks": "",
            "zerolinecolor": "white"
           },
           "yaxis": {
            "backgroundcolor": "#E5ECF6",
            "gridcolor": "white",
            "gridwidth": 2,
            "linecolor": "white",
            "showbackground": true,
            "ticks": "",
            "zerolinecolor": "white"
           },
           "zaxis": {
            "backgroundcolor": "#E5ECF6",
            "gridcolor": "white",
            "gridwidth": 2,
            "linecolor": "white",
            "showbackground": true,
            "ticks": "",
            "zerolinecolor": "white"
           }
          },
          "shapedefaults": {
           "line": {
            "color": "#2a3f5f"
           }
          },
          "ternary": {
           "aaxis": {
            "gridcolor": "white",
            "linecolor": "white",
            "ticks": ""
           },
           "baxis": {
            "gridcolor": "white",
            "linecolor": "white",
            "ticks": ""
           },
           "bgcolor": "#E5ECF6",
           "caxis": {
            "gridcolor": "white",
            "linecolor": "white",
            "ticks": ""
           }
          },
          "title": {
           "x": 0.05
          },
          "xaxis": {
           "automargin": true,
           "gridcolor": "white",
           "linecolor": "white",
           "ticks": "",
           "title": {
            "standoff": 15
           },
           "zerolinecolor": "white",
           "zerolinewidth": 2
          },
          "yaxis": {
           "automargin": true,
           "gridcolor": "white",
           "linecolor": "white",
           "ticks": "",
           "title": {
            "standoff": 15
           },
           "zerolinecolor": "white",
           "zerolinewidth": 2
          }
         }
        },
        "title": {
         "text": "Box Plot of Charging Rate by Charger Type"
        },
        "xaxis": {
         "anchor": "y",
         "categoryarray": [
          "DC Fast Charger",
          "Level 1",
          "Level 2"
         ],
         "categoryorder": "array",
         "domain": [
          0,
          1
         ],
         "title": {
          "text": "Charger Type"
         }
        },
        "yaxis": {
         "anchor": "x",
         "domain": [
          0,
          1
         ],
         "title": {
          "text": "Charging Rate (kW)"
         }
        }
       }
      }
     },
     "metadata": {},
     "output_type": "display_data"
    }
   ],
   "source": [
    "# Ensure the required columns exist in the DataFrame\n",
    "if 'Charger Type' in df.columns and 'Charging Rate (kW)' in df.columns:\n",
    "    fig = px.box(\n",
    "        df,\n",
    "        x='Charger Type',\n",
    "        y='Charging Rate (kW)',\n",
    "        title='Box Plot of Charging Rate by Charger Type',\n",
    "        color='Charger Type'\n",
    "    )\n",
    "\n",
    "    fig.update_layout(\n",
    "        xaxis_title='Charger Type',\n",
    "        yaxis_title='Charging Rate (kW)',\n",
    "        plot_bgcolor='black',\n",
    "        paper_bgcolor='black',\n",
    "        font_color='white'\n",
    "    )\n",
    "\n",
    "    fig.show()\n",
    "else:\n",
    "    print(\"Required columns 'Charger Type' and 'Charging Rate (kW)' are missing in the DataFrame.\")"
   ]
  },
  {
   "cell_type": "code",
   "execution_count": null,
   "id": "88868028",
   "metadata": {},
   "outputs": [],
   "source": []
  },
  {
   "cell_type": "code",
   "execution_count": null,
   "id": "852fae28",
   "metadata": {},
   "outputs": [],
   "source": []
  },
  {
   "cell_type": "code",
   "execution_count": null,
   "id": "b671adad",
   "metadata": {},
   "outputs": [],
   "source": []
  },
  {
   "cell_type": "code",
   "execution_count": null,
   "id": "1b8fee9a",
   "metadata": {},
   "outputs": [],
   "source": []
  },
  {
   "cell_type": "code",
   "execution_count": null,
   "id": "3bc09103",
   "metadata": {},
   "outputs": [],
   "source": []
  },
  {
   "cell_type": "code",
   "execution_count": null,
   "id": "d4140eb8",
   "metadata": {},
   "outputs": [],
   "source": []
  },
  {
   "cell_type": "code",
   "execution_count": null,
   "id": "2acf4b01",
   "metadata": {},
   "outputs": [],
   "source": []
  },
  {
   "cell_type": "code",
   "execution_count": null,
   "id": "f9e36d3a",
   "metadata": {},
   "outputs": [],
   "source": []
  },
  {
   "cell_type": "code",
   "execution_count": null,
   "id": "b0472af8",
   "metadata": {},
   "outputs": [],
   "source": []
  }
 ],
 "metadata": {
  "kernelspec": {
   "display_name": "base",
   "language": "python",
   "name": "python3"
  },
  "language_info": {
   "codemirror_mode": {
    "name": "ipython",
    "version": 3
   },
   "file_extension": ".py",
   "mimetype": "text/x-python",
   "name": "python",
   "nbconvert_exporter": "python",
   "pygments_lexer": "ipython3",
   "version": "3.12.9"
  }
 },
 "nbformat": 4,
 "nbformat_minor": 5
}
